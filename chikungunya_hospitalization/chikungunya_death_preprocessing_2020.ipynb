{
 "cells": [
  {
   "cell_type": "markdown",
   "id": "3a3c2ff2",
   "metadata": {},
   "source": [
    "This notebook contains code designed for data inspection and filtering, with the goal of creating classification datasets suitable for machine learning predictive tasks. Specifically, we replicate the steps used for the 2022 database, with filters numbers following it. This enables us to use the resulting datasets as validation sets for models trained with data from the main datasets. For comprehensive details about these datasets, including information about data collection methods, sources, and a dictionary of variables, please refer to the project repository on GitHub: \\url{https://github.com/gabivaleriano/HealthDataBR}"
   ]
  },
  {
   "cell_type": "code",
   "execution_count": 1,
   "id": "a0349904",
   "metadata": {},
   "outputs": [],
   "source": [
    "library(tidyverse)"
   ]
  },
  {
   "cell_type": "code",
   "execution_count": 2,
   "id": "15098e2c",
   "metadata": {},
   "outputs": [],
   "source": [
    "data <- read.csv(\"CHIKBR20.csv\")"
   ]
  },
  {
   "cell_type": "markdown",
   "id": "cefb8643",
   "metadata": {},
   "source": [
    "### Filter 1: remove duplicates"
   ]
  },
  {
   "cell_type": "code",
   "execution_count": null,
   "id": "59c385a6",
   "metadata": {},
   "outputs": [],
   "source": [
    "# check and remove duplicates\n",
    "\n",
    "data %>% dim\n",
    "data %>% unique %>% dim\n",
    "data %>% unique -> data"
   ]
  },
  {
   "cell_type": "code",
   "execution_count": null,
   "id": "81d2016f",
   "metadata": {},
   "outputs": [],
   "source": [
    "# inspecting data distribution according to state\n",
    "\n",
    "data %>% count(SG_UF_NOT)"
   ]
  },
  {
   "cell_type": "code",
   "execution_count": null,
   "id": "7c7360be",
   "metadata": {},
   "outputs": [],
   "source": [
    "# visualize data\n",
    "\n",
    "data %>% head\n",
    "data %>% colnames"
   ]
  },
  {
   "cell_type": "code",
   "execution_count": null,
   "id": "396a3629",
   "metadata": {},
   "outputs": [],
   "source": [
    "# since ano-nasc is not present is this database, age will be computed from nu_idade_n\n",
    "\n",
    "data %>% count(NU_IDADE_N) %>% head"
   ]
  },
  {
   "cell_type": "code",
   "execution_count": null,
   "id": "953e1a7a",
   "metadata": {},
   "outputs": [],
   "source": [
    "# the information must contain at least 4 digits\n",
    "# when it starts with 10 - hours, 20 - days, 30 - months, 40 - years \n",
    "\n",
    "# remove information with less than 4 digits\n",
    "\n",
    "data %>% filter(NU_IDADE_N > 1000) %>% count(NU_IDADE_N) %>% head\n",
    "\n",
    "data %>% filter(NU_IDADE_N > 1000) -> data\n",
    "\n"
   ]
  },
  {
   "cell_type": "code",
   "execution_count": null,
   "id": "bacede2f",
   "metadata": {},
   "outputs": [],
   "source": [
    "# remove information that is not coherent\n",
    "\n",
    "data %>% filter(!(NU_IDADE_N > 2030 & NU_IDADE_N < 3000)) %>% filter(NU_IDADE_N> 2025) %>% \n",
    "    count(NU_IDADE_N) %>% head\n",
    "\n",
    "data %>% filter(!(NU_IDADE_N > 2030 & NU_IDADE_N < 3000)) -> data\n"
   ]
  },
  {
   "cell_type": "code",
   "execution_count": null,
   "id": "4366004d",
   "metadata": {},
   "outputs": [],
   "source": [
    "# remove information that is not coherent\n",
    "\n",
    "data %>% filter(!(NU_IDADE_N > 3012 & NU_IDADE_N < 4000)) %>% filter(NU_IDADE_N> 3010) %>% \n",
    "    count(NU_IDADE_N) %>% head\n",
    "\n",
    "data %>% filter(!(NU_IDADE_N > 3012 & NU_IDADE_N < 4000)) ->data\n"
   ]
  },
  {
   "cell_type": "code",
   "execution_count": null,
   "id": "e7190f19",
   "metadata": {},
   "outputs": [],
   "source": [
    "# transform in years \n",
    "\n",
    "# if is less than 4000 the patient has not complete one year\n",
    "data %>% mutate(age = ifelse(NU_IDADE_N < 4000, 0, (NU_IDADE_N - round(NU_IDADE_N, -2)))) %>% \n",
    "    select(age, NU_IDADE_N) %>% head\n",
    "\n",
    "data %>% mutate(age = ifelse(NU_IDADE_N < 4000, 0, (NU_IDADE_N - 4000))) -> data"
   ]
  },
  {
   "cell_type": "code",
   "execution_count": null,
   "id": "66ed80e2",
   "metadata": {},
   "outputs": [],
   "source": [
    "# inspect possible target features\n",
    "\n",
    "data %>% count(EVOLUCAO)\n",
    "data %>% count(HOSPITALIZ)\n",
    "\n",
    "data %>% dim"
   ]
  },
  {
   "cell_type": "code",
   "execution_count": null,
   "id": "790587de",
   "metadata": {},
   "outputs": [],
   "source": [
    "# check how many regions, states and cities are present in the database\n",
    "\n",
    "data %>% select(ID_REGIONA) %>% unique %>% dim\n",
    "data %>% select(ID_MUNICIP) %>% unique %>% dim\n",
    "data %>% select(SG_UF_NOT) %>% unique %>% dim\n",
    "data %>% select(SG_UF) %>% unique %>% dim\n",
    "\n",
    "data %>% select(ID_MN_RESI) %>% unique %>% dim\n",
    "data %>% select(ID_PAIS) %>% unique %>% dim\n",
    "data %>% select(ID_RG_RESI) %>% unique %>% dim\n",
    "\n",
    "data %>% select(ID_UNIDADE) %>% unique %>% dim\n",
    "\n",
    "data %>% select(UF) %>% unique %>% dim\n",
    "data %>% select(MUNICIPIO) %>% unique %>% dim"
   ]
  },
  {
   "cell_type": "markdown",
   "id": "cc3420e7",
   "metadata": {},
   "source": [
    "### Delete columns"
   ]
  },
  {
   "cell_type": "code",
   "execution_count": null,
   "id": "0997550e",
   "metadata": {},
   "outputs": [],
   "source": [
    "#keep only id related with the city\n",
    "\n",
    "data %>% select(-c(ID_REGIONA, ID_MUNICIP, SG_UF, ID_PAIS, ID_RG_RESI, UF, MUNICIPIO)) -> data\n",
    "\n",
    "# mostly NA values\n",
    "\n",
    "data %>% count(TPAUTOCTO)\n",
    "data %>% count(COPAISINF)\n",
    "data %>% count(COMUNINF) \n",
    "data %>% count(TP_SISTEMA)\n",
    "\n",
    "data %>% count(NDUPLIC_N)\n",
    "data %>% count(COMPLICA)\n",
    "data %>% count(CON_FHD)\n",
    "\n",
    "data %>% count(SOROTIPO)\n",
    "data %>% count(HISTOPA_N)\n",
    "data %>% count(IMUNOH_N)\n",
    "data %>% count(DOENCA_TRA)\n",
    "data %>% count(ALRM_HIPOT)\n",
    "\n",
    "data %>% count(TP_NOT)\n",
    "data %>% count(ID_AGRAVO)\n",
    "data %>% count(NU_ANO)\n",
    "\n",
    "\n",
    "data %>% select(-c(TP_NOT, ID_AGRAVO, NU_ANO)) -> data\n",
    "data %>% select(-c(TPAUTOCTO, COPAISINF, COUFINF, COMUNINF)) -> data\n",
    "data %>% select(-c(TP_SISTEMA)) -> data\n",
    "data %>% select(-c(NDUPLIC_N, COMPLICA, CON_FHD)) -> data\n",
    "data %>% select(-c(SOROTIPO, HISTOPA_N, IMUNOH_N, DOENCA_TRA, ALRM_HIPOT)) -> data\n",
    "data %>% select(-c(NU_IDADE_N)) -> data\n",
    "\n",
    "# this dates usually are the same and refer to the date of digitalization\n",
    "\n",
    "data %>% select(-c(DT_NOTIFIC, DT_ENCERRA, DT_INVEST, CRITERIO)) -> data\n",
    "\n",
    "data %>% select(ALRM_PLAQ:ALRM_LIQ) %>% summary\n",
    "data %>% select(GRAV_PULSO:GRAV_ORGAO) %>% summary\n",
    "data %>% select(MANI_HEMOR:PLAQ_MENOR) %>% summary\n",
    "\n",
    "data %>% select(-c(ALRM_PLAQ:PLAQ_MENOR)) -> data \n",
    "\n",
    "data %>% dim\n",
    "\n",
    "data %>% colnames"
   ]
  },
  {
   "cell_type": "markdown",
   "id": "adb2c67e",
   "metadata": {},
   "source": [
    "### Filter 2: Remove if is na for state or health unit"
   ]
  },
  {
   "cell_type": "code",
   "execution_count": null,
   "id": "73dffc70",
   "metadata": {},
   "outputs": [],
   "source": [
    "data %>% filter(!is.na(SG_UF_NOT)) -> data\n",
    "\n",
    "data %>% dim\n",
    "\n",
    "data %>% count(EVOLUCAO)\n",
    "data %>% count(HOSPITALIZ)"
   ]
  },
  {
   "cell_type": "markdown",
   "id": "1b2cf346",
   "metadata": {},
   "source": [
    "### Remove columns "
   ]
  },
  {
   "cell_type": "code",
   "execution_count": null,
   "id": "214d29bd",
   "metadata": {},
   "outputs": [],
   "source": [
    "# ID_OCUPA_N seems to not be filled consistently\n",
    "# it refers to area of activity and should be filled with the same value (not aplicable) to children \n",
    "# sem_not is the epidemiologic week of notification, sem_pri is the epidemiologic week of the first symptoms\n",
    "\n",
    "data %>% filter(age< 5) %>% count(ID_OCUPA_N) %>% slice(1:15)\n",
    "data %>% select(-c(ID_OCUPA_N, SEM_NOT)) -> data"
   ]
  },
  {
   "cell_type": "markdown",
   "id": "395d4451",
   "metadata": {},
   "source": [
    "### Filter 4: remove patients older than 110 years and younger than 12"
   ]
  },
  {
   "cell_type": "code",
   "execution_count": null,
   "id": "3c07b230",
   "metadata": {},
   "outputs": [],
   "source": [
    "# remove patients older than 110 years old \n",
    "data %>% filter(age < 111) -> data\n",
    "\n",
    "# remove patients younger than 16 years old\n",
    "data %>% filter(age > 11) -> data\n",
    "\n",
    "data %>% dim\n",
    "\n",
    "data %>% count(EVOLUCAO)\n",
    "data %>% count(HOSPITALIZ)"
   ]
  },
  {
   "cell_type": "markdown",
   "id": "38c09d91",
   "metadata": {},
   "source": [
    "### Filter 5: remove patients without sex information"
   ]
  },
  {
   "cell_type": "code",
   "execution_count": null,
   "id": "0a5b4840",
   "metadata": {},
   "outputs": [],
   "source": [
    "# remove patients without sex information\n",
    "\n",
    "data %>% count(CS_SEXO)\n",
    "data %>% filter(CS_SEXO == 'F' | CS_SEXO == 'M') %>% count(CS_SEXO)\n",
    "data %>% filter(CS_SEXO == 'F' | CS_SEXO == 'M') -> data\n",
    "data %>% dim\n",
    "\n",
    "# create a new column with numeric values\n",
    "\n",
    "data %>% mutate(sex = if_else(CS_SEXO == 'M', 0, 1)) %>% count(sex)\n",
    "data %>% mutate(sex = if_else(CS_SEXO == 'M', 0, 1)) -> data\n",
    "\n",
    "# remove the former column\n",
    "data %>% select(-CS_SEXO) -> data\n",
    "\n",
    "data %>% dim\n",
    "\n",
    "data %>% count(EVOLUCAO)\n",
    "data %>% count(HOSPITALIZ)"
   ]
  },
  {
   "cell_type": "code",
   "execution_count": null,
   "id": "9f5b54af",
   "metadata": {},
   "outputs": [],
   "source": [
    "# check the column pregnancy for each sex\n",
    "# transform na values in the column pregnancy in 0 (not pregnant)\n",
    "\n",
    "data %>% count(CS_GESTANT)\n",
    "\n",
    "data %>% filter(sex == 1) %>% count(CS_GESTANT)\n",
    "\n",
    "data %>% filter(sex == 0) %>% count(CS_GESTANT)\n",
    "\n",
    "data %>% mutate(CS_GESTANT = if_else(is.na(CS_GESTANT), 0, CS_GESTANT)) %>% count(CS_GESTANT)\n",
    "\n",
    "data %>% mutate(CS_GESTANT = if_else(is.na(CS_GESTANT), 0, CS_GESTANT)) -> data"
   ]
  },
  {
   "cell_type": "code",
   "execution_count": null,
   "id": "1bf7943f",
   "metadata": {},
   "outputs": [],
   "source": [
    "# transform the column pregnant in binary, orignally diferent values refer to difernt stages on pregnancy\n",
    "\n",
    "data %>% mutate(pregnant = if_else((CS_GESTANT == 1 | \n",
    "                               CS_GESTANT == 2 | \n",
    "                               CS_GESTANT == 3 | \n",
    "                               CS_GESTANT == 4), 1, 0)) %>% count(pregnant)\n",
    "\n",
    "\n",
    "data %>% mutate(pregnant = if_else((CS_GESTANT == 1 | \n",
    "                               CS_GESTANT == 2 | \n",
    "                               CS_GESTANT == 3 | \n",
    "                               CS_GESTANT == 4), 1, 0)) -> data\n",
    "\n",
    "data %>% select(-CS_GESTANT) -> data"
   ]
  },
  {
   "cell_type": "markdown",
   "id": "1e1350b9",
   "metadata": {},
   "source": [
    "### Filter 6: remove patients without race information"
   ]
  },
  {
   "cell_type": "code",
   "execution_count": null,
   "id": "d0edd344",
   "metadata": {},
   "outputs": [],
   "source": [
    "# remove unknown race, or na values\n",
    "\n",
    "data %>% count(CS_RACA)\n",
    "\n",
    "data %>% filter(!is.na(CS_RACA)) %>% filter(CS_RACA < 9) %>% count(CS_RACA)\n",
    "\n",
    "data %>% filter(!is.na(CS_RACA)) %>% filter(CS_RACA < 9) -> data\n",
    "\n",
    "data %>% dim\n",
    "\n",
    "data %>% count(EVOLUCAO)\n",
    "data %>% count(HOSPITALIZ)"
   ]
  },
  {
   "cell_type": "code",
   "execution_count": null,
   "id": "1322e5e0",
   "metadata": {},
   "outputs": [],
   "source": [
    "# check year of schooling. 9 = unknown. \n",
    "data %>% count(CS_ESCOL_N)\n",
    "\n",
    "data$CS_ESCOL_N[data$CS_ESCOL_N == 9] <- NA\n",
    "\n",
    "data %>% count(CS_ESCOL_N)"
   ]
  },
  {
   "cell_type": "code",
   "execution_count": null,
   "id": "41affa7b",
   "metadata": {},
   "outputs": [],
   "source": [
    "# how many groups by age, race, city and sex\n",
    "data %>% group_by(age, CS_RACA, ID_MN_RESI, sex) %>% n_groups\n",
    "\n",
    "# create a new column with the average\n",
    "data %>% group_by(age, CS_RACA, ID_MN_RESI, sex) %>% mutate(average = mean(CS_ESCOL_N, na.rm=TRUE)) %>% \n",
    "    ungroup -> data\n",
    "\n",
    "# when CS_ESCOL_N is na change by the average\n",
    "data %>% mutate(CS_ESCOL_N = if_else((is.na(CS_ESCOL_N)), round(average), CS_ESCOL_N)) %>% count(CS_ESCOL_N)\n",
    "data %>% mutate(CS_ESCOL_N = if_else((is.na(CS_ESCOL_N)), round(average), CS_ESCOL_N)) -> data\n",
    "data %>% select(-average) -> data"
   ]
  },
  {
   "cell_type": "code",
   "execution_count": null,
   "id": "ab7c972b",
   "metadata": {},
   "outputs": [],
   "source": [
    "# create a new column with the average\n",
    "data %>% group_by(age, CS_RACA, sex) %>% mutate(average = mean(CS_ESCOL_N, na.rm=TRUE)) %>% \n",
    "    ungroup -> data\n",
    "\n",
    "# when CS_ESCOL_N is na change by the average\n",
    "data %>% mutate(CS_ESCOL_N = if_else((is.na(CS_ESCOL_N)), round(average), CS_ESCOL_N)) %>% count(CS_ESCOL_N)\n",
    "data %>% mutate(CS_ESCOL_N = if_else((is.na(CS_ESCOL_N)), round(average), CS_ESCOL_N)) -> data\n",
    "data %>% select(-average) -> data"
   ]
  },
  {
   "cell_type": "markdown",
   "id": "71deaf4c",
   "metadata": {},
   "source": [
    "### Filter 7: remove patients without schooling information (after input by group)"
   ]
  },
  {
   "cell_type": "code",
   "execution_count": null,
   "id": "90ca4bec",
   "metadata": {},
   "outputs": [],
   "source": [
    "# if is still na, drop it\n",
    "\n",
    "data %>% count(CS_ESCOL_N)\n",
    "\n",
    "data %>% filter(!(is.na(CS_ESCOL_N))) -> data\n",
    "\n",
    "data %>% count(EVOLUCAO)\n",
    "data %>% count(HOSPITALIZ)\n",
    "\n",
    "data %>% dim"
   ]
  },
  {
   "cell_type": "markdown",
   "id": "af50f849",
   "metadata": {},
   "source": [
    "### Delete columns "
   ]
  },
  {
   "cell_type": "code",
   "execution_count": null,
   "id": "622e683a",
   "metadata": {},
   "outputs": [],
   "source": [
    "# this feature is correlated with uf \n",
    "\n",
    "data %>% select(-ID_MN_RESI) -> data"
   ]
  },
  {
   "cell_type": "code",
   "execution_count": null,
   "id": "517a2dbb",
   "metadata": {},
   "outputs": [],
   "source": [
    "# check the presence of na's inside the columns of symptoms and comorbities\n",
    "\n",
    "sum(is.na(data %>% select(FEBRE:AUTO_IMUNE)))"
   ]
  },
  {
   "cell_type": "code",
   "execution_count": null,
   "id": "f15420f0",
   "metadata": {},
   "outputs": [],
   "source": [
    "# check if the NA's are in the same rows\n",
    "\n",
    "data %>% filter(!is.na(FEBRE)) -> teste\n",
    "sum(is.na(teste %>% select(FEBRE:AUTO_IMUNE)))"
   ]
  },
  {
   "cell_type": "markdown",
   "id": "bd635e8c",
   "metadata": {},
   "source": [
    "### Filter: rows with NA for the symptoms"
   ]
  },
  {
   "cell_type": "code",
   "execution_count": null,
   "id": "6d4071b1",
   "metadata": {},
   "outputs": [],
   "source": [
    "# filter rows with NA for the symptoms\n",
    "\n",
    "data %>% filter(!is.na(FEBRE)) -> data\n",
    "\n",
    "data %>% dim\n",
    "data %>% count(EVOLUCAO)\n",
    "data %>% count(HOSPITALIZ)"
   ]
  },
  {
   "cell_type": "code",
   "execution_count": null,
   "id": "a8c0bd5e",
   "metadata": {},
   "outputs": [],
   "source": [
    "# the value 2 means the non-occurrence of a symptom, change this to 0\n",
    "\n",
    "data %>% select(FEBRE:AUTO_IMUNE, HOSPITALIZ) -> symptoms\n",
    "data %>% select(!(FEBRE:AUTO_IMUNE)) %>% select(-c(HOSPITALIZ)) -> others\n",
    "\n",
    "symptoms %>% head\n",
    "\n",
    "symptoms <- symptoms %>%\n",
    "  mutate_all(~ ifelse(. == 2, 0, .))\n",
    "\n",
    "symptoms %>% head\n",
    "\n",
    "symptoms %>% cbind(others) -> data\n",
    "\n",
    "data$EVOLUCAO[data$EVOLUCAO == 1] <- 0\n",
    "data$EVOLUCAO[data$EVOLUCAO == 2] <- 1"
   ]
  },
  {
   "cell_type": "markdown",
   "id": "e85fe105",
   "metadata": {},
   "source": [
    "### Filter 8: keep only patients in the acute stage of the disease"
   ]
  },
  {
   "cell_type": "code",
   "execution_count": null,
   "id": "47c75d97",
   "metadata": {},
   "outputs": [],
   "source": [
    "# only patients in the acute stage \n",
    "\n",
    "data %>% filter(CLINC_CHIK == 1) -> data\n",
    "data %>% select(-CLINC_CHIK) -> data"
   ]
  },
  {
   "cell_type": "code",
   "execution_count": null,
   "id": "3cb388c3",
   "metadata": {},
   "outputs": [],
   "source": [
    "# date of the first symptoms \n",
    "\n",
    "# change format\n",
    "\n",
    "data$DT_SIN_PRI <- as.Date(data$DT_SIN_PRI)\n",
    "\n",
    "# first and last date\n",
    "\n",
    "data %>% select(DT_SIN_PRI) %>% arrange(DT_SIN_PRI) %>% slice(1)\n",
    "data %>% select(DT_SIN_PRI) %>% arrange(desc(DT_SIN_PRI)) %>% slice(1)\n",
    "\n"
   ]
  },
  {
   "cell_type": "markdown",
   "id": "4c03007d",
   "metadata": {},
   "source": [
    "### Filter: remove notifications from previous years"
   ]
  },
  {
   "cell_type": "code",
   "execution_count": null,
   "id": "824acbc7",
   "metadata": {},
   "outputs": [],
   "source": [
    "data %>% filter(SEM_PRI > 202000) -> data\n",
    "\n",
    "# change date format\n",
    "\n",
    "data %>% mutate(SEM_PRI = SEM_PRI - 202200) -> data\n",
    "\n",
    "data %>% dim\n",
    "data %>% colnames"
   ]
  },
  {
   "cell_type": "code",
   "execution_count": null,
   "id": "de642111",
   "metadata": {},
   "outputs": [],
   "source": [
    "data %>% select(-c('DT_CHIK_S1','DT_CHIK_S2','DT_PRNT',\n",
    "                   'RES_CHIKS1','RES_CHIKS2','RESUL_PRNT',\n",
    "                   'DT_SORO','RESUL_SORO','DT_NS1','RESUL_NS1','DT_VIRAL',\n",
    "                   'RESUL_VI_N','DT_PCR','RESUL_PCR_')) -> data"
   ]
  },
  {
   "cell_type": "code",
   "execution_count": null,
   "id": "9edf9c05",
   "metadata": {},
   "outputs": [],
   "source": [
    "colnames(data) <- c(\"fever\", 'myalgia','headache',\n",
    "                  'exanthema', 'vomiting','nausea',\n",
    "                  'back_pain','conjunctivitis', 'arthritis', \n",
    "                  'arthralgia', 'petechiae', 'leukopenia', \n",
    "                  'lasso_prove', 'retro_orbital_pain', 'diabetes', \n",
    "                  'hematological_diseases', 'hepatopathies', 'chronic_kidney_disease', \n",
    "                  'arterial_hypertension', 'acid_peptic_disease', 'autoimmune_diseases',\n",
    "                  'hospitalization','id_state','id_place',\n",
    "                  'dt_first_symptoms', 'epidemiological_week', \n",
    "                  'race', 'schooling_years', 'dt_hospitalization', \n",
    "                  'chikungunya', 'death', 'dt_death', \n",
    "                  'age', 'sex', 'pregnancy')"
   ]
  },
  {
   "cell_type": "markdown",
   "id": "c4d0d337",
   "metadata": {},
   "source": [
    "### Filter 9: only patients cured or dead with the disease "
   ]
  },
  {
   "cell_type": "markdown",
   "id": "df423ced",
   "metadata": {},
   "source": [
    "1- cura (cured), 2- óbito pelo agravo (death by chikungunya) 3- óbito por outras causas (death by other reasons) 4- óbito em investigação (death under investigation) 9- ignorado (ignored)"
   ]
  },
  {
   "cell_type": "code",
   "execution_count": null,
   "id": "ff1ee881",
   "metadata": {},
   "outputs": [],
   "source": [
    "# only cured or dead by the disease\n",
    "\n",
    "data %>% count(death)\n",
    "data %>% filter(death == 1 | death == 0) -> data\n",
    "\n",
    "data %>% dim\n",
    "\n",
    "data %>% count(death)"
   ]
  },
  {
   "cell_type": "code",
   "execution_count": null,
   "id": "36db4545",
   "metadata": {},
   "outputs": [],
   "source": [
    "# filter hospitalized patients\n",
    "\n",
    "data %>% filter(hospitalization == 1) %>% count(death)\n",
    "data %>% filter(hospitalization == 1) -> data"
   ]
  },
  {
   "cell_type": "code",
   "execution_count": null,
   "id": "13017720",
   "metadata": {},
   "outputs": [],
   "source": [
    "# create a column with the number of days between the disease investigation and death\n",
    "\n",
    "data$dt_hospitalization <- as.Date(data$dt_hospitalization)\n",
    "data$dt_death <- as.Date(data$dt_death)\n",
    "\n",
    "data %>% mutate(days = difftime(dt_death, dt_hospitalization, units = 'days')) -> data\n",
    "\n",
    "data$days <- as.numeric(data$days)\n",
    "\n",
    "data %>% count(days)"
   ]
  },
  {
   "cell_type": "markdown",
   "id": "f4d3ce0a",
   "metadata": {},
   "source": [
    "### Filter 10: remove patients that died with more than 30 days after first symptoms"
   ]
  },
  {
   "cell_type": "code",
   "execution_count": null,
   "id": "75779644",
   "metadata": {},
   "outputs": [],
   "source": [
    "# remove patients that died after 30 days of the first sympthoms\n",
    "\n",
    "data %>% filter(days < 31| is.na(days)) -> data\n",
    "\n",
    "data %>% count(death)"
   ]
  },
  {
   "cell_type": "code",
   "execution_count": null,
   "id": "a3d414f7",
   "metadata": {},
   "outputs": [],
   "source": [
    "data %>% select(c('fever','myalgia','headache','exanthema','vomiting','nausea','back_pain','arthritis',\n",
    "                  'arthralgia','diabetes','chronic_kidney_disease','arterial_hypertension','id_state',\n",
    "                  'id_place','epidemiological_week','race','schooling_years','death','age','sex')) -> data"
   ]
  },
  {
   "cell_type": "code",
   "execution_count": null,
   "id": "9a438c33",
   "metadata": {},
   "outputs": [],
   "source": [
    "data %>% colnames\n",
    "\n",
    "data %>% dim\n",
    "\n",
    "data %>% count(death)\n",
    "\n",
    "data %>% select(fever:schooling_years, age, sex, death) -> data\n",
    "data %>% write_csv('chikungunya_death_dataset_2020.csv')"
   ]
  }
 ],
 "metadata": {
  "kernelspec": {
   "display_name": "R",
   "language": "R",
   "name": "ir"
  },
  "language_info": {
   "codemirror_mode": "r",
   "file_extension": ".r",
   "mimetype": "text/x-r-source",
   "name": "R",
   "pygments_lexer": "r",
   "version": "4.2.2"
  }
 },
 "nbformat": 4,
 "nbformat_minor": 5
}
