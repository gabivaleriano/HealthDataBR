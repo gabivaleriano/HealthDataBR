{
 "cells": [
  {
   "cell_type": "markdown",
   "id": "f5a4c399",
   "metadata": {},
   "source": [
    "This notebook contains the steps performed for data inspection and filtering, with the goal of creating a classification dataset suitable for machine learning predictive models. The objective of the classification task is to predict hospitalization from the information contained in the moment of the disease notification. For more comprehensive details about the datasets, including information about data collection methods, sources, and a dictionary of variables, please visit the project repository on GitHub: https://github.com/gabivaleriano/HealthDataBR."
   ]
  },
  {
   "cell_type": "code",
   "execution_count": 1,
   "id": "a0349904",
   "metadata": {
    "scrolled": true
   },
   "outputs": [
    {
     "name": "stderr",
     "output_type": "stream",
     "text": [
      "── \u001b[1mAttaching core tidyverse packages\u001b[22m ──────────────────────── tidyverse 2.0.0 ──\n",
      "\u001b[32m✔\u001b[39m \u001b[34mdplyr    \u001b[39m 1.1.2     \u001b[32m✔\u001b[39m \u001b[34mreadr    \u001b[39m 2.1.4\n",
      "\u001b[32m✔\u001b[39m \u001b[34mforcats  \u001b[39m 1.0.0     \u001b[32m✔\u001b[39m \u001b[34mstringr  \u001b[39m 1.5.0\n",
      "\u001b[32m✔\u001b[39m \u001b[34mggplot2  \u001b[39m 3.4.2     \u001b[32m✔\u001b[39m \u001b[34mtibble   \u001b[39m 3.2.1\n",
      "\u001b[32m✔\u001b[39m \u001b[34mlubridate\u001b[39m 1.9.2     \u001b[32m✔\u001b[39m \u001b[34mtidyr    \u001b[39m 1.3.0\n",
      "\u001b[32m✔\u001b[39m \u001b[34mpurrr    \u001b[39m 1.0.1     \n",
      "── \u001b[1mConflicts\u001b[22m ────────────────────────────────────────── tidyverse_conflicts() ──\n",
      "\u001b[31m✖\u001b[39m \u001b[34mdplyr\u001b[39m::\u001b[32mfilter()\u001b[39m masks \u001b[34mstats\u001b[39m::filter()\n",
      "\u001b[31m✖\u001b[39m \u001b[34mdplyr\u001b[39m::\u001b[32mlag()\u001b[39m    masks \u001b[34mstats\u001b[39m::lag()\n",
      "\u001b[36mℹ\u001b[39m Use the conflicted package (\u001b[3m\u001b[34m<http://conflicted.r-lib.org/>\u001b[39m\u001b[23m) to force all conflicts to become errors\n"
     ]
    }
   ],
   "source": [
    "library(tidyverse)"
   ]
  },
  {
   "cell_type": "code",
   "execution_count": 2,
   "id": "15098e2c",
   "metadata": {},
   "outputs": [
    {
     "name": "stderr",
     "output_type": "stream",
     "text": [
      "Warning message in file(file, \"rt\"):\n",
      "“cannot open file 'CHIKBR22.csv': No such file or directory”\n"
     ]
    },
    {
     "ename": "ERROR",
     "evalue": "Error in file(file, \"rt\"): cannot open the connection\n",
     "output_type": "error",
     "traceback": [
      "Error in file(file, \"rt\"): cannot open the connection\nTraceback:\n",
      "1. read.csv(\"CHIKBR22.csv\")",
      "2. read.table(file = file, header = header, sep = sep, quote = quote, \n .     dec = dec, fill = fill, comment.char = comment.char, ...)",
      "3. file(file, \"rt\")"
     ]
    }
   ],
   "source": [
    "# read data\n",
    "data <- read.csv('CHIKBR22.csv')"
   ]
  },
  {
   "cell_type": "markdown",
   "id": "792a18c6",
   "metadata": {},
   "source": [
    "### Filter 1: remove duplicates"
   ]
  },
  {
   "cell_type": "code",
   "execution_count": null,
   "id": "59c385a6",
   "metadata": {},
   "outputs": [],
   "source": [
    "# check and remove duplicates\n",
    "\n",
    "data %>% dim\n",
    "data %>% unique %>% dim\n",
    "data %>% unique -> data"
   ]
  },
  {
   "cell_type": "code",
   "execution_count": null,
   "id": "db27cc8d",
   "metadata": {},
   "outputs": [],
   "source": [
    "# inspecting data distribution according to state\n",
    "\n",
    "data %>% count(SG_UF_NOT)"
   ]
  },
  {
   "cell_type": "code",
   "execution_count": null,
   "id": "7c7360be",
   "metadata": {},
   "outputs": [],
   "source": [
    "# visualize data\n",
    "\n",
    "data %>% head\n",
    "data %>% colnames"
   ]
  },
  {
   "cell_type": "code",
   "execution_count": null,
   "id": "66ed80e2",
   "metadata": {},
   "outputs": [],
   "source": [
    "# inspect target features\n",
    "\n",
    "data %>% count(EVOLUCAO)\n",
    "data %>% count(HOSPITALIZ)\n",
    "\n",
    "data %>% dim"
   ]
  },
  {
   "cell_type": "code",
   "execution_count": null,
   "id": "790587de",
   "metadata": {},
   "outputs": [],
   "source": [
    "# check how many regions, states and cities are present in the database\n",
    "\n",
    "data %>% select(ID_REGIONA) %>% unique %>% dim\n",
    "data %>% select(ID_MUNICIP) %>% unique %>% dim\n",
    "data %>% select(SG_UF_NOT) %>% unique %>% dim\n",
    "data %>% select(SG_UF) %>% unique %>% dim\n",
    "\n",
    "data %>% select(ID_MN_RESI) %>% unique %>% dim\n",
    "data %>% select(ID_PAIS) %>% unique %>% dim\n",
    "data %>% select(ID_RG_RESI) %>% unique %>% dim\n",
    "\n",
    "data %>% select(ID_UNIDADE) %>% unique %>% dim\n",
    "\n",
    "data %>% select(UF) %>% unique %>% dim\n",
    "data %>% select(MUNICIPIO) %>% unique %>% dim\n"
   ]
  },
  {
   "cell_type": "markdown",
   "id": "aceef5a1",
   "metadata": {},
   "source": [
    "### Delete columns"
   ]
  },
  {
   "cell_type": "code",
   "execution_count": null,
   "id": "a1e0a0b5",
   "metadata": {},
   "outputs": [],
   "source": [
    "# keep only id_state\n",
    "\n",
    "data %>% select(-c(ID_REGIONA, ID_MUNICIP, SG_UF, ID_PAIS, ID_RG_RESI, UF, MUNICIPIO, ID_UNIDADE)) -> data\n",
    "\n",
    "\n",
    "# monstly NA values\n",
    "\n",
    "data %>% count(TPAUTOCTO)\n",
    "data %>% count(COPAISINF)\n",
    "data %>% count(COMUNINF) \n",
    "\n",
    "data %>% count(NU_LOTE_I)\n",
    "data %>% count(TP_SISTEMA)\n",
    "data %>% count(CS_FLXRET)\n",
    "data %>% count(FLXRECEBI)\n",
    "\n",
    "data %>% count(MIGRADO_W)\n",
    "data %>% count(NDUPLIC_N)\n",
    "data %>% count(COMPLICA)\n",
    "data %>% count(CON_FHD)\n",
    "\n",
    "data %>% count(SOROTIPO)\n",
    "data %>% count(HISTOPA_N)\n",
    "data %>% count(IMUNOH_N)\n",
    "data %>% count(DOENCA_TRA)\n",
    "data %>% count(ALRM_HIPOT)\n",
    "\n",
    "data %>% count(TP_NOT)\n",
    "data %>% count(ID_AGRAVO)\n",
    "data %>% count(NU_ANO)\n",
    "\n",
    "data %>% select(-c(TPAUTOCTO, COPAISINF, COUFINF, COMUNINF)) -> data\n",
    "data %>% select(-c(NU_LOTE_I, TP_SISTEMA, CS_FLXRET, FLXRECEBI, DT_DIGITA)) -> data\n",
    "data %>% select(-c(MIGRADO_W, NDUPLIC_N, COMPLICA, CON_FHD)) -> data\n",
    "data %>% select(-c(SOROTIPO, HISTOPA_N, IMUNOH_N, DOENCA_TRA, ALRM_HIPOT)) -> data\n",
    "data %>% select(-c(TP_NOT, ID_AGRAVO, NU_ANO)) -> data\n",
    "\n",
    "data %>% select(ALRM_PLAQ:ALRM_LIQ) %>% summary\n",
    "data %>% select(GRAV_PULSO:GRAV_ORGAO) %>% summary\n",
    "data %>% select(MANI_HEMOR:PLAQ_MENOR) %>% summary\n",
    "\n",
    "data %>% select(-c(ALRM_PLAQ:PLAQ_MENOR)) -> data \n",
    "\n",
    "# NU_IDADE_N refers to age in a diferent format\n",
    "\n",
    "data %>% select(-c(NU_IDADE_N)) -> data\n",
    "\n",
    "# this dates usually are the same and refer to the date of digitalization\n",
    "\n",
    "data %>% select(-c(DT_NOTIFIC, DT_ENCERRA, DT_INVEST, CRITERIO)) -> data\n",
    "\n",
    "# we adopted the final classification to consider a positive case, remove test results and test dates\n",
    "\n",
    "data %>% select(-c(DT_CHIK_S1:RESUL_PCR_)) -> data\n",
    "\n",
    "data %>% dim\n",
    "data %>% count(EVOLUCAO)\n",
    "data %>% count(HOSPITALIZ)\n",
    "data %>% colnames"
   ]
  },
  {
   "cell_type": "markdown",
   "id": "3231af44",
   "metadata": {},
   "source": [
    "### Filter 2: remove patients without information of state "
   ]
  },
  {
   "cell_type": "code",
   "execution_count": null,
   "id": "927c5164",
   "metadata": {},
   "outputs": [],
   "source": [
    "data <- data %>%  filter(!is.na(SG_UF_NOT))\n",
    "\n",
    "data %>% dim\n",
    "\n",
    "data %>% count(EVOLUCAO)\n",
    "data %>% count(HOSPITALIZ)"
   ]
  },
  {
   "cell_type": "markdown",
   "id": "cfdb8ddf",
   "metadata": {},
   "source": [
    "### Filter 3: remove patients without year of birth"
   ]
  },
  {
   "cell_type": "code",
   "execution_count": null,
   "id": "6e433a8e",
   "metadata": {},
   "outputs": [],
   "source": [
    "data %>% filter(!is.na(ANO_NASC)) -> data\n",
    "\n",
    "data %>% dim\n",
    "\n",
    "data %>% count(EVOLUCAO)\n",
    "data %>% count(HOSPITALIZ)"
   ]
  },
  {
   "cell_type": "code",
   "execution_count": null,
   "id": "214d29bd",
   "metadata": {},
   "outputs": [],
   "source": [
    "# create a new column with age\n",
    "\n",
    "data %>% mutate(age = 2022 - ANO_NASC) %>% count(age) %>% slice(1:15)\n",
    "data %>% mutate(age = 2022 - ANO_NASC) %>% count(age) %>% tail(12)\n",
    "data %>% mutate(age = 2022 - ANO_NASC) -> data"
   ]
  },
  {
   "cell_type": "markdown",
   "id": "f30f2b4a",
   "metadata": {},
   "source": [
    "### Remove columns"
   ]
  },
  {
   "cell_type": "code",
   "execution_count": null,
   "id": "f5cc26c9",
   "metadata": {},
   "outputs": [],
   "source": [
    "# ID_OCUPA_N seems to not be filled consistently\n",
    "# it refers to area of activity and should be filled with the same value (not aplicable) to children \n",
    "# sem_not is the epidemiologic week of notification, we will adopt the epidemiologic week of the first symptoms\n",
    "\n",
    "data %>% filter(age< 5) %>% count(ID_OCUPA_N) %>% slice(1:15)\n",
    "data %>% select(-c(ID_OCUPA_N, SEM_NOT)) -> data"
   ]
  },
  {
   "cell_type": "markdown",
   "id": "f3577087",
   "metadata": {},
   "source": [
    "### Filter 4: remove patients older than 110 years and younger than 12"
   ]
  },
  {
   "cell_type": "code",
   "execution_count": null,
   "id": "3c07b230",
   "metadata": {},
   "outputs": [],
   "source": [
    "# remove patients older than 110 years old \n",
    "\n",
    "data %>% filter(age < 111) -> data\n",
    "\n",
    "# remove patients younger than 16 years old\n",
    "\n",
    "data %>% filter(age > 11) -> data\n",
    "\n",
    "# remove the column year of birth\n",
    "\n",
    "data %>% select(-ANO_NASC) -> data\n",
    "\n",
    "data %>% dim\n",
    "data %>% count(EVOLUCAO)\n",
    "data %>% count(HOSPITALIZ)"
   ]
  },
  {
   "cell_type": "markdown",
   "id": "96d4cc6e",
   "metadata": {},
   "source": [
    "### Filter 5: remove patients without sex information"
   ]
  },
  {
   "cell_type": "code",
   "execution_count": null,
   "id": "0a5b4840",
   "metadata": {},
   "outputs": [],
   "source": [
    "# remove patients without sex information\n",
    "\n",
    "data %>% count(CS_SEXO)\n",
    "data %>% filter(CS_SEXO == 'F' | CS_SEXO == 'M') %>% count(CS_SEXO)\n",
    "data %>% filter(CS_SEXO == 'F' | CS_SEXO == 'M') -> data\n",
    "data %>% dim\n",
    "\n",
    "# create a new column with numeric values\n",
    "\n",
    "data %>% mutate(sex = if_else(CS_SEXO == 'M', 0, 1)) %>% count(sex)\n",
    "data %>% mutate(sex = if_else(CS_SEXO == 'M', 0, 1)) -> data\n",
    "\n",
    "# remove the former column\n",
    "data %>% select(-CS_SEXO) -> data\n",
    "\n",
    "data %>% dim\n",
    "data %>% count(EVOLUCAO)\n",
    "data %>% count(HOSPITALIZ)"
   ]
  },
  {
   "cell_type": "code",
   "execution_count": null,
   "id": "9f5b54af",
   "metadata": {},
   "outputs": [],
   "source": [
    "# check the column pregnancy for each sex\n",
    "# transform na values in the column pregnancy in 0 (not pregnant)\n",
    "\n",
    "data %>% count(CS_GESTANT)\n",
    "\n",
    "data %>% filter(sex == 1) %>% count(CS_GESTANT)\n",
    "\n",
    "data %>% filter(sex == 0) %>% count(CS_GESTANT)\n",
    "\n",
    "data %>% mutate(CS_GESTANT = if_else(is.na(CS_GESTANT), 0, CS_GESTANT)) %>% count(CS_GESTANT)\n",
    "\n",
    "data %>% mutate(CS_GESTANT = if_else(is.na(CS_GESTANT), 0, CS_GESTANT)) -> data"
   ]
  },
  {
   "cell_type": "code",
   "execution_count": null,
   "id": "1bf7943f",
   "metadata": {},
   "outputs": [],
   "source": [
    "# transform the column pregnant in binary, orignally diferent values refer to difernt stages on pregnancy\n",
    "\n",
    "data %>% mutate(pregnancy = if_else((CS_GESTANT == 1 | \n",
    "                               CS_GESTANT == 2 | \n",
    "                               CS_GESTANT == 3 | \n",
    "                               CS_GESTANT == 4), 1, 0)) %>% count(pregnancy)\n",
    "\n",
    "\n",
    "data %>% mutate(pregnancy = if_else((CS_GESTANT == 1 | \n",
    "                               CS_GESTANT == 2 | \n",
    "                               CS_GESTANT == 3 | \n",
    "                               CS_GESTANT == 4), 1, 0)) -> data\n",
    "\n",
    "data %>% select(-CS_GESTANT) -> data"
   ]
  },
  {
   "cell_type": "markdown",
   "id": "c66c0e96",
   "metadata": {},
   "source": [
    "### Filter 6: remove patients without race information"
   ]
  },
  {
   "cell_type": "code",
   "execution_count": null,
   "id": "d0edd344",
   "metadata": {},
   "outputs": [],
   "source": [
    "# remove unknown race, or na values\n",
    "\n",
    "data %>% count(CS_RACA)\n",
    "\n",
    "data %>% filter(!is.na(CS_RACA)) %>% filter(CS_RACA < 9) %>% count(CS_RACA)\n",
    "\n",
    "data %>% filter(!is.na(CS_RACA)) %>% filter(CS_RACA < 9) -> data\n",
    "\n",
    "data %>% dim\n",
    "\n",
    "data %>% count(EVOLUCAO)\n",
    "data %>% count(HOSPITALIZ)"
   ]
  },
  {
   "cell_type": "code",
   "execution_count": null,
   "id": "1322e5e0",
   "metadata": {},
   "outputs": [],
   "source": [
    "# check year of schooling. 9 = unknown. \n",
    "\n",
    "data %>% count(CS_ESCOL_N)\n",
    "\n",
    "data$CS_ESCOL_N[data$CS_ESCOL_N == 9] <- NA\n",
    "\n",
    "data %>% count(CS_ESCOL_N)"
   ]
  },
  {
   "cell_type": "code",
   "execution_count": null,
   "id": "41affa7b",
   "metadata": {},
   "outputs": [],
   "source": [
    "# how many groups by age, race, city and sex\n",
    "data %>% group_by(age, CS_RACA, ID_MN_RESI, sex) %>% n_groups\n",
    "\n",
    "# create a new column with the average\n",
    "data %>% group_by(age, CS_RACA, ID_MN_RESI, sex) %>% mutate(average = mean(CS_ESCOL_N, na.rm=TRUE)) %>% \n",
    "    ungroup -> data\n",
    "\n",
    "# when CS_ESCOL_N is na or 9 change by the average\n",
    "\n",
    "data %>% mutate(CS_ESCOL_N = if_else((is.na(CS_ESCOL_N)), round(average), CS_ESCOL_N)) %>% count(CS_ESCOL_N)\n",
    "data %>% mutate(CS_ESCOL_N = if_else((is.na(CS_ESCOL_N)), round(average), CS_ESCOL_N)) -> data\n",
    "data %>% select(-average) -> data\n",
    "\n",
    "# if is still NA consider groups of age, race and sex\n",
    "\n",
    "# create a new column with the average\n",
    "data %>% group_by(age, CS_RACA, sex) %>% mutate(average = mean(CS_ESCOL_N, na.rm=TRUE)) %>% \n",
    "    ungroup -> data\n",
    "\n",
    "# when CS_ESCOL_N is na change by the average\n",
    "data %>% mutate(CS_ESCOL_N = if_else((is.na(CS_ESCOL_N)), round(average), CS_ESCOL_N)) %>% count(CS_ESCOL_N)\n",
    "data %>% mutate(CS_ESCOL_N = if_else((is.na(CS_ESCOL_N)), round(average), CS_ESCOL_N)) -> data\n",
    "data %>% select(-average) -> data"
   ]
  },
  {
   "cell_type": "markdown",
   "id": "3c4c5595",
   "metadata": {},
   "source": [
    "### Filter 7: remove patients without schooling information (after input by group)"
   ]
  },
  {
   "cell_type": "code",
   "execution_count": null,
   "id": "61eb89c9",
   "metadata": {},
   "outputs": [],
   "source": [
    "# if is still na, drop it\n",
    "\n",
    "data %>% count(CS_ESCOL_N)\n",
    "\n",
    "data %>% filter(!(is.na(CS_ESCOL_N))) -> data\n",
    "\n",
    "data %>% count(EVOLUCAO)\n",
    "data %>% count(HOSPITALIZ)\n",
    "\n",
    "data %>% dim"
   ]
  },
  {
   "cell_type": "markdown",
   "id": "3aa54ee1",
   "metadata": {},
   "source": [
    "### Delete columns"
   ]
  },
  {
   "cell_type": "code",
   "execution_count": null,
   "id": "7f4bc462",
   "metadata": {},
   "outputs": [],
   "source": [
    "# this feature is correlated with uf \n",
    "\n",
    "data %>% select(-ID_MN_RESI) -> data"
   ]
  },
  {
   "cell_type": "code",
   "execution_count": null,
   "id": "517a2dbb",
   "metadata": {},
   "outputs": [],
   "source": [
    "# check the presence of na's inside the columns of symptoms and comorbities\n",
    "\n",
    "sum(is.na(data %>% select(FEBRE:AUTO_IMUNE)))"
   ]
  },
  {
   "cell_type": "code",
   "execution_count": null,
   "id": "a8c0bd5e",
   "metadata": {},
   "outputs": [],
   "source": [
    "# the value 2 means the non-occurrence of a symptom, change it to 0\n",
    "\n",
    "data %>% select(FEBRE:AUTO_IMUNE, HOSPITALIZ) -> symptoms\n",
    "data %>% select(!(FEBRE:AUTO_IMUNE)) %>% select(-c(HOSPITALIZ)) -> others\n",
    "\n",
    "symptoms %>% head\n",
    "\n",
    "symptoms <- symptoms %>%\n",
    "  mutate_all(~ ifelse(. == 2, 0, .))\n",
    "\n",
    "symptoms %>% head\n",
    "\n",
    "symptoms %>% cbind(others) -> data\n",
    "\n",
    "data$EVOLUCAO[data$EVOLUCAO == 1] <- 0\n",
    "data$EVOLUCAO[data$EVOLUCAO == 2] <- 1\n",
    "\n",
    "data %>% count(EVOLUCAO)\n",
    "data %>% count(HOSPITALIZ)\n",
    "\n",
    "data %>% dim"
   ]
  },
  {
   "cell_type": "markdown",
   "id": "2e534e55",
   "metadata": {},
   "source": [
    "### Filter 8: keep only patients in the acute stage of the disease"
   ]
  },
  {
   "cell_type": "code",
   "execution_count": null,
   "id": "47c75d97",
   "metadata": {},
   "outputs": [],
   "source": [
    "# only patients in the acute stage \n",
    "\n",
    "data %>% filter(CLINC_CHIK == 1) -> data\n",
    "data %>% select(-CLINC_CHIK) -> data\n",
    "\n",
    "data %>% count(EVOLUCAO)\n",
    "data %>% count(HOSPITALIZ)\n",
    "\n",
    "data %>% dim"
   ]
  },
  {
   "cell_type": "code",
   "execution_count": null,
   "id": "3cb388c3",
   "metadata": {},
   "outputs": [],
   "source": [
    "# date of the first symptoms \n",
    "\n",
    "# change format\n",
    "\n",
    "data$DT_SIN_PRI <- as.Date(data$DT_SIN_PRI)\n",
    "\n",
    "# first and last date\n",
    "\n",
    "data %>% select(DT_SIN_PRI) %>% arrange(DT_SIN_PRI) %>% slice(1)\n",
    "data %>% select(DT_SIN_PRI) %>% arrange(desc(DT_SIN_PRI)) %>% slice(1)\n",
    "\n",
    "# change date format\n",
    "\n",
    "data %>% mutate(SEM_PRI = SEM_PRI - 202200) -> data\n",
    "\n",
    "data %>% colnames"
   ]
  },
  {
   "cell_type": "code",
   "execution_count": null,
   "id": "f8f9243a",
   "metadata": {},
   "outputs": [],
   "source": [
    "data %>% select(-CLASSI_FIN) -> data"
   ]
  },
  {
   "cell_type": "code",
   "execution_count": null,
   "id": "1720de64",
   "metadata": {},
   "outputs": [],
   "source": [
    "colnames(data) <- c(\"fever\", 'myalgia','headache',\n",
    "                  'exanthema', 'vomiting','nausea',\n",
    "                  'back_pain','conjunctivitis', 'arthritis', \n",
    "                  'arthralgia', 'petechiae', 'leukopenia', \n",
    "                  'lasso_prove', 'retro_orbital_pain', 'diabetes', \n",
    "                  'hematological_diseases', 'hepatopathies', 'chronic_kidney_disease', \n",
    "                  'arterial_hypertension', 'acid_peptic_disease', 'autoimmune_diseases',\n",
    "                  'hospitalization','id_state',\n",
    "                  'dt_first_symptoms', 'epidemiological_week', 'race', \n",
    "                  'schooling_years', 'dt_hospitalization',  \n",
    "                  'death', 'dt_death', 'age', \n",
    "                  'sex', 'pregnancy')\n",
    "                  \n",
    "                  "
   ]
  },
  {
   "cell_type": "code",
   "execution_count": null,
   "id": "b3691227",
   "metadata": {},
   "outputs": [],
   "source": [
    "data %>% count(hospitalization)\n",
    "\n",
    "data %>% dim"
   ]
  },
  {
   "cell_type": "markdown",
   "id": "4dd27de0",
   "metadata": {},
   "source": [
    "### Filter 9: keep only patients with information about hospitalization"
   ]
  },
  {
   "cell_type": "code",
   "execution_count": null,
   "id": "336a1aeb",
   "metadata": {},
   "outputs": [],
   "source": [
    "# remove patients without information of hospitalization (9 - not known)\n",
    "\n",
    "data %>% count(hospitalization)\n",
    "\n",
    "data %>% filter(hospitalization == 1 | hospitalization == 0) -> data\n",
    "\n",
    "data %>% dim"
   ]
  },
  {
   "cell_type": "code",
   "execution_count": null,
   "id": "68902add",
   "metadata": {},
   "outputs": [],
   "source": [
    "# create a column with the number of days between the disease investigation and death\n",
    "\n",
    "data$dt_first_symptoms <- as.Date(data$dt_first_symptoms)\n",
    "data$dt_hospitalization <- as.Date(data$dt_hospitalization)\n",
    "\n",
    "data %>% mutate(days = difftime(dt_hospitalization, dt_first_symptoms, units = 'days')) -> data\n",
    "\n",
    "data$days <- as.numeric(data$days)"
   ]
  },
  {
   "cell_type": "markdown",
   "id": "a594909b",
   "metadata": {},
   "source": [
    "### Filter 10: remove patients hospitalized more than 15 days after the first sympthoms"
   ]
  },
  {
   "cell_type": "code",
   "execution_count": null,
   "id": "09b072f4",
   "metadata": {},
   "outputs": [],
   "source": [
    "# remove patients hospitalized more than 15 days after first sympthoms\n",
    "\n",
    "data %>% filter((days >= 0 & days < 16)| is.na(days)) -> data\n",
    "\n",
    "data %>% count(days)\n",
    "\n",
    "data %>% count(hospitalization)\n",
    "data %>% dim\n",
    "data %>% colnames"
   ]
  },
  {
   "cell_type": "markdown",
   "id": "18127a6e",
   "metadata": {},
   "source": [
    "### Filter 11: remove non-hospitalized patients that died"
   ]
  },
  {
   "cell_type": "code",
   "execution_count": null,
   "id": "8155b410",
   "metadata": {},
   "outputs": [],
   "source": [
    "# remove non-hospitalized patients that died\n",
    "\n",
    "data %>% filter(hospitalization == 0) %>% count(death)\n",
    "\n",
    "data %>% filter(hospitalization == 1) -> death\n",
    "data %>% filter(hospitalization == 0) %>% filter(death == 0) -> data\n",
    "\n",
    "data %>% rbind(death) -> data\n",
    "\n",
    "data %>% dim \n",
    "\n",
    "data %>% count(hospitalization)"
   ]
  },
  {
   "cell_type": "markdown",
   "id": "74e4f1a7",
   "metadata": {},
   "source": [
    "### Delete columns: not relevant for this dataset"
   ]
  },
  {
   "cell_type": "code",
   "execution_count": null,
   "id": "a7bbb83f",
   "metadata": {},
   "outputs": [],
   "source": [
    "data %>% select(-c(dt_first_symptoms, death, dt_hospitalization, dt_death, days,)) -> data \n",
    "\n",
    "data %>% dim \n",
    "\n",
    "# check how many patients present a each symptoms \n",
    "\n",
    "colSums(data)"
   ]
  },
  {
   "cell_type": "code",
   "execution_count": null,
   "id": "70f9766d",
   "metadata": {},
   "outputs": [],
   "source": [
    "# check symptoms presence in hospitalized cases\n",
    "\n",
    "data %>% filter(hospitalization == 1) -> hosp\n",
    "hosp %>% colSums"
   ]
  },
  {
   "cell_type": "markdown",
   "id": "a864122b",
   "metadata": {},
   "source": [
    "### Delete columns: delete symptons and comorbidities with low frequency in the hospitalized class"
   ]
  },
  {
   "cell_type": "code",
   "execution_count": null,
   "id": "bfc026d4",
   "metadata": {},
   "outputs": [],
   "source": [
    "selected_cols <- colnames(hosp)[colSums(hosp) > 50]\n",
    "\n",
    "selected_cols\n",
    "\n",
    "data <- data[, selected_cols]"
   ]
  },
  {
   "cell_type": "code",
   "execution_count": null,
   "id": "8e1ddfdf",
   "metadata": {},
   "outputs": [],
   "source": [
    "data %>% colnames \n",
    "\n",
    "data %>% dim"
   ]
  },
  {
   "cell_type": "code",
   "execution_count": null,
   "id": "a5787799",
   "metadata": {},
   "outputs": [],
   "source": [
    "data %>% select(fever:arterial_hypertension,id_state:pregnancy, hospitalization) %>% \n",
    "write_csv('chikungunya_hospitalization_22.csv')"
   ]
  }
 ],
 "metadata": {
  "kernelspec": {
   "display_name": "R",
   "language": "R",
   "name": "ir"
  },
  "language_info": {
   "codemirror_mode": "r",
   "file_extension": ".r",
   "mimetype": "text/x-r-source",
   "name": "R",
   "pygments_lexer": "r",
   "version": "4.2.2"
  }
 },
 "nbformat": 4,
 "nbformat_minor": 5
}
