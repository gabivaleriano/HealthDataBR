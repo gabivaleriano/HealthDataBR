{
 "cells": [
  {
   "cell_type": "markdown",
   "id": "f5a4c399",
   "metadata": {},
   "source": [
    "This notebook contains the steps performed for data inspection and filtering, with the goal of creating aclassification datasets suitable for machine learning predictive models. The objective of the classification task is to predict death from the information contained in the moment of the disease notification. For more comprehensive details about the datasets, including information about data collection methods, sources, and a dictionary of variables, please visit the project repository on GitHub: https://github.com/gabivaleriano/HealthDataBR."
   ]
  },
  {
   "cell_type": "code",
   "execution_count": 1,
   "id": "a0349904",
   "metadata": {},
   "outputs": [
    {
     "name": "stderr",
     "output_type": "stream",
     "text": [
      "── \u001b[1mAttaching core tidyverse packages\u001b[22m ──────────────────────── tidyverse 2.0.0 ──\n",
      "\u001b[32m✔\u001b[39m \u001b[34mdplyr    \u001b[39m 1.1.2     \u001b[32m✔\u001b[39m \u001b[34mreadr    \u001b[39m 2.1.4\n",
      "\u001b[32m✔\u001b[39m \u001b[34mforcats  \u001b[39m 1.0.0     \u001b[32m✔\u001b[39m \u001b[34mstringr  \u001b[39m 1.5.0\n",
      "\u001b[32m✔\u001b[39m \u001b[34mggplot2  \u001b[39m 3.4.2     \u001b[32m✔\u001b[39m \u001b[34mtibble   \u001b[39m 3.2.1\n",
      "\u001b[32m✔\u001b[39m \u001b[34mlubridate\u001b[39m 1.9.2     \u001b[32m✔\u001b[39m \u001b[34mtidyr    \u001b[39m 1.3.0\n",
      "\u001b[32m✔\u001b[39m \u001b[34mpurrr    \u001b[39m 1.0.1     \n",
      "── \u001b[1mConflicts\u001b[22m ────────────────────────────────────────── tidyverse_conflicts() ──\n",
      "\u001b[31m✖\u001b[39m \u001b[34mdplyr\u001b[39m::\u001b[32mfilter()\u001b[39m masks \u001b[34mstats\u001b[39m::filter()\n",
      "\u001b[31m✖\u001b[39m \u001b[34mdplyr\u001b[39m::\u001b[32mlag()\u001b[39m    masks \u001b[34mstats\u001b[39m::lag()\n",
      "\u001b[36mℹ\u001b[39m Use the conflicted package (\u001b[3m\u001b[34m<http://conflicted.r-lib.org/>\u001b[39m\u001b[23m) to force all conflicts to become errors\n"
     ]
    }
   ],
   "source": [
    "library(tidyverse)"
   ]
  },
  {
   "cell_type": "code",
   "execution_count": 2,
   "id": "15098e2c",
   "metadata": {},
   "outputs": [],
   "source": [
    "# read data\n",
    "data <- read.csv('CHIKBR22.csv')"
   ]
  },
  {
   "cell_type": "markdown",
   "id": "792a18c6",
   "metadata": {},
   "source": [
    "### Filter 1: remove duplicates"
   ]
  },
  {
   "cell_type": "code",
   "execution_count": 5,
   "id": "59c385a6",
   "metadata": {},
   "outputs": [
    {
     "data": {
      "text/html": [
       "<style>\n",
       ".list-inline {list-style: none; margin:0; padding: 0}\n",
       ".list-inline>li {display: inline-block}\n",
       ".list-inline>li:not(:last-child)::after {content: \"\\00b7\"; padding: 0 .5ex}\n",
       "</style>\n",
       "<ol class=list-inline><li>269960</li><li>122</li></ol>\n"
      ],
      "text/latex": [
       "\\begin{enumerate*}\n",
       "\\item 269960\n",
       "\\item 122\n",
       "\\end{enumerate*}\n"
      ],
      "text/markdown": [
       "1. 269960\n",
       "2. 122\n",
       "\n",
       "\n"
      ],
      "text/plain": [
       "[1] 269960    122"
      ]
     },
     "metadata": {},
     "output_type": "display_data"
    },
    {
     "data": {
      "text/html": [
       "<style>\n",
       ".list-inline {list-style: none; margin:0; padding: 0}\n",
       ".list-inline>li {display: inline-block}\n",
       ".list-inline>li:not(:last-child)::after {content: \"\\00b7\"; padding: 0 .5ex}\n",
       "</style>\n",
       "<ol class=list-inline><li>269823</li><li>122</li></ol>\n"
      ],
      "text/latex": [
       "\\begin{enumerate*}\n",
       "\\item 269823\n",
       "\\item 122\n",
       "\\end{enumerate*}\n"
      ],
      "text/markdown": [
       "1. 269823\n",
       "2. 122\n",
       "\n",
       "\n"
      ],
      "text/plain": [
       "[1] 269823    122"
      ]
     },
     "metadata": {},
     "output_type": "display_data"
    }
   ],
   "source": [
    "# check and remove duplicates\n",
    "\n",
    "data %>% dim\n",
    "data %>% unique %>% dim\n",
    "data %>% unique -> data"
   ]
  },
  {
   "cell_type": "code",
   "execution_count": 6,
   "id": "db27cc8d",
   "metadata": {},
   "outputs": [
    {
     "data": {
      "text/html": [
       "<table class=\"dataframe\">\n",
       "<caption>A data.frame: 26 × 2</caption>\n",
       "<thead>\n",
       "\t<tr><th scope=col>SG_UF_NOT</th><th scope=col>n</th></tr>\n",
       "\t<tr><th scope=col>&lt;int&gt;</th><th scope=col>&lt;int&gt;</th></tr>\n",
       "</thead>\n",
       "<tbody>\n",
       "\t<tr><td>11</td><td>  502</td></tr>\n",
       "\t<tr><td>12</td><td>  207</td></tr>\n",
       "\t<tr><td>13</td><td>  470</td></tr>\n",
       "\t<tr><td>14</td><td>  427</td></tr>\n",
       "\t<tr><td>15</td><td> 1575</td></tr>\n",
       "\t<tr><td>16</td><td>  164</td></tr>\n",
       "\t<tr><td>17</td><td> 9139</td></tr>\n",
       "\t<tr><td>21</td><td> 3422</td></tr>\n",
       "\t<tr><td>22</td><td>12280</td></tr>\n",
       "\t<tr><td>23</td><td>80228</td></tr>\n",
       "\t<tr><td>24</td><td>19533</td></tr>\n",
       "\t<tr><td>25</td><td>24308</td></tr>\n",
       "\t<tr><td>26</td><td>35249</td></tr>\n",
       "\t<tr><td>27</td><td>11985</td></tr>\n",
       "\t<tr><td>28</td><td> 8294</td></tr>\n",
       "\t<tr><td>29</td><td>24849</td></tr>\n",
       "\t<tr><td>31</td><td>16746</td></tr>\n",
       "\t<tr><td>33</td><td> 1663</td></tr>\n",
       "\t<tr><td>35</td><td> 4977</td></tr>\n",
       "\t<tr><td>41</td><td>  464</td></tr>\n",
       "\t<tr><td>42</td><td>  848</td></tr>\n",
       "\t<tr><td>43</td><td>  739</td></tr>\n",
       "\t<tr><td>50</td><td> 4333</td></tr>\n",
       "\t<tr><td>51</td><td>  464</td></tr>\n",
       "\t<tr><td>52</td><td> 5944</td></tr>\n",
       "\t<tr><td>53</td><td> 1013</td></tr>\n",
       "</tbody>\n",
       "</table>\n"
      ],
      "text/latex": [
       "A data.frame: 26 × 2\n",
       "\\begin{tabular}{ll}\n",
       " SG\\_UF\\_NOT & n\\\\\n",
       " <int> & <int>\\\\\n",
       "\\hline\n",
       "\t 11 &   502\\\\\n",
       "\t 12 &   207\\\\\n",
       "\t 13 &   470\\\\\n",
       "\t 14 &   427\\\\\n",
       "\t 15 &  1575\\\\\n",
       "\t 16 &   164\\\\\n",
       "\t 17 &  9139\\\\\n",
       "\t 21 &  3422\\\\\n",
       "\t 22 & 12280\\\\\n",
       "\t 23 & 80228\\\\\n",
       "\t 24 & 19533\\\\\n",
       "\t 25 & 24308\\\\\n",
       "\t 26 & 35249\\\\\n",
       "\t 27 & 11985\\\\\n",
       "\t 28 &  8294\\\\\n",
       "\t 29 & 24849\\\\\n",
       "\t 31 & 16746\\\\\n",
       "\t 33 &  1663\\\\\n",
       "\t 35 &  4977\\\\\n",
       "\t 41 &   464\\\\\n",
       "\t 42 &   848\\\\\n",
       "\t 43 &   739\\\\\n",
       "\t 50 &  4333\\\\\n",
       "\t 51 &   464\\\\\n",
       "\t 52 &  5944\\\\\n",
       "\t 53 &  1013\\\\\n",
       "\\end{tabular}\n"
      ],
      "text/markdown": [
       "\n",
       "A data.frame: 26 × 2\n",
       "\n",
       "| SG_UF_NOT &lt;int&gt; | n &lt;int&gt; |\n",
       "|---|---|\n",
       "| 11 |   502 |\n",
       "| 12 |   207 |\n",
       "| 13 |   470 |\n",
       "| 14 |   427 |\n",
       "| 15 |  1575 |\n",
       "| 16 |   164 |\n",
       "| 17 |  9139 |\n",
       "| 21 |  3422 |\n",
       "| 22 | 12280 |\n",
       "| 23 | 80228 |\n",
       "| 24 | 19533 |\n",
       "| 25 | 24308 |\n",
       "| 26 | 35249 |\n",
       "| 27 | 11985 |\n",
       "| 28 |  8294 |\n",
       "| 29 | 24849 |\n",
       "| 31 | 16746 |\n",
       "| 33 |  1663 |\n",
       "| 35 |  4977 |\n",
       "| 41 |   464 |\n",
       "| 42 |   848 |\n",
       "| 43 |   739 |\n",
       "| 50 |  4333 |\n",
       "| 51 |   464 |\n",
       "| 52 |  5944 |\n",
       "| 53 |  1013 |\n",
       "\n"
      ],
      "text/plain": [
       "   SG_UF_NOT n    \n",
       "1  11          502\n",
       "2  12          207\n",
       "3  13          470\n",
       "4  14          427\n",
       "5  15         1575\n",
       "6  16          164\n",
       "7  17         9139\n",
       "8  21         3422\n",
       "9  22        12280\n",
       "10 23        80228\n",
       "11 24        19533\n",
       "12 25        24308\n",
       "13 26        35249\n",
       "14 27        11985\n",
       "15 28         8294\n",
       "16 29        24849\n",
       "17 31        16746\n",
       "18 33         1663\n",
       "19 35         4977\n",
       "20 41          464\n",
       "21 42          848\n",
       "22 43          739\n",
       "23 50         4333\n",
       "24 51          464\n",
       "25 52         5944\n",
       "26 53         1013"
      ]
     },
     "metadata": {},
     "output_type": "display_data"
    }
   ],
   "source": [
    "# inspecting data distribution according to state\n",
    "\n",
    "data %>% count(SG_UF_NOT)"
   ]
  },
  {
   "cell_type": "code",
   "execution_count": 7,
   "id": "7c7360be",
   "metadata": {},
   "outputs": [
    {
     "data": {
      "text/html": [
       "<table class=\"dataframe\">\n",
       "<caption>A data.frame: 6 × 122</caption>\n",
       "<thead>\n",
       "\t<tr><th></th><th scope=col>TP_NOT</th><th scope=col>ID_AGRAVO</th><th scope=col>DT_NOTIFIC</th><th scope=col>SEM_NOT</th><th scope=col>NU_ANO</th><th scope=col>SG_UF_NOT</th><th scope=col>ID_MUNICIP</th><th scope=col>ID_REGIONA</th><th scope=col>ID_UNIDADE</th><th scope=col>DT_SIN_PRI</th><th scope=col>⋯</th><th scope=col>PLAQ_MENOR</th><th scope=col>CON_FHD</th><th scope=col>COMPLICA</th><th scope=col>NU_LOTE_I</th><th scope=col>TP_SISTEMA</th><th scope=col>NDUPLIC_N</th><th scope=col>DT_DIGITA</th><th scope=col>CS_FLXRET</th><th scope=col>FLXRECEBI</th><th scope=col>MIGRADO_W</th></tr>\n",
       "\t<tr><th></th><th scope=col>&lt;int&gt;</th><th scope=col>&lt;chr&gt;</th><th scope=col>&lt;chr&gt;</th><th scope=col>&lt;int&gt;</th><th scope=col>&lt;int&gt;</th><th scope=col>&lt;int&gt;</th><th scope=col>&lt;int&gt;</th><th scope=col>&lt;int&gt;</th><th scope=col>&lt;int&gt;</th><th scope=col>&lt;chr&gt;</th><th scope=col>⋯</th><th scope=col>&lt;lgl&gt;</th><th scope=col>&lt;lgl&gt;</th><th scope=col>&lt;lgl&gt;</th><th scope=col>&lt;int&gt;</th><th scope=col>&lt;int&gt;</th><th scope=col>&lt;int&gt;</th><th scope=col>&lt;chr&gt;</th><th scope=col>&lt;lgl&gt;</th><th scope=col>&lt;lgl&gt;</th><th scope=col>&lt;lgl&gt;</th></tr>\n",
       "</thead>\n",
       "<tbody>\n",
       "\t<tr><th scope=row>1</th><td>2</td><td>A92.0</td><td>2022-01-28</td><td>202204</td><td>2022</td><td>12</td><td>120033</td><td>1941</td><td>2000083</td><td>2022-01-23</td><td>⋯</td><td>NA</td><td>NA</td><td>NA</td><td>NA</td><td>2</td><td>NA</td><td>2022-03-18</td><td>NA</td><td>NA</td><td>NA</td></tr>\n",
       "\t<tr><th scope=row>2</th><td>2</td><td>A92.0</td><td>2022-03-14</td><td>202211</td><td>2022</td><td>12</td><td>120040</td><td>1938</td><td>3689921</td><td>2022-03-01</td><td>⋯</td><td>NA</td><td>NA</td><td>NA</td><td>NA</td><td>2</td><td>NA</td><td>2022-03-21</td><td>NA</td><td>NA</td><td>NA</td></tr>\n",
       "\t<tr><th scope=row>3</th><td>2</td><td>A92.0</td><td>2022-01-08</td><td>202201</td><td>2022</td><td>12</td><td>120033</td><td>1941</td><td>9542566</td><td>2022-01-07</td><td>⋯</td><td>NA</td><td>NA</td><td>NA</td><td>NA</td><td>2</td><td>NA</td><td>2022-03-16</td><td>NA</td><td>NA</td><td>NA</td></tr>\n",
       "\t<tr><th scope=row>4</th><td>2</td><td>A92.0</td><td>2022-02-23</td><td>202208</td><td>2022</td><td>12</td><td>120033</td><td>1941</td><td>6568629</td><td>2022-02-16</td><td>⋯</td><td>NA</td><td>NA</td><td>NA</td><td>NA</td><td>2</td><td>NA</td><td>2022-03-18</td><td>NA</td><td>NA</td><td>NA</td></tr>\n",
       "\t<tr><th scope=row>5</th><td>2</td><td>A92.0</td><td>2022-01-06</td><td>202201</td><td>2022</td><td>12</td><td>120040</td><td>1938</td><td>6119697</td><td>2022-01-05</td><td>⋯</td><td>NA</td><td>NA</td><td>NA</td><td>NA</td><td>2</td><td>NA</td><td>2022-01-11</td><td>NA</td><td>NA</td><td>NA</td></tr>\n",
       "\t<tr><th scope=row>6</th><td>2</td><td>A92.0</td><td>2022-01-11</td><td>202202</td><td>2022</td><td>12</td><td>120040</td><td>1938</td><td>6119697</td><td>2022-01-10</td><td>⋯</td><td>NA</td><td>NA</td><td>NA</td><td>NA</td><td>2</td><td>NA</td><td>2022-01-19</td><td>NA</td><td>NA</td><td>NA</td></tr>\n",
       "</tbody>\n",
       "</table>\n"
      ],
      "text/latex": [
       "A data.frame: 6 × 122\n",
       "\\begin{tabular}{r|lllllllllllllllllllll}\n",
       "  & TP\\_NOT & ID\\_AGRAVO & DT\\_NOTIFIC & SEM\\_NOT & NU\\_ANO & SG\\_UF\\_NOT & ID\\_MUNICIP & ID\\_REGIONA & ID\\_UNIDADE & DT\\_SIN\\_PRI & ⋯ & PLAQ\\_MENOR & CON\\_FHD & COMPLICA & NU\\_LOTE\\_I & TP\\_SISTEMA & NDUPLIC\\_N & DT\\_DIGITA & CS\\_FLXRET & FLXRECEBI & MIGRADO\\_W\\\\\n",
       "  & <int> & <chr> & <chr> & <int> & <int> & <int> & <int> & <int> & <int> & <chr> & ⋯ & <lgl> & <lgl> & <lgl> & <int> & <int> & <int> & <chr> & <lgl> & <lgl> & <lgl>\\\\\n",
       "\\hline\n",
       "\t1 & 2 & A92.0 & 2022-01-28 & 202204 & 2022 & 12 & 120033 & 1941 & 2000083 & 2022-01-23 & ⋯ & NA & NA & NA & NA & 2 & NA & 2022-03-18 & NA & NA & NA\\\\\n",
       "\t2 & 2 & A92.0 & 2022-03-14 & 202211 & 2022 & 12 & 120040 & 1938 & 3689921 & 2022-03-01 & ⋯ & NA & NA & NA & NA & 2 & NA & 2022-03-21 & NA & NA & NA\\\\\n",
       "\t3 & 2 & A92.0 & 2022-01-08 & 202201 & 2022 & 12 & 120033 & 1941 & 9542566 & 2022-01-07 & ⋯ & NA & NA & NA & NA & 2 & NA & 2022-03-16 & NA & NA & NA\\\\\n",
       "\t4 & 2 & A92.0 & 2022-02-23 & 202208 & 2022 & 12 & 120033 & 1941 & 6568629 & 2022-02-16 & ⋯ & NA & NA & NA & NA & 2 & NA & 2022-03-18 & NA & NA & NA\\\\\n",
       "\t5 & 2 & A92.0 & 2022-01-06 & 202201 & 2022 & 12 & 120040 & 1938 & 6119697 & 2022-01-05 & ⋯ & NA & NA & NA & NA & 2 & NA & 2022-01-11 & NA & NA & NA\\\\\n",
       "\t6 & 2 & A92.0 & 2022-01-11 & 202202 & 2022 & 12 & 120040 & 1938 & 6119697 & 2022-01-10 & ⋯ & NA & NA & NA & NA & 2 & NA & 2022-01-19 & NA & NA & NA\\\\\n",
       "\\end{tabular}\n"
      ],
      "text/markdown": [
       "\n",
       "A data.frame: 6 × 122\n",
       "\n",
       "| <!--/--> | TP_NOT &lt;int&gt; | ID_AGRAVO &lt;chr&gt; | DT_NOTIFIC &lt;chr&gt; | SEM_NOT &lt;int&gt; | NU_ANO &lt;int&gt; | SG_UF_NOT &lt;int&gt; | ID_MUNICIP &lt;int&gt; | ID_REGIONA &lt;int&gt; | ID_UNIDADE &lt;int&gt; | DT_SIN_PRI &lt;chr&gt; | ⋯ ⋯ | PLAQ_MENOR &lt;lgl&gt; | CON_FHD &lt;lgl&gt; | COMPLICA &lt;lgl&gt; | NU_LOTE_I &lt;int&gt; | TP_SISTEMA &lt;int&gt; | NDUPLIC_N &lt;int&gt; | DT_DIGITA &lt;chr&gt; | CS_FLXRET &lt;lgl&gt; | FLXRECEBI &lt;lgl&gt; | MIGRADO_W &lt;lgl&gt; |\n",
       "|---|---|---|---|---|---|---|---|---|---|---|---|---|---|---|---|---|---|---|---|---|---|\n",
       "| 1 | 2 | A92.0 | 2022-01-28 | 202204 | 2022 | 12 | 120033 | 1941 | 2000083 | 2022-01-23 | ⋯ | NA | NA | NA | NA | 2 | NA | 2022-03-18 | NA | NA | NA |\n",
       "| 2 | 2 | A92.0 | 2022-03-14 | 202211 | 2022 | 12 | 120040 | 1938 | 3689921 | 2022-03-01 | ⋯ | NA | NA | NA | NA | 2 | NA | 2022-03-21 | NA | NA | NA |\n",
       "| 3 | 2 | A92.0 | 2022-01-08 | 202201 | 2022 | 12 | 120033 | 1941 | 9542566 | 2022-01-07 | ⋯ | NA | NA | NA | NA | 2 | NA | 2022-03-16 | NA | NA | NA |\n",
       "| 4 | 2 | A92.0 | 2022-02-23 | 202208 | 2022 | 12 | 120033 | 1941 | 6568629 | 2022-02-16 | ⋯ | NA | NA | NA | NA | 2 | NA | 2022-03-18 | NA | NA | NA |\n",
       "| 5 | 2 | A92.0 | 2022-01-06 | 202201 | 2022 | 12 | 120040 | 1938 | 6119697 | 2022-01-05 | ⋯ | NA | NA | NA | NA | 2 | NA | 2022-01-11 | NA | NA | NA |\n",
       "| 6 | 2 | A92.0 | 2022-01-11 | 202202 | 2022 | 12 | 120040 | 1938 | 6119697 | 2022-01-10 | ⋯ | NA | NA | NA | NA | 2 | NA | 2022-01-19 | NA | NA | NA |\n",
       "\n"
      ],
      "text/plain": [
       "  TP_NOT ID_AGRAVO DT_NOTIFIC SEM_NOT NU_ANO SG_UF_NOT ID_MUNICIP ID_REGIONA\n",
       "1 2      A92.0     2022-01-28 202204  2022   12        120033     1941      \n",
       "2 2      A92.0     2022-03-14 202211  2022   12        120040     1938      \n",
       "3 2      A92.0     2022-01-08 202201  2022   12        120033     1941      \n",
       "4 2      A92.0     2022-02-23 202208  2022   12        120033     1941      \n",
       "5 2      A92.0     2022-01-06 202201  2022   12        120040     1938      \n",
       "6 2      A92.0     2022-01-11 202202  2022   12        120040     1938      \n",
       "  ID_UNIDADE DT_SIN_PRI ⋯ PLAQ_MENOR CON_FHD COMPLICA NU_LOTE_I TP_SISTEMA\n",
       "1 2000083    2022-01-23 ⋯ NA         NA      NA       NA        2         \n",
       "2 3689921    2022-03-01 ⋯ NA         NA      NA       NA        2         \n",
       "3 9542566    2022-01-07 ⋯ NA         NA      NA       NA        2         \n",
       "4 6568629    2022-02-16 ⋯ NA         NA      NA       NA        2         \n",
       "5 6119697    2022-01-05 ⋯ NA         NA      NA       NA        2         \n",
       "6 6119697    2022-01-10 ⋯ NA         NA      NA       NA        2         \n",
       "  NDUPLIC_N DT_DIGITA  CS_FLXRET FLXRECEBI MIGRADO_W\n",
       "1 NA        2022-03-18 NA        NA        NA       \n",
       "2 NA        2022-03-21 NA        NA        NA       \n",
       "3 NA        2022-03-16 NA        NA        NA       \n",
       "4 NA        2022-03-18 NA        NA        NA       \n",
       "5 NA        2022-01-11 NA        NA        NA       \n",
       "6 NA        2022-01-19 NA        NA        NA       "
      ]
     },
     "metadata": {},
     "output_type": "display_data"
    },
    {
     "data": {
      "text/html": [
       "<style>\n",
       ".list-inline {list-style: none; margin:0; padding: 0}\n",
       ".list-inline>li {display: inline-block}\n",
       ".list-inline>li:not(:last-child)::after {content: \"\\00b7\"; padding: 0 .5ex}\n",
       "</style>\n",
       "<ol class=list-inline><li>'TP_NOT'</li><li>'ID_AGRAVO'</li><li>'DT_NOTIFIC'</li><li>'SEM_NOT'</li><li>'NU_ANO'</li><li>'SG_UF_NOT'</li><li>'ID_MUNICIP'</li><li>'ID_REGIONA'</li><li>'ID_UNIDADE'</li><li>'DT_SIN_PRI'</li><li>'SEM_PRI'</li><li>'ANO_NASC'</li><li>'NU_IDADE_N'</li><li>'CS_SEXO'</li><li>'CS_GESTANT'</li><li>'CS_RACA'</li><li>'CS_ESCOL_N'</li><li>'SG_UF'</li><li>'ID_MN_RESI'</li><li>'ID_RG_RESI'</li><li>'ID_PAIS'</li><li>'DT_INVEST'</li><li>'ID_OCUPA_N'</li><li>'FEBRE'</li><li>'MIALGIA'</li><li>'CEFALEIA'</li><li>'EXANTEMA'</li><li>'VOMITO'</li><li>'NAUSEA'</li><li>'DOR_COSTAS'</li><li>'CONJUNTVIT'</li><li>'ARTRITE'</li><li>'ARTRALGIA'</li><li>'PETEQUIA_N'</li><li>'LEUCOPENIA'</li><li>'LACO'</li><li>'DOR_RETRO'</li><li>'DIABETES'</li><li>'HEMATOLOG'</li><li>'HEPATOPAT'</li><li>'RENAL'</li><li>'HIPERTENSA'</li><li>'ACIDO_PEPT'</li><li>'AUTO_IMUNE'</li><li>'DT_CHIK_S1'</li><li>'DT_CHIK_S2'</li><li>'DT_PRNT'</li><li>'RES_CHIKS1'</li><li>'RES_CHIKS2'</li><li>'RESUL_PRNT'</li><li>'DT_SORO'</li><li>'RESUL_SORO'</li><li>'DT_NS1'</li><li>'RESUL_NS1'</li><li>'DT_VIRAL'</li><li>'RESUL_VI_N'</li><li>'DT_PCR'</li><li>'RESUL_PCR_'</li><li>'SOROTIPO'</li><li>'HISTOPA_N'</li><li>'IMUNOH_N'</li><li>'HOSPITALIZ'</li><li>'DT_INTERNA'</li><li>'UF'</li><li>'MUNICIPIO'</li><li>'TPAUTOCTO'</li><li>'COUFINF'</li><li>'COPAISINF'</li><li>'COMUNINF'</li><li>'CLASSI_FIN'</li><li>'CRITERIO'</li><li>'DOENCA_TRA'</li><li>'CLINC_CHIK'</li><li>'EVOLUCAO'</li><li>'DT_OBITO'</li><li>'DT_ENCERRA'</li><li>'ALRM_HIPOT'</li><li>'ALRM_PLAQ'</li><li>'ALRM_VOM'</li><li>'ALRM_SANG'</li><li>'ALRM_HEMAT'</li><li>'ALRM_ABDOM'</li><li>'ALRM_LETAR'</li><li>'ALRM_HEPAT'</li><li>'ALRM_LIQ'</li><li>'DT_ALRM'</li><li>'GRAV_PULSO'</li><li>'GRAV_CONV'</li><li>'GRAV_ENCH'</li><li>'GRAV_INSUF'</li><li>'GRAV_TAQUI'</li><li>'GRAV_EXTRE'</li><li>'GRAV_HIPOT'</li><li>'GRAV_HEMAT'</li><li>'GRAV_MELEN'</li><li>'GRAV_METRO'</li><li>'GRAV_SANG'</li><li>'GRAV_AST'</li><li>'GRAV_MIOC'</li><li>'GRAV_CONSC'</li><li>'GRAV_ORGAO'</li><li>'DT_GRAV'</li><li>'MANI_HEMOR'</li><li>'EPISTAXE'</li><li>'GENGIVO'</li><li>'METRO'</li><li>'PETEQUIAS'</li><li>'HEMATURA'</li><li>'SANGRAM'</li><li>'LACO_N'</li><li>'PLASMATICO'</li><li>'EVIDENCIA'</li><li>'PLAQ_MENOR'</li><li>'CON_FHD'</li><li>'COMPLICA'</li><li>'NU_LOTE_I'</li><li>'TP_SISTEMA'</li><li>'NDUPLIC_N'</li><li>'DT_DIGITA'</li><li>'CS_FLXRET'</li><li>'FLXRECEBI'</li><li>'MIGRADO_W'</li></ol>\n"
      ],
      "text/latex": [
       "\\begin{enumerate*}\n",
       "\\item 'TP\\_NOT'\n",
       "\\item 'ID\\_AGRAVO'\n",
       "\\item 'DT\\_NOTIFIC'\n",
       "\\item 'SEM\\_NOT'\n",
       "\\item 'NU\\_ANO'\n",
       "\\item 'SG\\_UF\\_NOT'\n",
       "\\item 'ID\\_MUNICIP'\n",
       "\\item 'ID\\_REGIONA'\n",
       "\\item 'ID\\_UNIDADE'\n",
       "\\item 'DT\\_SIN\\_PRI'\n",
       "\\item 'SEM\\_PRI'\n",
       "\\item 'ANO\\_NASC'\n",
       "\\item 'NU\\_IDADE\\_N'\n",
       "\\item 'CS\\_SEXO'\n",
       "\\item 'CS\\_GESTANT'\n",
       "\\item 'CS\\_RACA'\n",
       "\\item 'CS\\_ESCOL\\_N'\n",
       "\\item 'SG\\_UF'\n",
       "\\item 'ID\\_MN\\_RESI'\n",
       "\\item 'ID\\_RG\\_RESI'\n",
       "\\item 'ID\\_PAIS'\n",
       "\\item 'DT\\_INVEST'\n",
       "\\item 'ID\\_OCUPA\\_N'\n",
       "\\item 'FEBRE'\n",
       "\\item 'MIALGIA'\n",
       "\\item 'CEFALEIA'\n",
       "\\item 'EXANTEMA'\n",
       "\\item 'VOMITO'\n",
       "\\item 'NAUSEA'\n",
       "\\item 'DOR\\_COSTAS'\n",
       "\\item 'CONJUNTVIT'\n",
       "\\item 'ARTRITE'\n",
       "\\item 'ARTRALGIA'\n",
       "\\item 'PETEQUIA\\_N'\n",
       "\\item 'LEUCOPENIA'\n",
       "\\item 'LACO'\n",
       "\\item 'DOR\\_RETRO'\n",
       "\\item 'DIABETES'\n",
       "\\item 'HEMATOLOG'\n",
       "\\item 'HEPATOPAT'\n",
       "\\item 'RENAL'\n",
       "\\item 'HIPERTENSA'\n",
       "\\item 'ACIDO\\_PEPT'\n",
       "\\item 'AUTO\\_IMUNE'\n",
       "\\item 'DT\\_CHIK\\_S1'\n",
       "\\item 'DT\\_CHIK\\_S2'\n",
       "\\item 'DT\\_PRNT'\n",
       "\\item 'RES\\_CHIKS1'\n",
       "\\item 'RES\\_CHIKS2'\n",
       "\\item 'RESUL\\_PRNT'\n",
       "\\item 'DT\\_SORO'\n",
       "\\item 'RESUL\\_SORO'\n",
       "\\item 'DT\\_NS1'\n",
       "\\item 'RESUL\\_NS1'\n",
       "\\item 'DT\\_VIRAL'\n",
       "\\item 'RESUL\\_VI\\_N'\n",
       "\\item 'DT\\_PCR'\n",
       "\\item 'RESUL\\_PCR\\_'\n",
       "\\item 'SOROTIPO'\n",
       "\\item 'HISTOPA\\_N'\n",
       "\\item 'IMUNOH\\_N'\n",
       "\\item 'HOSPITALIZ'\n",
       "\\item 'DT\\_INTERNA'\n",
       "\\item 'UF'\n",
       "\\item 'MUNICIPIO'\n",
       "\\item 'TPAUTOCTO'\n",
       "\\item 'COUFINF'\n",
       "\\item 'COPAISINF'\n",
       "\\item 'COMUNINF'\n",
       "\\item 'CLASSI\\_FIN'\n",
       "\\item 'CRITERIO'\n",
       "\\item 'DOENCA\\_TRA'\n",
       "\\item 'CLINC\\_CHIK'\n",
       "\\item 'EVOLUCAO'\n",
       "\\item 'DT\\_OBITO'\n",
       "\\item 'DT\\_ENCERRA'\n",
       "\\item 'ALRM\\_HIPOT'\n",
       "\\item 'ALRM\\_PLAQ'\n",
       "\\item 'ALRM\\_VOM'\n",
       "\\item 'ALRM\\_SANG'\n",
       "\\item 'ALRM\\_HEMAT'\n",
       "\\item 'ALRM\\_ABDOM'\n",
       "\\item 'ALRM\\_LETAR'\n",
       "\\item 'ALRM\\_HEPAT'\n",
       "\\item 'ALRM\\_LIQ'\n",
       "\\item 'DT\\_ALRM'\n",
       "\\item 'GRAV\\_PULSO'\n",
       "\\item 'GRAV\\_CONV'\n",
       "\\item 'GRAV\\_ENCH'\n",
       "\\item 'GRAV\\_INSUF'\n",
       "\\item 'GRAV\\_TAQUI'\n",
       "\\item 'GRAV\\_EXTRE'\n",
       "\\item 'GRAV\\_HIPOT'\n",
       "\\item 'GRAV\\_HEMAT'\n",
       "\\item 'GRAV\\_MELEN'\n",
       "\\item 'GRAV\\_METRO'\n",
       "\\item 'GRAV\\_SANG'\n",
       "\\item 'GRAV\\_AST'\n",
       "\\item 'GRAV\\_MIOC'\n",
       "\\item 'GRAV\\_CONSC'\n",
       "\\item 'GRAV\\_ORGAO'\n",
       "\\item 'DT\\_GRAV'\n",
       "\\item 'MANI\\_HEMOR'\n",
       "\\item 'EPISTAXE'\n",
       "\\item 'GENGIVO'\n",
       "\\item 'METRO'\n",
       "\\item 'PETEQUIAS'\n",
       "\\item 'HEMATURA'\n",
       "\\item 'SANGRAM'\n",
       "\\item 'LACO\\_N'\n",
       "\\item 'PLASMATICO'\n",
       "\\item 'EVIDENCIA'\n",
       "\\item 'PLAQ\\_MENOR'\n",
       "\\item 'CON\\_FHD'\n",
       "\\item 'COMPLICA'\n",
       "\\item 'NU\\_LOTE\\_I'\n",
       "\\item 'TP\\_SISTEMA'\n",
       "\\item 'NDUPLIC\\_N'\n",
       "\\item 'DT\\_DIGITA'\n",
       "\\item 'CS\\_FLXRET'\n",
       "\\item 'FLXRECEBI'\n",
       "\\item 'MIGRADO\\_W'\n",
       "\\end{enumerate*}\n"
      ],
      "text/markdown": [
       "1. 'TP_NOT'\n",
       "2. 'ID_AGRAVO'\n",
       "3. 'DT_NOTIFIC'\n",
       "4. 'SEM_NOT'\n",
       "5. 'NU_ANO'\n",
       "6. 'SG_UF_NOT'\n",
       "7. 'ID_MUNICIP'\n",
       "8. 'ID_REGIONA'\n",
       "9. 'ID_UNIDADE'\n",
       "10. 'DT_SIN_PRI'\n",
       "11. 'SEM_PRI'\n",
       "12. 'ANO_NASC'\n",
       "13. 'NU_IDADE_N'\n",
       "14. 'CS_SEXO'\n",
       "15. 'CS_GESTANT'\n",
       "16. 'CS_RACA'\n",
       "17. 'CS_ESCOL_N'\n",
       "18. 'SG_UF'\n",
       "19. 'ID_MN_RESI'\n",
       "20. 'ID_RG_RESI'\n",
       "21. 'ID_PAIS'\n",
       "22. 'DT_INVEST'\n",
       "23. 'ID_OCUPA_N'\n",
       "24. 'FEBRE'\n",
       "25. 'MIALGIA'\n",
       "26. 'CEFALEIA'\n",
       "27. 'EXANTEMA'\n",
       "28. 'VOMITO'\n",
       "29. 'NAUSEA'\n",
       "30. 'DOR_COSTAS'\n",
       "31. 'CONJUNTVIT'\n",
       "32. 'ARTRITE'\n",
       "33. 'ARTRALGIA'\n",
       "34. 'PETEQUIA_N'\n",
       "35. 'LEUCOPENIA'\n",
       "36. 'LACO'\n",
       "37. 'DOR_RETRO'\n",
       "38. 'DIABETES'\n",
       "39. 'HEMATOLOG'\n",
       "40. 'HEPATOPAT'\n",
       "41. 'RENAL'\n",
       "42. 'HIPERTENSA'\n",
       "43. 'ACIDO_PEPT'\n",
       "44. 'AUTO_IMUNE'\n",
       "45. 'DT_CHIK_S1'\n",
       "46. 'DT_CHIK_S2'\n",
       "47. 'DT_PRNT'\n",
       "48. 'RES_CHIKS1'\n",
       "49. 'RES_CHIKS2'\n",
       "50. 'RESUL_PRNT'\n",
       "51. 'DT_SORO'\n",
       "52. 'RESUL_SORO'\n",
       "53. 'DT_NS1'\n",
       "54. 'RESUL_NS1'\n",
       "55. 'DT_VIRAL'\n",
       "56. 'RESUL_VI_N'\n",
       "57. 'DT_PCR'\n",
       "58. 'RESUL_PCR_'\n",
       "59. 'SOROTIPO'\n",
       "60. 'HISTOPA_N'\n",
       "61. 'IMUNOH_N'\n",
       "62. 'HOSPITALIZ'\n",
       "63. 'DT_INTERNA'\n",
       "64. 'UF'\n",
       "65. 'MUNICIPIO'\n",
       "66. 'TPAUTOCTO'\n",
       "67. 'COUFINF'\n",
       "68. 'COPAISINF'\n",
       "69. 'COMUNINF'\n",
       "70. 'CLASSI_FIN'\n",
       "71. 'CRITERIO'\n",
       "72. 'DOENCA_TRA'\n",
       "73. 'CLINC_CHIK'\n",
       "74. 'EVOLUCAO'\n",
       "75. 'DT_OBITO'\n",
       "76. 'DT_ENCERRA'\n",
       "77. 'ALRM_HIPOT'\n",
       "78. 'ALRM_PLAQ'\n",
       "79. 'ALRM_VOM'\n",
       "80. 'ALRM_SANG'\n",
       "81. 'ALRM_HEMAT'\n",
       "82. 'ALRM_ABDOM'\n",
       "83. 'ALRM_LETAR'\n",
       "84. 'ALRM_HEPAT'\n",
       "85. 'ALRM_LIQ'\n",
       "86. 'DT_ALRM'\n",
       "87. 'GRAV_PULSO'\n",
       "88. 'GRAV_CONV'\n",
       "89. 'GRAV_ENCH'\n",
       "90. 'GRAV_INSUF'\n",
       "91. 'GRAV_TAQUI'\n",
       "92. 'GRAV_EXTRE'\n",
       "93. 'GRAV_HIPOT'\n",
       "94. 'GRAV_HEMAT'\n",
       "95. 'GRAV_MELEN'\n",
       "96. 'GRAV_METRO'\n",
       "97. 'GRAV_SANG'\n",
       "98. 'GRAV_AST'\n",
       "99. 'GRAV_MIOC'\n",
       "100. 'GRAV_CONSC'\n",
       "101. 'GRAV_ORGAO'\n",
       "102. 'DT_GRAV'\n",
       "103. 'MANI_HEMOR'\n",
       "104. 'EPISTAXE'\n",
       "105. 'GENGIVO'\n",
       "106. 'METRO'\n",
       "107. 'PETEQUIAS'\n",
       "108. 'HEMATURA'\n",
       "109. 'SANGRAM'\n",
       "110. 'LACO_N'\n",
       "111. 'PLASMATICO'\n",
       "112. 'EVIDENCIA'\n",
       "113. 'PLAQ_MENOR'\n",
       "114. 'CON_FHD'\n",
       "115. 'COMPLICA'\n",
       "116. 'NU_LOTE_I'\n",
       "117. 'TP_SISTEMA'\n",
       "118. 'NDUPLIC_N'\n",
       "119. 'DT_DIGITA'\n",
       "120. 'CS_FLXRET'\n",
       "121. 'FLXRECEBI'\n",
       "122. 'MIGRADO_W'\n",
       "\n",
       "\n"
      ],
      "text/plain": [
       "  [1] \"TP_NOT\"     \"ID_AGRAVO\"  \"DT_NOTIFIC\" \"SEM_NOT\"    \"NU_ANO\"    \n",
       "  [6] \"SG_UF_NOT\"  \"ID_MUNICIP\" \"ID_REGIONA\" \"ID_UNIDADE\" \"DT_SIN_PRI\"\n",
       " [11] \"SEM_PRI\"    \"ANO_NASC\"   \"NU_IDADE_N\" \"CS_SEXO\"    \"CS_GESTANT\"\n",
       " [16] \"CS_RACA\"    \"CS_ESCOL_N\" \"SG_UF\"      \"ID_MN_RESI\" \"ID_RG_RESI\"\n",
       " [21] \"ID_PAIS\"    \"DT_INVEST\"  \"ID_OCUPA_N\" \"FEBRE\"      \"MIALGIA\"   \n",
       " [26] \"CEFALEIA\"   \"EXANTEMA\"   \"VOMITO\"     \"NAUSEA\"     \"DOR_COSTAS\"\n",
       " [31] \"CONJUNTVIT\" \"ARTRITE\"    \"ARTRALGIA\"  \"PETEQUIA_N\" \"LEUCOPENIA\"\n",
       " [36] \"LACO\"       \"DOR_RETRO\"  \"DIABETES\"   \"HEMATOLOG\"  \"HEPATOPAT\" \n",
       " [41] \"RENAL\"      \"HIPERTENSA\" \"ACIDO_PEPT\" \"AUTO_IMUNE\" \"DT_CHIK_S1\"\n",
       " [46] \"DT_CHIK_S2\" \"DT_PRNT\"    \"RES_CHIKS1\" \"RES_CHIKS2\" \"RESUL_PRNT\"\n",
       " [51] \"DT_SORO\"    \"RESUL_SORO\" \"DT_NS1\"     \"RESUL_NS1\"  \"DT_VIRAL\"  \n",
       " [56] \"RESUL_VI_N\" \"DT_PCR\"     \"RESUL_PCR_\" \"SOROTIPO\"   \"HISTOPA_N\" \n",
       " [61] \"IMUNOH_N\"   \"HOSPITALIZ\" \"DT_INTERNA\" \"UF\"         \"MUNICIPIO\" \n",
       " [66] \"TPAUTOCTO\"  \"COUFINF\"    \"COPAISINF\"  \"COMUNINF\"   \"CLASSI_FIN\"\n",
       " [71] \"CRITERIO\"   \"DOENCA_TRA\" \"CLINC_CHIK\" \"EVOLUCAO\"   \"DT_OBITO\"  \n",
       " [76] \"DT_ENCERRA\" \"ALRM_HIPOT\" \"ALRM_PLAQ\"  \"ALRM_VOM\"   \"ALRM_SANG\" \n",
       " [81] \"ALRM_HEMAT\" \"ALRM_ABDOM\" \"ALRM_LETAR\" \"ALRM_HEPAT\" \"ALRM_LIQ\"  \n",
       " [86] \"DT_ALRM\"    \"GRAV_PULSO\" \"GRAV_CONV\"  \"GRAV_ENCH\"  \"GRAV_INSUF\"\n",
       " [91] \"GRAV_TAQUI\" \"GRAV_EXTRE\" \"GRAV_HIPOT\" \"GRAV_HEMAT\" \"GRAV_MELEN\"\n",
       " [96] \"GRAV_METRO\" \"GRAV_SANG\"  \"GRAV_AST\"   \"GRAV_MIOC\"  \"GRAV_CONSC\"\n",
       "[101] \"GRAV_ORGAO\" \"DT_GRAV\"    \"MANI_HEMOR\" \"EPISTAXE\"   \"GENGIVO\"   \n",
       "[106] \"METRO\"      \"PETEQUIAS\"  \"HEMATURA\"   \"SANGRAM\"    \"LACO_N\"    \n",
       "[111] \"PLASMATICO\" \"EVIDENCIA\"  \"PLAQ_MENOR\" \"CON_FHD\"    \"COMPLICA\"  \n",
       "[116] \"NU_LOTE_I\"  \"TP_SISTEMA\" \"NDUPLIC_N\"  \"DT_DIGITA\"  \"CS_FLXRET\" \n",
       "[121] \"FLXRECEBI\"  \"MIGRADO_W\" "
      ]
     },
     "metadata": {},
     "output_type": "display_data"
    }
   ],
   "source": [
    "# visualize data\n",
    "\n",
    "data %>% head\n",
    "data %>% colnames"
   ]
  },
  {
   "cell_type": "code",
   "execution_count": 8,
   "id": "66ed80e2",
   "metadata": {},
   "outputs": [
    {
     "data": {
      "text/html": [
       "<table class=\"dataframe\">\n",
       "<caption>A data.frame: 6 × 2</caption>\n",
       "<thead>\n",
       "\t<tr><th scope=col>EVOLUCAO</th><th scope=col>n</th></tr>\n",
       "\t<tr><th scope=col>&lt;int&gt;</th><th scope=col>&lt;int&gt;</th></tr>\n",
       "</thead>\n",
       "<tbody>\n",
       "\t<tr><td> 1</td><td>215573</td></tr>\n",
       "\t<tr><td> 2</td><td>   102</td></tr>\n",
       "\t<tr><td> 3</td><td>   278</td></tr>\n",
       "\t<tr><td> 4</td><td>    33</td></tr>\n",
       "\t<tr><td> 9</td><td>  8244</td></tr>\n",
       "\t<tr><td>NA</td><td> 45593</td></tr>\n",
       "</tbody>\n",
       "</table>\n"
      ],
      "text/latex": [
       "A data.frame: 6 × 2\n",
       "\\begin{tabular}{ll}\n",
       " EVOLUCAO & n\\\\\n",
       " <int> & <int>\\\\\n",
       "\\hline\n",
       "\t  1 & 215573\\\\\n",
       "\t  2 &    102\\\\\n",
       "\t  3 &    278\\\\\n",
       "\t  4 &     33\\\\\n",
       "\t  9 &   8244\\\\\n",
       "\t NA &  45593\\\\\n",
       "\\end{tabular}\n"
      ],
      "text/markdown": [
       "\n",
       "A data.frame: 6 × 2\n",
       "\n",
       "| EVOLUCAO &lt;int&gt; | n &lt;int&gt; |\n",
       "|---|---|\n",
       "|  1 | 215573 |\n",
       "|  2 |    102 |\n",
       "|  3 |    278 |\n",
       "|  4 |     33 |\n",
       "|  9 |   8244 |\n",
       "| NA |  45593 |\n",
       "\n"
      ],
      "text/plain": [
       "  EVOLUCAO n     \n",
       "1  1       215573\n",
       "2  2          102\n",
       "3  3          278\n",
       "4  4           33\n",
       "5  9         8244\n",
       "6 NA        45593"
      ]
     },
     "metadata": {},
     "output_type": "display_data"
    },
    {
     "data": {
      "text/html": [
       "<table class=\"dataframe\">\n",
       "<caption>A data.frame: 4 × 2</caption>\n",
       "<thead>\n",
       "\t<tr><th scope=col>HOSPITALIZ</th><th scope=col>n</th></tr>\n",
       "\t<tr><th scope=col>&lt;int&gt;</th><th scope=col>&lt;int&gt;</th></tr>\n",
       "</thead>\n",
       "<tbody>\n",
       "\t<tr><td> 1</td><td>  6534</td></tr>\n",
       "\t<tr><td> 2</td><td>150163</td></tr>\n",
       "\t<tr><td> 9</td><td>  3858</td></tr>\n",
       "\t<tr><td>NA</td><td>109268</td></tr>\n",
       "</tbody>\n",
       "</table>\n"
      ],
      "text/latex": [
       "A data.frame: 4 × 2\n",
       "\\begin{tabular}{ll}\n",
       " HOSPITALIZ & n\\\\\n",
       " <int> & <int>\\\\\n",
       "\\hline\n",
       "\t  1 &   6534\\\\\n",
       "\t  2 & 150163\\\\\n",
       "\t  9 &   3858\\\\\n",
       "\t NA & 109268\\\\\n",
       "\\end{tabular}\n"
      ],
      "text/markdown": [
       "\n",
       "A data.frame: 4 × 2\n",
       "\n",
       "| HOSPITALIZ &lt;int&gt; | n &lt;int&gt; |\n",
       "|---|---|\n",
       "|  1 |   6534 |\n",
       "|  2 | 150163 |\n",
       "|  9 |   3858 |\n",
       "| NA | 109268 |\n",
       "\n"
      ],
      "text/plain": [
       "  HOSPITALIZ n     \n",
       "1  1           6534\n",
       "2  2         150163\n",
       "3  9           3858\n",
       "4 NA         109268"
      ]
     },
     "metadata": {},
     "output_type": "display_data"
    },
    {
     "data": {
      "text/html": [
       "<style>\n",
       ".list-inline {list-style: none; margin:0; padding: 0}\n",
       ".list-inline>li {display: inline-block}\n",
       ".list-inline>li:not(:last-child)::after {content: \"\\00b7\"; padding: 0 .5ex}\n",
       "</style>\n",
       "<ol class=list-inline><li>269823</li><li>122</li></ol>\n"
      ],
      "text/latex": [
       "\\begin{enumerate*}\n",
       "\\item 269823\n",
       "\\item 122\n",
       "\\end{enumerate*}\n"
      ],
      "text/markdown": [
       "1. 269823\n",
       "2. 122\n",
       "\n",
       "\n"
      ],
      "text/plain": [
       "[1] 269823    122"
      ]
     },
     "metadata": {},
     "output_type": "display_data"
    }
   ],
   "source": [
    "# inspect target features\n",
    "\n",
    "data %>% count(EVOLUCAO)\n",
    "data %>% count(HOSPITALIZ)\n",
    "\n",
    "data %>% dim"
   ]
  },
  {
   "cell_type": "code",
   "execution_count": 9,
   "id": "790587de",
   "metadata": {},
   "outputs": [
    {
     "data": {
      "text/html": [
       "<style>\n",
       ".list-inline {list-style: none; margin:0; padding: 0}\n",
       ".list-inline>li {display: inline-block}\n",
       ".list-inline>li:not(:last-child)::after {content: \"\\00b7\"; padding: 0 .5ex}\n",
       "</style>\n",
       "<ol class=list-inline><li>309</li><li>1</li></ol>\n"
      ],
      "text/latex": [
       "\\begin{enumerate*}\n",
       "\\item 309\n",
       "\\item 1\n",
       "\\end{enumerate*}\n"
      ],
      "text/markdown": [
       "1. 309\n",
       "2. 1\n",
       "\n",
       "\n"
      ],
      "text/plain": [
       "[1] 309   1"
      ]
     },
     "metadata": {},
     "output_type": "display_data"
    },
    {
     "data": {
      "text/html": [
       "<style>\n",
       ".list-inline {list-style: none; margin:0; padding: 0}\n",
       ".list-inline>li {display: inline-block}\n",
       ".list-inline>li:not(:last-child)::after {content: \"\\00b7\"; padding: 0 .5ex}\n",
       "</style>\n",
       "<ol class=list-inline><li>2658</li><li>1</li></ol>\n"
      ],
      "text/latex": [
       "\\begin{enumerate*}\n",
       "\\item 2658\n",
       "\\item 1\n",
       "\\end{enumerate*}\n"
      ],
      "text/markdown": [
       "1. 2658\n",
       "2. 1\n",
       "\n",
       "\n"
      ],
      "text/plain": [
       "[1] 2658    1"
      ]
     },
     "metadata": {},
     "output_type": "display_data"
    },
    {
     "data": {
      "text/html": [
       "<style>\n",
       ".list-inline {list-style: none; margin:0; padding: 0}\n",
       ".list-inline>li {display: inline-block}\n",
       ".list-inline>li:not(:last-child)::after {content: \"\\00b7\"; padding: 0 .5ex}\n",
       "</style>\n",
       "<ol class=list-inline><li>26</li><li>1</li></ol>\n"
      ],
      "text/latex": [
       "\\begin{enumerate*}\n",
       "\\item 26\n",
       "\\item 1\n",
       "\\end{enumerate*}\n"
      ],
      "text/markdown": [
       "1. 26\n",
       "2. 1\n",
       "\n",
       "\n"
      ],
      "text/plain": [
       "[1] 26  1"
      ]
     },
     "metadata": {},
     "output_type": "display_data"
    },
    {
     "data": {
      "text/html": [
       "<style>\n",
       ".list-inline {list-style: none; margin:0; padding: 0}\n",
       ".list-inline>li {display: inline-block}\n",
       ".list-inline>li:not(:last-child)::after {content: \"\\00b7\"; padding: 0 .5ex}\n",
       "</style>\n",
       "<ol class=list-inline><li>27</li><li>1</li></ol>\n"
      ],
      "text/latex": [
       "\\begin{enumerate*}\n",
       "\\item 27\n",
       "\\item 1\n",
       "\\end{enumerate*}\n"
      ],
      "text/markdown": [
       "1. 27\n",
       "2. 1\n",
       "\n",
       "\n"
      ],
      "text/plain": [
       "[1] 27  1"
      ]
     },
     "metadata": {},
     "output_type": "display_data"
    },
    {
     "data": {
      "text/html": [
       "<style>\n",
       ".list-inline {list-style: none; margin:0; padding: 0}\n",
       ".list-inline>li {display: inline-block}\n",
       ".list-inline>li:not(:last-child)::after {content: \"\\00b7\"; padding: 0 .5ex}\n",
       "</style>\n",
       "<ol class=list-inline><li>3056</li><li>1</li></ol>\n"
      ],
      "text/latex": [
       "\\begin{enumerate*}\n",
       "\\item 3056\n",
       "\\item 1\n",
       "\\end{enumerate*}\n"
      ],
      "text/markdown": [
       "1. 3056\n",
       "2. 1\n",
       "\n",
       "\n"
      ],
      "text/plain": [
       "[1] 3056    1"
      ]
     },
     "metadata": {},
     "output_type": "display_data"
    },
    {
     "data": {
      "text/html": [
       "<style>\n",
       ".list-inline {list-style: none; margin:0; padding: 0}\n",
       ".list-inline>li {display: inline-block}\n",
       ".list-inline>li:not(:last-child)::after {content: \"\\00b7\"; padding: 0 .5ex}\n",
       "</style>\n",
       "<ol class=list-inline><li>2</li><li>1</li></ol>\n"
      ],
      "text/latex": [
       "\\begin{enumerate*}\n",
       "\\item 2\n",
       "\\item 1\n",
       "\\end{enumerate*}\n"
      ],
      "text/markdown": [
       "1. 2\n",
       "2. 1\n",
       "\n",
       "\n"
      ],
      "text/plain": [
       "[1] 2 1"
      ]
     },
     "metadata": {},
     "output_type": "display_data"
    },
    {
     "data": {
      "text/html": [
       "<style>\n",
       ".list-inline {list-style: none; margin:0; padding: 0}\n",
       ".list-inline>li {display: inline-block}\n",
       ".list-inline>li:not(:last-child)::after {content: \"\\00b7\"; padding: 0 .5ex}\n",
       "</style>\n",
       "<ol class=list-inline><li>314</li><li>1</li></ol>\n"
      ],
      "text/latex": [
       "\\begin{enumerate*}\n",
       "\\item 314\n",
       "\\item 1\n",
       "\\end{enumerate*}\n"
      ],
      "text/markdown": [
       "1. 314\n",
       "2. 1\n",
       "\n",
       "\n"
      ],
      "text/plain": [
       "[1] 314   1"
      ]
     },
     "metadata": {},
     "output_type": "display_data"
    },
    {
     "data": {
      "text/html": [
       "<style>\n",
       ".list-inline {list-style: none; margin:0; padding: 0}\n",
       ".list-inline>li {display: inline-block}\n",
       ".list-inline>li:not(:last-child)::after {content: \"\\00b7\"; padding: 0 .5ex}\n",
       "</style>\n",
       "<ol class=list-inline><li>13027</li><li>1</li></ol>\n"
      ],
      "text/latex": [
       "\\begin{enumerate*}\n",
       "\\item 13027\n",
       "\\item 1\n",
       "\\end{enumerate*}\n"
      ],
      "text/markdown": [
       "1. 13027\n",
       "2. 1\n",
       "\n",
       "\n"
      ],
      "text/plain": [
       "[1] 13027     1"
      ]
     },
     "metadata": {},
     "output_type": "display_data"
    },
    {
     "data": {
      "text/html": [
       "<style>\n",
       ".list-inline {list-style: none; margin:0; padding: 0}\n",
       ".list-inline>li {display: inline-block}\n",
       ".list-inline>li:not(:last-child)::after {content: \"\\00b7\"; padding: 0 .5ex}\n",
       "</style>\n",
       "<ol class=list-inline><li>27</li><li>1</li></ol>\n"
      ],
      "text/latex": [
       "\\begin{enumerate*}\n",
       "\\item 27\n",
       "\\item 1\n",
       "\\end{enumerate*}\n"
      ],
      "text/markdown": [
       "1. 27\n",
       "2. 1\n",
       "\n",
       "\n"
      ],
      "text/plain": [
       "[1] 27  1"
      ]
     },
     "metadata": {},
     "output_type": "display_data"
    },
    {
     "data": {
      "text/html": [
       "<style>\n",
       ".list-inline {list-style: none; margin:0; padding: 0}\n",
       ".list-inline>li {display: inline-block}\n",
       ".list-inline>li:not(:last-child)::after {content: \"\\00b7\"; padding: 0 .5ex}\n",
       "</style>\n",
       "<ol class=list-inline><li>593</li><li>1</li></ol>\n"
      ],
      "text/latex": [
       "\\begin{enumerate*}\n",
       "\\item 593\n",
       "\\item 1\n",
       "\\end{enumerate*}\n"
      ],
      "text/markdown": [
       "1. 593\n",
       "2. 1\n",
       "\n",
       "\n"
      ],
      "text/plain": [
       "[1] 593   1"
      ]
     },
     "metadata": {},
     "output_type": "display_data"
    }
   ],
   "source": [
    "# check how many regions, states and cities are present in the database\n",
    "\n",
    "data %>% select(ID_REGIONA) %>% unique %>% dim\n",
    "data %>% select(ID_MUNICIP) %>% unique %>% dim\n",
    "data %>% select(SG_UF_NOT) %>% unique %>% dim\n",
    "data %>% select(SG_UF) %>% unique %>% dim\n",
    "\n",
    "data %>% select(ID_MN_RESI) %>% unique %>% dim\n",
    "data %>% select(ID_PAIS) %>% unique %>% dim\n",
    "data %>% select(ID_RG_RESI) %>% unique %>% dim\n",
    "\n",
    "data %>% select(ID_UNIDADE) %>% unique %>% dim\n",
    "\n",
    "data %>% select(UF) %>% unique %>% dim\n",
    "data %>% select(MUNICIPIO) %>% unique %>% dim\n"
   ]
  },
  {
   "cell_type": "markdown",
   "id": "aceef5a1",
   "metadata": {},
   "source": [
    "### Delete columns"
   ]
  },
  {
   "cell_type": "code",
   "execution_count": 10,
   "id": "a1e0a0b5",
   "metadata": {},
   "outputs": [
    {
     "data": {
      "text/html": [
       "<table class=\"dataframe\">\n",
       "<caption>A data.frame: 1 × 2</caption>\n",
       "<thead>\n",
       "\t<tr><th scope=col>TPAUTOCTO</th><th scope=col>n</th></tr>\n",
       "\t<tr><th scope=col>&lt;lgl&gt;</th><th scope=col>&lt;int&gt;</th></tr>\n",
       "</thead>\n",
       "<tbody>\n",
       "\t<tr><td>NA</td><td>269823</td></tr>\n",
       "</tbody>\n",
       "</table>\n"
      ],
      "text/latex": [
       "A data.frame: 1 × 2\n",
       "\\begin{tabular}{ll}\n",
       " TPAUTOCTO & n\\\\\n",
       " <lgl> & <int>\\\\\n",
       "\\hline\n",
       "\t NA & 269823\\\\\n",
       "\\end{tabular}\n"
      ],
      "text/markdown": [
       "\n",
       "A data.frame: 1 × 2\n",
       "\n",
       "| TPAUTOCTO &lt;lgl&gt; | n &lt;int&gt; |\n",
       "|---|---|\n",
       "| NA | 269823 |\n",
       "\n"
      ],
      "text/plain": [
       "  TPAUTOCTO n     \n",
       "1 NA        269823"
      ]
     },
     "metadata": {},
     "output_type": "display_data"
    },
    {
     "data": {
      "text/html": [
       "<table class=\"dataframe\">\n",
       "<caption>A data.frame: 1 × 2</caption>\n",
       "<thead>\n",
       "\t<tr><th scope=col>COPAISINF</th><th scope=col>n</th></tr>\n",
       "\t<tr><th scope=col>&lt;lgl&gt;</th><th scope=col>&lt;int&gt;</th></tr>\n",
       "</thead>\n",
       "<tbody>\n",
       "\t<tr><td>NA</td><td>269823</td></tr>\n",
       "</tbody>\n",
       "</table>\n"
      ],
      "text/latex": [
       "A data.frame: 1 × 2\n",
       "\\begin{tabular}{ll}\n",
       " COPAISINF & n\\\\\n",
       " <lgl> & <int>\\\\\n",
       "\\hline\n",
       "\t NA & 269823\\\\\n",
       "\\end{tabular}\n"
      ],
      "text/markdown": [
       "\n",
       "A data.frame: 1 × 2\n",
       "\n",
       "| COPAISINF &lt;lgl&gt; | n &lt;int&gt; |\n",
       "|---|---|\n",
       "| NA | 269823 |\n",
       "\n"
      ],
      "text/plain": [
       "  COPAISINF n     \n",
       "1 NA        269823"
      ]
     },
     "metadata": {},
     "output_type": "display_data"
    },
    {
     "data": {
      "text/html": [
       "<table class=\"dataframe\">\n",
       "<caption>A data.frame: 1 × 2</caption>\n",
       "<thead>\n",
       "\t<tr><th scope=col>COMUNINF</th><th scope=col>n</th></tr>\n",
       "\t<tr><th scope=col>&lt;lgl&gt;</th><th scope=col>&lt;int&gt;</th></tr>\n",
       "</thead>\n",
       "<tbody>\n",
       "\t<tr><td>NA</td><td>269823</td></tr>\n",
       "</tbody>\n",
       "</table>\n"
      ],
      "text/latex": [
       "A data.frame: 1 × 2\n",
       "\\begin{tabular}{ll}\n",
       " COMUNINF & n\\\\\n",
       " <lgl> & <int>\\\\\n",
       "\\hline\n",
       "\t NA & 269823\\\\\n",
       "\\end{tabular}\n"
      ],
      "text/markdown": [
       "\n",
       "A data.frame: 1 × 2\n",
       "\n",
       "| COMUNINF &lt;lgl&gt; | n &lt;int&gt; |\n",
       "|---|---|\n",
       "| NA | 269823 |\n",
       "\n"
      ],
      "text/plain": [
       "  COMUNINF n     \n",
       "1 NA       269823"
      ]
     },
     "metadata": {},
     "output_type": "display_data"
    },
    {
     "data": {
      "text/html": [
       "<table class=\"dataframe\">\n",
       "<caption>A data.frame: 2 × 2</caption>\n",
       "<thead>\n",
       "\t<tr><th scope=col>NU_LOTE_I</th><th scope=col>n</th></tr>\n",
       "\t<tr><th scope=col>&lt;int&gt;</th><th scope=col>&lt;int&gt;</th></tr>\n",
       "</thead>\n",
       "<tbody>\n",
       "\t<tr><td> 0</td><td>     6</td></tr>\n",
       "\t<tr><td>NA</td><td>269817</td></tr>\n",
       "</tbody>\n",
       "</table>\n"
      ],
      "text/latex": [
       "A data.frame: 2 × 2\n",
       "\\begin{tabular}{ll}\n",
       " NU\\_LOTE\\_I & n\\\\\n",
       " <int> & <int>\\\\\n",
       "\\hline\n",
       "\t  0 &      6\\\\\n",
       "\t NA & 269817\\\\\n",
       "\\end{tabular}\n"
      ],
      "text/markdown": [
       "\n",
       "A data.frame: 2 × 2\n",
       "\n",
       "| NU_LOTE_I &lt;int&gt; | n &lt;int&gt; |\n",
       "|---|---|\n",
       "|  0 |      6 |\n",
       "| NA | 269817 |\n",
       "\n"
      ],
      "text/plain": [
       "  NU_LOTE_I n     \n",
       "1  0             6\n",
       "2 NA        269817"
      ]
     },
     "metadata": {},
     "output_type": "display_data"
    },
    {
     "data": {
      "text/html": [
       "<table class=\"dataframe\">\n",
       "<caption>A data.frame: 2 × 2</caption>\n",
       "<thead>\n",
       "\t<tr><th scope=col>TP_SISTEMA</th><th scope=col>n</th></tr>\n",
       "\t<tr><th scope=col>&lt;int&gt;</th><th scope=col>&lt;int&gt;</th></tr>\n",
       "</thead>\n",
       "<tbody>\n",
       "\t<tr><td> 2</td><td>265294</td></tr>\n",
       "\t<tr><td>NA</td><td>  4529</td></tr>\n",
       "</tbody>\n",
       "</table>\n"
      ],
      "text/latex": [
       "A data.frame: 2 × 2\n",
       "\\begin{tabular}{ll}\n",
       " TP\\_SISTEMA & n\\\\\n",
       " <int> & <int>\\\\\n",
       "\\hline\n",
       "\t  2 & 265294\\\\\n",
       "\t NA &   4529\\\\\n",
       "\\end{tabular}\n"
      ],
      "text/markdown": [
       "\n",
       "A data.frame: 2 × 2\n",
       "\n",
       "| TP_SISTEMA &lt;int&gt; | n &lt;int&gt; |\n",
       "|---|---|\n",
       "|  2 | 265294 |\n",
       "| NA |   4529 |\n",
       "\n"
      ],
      "text/plain": [
       "  TP_SISTEMA n     \n",
       "1  2         265294\n",
       "2 NA           4529"
      ]
     },
     "metadata": {},
     "output_type": "display_data"
    },
    {
     "data": {
      "text/html": [
       "<table class=\"dataframe\">\n",
       "<caption>A data.frame: 1 × 2</caption>\n",
       "<thead>\n",
       "\t<tr><th scope=col>CS_FLXRET</th><th scope=col>n</th></tr>\n",
       "\t<tr><th scope=col>&lt;lgl&gt;</th><th scope=col>&lt;int&gt;</th></tr>\n",
       "</thead>\n",
       "<tbody>\n",
       "\t<tr><td>NA</td><td>269823</td></tr>\n",
       "</tbody>\n",
       "</table>\n"
      ],
      "text/latex": [
       "A data.frame: 1 × 2\n",
       "\\begin{tabular}{ll}\n",
       " CS\\_FLXRET & n\\\\\n",
       " <lgl> & <int>\\\\\n",
       "\\hline\n",
       "\t NA & 269823\\\\\n",
       "\\end{tabular}\n"
      ],
      "text/markdown": [
       "\n",
       "A data.frame: 1 × 2\n",
       "\n",
       "| CS_FLXRET &lt;lgl&gt; | n &lt;int&gt; |\n",
       "|---|---|\n",
       "| NA | 269823 |\n",
       "\n"
      ],
      "text/plain": [
       "  CS_FLXRET n     \n",
       "1 NA        269823"
      ]
     },
     "metadata": {},
     "output_type": "display_data"
    },
    {
     "data": {
      "text/html": [
       "<table class=\"dataframe\">\n",
       "<caption>A data.frame: 1 × 2</caption>\n",
       "<thead>\n",
       "\t<tr><th scope=col>FLXRECEBI</th><th scope=col>n</th></tr>\n",
       "\t<tr><th scope=col>&lt;lgl&gt;</th><th scope=col>&lt;int&gt;</th></tr>\n",
       "</thead>\n",
       "<tbody>\n",
       "\t<tr><td>NA</td><td>269823</td></tr>\n",
       "</tbody>\n",
       "</table>\n"
      ],
      "text/latex": [
       "A data.frame: 1 × 2\n",
       "\\begin{tabular}{ll}\n",
       " FLXRECEBI & n\\\\\n",
       " <lgl> & <int>\\\\\n",
       "\\hline\n",
       "\t NA & 269823\\\\\n",
       "\\end{tabular}\n"
      ],
      "text/markdown": [
       "\n",
       "A data.frame: 1 × 2\n",
       "\n",
       "| FLXRECEBI &lt;lgl&gt; | n &lt;int&gt; |\n",
       "|---|---|\n",
       "| NA | 269823 |\n",
       "\n"
      ],
      "text/plain": [
       "  FLXRECEBI n     \n",
       "1 NA        269823"
      ]
     },
     "metadata": {},
     "output_type": "display_data"
    },
    {
     "data": {
      "text/html": [
       "<table class=\"dataframe\">\n",
       "<caption>A data.frame: 1 × 2</caption>\n",
       "<thead>\n",
       "\t<tr><th scope=col>MIGRADO_W</th><th scope=col>n</th></tr>\n",
       "\t<tr><th scope=col>&lt;lgl&gt;</th><th scope=col>&lt;int&gt;</th></tr>\n",
       "</thead>\n",
       "<tbody>\n",
       "\t<tr><td>NA</td><td>269823</td></tr>\n",
       "</tbody>\n",
       "</table>\n"
      ],
      "text/latex": [
       "A data.frame: 1 × 2\n",
       "\\begin{tabular}{ll}\n",
       " MIGRADO\\_W & n\\\\\n",
       " <lgl> & <int>\\\\\n",
       "\\hline\n",
       "\t NA & 269823\\\\\n",
       "\\end{tabular}\n"
      ],
      "text/markdown": [
       "\n",
       "A data.frame: 1 × 2\n",
       "\n",
       "| MIGRADO_W &lt;lgl&gt; | n &lt;int&gt; |\n",
       "|---|---|\n",
       "| NA | 269823 |\n",
       "\n"
      ],
      "text/plain": [
       "  MIGRADO_W n     \n",
       "1 NA        269823"
      ]
     },
     "metadata": {},
     "output_type": "display_data"
    },
    {
     "data": {
      "text/html": [
       "<table class=\"dataframe\">\n",
       "<caption>A data.frame: 2 × 2</caption>\n",
       "<thead>\n",
       "\t<tr><th scope=col>NDUPLIC_N</th><th scope=col>n</th></tr>\n",
       "\t<tr><th scope=col>&lt;int&gt;</th><th scope=col>&lt;int&gt;</th></tr>\n",
       "</thead>\n",
       "<tbody>\n",
       "\t<tr><td> 1</td><td>    22</td></tr>\n",
       "\t<tr><td>NA</td><td>269801</td></tr>\n",
       "</tbody>\n",
       "</table>\n"
      ],
      "text/latex": [
       "A data.frame: 2 × 2\n",
       "\\begin{tabular}{ll}\n",
       " NDUPLIC\\_N & n\\\\\n",
       " <int> & <int>\\\\\n",
       "\\hline\n",
       "\t  1 &     22\\\\\n",
       "\t NA & 269801\\\\\n",
       "\\end{tabular}\n"
      ],
      "text/markdown": [
       "\n",
       "A data.frame: 2 × 2\n",
       "\n",
       "| NDUPLIC_N &lt;int&gt; | n &lt;int&gt; |\n",
       "|---|---|\n",
       "|  1 |     22 |\n",
       "| NA | 269801 |\n",
       "\n"
      ],
      "text/plain": [
       "  NDUPLIC_N n     \n",
       "1  1            22\n",
       "2 NA        269801"
      ]
     },
     "metadata": {},
     "output_type": "display_data"
    },
    {
     "data": {
      "text/html": [
       "<table class=\"dataframe\">\n",
       "<caption>A data.frame: 1 × 2</caption>\n",
       "<thead>\n",
       "\t<tr><th scope=col>COMPLICA</th><th scope=col>n</th></tr>\n",
       "\t<tr><th scope=col>&lt;lgl&gt;</th><th scope=col>&lt;int&gt;</th></tr>\n",
       "</thead>\n",
       "<tbody>\n",
       "\t<tr><td>NA</td><td>269823</td></tr>\n",
       "</tbody>\n",
       "</table>\n"
      ],
      "text/latex": [
       "A data.frame: 1 × 2\n",
       "\\begin{tabular}{ll}\n",
       " COMPLICA & n\\\\\n",
       " <lgl> & <int>\\\\\n",
       "\\hline\n",
       "\t NA & 269823\\\\\n",
       "\\end{tabular}\n"
      ],
      "text/markdown": [
       "\n",
       "A data.frame: 1 × 2\n",
       "\n",
       "| COMPLICA &lt;lgl&gt; | n &lt;int&gt; |\n",
       "|---|---|\n",
       "| NA | 269823 |\n",
       "\n"
      ],
      "text/plain": [
       "  COMPLICA n     \n",
       "1 NA       269823"
      ]
     },
     "metadata": {},
     "output_type": "display_data"
    },
    {
     "data": {
      "text/html": [
       "<table class=\"dataframe\">\n",
       "<caption>A data.frame: 1 × 2</caption>\n",
       "<thead>\n",
       "\t<tr><th scope=col>CON_FHD</th><th scope=col>n</th></tr>\n",
       "\t<tr><th scope=col>&lt;lgl&gt;</th><th scope=col>&lt;int&gt;</th></tr>\n",
       "</thead>\n",
       "<tbody>\n",
       "\t<tr><td>NA</td><td>269823</td></tr>\n",
       "</tbody>\n",
       "</table>\n"
      ],
      "text/latex": [
       "A data.frame: 1 × 2\n",
       "\\begin{tabular}{ll}\n",
       " CON\\_FHD & n\\\\\n",
       " <lgl> & <int>\\\\\n",
       "\\hline\n",
       "\t NA & 269823\\\\\n",
       "\\end{tabular}\n"
      ],
      "text/markdown": [
       "\n",
       "A data.frame: 1 × 2\n",
       "\n",
       "| CON_FHD &lt;lgl&gt; | n &lt;int&gt; |\n",
       "|---|---|\n",
       "| NA | 269823 |\n",
       "\n"
      ],
      "text/plain": [
       "  CON_FHD n     \n",
       "1 NA      269823"
      ]
     },
     "metadata": {},
     "output_type": "display_data"
    },
    {
     "data": {
      "text/html": [
       "<table class=\"dataframe\">\n",
       "<caption>A data.frame: 1 × 2</caption>\n",
       "<thead>\n",
       "\t<tr><th scope=col>SOROTIPO</th><th scope=col>n</th></tr>\n",
       "\t<tr><th scope=col>&lt;lgl&gt;</th><th scope=col>&lt;int&gt;</th></tr>\n",
       "</thead>\n",
       "<tbody>\n",
       "\t<tr><td>NA</td><td>269823</td></tr>\n",
       "</tbody>\n",
       "</table>\n"
      ],
      "text/latex": [
       "A data.frame: 1 × 2\n",
       "\\begin{tabular}{ll}\n",
       " SOROTIPO & n\\\\\n",
       " <lgl> & <int>\\\\\n",
       "\\hline\n",
       "\t NA & 269823\\\\\n",
       "\\end{tabular}\n"
      ],
      "text/markdown": [
       "\n",
       "A data.frame: 1 × 2\n",
       "\n",
       "| SOROTIPO &lt;lgl&gt; | n &lt;int&gt; |\n",
       "|---|---|\n",
       "| NA | 269823 |\n",
       "\n"
      ],
      "text/plain": [
       "  SOROTIPO n     \n",
       "1 NA       269823"
      ]
     },
     "metadata": {},
     "output_type": "display_data"
    },
    {
     "data": {
      "text/html": [
       "<table class=\"dataframe\">\n",
       "<caption>A data.frame: 2 × 2</caption>\n",
       "<thead>\n",
       "\t<tr><th scope=col>HISTOPA_N</th><th scope=col>n</th></tr>\n",
       "\t<tr><th scope=col>&lt;int&gt;</th><th scope=col>&lt;int&gt;</th></tr>\n",
       "</thead>\n",
       "<tbody>\n",
       "\t<tr><td> 4</td><td>   198</td></tr>\n",
       "\t<tr><td>NA</td><td>269625</td></tr>\n",
       "</tbody>\n",
       "</table>\n"
      ],
      "text/latex": [
       "A data.frame: 2 × 2\n",
       "\\begin{tabular}{ll}\n",
       " HISTOPA\\_N & n\\\\\n",
       " <int> & <int>\\\\\n",
       "\\hline\n",
       "\t  4 &    198\\\\\n",
       "\t NA & 269625\\\\\n",
       "\\end{tabular}\n"
      ],
      "text/markdown": [
       "\n",
       "A data.frame: 2 × 2\n",
       "\n",
       "| HISTOPA_N &lt;int&gt; | n &lt;int&gt; |\n",
       "|---|---|\n",
       "|  4 |    198 |\n",
       "| NA | 269625 |\n",
       "\n"
      ],
      "text/plain": [
       "  HISTOPA_N n     \n",
       "1  4           198\n",
       "2 NA        269625"
      ]
     },
     "metadata": {},
     "output_type": "display_data"
    },
    {
     "data": {
      "text/html": [
       "<table class=\"dataframe\">\n",
       "<caption>A data.frame: 3 × 2</caption>\n",
       "<thead>\n",
       "\t<tr><th scope=col>IMUNOH_N</th><th scope=col>n</th></tr>\n",
       "\t<tr><th scope=col>&lt;int&gt;</th><th scope=col>&lt;int&gt;</th></tr>\n",
       "</thead>\n",
       "<tbody>\n",
       "\t<tr><td> 3</td><td>     1</td></tr>\n",
       "\t<tr><td> 4</td><td>   197</td></tr>\n",
       "\t<tr><td>NA</td><td>269625</td></tr>\n",
       "</tbody>\n",
       "</table>\n"
      ],
      "text/latex": [
       "A data.frame: 3 × 2\n",
       "\\begin{tabular}{ll}\n",
       " IMUNOH\\_N & n\\\\\n",
       " <int> & <int>\\\\\n",
       "\\hline\n",
       "\t  3 &      1\\\\\n",
       "\t  4 &    197\\\\\n",
       "\t NA & 269625\\\\\n",
       "\\end{tabular}\n"
      ],
      "text/markdown": [
       "\n",
       "A data.frame: 3 × 2\n",
       "\n",
       "| IMUNOH_N &lt;int&gt; | n &lt;int&gt; |\n",
       "|---|---|\n",
       "|  3 |      1 |\n",
       "|  4 |    197 |\n",
       "| NA | 269625 |\n",
       "\n"
      ],
      "text/plain": [
       "  IMUNOH_N n     \n",
       "1  3            1\n",
       "2  4          197\n",
       "3 NA       269625"
      ]
     },
     "metadata": {},
     "output_type": "display_data"
    },
    {
     "data": {
      "text/html": [
       "<table class=\"dataframe\">\n",
       "<caption>A data.frame: 2 × 2</caption>\n",
       "<thead>\n",
       "\t<tr><th scope=col>DOENCA_TRA</th><th scope=col>n</th></tr>\n",
       "\t<tr><th scope=col>&lt;int&gt;</th><th scope=col>&lt;int&gt;</th></tr>\n",
       "</thead>\n",
       "<tbody>\n",
       "\t<tr><td> 2</td><td>     3</td></tr>\n",
       "\t<tr><td>NA</td><td>269820</td></tr>\n",
       "</tbody>\n",
       "</table>\n"
      ],
      "text/latex": [
       "A data.frame: 2 × 2\n",
       "\\begin{tabular}{ll}\n",
       " DOENCA\\_TRA & n\\\\\n",
       " <int> & <int>\\\\\n",
       "\\hline\n",
       "\t  2 &      3\\\\\n",
       "\t NA & 269820\\\\\n",
       "\\end{tabular}\n"
      ],
      "text/markdown": [
       "\n",
       "A data.frame: 2 × 2\n",
       "\n",
       "| DOENCA_TRA &lt;int&gt; | n &lt;int&gt; |\n",
       "|---|---|\n",
       "|  2 |      3 |\n",
       "| NA | 269820 |\n",
       "\n"
      ],
      "text/plain": [
       "  DOENCA_TRA n     \n",
       "1  2              3\n",
       "2 NA         269820"
      ]
     },
     "metadata": {},
     "output_type": "display_data"
    },
    {
     "data": {
      "text/html": [
       "<table class=\"dataframe\">\n",
       "<caption>A data.frame: 1 × 2</caption>\n",
       "<thead>\n",
       "\t<tr><th scope=col>ALRM_HIPOT</th><th scope=col>n</th></tr>\n",
       "\t<tr><th scope=col>&lt;lgl&gt;</th><th scope=col>&lt;int&gt;</th></tr>\n",
       "</thead>\n",
       "<tbody>\n",
       "\t<tr><td>NA</td><td>269823</td></tr>\n",
       "</tbody>\n",
       "</table>\n"
      ],
      "text/latex": [
       "A data.frame: 1 × 2\n",
       "\\begin{tabular}{ll}\n",
       " ALRM\\_HIPOT & n\\\\\n",
       " <lgl> & <int>\\\\\n",
       "\\hline\n",
       "\t NA & 269823\\\\\n",
       "\\end{tabular}\n"
      ],
      "text/markdown": [
       "\n",
       "A data.frame: 1 × 2\n",
       "\n",
       "| ALRM_HIPOT &lt;lgl&gt; | n &lt;int&gt; |\n",
       "|---|---|\n",
       "| NA | 269823 |\n",
       "\n"
      ],
      "text/plain": [
       "  ALRM_HIPOT n     \n",
       "1 NA         269823"
      ]
     },
     "metadata": {},
     "output_type": "display_data"
    },
    {
     "data": {
      "text/html": [
       "<table class=\"dataframe\">\n",
       "<caption>A data.frame: 1 × 2</caption>\n",
       "<thead>\n",
       "\t<tr><th scope=col>TP_NOT</th><th scope=col>n</th></tr>\n",
       "\t<tr><th scope=col>&lt;int&gt;</th><th scope=col>&lt;int&gt;</th></tr>\n",
       "</thead>\n",
       "<tbody>\n",
       "\t<tr><td>2</td><td>269823</td></tr>\n",
       "</tbody>\n",
       "</table>\n"
      ],
      "text/latex": [
       "A data.frame: 1 × 2\n",
       "\\begin{tabular}{ll}\n",
       " TP\\_NOT & n\\\\\n",
       " <int> & <int>\\\\\n",
       "\\hline\n",
       "\t 2 & 269823\\\\\n",
       "\\end{tabular}\n"
      ],
      "text/markdown": [
       "\n",
       "A data.frame: 1 × 2\n",
       "\n",
       "| TP_NOT &lt;int&gt; | n &lt;int&gt; |\n",
       "|---|---|\n",
       "| 2 | 269823 |\n",
       "\n"
      ],
      "text/plain": [
       "  TP_NOT n     \n",
       "1 2      269823"
      ]
     },
     "metadata": {},
     "output_type": "display_data"
    },
    {
     "data": {
      "text/html": [
       "<table class=\"dataframe\">\n",
       "<caption>A data.frame: 1 × 2</caption>\n",
       "<thead>\n",
       "\t<tr><th scope=col>ID_AGRAVO</th><th scope=col>n</th></tr>\n",
       "\t<tr><th scope=col>&lt;chr&gt;</th><th scope=col>&lt;int&gt;</th></tr>\n",
       "</thead>\n",
       "<tbody>\n",
       "\t<tr><td>A92.0</td><td>269823</td></tr>\n",
       "</tbody>\n",
       "</table>\n"
      ],
      "text/latex": [
       "A data.frame: 1 × 2\n",
       "\\begin{tabular}{ll}\n",
       " ID\\_AGRAVO & n\\\\\n",
       " <chr> & <int>\\\\\n",
       "\\hline\n",
       "\t A92.0 & 269823\\\\\n",
       "\\end{tabular}\n"
      ],
      "text/markdown": [
       "\n",
       "A data.frame: 1 × 2\n",
       "\n",
       "| ID_AGRAVO &lt;chr&gt; | n &lt;int&gt; |\n",
       "|---|---|\n",
       "| A92.0 | 269823 |\n",
       "\n"
      ],
      "text/plain": [
       "  ID_AGRAVO n     \n",
       "1 A92.0     269823"
      ]
     },
     "metadata": {},
     "output_type": "display_data"
    },
    {
     "data": {
      "text/html": [
       "<table class=\"dataframe\">\n",
       "<caption>A data.frame: 1 × 2</caption>\n",
       "<thead>\n",
       "\t<tr><th scope=col>NU_ANO</th><th scope=col>n</th></tr>\n",
       "\t<tr><th scope=col>&lt;int&gt;</th><th scope=col>&lt;int&gt;</th></tr>\n",
       "</thead>\n",
       "<tbody>\n",
       "\t<tr><td>2022</td><td>269823</td></tr>\n",
       "</tbody>\n",
       "</table>\n"
      ],
      "text/latex": [
       "A data.frame: 1 × 2\n",
       "\\begin{tabular}{ll}\n",
       " NU\\_ANO & n\\\\\n",
       " <int> & <int>\\\\\n",
       "\\hline\n",
       "\t 2022 & 269823\\\\\n",
       "\\end{tabular}\n"
      ],
      "text/markdown": [
       "\n",
       "A data.frame: 1 × 2\n",
       "\n",
       "| NU_ANO &lt;int&gt; | n &lt;int&gt; |\n",
       "|---|---|\n",
       "| 2022 | 269823 |\n",
       "\n"
      ],
      "text/plain": [
       "  NU_ANO n     \n",
       "1 2022   269823"
      ]
     },
     "metadata": {},
     "output_type": "display_data"
    },
    {
     "data": {
      "text/plain": [
       " ALRM_PLAQ      ALRM_VOM       ALRM_SANG      ALRM_HEMAT     ALRM_ABDOM    \n",
       " Mode:logical   Mode:logical   Mode:logical   Mode:logical   Mode:logical  \n",
       " NA's:269823    NA's:269823    NA's:269823    NA's:269823    NA's:269823   \n",
       " ALRM_LETAR     ALRM_HEPAT     ALRM_LIQ      \n",
       " Mode:logical   Mode:logical   Mode:logical  \n",
       " NA's:269823    NA's:269823    NA's:269823   "
      ]
     },
     "metadata": {},
     "output_type": "display_data"
    },
    {
     "data": {
      "text/plain": [
       " GRAV_PULSO     GRAV_CONV      GRAV_ENCH      GRAV_INSUF     GRAV_TAQUI    \n",
       " Mode:logical   Mode:logical   Mode:logical   Mode:logical   Mode:logical  \n",
       " NA's:269823    NA's:269823    NA's:269823    NA's:269823    NA's:269823   \n",
       " GRAV_EXTRE     GRAV_HIPOT     GRAV_HEMAT     GRAV_MELEN     GRAV_METRO    \n",
       " Mode:logical   Mode:logical   Mode:logical   Mode:logical   Mode:logical  \n",
       " NA's:269823    NA's:269823    NA's:269823    NA's:269823    NA's:269823   \n",
       " GRAV_SANG      GRAV_AST       GRAV_MIOC      GRAV_CONSC     GRAV_ORGAO    \n",
       " Mode:logical   Mode:logical   Mode:logical   Mode:logical   Mode:logical  \n",
       " NA's:269823    NA's:269823    NA's:269823    NA's:269823    NA's:269823   "
      ]
     },
     "metadata": {},
     "output_type": "display_data"
    },
    {
     "data": {
      "text/plain": [
       " MANI_HEMOR     EPISTAXE       GENGIVO         METRO         PETEQUIAS     \n",
       " Mode:logical   Mode:logical   Mode:logical   Mode:logical   Mode:logical  \n",
       " NA's:269823    NA's:269823    NA's:269823    NA's:269823    NA's:269823   \n",
       " HEMATURA       SANGRAM         LACO_N        PLASMATICO     EVIDENCIA     \n",
       " Mode:logical   Mode:logical   Mode:logical   Mode:logical   Mode:logical  \n",
       " NA's:269823    NA's:269823    NA's:269823    NA's:269823    NA's:269823   \n",
       " PLAQ_MENOR    \n",
       " Mode:logical  \n",
       " NA's:269823   "
      ]
     },
     "metadata": {},
     "output_type": "display_data"
    },
    {
     "data": {
      "text/html": [
       "<style>\n",
       ".list-inline {list-style: none; margin:0; padding: 0}\n",
       ".list-inline>li {display: inline-block}\n",
       ".list-inline>li:not(:last-child)::after {content: \"\\00b7\"; padding: 0 .5ex}\n",
       "</style>\n",
       "<ol class=list-inline><li>269823</li><li>38</li></ol>\n"
      ],
      "text/latex": [
       "\\begin{enumerate*}\n",
       "\\item 269823\n",
       "\\item 38\n",
       "\\end{enumerate*}\n"
      ],
      "text/markdown": [
       "1. 269823\n",
       "2. 38\n",
       "\n",
       "\n"
      ],
      "text/plain": [
       "[1] 269823     38"
      ]
     },
     "metadata": {},
     "output_type": "display_data"
    },
    {
     "data": {
      "text/html": [
       "<table class=\"dataframe\">\n",
       "<caption>A data.frame: 6 × 2</caption>\n",
       "<thead>\n",
       "\t<tr><th scope=col>EVOLUCAO</th><th scope=col>n</th></tr>\n",
       "\t<tr><th scope=col>&lt;int&gt;</th><th scope=col>&lt;int&gt;</th></tr>\n",
       "</thead>\n",
       "<tbody>\n",
       "\t<tr><td> 1</td><td>215573</td></tr>\n",
       "\t<tr><td> 2</td><td>   102</td></tr>\n",
       "\t<tr><td> 3</td><td>   278</td></tr>\n",
       "\t<tr><td> 4</td><td>    33</td></tr>\n",
       "\t<tr><td> 9</td><td>  8244</td></tr>\n",
       "\t<tr><td>NA</td><td> 45593</td></tr>\n",
       "</tbody>\n",
       "</table>\n"
      ],
      "text/latex": [
       "A data.frame: 6 × 2\n",
       "\\begin{tabular}{ll}\n",
       " EVOLUCAO & n\\\\\n",
       " <int> & <int>\\\\\n",
       "\\hline\n",
       "\t  1 & 215573\\\\\n",
       "\t  2 &    102\\\\\n",
       "\t  3 &    278\\\\\n",
       "\t  4 &     33\\\\\n",
       "\t  9 &   8244\\\\\n",
       "\t NA &  45593\\\\\n",
       "\\end{tabular}\n"
      ],
      "text/markdown": [
       "\n",
       "A data.frame: 6 × 2\n",
       "\n",
       "| EVOLUCAO &lt;int&gt; | n &lt;int&gt; |\n",
       "|---|---|\n",
       "|  1 | 215573 |\n",
       "|  2 |    102 |\n",
       "|  3 |    278 |\n",
       "|  4 |     33 |\n",
       "|  9 |   8244 |\n",
       "| NA |  45593 |\n",
       "\n"
      ],
      "text/plain": [
       "  EVOLUCAO n     \n",
       "1  1       215573\n",
       "2  2          102\n",
       "3  3          278\n",
       "4  4           33\n",
       "5  9         8244\n",
       "6 NA        45593"
      ]
     },
     "metadata": {},
     "output_type": "display_data"
    },
    {
     "data": {
      "text/html": [
       "<table class=\"dataframe\">\n",
       "<caption>A data.frame: 4 × 2</caption>\n",
       "<thead>\n",
       "\t<tr><th scope=col>HOSPITALIZ</th><th scope=col>n</th></tr>\n",
       "\t<tr><th scope=col>&lt;int&gt;</th><th scope=col>&lt;int&gt;</th></tr>\n",
       "</thead>\n",
       "<tbody>\n",
       "\t<tr><td> 1</td><td>  6534</td></tr>\n",
       "\t<tr><td> 2</td><td>150163</td></tr>\n",
       "\t<tr><td> 9</td><td>  3858</td></tr>\n",
       "\t<tr><td>NA</td><td>109268</td></tr>\n",
       "</tbody>\n",
       "</table>\n"
      ],
      "text/latex": [
       "A data.frame: 4 × 2\n",
       "\\begin{tabular}{ll}\n",
       " HOSPITALIZ & n\\\\\n",
       " <int> & <int>\\\\\n",
       "\\hline\n",
       "\t  1 &   6534\\\\\n",
       "\t  2 & 150163\\\\\n",
       "\t  9 &   3858\\\\\n",
       "\t NA & 109268\\\\\n",
       "\\end{tabular}\n"
      ],
      "text/markdown": [
       "\n",
       "A data.frame: 4 × 2\n",
       "\n",
       "| HOSPITALIZ &lt;int&gt; | n &lt;int&gt; |\n",
       "|---|---|\n",
       "|  1 |   6534 |\n",
       "|  2 | 150163 |\n",
       "|  9 |   3858 |\n",
       "| NA | 109268 |\n",
       "\n"
      ],
      "text/plain": [
       "  HOSPITALIZ n     \n",
       "1  1           6534\n",
       "2  2         150163\n",
       "3  9           3858\n",
       "4 NA         109268"
      ]
     },
     "metadata": {},
     "output_type": "display_data"
    },
    {
     "data": {
      "text/html": [
       "<style>\n",
       ".list-inline {list-style: none; margin:0; padding: 0}\n",
       ".list-inline>li {display: inline-block}\n",
       ".list-inline>li:not(:last-child)::after {content: \"\\00b7\"; padding: 0 .5ex}\n",
       "</style>\n",
       "<ol class=list-inline><li>'SEM_NOT'</li><li>'SG_UF_NOT'</li><li>'DT_SIN_PRI'</li><li>'SEM_PRI'</li><li>'ANO_NASC'</li><li>'CS_SEXO'</li><li>'CS_GESTANT'</li><li>'CS_RACA'</li><li>'CS_ESCOL_N'</li><li>'ID_MN_RESI'</li><li>'ID_OCUPA_N'</li><li>'FEBRE'</li><li>'MIALGIA'</li><li>'CEFALEIA'</li><li>'EXANTEMA'</li><li>'VOMITO'</li><li>'NAUSEA'</li><li>'DOR_COSTAS'</li><li>'CONJUNTVIT'</li><li>'ARTRITE'</li><li>'ARTRALGIA'</li><li>'PETEQUIA_N'</li><li>'LEUCOPENIA'</li><li>'LACO'</li><li>'DOR_RETRO'</li><li>'DIABETES'</li><li>'HEMATOLOG'</li><li>'HEPATOPAT'</li><li>'RENAL'</li><li>'HIPERTENSA'</li><li>'ACIDO_PEPT'</li><li>'AUTO_IMUNE'</li><li>'HOSPITALIZ'</li><li>'DT_INTERNA'</li><li>'CLASSI_FIN'</li><li>'CLINC_CHIK'</li><li>'EVOLUCAO'</li><li>'DT_OBITO'</li></ol>\n"
      ],
      "text/latex": [
       "\\begin{enumerate*}\n",
       "\\item 'SEM\\_NOT'\n",
       "\\item 'SG\\_UF\\_NOT'\n",
       "\\item 'DT\\_SIN\\_PRI'\n",
       "\\item 'SEM\\_PRI'\n",
       "\\item 'ANO\\_NASC'\n",
       "\\item 'CS\\_SEXO'\n",
       "\\item 'CS\\_GESTANT'\n",
       "\\item 'CS\\_RACA'\n",
       "\\item 'CS\\_ESCOL\\_N'\n",
       "\\item 'ID\\_MN\\_RESI'\n",
       "\\item 'ID\\_OCUPA\\_N'\n",
       "\\item 'FEBRE'\n",
       "\\item 'MIALGIA'\n",
       "\\item 'CEFALEIA'\n",
       "\\item 'EXANTEMA'\n",
       "\\item 'VOMITO'\n",
       "\\item 'NAUSEA'\n",
       "\\item 'DOR\\_COSTAS'\n",
       "\\item 'CONJUNTVIT'\n",
       "\\item 'ARTRITE'\n",
       "\\item 'ARTRALGIA'\n",
       "\\item 'PETEQUIA\\_N'\n",
       "\\item 'LEUCOPENIA'\n",
       "\\item 'LACO'\n",
       "\\item 'DOR\\_RETRO'\n",
       "\\item 'DIABETES'\n",
       "\\item 'HEMATOLOG'\n",
       "\\item 'HEPATOPAT'\n",
       "\\item 'RENAL'\n",
       "\\item 'HIPERTENSA'\n",
       "\\item 'ACIDO\\_PEPT'\n",
       "\\item 'AUTO\\_IMUNE'\n",
       "\\item 'HOSPITALIZ'\n",
       "\\item 'DT\\_INTERNA'\n",
       "\\item 'CLASSI\\_FIN'\n",
       "\\item 'CLINC\\_CHIK'\n",
       "\\item 'EVOLUCAO'\n",
       "\\item 'DT\\_OBITO'\n",
       "\\end{enumerate*}\n"
      ],
      "text/markdown": [
       "1. 'SEM_NOT'\n",
       "2. 'SG_UF_NOT'\n",
       "3. 'DT_SIN_PRI'\n",
       "4. 'SEM_PRI'\n",
       "5. 'ANO_NASC'\n",
       "6. 'CS_SEXO'\n",
       "7. 'CS_GESTANT'\n",
       "8. 'CS_RACA'\n",
       "9. 'CS_ESCOL_N'\n",
       "10. 'ID_MN_RESI'\n",
       "11. 'ID_OCUPA_N'\n",
       "12. 'FEBRE'\n",
       "13. 'MIALGIA'\n",
       "14. 'CEFALEIA'\n",
       "15. 'EXANTEMA'\n",
       "16. 'VOMITO'\n",
       "17. 'NAUSEA'\n",
       "18. 'DOR_COSTAS'\n",
       "19. 'CONJUNTVIT'\n",
       "20. 'ARTRITE'\n",
       "21. 'ARTRALGIA'\n",
       "22. 'PETEQUIA_N'\n",
       "23. 'LEUCOPENIA'\n",
       "24. 'LACO'\n",
       "25. 'DOR_RETRO'\n",
       "26. 'DIABETES'\n",
       "27. 'HEMATOLOG'\n",
       "28. 'HEPATOPAT'\n",
       "29. 'RENAL'\n",
       "30. 'HIPERTENSA'\n",
       "31. 'ACIDO_PEPT'\n",
       "32. 'AUTO_IMUNE'\n",
       "33. 'HOSPITALIZ'\n",
       "34. 'DT_INTERNA'\n",
       "35. 'CLASSI_FIN'\n",
       "36. 'CLINC_CHIK'\n",
       "37. 'EVOLUCAO'\n",
       "38. 'DT_OBITO'\n",
       "\n",
       "\n"
      ],
      "text/plain": [
       " [1] \"SEM_NOT\"    \"SG_UF_NOT\"  \"DT_SIN_PRI\" \"SEM_PRI\"    \"ANO_NASC\"  \n",
       " [6] \"CS_SEXO\"    \"CS_GESTANT\" \"CS_RACA\"    \"CS_ESCOL_N\" \"ID_MN_RESI\"\n",
       "[11] \"ID_OCUPA_N\" \"FEBRE\"      \"MIALGIA\"    \"CEFALEIA\"   \"EXANTEMA\"  \n",
       "[16] \"VOMITO\"     \"NAUSEA\"     \"DOR_COSTAS\" \"CONJUNTVIT\" \"ARTRITE\"   \n",
       "[21] \"ARTRALGIA\"  \"PETEQUIA_N\" \"LEUCOPENIA\" \"LACO\"       \"DOR_RETRO\" \n",
       "[26] \"DIABETES\"   \"HEMATOLOG\"  \"HEPATOPAT\"  \"RENAL\"      \"HIPERTENSA\"\n",
       "[31] \"ACIDO_PEPT\" \"AUTO_IMUNE\" \"HOSPITALIZ\" \"DT_INTERNA\" \"CLASSI_FIN\"\n",
       "[36] \"CLINC_CHIK\" \"EVOLUCAO\"   \"DT_OBITO\"  "
      ]
     },
     "metadata": {},
     "output_type": "display_data"
    }
   ],
   "source": [
    "# keep only id_state\n",
    "\n",
    "data %>% select(-c(ID_REGIONA, ID_MUNICIP, SG_UF, ID_PAIS, ID_RG_RESI, UF, MUNICIPIO, ID_UNIDADE)) -> data\n",
    "\n",
    "\n",
    "# monstly NA values\n",
    "\n",
    "data %>% count(TPAUTOCTO)\n",
    "data %>% count(COPAISINF)\n",
    "data %>% count(COMUNINF) \n",
    "\n",
    "data %>% count(NU_LOTE_I)\n",
    "data %>% count(TP_SISTEMA)\n",
    "data %>% count(CS_FLXRET)\n",
    "data %>% count(FLXRECEBI)\n",
    "\n",
    "data %>% count(MIGRADO_W)\n",
    "data %>% count(NDUPLIC_N)\n",
    "data %>% count(COMPLICA)\n",
    "data %>% count(CON_FHD)\n",
    "\n",
    "data %>% count(SOROTIPO)\n",
    "data %>% count(HISTOPA_N)\n",
    "data %>% count(IMUNOH_N)\n",
    "data %>% count(DOENCA_TRA)\n",
    "data %>% count(ALRM_HIPOT)\n",
    "\n",
    "data %>% count(TP_NOT)\n",
    "data %>% count(ID_AGRAVO)\n",
    "data %>% count(NU_ANO)\n",
    "\n",
    "data %>% select(-c(TPAUTOCTO, COPAISINF, COUFINF, COMUNINF)) -> data\n",
    "data %>% select(-c(NU_LOTE_I, TP_SISTEMA, CS_FLXRET, FLXRECEBI, DT_DIGITA)) -> data\n",
    "data %>% select(-c(MIGRADO_W, NDUPLIC_N, COMPLICA, CON_FHD)) -> data\n",
    "data %>% select(-c(SOROTIPO, HISTOPA_N, IMUNOH_N, DOENCA_TRA, ALRM_HIPOT)) -> data\n",
    "data %>% select(-c(TP_NOT, ID_AGRAVO, NU_ANO)) -> data\n",
    "\n",
    "data %>% select(ALRM_PLAQ:ALRM_LIQ) %>% summary\n",
    "data %>% select(GRAV_PULSO:GRAV_ORGAO) %>% summary\n",
    "data %>% select(MANI_HEMOR:PLAQ_MENOR) %>% summary\n",
    "\n",
    "data %>% select(-c(ALRM_PLAQ:PLAQ_MENOR)) -> data \n",
    "\n",
    "# NU_IDADE_N refers to age in a diferent format\n",
    "\n",
    "data %>% select(-c(NU_IDADE_N)) -> data\n",
    "\n",
    "# this dates usually are the same and refer to the date of digitalization\n",
    "\n",
    "data %>% select(-c(DT_NOTIFIC, DT_ENCERRA, DT_INVEST, CRITERIO)) -> data\n",
    "\n",
    "# we adopted the final classification to consider a positive case, remove test results and test dates\n",
    "\n",
    "data %>% select(-c(DT_CHIK_S1:RESUL_PCR_)) -> data\n",
    "\n",
    "data %>% dim\n",
    "data %>% count(EVOLUCAO)\n",
    "data %>% count(HOSPITALIZ)\n",
    "data %>% colnames"
   ]
  },
  {
   "cell_type": "markdown",
   "id": "3231af44",
   "metadata": {},
   "source": [
    "### Filter 2: remove patients without information of state "
   ]
  },
  {
   "cell_type": "code",
   "execution_count": 11,
   "id": "927c5164",
   "metadata": {},
   "outputs": [
    {
     "data": {
      "text/html": [
       "<style>\n",
       ".list-inline {list-style: none; margin:0; padding: 0}\n",
       ".list-inline>li {display: inline-block}\n",
       ".list-inline>li:not(:last-child)::after {content: \"\\00b7\"; padding: 0 .5ex}\n",
       "</style>\n",
       "<ol class=list-inline><li>269823</li><li>38</li></ol>\n"
      ],
      "text/latex": [
       "\\begin{enumerate*}\n",
       "\\item 269823\n",
       "\\item 38\n",
       "\\end{enumerate*}\n"
      ],
      "text/markdown": [
       "1. 269823\n",
       "2. 38\n",
       "\n",
       "\n"
      ],
      "text/plain": [
       "[1] 269823     38"
      ]
     },
     "metadata": {},
     "output_type": "display_data"
    },
    {
     "data": {
      "text/html": [
       "<table class=\"dataframe\">\n",
       "<caption>A data.frame: 6 × 2</caption>\n",
       "<thead>\n",
       "\t<tr><th scope=col>EVOLUCAO</th><th scope=col>n</th></tr>\n",
       "\t<tr><th scope=col>&lt;int&gt;</th><th scope=col>&lt;int&gt;</th></tr>\n",
       "</thead>\n",
       "<tbody>\n",
       "\t<tr><td> 1</td><td>215573</td></tr>\n",
       "\t<tr><td> 2</td><td>   102</td></tr>\n",
       "\t<tr><td> 3</td><td>   278</td></tr>\n",
       "\t<tr><td> 4</td><td>    33</td></tr>\n",
       "\t<tr><td> 9</td><td>  8244</td></tr>\n",
       "\t<tr><td>NA</td><td> 45593</td></tr>\n",
       "</tbody>\n",
       "</table>\n"
      ],
      "text/latex": [
       "A data.frame: 6 × 2\n",
       "\\begin{tabular}{ll}\n",
       " EVOLUCAO & n\\\\\n",
       " <int> & <int>\\\\\n",
       "\\hline\n",
       "\t  1 & 215573\\\\\n",
       "\t  2 &    102\\\\\n",
       "\t  3 &    278\\\\\n",
       "\t  4 &     33\\\\\n",
       "\t  9 &   8244\\\\\n",
       "\t NA &  45593\\\\\n",
       "\\end{tabular}\n"
      ],
      "text/markdown": [
       "\n",
       "A data.frame: 6 × 2\n",
       "\n",
       "| EVOLUCAO &lt;int&gt; | n &lt;int&gt; |\n",
       "|---|---|\n",
       "|  1 | 215573 |\n",
       "|  2 |    102 |\n",
       "|  3 |    278 |\n",
       "|  4 |     33 |\n",
       "|  9 |   8244 |\n",
       "| NA |  45593 |\n",
       "\n"
      ],
      "text/plain": [
       "  EVOLUCAO n     \n",
       "1  1       215573\n",
       "2  2          102\n",
       "3  3          278\n",
       "4  4           33\n",
       "5  9         8244\n",
       "6 NA        45593"
      ]
     },
     "metadata": {},
     "output_type": "display_data"
    },
    {
     "data": {
      "text/html": [
       "<table class=\"dataframe\">\n",
       "<caption>A data.frame: 4 × 2</caption>\n",
       "<thead>\n",
       "\t<tr><th scope=col>HOSPITALIZ</th><th scope=col>n</th></tr>\n",
       "\t<tr><th scope=col>&lt;int&gt;</th><th scope=col>&lt;int&gt;</th></tr>\n",
       "</thead>\n",
       "<tbody>\n",
       "\t<tr><td> 1</td><td>  6534</td></tr>\n",
       "\t<tr><td> 2</td><td>150163</td></tr>\n",
       "\t<tr><td> 9</td><td>  3858</td></tr>\n",
       "\t<tr><td>NA</td><td>109268</td></tr>\n",
       "</tbody>\n",
       "</table>\n"
      ],
      "text/latex": [
       "A data.frame: 4 × 2\n",
       "\\begin{tabular}{ll}\n",
       " HOSPITALIZ & n\\\\\n",
       " <int> & <int>\\\\\n",
       "\\hline\n",
       "\t  1 &   6534\\\\\n",
       "\t  2 & 150163\\\\\n",
       "\t  9 &   3858\\\\\n",
       "\t NA & 109268\\\\\n",
       "\\end{tabular}\n"
      ],
      "text/markdown": [
       "\n",
       "A data.frame: 4 × 2\n",
       "\n",
       "| HOSPITALIZ &lt;int&gt; | n &lt;int&gt; |\n",
       "|---|---|\n",
       "|  1 |   6534 |\n",
       "|  2 | 150163 |\n",
       "|  9 |   3858 |\n",
       "| NA | 109268 |\n",
       "\n"
      ],
      "text/plain": [
       "  HOSPITALIZ n     \n",
       "1  1           6534\n",
       "2  2         150163\n",
       "3  9           3858\n",
       "4 NA         109268"
      ]
     },
     "metadata": {},
     "output_type": "display_data"
    }
   ],
   "source": [
    "data <- data %>%  filter(!is.na(SG_UF_NOT))\n",
    "\n",
    "data %>% dim\n",
    "\n",
    "data %>% count(EVOLUCAO)\n",
    "data %>% count(HOSPITALIZ)"
   ]
  },
  {
   "cell_type": "markdown",
   "id": "cfdb8ddf",
   "metadata": {},
   "source": [
    "### Filter 3: remove patients without year of birth"
   ]
  },
  {
   "cell_type": "code",
   "execution_count": 12,
   "id": "6e433a8e",
   "metadata": {},
   "outputs": [
    {
     "data": {
      "text/html": [
       "<style>\n",
       ".list-inline {list-style: none; margin:0; padding: 0}\n",
       ".list-inline>li {display: inline-block}\n",
       ".list-inline>li:not(:last-child)::after {content: \"\\00b7\"; padding: 0 .5ex}\n",
       "</style>\n",
       "<ol class=list-inline><li>267576</li><li>38</li></ol>\n"
      ],
      "text/latex": [
       "\\begin{enumerate*}\n",
       "\\item 267576\n",
       "\\item 38\n",
       "\\end{enumerate*}\n"
      ],
      "text/markdown": [
       "1. 267576\n",
       "2. 38\n",
       "\n",
       "\n"
      ],
      "text/plain": [
       "[1] 267576     38"
      ]
     },
     "metadata": {},
     "output_type": "display_data"
    },
    {
     "data": {
      "text/html": [
       "<table class=\"dataframe\">\n",
       "<caption>A data.frame: 6 × 2</caption>\n",
       "<thead>\n",
       "\t<tr><th scope=col>EVOLUCAO</th><th scope=col>n</th></tr>\n",
       "\t<tr><th scope=col>&lt;int&gt;</th><th scope=col>&lt;int&gt;</th></tr>\n",
       "</thead>\n",
       "<tbody>\n",
       "\t<tr><td> 1</td><td>213821</td></tr>\n",
       "\t<tr><td> 2</td><td>   100</td></tr>\n",
       "\t<tr><td> 3</td><td>   277</td></tr>\n",
       "\t<tr><td> 4</td><td>    33</td></tr>\n",
       "\t<tr><td> 9</td><td>  8191</td></tr>\n",
       "\t<tr><td>NA</td><td> 45154</td></tr>\n",
       "</tbody>\n",
       "</table>\n"
      ],
      "text/latex": [
       "A data.frame: 6 × 2\n",
       "\\begin{tabular}{ll}\n",
       " EVOLUCAO & n\\\\\n",
       " <int> & <int>\\\\\n",
       "\\hline\n",
       "\t  1 & 213821\\\\\n",
       "\t  2 &    100\\\\\n",
       "\t  3 &    277\\\\\n",
       "\t  4 &     33\\\\\n",
       "\t  9 &   8191\\\\\n",
       "\t NA &  45154\\\\\n",
       "\\end{tabular}\n"
      ],
      "text/markdown": [
       "\n",
       "A data.frame: 6 × 2\n",
       "\n",
       "| EVOLUCAO &lt;int&gt; | n &lt;int&gt; |\n",
       "|---|---|\n",
       "|  1 | 213821 |\n",
       "|  2 |    100 |\n",
       "|  3 |    277 |\n",
       "|  4 |     33 |\n",
       "|  9 |   8191 |\n",
       "| NA |  45154 |\n",
       "\n"
      ],
      "text/plain": [
       "  EVOLUCAO n     \n",
       "1  1       213821\n",
       "2  2          100\n",
       "3  3          277\n",
       "4  4           33\n",
       "5  9         8191\n",
       "6 NA        45154"
      ]
     },
     "metadata": {},
     "output_type": "display_data"
    },
    {
     "data": {
      "text/html": [
       "<table class=\"dataframe\">\n",
       "<caption>A data.frame: 4 × 2</caption>\n",
       "<thead>\n",
       "\t<tr><th scope=col>HOSPITALIZ</th><th scope=col>n</th></tr>\n",
       "\t<tr><th scope=col>&lt;int&gt;</th><th scope=col>&lt;int&gt;</th></tr>\n",
       "</thead>\n",
       "<tbody>\n",
       "\t<tr><td> 1</td><td>  6499</td></tr>\n",
       "\t<tr><td> 2</td><td>149066</td></tr>\n",
       "\t<tr><td> 9</td><td>  3837</td></tr>\n",
       "\t<tr><td>NA</td><td>108174</td></tr>\n",
       "</tbody>\n",
       "</table>\n"
      ],
      "text/latex": [
       "A data.frame: 4 × 2\n",
       "\\begin{tabular}{ll}\n",
       " HOSPITALIZ & n\\\\\n",
       " <int> & <int>\\\\\n",
       "\\hline\n",
       "\t  1 &   6499\\\\\n",
       "\t  2 & 149066\\\\\n",
       "\t  9 &   3837\\\\\n",
       "\t NA & 108174\\\\\n",
       "\\end{tabular}\n"
      ],
      "text/markdown": [
       "\n",
       "A data.frame: 4 × 2\n",
       "\n",
       "| HOSPITALIZ &lt;int&gt; | n &lt;int&gt; |\n",
       "|---|---|\n",
       "|  1 |   6499 |\n",
       "|  2 | 149066 |\n",
       "|  9 |   3837 |\n",
       "| NA | 108174 |\n",
       "\n"
      ],
      "text/plain": [
       "  HOSPITALIZ n     \n",
       "1  1           6499\n",
       "2  2         149066\n",
       "3  9           3837\n",
       "4 NA         108174"
      ]
     },
     "metadata": {},
     "output_type": "display_data"
    }
   ],
   "source": [
    "data %>% filter(!is.na(ANO_NASC)) -> data\n",
    "\n",
    "data %>% dim\n",
    "\n",
    "data %>% count(EVOLUCAO)\n",
    "data %>% count(HOSPITALIZ)"
   ]
  },
  {
   "cell_type": "code",
   "execution_count": 13,
   "id": "214d29bd",
   "metadata": {},
   "outputs": [
    {
     "data": {
      "text/html": [
       "<table class=\"dataframe\">\n",
       "<caption>A data.frame: 15 × 2</caption>\n",
       "<thead>\n",
       "\t<tr><th scope=col>age</th><th scope=col>n</th></tr>\n",
       "\t<tr><th scope=col>&lt;dbl&gt;</th><th scope=col>&lt;int&gt;</th></tr>\n",
       "</thead>\n",
       "<tbody>\n",
       "\t<tr><td> 0</td><td>2289</td></tr>\n",
       "\t<tr><td> 1</td><td>1384</td></tr>\n",
       "\t<tr><td> 2</td><td>1271</td></tr>\n",
       "\t<tr><td> 3</td><td>1673</td></tr>\n",
       "\t<tr><td> 4</td><td>2007</td></tr>\n",
       "\t<tr><td> 5</td><td>2056</td></tr>\n",
       "\t<tr><td> 6</td><td>2110</td></tr>\n",
       "\t<tr><td> 7</td><td>2320</td></tr>\n",
       "\t<tr><td> 8</td><td>2371</td></tr>\n",
       "\t<tr><td> 9</td><td>2646</td></tr>\n",
       "\t<tr><td>10</td><td>2702</td></tr>\n",
       "\t<tr><td>11</td><td>2968</td></tr>\n",
       "\t<tr><td>12</td><td>3005</td></tr>\n",
       "\t<tr><td>13</td><td>2954</td></tr>\n",
       "\t<tr><td>14</td><td>2988</td></tr>\n",
       "</tbody>\n",
       "</table>\n"
      ],
      "text/latex": [
       "A data.frame: 15 × 2\n",
       "\\begin{tabular}{ll}\n",
       " age & n\\\\\n",
       " <dbl> & <int>\\\\\n",
       "\\hline\n",
       "\t  0 & 2289\\\\\n",
       "\t  1 & 1384\\\\\n",
       "\t  2 & 1271\\\\\n",
       "\t  3 & 1673\\\\\n",
       "\t  4 & 2007\\\\\n",
       "\t  5 & 2056\\\\\n",
       "\t  6 & 2110\\\\\n",
       "\t  7 & 2320\\\\\n",
       "\t  8 & 2371\\\\\n",
       "\t  9 & 2646\\\\\n",
       "\t 10 & 2702\\\\\n",
       "\t 11 & 2968\\\\\n",
       "\t 12 & 3005\\\\\n",
       "\t 13 & 2954\\\\\n",
       "\t 14 & 2988\\\\\n",
       "\\end{tabular}\n"
      ],
      "text/markdown": [
       "\n",
       "A data.frame: 15 × 2\n",
       "\n",
       "| age &lt;dbl&gt; | n &lt;int&gt; |\n",
       "|---|---|\n",
       "|  0 | 2289 |\n",
       "|  1 | 1384 |\n",
       "|  2 | 1271 |\n",
       "|  3 | 1673 |\n",
       "|  4 | 2007 |\n",
       "|  5 | 2056 |\n",
       "|  6 | 2110 |\n",
       "|  7 | 2320 |\n",
       "|  8 | 2371 |\n",
       "|  9 | 2646 |\n",
       "| 10 | 2702 |\n",
       "| 11 | 2968 |\n",
       "| 12 | 3005 |\n",
       "| 13 | 2954 |\n",
       "| 14 | 2988 |\n",
       "\n"
      ],
      "text/plain": [
       "   age n   \n",
       "1   0  2289\n",
       "2   1  1384\n",
       "3   2  1271\n",
       "4   3  1673\n",
       "5   4  2007\n",
       "6   5  2056\n",
       "7   6  2110\n",
       "8   7  2320\n",
       "9   8  2371\n",
       "10  9  2646\n",
       "11 10  2702\n",
       "12 11  2968\n",
       "13 12  3005\n",
       "14 13  2954\n",
       "15 14  2988"
      ]
     },
     "metadata": {},
     "output_type": "display_data"
    },
    {
     "data": {
      "text/html": [
       "<table class=\"dataframe\">\n",
       "<caption>A data.frame: 12 × 2</caption>\n",
       "<thead>\n",
       "\t<tr><th></th><th scope=col>age</th><th scope=col>n</th></tr>\n",
       "\t<tr><th></th><th scope=col>&lt;dbl&gt;</th><th scope=col>&lt;int&gt;</th></tr>\n",
       "</thead>\n",
       "<tbody>\n",
       "\t<tr><th scope=row>105</th><td>104</td><td>5</td></tr>\n",
       "\t<tr><th scope=row>106</th><td>105</td><td>5</td></tr>\n",
       "\t<tr><th scope=row>107</th><td>106</td><td>2</td></tr>\n",
       "\t<tr><th scope=row>108</th><td>107</td><td>4</td></tr>\n",
       "\t<tr><th scope=row>109</th><td>108</td><td>2</td></tr>\n",
       "\t<tr><th scope=row>110</th><td>109</td><td>2</td></tr>\n",
       "\t<tr><th scope=row>111</th><td>110</td><td>1</td></tr>\n",
       "\t<tr><th scope=row>112</th><td>111</td><td>3</td></tr>\n",
       "\t<tr><th scope=row>113</th><td>114</td><td>1</td></tr>\n",
       "\t<tr><th scope=row>114</th><td>115</td><td>1</td></tr>\n",
       "\t<tr><th scope=row>115</th><td>116</td><td>1</td></tr>\n",
       "\t<tr><th scope=row>116</th><td>117</td><td>1</td></tr>\n",
       "</tbody>\n",
       "</table>\n"
      ],
      "text/latex": [
       "A data.frame: 12 × 2\n",
       "\\begin{tabular}{r|ll}\n",
       "  & age & n\\\\\n",
       "  & <dbl> & <int>\\\\\n",
       "\\hline\n",
       "\t105 & 104 & 5\\\\\n",
       "\t106 & 105 & 5\\\\\n",
       "\t107 & 106 & 2\\\\\n",
       "\t108 & 107 & 4\\\\\n",
       "\t109 & 108 & 2\\\\\n",
       "\t110 & 109 & 2\\\\\n",
       "\t111 & 110 & 1\\\\\n",
       "\t112 & 111 & 3\\\\\n",
       "\t113 & 114 & 1\\\\\n",
       "\t114 & 115 & 1\\\\\n",
       "\t115 & 116 & 1\\\\\n",
       "\t116 & 117 & 1\\\\\n",
       "\\end{tabular}\n"
      ],
      "text/markdown": [
       "\n",
       "A data.frame: 12 × 2\n",
       "\n",
       "| <!--/--> | age &lt;dbl&gt; | n &lt;int&gt; |\n",
       "|---|---|---|\n",
       "| 105 | 104 | 5 |\n",
       "| 106 | 105 | 5 |\n",
       "| 107 | 106 | 2 |\n",
       "| 108 | 107 | 4 |\n",
       "| 109 | 108 | 2 |\n",
       "| 110 | 109 | 2 |\n",
       "| 111 | 110 | 1 |\n",
       "| 112 | 111 | 3 |\n",
       "| 113 | 114 | 1 |\n",
       "| 114 | 115 | 1 |\n",
       "| 115 | 116 | 1 |\n",
       "| 116 | 117 | 1 |\n",
       "\n"
      ],
      "text/plain": [
       "    age n\n",
       "105 104 5\n",
       "106 105 5\n",
       "107 106 2\n",
       "108 107 4\n",
       "109 108 2\n",
       "110 109 2\n",
       "111 110 1\n",
       "112 111 3\n",
       "113 114 1\n",
       "114 115 1\n",
       "115 116 1\n",
       "116 117 1"
      ]
     },
     "metadata": {},
     "output_type": "display_data"
    }
   ],
   "source": [
    "# create a new column with age\n",
    "\n",
    "data %>% mutate(age = 2022 - ANO_NASC) %>% count(age) %>% slice(1:15)\n",
    "data %>% mutate(age = 2022 - ANO_NASC) %>% count(age) %>% tail(12)\n",
    "data %>% mutate(age = 2022 - ANO_NASC) -> data"
   ]
  },
  {
   "cell_type": "markdown",
   "id": "f30f2b4a",
   "metadata": {},
   "source": [
    "### Remove columns"
   ]
  },
  {
   "cell_type": "code",
   "execution_count": 14,
   "id": "f5cc26c9",
   "metadata": {},
   "outputs": [
    {
     "data": {
      "text/html": [
       "<table class=\"dataframe\">\n",
       "<caption>A data.frame: 15 × 2</caption>\n",
       "<thead>\n",
       "\t<tr><th scope=col>ID_OCUPA_N</th><th scope=col>n</th></tr>\n",
       "\t<tr><th scope=col>&lt;chr&gt;</th><th scope=col>&lt;int&gt;</th></tr>\n",
       "</thead>\n",
       "<tbody>\n",
       "\t<tr><td>      </td><td>7085</td></tr>\n",
       "\t<tr><td>000000</td><td>  27</td></tr>\n",
       "\t<tr><td>021210</td><td>   1</td></tr>\n",
       "\t<tr><td>123305</td><td>   1</td></tr>\n",
       "\t<tr><td>141405</td><td>   2</td></tr>\n",
       "\t<tr><td>142105</td><td>   1</td></tr>\n",
       "\t<tr><td>142115</td><td>   1</td></tr>\n",
       "\t<tr><td>142325</td><td>   1</td></tr>\n",
       "\t<tr><td>221105</td><td>   2</td></tr>\n",
       "\t<tr><td>223115</td><td>   2</td></tr>\n",
       "\t<tr><td>223505</td><td>   9</td></tr>\n",
       "\t<tr><td>231205</td><td>   4</td></tr>\n",
       "\t<tr><td>231335</td><td>   1</td></tr>\n",
       "\t<tr><td>232115</td><td>   1</td></tr>\n",
       "\t<tr><td>234810</td><td>   1</td></tr>\n",
       "</tbody>\n",
       "</table>\n"
      ],
      "text/latex": [
       "A data.frame: 15 × 2\n",
       "\\begin{tabular}{ll}\n",
       " ID\\_OCUPA\\_N & n\\\\\n",
       " <chr> & <int>\\\\\n",
       "\\hline\n",
       "\t        & 7085\\\\\n",
       "\t 000000 &   27\\\\\n",
       "\t 021210 &    1\\\\\n",
       "\t 123305 &    1\\\\\n",
       "\t 141405 &    2\\\\\n",
       "\t 142105 &    1\\\\\n",
       "\t 142115 &    1\\\\\n",
       "\t 142325 &    1\\\\\n",
       "\t 221105 &    2\\\\\n",
       "\t 223115 &    2\\\\\n",
       "\t 223505 &    9\\\\\n",
       "\t 231205 &    4\\\\\n",
       "\t 231335 &    1\\\\\n",
       "\t 232115 &    1\\\\\n",
       "\t 234810 &    1\\\\\n",
       "\\end{tabular}\n"
      ],
      "text/markdown": [
       "\n",
       "A data.frame: 15 × 2\n",
       "\n",
       "| ID_OCUPA_N &lt;chr&gt; | n &lt;int&gt; |\n",
       "|---|---|\n",
       "| <!----> | 7085 |\n",
       "| 000000 |   27 |\n",
       "| 021210 |    1 |\n",
       "| 123305 |    1 |\n",
       "| 141405 |    2 |\n",
       "| 142105 |    1 |\n",
       "| 142115 |    1 |\n",
       "| 142325 |    1 |\n",
       "| 221105 |    2 |\n",
       "| 223115 |    2 |\n",
       "| 223505 |    9 |\n",
       "| 231205 |    4 |\n",
       "| 231335 |    1 |\n",
       "| 232115 |    1 |\n",
       "| 234810 |    1 |\n",
       "\n"
      ],
      "text/plain": [
       "   ID_OCUPA_N n   \n",
       "1             7085\n",
       "2  000000       27\n",
       "3  021210        1\n",
       "4  123305        1\n",
       "5  141405        2\n",
       "6  142105        1\n",
       "7  142115        1\n",
       "8  142325        1\n",
       "9  221105        2\n",
       "10 223115        2\n",
       "11 223505        9\n",
       "12 231205        4\n",
       "13 231335        1\n",
       "14 232115        1\n",
       "15 234810        1"
      ]
     },
     "metadata": {},
     "output_type": "display_data"
    }
   ],
   "source": [
    "# ID_OCUPA_N seems to not be filled consistently\n",
    "# it refers to area of activity and should be filled with the same value (not aplicable) to children \n",
    "# sem_not is the epidemiologic week of notification, we will adopt the epidemiologic week of the first symptoms\n",
    "\n",
    "data %>% filter(age< 5) %>% count(ID_OCUPA_N) %>% slice(1:15)\n",
    "data %>% select(-c(ID_OCUPA_N, SEM_NOT)) -> data"
   ]
  },
  {
   "cell_type": "markdown",
   "id": "f3577087",
   "metadata": {},
   "source": [
    "### Filter 4: remove patients older than 110 years and younger than 12"
   ]
  },
  {
   "cell_type": "code",
   "execution_count": 15,
   "id": "3c07b230",
   "metadata": {},
   "outputs": [
    {
     "data": {
      "text/html": [
       "<style>\n",
       ".list-inline {list-style: none; margin:0; padding: 0}\n",
       ".list-inline>li {display: inline-block}\n",
       ".list-inline>li:not(:last-child)::after {content: \"\\00b7\"; padding: 0 .5ex}\n",
       "</style>\n",
       "<ol class=list-inline><li>241772</li><li>36</li></ol>\n"
      ],
      "text/latex": [
       "\\begin{enumerate*}\n",
       "\\item 241772\n",
       "\\item 36\n",
       "\\end{enumerate*}\n"
      ],
      "text/markdown": [
       "1. 241772\n",
       "2. 36\n",
       "\n",
       "\n"
      ],
      "text/plain": [
       "[1] 241772     36"
      ]
     },
     "metadata": {},
     "output_type": "display_data"
    },
    {
     "data": {
      "text/html": [
       "<table class=\"dataframe\">\n",
       "<caption>A data.frame: 6 × 2</caption>\n",
       "<thead>\n",
       "\t<tr><th scope=col>EVOLUCAO</th><th scope=col>n</th></tr>\n",
       "\t<tr><th scope=col>&lt;int&gt;</th><th scope=col>&lt;int&gt;</th></tr>\n",
       "</thead>\n",
       "<tbody>\n",
       "\t<tr><td> 1</td><td>194348</td></tr>\n",
       "\t<tr><td> 2</td><td>    93</td></tr>\n",
       "\t<tr><td> 3</td><td>   235</td></tr>\n",
       "\t<tr><td> 4</td><td>    24</td></tr>\n",
       "\t<tr><td> 9</td><td>  7146</td></tr>\n",
       "\t<tr><td>NA</td><td> 39926</td></tr>\n",
       "</tbody>\n",
       "</table>\n"
      ],
      "text/latex": [
       "A data.frame: 6 × 2\n",
       "\\begin{tabular}{ll}\n",
       " EVOLUCAO & n\\\\\n",
       " <int> & <int>\\\\\n",
       "\\hline\n",
       "\t  1 & 194348\\\\\n",
       "\t  2 &     93\\\\\n",
       "\t  3 &    235\\\\\n",
       "\t  4 &     24\\\\\n",
       "\t  9 &   7146\\\\\n",
       "\t NA &  39926\\\\\n",
       "\\end{tabular}\n"
      ],
      "text/markdown": [
       "\n",
       "A data.frame: 6 × 2\n",
       "\n",
       "| EVOLUCAO &lt;int&gt; | n &lt;int&gt; |\n",
       "|---|---|\n",
       "|  1 | 194348 |\n",
       "|  2 |     93 |\n",
       "|  3 |    235 |\n",
       "|  4 |     24 |\n",
       "|  9 |   7146 |\n",
       "| NA |  39926 |\n",
       "\n"
      ],
      "text/plain": [
       "  EVOLUCAO n     \n",
       "1  1       194348\n",
       "2  2           93\n",
       "3  3          235\n",
       "4  4           24\n",
       "5  9         7146\n",
       "6 NA        39926"
      ]
     },
     "metadata": {},
     "output_type": "display_data"
    },
    {
     "data": {
      "text/html": [
       "<table class=\"dataframe\">\n",
       "<caption>A data.frame: 4 × 2</caption>\n",
       "<thead>\n",
       "\t<tr><th scope=col>HOSPITALIZ</th><th scope=col>n</th></tr>\n",
       "\t<tr><th scope=col>&lt;int&gt;</th><th scope=col>&lt;int&gt;</th></tr>\n",
       "</thead>\n",
       "<tbody>\n",
       "\t<tr><td> 1</td><td>  4853</td></tr>\n",
       "\t<tr><td> 2</td><td>135653</td></tr>\n",
       "\t<tr><td> 9</td><td>  3522</td></tr>\n",
       "\t<tr><td>NA</td><td> 97744</td></tr>\n",
       "</tbody>\n",
       "</table>\n"
      ],
      "text/latex": [
       "A data.frame: 4 × 2\n",
       "\\begin{tabular}{ll}\n",
       " HOSPITALIZ & n\\\\\n",
       " <int> & <int>\\\\\n",
       "\\hline\n",
       "\t  1 &   4853\\\\\n",
       "\t  2 & 135653\\\\\n",
       "\t  9 &   3522\\\\\n",
       "\t NA &  97744\\\\\n",
       "\\end{tabular}\n"
      ],
      "text/markdown": [
       "\n",
       "A data.frame: 4 × 2\n",
       "\n",
       "| HOSPITALIZ &lt;int&gt; | n &lt;int&gt; |\n",
       "|---|---|\n",
       "|  1 |   4853 |\n",
       "|  2 | 135653 |\n",
       "|  9 |   3522 |\n",
       "| NA |  97744 |\n",
       "\n"
      ],
      "text/plain": [
       "  HOSPITALIZ n     \n",
       "1  1           4853\n",
       "2  2         135653\n",
       "3  9           3522\n",
       "4 NA          97744"
      ]
     },
     "metadata": {},
     "output_type": "display_data"
    }
   ],
   "source": [
    "# remove patients older than 110 years old \n",
    "\n",
    "data %>% filter(age < 111) -> data\n",
    "\n",
    "# remove patients younger than 16 years old\n",
    "\n",
    "data %>% filter(age > 11) -> data\n",
    "\n",
    "# remove the column year of birth\n",
    "\n",
    "data %>% select(-ANO_NASC) -> data\n",
    "\n",
    "data %>% dim\n",
    "data %>% count(EVOLUCAO)\n",
    "data %>% count(HOSPITALIZ)"
   ]
  },
  {
   "cell_type": "markdown",
   "id": "96d4cc6e",
   "metadata": {},
   "source": [
    "### Filter 5: remove patients without sex information"
   ]
  },
  {
   "cell_type": "code",
   "execution_count": 16,
   "id": "0a5b4840",
   "metadata": {},
   "outputs": [
    {
     "data": {
      "text/html": [
       "<table class=\"dataframe\">\n",
       "<caption>A data.frame: 4 × 2</caption>\n",
       "<thead>\n",
       "\t<tr><th scope=col>CS_SEXO</th><th scope=col>n</th></tr>\n",
       "\t<tr><th scope=col>&lt;chr&gt;</th><th scope=col>&lt;int&gt;</th></tr>\n",
       "</thead>\n",
       "<tbody>\n",
       "\t<tr><td> </td><td>     1</td></tr>\n",
       "\t<tr><td>F</td><td>149729</td></tr>\n",
       "\t<tr><td>I</td><td>   257</td></tr>\n",
       "\t<tr><td>M</td><td> 91785</td></tr>\n",
       "</tbody>\n",
       "</table>\n"
      ],
      "text/latex": [
       "A data.frame: 4 × 2\n",
       "\\begin{tabular}{ll}\n",
       " CS\\_SEXO & n\\\\\n",
       " <chr> & <int>\\\\\n",
       "\\hline\n",
       "\t   &      1\\\\\n",
       "\t F & 149729\\\\\n",
       "\t I &    257\\\\\n",
       "\t M &  91785\\\\\n",
       "\\end{tabular}\n"
      ],
      "text/markdown": [
       "\n",
       "A data.frame: 4 × 2\n",
       "\n",
       "| CS_SEXO &lt;chr&gt; | n &lt;int&gt; |\n",
       "|---|---|\n",
       "| <!----> |      1 |\n",
       "| F | 149729 |\n",
       "| I |    257 |\n",
       "| M |  91785 |\n",
       "\n"
      ],
      "text/plain": [
       "  CS_SEXO n     \n",
       "1              1\n",
       "2 F       149729\n",
       "3 I          257\n",
       "4 M        91785"
      ]
     },
     "metadata": {},
     "output_type": "display_data"
    },
    {
     "data": {
      "text/html": [
       "<table class=\"dataframe\">\n",
       "<caption>A data.frame: 2 × 2</caption>\n",
       "<thead>\n",
       "\t<tr><th scope=col>CS_SEXO</th><th scope=col>n</th></tr>\n",
       "\t<tr><th scope=col>&lt;chr&gt;</th><th scope=col>&lt;int&gt;</th></tr>\n",
       "</thead>\n",
       "<tbody>\n",
       "\t<tr><td>F</td><td>149729</td></tr>\n",
       "\t<tr><td>M</td><td> 91785</td></tr>\n",
       "</tbody>\n",
       "</table>\n"
      ],
      "text/latex": [
       "A data.frame: 2 × 2\n",
       "\\begin{tabular}{ll}\n",
       " CS\\_SEXO & n\\\\\n",
       " <chr> & <int>\\\\\n",
       "\\hline\n",
       "\t F & 149729\\\\\n",
       "\t M &  91785\\\\\n",
       "\\end{tabular}\n"
      ],
      "text/markdown": [
       "\n",
       "A data.frame: 2 × 2\n",
       "\n",
       "| CS_SEXO &lt;chr&gt; | n &lt;int&gt; |\n",
       "|---|---|\n",
       "| F | 149729 |\n",
       "| M |  91785 |\n",
       "\n"
      ],
      "text/plain": [
       "  CS_SEXO n     \n",
       "1 F       149729\n",
       "2 M        91785"
      ]
     },
     "metadata": {},
     "output_type": "display_data"
    },
    {
     "data": {
      "text/html": [
       "<style>\n",
       ".list-inline {list-style: none; margin:0; padding: 0}\n",
       ".list-inline>li {display: inline-block}\n",
       ".list-inline>li:not(:last-child)::after {content: \"\\00b7\"; padding: 0 .5ex}\n",
       "</style>\n",
       "<ol class=list-inline><li>241514</li><li>36</li></ol>\n"
      ],
      "text/latex": [
       "\\begin{enumerate*}\n",
       "\\item 241514\n",
       "\\item 36\n",
       "\\end{enumerate*}\n"
      ],
      "text/markdown": [
       "1. 241514\n",
       "2. 36\n",
       "\n",
       "\n"
      ],
      "text/plain": [
       "[1] 241514     36"
      ]
     },
     "metadata": {},
     "output_type": "display_data"
    },
    {
     "data": {
      "text/html": [
       "<table class=\"dataframe\">\n",
       "<caption>A data.frame: 2 × 2</caption>\n",
       "<thead>\n",
       "\t<tr><th scope=col>sex</th><th scope=col>n</th></tr>\n",
       "\t<tr><th scope=col>&lt;dbl&gt;</th><th scope=col>&lt;int&gt;</th></tr>\n",
       "</thead>\n",
       "<tbody>\n",
       "\t<tr><td>0</td><td> 91785</td></tr>\n",
       "\t<tr><td>1</td><td>149729</td></tr>\n",
       "</tbody>\n",
       "</table>\n"
      ],
      "text/latex": [
       "A data.frame: 2 × 2\n",
       "\\begin{tabular}{ll}\n",
       " sex & n\\\\\n",
       " <dbl> & <int>\\\\\n",
       "\\hline\n",
       "\t 0 &  91785\\\\\n",
       "\t 1 & 149729\\\\\n",
       "\\end{tabular}\n"
      ],
      "text/markdown": [
       "\n",
       "A data.frame: 2 × 2\n",
       "\n",
       "| sex &lt;dbl&gt; | n &lt;int&gt; |\n",
       "|---|---|\n",
       "| 0 |  91785 |\n",
       "| 1 | 149729 |\n",
       "\n"
      ],
      "text/plain": [
       "  sex n     \n",
       "1 0    91785\n",
       "2 1   149729"
      ]
     },
     "metadata": {},
     "output_type": "display_data"
    },
    {
     "data": {
      "text/html": [
       "<style>\n",
       ".list-inline {list-style: none; margin:0; padding: 0}\n",
       ".list-inline>li {display: inline-block}\n",
       ".list-inline>li:not(:last-child)::after {content: \"\\00b7\"; padding: 0 .5ex}\n",
       "</style>\n",
       "<ol class=list-inline><li>241514</li><li>36</li></ol>\n"
      ],
      "text/latex": [
       "\\begin{enumerate*}\n",
       "\\item 241514\n",
       "\\item 36\n",
       "\\end{enumerate*}\n"
      ],
      "text/markdown": [
       "1. 241514\n",
       "2. 36\n",
       "\n",
       "\n"
      ],
      "text/plain": [
       "[1] 241514     36"
      ]
     },
     "metadata": {},
     "output_type": "display_data"
    },
    {
     "data": {
      "text/html": [
       "<table class=\"dataframe\">\n",
       "<caption>A data.frame: 6 × 2</caption>\n",
       "<thead>\n",
       "\t<tr><th scope=col>EVOLUCAO</th><th scope=col>n</th></tr>\n",
       "\t<tr><th scope=col>&lt;int&gt;</th><th scope=col>&lt;int&gt;</th></tr>\n",
       "</thead>\n",
       "<tbody>\n",
       "\t<tr><td> 1</td><td>194162</td></tr>\n",
       "\t<tr><td> 2</td><td>    93</td></tr>\n",
       "\t<tr><td> 3</td><td>   235</td></tr>\n",
       "\t<tr><td> 4</td><td>    24</td></tr>\n",
       "\t<tr><td> 9</td><td>  7140</td></tr>\n",
       "\t<tr><td>NA</td><td> 39860</td></tr>\n",
       "</tbody>\n",
       "</table>\n"
      ],
      "text/latex": [
       "A data.frame: 6 × 2\n",
       "\\begin{tabular}{ll}\n",
       " EVOLUCAO & n\\\\\n",
       " <int> & <int>\\\\\n",
       "\\hline\n",
       "\t  1 & 194162\\\\\n",
       "\t  2 &     93\\\\\n",
       "\t  3 &    235\\\\\n",
       "\t  4 &     24\\\\\n",
       "\t  9 &   7140\\\\\n",
       "\t NA &  39860\\\\\n",
       "\\end{tabular}\n"
      ],
      "text/markdown": [
       "\n",
       "A data.frame: 6 × 2\n",
       "\n",
       "| EVOLUCAO &lt;int&gt; | n &lt;int&gt; |\n",
       "|---|---|\n",
       "|  1 | 194162 |\n",
       "|  2 |     93 |\n",
       "|  3 |    235 |\n",
       "|  4 |     24 |\n",
       "|  9 |   7140 |\n",
       "| NA |  39860 |\n",
       "\n"
      ],
      "text/plain": [
       "  EVOLUCAO n     \n",
       "1  1       194162\n",
       "2  2           93\n",
       "3  3          235\n",
       "4  4           24\n",
       "5  9         7140\n",
       "6 NA        39860"
      ]
     },
     "metadata": {},
     "output_type": "display_data"
    },
    {
     "data": {
      "text/html": [
       "<table class=\"dataframe\">\n",
       "<caption>A data.frame: 4 × 2</caption>\n",
       "<thead>\n",
       "\t<tr><th scope=col>HOSPITALIZ</th><th scope=col>n</th></tr>\n",
       "\t<tr><th scope=col>&lt;int&gt;</th><th scope=col>&lt;int&gt;</th></tr>\n",
       "</thead>\n",
       "<tbody>\n",
       "\t<tr><td> 1</td><td>  4850</td></tr>\n",
       "\t<tr><td> 2</td><td>135588</td></tr>\n",
       "\t<tr><td> 9</td><td>  3517</td></tr>\n",
       "\t<tr><td>NA</td><td> 97559</td></tr>\n",
       "</tbody>\n",
       "</table>\n"
      ],
      "text/latex": [
       "A data.frame: 4 × 2\n",
       "\\begin{tabular}{ll}\n",
       " HOSPITALIZ & n\\\\\n",
       " <int> & <int>\\\\\n",
       "\\hline\n",
       "\t  1 &   4850\\\\\n",
       "\t  2 & 135588\\\\\n",
       "\t  9 &   3517\\\\\n",
       "\t NA &  97559\\\\\n",
       "\\end{tabular}\n"
      ],
      "text/markdown": [
       "\n",
       "A data.frame: 4 × 2\n",
       "\n",
       "| HOSPITALIZ &lt;int&gt; | n &lt;int&gt; |\n",
       "|---|---|\n",
       "|  1 |   4850 |\n",
       "|  2 | 135588 |\n",
       "|  9 |   3517 |\n",
       "| NA |  97559 |\n",
       "\n"
      ],
      "text/plain": [
       "  HOSPITALIZ n     \n",
       "1  1           4850\n",
       "2  2         135588\n",
       "3  9           3517\n",
       "4 NA          97559"
      ]
     },
     "metadata": {},
     "output_type": "display_data"
    }
   ],
   "source": [
    "# remove patients without sex information\n",
    "\n",
    "data %>% count(CS_SEXO)\n",
    "data %>% filter(CS_SEXO == 'F' | CS_SEXO == 'M') %>% count(CS_SEXO)\n",
    "data %>% filter(CS_SEXO == 'F' | CS_SEXO == 'M') -> data\n",
    "data %>% dim\n",
    "\n",
    "# create a new column with numeric values\n",
    "\n",
    "data %>% mutate(sex = if_else(CS_SEXO == 'M', 0, 1)) %>% count(sex)\n",
    "data %>% mutate(sex = if_else(CS_SEXO == 'M', 0, 1)) -> data\n",
    "\n",
    "# remove the former column\n",
    "data %>% select(-CS_SEXO) -> data\n",
    "\n",
    "data %>% dim\n",
    "data %>% count(EVOLUCAO)\n",
    "data %>% count(HOSPITALIZ)"
   ]
  },
  {
   "cell_type": "code",
   "execution_count": 17,
   "id": "9f5b54af",
   "metadata": {},
   "outputs": [
    {
     "data": {
      "text/html": [
       "<table class=\"dataframe\">\n",
       "<caption>A data.frame: 8 × 2</caption>\n",
       "<thead>\n",
       "\t<tr><th scope=col>CS_GESTANT</th><th scope=col>n</th></tr>\n",
       "\t<tr><th scope=col>&lt;int&gt;</th><th scope=col>&lt;int&gt;</th></tr>\n",
       "</thead>\n",
       "<tbody>\n",
       "\t<tr><td> 1</td><td>  1023</td></tr>\n",
       "\t<tr><td> 2</td><td>  1431</td></tr>\n",
       "\t<tr><td> 3</td><td>  1335</td></tr>\n",
       "\t<tr><td> 4</td><td>   488</td></tr>\n",
       "\t<tr><td> 5</td><td>104437</td></tr>\n",
       "\t<tr><td> 6</td><td>108815</td></tr>\n",
       "\t<tr><td> 9</td><td> 23925</td></tr>\n",
       "\t<tr><td>NA</td><td>    60</td></tr>\n",
       "</tbody>\n",
       "</table>\n"
      ],
      "text/latex": [
       "A data.frame: 8 × 2\n",
       "\\begin{tabular}{ll}\n",
       " CS\\_GESTANT & n\\\\\n",
       " <int> & <int>\\\\\n",
       "\\hline\n",
       "\t  1 &   1023\\\\\n",
       "\t  2 &   1431\\\\\n",
       "\t  3 &   1335\\\\\n",
       "\t  4 &    488\\\\\n",
       "\t  5 & 104437\\\\\n",
       "\t  6 & 108815\\\\\n",
       "\t  9 &  23925\\\\\n",
       "\t NA &     60\\\\\n",
       "\\end{tabular}\n"
      ],
      "text/markdown": [
       "\n",
       "A data.frame: 8 × 2\n",
       "\n",
       "| CS_GESTANT &lt;int&gt; | n &lt;int&gt; |\n",
       "|---|---|\n",
       "|  1 |   1023 |\n",
       "|  2 |   1431 |\n",
       "|  3 |   1335 |\n",
       "|  4 |    488 |\n",
       "|  5 | 104437 |\n",
       "|  6 | 108815 |\n",
       "|  9 |  23925 |\n",
       "| NA |     60 |\n",
       "\n"
      ],
      "text/plain": [
       "  CS_GESTANT n     \n",
       "1  1           1023\n",
       "2  2           1431\n",
       "3  3           1335\n",
       "4  4            488\n",
       "5  5         104437\n",
       "6  6         108815\n",
       "7  9          23925\n",
       "8 NA             60"
      ]
     },
     "metadata": {},
     "output_type": "display_data"
    },
    {
     "data": {
      "text/html": [
       "<table class=\"dataframe\">\n",
       "<caption>A data.frame: 8 × 2</caption>\n",
       "<thead>\n",
       "\t<tr><th scope=col>CS_GESTANT</th><th scope=col>n</th></tr>\n",
       "\t<tr><th scope=col>&lt;int&gt;</th><th scope=col>&lt;int&gt;</th></tr>\n",
       "</thead>\n",
       "<tbody>\n",
       "\t<tr><td> 1</td><td>  1023</td></tr>\n",
       "\t<tr><td> 2</td><td>  1431</td></tr>\n",
       "\t<tr><td> 3</td><td>  1335</td></tr>\n",
       "\t<tr><td> 4</td><td>   488</td></tr>\n",
       "\t<tr><td> 5</td><td>104437</td></tr>\n",
       "\t<tr><td> 6</td><td> 17030</td></tr>\n",
       "\t<tr><td> 9</td><td> 23925</td></tr>\n",
       "\t<tr><td>NA</td><td>    60</td></tr>\n",
       "</tbody>\n",
       "</table>\n"
      ],
      "text/latex": [
       "A data.frame: 8 × 2\n",
       "\\begin{tabular}{ll}\n",
       " CS\\_GESTANT & n\\\\\n",
       " <int> & <int>\\\\\n",
       "\\hline\n",
       "\t  1 &   1023\\\\\n",
       "\t  2 &   1431\\\\\n",
       "\t  3 &   1335\\\\\n",
       "\t  4 &    488\\\\\n",
       "\t  5 & 104437\\\\\n",
       "\t  6 &  17030\\\\\n",
       "\t  9 &  23925\\\\\n",
       "\t NA &     60\\\\\n",
       "\\end{tabular}\n"
      ],
      "text/markdown": [
       "\n",
       "A data.frame: 8 × 2\n",
       "\n",
       "| CS_GESTANT &lt;int&gt; | n &lt;int&gt; |\n",
       "|---|---|\n",
       "|  1 |   1023 |\n",
       "|  2 |   1431 |\n",
       "|  3 |   1335 |\n",
       "|  4 |    488 |\n",
       "|  5 | 104437 |\n",
       "|  6 |  17030 |\n",
       "|  9 |  23925 |\n",
       "| NA |     60 |\n",
       "\n"
      ],
      "text/plain": [
       "  CS_GESTANT n     \n",
       "1  1           1023\n",
       "2  2           1431\n",
       "3  3           1335\n",
       "4  4            488\n",
       "5  5         104437\n",
       "6  6          17030\n",
       "7  9          23925\n",
       "8 NA             60"
      ]
     },
     "metadata": {},
     "output_type": "display_data"
    },
    {
     "data": {
      "text/html": [
       "<table class=\"dataframe\">\n",
       "<caption>A data.frame: 1 × 2</caption>\n",
       "<thead>\n",
       "\t<tr><th scope=col>CS_GESTANT</th><th scope=col>n</th></tr>\n",
       "\t<tr><th scope=col>&lt;int&gt;</th><th scope=col>&lt;int&gt;</th></tr>\n",
       "</thead>\n",
       "<tbody>\n",
       "\t<tr><td>6</td><td>91785</td></tr>\n",
       "</tbody>\n",
       "</table>\n"
      ],
      "text/latex": [
       "A data.frame: 1 × 2\n",
       "\\begin{tabular}{ll}\n",
       " CS\\_GESTANT & n\\\\\n",
       " <int> & <int>\\\\\n",
       "\\hline\n",
       "\t 6 & 91785\\\\\n",
       "\\end{tabular}\n"
      ],
      "text/markdown": [
       "\n",
       "A data.frame: 1 × 2\n",
       "\n",
       "| CS_GESTANT &lt;int&gt; | n &lt;int&gt; |\n",
       "|---|---|\n",
       "| 6 | 91785 |\n",
       "\n"
      ],
      "text/plain": [
       "  CS_GESTANT n    \n",
       "1 6          91785"
      ]
     },
     "metadata": {},
     "output_type": "display_data"
    },
    {
     "data": {
      "text/html": [
       "<table class=\"dataframe\">\n",
       "<caption>A data.frame: 8 × 2</caption>\n",
       "<thead>\n",
       "\t<tr><th scope=col>CS_GESTANT</th><th scope=col>n</th></tr>\n",
       "\t<tr><th scope=col>&lt;dbl&gt;</th><th scope=col>&lt;int&gt;</th></tr>\n",
       "</thead>\n",
       "<tbody>\n",
       "\t<tr><td>0</td><td>    60</td></tr>\n",
       "\t<tr><td>1</td><td>  1023</td></tr>\n",
       "\t<tr><td>2</td><td>  1431</td></tr>\n",
       "\t<tr><td>3</td><td>  1335</td></tr>\n",
       "\t<tr><td>4</td><td>   488</td></tr>\n",
       "\t<tr><td>5</td><td>104437</td></tr>\n",
       "\t<tr><td>6</td><td>108815</td></tr>\n",
       "\t<tr><td>9</td><td> 23925</td></tr>\n",
       "</tbody>\n",
       "</table>\n"
      ],
      "text/latex": [
       "A data.frame: 8 × 2\n",
       "\\begin{tabular}{ll}\n",
       " CS\\_GESTANT & n\\\\\n",
       " <dbl> & <int>\\\\\n",
       "\\hline\n",
       "\t 0 &     60\\\\\n",
       "\t 1 &   1023\\\\\n",
       "\t 2 &   1431\\\\\n",
       "\t 3 &   1335\\\\\n",
       "\t 4 &    488\\\\\n",
       "\t 5 & 104437\\\\\n",
       "\t 6 & 108815\\\\\n",
       "\t 9 &  23925\\\\\n",
       "\\end{tabular}\n"
      ],
      "text/markdown": [
       "\n",
       "A data.frame: 8 × 2\n",
       "\n",
       "| CS_GESTANT &lt;dbl&gt; | n &lt;int&gt; |\n",
       "|---|---|\n",
       "| 0 |     60 |\n",
       "| 1 |   1023 |\n",
       "| 2 |   1431 |\n",
       "| 3 |   1335 |\n",
       "| 4 |    488 |\n",
       "| 5 | 104437 |\n",
       "| 6 | 108815 |\n",
       "| 9 |  23925 |\n",
       "\n"
      ],
      "text/plain": [
       "  CS_GESTANT n     \n",
       "1 0              60\n",
       "2 1            1023\n",
       "3 2            1431\n",
       "4 3            1335\n",
       "5 4             488\n",
       "6 5          104437\n",
       "7 6          108815\n",
       "8 9           23925"
      ]
     },
     "metadata": {},
     "output_type": "display_data"
    }
   ],
   "source": [
    "# check the column pregnancy for each sex\n",
    "# transform na values in the column pregnancy in 0 (not pregnant)\n",
    "\n",
    "data %>% count(CS_GESTANT)\n",
    "\n",
    "data %>% filter(sex == 1) %>% count(CS_GESTANT)\n",
    "\n",
    "data %>% filter(sex == 0) %>% count(CS_GESTANT)\n",
    "\n",
    "data %>% mutate(CS_GESTANT = if_else(is.na(CS_GESTANT), 0, CS_GESTANT)) %>% count(CS_GESTANT)\n",
    "\n",
    "data %>% mutate(CS_GESTANT = if_else(is.na(CS_GESTANT), 0, CS_GESTANT)) -> data"
   ]
  },
  {
   "cell_type": "code",
   "execution_count": 18,
   "id": "1bf7943f",
   "metadata": {},
   "outputs": [
    {
     "data": {
      "text/html": [
       "<table class=\"dataframe\">\n",
       "<caption>A data.frame: 2 × 2</caption>\n",
       "<thead>\n",
       "\t<tr><th scope=col>pregnancy</th><th scope=col>n</th></tr>\n",
       "\t<tr><th scope=col>&lt;dbl&gt;</th><th scope=col>&lt;int&gt;</th></tr>\n",
       "</thead>\n",
       "<tbody>\n",
       "\t<tr><td>0</td><td>237237</td></tr>\n",
       "\t<tr><td>1</td><td>  4277</td></tr>\n",
       "</tbody>\n",
       "</table>\n"
      ],
      "text/latex": [
       "A data.frame: 2 × 2\n",
       "\\begin{tabular}{ll}\n",
       " pregnancy & n\\\\\n",
       " <dbl> & <int>\\\\\n",
       "\\hline\n",
       "\t 0 & 237237\\\\\n",
       "\t 1 &   4277\\\\\n",
       "\\end{tabular}\n"
      ],
      "text/markdown": [
       "\n",
       "A data.frame: 2 × 2\n",
       "\n",
       "| pregnancy &lt;dbl&gt; | n &lt;int&gt; |\n",
       "|---|---|\n",
       "| 0 | 237237 |\n",
       "| 1 |   4277 |\n",
       "\n"
      ],
      "text/plain": [
       "  pregnancy n     \n",
       "1 0         237237\n",
       "2 1           4277"
      ]
     },
     "metadata": {},
     "output_type": "display_data"
    }
   ],
   "source": [
    "# transform the column pregnant in binary, orignally diferent values refer to difernt stages on pregnancy\n",
    "\n",
    "data %>% mutate(pregnancy = if_else((CS_GESTANT == 1 | \n",
    "                               CS_GESTANT == 2 | \n",
    "                               CS_GESTANT == 3 | \n",
    "                               CS_GESTANT == 4), 1, 0)) %>% count(pregnancy)\n",
    "\n",
    "\n",
    "data %>% mutate(pregnancy = if_else((CS_GESTANT == 1 | \n",
    "                               CS_GESTANT == 2 | \n",
    "                               CS_GESTANT == 3 | \n",
    "                               CS_GESTANT == 4), 1, 0)) -> data\n",
    "\n",
    "data %>% select(-CS_GESTANT) -> data"
   ]
  },
  {
   "cell_type": "markdown",
   "id": "c66c0e96",
   "metadata": {},
   "source": [
    "### Filter 6: remove patients without race information"
   ]
  },
  {
   "cell_type": "code",
   "execution_count": 19,
   "id": "d0edd344",
   "metadata": {},
   "outputs": [
    {
     "data": {
      "text/html": [
       "<table class=\"dataframe\">\n",
       "<caption>A data.frame: 7 × 2</caption>\n",
       "<thead>\n",
       "\t<tr><th scope=col>CS_RACA</th><th scope=col>n</th></tr>\n",
       "\t<tr><th scope=col>&lt;int&gt;</th><th scope=col>&lt;int&gt;</th></tr>\n",
       "</thead>\n",
       "<tbody>\n",
       "\t<tr><td> 1</td><td> 32058</td></tr>\n",
       "\t<tr><td> 2</td><td>  8255</td></tr>\n",
       "\t<tr><td> 3</td><td>  2796</td></tr>\n",
       "\t<tr><td> 4</td><td>163708</td></tr>\n",
       "\t<tr><td> 5</td><td>   952</td></tr>\n",
       "\t<tr><td> 9</td><td> 33742</td></tr>\n",
       "\t<tr><td>NA</td><td>     3</td></tr>\n",
       "</tbody>\n",
       "</table>\n"
      ],
      "text/latex": [
       "A data.frame: 7 × 2\n",
       "\\begin{tabular}{ll}\n",
       " CS\\_RACA & n\\\\\n",
       " <int> & <int>\\\\\n",
       "\\hline\n",
       "\t  1 &  32058\\\\\n",
       "\t  2 &   8255\\\\\n",
       "\t  3 &   2796\\\\\n",
       "\t  4 & 163708\\\\\n",
       "\t  5 &    952\\\\\n",
       "\t  9 &  33742\\\\\n",
       "\t NA &      3\\\\\n",
       "\\end{tabular}\n"
      ],
      "text/markdown": [
       "\n",
       "A data.frame: 7 × 2\n",
       "\n",
       "| CS_RACA &lt;int&gt; | n &lt;int&gt; |\n",
       "|---|---|\n",
       "|  1 |  32058 |\n",
       "|  2 |   8255 |\n",
       "|  3 |   2796 |\n",
       "|  4 | 163708 |\n",
       "|  5 |    952 |\n",
       "|  9 |  33742 |\n",
       "| NA |      3 |\n",
       "\n"
      ],
      "text/plain": [
       "  CS_RACA n     \n",
       "1  1       32058\n",
       "2  2        8255\n",
       "3  3        2796\n",
       "4  4      163708\n",
       "5  5         952\n",
       "6  9       33742\n",
       "7 NA           3"
      ]
     },
     "metadata": {},
     "output_type": "display_data"
    },
    {
     "data": {
      "text/html": [
       "<table class=\"dataframe\">\n",
       "<caption>A data.frame: 5 × 2</caption>\n",
       "<thead>\n",
       "\t<tr><th scope=col>CS_RACA</th><th scope=col>n</th></tr>\n",
       "\t<tr><th scope=col>&lt;int&gt;</th><th scope=col>&lt;int&gt;</th></tr>\n",
       "</thead>\n",
       "<tbody>\n",
       "\t<tr><td>1</td><td> 32058</td></tr>\n",
       "\t<tr><td>2</td><td>  8255</td></tr>\n",
       "\t<tr><td>3</td><td>  2796</td></tr>\n",
       "\t<tr><td>4</td><td>163708</td></tr>\n",
       "\t<tr><td>5</td><td>   952</td></tr>\n",
       "</tbody>\n",
       "</table>\n"
      ],
      "text/latex": [
       "A data.frame: 5 × 2\n",
       "\\begin{tabular}{ll}\n",
       " CS\\_RACA & n\\\\\n",
       " <int> & <int>\\\\\n",
       "\\hline\n",
       "\t 1 &  32058\\\\\n",
       "\t 2 &   8255\\\\\n",
       "\t 3 &   2796\\\\\n",
       "\t 4 & 163708\\\\\n",
       "\t 5 &    952\\\\\n",
       "\\end{tabular}\n"
      ],
      "text/markdown": [
       "\n",
       "A data.frame: 5 × 2\n",
       "\n",
       "| CS_RACA &lt;int&gt; | n &lt;int&gt; |\n",
       "|---|---|\n",
       "| 1 |  32058 |\n",
       "| 2 |   8255 |\n",
       "| 3 |   2796 |\n",
       "| 4 | 163708 |\n",
       "| 5 |    952 |\n",
       "\n"
      ],
      "text/plain": [
       "  CS_RACA n     \n",
       "1 1        32058\n",
       "2 2         8255\n",
       "3 3         2796\n",
       "4 4       163708\n",
       "5 5          952"
      ]
     },
     "metadata": {},
     "output_type": "display_data"
    },
    {
     "data": {
      "text/html": [
       "<style>\n",
       ".list-inline {list-style: none; margin:0; padding: 0}\n",
       ".list-inline>li {display: inline-block}\n",
       ".list-inline>li:not(:last-child)::after {content: \"\\00b7\"; padding: 0 .5ex}\n",
       "</style>\n",
       "<ol class=list-inline><li>207769</li><li>36</li></ol>\n"
      ],
      "text/latex": [
       "\\begin{enumerate*}\n",
       "\\item 207769\n",
       "\\item 36\n",
       "\\end{enumerate*}\n"
      ],
      "text/markdown": [
       "1. 207769\n",
       "2. 36\n",
       "\n",
       "\n"
      ],
      "text/plain": [
       "[1] 207769     36"
      ]
     },
     "metadata": {},
     "output_type": "display_data"
    },
    {
     "data": {
      "text/html": [
       "<table class=\"dataframe\">\n",
       "<caption>A data.frame: 6 × 2</caption>\n",
       "<thead>\n",
       "\t<tr><th scope=col>EVOLUCAO</th><th scope=col>n</th></tr>\n",
       "\t<tr><th scope=col>&lt;int&gt;</th><th scope=col>&lt;int&gt;</th></tr>\n",
       "</thead>\n",
       "<tbody>\n",
       "\t<tr><td> 1</td><td>168584</td></tr>\n",
       "\t<tr><td> 2</td><td>    88</td></tr>\n",
       "\t<tr><td> 3</td><td>   222</td></tr>\n",
       "\t<tr><td> 4</td><td>    22</td></tr>\n",
       "\t<tr><td> 9</td><td>  5080</td></tr>\n",
       "\t<tr><td>NA</td><td> 33773</td></tr>\n",
       "</tbody>\n",
       "</table>\n"
      ],
      "text/latex": [
       "A data.frame: 6 × 2\n",
       "\\begin{tabular}{ll}\n",
       " EVOLUCAO & n\\\\\n",
       " <int> & <int>\\\\\n",
       "\\hline\n",
       "\t  1 & 168584\\\\\n",
       "\t  2 &     88\\\\\n",
       "\t  3 &    222\\\\\n",
       "\t  4 &     22\\\\\n",
       "\t  9 &   5080\\\\\n",
       "\t NA &  33773\\\\\n",
       "\\end{tabular}\n"
      ],
      "text/markdown": [
       "\n",
       "A data.frame: 6 × 2\n",
       "\n",
       "| EVOLUCAO &lt;int&gt; | n &lt;int&gt; |\n",
       "|---|---|\n",
       "|  1 | 168584 |\n",
       "|  2 |     88 |\n",
       "|  3 |    222 |\n",
       "|  4 |     22 |\n",
       "|  9 |   5080 |\n",
       "| NA |  33773 |\n",
       "\n"
      ],
      "text/plain": [
       "  EVOLUCAO n     \n",
       "1  1       168584\n",
       "2  2           88\n",
       "3  3          222\n",
       "4  4           22\n",
       "5  9         5080\n",
       "6 NA        33773"
      ]
     },
     "metadata": {},
     "output_type": "display_data"
    },
    {
     "data": {
      "text/html": [
       "<table class=\"dataframe\">\n",
       "<caption>A data.frame: 4 × 2</caption>\n",
       "<thead>\n",
       "\t<tr><th scope=col>HOSPITALIZ</th><th scope=col>n</th></tr>\n",
       "\t<tr><th scope=col>&lt;int&gt;</th><th scope=col>&lt;int&gt;</th></tr>\n",
       "</thead>\n",
       "<tbody>\n",
       "\t<tr><td> 1</td><td>  4352</td></tr>\n",
       "\t<tr><td> 2</td><td>121217</td></tr>\n",
       "\t<tr><td> 9</td><td>  2080</td></tr>\n",
       "\t<tr><td>NA</td><td> 80120</td></tr>\n",
       "</tbody>\n",
       "</table>\n"
      ],
      "text/latex": [
       "A data.frame: 4 × 2\n",
       "\\begin{tabular}{ll}\n",
       " HOSPITALIZ & n\\\\\n",
       " <int> & <int>\\\\\n",
       "\\hline\n",
       "\t  1 &   4352\\\\\n",
       "\t  2 & 121217\\\\\n",
       "\t  9 &   2080\\\\\n",
       "\t NA &  80120\\\\\n",
       "\\end{tabular}\n"
      ],
      "text/markdown": [
       "\n",
       "A data.frame: 4 × 2\n",
       "\n",
       "| HOSPITALIZ &lt;int&gt; | n &lt;int&gt; |\n",
       "|---|---|\n",
       "|  1 |   4352 |\n",
       "|  2 | 121217 |\n",
       "|  9 |   2080 |\n",
       "| NA |  80120 |\n",
       "\n"
      ],
      "text/plain": [
       "  HOSPITALIZ n     \n",
       "1  1           4352\n",
       "2  2         121217\n",
       "3  9           2080\n",
       "4 NA          80120"
      ]
     },
     "metadata": {},
     "output_type": "display_data"
    }
   ],
   "source": [
    "# remove unknown race, or na values\n",
    "\n",
    "data %>% count(CS_RACA)\n",
    "\n",
    "data %>% filter(!is.na(CS_RACA)) %>% filter(CS_RACA < 9) %>% count(CS_RACA)\n",
    "\n",
    "data %>% filter(!is.na(CS_RACA)) %>% filter(CS_RACA < 9) -> data\n",
    "\n",
    "data %>% dim\n",
    "\n",
    "data %>% count(EVOLUCAO)\n",
    "data %>% count(HOSPITALIZ)"
   ]
  },
  {
   "cell_type": "code",
   "execution_count": 20,
   "id": "1322e5e0",
   "metadata": {},
   "outputs": [
    {
     "data": {
      "text/html": [
       "<table class=\"dataframe\">\n",
       "<caption>A data.frame: 11 × 2</caption>\n",
       "<thead>\n",
       "\t<tr><th scope=col>CS_ESCOL_N</th><th scope=col>n</th></tr>\n",
       "\t<tr><th scope=col>&lt;int&gt;</th><th scope=col>&lt;int&gt;</th></tr>\n",
       "</thead>\n",
       "<tbody>\n",
       "\t<tr><td> 0</td><td> 2616</td></tr>\n",
       "\t<tr><td> 1</td><td> 8215</td></tr>\n",
       "\t<tr><td> 2</td><td> 4735</td></tr>\n",
       "\t<tr><td> 3</td><td>12054</td></tr>\n",
       "\t<tr><td> 4</td><td> 8795</td></tr>\n",
       "\t<tr><td> 5</td><td>11195</td></tr>\n",
       "\t<tr><td> 6</td><td>35078</td></tr>\n",
       "\t<tr><td> 7</td><td> 3412</td></tr>\n",
       "\t<tr><td> 8</td><td> 9688</td></tr>\n",
       "\t<tr><td> 9</td><td>56393</td></tr>\n",
       "\t<tr><td>NA</td><td>55588</td></tr>\n",
       "</tbody>\n",
       "</table>\n"
      ],
      "text/latex": [
       "A data.frame: 11 × 2\n",
       "\\begin{tabular}{ll}\n",
       " CS\\_ESCOL\\_N & n\\\\\n",
       " <int> & <int>\\\\\n",
       "\\hline\n",
       "\t  0 &  2616\\\\\n",
       "\t  1 &  8215\\\\\n",
       "\t  2 &  4735\\\\\n",
       "\t  3 & 12054\\\\\n",
       "\t  4 &  8795\\\\\n",
       "\t  5 & 11195\\\\\n",
       "\t  6 & 35078\\\\\n",
       "\t  7 &  3412\\\\\n",
       "\t  8 &  9688\\\\\n",
       "\t  9 & 56393\\\\\n",
       "\t NA & 55588\\\\\n",
       "\\end{tabular}\n"
      ],
      "text/markdown": [
       "\n",
       "A data.frame: 11 × 2\n",
       "\n",
       "| CS_ESCOL_N &lt;int&gt; | n &lt;int&gt; |\n",
       "|---|---|\n",
       "|  0 |  2616 |\n",
       "|  1 |  8215 |\n",
       "|  2 |  4735 |\n",
       "|  3 | 12054 |\n",
       "|  4 |  8795 |\n",
       "|  5 | 11195 |\n",
       "|  6 | 35078 |\n",
       "|  7 |  3412 |\n",
       "|  8 |  9688 |\n",
       "|  9 | 56393 |\n",
       "| NA | 55588 |\n",
       "\n"
      ],
      "text/plain": [
       "   CS_ESCOL_N n    \n",
       "1   0          2616\n",
       "2   1          8215\n",
       "3   2          4735\n",
       "4   3         12054\n",
       "5   4          8795\n",
       "6   5         11195\n",
       "7   6         35078\n",
       "8   7          3412\n",
       "9   8          9688\n",
       "10  9         56393\n",
       "11 NA         55588"
      ]
     },
     "metadata": {},
     "output_type": "display_data"
    },
    {
     "data": {
      "text/html": [
       "<table class=\"dataframe\">\n",
       "<caption>A data.frame: 10 × 2</caption>\n",
       "<thead>\n",
       "\t<tr><th scope=col>CS_ESCOL_N</th><th scope=col>n</th></tr>\n",
       "\t<tr><th scope=col>&lt;int&gt;</th><th scope=col>&lt;int&gt;</th></tr>\n",
       "</thead>\n",
       "<tbody>\n",
       "\t<tr><td> 0</td><td>  2616</td></tr>\n",
       "\t<tr><td> 1</td><td>  8215</td></tr>\n",
       "\t<tr><td> 2</td><td>  4735</td></tr>\n",
       "\t<tr><td> 3</td><td> 12054</td></tr>\n",
       "\t<tr><td> 4</td><td>  8795</td></tr>\n",
       "\t<tr><td> 5</td><td> 11195</td></tr>\n",
       "\t<tr><td> 6</td><td> 35078</td></tr>\n",
       "\t<tr><td> 7</td><td>  3412</td></tr>\n",
       "\t<tr><td> 8</td><td>  9688</td></tr>\n",
       "\t<tr><td>NA</td><td>111981</td></tr>\n",
       "</tbody>\n",
       "</table>\n"
      ],
      "text/latex": [
       "A data.frame: 10 × 2\n",
       "\\begin{tabular}{ll}\n",
       " CS\\_ESCOL\\_N & n\\\\\n",
       " <int> & <int>\\\\\n",
       "\\hline\n",
       "\t  0 &   2616\\\\\n",
       "\t  1 &   8215\\\\\n",
       "\t  2 &   4735\\\\\n",
       "\t  3 &  12054\\\\\n",
       "\t  4 &   8795\\\\\n",
       "\t  5 &  11195\\\\\n",
       "\t  6 &  35078\\\\\n",
       "\t  7 &   3412\\\\\n",
       "\t  8 &   9688\\\\\n",
       "\t NA & 111981\\\\\n",
       "\\end{tabular}\n"
      ],
      "text/markdown": [
       "\n",
       "A data.frame: 10 × 2\n",
       "\n",
       "| CS_ESCOL_N &lt;int&gt; | n &lt;int&gt; |\n",
       "|---|---|\n",
       "|  0 |   2616 |\n",
       "|  1 |   8215 |\n",
       "|  2 |   4735 |\n",
       "|  3 |  12054 |\n",
       "|  4 |   8795 |\n",
       "|  5 |  11195 |\n",
       "|  6 |  35078 |\n",
       "|  7 |   3412 |\n",
       "|  8 |   9688 |\n",
       "| NA | 111981 |\n",
       "\n"
      ],
      "text/plain": [
       "   CS_ESCOL_N n     \n",
       "1   0           2616\n",
       "2   1           8215\n",
       "3   2           4735\n",
       "4   3          12054\n",
       "5   4           8795\n",
       "6   5          11195\n",
       "7   6          35078\n",
       "8   7           3412\n",
       "9   8           9688\n",
       "10 NA         111981"
      ]
     },
     "metadata": {},
     "output_type": "display_data"
    }
   ],
   "source": [
    "# check year of schooling. 9 = unknown. \n",
    "\n",
    "data %>% count(CS_ESCOL_N)\n",
    "\n",
    "data$CS_ESCOL_N[data$CS_ESCOL_N == 9] <- NA\n",
    "\n",
    "data %>% count(CS_ESCOL_N)"
   ]
  },
  {
   "cell_type": "code",
   "execution_count": 21,
   "id": "41affa7b",
   "metadata": {},
   "outputs": [
    {
     "data": {
      "text/html": [
       "80379"
      ],
      "text/latex": [
       "80379"
      ],
      "text/markdown": [
       "80379"
      ],
      "text/plain": [
       "[1] 80379"
      ]
     },
     "metadata": {},
     "output_type": "display_data"
    },
    {
     "data": {
      "text/html": [
       "<table class=\"dataframe\">\n",
       "<caption>A tibble: 10 × 2</caption>\n",
       "<thead>\n",
       "\t<tr><th scope=col>CS_ESCOL_N</th><th scope=col>n</th></tr>\n",
       "\t<tr><th scope=col>&lt;dbl&gt;</th><th scope=col>&lt;int&gt;</th></tr>\n",
       "</thead>\n",
       "<tbody>\n",
       "\t<tr><td>  0</td><td> 3120</td></tr>\n",
       "\t<tr><td>  1</td><td> 9722</td></tr>\n",
       "\t<tr><td>  2</td><td> 6822</td></tr>\n",
       "\t<tr><td>  3</td><td>16407</td></tr>\n",
       "\t<tr><td>  4</td><td>19371</td></tr>\n",
       "\t<tr><td>  5</td><td>28754</td></tr>\n",
       "\t<tr><td>  6</td><td>55185</td></tr>\n",
       "\t<tr><td>  7</td><td> 6026</td></tr>\n",
       "\t<tr><td>  8</td><td>11724</td></tr>\n",
       "\t<tr><td>NaN</td><td>50638</td></tr>\n",
       "</tbody>\n",
       "</table>\n"
      ],
      "text/latex": [
       "A tibble: 10 × 2\n",
       "\\begin{tabular}{ll}\n",
       " CS\\_ESCOL\\_N & n\\\\\n",
       " <dbl> & <int>\\\\\n",
       "\\hline\n",
       "\t   0 &  3120\\\\\n",
       "\t   1 &  9722\\\\\n",
       "\t   2 &  6822\\\\\n",
       "\t   3 & 16407\\\\\n",
       "\t   4 & 19371\\\\\n",
       "\t   5 & 28754\\\\\n",
       "\t   6 & 55185\\\\\n",
       "\t   7 &  6026\\\\\n",
       "\t   8 & 11724\\\\\n",
       "\t NaN & 50638\\\\\n",
       "\\end{tabular}\n"
      ],
      "text/markdown": [
       "\n",
       "A tibble: 10 × 2\n",
       "\n",
       "| CS_ESCOL_N &lt;dbl&gt; | n &lt;int&gt; |\n",
       "|---|---|\n",
       "|   0 |  3120 |\n",
       "|   1 |  9722 |\n",
       "|   2 |  6822 |\n",
       "|   3 | 16407 |\n",
       "|   4 | 19371 |\n",
       "|   5 | 28754 |\n",
       "|   6 | 55185 |\n",
       "|   7 |  6026 |\n",
       "|   8 | 11724 |\n",
       "| NaN | 50638 |\n",
       "\n"
      ],
      "text/plain": [
       "   CS_ESCOL_N n    \n",
       "1    0         3120\n",
       "2    1         9722\n",
       "3    2         6822\n",
       "4    3        16407\n",
       "5    4        19371\n",
       "6    5        28754\n",
       "7    6        55185\n",
       "8    7         6026\n",
       "9    8        11724\n",
       "10 NaN        50638"
      ]
     },
     "metadata": {},
     "output_type": "display_data"
    },
    {
     "data": {
      "text/html": [
       "<table class=\"dataframe\">\n",
       "<caption>A tibble: 10 × 2</caption>\n",
       "<thead>\n",
       "\t<tr><th scope=col>CS_ESCOL_N</th><th scope=col>n</th></tr>\n",
       "\t<tr><th scope=col>&lt;dbl&gt;</th><th scope=col>&lt;int&gt;</th></tr>\n",
       "</thead>\n",
       "<tbody>\n",
       "\t<tr><td>  0</td><td> 3177</td></tr>\n",
       "\t<tr><td>  1</td><td> 9892</td></tr>\n",
       "\t<tr><td>  2</td><td> 9307</td></tr>\n",
       "\t<tr><td>  3</td><td>22640</td></tr>\n",
       "\t<tr><td>  4</td><td>29918</td></tr>\n",
       "\t<tr><td>  5</td><td>48598</td></tr>\n",
       "\t<tr><td>  6</td><td>66329</td></tr>\n",
       "\t<tr><td>  7</td><td> 6073</td></tr>\n",
       "\t<tr><td>  8</td><td>11733</td></tr>\n",
       "\t<tr><td>NaN</td><td>  102</td></tr>\n",
       "</tbody>\n",
       "</table>\n"
      ],
      "text/latex": [
       "A tibble: 10 × 2\n",
       "\\begin{tabular}{ll}\n",
       " CS\\_ESCOL\\_N & n\\\\\n",
       " <dbl> & <int>\\\\\n",
       "\\hline\n",
       "\t   0 &  3177\\\\\n",
       "\t   1 &  9892\\\\\n",
       "\t   2 &  9307\\\\\n",
       "\t   3 & 22640\\\\\n",
       "\t   4 & 29918\\\\\n",
       "\t   5 & 48598\\\\\n",
       "\t   6 & 66329\\\\\n",
       "\t   7 &  6073\\\\\n",
       "\t   8 & 11733\\\\\n",
       "\t NaN &   102\\\\\n",
       "\\end{tabular}\n"
      ],
      "text/markdown": [
       "\n",
       "A tibble: 10 × 2\n",
       "\n",
       "| CS_ESCOL_N &lt;dbl&gt; | n &lt;int&gt; |\n",
       "|---|---|\n",
       "|   0 |  3177 |\n",
       "|   1 |  9892 |\n",
       "|   2 |  9307 |\n",
       "|   3 | 22640 |\n",
       "|   4 | 29918 |\n",
       "|   5 | 48598 |\n",
       "|   6 | 66329 |\n",
       "|   7 |  6073 |\n",
       "|   8 | 11733 |\n",
       "| NaN |   102 |\n",
       "\n"
      ],
      "text/plain": [
       "   CS_ESCOL_N n    \n",
       "1    0         3177\n",
       "2    1         9892\n",
       "3    2         9307\n",
       "4    3        22640\n",
       "5    4        29918\n",
       "6    5        48598\n",
       "7    6        66329\n",
       "8    7         6073\n",
       "9    8        11733\n",
       "10 NaN          102"
      ]
     },
     "metadata": {},
     "output_type": "display_data"
    }
   ],
   "source": [
    "# how many groups by age, race, city and sex\n",
    "data %>% group_by(age, CS_RACA, ID_MN_RESI, sex) %>% n_groups\n",
    "\n",
    "# create a new column with the average\n",
    "data %>% group_by(age, CS_RACA, ID_MN_RESI, sex) %>% mutate(average = mean(CS_ESCOL_N, na.rm=TRUE)) %>% \n",
    "    ungroup -> data\n",
    "\n",
    "# when CS_ESCOL_N is na or 9 change by the average\n",
    "\n",
    "data %>% mutate(CS_ESCOL_N = if_else((is.na(CS_ESCOL_N)), round(average), CS_ESCOL_N)) %>% count(CS_ESCOL_N)\n",
    "data %>% mutate(CS_ESCOL_N = if_else((is.na(CS_ESCOL_N)), round(average), CS_ESCOL_N)) -> data\n",
    "data %>% select(-average) -> data\n",
    "\n",
    "# if is still NA consider groups of age, race and sex\n",
    "\n",
    "# create a new column with the average\n",
    "data %>% group_by(age, CS_RACA, sex) %>% mutate(average = mean(CS_ESCOL_N, na.rm=TRUE)) %>% \n",
    "    ungroup -> data\n",
    "\n",
    "# when CS_ESCOL_N is na change by the average\n",
    "data %>% mutate(CS_ESCOL_N = if_else((is.na(CS_ESCOL_N)), round(average), CS_ESCOL_N)) %>% count(CS_ESCOL_N)\n",
    "data %>% mutate(CS_ESCOL_N = if_else((is.na(CS_ESCOL_N)), round(average), CS_ESCOL_N)) -> data\n",
    "data %>% select(-average) -> data"
   ]
  },
  {
   "cell_type": "markdown",
   "id": "3c4c5595",
   "metadata": {},
   "source": [
    "### Filter 7: remove patients without schooling information (after input by group)"
   ]
  },
  {
   "cell_type": "code",
   "execution_count": 22,
   "id": "61eb89c9",
   "metadata": {},
   "outputs": [
    {
     "data": {
      "text/html": [
       "<table class=\"dataframe\">\n",
       "<caption>A tibble: 10 × 2</caption>\n",
       "<thead>\n",
       "\t<tr><th scope=col>CS_ESCOL_N</th><th scope=col>n</th></tr>\n",
       "\t<tr><th scope=col>&lt;dbl&gt;</th><th scope=col>&lt;int&gt;</th></tr>\n",
       "</thead>\n",
       "<tbody>\n",
       "\t<tr><td>  0</td><td> 3177</td></tr>\n",
       "\t<tr><td>  1</td><td> 9892</td></tr>\n",
       "\t<tr><td>  2</td><td> 9307</td></tr>\n",
       "\t<tr><td>  3</td><td>22640</td></tr>\n",
       "\t<tr><td>  4</td><td>29918</td></tr>\n",
       "\t<tr><td>  5</td><td>48598</td></tr>\n",
       "\t<tr><td>  6</td><td>66329</td></tr>\n",
       "\t<tr><td>  7</td><td> 6073</td></tr>\n",
       "\t<tr><td>  8</td><td>11733</td></tr>\n",
       "\t<tr><td>NaN</td><td>  102</td></tr>\n",
       "</tbody>\n",
       "</table>\n"
      ],
      "text/latex": [
       "A tibble: 10 × 2\n",
       "\\begin{tabular}{ll}\n",
       " CS\\_ESCOL\\_N & n\\\\\n",
       " <dbl> & <int>\\\\\n",
       "\\hline\n",
       "\t   0 &  3177\\\\\n",
       "\t   1 &  9892\\\\\n",
       "\t   2 &  9307\\\\\n",
       "\t   3 & 22640\\\\\n",
       "\t   4 & 29918\\\\\n",
       "\t   5 & 48598\\\\\n",
       "\t   6 & 66329\\\\\n",
       "\t   7 &  6073\\\\\n",
       "\t   8 & 11733\\\\\n",
       "\t NaN &   102\\\\\n",
       "\\end{tabular}\n"
      ],
      "text/markdown": [
       "\n",
       "A tibble: 10 × 2\n",
       "\n",
       "| CS_ESCOL_N &lt;dbl&gt; | n &lt;int&gt; |\n",
       "|---|---|\n",
       "|   0 |  3177 |\n",
       "|   1 |  9892 |\n",
       "|   2 |  9307 |\n",
       "|   3 | 22640 |\n",
       "|   4 | 29918 |\n",
       "|   5 | 48598 |\n",
       "|   6 | 66329 |\n",
       "|   7 |  6073 |\n",
       "|   8 | 11733 |\n",
       "| NaN |   102 |\n",
       "\n"
      ],
      "text/plain": [
       "   CS_ESCOL_N n    \n",
       "1    0         3177\n",
       "2    1         9892\n",
       "3    2         9307\n",
       "4    3        22640\n",
       "5    4        29918\n",
       "6    5        48598\n",
       "7    6        66329\n",
       "8    7         6073\n",
       "9    8        11733\n",
       "10 NaN          102"
      ]
     },
     "metadata": {},
     "output_type": "display_data"
    },
    {
     "data": {
      "text/html": [
       "<table class=\"dataframe\">\n",
       "<caption>A tibble: 6 × 2</caption>\n",
       "<thead>\n",
       "\t<tr><th scope=col>EVOLUCAO</th><th scope=col>n</th></tr>\n",
       "\t<tr><th scope=col>&lt;int&gt;</th><th scope=col>&lt;int&gt;</th></tr>\n",
       "</thead>\n",
       "<tbody>\n",
       "\t<tr><td> 1</td><td>168505</td></tr>\n",
       "\t<tr><td> 2</td><td>    87</td></tr>\n",
       "\t<tr><td> 3</td><td>   221</td></tr>\n",
       "\t<tr><td> 4</td><td>    22</td></tr>\n",
       "\t<tr><td> 9</td><td>  5075</td></tr>\n",
       "\t<tr><td>NA</td><td> 33757</td></tr>\n",
       "</tbody>\n",
       "</table>\n"
      ],
      "text/latex": [
       "A tibble: 6 × 2\n",
       "\\begin{tabular}{ll}\n",
       " EVOLUCAO & n\\\\\n",
       " <int> & <int>\\\\\n",
       "\\hline\n",
       "\t  1 & 168505\\\\\n",
       "\t  2 &     87\\\\\n",
       "\t  3 &    221\\\\\n",
       "\t  4 &     22\\\\\n",
       "\t  9 &   5075\\\\\n",
       "\t NA &  33757\\\\\n",
       "\\end{tabular}\n"
      ],
      "text/markdown": [
       "\n",
       "A tibble: 6 × 2\n",
       "\n",
       "| EVOLUCAO &lt;int&gt; | n &lt;int&gt; |\n",
       "|---|---|\n",
       "|  1 | 168505 |\n",
       "|  2 |     87 |\n",
       "|  3 |    221 |\n",
       "|  4 |     22 |\n",
       "|  9 |   5075 |\n",
       "| NA |  33757 |\n",
       "\n"
      ],
      "text/plain": [
       "  EVOLUCAO n     \n",
       "1  1       168505\n",
       "2  2           87\n",
       "3  3          221\n",
       "4  4           22\n",
       "5  9         5075\n",
       "6 NA        33757"
      ]
     },
     "metadata": {},
     "output_type": "display_data"
    },
    {
     "data": {
      "text/html": [
       "<table class=\"dataframe\">\n",
       "<caption>A tibble: 4 × 2</caption>\n",
       "<thead>\n",
       "\t<tr><th scope=col>HOSPITALIZ</th><th scope=col>n</th></tr>\n",
       "\t<tr><th scope=col>&lt;int&gt;</th><th scope=col>&lt;int&gt;</th></tr>\n",
       "</thead>\n",
       "<tbody>\n",
       "\t<tr><td> 1</td><td>  4349</td></tr>\n",
       "\t<tr><td> 2</td><td>121169</td></tr>\n",
       "\t<tr><td> 9</td><td>  2078</td></tr>\n",
       "\t<tr><td>NA</td><td> 80071</td></tr>\n",
       "</tbody>\n",
       "</table>\n"
      ],
      "text/latex": [
       "A tibble: 4 × 2\n",
       "\\begin{tabular}{ll}\n",
       " HOSPITALIZ & n\\\\\n",
       " <int> & <int>\\\\\n",
       "\\hline\n",
       "\t  1 &   4349\\\\\n",
       "\t  2 & 121169\\\\\n",
       "\t  9 &   2078\\\\\n",
       "\t NA &  80071\\\\\n",
       "\\end{tabular}\n"
      ],
      "text/markdown": [
       "\n",
       "A tibble: 4 × 2\n",
       "\n",
       "| HOSPITALIZ &lt;int&gt; | n &lt;int&gt; |\n",
       "|---|---|\n",
       "|  1 |   4349 |\n",
       "|  2 | 121169 |\n",
       "|  9 |   2078 |\n",
       "| NA |  80071 |\n",
       "\n"
      ],
      "text/plain": [
       "  HOSPITALIZ n     \n",
       "1  1           4349\n",
       "2  2         121169\n",
       "3  9           2078\n",
       "4 NA          80071"
      ]
     },
     "metadata": {},
     "output_type": "display_data"
    },
    {
     "data": {
      "text/html": [
       "<style>\n",
       ".list-inline {list-style: none; margin:0; padding: 0}\n",
       ".list-inline>li {display: inline-block}\n",
       ".list-inline>li:not(:last-child)::after {content: \"\\00b7\"; padding: 0 .5ex}\n",
       "</style>\n",
       "<ol class=list-inline><li>207667</li><li>36</li></ol>\n"
      ],
      "text/latex": [
       "\\begin{enumerate*}\n",
       "\\item 207667\n",
       "\\item 36\n",
       "\\end{enumerate*}\n"
      ],
      "text/markdown": [
       "1. 207667\n",
       "2. 36\n",
       "\n",
       "\n"
      ],
      "text/plain": [
       "[1] 207667     36"
      ]
     },
     "metadata": {},
     "output_type": "display_data"
    }
   ],
   "source": [
    "# if is still na, drop it\n",
    "\n",
    "data %>% count(CS_ESCOL_N)\n",
    "\n",
    "data %>% filter(!(is.na(CS_ESCOL_N))) -> data\n",
    "\n",
    "data %>% count(EVOLUCAO)\n",
    "data %>% count(HOSPITALIZ)\n",
    "\n",
    "data %>% dim"
   ]
  },
  {
   "cell_type": "markdown",
   "id": "3aa54ee1",
   "metadata": {},
   "source": [
    "### Delete columns"
   ]
  },
  {
   "cell_type": "code",
   "execution_count": 23,
   "id": "7f4bc462",
   "metadata": {},
   "outputs": [],
   "source": [
    "# this feature is correlated with uf \n",
    "\n",
    "data %>% select(-ID_MN_RESI) -> data"
   ]
  },
  {
   "cell_type": "code",
   "execution_count": 24,
   "id": "517a2dbb",
   "metadata": {},
   "outputs": [
    {
     "data": {
      "text/html": [
       "134526"
      ],
      "text/latex": [
       "134526"
      ],
      "text/markdown": [
       "134526"
      ],
      "text/plain": [
       "[1] 134526"
      ]
     },
     "metadata": {},
     "output_type": "display_data"
    }
   ],
   "source": [
    "# check the presence of na's inside the columns of symptoms and comorbities\n",
    "\n",
    "sum(is.na(data %>% select(FEBRE:AUTO_IMUNE)))"
   ]
  },
  {
   "cell_type": "code",
   "execution_count": 25,
   "id": "a8c0bd5e",
   "metadata": {},
   "outputs": [
    {
     "data": {
      "text/html": [
       "<table class=\"dataframe\">\n",
       "<caption>A tibble: 6 × 22</caption>\n",
       "<thead>\n",
       "\t<tr><th scope=col>FEBRE</th><th scope=col>MIALGIA</th><th scope=col>CEFALEIA</th><th scope=col>EXANTEMA</th><th scope=col>VOMITO</th><th scope=col>NAUSEA</th><th scope=col>DOR_COSTAS</th><th scope=col>CONJUNTVIT</th><th scope=col>ARTRITE</th><th scope=col>ARTRALGIA</th><th scope=col>⋯</th><th scope=col>LACO</th><th scope=col>DOR_RETRO</th><th scope=col>DIABETES</th><th scope=col>HEMATOLOG</th><th scope=col>HEPATOPAT</th><th scope=col>RENAL</th><th scope=col>HIPERTENSA</th><th scope=col>ACIDO_PEPT</th><th scope=col>AUTO_IMUNE</th><th scope=col>HOSPITALIZ</th></tr>\n",
       "\t<tr><th scope=col>&lt;int&gt;</th><th scope=col>&lt;int&gt;</th><th scope=col>&lt;int&gt;</th><th scope=col>&lt;int&gt;</th><th scope=col>&lt;int&gt;</th><th scope=col>&lt;int&gt;</th><th scope=col>&lt;int&gt;</th><th scope=col>&lt;int&gt;</th><th scope=col>&lt;int&gt;</th><th scope=col>&lt;int&gt;</th><th scope=col>⋯</th><th scope=col>&lt;int&gt;</th><th scope=col>&lt;int&gt;</th><th scope=col>&lt;int&gt;</th><th scope=col>&lt;int&gt;</th><th scope=col>&lt;int&gt;</th><th scope=col>&lt;int&gt;</th><th scope=col>&lt;int&gt;</th><th scope=col>&lt;int&gt;</th><th scope=col>&lt;int&gt;</th><th scope=col>&lt;int&gt;</th></tr>\n",
       "</thead>\n",
       "<tbody>\n",
       "\t<tr><td>1</td><td>2</td><td>1</td><td>2</td><td>2</td><td>2</td><td>1</td><td>2</td><td>2</td><td>2</td><td>⋯</td><td>2</td><td>2</td><td>2</td><td>2</td><td>2</td><td>2</td><td>2</td><td>2</td><td>2</td><td>NA</td></tr>\n",
       "\t<tr><td>1</td><td>2</td><td>1</td><td>2</td><td>1</td><td>1</td><td>1</td><td>2</td><td>2</td><td>2</td><td>⋯</td><td>2</td><td>2</td><td>2</td><td>2</td><td>2</td><td>2</td><td>2</td><td>2</td><td>2</td><td>NA</td></tr>\n",
       "\t<tr><td>1</td><td>2</td><td>1</td><td>2</td><td>2</td><td>1</td><td>1</td><td>2</td><td>2</td><td>2</td><td>⋯</td><td>2</td><td>2</td><td>2</td><td>2</td><td>2</td><td>2</td><td>2</td><td>2</td><td>2</td><td>NA</td></tr>\n",
       "\t<tr><td>1</td><td>1</td><td>1</td><td>2</td><td>2</td><td>2</td><td>2</td><td>2</td><td>2</td><td>2</td><td>⋯</td><td>2</td><td>2</td><td>2</td><td>2</td><td>2</td><td>2</td><td>2</td><td>2</td><td>2</td><td> 2</td></tr>\n",
       "\t<tr><td>1</td><td>1</td><td>1</td><td>2</td><td>2</td><td>2</td><td>2</td><td>2</td><td>2</td><td>2</td><td>⋯</td><td>2</td><td>2</td><td>2</td><td>2</td><td>2</td><td>2</td><td>2</td><td>2</td><td>2</td><td> 2</td></tr>\n",
       "\t<tr><td>1</td><td>2</td><td>1</td><td>2</td><td>2</td><td>2</td><td>2</td><td>2</td><td>2</td><td>2</td><td>⋯</td><td>2</td><td>2</td><td>2</td><td>2</td><td>2</td><td>2</td><td>2</td><td>2</td><td>2</td><td> 2</td></tr>\n",
       "</tbody>\n",
       "</table>\n"
      ],
      "text/latex": [
       "A tibble: 6 × 22\n",
       "\\begin{tabular}{lllllllllllllllllllll}\n",
       " FEBRE & MIALGIA & CEFALEIA & EXANTEMA & VOMITO & NAUSEA & DOR\\_COSTAS & CONJUNTVIT & ARTRITE & ARTRALGIA & ⋯ & LACO & DOR\\_RETRO & DIABETES & HEMATOLOG & HEPATOPAT & RENAL & HIPERTENSA & ACIDO\\_PEPT & AUTO\\_IMUNE & HOSPITALIZ\\\\\n",
       " <int> & <int> & <int> & <int> & <int> & <int> & <int> & <int> & <int> & <int> & ⋯ & <int> & <int> & <int> & <int> & <int> & <int> & <int> & <int> & <int> & <int>\\\\\n",
       "\\hline\n",
       "\t 1 & 2 & 1 & 2 & 2 & 2 & 1 & 2 & 2 & 2 & ⋯ & 2 & 2 & 2 & 2 & 2 & 2 & 2 & 2 & 2 & NA\\\\\n",
       "\t 1 & 2 & 1 & 2 & 1 & 1 & 1 & 2 & 2 & 2 & ⋯ & 2 & 2 & 2 & 2 & 2 & 2 & 2 & 2 & 2 & NA\\\\\n",
       "\t 1 & 2 & 1 & 2 & 2 & 1 & 1 & 2 & 2 & 2 & ⋯ & 2 & 2 & 2 & 2 & 2 & 2 & 2 & 2 & 2 & NA\\\\\n",
       "\t 1 & 1 & 1 & 2 & 2 & 2 & 2 & 2 & 2 & 2 & ⋯ & 2 & 2 & 2 & 2 & 2 & 2 & 2 & 2 & 2 &  2\\\\\n",
       "\t 1 & 1 & 1 & 2 & 2 & 2 & 2 & 2 & 2 & 2 & ⋯ & 2 & 2 & 2 & 2 & 2 & 2 & 2 & 2 & 2 &  2\\\\\n",
       "\t 1 & 2 & 1 & 2 & 2 & 2 & 2 & 2 & 2 & 2 & ⋯ & 2 & 2 & 2 & 2 & 2 & 2 & 2 & 2 & 2 &  2\\\\\n",
       "\\end{tabular}\n"
      ],
      "text/markdown": [
       "\n",
       "A tibble: 6 × 22\n",
       "\n",
       "| FEBRE &lt;int&gt; | MIALGIA &lt;int&gt; | CEFALEIA &lt;int&gt; | EXANTEMA &lt;int&gt; | VOMITO &lt;int&gt; | NAUSEA &lt;int&gt; | DOR_COSTAS &lt;int&gt; | CONJUNTVIT &lt;int&gt; | ARTRITE &lt;int&gt; | ARTRALGIA &lt;int&gt; | ⋯ ⋯ | LACO &lt;int&gt; | DOR_RETRO &lt;int&gt; | DIABETES &lt;int&gt; | HEMATOLOG &lt;int&gt; | HEPATOPAT &lt;int&gt; | RENAL &lt;int&gt; | HIPERTENSA &lt;int&gt; | ACIDO_PEPT &lt;int&gt; | AUTO_IMUNE &lt;int&gt; | HOSPITALIZ &lt;int&gt; |\n",
       "|---|---|---|---|---|---|---|---|---|---|---|---|---|---|---|---|---|---|---|---|---|\n",
       "| 1 | 2 | 1 | 2 | 2 | 2 | 1 | 2 | 2 | 2 | ⋯ | 2 | 2 | 2 | 2 | 2 | 2 | 2 | 2 | 2 | NA |\n",
       "| 1 | 2 | 1 | 2 | 1 | 1 | 1 | 2 | 2 | 2 | ⋯ | 2 | 2 | 2 | 2 | 2 | 2 | 2 | 2 | 2 | NA |\n",
       "| 1 | 2 | 1 | 2 | 2 | 1 | 1 | 2 | 2 | 2 | ⋯ | 2 | 2 | 2 | 2 | 2 | 2 | 2 | 2 | 2 | NA |\n",
       "| 1 | 1 | 1 | 2 | 2 | 2 | 2 | 2 | 2 | 2 | ⋯ | 2 | 2 | 2 | 2 | 2 | 2 | 2 | 2 | 2 |  2 |\n",
       "| 1 | 1 | 1 | 2 | 2 | 2 | 2 | 2 | 2 | 2 | ⋯ | 2 | 2 | 2 | 2 | 2 | 2 | 2 | 2 | 2 |  2 |\n",
       "| 1 | 2 | 1 | 2 | 2 | 2 | 2 | 2 | 2 | 2 | ⋯ | 2 | 2 | 2 | 2 | 2 | 2 | 2 | 2 | 2 |  2 |\n",
       "\n"
      ],
      "text/plain": [
       "  FEBRE MIALGIA CEFALEIA EXANTEMA VOMITO NAUSEA DOR_COSTAS CONJUNTVIT ARTRITE\n",
       "1 1     2       1        2        2      2      1          2          2      \n",
       "2 1     2       1        2        1      1      1          2          2      \n",
       "3 1     2       1        2        2      1      1          2          2      \n",
       "4 1     1       1        2        2      2      2          2          2      \n",
       "5 1     1       1        2        2      2      2          2          2      \n",
       "6 1     2       1        2        2      2      2          2          2      \n",
       "  ARTRALGIA ⋯ LACO DOR_RETRO DIABETES HEMATOLOG HEPATOPAT RENAL HIPERTENSA\n",
       "1 2         ⋯ 2    2         2        2         2         2     2         \n",
       "2 2         ⋯ 2    2         2        2         2         2     2         \n",
       "3 2         ⋯ 2    2         2        2         2         2     2         \n",
       "4 2         ⋯ 2    2         2        2         2         2     2         \n",
       "5 2         ⋯ 2    2         2        2         2         2     2         \n",
       "6 2         ⋯ 2    2         2        2         2         2     2         \n",
       "  ACIDO_PEPT AUTO_IMUNE HOSPITALIZ\n",
       "1 2          2          NA        \n",
       "2 2          2          NA        \n",
       "3 2          2          NA        \n",
       "4 2          2           2        \n",
       "5 2          2           2        \n",
       "6 2          2           2        "
      ]
     },
     "metadata": {},
     "output_type": "display_data"
    },
    {
     "data": {
      "text/html": [
       "<table class=\"dataframe\">\n",
       "<caption>A tibble: 6 × 22</caption>\n",
       "<thead>\n",
       "\t<tr><th scope=col>FEBRE</th><th scope=col>MIALGIA</th><th scope=col>CEFALEIA</th><th scope=col>EXANTEMA</th><th scope=col>VOMITO</th><th scope=col>NAUSEA</th><th scope=col>DOR_COSTAS</th><th scope=col>CONJUNTVIT</th><th scope=col>ARTRITE</th><th scope=col>ARTRALGIA</th><th scope=col>⋯</th><th scope=col>LACO</th><th scope=col>DOR_RETRO</th><th scope=col>DIABETES</th><th scope=col>HEMATOLOG</th><th scope=col>HEPATOPAT</th><th scope=col>RENAL</th><th scope=col>HIPERTENSA</th><th scope=col>ACIDO_PEPT</th><th scope=col>AUTO_IMUNE</th><th scope=col>HOSPITALIZ</th></tr>\n",
       "\t<tr><th scope=col>&lt;dbl&gt;</th><th scope=col>&lt;dbl&gt;</th><th scope=col>&lt;dbl&gt;</th><th scope=col>&lt;dbl&gt;</th><th scope=col>&lt;dbl&gt;</th><th scope=col>&lt;dbl&gt;</th><th scope=col>&lt;dbl&gt;</th><th scope=col>&lt;dbl&gt;</th><th scope=col>&lt;dbl&gt;</th><th scope=col>&lt;dbl&gt;</th><th scope=col>⋯</th><th scope=col>&lt;dbl&gt;</th><th scope=col>&lt;dbl&gt;</th><th scope=col>&lt;dbl&gt;</th><th scope=col>&lt;dbl&gt;</th><th scope=col>&lt;dbl&gt;</th><th scope=col>&lt;dbl&gt;</th><th scope=col>&lt;dbl&gt;</th><th scope=col>&lt;dbl&gt;</th><th scope=col>&lt;dbl&gt;</th><th scope=col>&lt;dbl&gt;</th></tr>\n",
       "</thead>\n",
       "<tbody>\n",
       "\t<tr><td>1</td><td>0</td><td>1</td><td>0</td><td>0</td><td>0</td><td>1</td><td>0</td><td>0</td><td>0</td><td>⋯</td><td>0</td><td>0</td><td>0</td><td>0</td><td>0</td><td>0</td><td>0</td><td>0</td><td>0</td><td>NA</td></tr>\n",
       "\t<tr><td>1</td><td>0</td><td>1</td><td>0</td><td>1</td><td>1</td><td>1</td><td>0</td><td>0</td><td>0</td><td>⋯</td><td>0</td><td>0</td><td>0</td><td>0</td><td>0</td><td>0</td><td>0</td><td>0</td><td>0</td><td>NA</td></tr>\n",
       "\t<tr><td>1</td><td>0</td><td>1</td><td>0</td><td>0</td><td>1</td><td>1</td><td>0</td><td>0</td><td>0</td><td>⋯</td><td>0</td><td>0</td><td>0</td><td>0</td><td>0</td><td>0</td><td>0</td><td>0</td><td>0</td><td>NA</td></tr>\n",
       "\t<tr><td>1</td><td>1</td><td>1</td><td>0</td><td>0</td><td>0</td><td>0</td><td>0</td><td>0</td><td>0</td><td>⋯</td><td>0</td><td>0</td><td>0</td><td>0</td><td>0</td><td>0</td><td>0</td><td>0</td><td>0</td><td> 0</td></tr>\n",
       "\t<tr><td>1</td><td>1</td><td>1</td><td>0</td><td>0</td><td>0</td><td>0</td><td>0</td><td>0</td><td>0</td><td>⋯</td><td>0</td><td>0</td><td>0</td><td>0</td><td>0</td><td>0</td><td>0</td><td>0</td><td>0</td><td> 0</td></tr>\n",
       "\t<tr><td>1</td><td>0</td><td>1</td><td>0</td><td>0</td><td>0</td><td>0</td><td>0</td><td>0</td><td>0</td><td>⋯</td><td>0</td><td>0</td><td>0</td><td>0</td><td>0</td><td>0</td><td>0</td><td>0</td><td>0</td><td> 0</td></tr>\n",
       "</tbody>\n",
       "</table>\n"
      ],
      "text/latex": [
       "A tibble: 6 × 22\n",
       "\\begin{tabular}{lllllllllllllllllllll}\n",
       " FEBRE & MIALGIA & CEFALEIA & EXANTEMA & VOMITO & NAUSEA & DOR\\_COSTAS & CONJUNTVIT & ARTRITE & ARTRALGIA & ⋯ & LACO & DOR\\_RETRO & DIABETES & HEMATOLOG & HEPATOPAT & RENAL & HIPERTENSA & ACIDO\\_PEPT & AUTO\\_IMUNE & HOSPITALIZ\\\\\n",
       " <dbl> & <dbl> & <dbl> & <dbl> & <dbl> & <dbl> & <dbl> & <dbl> & <dbl> & <dbl> & ⋯ & <dbl> & <dbl> & <dbl> & <dbl> & <dbl> & <dbl> & <dbl> & <dbl> & <dbl> & <dbl>\\\\\n",
       "\\hline\n",
       "\t 1 & 0 & 1 & 0 & 0 & 0 & 1 & 0 & 0 & 0 & ⋯ & 0 & 0 & 0 & 0 & 0 & 0 & 0 & 0 & 0 & NA\\\\\n",
       "\t 1 & 0 & 1 & 0 & 1 & 1 & 1 & 0 & 0 & 0 & ⋯ & 0 & 0 & 0 & 0 & 0 & 0 & 0 & 0 & 0 & NA\\\\\n",
       "\t 1 & 0 & 1 & 0 & 0 & 1 & 1 & 0 & 0 & 0 & ⋯ & 0 & 0 & 0 & 0 & 0 & 0 & 0 & 0 & 0 & NA\\\\\n",
       "\t 1 & 1 & 1 & 0 & 0 & 0 & 0 & 0 & 0 & 0 & ⋯ & 0 & 0 & 0 & 0 & 0 & 0 & 0 & 0 & 0 &  0\\\\\n",
       "\t 1 & 1 & 1 & 0 & 0 & 0 & 0 & 0 & 0 & 0 & ⋯ & 0 & 0 & 0 & 0 & 0 & 0 & 0 & 0 & 0 &  0\\\\\n",
       "\t 1 & 0 & 1 & 0 & 0 & 0 & 0 & 0 & 0 & 0 & ⋯ & 0 & 0 & 0 & 0 & 0 & 0 & 0 & 0 & 0 &  0\\\\\n",
       "\\end{tabular}\n"
      ],
      "text/markdown": [
       "\n",
       "A tibble: 6 × 22\n",
       "\n",
       "| FEBRE &lt;dbl&gt; | MIALGIA &lt;dbl&gt; | CEFALEIA &lt;dbl&gt; | EXANTEMA &lt;dbl&gt; | VOMITO &lt;dbl&gt; | NAUSEA &lt;dbl&gt; | DOR_COSTAS &lt;dbl&gt; | CONJUNTVIT &lt;dbl&gt; | ARTRITE &lt;dbl&gt; | ARTRALGIA &lt;dbl&gt; | ⋯ ⋯ | LACO &lt;dbl&gt; | DOR_RETRO &lt;dbl&gt; | DIABETES &lt;dbl&gt; | HEMATOLOG &lt;dbl&gt; | HEPATOPAT &lt;dbl&gt; | RENAL &lt;dbl&gt; | HIPERTENSA &lt;dbl&gt; | ACIDO_PEPT &lt;dbl&gt; | AUTO_IMUNE &lt;dbl&gt; | HOSPITALIZ &lt;dbl&gt; |\n",
       "|---|---|---|---|---|---|---|---|---|---|---|---|---|---|---|---|---|---|---|---|---|\n",
       "| 1 | 0 | 1 | 0 | 0 | 0 | 1 | 0 | 0 | 0 | ⋯ | 0 | 0 | 0 | 0 | 0 | 0 | 0 | 0 | 0 | NA |\n",
       "| 1 | 0 | 1 | 0 | 1 | 1 | 1 | 0 | 0 | 0 | ⋯ | 0 | 0 | 0 | 0 | 0 | 0 | 0 | 0 | 0 | NA |\n",
       "| 1 | 0 | 1 | 0 | 0 | 1 | 1 | 0 | 0 | 0 | ⋯ | 0 | 0 | 0 | 0 | 0 | 0 | 0 | 0 | 0 | NA |\n",
       "| 1 | 1 | 1 | 0 | 0 | 0 | 0 | 0 | 0 | 0 | ⋯ | 0 | 0 | 0 | 0 | 0 | 0 | 0 | 0 | 0 |  0 |\n",
       "| 1 | 1 | 1 | 0 | 0 | 0 | 0 | 0 | 0 | 0 | ⋯ | 0 | 0 | 0 | 0 | 0 | 0 | 0 | 0 | 0 |  0 |\n",
       "| 1 | 0 | 1 | 0 | 0 | 0 | 0 | 0 | 0 | 0 | ⋯ | 0 | 0 | 0 | 0 | 0 | 0 | 0 | 0 | 0 |  0 |\n",
       "\n"
      ],
      "text/plain": [
       "  FEBRE MIALGIA CEFALEIA EXANTEMA VOMITO NAUSEA DOR_COSTAS CONJUNTVIT ARTRITE\n",
       "1 1     0       1        0        0      0      1          0          0      \n",
       "2 1     0       1        0        1      1      1          0          0      \n",
       "3 1     0       1        0        0      1      1          0          0      \n",
       "4 1     1       1        0        0      0      0          0          0      \n",
       "5 1     1       1        0        0      0      0          0          0      \n",
       "6 1     0       1        0        0      0      0          0          0      \n",
       "  ARTRALGIA ⋯ LACO DOR_RETRO DIABETES HEMATOLOG HEPATOPAT RENAL HIPERTENSA\n",
       "1 0         ⋯ 0    0         0        0         0         0     0         \n",
       "2 0         ⋯ 0    0         0        0         0         0     0         \n",
       "3 0         ⋯ 0    0         0        0         0         0     0         \n",
       "4 0         ⋯ 0    0         0        0         0         0     0         \n",
       "5 0         ⋯ 0    0         0        0         0         0     0         \n",
       "6 0         ⋯ 0    0         0        0         0         0     0         \n",
       "  ACIDO_PEPT AUTO_IMUNE HOSPITALIZ\n",
       "1 0          0          NA        \n",
       "2 0          0          NA        \n",
       "3 0          0          NA        \n",
       "4 0          0           0        \n",
       "5 0          0           0        \n",
       "6 0          0           0        "
      ]
     },
     "metadata": {},
     "output_type": "display_data"
    },
    {
     "data": {
      "text/html": [
       "<table class=\"dataframe\">\n",
       "<caption>A data.frame: 6 × 2</caption>\n",
       "<thead>\n",
       "\t<tr><th scope=col>EVOLUCAO</th><th scope=col>n</th></tr>\n",
       "\t<tr><th scope=col>&lt;dbl&gt;</th><th scope=col>&lt;int&gt;</th></tr>\n",
       "</thead>\n",
       "<tbody>\n",
       "\t<tr><td> 0</td><td>168505</td></tr>\n",
       "\t<tr><td> 1</td><td>    87</td></tr>\n",
       "\t<tr><td> 3</td><td>   221</td></tr>\n",
       "\t<tr><td> 4</td><td>    22</td></tr>\n",
       "\t<tr><td> 9</td><td>  5075</td></tr>\n",
       "\t<tr><td>NA</td><td> 33757</td></tr>\n",
       "</tbody>\n",
       "</table>\n"
      ],
      "text/latex": [
       "A data.frame: 6 × 2\n",
       "\\begin{tabular}{ll}\n",
       " EVOLUCAO & n\\\\\n",
       " <dbl> & <int>\\\\\n",
       "\\hline\n",
       "\t  0 & 168505\\\\\n",
       "\t  1 &     87\\\\\n",
       "\t  3 &    221\\\\\n",
       "\t  4 &     22\\\\\n",
       "\t  9 &   5075\\\\\n",
       "\t NA &  33757\\\\\n",
       "\\end{tabular}\n"
      ],
      "text/markdown": [
       "\n",
       "A data.frame: 6 × 2\n",
       "\n",
       "| EVOLUCAO &lt;dbl&gt; | n &lt;int&gt; |\n",
       "|---|---|\n",
       "|  0 | 168505 |\n",
       "|  1 |     87 |\n",
       "|  3 |    221 |\n",
       "|  4 |     22 |\n",
       "|  9 |   5075 |\n",
       "| NA |  33757 |\n",
       "\n"
      ],
      "text/plain": [
       "  EVOLUCAO n     \n",
       "1  0       168505\n",
       "2  1           87\n",
       "3  3          221\n",
       "4  4           22\n",
       "5  9         5075\n",
       "6 NA        33757"
      ]
     },
     "metadata": {},
     "output_type": "display_data"
    },
    {
     "data": {
      "text/html": [
       "<table class=\"dataframe\">\n",
       "<caption>A data.frame: 4 × 2</caption>\n",
       "<thead>\n",
       "\t<tr><th scope=col>HOSPITALIZ</th><th scope=col>n</th></tr>\n",
       "\t<tr><th scope=col>&lt;dbl&gt;</th><th scope=col>&lt;int&gt;</th></tr>\n",
       "</thead>\n",
       "<tbody>\n",
       "\t<tr><td> 0</td><td>121169</td></tr>\n",
       "\t<tr><td> 1</td><td>  4349</td></tr>\n",
       "\t<tr><td> 9</td><td>  2078</td></tr>\n",
       "\t<tr><td>NA</td><td> 80071</td></tr>\n",
       "</tbody>\n",
       "</table>\n"
      ],
      "text/latex": [
       "A data.frame: 4 × 2\n",
       "\\begin{tabular}{ll}\n",
       " HOSPITALIZ & n\\\\\n",
       " <dbl> & <int>\\\\\n",
       "\\hline\n",
       "\t  0 & 121169\\\\\n",
       "\t  1 &   4349\\\\\n",
       "\t  9 &   2078\\\\\n",
       "\t NA &  80071\\\\\n",
       "\\end{tabular}\n"
      ],
      "text/markdown": [
       "\n",
       "A data.frame: 4 × 2\n",
       "\n",
       "| HOSPITALIZ &lt;dbl&gt; | n &lt;int&gt; |\n",
       "|---|---|\n",
       "|  0 | 121169 |\n",
       "|  1 |   4349 |\n",
       "|  9 |   2078 |\n",
       "| NA |  80071 |\n",
       "\n"
      ],
      "text/plain": [
       "  HOSPITALIZ n     \n",
       "1  0         121169\n",
       "2  1           4349\n",
       "3  9           2078\n",
       "4 NA          80071"
      ]
     },
     "metadata": {},
     "output_type": "display_data"
    },
    {
     "data": {
      "text/html": [
       "<style>\n",
       ".list-inline {list-style: none; margin:0; padding: 0}\n",
       ".list-inline>li {display: inline-block}\n",
       ".list-inline>li:not(:last-child)::after {content: \"\\00b7\"; padding: 0 .5ex}\n",
       "</style>\n",
       "<ol class=list-inline><li>207667</li><li>35</li></ol>\n"
      ],
      "text/latex": [
       "\\begin{enumerate*}\n",
       "\\item 207667\n",
       "\\item 35\n",
       "\\end{enumerate*}\n"
      ],
      "text/markdown": [
       "1. 207667\n",
       "2. 35\n",
       "\n",
       "\n"
      ],
      "text/plain": [
       "[1] 207667     35"
      ]
     },
     "metadata": {},
     "output_type": "display_data"
    }
   ],
   "source": [
    "# the value 2 means the non-occurrence of a symptom, change it to 0\n",
    "\n",
    "data %>% select(FEBRE:AUTO_IMUNE, HOSPITALIZ) -> symptoms\n",
    "data %>% select(!(FEBRE:AUTO_IMUNE)) %>% select(-c(HOSPITALIZ)) -> others\n",
    "\n",
    "symptoms %>% head\n",
    "\n",
    "symptoms <- symptoms %>%\n",
    "  mutate_all(~ ifelse(. == 2, 0, .))\n",
    "\n",
    "symptoms %>% head\n",
    "\n",
    "symptoms %>% cbind(others) -> data\n",
    "\n",
    "data$EVOLUCAO[data$EVOLUCAO == 1] <- 0\n",
    "data$EVOLUCAO[data$EVOLUCAO == 2] <- 1\n",
    "\n",
    "data %>% count(EVOLUCAO)\n",
    "data %>% count(HOSPITALIZ)\n",
    "\n",
    "data %>% dim"
   ]
  },
  {
   "cell_type": "markdown",
   "id": "2e534e55",
   "metadata": {},
   "source": [
    "### Filter 8: keep only patients in the acute stage of the disease"
   ]
  },
  {
   "cell_type": "code",
   "execution_count": 26,
   "id": "47c75d97",
   "metadata": {},
   "outputs": [
    {
     "data": {
      "text/html": [
       "<table class=\"dataframe\">\n",
       "<caption>A data.frame: 6 × 2</caption>\n",
       "<thead>\n",
       "\t<tr><th scope=col>EVOLUCAO</th><th scope=col>n</th></tr>\n",
       "\t<tr><th scope=col>&lt;dbl&gt;</th><th scope=col>&lt;int&gt;</th></tr>\n",
       "</thead>\n",
       "<tbody>\n",
       "\t<tr><td> 0</td><td>133267</td></tr>\n",
       "\t<tr><td> 1</td><td>    84</td></tr>\n",
       "\t<tr><td> 3</td><td>   102</td></tr>\n",
       "\t<tr><td> 4</td><td>    12</td></tr>\n",
       "\t<tr><td> 9</td><td>  2206</td></tr>\n",
       "\t<tr><td>NA</td><td>  3190</td></tr>\n",
       "</tbody>\n",
       "</table>\n"
      ],
      "text/latex": [
       "A data.frame: 6 × 2\n",
       "\\begin{tabular}{ll}\n",
       " EVOLUCAO & n\\\\\n",
       " <dbl> & <int>\\\\\n",
       "\\hline\n",
       "\t  0 & 133267\\\\\n",
       "\t  1 &     84\\\\\n",
       "\t  3 &    102\\\\\n",
       "\t  4 &     12\\\\\n",
       "\t  9 &   2206\\\\\n",
       "\t NA &   3190\\\\\n",
       "\\end{tabular}\n"
      ],
      "text/markdown": [
       "\n",
       "A data.frame: 6 × 2\n",
       "\n",
       "| EVOLUCAO &lt;dbl&gt; | n &lt;int&gt; |\n",
       "|---|---|\n",
       "|  0 | 133267 |\n",
       "|  1 |     84 |\n",
       "|  3 |    102 |\n",
       "|  4 |     12 |\n",
       "|  9 |   2206 |\n",
       "| NA |   3190 |\n",
       "\n"
      ],
      "text/plain": [
       "  EVOLUCAO n     \n",
       "1  0       133267\n",
       "2  1           84\n",
       "3  3          102\n",
       "4  4           12\n",
       "5  9         2206\n",
       "6 NA         3190"
      ]
     },
     "metadata": {},
     "output_type": "display_data"
    },
    {
     "data": {
      "text/html": [
       "<table class=\"dataframe\">\n",
       "<caption>A data.frame: 4 × 2</caption>\n",
       "<thead>\n",
       "\t<tr><th scope=col>HOSPITALIZ</th><th scope=col>n</th></tr>\n",
       "\t<tr><th scope=col>&lt;dbl&gt;</th><th scope=col>&lt;int&gt;</th></tr>\n",
       "</thead>\n",
       "<tbody>\n",
       "\t<tr><td> 0</td><td>92458</td></tr>\n",
       "\t<tr><td> 1</td><td> 2556</td></tr>\n",
       "\t<tr><td> 9</td><td> 1240</td></tr>\n",
       "\t<tr><td>NA</td><td>42607</td></tr>\n",
       "</tbody>\n",
       "</table>\n"
      ],
      "text/latex": [
       "A data.frame: 4 × 2\n",
       "\\begin{tabular}{ll}\n",
       " HOSPITALIZ & n\\\\\n",
       " <dbl> & <int>\\\\\n",
       "\\hline\n",
       "\t  0 & 92458\\\\\n",
       "\t  1 &  2556\\\\\n",
       "\t  9 &  1240\\\\\n",
       "\t NA & 42607\\\\\n",
       "\\end{tabular}\n"
      ],
      "text/markdown": [
       "\n",
       "A data.frame: 4 × 2\n",
       "\n",
       "| HOSPITALIZ &lt;dbl&gt; | n &lt;int&gt; |\n",
       "|---|---|\n",
       "|  0 | 92458 |\n",
       "|  1 |  2556 |\n",
       "|  9 |  1240 |\n",
       "| NA | 42607 |\n",
       "\n"
      ],
      "text/plain": [
       "  HOSPITALIZ n    \n",
       "1  0         92458\n",
       "2  1          2556\n",
       "3  9          1240\n",
       "4 NA         42607"
      ]
     },
     "metadata": {},
     "output_type": "display_data"
    },
    {
     "data": {
      "text/html": [
       "<style>\n",
       ".list-inline {list-style: none; margin:0; padding: 0}\n",
       ".list-inline>li {display: inline-block}\n",
       ".list-inline>li:not(:last-child)::after {content: \"\\00b7\"; padding: 0 .5ex}\n",
       "</style>\n",
       "<ol class=list-inline><li>138861</li><li>34</li></ol>\n"
      ],
      "text/latex": [
       "\\begin{enumerate*}\n",
       "\\item 138861\n",
       "\\item 34\n",
       "\\end{enumerate*}\n"
      ],
      "text/markdown": [
       "1. 138861\n",
       "2. 34\n",
       "\n",
       "\n"
      ],
      "text/plain": [
       "[1] 138861     34"
      ]
     },
     "metadata": {},
     "output_type": "display_data"
    }
   ],
   "source": [
    "# only patients in the acute stage \n",
    "\n",
    "data %>% filter(CLINC_CHIK == 1) -> data\n",
    "data %>% select(-CLINC_CHIK) -> data\n",
    "\n",
    "data %>% count(EVOLUCAO)\n",
    "data %>% count(HOSPITALIZ)\n",
    "\n",
    "data %>% dim"
   ]
  },
  {
   "cell_type": "code",
   "execution_count": 27,
   "id": "3cb388c3",
   "metadata": {},
   "outputs": [
    {
     "data": {
      "text/html": [
       "<table class=\"dataframe\">\n",
       "<caption>A data.frame: 1 × 1</caption>\n",
       "<thead>\n",
       "\t<tr><th scope=col>DT_SIN_PRI</th></tr>\n",
       "\t<tr><th scope=col>&lt;date&gt;</th></tr>\n",
       "</thead>\n",
       "<tbody>\n",
       "\t<tr><td>2022-01-02</td></tr>\n",
       "</tbody>\n",
       "</table>\n"
      ],
      "text/latex": [
       "A data.frame: 1 × 1\n",
       "\\begin{tabular}{l}\n",
       " DT\\_SIN\\_PRI\\\\\n",
       " <date>\\\\\n",
       "\\hline\n",
       "\t 2022-01-02\\\\\n",
       "\\end{tabular}\n"
      ],
      "text/markdown": [
       "\n",
       "A data.frame: 1 × 1\n",
       "\n",
       "| DT_SIN_PRI &lt;date&gt; |\n",
       "|---|\n",
       "| 2022-01-02 |\n",
       "\n"
      ],
      "text/plain": [
       "  DT_SIN_PRI\n",
       "1 2022-01-02"
      ]
     },
     "metadata": {},
     "output_type": "display_data"
    },
    {
     "data": {
      "text/html": [
       "<table class=\"dataframe\">\n",
       "<caption>A data.frame: 1 × 1</caption>\n",
       "<thead>\n",
       "\t<tr><th scope=col>DT_SIN_PRI</th></tr>\n",
       "\t<tr><th scope=col>&lt;date&gt;</th></tr>\n",
       "</thead>\n",
       "<tbody>\n",
       "\t<tr><td>2022-12-31</td></tr>\n",
       "</tbody>\n",
       "</table>\n"
      ],
      "text/latex": [
       "A data.frame: 1 × 1\n",
       "\\begin{tabular}{l}\n",
       " DT\\_SIN\\_PRI\\\\\n",
       " <date>\\\\\n",
       "\\hline\n",
       "\t 2022-12-31\\\\\n",
       "\\end{tabular}\n"
      ],
      "text/markdown": [
       "\n",
       "A data.frame: 1 × 1\n",
       "\n",
       "| DT_SIN_PRI &lt;date&gt; |\n",
       "|---|\n",
       "| 2022-12-31 |\n",
       "\n"
      ],
      "text/plain": [
       "  DT_SIN_PRI\n",
       "1 2022-12-31"
      ]
     },
     "metadata": {},
     "output_type": "display_data"
    },
    {
     "data": {
      "text/html": [
       "<style>\n",
       ".list-inline {list-style: none; margin:0; padding: 0}\n",
       ".list-inline>li {display: inline-block}\n",
       ".list-inline>li:not(:last-child)::after {content: \"\\00b7\"; padding: 0 .5ex}\n",
       "</style>\n",
       "<ol class=list-inline><li>'FEBRE'</li><li>'MIALGIA'</li><li>'CEFALEIA'</li><li>'EXANTEMA'</li><li>'VOMITO'</li><li>'NAUSEA'</li><li>'DOR_COSTAS'</li><li>'CONJUNTVIT'</li><li>'ARTRITE'</li><li>'ARTRALGIA'</li><li>'PETEQUIA_N'</li><li>'LEUCOPENIA'</li><li>'LACO'</li><li>'DOR_RETRO'</li><li>'DIABETES'</li><li>'HEMATOLOG'</li><li>'HEPATOPAT'</li><li>'RENAL'</li><li>'HIPERTENSA'</li><li>'ACIDO_PEPT'</li><li>'AUTO_IMUNE'</li><li>'HOSPITALIZ'</li><li>'SG_UF_NOT'</li><li>'DT_SIN_PRI'</li><li>'SEM_PRI'</li><li>'CS_RACA'</li><li>'CS_ESCOL_N'</li><li>'DT_INTERNA'</li><li>'CLASSI_FIN'</li><li>'EVOLUCAO'</li><li>'DT_OBITO'</li><li>'age'</li><li>'sex'</li><li>'pregnancy'</li></ol>\n"
      ],
      "text/latex": [
       "\\begin{enumerate*}\n",
       "\\item 'FEBRE'\n",
       "\\item 'MIALGIA'\n",
       "\\item 'CEFALEIA'\n",
       "\\item 'EXANTEMA'\n",
       "\\item 'VOMITO'\n",
       "\\item 'NAUSEA'\n",
       "\\item 'DOR\\_COSTAS'\n",
       "\\item 'CONJUNTVIT'\n",
       "\\item 'ARTRITE'\n",
       "\\item 'ARTRALGIA'\n",
       "\\item 'PETEQUIA\\_N'\n",
       "\\item 'LEUCOPENIA'\n",
       "\\item 'LACO'\n",
       "\\item 'DOR\\_RETRO'\n",
       "\\item 'DIABETES'\n",
       "\\item 'HEMATOLOG'\n",
       "\\item 'HEPATOPAT'\n",
       "\\item 'RENAL'\n",
       "\\item 'HIPERTENSA'\n",
       "\\item 'ACIDO\\_PEPT'\n",
       "\\item 'AUTO\\_IMUNE'\n",
       "\\item 'HOSPITALIZ'\n",
       "\\item 'SG\\_UF\\_NOT'\n",
       "\\item 'DT\\_SIN\\_PRI'\n",
       "\\item 'SEM\\_PRI'\n",
       "\\item 'CS\\_RACA'\n",
       "\\item 'CS\\_ESCOL\\_N'\n",
       "\\item 'DT\\_INTERNA'\n",
       "\\item 'CLASSI\\_FIN'\n",
       "\\item 'EVOLUCAO'\n",
       "\\item 'DT\\_OBITO'\n",
       "\\item 'age'\n",
       "\\item 'sex'\n",
       "\\item 'pregnancy'\n",
       "\\end{enumerate*}\n"
      ],
      "text/markdown": [
       "1. 'FEBRE'\n",
       "2. 'MIALGIA'\n",
       "3. 'CEFALEIA'\n",
       "4. 'EXANTEMA'\n",
       "5. 'VOMITO'\n",
       "6. 'NAUSEA'\n",
       "7. 'DOR_COSTAS'\n",
       "8. 'CONJUNTVIT'\n",
       "9. 'ARTRITE'\n",
       "10. 'ARTRALGIA'\n",
       "11. 'PETEQUIA_N'\n",
       "12. 'LEUCOPENIA'\n",
       "13. 'LACO'\n",
       "14. 'DOR_RETRO'\n",
       "15. 'DIABETES'\n",
       "16. 'HEMATOLOG'\n",
       "17. 'HEPATOPAT'\n",
       "18. 'RENAL'\n",
       "19. 'HIPERTENSA'\n",
       "20. 'ACIDO_PEPT'\n",
       "21. 'AUTO_IMUNE'\n",
       "22. 'HOSPITALIZ'\n",
       "23. 'SG_UF_NOT'\n",
       "24. 'DT_SIN_PRI'\n",
       "25. 'SEM_PRI'\n",
       "26. 'CS_RACA'\n",
       "27. 'CS_ESCOL_N'\n",
       "28. 'DT_INTERNA'\n",
       "29. 'CLASSI_FIN'\n",
       "30. 'EVOLUCAO'\n",
       "31. 'DT_OBITO'\n",
       "32. 'age'\n",
       "33. 'sex'\n",
       "34. 'pregnancy'\n",
       "\n",
       "\n"
      ],
      "text/plain": [
       " [1] \"FEBRE\"      \"MIALGIA\"    \"CEFALEIA\"   \"EXANTEMA\"   \"VOMITO\"    \n",
       " [6] \"NAUSEA\"     \"DOR_COSTAS\" \"CONJUNTVIT\" \"ARTRITE\"    \"ARTRALGIA\" \n",
       "[11] \"PETEQUIA_N\" \"LEUCOPENIA\" \"LACO\"       \"DOR_RETRO\"  \"DIABETES\"  \n",
       "[16] \"HEMATOLOG\"  \"HEPATOPAT\"  \"RENAL\"      \"HIPERTENSA\" \"ACIDO_PEPT\"\n",
       "[21] \"AUTO_IMUNE\" \"HOSPITALIZ\" \"SG_UF_NOT\"  \"DT_SIN_PRI\" \"SEM_PRI\"   \n",
       "[26] \"CS_RACA\"    \"CS_ESCOL_N\" \"DT_INTERNA\" \"CLASSI_FIN\" \"EVOLUCAO\"  \n",
       "[31] \"DT_OBITO\"   \"age\"        \"sex\"        \"pregnancy\" "
      ]
     },
     "metadata": {},
     "output_type": "display_data"
    }
   ],
   "source": [
    "# date of the first symptoms \n",
    "\n",
    "# change format\n",
    "\n",
    "data$DT_SIN_PRI <- as.Date(data$DT_SIN_PRI)\n",
    "\n",
    "# first and last date\n",
    "\n",
    "data %>% select(DT_SIN_PRI) %>% arrange(DT_SIN_PRI) %>% slice(1)\n",
    "data %>% select(DT_SIN_PRI) %>% arrange(desc(DT_SIN_PRI)) %>% slice(1)\n",
    "\n",
    "# change date format\n",
    "\n",
    "data %>% mutate(SEM_PRI = SEM_PRI - 202200) -> data\n",
    "\n",
    "data %>% colnames"
   ]
  },
  {
   "cell_type": "code",
   "execution_count": 28,
   "id": "f8f9243a",
   "metadata": {},
   "outputs": [],
   "source": [
    "data %>% select(-CLASSI_FIN) -> data"
   ]
  },
  {
   "cell_type": "code",
   "execution_count": 30,
   "id": "1720de64",
   "metadata": {},
   "outputs": [],
   "source": [
    "colnames(data) <- c(\"fever\", 'myalgia','headache',\n",
    "                  'exanthema', 'vomiting','nausea',\n",
    "                  'back_pain','conjunctivitis', 'arthritis', \n",
    "                  'arthralgia', 'petechiae', 'leukopenia', \n",
    "                  'lasso_prove', 'retro_orbital_pain', 'diabetes', \n",
    "                  'hematological_diseases', 'hepatopathies', 'chronic_kidney_disease', \n",
    "                  'arterial_hypertension', 'acid_peptic_disease', 'autoimmune_diseases',\n",
    "                  'hospitalization','id_state',\n",
    "                  'dt_first_symptoms', 'epidemiological_week', 'race', \n",
    "                  'schooling_years', 'dt_hospitalization',  \n",
    "                  'death', 'dt_death', 'age', \n",
    "                  'sex', 'pregnancy')\n",
    "                  \n",
    "                  "
   ]
  },
  {
   "cell_type": "markdown",
   "id": "af6ac756",
   "metadata": {},
   "source": [
    "### Filter 9: only patients cured or dead with the disease "
   ]
  },
  {
   "cell_type": "markdown",
   "id": "7ec6fc4e",
   "metadata": {},
   "source": [
    "1- cura (cured), \n",
    "2- óbito pelo agravo (death by chikungunya)\n",
    "3- óbito por outras causas (death by other reasons)\n",
    "4- óbito em investigação (death under investigation)\n",
    "9- ignorado (ignored)"
   ]
  },
  {
   "cell_type": "code",
   "execution_count": 31,
   "id": "e46c6edf",
   "metadata": {},
   "outputs": [
    {
     "data": {
      "text/html": [
       "<table class=\"dataframe\">\n",
       "<caption>A data.frame: 6 × 2</caption>\n",
       "<thead>\n",
       "\t<tr><th scope=col>death</th><th scope=col>n</th></tr>\n",
       "\t<tr><th scope=col>&lt;dbl&gt;</th><th scope=col>&lt;int&gt;</th></tr>\n",
       "</thead>\n",
       "<tbody>\n",
       "\t<tr><td> 0</td><td>133267</td></tr>\n",
       "\t<tr><td> 1</td><td>    84</td></tr>\n",
       "\t<tr><td> 3</td><td>   102</td></tr>\n",
       "\t<tr><td> 4</td><td>    12</td></tr>\n",
       "\t<tr><td> 9</td><td>  2206</td></tr>\n",
       "\t<tr><td>NA</td><td>  3190</td></tr>\n",
       "</tbody>\n",
       "</table>\n"
      ],
      "text/latex": [
       "A data.frame: 6 × 2\n",
       "\\begin{tabular}{ll}\n",
       " death & n\\\\\n",
       " <dbl> & <int>\\\\\n",
       "\\hline\n",
       "\t  0 & 133267\\\\\n",
       "\t  1 &     84\\\\\n",
       "\t  3 &    102\\\\\n",
       "\t  4 &     12\\\\\n",
       "\t  9 &   2206\\\\\n",
       "\t NA &   3190\\\\\n",
       "\\end{tabular}\n"
      ],
      "text/markdown": [
       "\n",
       "A data.frame: 6 × 2\n",
       "\n",
       "| death &lt;dbl&gt; | n &lt;int&gt; |\n",
       "|---|---|\n",
       "|  0 | 133267 |\n",
       "|  1 |     84 |\n",
       "|  3 |    102 |\n",
       "|  4 |     12 |\n",
       "|  9 |   2206 |\n",
       "| NA |   3190 |\n",
       "\n"
      ],
      "text/plain": [
       "  death n     \n",
       "1  0    133267\n",
       "2  1        84\n",
       "3  3       102\n",
       "4  4        12\n",
       "5  9      2206\n",
       "6 NA      3190"
      ]
     },
     "metadata": {},
     "output_type": "display_data"
    },
    {
     "data": {
      "text/html": [
       "<style>\n",
       ".list-inline {list-style: none; margin:0; padding: 0}\n",
       ".list-inline>li {display: inline-block}\n",
       ".list-inline>li:not(:last-child)::after {content: \"\\00b7\"; padding: 0 .5ex}\n",
       "</style>\n",
       "<ol class=list-inline><li>133351</li><li>33</li></ol>\n"
      ],
      "text/latex": [
       "\\begin{enumerate*}\n",
       "\\item 133351\n",
       "\\item 33\n",
       "\\end{enumerate*}\n"
      ],
      "text/markdown": [
       "1. 133351\n",
       "2. 33\n",
       "\n",
       "\n"
      ],
      "text/plain": [
       "[1] 133351     33"
      ]
     },
     "metadata": {},
     "output_type": "display_data"
    },
    {
     "data": {
      "text/html": [
       "<table class=\"dataframe\">\n",
       "<caption>A data.frame: 2 × 2</caption>\n",
       "<thead>\n",
       "\t<tr><th scope=col>death</th><th scope=col>n</th></tr>\n",
       "\t<tr><th scope=col>&lt;dbl&gt;</th><th scope=col>&lt;int&gt;</th></tr>\n",
       "</thead>\n",
       "<tbody>\n",
       "\t<tr><td>0</td><td>133267</td></tr>\n",
       "\t<tr><td>1</td><td>    84</td></tr>\n",
       "</tbody>\n",
       "</table>\n"
      ],
      "text/latex": [
       "A data.frame: 2 × 2\n",
       "\\begin{tabular}{ll}\n",
       " death & n\\\\\n",
       " <dbl> & <int>\\\\\n",
       "\\hline\n",
       "\t 0 & 133267\\\\\n",
       "\t 1 &     84\\\\\n",
       "\\end{tabular}\n"
      ],
      "text/markdown": [
       "\n",
       "A data.frame: 2 × 2\n",
       "\n",
       "| death &lt;dbl&gt; | n &lt;int&gt; |\n",
       "|---|---|\n",
       "| 0 | 133267 |\n",
       "| 1 |     84 |\n",
       "\n"
      ],
      "text/plain": [
       "  death n     \n",
       "1 0     133267\n",
       "2 1         84"
      ]
     },
     "metadata": {},
     "output_type": "display_data"
    }
   ],
   "source": [
    "# only cured or death by the disease\n",
    "\n",
    "data %>% count(death)\n",
    "data %>% filter(death == 1 | death == 0) -> data\n",
    "\n",
    "data %>% dim\n",
    "\n",
    "data %>% count(death)"
   ]
  },
  {
   "cell_type": "code",
   "execution_count": 32,
   "id": "55994823",
   "metadata": {},
   "outputs": [
    {
     "data": {
      "text/html": [
       "<table class=\"dataframe\">\n",
       "<caption>A data.frame: 40 × 2</caption>\n",
       "<thead>\n",
       "\t<tr><th scope=col>days</th><th scope=col>n</th></tr>\n",
       "\t<tr><th scope=col>&lt;dbl&gt;</th><th scope=col>&lt;int&gt;</th></tr>\n",
       "</thead>\n",
       "<tbody>\n",
       "\t<tr><td> 0</td><td>     2</td></tr>\n",
       "\t<tr><td> 1</td><td>     3</td></tr>\n",
       "\t<tr><td> 2</td><td>     5</td></tr>\n",
       "\t<tr><td> 3</td><td>     2</td></tr>\n",
       "\t<tr><td> 4</td><td>     1</td></tr>\n",
       "\t<tr><td> 5</td><td>     6</td></tr>\n",
       "\t<tr><td> 6</td><td>     5</td></tr>\n",
       "\t<tr><td> 7</td><td>     4</td></tr>\n",
       "\t<tr><td> 8</td><td>     6</td></tr>\n",
       "\t<tr><td> 9</td><td>     3</td></tr>\n",
       "\t<tr><td>10</td><td>     7</td></tr>\n",
       "\t<tr><td>11</td><td>     3</td></tr>\n",
       "\t<tr><td>12</td><td>     2</td></tr>\n",
       "\t<tr><td>13</td><td>     1</td></tr>\n",
       "\t<tr><td>14</td><td>     2</td></tr>\n",
       "\t<tr><td>15</td><td>     2</td></tr>\n",
       "\t<tr><td>18</td><td>     2</td></tr>\n",
       "\t<tr><td>19</td><td>     3</td></tr>\n",
       "\t<tr><td>20</td><td>     2</td></tr>\n",
       "\t<tr><td>21</td><td>     1</td></tr>\n",
       "\t<tr><td>25</td><td>     1</td></tr>\n",
       "\t<tr><td>26</td><td>     2</td></tr>\n",
       "\t<tr><td>27</td><td>     1</td></tr>\n",
       "\t<tr><td>28</td><td>     1</td></tr>\n",
       "\t<tr><td>31</td><td>     1</td></tr>\n",
       "\t<tr><td>33</td><td>     1</td></tr>\n",
       "\t<tr><td>34</td><td>     1</td></tr>\n",
       "\t<tr><td>35</td><td>     1</td></tr>\n",
       "\t<tr><td>38</td><td>     1</td></tr>\n",
       "\t<tr><td>39</td><td>     1</td></tr>\n",
       "\t<tr><td>40</td><td>     2</td></tr>\n",
       "\t<tr><td>44</td><td>     2</td></tr>\n",
       "\t<tr><td>52</td><td>     1</td></tr>\n",
       "\t<tr><td>56</td><td>     1</td></tr>\n",
       "\t<tr><td>58</td><td>     1</td></tr>\n",
       "\t<tr><td>62</td><td>     1</td></tr>\n",
       "\t<tr><td>66</td><td>     1</td></tr>\n",
       "\t<tr><td>68</td><td>     1</td></tr>\n",
       "\t<tr><td>70</td><td>     1</td></tr>\n",
       "\t<tr><td>NA</td><td>133267</td></tr>\n",
       "</tbody>\n",
       "</table>\n"
      ],
      "text/latex": [
       "A data.frame: 40 × 2\n",
       "\\begin{tabular}{ll}\n",
       " days & n\\\\\n",
       " <dbl> & <int>\\\\\n",
       "\\hline\n",
       "\t  0 &      2\\\\\n",
       "\t  1 &      3\\\\\n",
       "\t  2 &      5\\\\\n",
       "\t  3 &      2\\\\\n",
       "\t  4 &      1\\\\\n",
       "\t  5 &      6\\\\\n",
       "\t  6 &      5\\\\\n",
       "\t  7 &      4\\\\\n",
       "\t  8 &      6\\\\\n",
       "\t  9 &      3\\\\\n",
       "\t 10 &      7\\\\\n",
       "\t 11 &      3\\\\\n",
       "\t 12 &      2\\\\\n",
       "\t 13 &      1\\\\\n",
       "\t 14 &      2\\\\\n",
       "\t 15 &      2\\\\\n",
       "\t 18 &      2\\\\\n",
       "\t 19 &      3\\\\\n",
       "\t 20 &      2\\\\\n",
       "\t 21 &      1\\\\\n",
       "\t 25 &      1\\\\\n",
       "\t 26 &      2\\\\\n",
       "\t 27 &      1\\\\\n",
       "\t 28 &      1\\\\\n",
       "\t 31 &      1\\\\\n",
       "\t 33 &      1\\\\\n",
       "\t 34 &      1\\\\\n",
       "\t 35 &      1\\\\\n",
       "\t 38 &      1\\\\\n",
       "\t 39 &      1\\\\\n",
       "\t 40 &      2\\\\\n",
       "\t 44 &      2\\\\\n",
       "\t 52 &      1\\\\\n",
       "\t 56 &      1\\\\\n",
       "\t 58 &      1\\\\\n",
       "\t 62 &      1\\\\\n",
       "\t 66 &      1\\\\\n",
       "\t 68 &      1\\\\\n",
       "\t 70 &      1\\\\\n",
       "\t NA & 133267\\\\\n",
       "\\end{tabular}\n"
      ],
      "text/markdown": [
       "\n",
       "A data.frame: 40 × 2\n",
       "\n",
       "| days &lt;dbl&gt; | n &lt;int&gt; |\n",
       "|---|---|\n",
       "|  0 |      2 |\n",
       "|  1 |      3 |\n",
       "|  2 |      5 |\n",
       "|  3 |      2 |\n",
       "|  4 |      1 |\n",
       "|  5 |      6 |\n",
       "|  6 |      5 |\n",
       "|  7 |      4 |\n",
       "|  8 |      6 |\n",
       "|  9 |      3 |\n",
       "| 10 |      7 |\n",
       "| 11 |      3 |\n",
       "| 12 |      2 |\n",
       "| 13 |      1 |\n",
       "| 14 |      2 |\n",
       "| 15 |      2 |\n",
       "| 18 |      2 |\n",
       "| 19 |      3 |\n",
       "| 20 |      2 |\n",
       "| 21 |      1 |\n",
       "| 25 |      1 |\n",
       "| 26 |      2 |\n",
       "| 27 |      1 |\n",
       "| 28 |      1 |\n",
       "| 31 |      1 |\n",
       "| 33 |      1 |\n",
       "| 34 |      1 |\n",
       "| 35 |      1 |\n",
       "| 38 |      1 |\n",
       "| 39 |      1 |\n",
       "| 40 |      2 |\n",
       "| 44 |      2 |\n",
       "| 52 |      1 |\n",
       "| 56 |      1 |\n",
       "| 58 |      1 |\n",
       "| 62 |      1 |\n",
       "| 66 |      1 |\n",
       "| 68 |      1 |\n",
       "| 70 |      1 |\n",
       "| NA | 133267 |\n",
       "\n"
      ],
      "text/plain": [
       "   days n     \n",
       "1   0        2\n",
       "2   1        3\n",
       "3   2        5\n",
       "4   3        2\n",
       "5   4        1\n",
       "6   5        6\n",
       "7   6        5\n",
       "8   7        4\n",
       "9   8        6\n",
       "10  9        3\n",
       "11 10        7\n",
       "12 11        3\n",
       "13 12        2\n",
       "14 13        1\n",
       "15 14        2\n",
       "16 15        2\n",
       "17 18        2\n",
       "18 19        3\n",
       "19 20        2\n",
       "20 21        1\n",
       "21 25        1\n",
       "22 26        2\n",
       "23 27        1\n",
       "24 28        1\n",
       "25 31        1\n",
       "26 33        1\n",
       "27 34        1\n",
       "28 35        1\n",
       "29 38        1\n",
       "30 39        1\n",
       "31 40        2\n",
       "32 44        2\n",
       "33 52        1\n",
       "34 56        1\n",
       "35 58        1\n",
       "36 62        1\n",
       "37 66        1\n",
       "38 68        1\n",
       "39 70        1\n",
       "40 NA   133267"
      ]
     },
     "metadata": {},
     "output_type": "display_data"
    }
   ],
   "source": [
    "# create a column with the number of days between the disease investigation and death\n",
    "\n",
    "data$dt_first_symptoms <- as.Date(data$dt_first_symptoms)\n",
    "data$dt_death <- as.Date(data$dt_death)\n",
    "\n",
    "data %>% mutate(days = difftime(dt_death, dt_first_symptoms, units = 'days')) -> data\n",
    "\n",
    "data$days <- as.numeric(data$days)\n",
    "\n",
    "data %>% count(days)"
   ]
  },
  {
   "cell_type": "markdown",
   "id": "34d389a6",
   "metadata": {},
   "source": [
    "### Filter 10: remove patients that died with more than 30 days after first symptoms"
   ]
  },
  {
   "cell_type": "code",
   "execution_count": 33,
   "id": "82471837",
   "metadata": {},
   "outputs": [
    {
     "data": {
      "text/html": [
       "<table class=\"dataframe\">\n",
       "<caption>A data.frame: 2 × 2</caption>\n",
       "<thead>\n",
       "\t<tr><th scope=col>death</th><th scope=col>n</th></tr>\n",
       "\t<tr><th scope=col>&lt;dbl&gt;</th><th scope=col>&lt;int&gt;</th></tr>\n",
       "</thead>\n",
       "<tbody>\n",
       "\t<tr><td>0</td><td>133267</td></tr>\n",
       "\t<tr><td>1</td><td>    67</td></tr>\n",
       "</tbody>\n",
       "</table>\n"
      ],
      "text/latex": [
       "A data.frame: 2 × 2\n",
       "\\begin{tabular}{ll}\n",
       " death & n\\\\\n",
       " <dbl> & <int>\\\\\n",
       "\\hline\n",
       "\t 0 & 133267\\\\\n",
       "\t 1 &     67\\\\\n",
       "\\end{tabular}\n"
      ],
      "text/markdown": [
       "\n",
       "A data.frame: 2 × 2\n",
       "\n",
       "| death &lt;dbl&gt; | n &lt;int&gt; |\n",
       "|---|---|\n",
       "| 0 | 133267 |\n",
       "| 1 |     67 |\n",
       "\n"
      ],
      "text/plain": [
       "  death n     \n",
       "1 0     133267\n",
       "2 1         67"
      ]
     },
     "metadata": {},
     "output_type": "display_data"
    },
    {
     "data": {
      "text/html": [
       "<style>\n",
       ".list-inline {list-style: none; margin:0; padding: 0}\n",
       ".list-inline>li {display: inline-block}\n",
       ".list-inline>li:not(:last-child)::after {content: \"\\00b7\"; padding: 0 .5ex}\n",
       "</style>\n",
       "<ol class=list-inline><li>133334</li><li>34</li></ol>\n"
      ],
      "text/latex": [
       "\\begin{enumerate*}\n",
       "\\item 133334\n",
       "\\item 34\n",
       "\\end{enumerate*}\n"
      ],
      "text/markdown": [
       "1. 133334\n",
       "2. 34\n",
       "\n",
       "\n"
      ],
      "text/plain": [
       "[1] 133334     34"
      ]
     },
     "metadata": {},
     "output_type": "display_data"
    },
    {
     "data": {
      "text/html": [
       "<style>\n",
       ".list-inline {list-style: none; margin:0; padding: 0}\n",
       ".list-inline>li {display: inline-block}\n",
       ".list-inline>li:not(:last-child)::after {content: \"\\00b7\"; padding: 0 .5ex}\n",
       "</style>\n",
       "<ol class=list-inline><li>'fever'</li><li>'myalgia'</li><li>'headache'</li><li>'exanthema'</li><li>'vomiting'</li><li>'nausea'</li><li>'back_pain'</li><li>'conjunctivitis'</li><li>'arthritis'</li><li>'arthralgia'</li><li>'petechiae'</li><li>'leukopenia'</li><li>'lasso_prove'</li><li>'retro_orbital_pain'</li><li>'diabetes'</li><li>'hematological_diseases'</li><li>'hepatopathies'</li><li>'chronic_kidney_disease'</li><li>'arterial_hypertension'</li><li>'acid_peptic_disease'</li><li>'autoimmune_diseases'</li><li>'hospitalization'</li><li>'id_state'</li><li>'dt_first_symptoms'</li><li>'epidemiological_week'</li><li>'race'</li><li>'schooling_years'</li><li>'dt_hospitalization'</li><li>'death'</li><li>'dt_death'</li><li>'age'</li><li>'sex'</li><li>'pregnancy'</li><li>'days'</li></ol>\n"
      ],
      "text/latex": [
       "\\begin{enumerate*}\n",
       "\\item 'fever'\n",
       "\\item 'myalgia'\n",
       "\\item 'headache'\n",
       "\\item 'exanthema'\n",
       "\\item 'vomiting'\n",
       "\\item 'nausea'\n",
       "\\item 'back\\_pain'\n",
       "\\item 'conjunctivitis'\n",
       "\\item 'arthritis'\n",
       "\\item 'arthralgia'\n",
       "\\item 'petechiae'\n",
       "\\item 'leukopenia'\n",
       "\\item 'lasso\\_prove'\n",
       "\\item 'retro\\_orbital\\_pain'\n",
       "\\item 'diabetes'\n",
       "\\item 'hematological\\_diseases'\n",
       "\\item 'hepatopathies'\n",
       "\\item 'chronic\\_kidney\\_disease'\n",
       "\\item 'arterial\\_hypertension'\n",
       "\\item 'acid\\_peptic\\_disease'\n",
       "\\item 'autoimmune\\_diseases'\n",
       "\\item 'hospitalization'\n",
       "\\item 'id\\_state'\n",
       "\\item 'dt\\_first\\_symptoms'\n",
       "\\item 'epidemiological\\_week'\n",
       "\\item 'race'\n",
       "\\item 'schooling\\_years'\n",
       "\\item 'dt\\_hospitalization'\n",
       "\\item 'death'\n",
       "\\item 'dt\\_death'\n",
       "\\item 'age'\n",
       "\\item 'sex'\n",
       "\\item 'pregnancy'\n",
       "\\item 'days'\n",
       "\\end{enumerate*}\n"
      ],
      "text/markdown": [
       "1. 'fever'\n",
       "2. 'myalgia'\n",
       "3. 'headache'\n",
       "4. 'exanthema'\n",
       "5. 'vomiting'\n",
       "6. 'nausea'\n",
       "7. 'back_pain'\n",
       "8. 'conjunctivitis'\n",
       "9. 'arthritis'\n",
       "10. 'arthralgia'\n",
       "11. 'petechiae'\n",
       "12. 'leukopenia'\n",
       "13. 'lasso_prove'\n",
       "14. 'retro_orbital_pain'\n",
       "15. 'diabetes'\n",
       "16. 'hematological_diseases'\n",
       "17. 'hepatopathies'\n",
       "18. 'chronic_kidney_disease'\n",
       "19. 'arterial_hypertension'\n",
       "20. 'acid_peptic_disease'\n",
       "21. 'autoimmune_diseases'\n",
       "22. 'hospitalization'\n",
       "23. 'id_state'\n",
       "24. 'dt_first_symptoms'\n",
       "25. 'epidemiological_week'\n",
       "26. 'race'\n",
       "27. 'schooling_years'\n",
       "28. 'dt_hospitalization'\n",
       "29. 'death'\n",
       "30. 'dt_death'\n",
       "31. 'age'\n",
       "32. 'sex'\n",
       "33. 'pregnancy'\n",
       "34. 'days'\n",
       "\n",
       "\n"
      ],
      "text/plain": [
       " [1] \"fever\"                  \"myalgia\"                \"headache\"              \n",
       " [4] \"exanthema\"              \"vomiting\"               \"nausea\"                \n",
       " [7] \"back_pain\"              \"conjunctivitis\"         \"arthritis\"             \n",
       "[10] \"arthralgia\"             \"petechiae\"              \"leukopenia\"            \n",
       "[13] \"lasso_prove\"            \"retro_orbital_pain\"     \"diabetes\"              \n",
       "[16] \"hematological_diseases\" \"hepatopathies\"          \"chronic_kidney_disease\"\n",
       "[19] \"arterial_hypertension\"  \"acid_peptic_disease\"    \"autoimmune_diseases\"   \n",
       "[22] \"hospitalization\"        \"id_state\"               \"dt_first_symptoms\"     \n",
       "[25] \"epidemiological_week\"   \"race\"                   \"schooling_years\"       \n",
       "[28] \"dt_hospitalization\"     \"death\"                  \"dt_death\"              \n",
       "[31] \"age\"                    \"sex\"                    \"pregnancy\"             \n",
       "[34] \"days\"                  "
      ]
     },
     "metadata": {},
     "output_type": "display_data"
    }
   ],
   "source": [
    "# remove patients that died after 30 days of the first sympthoms\n",
    "\n",
    "data %>% filter(days < 31| is.na(days)) -> data\n",
    "\n",
    "data %>% count(death)\n",
    "data %>% dim\n",
    "data %>% colnames"
   ]
  },
  {
   "cell_type": "markdown",
   "id": "ef14e268",
   "metadata": {},
   "source": [
    "### Delete columns: not relevant for this dataset"
   ]
  },
  {
   "cell_type": "code",
   "execution_count": 34,
   "id": "54e18c89",
   "metadata": {},
   "outputs": [
    {
     "data": {
      "text/html": [
       "<style>\n",
       ".list-inline {list-style: none; margin:0; padding: 0}\n",
       ".list-inline>li {display: inline-block}\n",
       ".list-inline>li:not(:last-child)::after {content: \"\\00b7\"; padding: 0 .5ex}\n",
       "</style>\n",
       "<ol class=list-inline><li>133334</li><li>29</li></ol>\n"
      ],
      "text/latex": [
       "\\begin{enumerate*}\n",
       "\\item 133334\n",
       "\\item 29\n",
       "\\end{enumerate*}\n"
      ],
      "text/markdown": [
       "1. 133334\n",
       "2. 29\n",
       "\n",
       "\n"
      ],
      "text/plain": [
       "[1] 133334     29"
      ]
     },
     "metadata": {},
     "output_type": "display_data"
    },
    {
     "data": {
      "text/html": [
       "<style>\n",
       ".dl-inline {width: auto; margin:0; padding: 0}\n",
       ".dl-inline>dt, .dl-inline>dd {float: none; width: auto; display: inline-block}\n",
       ".dl-inline>dt::after {content: \":\\0020\"; padding-right: .5ex}\n",
       ".dl-inline>dt:not(:first-of-type) {padding-left: .5ex}\n",
       "</style><dl class=dl-inline><dt>fever</dt><dd>114550</dd><dt>myalgia</dt><dd>97616</dd><dt>headache</dt><dd>98255</dd><dt>exanthema</dt><dd>31015</dd><dt>vomiting</dt><dd>21492</dd><dt>nausea</dt><dd>40945</dd><dt>back_pain</dt><dd>48426</dd><dt>conjunctivitis</dt><dd>6407</dd><dt>arthritis</dt><dd>35177</dd><dt>arthralgia</dt><dd>84034</dd><dt>petechiae</dt><dd>17687</dd><dt>leukopenia</dt><dd>2388</dd><dt>lasso_prove</dt><dd>2172</dd><dt>retro_orbital_pain</dt><dd>24007</dd><dt>diabetes</dt><dd>6183</dd><dt>hematological_diseases</dt><dd>639</dd><dt>hepatopathies</dt><dd>697</dd><dt>chronic_kidney_disease</dt><dd>583</dd><dt>arterial_hypertension</dt><dd>13940</dd><dt>acid_peptic_disease</dt><dd>779</dd><dt>autoimmune_diseases</dt><dd>784</dd><dt>id_state</dt><dd>3398526</dd><dt>epidemiological_week</dt><dd>2676846</dd><dt>race</dt><dd>470323</dd><dt>schooling_years</dt><dd>636234</dd><dt>death</dt><dd>67</dd><dt>age</dt><dd>5567655</dd><dt>sex</dt><dd>83301</dd><dt>pregnancy</dt><dd>2279</dd></dl>\n"
      ],
      "text/latex": [
       "\\begin{description*}\n",
       "\\item[fever] 114550\n",
       "\\item[myalgia] 97616\n",
       "\\item[headache] 98255\n",
       "\\item[exanthema] 31015\n",
       "\\item[vomiting] 21492\n",
       "\\item[nausea] 40945\n",
       "\\item[back\\textbackslash{}\\_pain] 48426\n",
       "\\item[conjunctivitis] 6407\n",
       "\\item[arthritis] 35177\n",
       "\\item[arthralgia] 84034\n",
       "\\item[petechiae] 17687\n",
       "\\item[leukopenia] 2388\n",
       "\\item[lasso\\textbackslash{}\\_prove] 2172\n",
       "\\item[retro\\textbackslash{}\\_orbital\\textbackslash{}\\_pain] 24007\n",
       "\\item[diabetes] 6183\n",
       "\\item[hematological\\textbackslash{}\\_diseases] 639\n",
       "\\item[hepatopathies] 697\n",
       "\\item[chronic\\textbackslash{}\\_kidney\\textbackslash{}\\_disease] 583\n",
       "\\item[arterial\\textbackslash{}\\_hypertension] 13940\n",
       "\\item[acid\\textbackslash{}\\_peptic\\textbackslash{}\\_disease] 779\n",
       "\\item[autoimmune\\textbackslash{}\\_diseases] 784\n",
       "\\item[id\\textbackslash{}\\_state] 3398526\n",
       "\\item[epidemiological\\textbackslash{}\\_week] 2676846\n",
       "\\item[race] 470323\n",
       "\\item[schooling\\textbackslash{}\\_years] 636234\n",
       "\\item[death] 67\n",
       "\\item[age] 5567655\n",
       "\\item[sex] 83301\n",
       "\\item[pregnancy] 2279\n",
       "\\end{description*}\n"
      ],
      "text/markdown": [
       "fever\n",
       ":   114550myalgia\n",
       ":   97616headache\n",
       ":   98255exanthema\n",
       ":   31015vomiting\n",
       ":   21492nausea\n",
       ":   40945back_pain\n",
       ":   48426conjunctivitis\n",
       ":   6407arthritis\n",
       ":   35177arthralgia\n",
       ":   84034petechiae\n",
       ":   17687leukopenia\n",
       ":   2388lasso_prove\n",
       ":   2172retro_orbital_pain\n",
       ":   24007diabetes\n",
       ":   6183hematological_diseases\n",
       ":   639hepatopathies\n",
       ":   697chronic_kidney_disease\n",
       ":   583arterial_hypertension\n",
       ":   13940acid_peptic_disease\n",
       ":   779autoimmune_diseases\n",
       ":   784id_state\n",
       ":   3398526epidemiological_week\n",
       ":   2676846race\n",
       ":   470323schooling_years\n",
       ":   636234death\n",
       ":   67age\n",
       ":   5567655sex\n",
       ":   83301pregnancy\n",
       ":   2279\n",
       "\n"
      ],
      "text/plain": [
       "                 fever                myalgia               headache \n",
       "                114550                  97616                  98255 \n",
       "             exanthema               vomiting                 nausea \n",
       "                 31015                  21492                  40945 \n",
       "             back_pain         conjunctivitis              arthritis \n",
       "                 48426                   6407                  35177 \n",
       "            arthralgia              petechiae             leukopenia \n",
       "                 84034                  17687                   2388 \n",
       "           lasso_prove     retro_orbital_pain               diabetes \n",
       "                  2172                  24007                   6183 \n",
       "hematological_diseases          hepatopathies chronic_kidney_disease \n",
       "                   639                    697                    583 \n",
       " arterial_hypertension    acid_peptic_disease    autoimmune_diseases \n",
       "                 13940                    779                    784 \n",
       "              id_state   epidemiological_week                   race \n",
       "               3398526                2676846                 470323 \n",
       "       schooling_years                  death                    age \n",
       "                636234                     67                5567655 \n",
       "                   sex              pregnancy \n",
       "                 83301                   2279 "
      ]
     },
     "metadata": {},
     "output_type": "display_data"
    }
   ],
   "source": [
    "data %>% select(-c(dt_first_symptoms, hospitalization, dt_hospitalization, dt_death, days)) -> data\n",
    "data %>% dim\n",
    "\n",
    "# check how many patients present a each symptoms \n",
    "\n",
    "colSums(data)"
   ]
  },
  {
   "cell_type": "code",
   "execution_count": 35,
   "id": "07486b90",
   "metadata": {},
   "outputs": [
    {
     "data": {
      "text/html": [
       "<style>\n",
       ".dl-inline {width: auto; margin:0; padding: 0}\n",
       ".dl-inline>dt, .dl-inline>dd {float: none; width: auto; display: inline-block}\n",
       ".dl-inline>dt::after {content: \":\\0020\"; padding-right: .5ex}\n",
       ".dl-inline>dt:not(:first-of-type) {padding-left: .5ex}\n",
       "</style><dl class=dl-inline><dt>fever</dt><dd>57</dd><dt>myalgia</dt><dd>47</dd><dt>headache</dt><dd>38</dd><dt>exanthema</dt><dd>12</dd><dt>vomiting</dt><dd>25</dd><dt>nausea</dt><dd>23</dd><dt>back_pain</dt><dd>12</dd><dt>conjunctivitis</dt><dd>2</dd><dt>arthritis</dt><dd>20</dd><dt>arthralgia</dt><dd>44</dd><dt>petechiae</dt><dd>3</dd><dt>leukopenia</dt><dd>4</dd><dt>lasso_prove</dt><dd>0</dd><dt>retro_orbital_pain</dt><dd>8</dd><dt>diabetes</dt><dd>13</dd><dt>hematological_diseases</dt><dd>2</dd><dt>hepatopathies</dt><dd>1</dd><dt>chronic_kidney_disease</dt><dd>4</dd><dt>arterial_hypertension</dt><dd>29</dd><dt>acid_peptic_disease</dt><dd>0</dd><dt>autoimmune_diseases</dt><dd>0</dd><dt>id_state</dt><dd>1754</dd><dt>epidemiological_week</dt><dd>1302</dd><dt>race</dt><dd>218</dd><dt>schooling_years</dt><dd>260</dd><dt>death</dt><dd>67</dd><dt>age</dt><dd>3944</dd><dt>sex</dt><dd>36</dd><dt>pregnancy</dt><dd>1</dd></dl>\n"
      ],
      "text/latex": [
       "\\begin{description*}\n",
       "\\item[fever] 57\n",
       "\\item[myalgia] 47\n",
       "\\item[headache] 38\n",
       "\\item[exanthema] 12\n",
       "\\item[vomiting] 25\n",
       "\\item[nausea] 23\n",
       "\\item[back\\textbackslash{}\\_pain] 12\n",
       "\\item[conjunctivitis] 2\n",
       "\\item[arthritis] 20\n",
       "\\item[arthralgia] 44\n",
       "\\item[petechiae] 3\n",
       "\\item[leukopenia] 4\n",
       "\\item[lasso\\textbackslash{}\\_prove] 0\n",
       "\\item[retro\\textbackslash{}\\_orbital\\textbackslash{}\\_pain] 8\n",
       "\\item[diabetes] 13\n",
       "\\item[hematological\\textbackslash{}\\_diseases] 2\n",
       "\\item[hepatopathies] 1\n",
       "\\item[chronic\\textbackslash{}\\_kidney\\textbackslash{}\\_disease] 4\n",
       "\\item[arterial\\textbackslash{}\\_hypertension] 29\n",
       "\\item[acid\\textbackslash{}\\_peptic\\textbackslash{}\\_disease] 0\n",
       "\\item[autoimmune\\textbackslash{}\\_diseases] 0\n",
       "\\item[id\\textbackslash{}\\_state] 1754\n",
       "\\item[epidemiological\\textbackslash{}\\_week] 1302\n",
       "\\item[race] 218\n",
       "\\item[schooling\\textbackslash{}\\_years] 260\n",
       "\\item[death] 67\n",
       "\\item[age] 3944\n",
       "\\item[sex] 36\n",
       "\\item[pregnancy] 1\n",
       "\\end{description*}\n"
      ],
      "text/markdown": [
       "fever\n",
       ":   57myalgia\n",
       ":   47headache\n",
       ":   38exanthema\n",
       ":   12vomiting\n",
       ":   25nausea\n",
       ":   23back_pain\n",
       ":   12conjunctivitis\n",
       ":   2arthritis\n",
       ":   20arthralgia\n",
       ":   44petechiae\n",
       ":   3leukopenia\n",
       ":   4lasso_prove\n",
       ":   0retro_orbital_pain\n",
       ":   8diabetes\n",
       ":   13hematological_diseases\n",
       ":   2hepatopathies\n",
       ":   1chronic_kidney_disease\n",
       ":   4arterial_hypertension\n",
       ":   29acid_peptic_disease\n",
       ":   0autoimmune_diseases\n",
       ":   0id_state\n",
       ":   1754epidemiological_week\n",
       ":   1302race\n",
       ":   218schooling_years\n",
       ":   260death\n",
       ":   67age\n",
       ":   3944sex\n",
       ":   36pregnancy\n",
       ":   1\n",
       "\n"
      ],
      "text/plain": [
       "                 fever                myalgia               headache \n",
       "                    57                     47                     38 \n",
       "             exanthema               vomiting                 nausea \n",
       "                    12                     25                     23 \n",
       "             back_pain         conjunctivitis              arthritis \n",
       "                    12                      2                     20 \n",
       "            arthralgia              petechiae             leukopenia \n",
       "                    44                      3                      4 \n",
       "           lasso_prove     retro_orbital_pain               diabetes \n",
       "                     0                      8                     13 \n",
       "hematological_diseases          hepatopathies chronic_kidney_disease \n",
       "                     2                      1                      4 \n",
       " arterial_hypertension    acid_peptic_disease    autoimmune_diseases \n",
       "                    29                      0                      0 \n",
       "              id_state   epidemiological_week                   race \n",
       "                  1754                   1302                    218 \n",
       "       schooling_years                  death                    age \n",
       "                   260                     67                   3944 \n",
       "                   sex              pregnancy \n",
       "                    36                      1 "
      ]
     },
     "metadata": {},
     "output_type": "display_data"
    }
   ],
   "source": [
    "# check symptoms presence in death cases\n",
    "\n",
    "data %>% filter(death == 1) -> death\n",
    "death %>% colSums"
   ]
  },
  {
   "cell_type": "markdown",
   "id": "bbce4f70",
   "metadata": {},
   "source": [
    "### Delete columns: remove symptoms present in less 10% of the hospitalized patients"
   ]
  },
  {
   "cell_type": "code",
   "execution_count": 36,
   "id": "433a4556",
   "metadata": {},
   "outputs": [
    {
     "data": {
      "text/html": [
       "<style>\n",
       ".list-inline {list-style: none; margin:0; padding: 0}\n",
       ".list-inline>li {display: inline-block}\n",
       ".list-inline>li:not(:last-child)::after {content: \"\\00b7\"; padding: 0 .5ex}\n",
       "</style>\n",
       "<ol class=list-inline><li>'fever'</li><li>'myalgia'</li><li>'headache'</li><li>'exanthema'</li><li>'vomiting'</li><li>'nausea'</li><li>'back_pain'</li><li>'arthritis'</li><li>'arthralgia'</li><li>'retro_orbital_pain'</li><li>'diabetes'</li><li>'arterial_hypertension'</li><li>'id_state'</li><li>'epidemiological_week'</li><li>'race'</li><li>'schooling_years'</li><li>'death'</li><li>'age'</li><li>'sex'</li></ol>\n"
      ],
      "text/latex": [
       "\\begin{enumerate*}\n",
       "\\item 'fever'\n",
       "\\item 'myalgia'\n",
       "\\item 'headache'\n",
       "\\item 'exanthema'\n",
       "\\item 'vomiting'\n",
       "\\item 'nausea'\n",
       "\\item 'back\\_pain'\n",
       "\\item 'arthritis'\n",
       "\\item 'arthralgia'\n",
       "\\item 'retro\\_orbital\\_pain'\n",
       "\\item 'diabetes'\n",
       "\\item 'arterial\\_hypertension'\n",
       "\\item 'id\\_state'\n",
       "\\item 'epidemiological\\_week'\n",
       "\\item 'race'\n",
       "\\item 'schooling\\_years'\n",
       "\\item 'death'\n",
       "\\item 'age'\n",
       "\\item 'sex'\n",
       "\\end{enumerate*}\n"
      ],
      "text/markdown": [
       "1. 'fever'\n",
       "2. 'myalgia'\n",
       "3. 'headache'\n",
       "4. 'exanthema'\n",
       "5. 'vomiting'\n",
       "6. 'nausea'\n",
       "7. 'back_pain'\n",
       "8. 'arthritis'\n",
       "9. 'arthralgia'\n",
       "10. 'retro_orbital_pain'\n",
       "11. 'diabetes'\n",
       "12. 'arterial_hypertension'\n",
       "13. 'id_state'\n",
       "14. 'epidemiological_week'\n",
       "15. 'race'\n",
       "16. 'schooling_years'\n",
       "17. 'death'\n",
       "18. 'age'\n",
       "19. 'sex'\n",
       "\n",
       "\n"
      ],
      "text/plain": [
       " [1] \"fever\"                 \"myalgia\"               \"headache\"             \n",
       " [4] \"exanthema\"             \"vomiting\"              \"nausea\"               \n",
       " [7] \"back_pain\"             \"arthritis\"             \"arthralgia\"           \n",
       "[10] \"retro_orbital_pain\"    \"diabetes\"              \"arterial_hypertension\"\n",
       "[13] \"id_state\"              \"epidemiological_week\"  \"race\"                 \n",
       "[16] \"schooling_years\"       \"death\"                 \"age\"                  \n",
       "[19] \"sex\"                  "
      ]
     },
     "metadata": {},
     "output_type": "display_data"
    },
    {
     "data": {
      "text/html": [
       "<style>\n",
       ".list-inline {list-style: none; margin:0; padding: 0}\n",
       ".list-inline>li {display: inline-block}\n",
       ".list-inline>li:not(:last-child)::after {content: \"\\00b7\"; padding: 0 .5ex}\n",
       "</style>\n",
       "<ol class=list-inline><li>'fever'</li><li>'myalgia'</li><li>'headache'</li><li>'exanthema'</li><li>'vomiting'</li><li>'nausea'</li><li>'back_pain'</li><li>'arthritis'</li><li>'arthralgia'</li><li>'retro_orbital_pain'</li><li>'diabetes'</li><li>'arterial_hypertension'</li><li>'id_state'</li><li>'epidemiological_week'</li><li>'race'</li><li>'schooling_years'</li><li>'death'</li><li>'age'</li><li>'sex'</li></ol>\n"
      ],
      "text/latex": [
       "\\begin{enumerate*}\n",
       "\\item 'fever'\n",
       "\\item 'myalgia'\n",
       "\\item 'headache'\n",
       "\\item 'exanthema'\n",
       "\\item 'vomiting'\n",
       "\\item 'nausea'\n",
       "\\item 'back\\_pain'\n",
       "\\item 'arthritis'\n",
       "\\item 'arthralgia'\n",
       "\\item 'retro\\_orbital\\_pain'\n",
       "\\item 'diabetes'\n",
       "\\item 'arterial\\_hypertension'\n",
       "\\item 'id\\_state'\n",
       "\\item 'epidemiological\\_week'\n",
       "\\item 'race'\n",
       "\\item 'schooling\\_years'\n",
       "\\item 'death'\n",
       "\\item 'age'\n",
       "\\item 'sex'\n",
       "\\end{enumerate*}\n"
      ],
      "text/markdown": [
       "1. 'fever'\n",
       "2. 'myalgia'\n",
       "3. 'headache'\n",
       "4. 'exanthema'\n",
       "5. 'vomiting'\n",
       "6. 'nausea'\n",
       "7. 'back_pain'\n",
       "8. 'arthritis'\n",
       "9. 'arthralgia'\n",
       "10. 'retro_orbital_pain'\n",
       "11. 'diabetes'\n",
       "12. 'arterial_hypertension'\n",
       "13. 'id_state'\n",
       "14. 'epidemiological_week'\n",
       "15. 'race'\n",
       "16. 'schooling_years'\n",
       "17. 'death'\n",
       "18. 'age'\n",
       "19. 'sex'\n",
       "\n",
       "\n"
      ],
      "text/plain": [
       " [1] \"fever\"                 \"myalgia\"               \"headache\"             \n",
       " [4] \"exanthema\"             \"vomiting\"              \"nausea\"               \n",
       " [7] \"back_pain\"             \"arthritis\"             \"arthralgia\"           \n",
       "[10] \"retro_orbital_pain\"    \"diabetes\"              \"arterial_hypertension\"\n",
       "[13] \"id_state\"              \"epidemiological_week\"  \"race\"                 \n",
       "[16] \"schooling_years\"       \"death\"                 \"age\"                  \n",
       "[19] \"sex\"                  "
      ]
     },
     "metadata": {},
     "output_type": "display_data"
    },
    {
     "data": {
      "text/html": [
       "<style>\n",
       ".list-inline {list-style: none; margin:0; padding: 0}\n",
       ".list-inline>li {display: inline-block}\n",
       ".list-inline>li:not(:last-child)::after {content: \"\\00b7\"; padding: 0 .5ex}\n",
       "</style>\n",
       "<ol class=list-inline><li>133334</li><li>19</li></ol>\n"
      ],
      "text/latex": [
       "\\begin{enumerate*}\n",
       "\\item 133334\n",
       "\\item 19\n",
       "\\end{enumerate*}\n"
      ],
      "text/markdown": [
       "1. 133334\n",
       "2. 19\n",
       "\n",
       "\n"
      ],
      "text/plain": [
       "[1] 133334     19"
      ]
     },
     "metadata": {},
     "output_type": "display_data"
    },
    {
     "data": {
      "text/html": [
       "<table class=\"dataframe\">\n",
       "<caption>A data.frame: 2 × 2</caption>\n",
       "<thead>\n",
       "\t<tr><th scope=col>death</th><th scope=col>n</th></tr>\n",
       "\t<tr><th scope=col>&lt;dbl&gt;</th><th scope=col>&lt;int&gt;</th></tr>\n",
       "</thead>\n",
       "<tbody>\n",
       "\t<tr><td>0</td><td>133267</td></tr>\n",
       "\t<tr><td>1</td><td>    67</td></tr>\n",
       "</tbody>\n",
       "</table>\n"
      ],
      "text/latex": [
       "A data.frame: 2 × 2\n",
       "\\begin{tabular}{ll}\n",
       " death & n\\\\\n",
       " <dbl> & <int>\\\\\n",
       "\\hline\n",
       "\t 0 & 133267\\\\\n",
       "\t 1 &     67\\\\\n",
       "\\end{tabular}\n"
      ],
      "text/markdown": [
       "\n",
       "A data.frame: 2 × 2\n",
       "\n",
       "| death &lt;dbl&gt; | n &lt;int&gt; |\n",
       "|---|---|\n",
       "| 0 | 133267 |\n",
       "| 1 |     67 |\n",
       "\n"
      ],
      "text/plain": [
       "  death n     \n",
       "1 0     133267\n",
       "2 1         67"
      ]
     },
     "metadata": {},
     "output_type": "display_data"
    }
   ],
   "source": [
    "selected_cols <- colnames(death)[colSums(death) > 6]\n",
    "\n",
    "selected_cols\n",
    "\n",
    "data <- data[, selected_cols]\n",
    "\n",
    "data %>% colnames\n",
    "\n",
    "data %>% dim\n",
    "\n",
    "data %>% count(death)"
   ]
  },
  {
   "cell_type": "code",
   "execution_count": 37,
   "id": "3f38d36b",
   "metadata": {},
   "outputs": [],
   "source": [
    "# change data order\n",
    "\n",
    "data %>% select(fever:schooling_years, age, sex, death) -> data\n",
    "\n",
    "# write the dataset\n",
    "\n",
    "data %>% write_csv('chikungunya_death_dataset_2022.csv')"
   ]
  }
 ],
 "metadata": {
  "kernelspec": {
   "display_name": "R",
   "language": "R",
   "name": "ir"
  },
  "language_info": {
   "codemirror_mode": "r",
   "file_extension": ".r",
   "mimetype": "text/x-r-source",
   "name": "R",
   "pygments_lexer": "r",
   "version": "4.2.2"
  }
 },
 "nbformat": 4,
 "nbformat_minor": 5
}
