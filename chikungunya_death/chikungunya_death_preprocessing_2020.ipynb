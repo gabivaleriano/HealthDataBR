{
 "cells": [
  {
   "cell_type": "markdown",
   "id": "3a3c2ff2",
   "metadata": {},
   "source": [
    "This notebook contains code the steps performed for data inspection and filtering, with the goal of creating aclassification datasets suitable for machine learning predictive tasks. Specifically, we replicate the steps used for the 2022 database, with filters numbers following it. This enables us to use the resulting datasets as avalidation set for models trained with data from the main dataset (2022). For comprehensive details about these datasets, including information about data collection methods, sources, and a dictionary of variables, please refer to the project repository on GitHub: https://github.com/gabivaleriano/HealthDataBR"
   ]
  },
  {
   "cell_type": "code",
   "execution_count": 1,
   "id": "a0349904",
   "metadata": {},
   "outputs": [
    {
     "name": "stderr",
     "output_type": "stream",
     "text": [
      "── \u001b[1mAttaching core tidyverse packages\u001b[22m ──────────────────────── tidyverse 2.0.0 ──\n",
      "\u001b[32m✔\u001b[39m \u001b[34mdplyr    \u001b[39m 1.1.2     \u001b[32m✔\u001b[39m \u001b[34mreadr    \u001b[39m 2.1.4\n",
      "\u001b[32m✔\u001b[39m \u001b[34mforcats  \u001b[39m 1.0.0     \u001b[32m✔\u001b[39m \u001b[34mstringr  \u001b[39m 1.5.0\n",
      "\u001b[32m✔\u001b[39m \u001b[34mggplot2  \u001b[39m 3.4.2     \u001b[32m✔\u001b[39m \u001b[34mtibble   \u001b[39m 3.2.1\n",
      "\u001b[32m✔\u001b[39m \u001b[34mlubridate\u001b[39m 1.9.2     \u001b[32m✔\u001b[39m \u001b[34mtidyr    \u001b[39m 1.3.0\n",
      "\u001b[32m✔\u001b[39m \u001b[34mpurrr    \u001b[39m 1.0.1     \n",
      "── \u001b[1mConflicts\u001b[22m ────────────────────────────────────────── tidyverse_conflicts() ──\n",
      "\u001b[31m✖\u001b[39m \u001b[34mdplyr\u001b[39m::\u001b[32mfilter()\u001b[39m masks \u001b[34mstats\u001b[39m::filter()\n",
      "\u001b[31m✖\u001b[39m \u001b[34mdplyr\u001b[39m::\u001b[32mlag()\u001b[39m    masks \u001b[34mstats\u001b[39m::lag()\n",
      "\u001b[36mℹ\u001b[39m Use the conflicted package (\u001b[3m\u001b[34m<http://conflicted.r-lib.org/>\u001b[39m\u001b[23m) to force all conflicts to become errors\n"
     ]
    }
   ],
   "source": [
    "library(tidyverse)"
   ]
  },
  {
   "cell_type": "code",
   "execution_count": 2,
   "id": "15098e2c",
   "metadata": {},
   "outputs": [],
   "source": [
    "data <- read.csv(\"CHIKBR20.csv\")"
   ]
  },
  {
   "cell_type": "markdown",
   "id": "cefb8643",
   "metadata": {},
   "source": [
    "### Filter 1: remove duplicates"
   ]
  },
  {
   "cell_type": "code",
   "execution_count": 3,
   "id": "59c385a6",
   "metadata": {},
   "outputs": [
    {
     "data": {
      "text/html": [
       "<style>\n",
       ".list-inline {list-style: none; margin:0; padding: 0}\n",
       ".list-inline>li {display: inline-block}\n",
       ".list-inline>li:not(:last-child)::after {content: \"\\00b7\"; padding: 0 .5ex}\n",
       "</style>\n",
       "<ol class=list-inline><li>102496</li><li>116</li></ol>\n"
      ],
      "text/latex": [
       "\\begin{enumerate*}\n",
       "\\item 102496\n",
       "\\item 116\n",
       "\\end{enumerate*}\n"
      ],
      "text/markdown": [
       "1. 102496\n",
       "2. 116\n",
       "\n",
       "\n"
      ],
      "text/plain": [
       "[1] 102496    116"
      ]
     },
     "metadata": {},
     "output_type": "display_data"
    },
    {
     "data": {
      "text/html": [
       "<style>\n",
       ".list-inline {list-style: none; margin:0; padding: 0}\n",
       ".list-inline>li {display: inline-block}\n",
       ".list-inline>li:not(:last-child)::after {content: \"\\00b7\"; padding: 0 .5ex}\n",
       "</style>\n",
       "<ol class=list-inline><li>102369</li><li>116</li></ol>\n"
      ],
      "text/latex": [
       "\\begin{enumerate*}\n",
       "\\item 102369\n",
       "\\item 116\n",
       "\\end{enumerate*}\n"
      ],
      "text/markdown": [
       "1. 102369\n",
       "2. 116\n",
       "\n",
       "\n"
      ],
      "text/plain": [
       "[1] 102369    116"
      ]
     },
     "metadata": {},
     "output_type": "display_data"
    }
   ],
   "source": [
    "# check and remove duplicates\n",
    "\n",
    "data %>% dim\n",
    "data %>% unique %>% dim\n",
    "data %>% unique -> data"
   ]
  },
  {
   "cell_type": "code",
   "execution_count": 4,
   "id": "81d2016f",
   "metadata": {},
   "outputs": [
    {
     "data": {
      "text/html": [
       "<table class=\"dataframe\">\n",
       "<caption>A data.frame: 27 × 2</caption>\n",
       "<thead>\n",
       "\t<tr><th scope=col>SG_UF_NOT</th><th scope=col>n</th></tr>\n",
       "\t<tr><th scope=col>&lt;int&gt;</th><th scope=col>&lt;int&gt;</th></tr>\n",
       "</thead>\n",
       "<tbody>\n",
       "\t<tr><td>11</td><td> 1079</td></tr>\n",
       "\t<tr><td>12</td><td>  275</td></tr>\n",
       "\t<tr><td>13</td><td>  124</td></tr>\n",
       "\t<tr><td>14</td><td>  155</td></tr>\n",
       "\t<tr><td>15</td><td> 1968</td></tr>\n",
       "\t<tr><td>16</td><td>   44</td></tr>\n",
       "\t<tr><td>17</td><td>  427</td></tr>\n",
       "\t<tr><td>21</td><td>  250</td></tr>\n",
       "\t<tr><td>22</td><td>  295</td></tr>\n",
       "\t<tr><td>23</td><td> 3757</td></tr>\n",
       "\t<tr><td>24</td><td> 7803</td></tr>\n",
       "\t<tr><td>25</td><td> 2431</td></tr>\n",
       "\t<tr><td>26</td><td> 8675</td></tr>\n",
       "\t<tr><td>27</td><td>  290</td></tr>\n",
       "\t<tr><td>28</td><td> 4997</td></tr>\n",
       "\t<tr><td>29</td><td>47018</td></tr>\n",
       "\t<tr><td>31</td><td> 5122</td></tr>\n",
       "\t<tr><td>32</td><td> 4882</td></tr>\n",
       "\t<tr><td>33</td><td> 5919</td></tr>\n",
       "\t<tr><td>35</td><td> 2239</td></tr>\n",
       "\t<tr><td>41</td><td>  706</td></tr>\n",
       "\t<tr><td>42</td><td>  668</td></tr>\n",
       "\t<tr><td>43</td><td>  266</td></tr>\n",
       "\t<tr><td>50</td><td>  426</td></tr>\n",
       "\t<tr><td>51</td><td>  804</td></tr>\n",
       "\t<tr><td>52</td><td>  182</td></tr>\n",
       "\t<tr><td>53</td><td> 1567</td></tr>\n",
       "</tbody>\n",
       "</table>\n"
      ],
      "text/latex": [
       "A data.frame: 27 × 2\n",
       "\\begin{tabular}{ll}\n",
       " SG\\_UF\\_NOT & n\\\\\n",
       " <int> & <int>\\\\\n",
       "\\hline\n",
       "\t 11 &  1079\\\\\n",
       "\t 12 &   275\\\\\n",
       "\t 13 &   124\\\\\n",
       "\t 14 &   155\\\\\n",
       "\t 15 &  1968\\\\\n",
       "\t 16 &    44\\\\\n",
       "\t 17 &   427\\\\\n",
       "\t 21 &   250\\\\\n",
       "\t 22 &   295\\\\\n",
       "\t 23 &  3757\\\\\n",
       "\t 24 &  7803\\\\\n",
       "\t 25 &  2431\\\\\n",
       "\t 26 &  8675\\\\\n",
       "\t 27 &   290\\\\\n",
       "\t 28 &  4997\\\\\n",
       "\t 29 & 47018\\\\\n",
       "\t 31 &  5122\\\\\n",
       "\t 32 &  4882\\\\\n",
       "\t 33 &  5919\\\\\n",
       "\t 35 &  2239\\\\\n",
       "\t 41 &   706\\\\\n",
       "\t 42 &   668\\\\\n",
       "\t 43 &   266\\\\\n",
       "\t 50 &   426\\\\\n",
       "\t 51 &   804\\\\\n",
       "\t 52 &   182\\\\\n",
       "\t 53 &  1567\\\\\n",
       "\\end{tabular}\n"
      ],
      "text/markdown": [
       "\n",
       "A data.frame: 27 × 2\n",
       "\n",
       "| SG_UF_NOT &lt;int&gt; | n &lt;int&gt; |\n",
       "|---|---|\n",
       "| 11 |  1079 |\n",
       "| 12 |   275 |\n",
       "| 13 |   124 |\n",
       "| 14 |   155 |\n",
       "| 15 |  1968 |\n",
       "| 16 |    44 |\n",
       "| 17 |   427 |\n",
       "| 21 |   250 |\n",
       "| 22 |   295 |\n",
       "| 23 |  3757 |\n",
       "| 24 |  7803 |\n",
       "| 25 |  2431 |\n",
       "| 26 |  8675 |\n",
       "| 27 |   290 |\n",
       "| 28 |  4997 |\n",
       "| 29 | 47018 |\n",
       "| 31 |  5122 |\n",
       "| 32 |  4882 |\n",
       "| 33 |  5919 |\n",
       "| 35 |  2239 |\n",
       "| 41 |   706 |\n",
       "| 42 |   668 |\n",
       "| 43 |   266 |\n",
       "| 50 |   426 |\n",
       "| 51 |   804 |\n",
       "| 52 |   182 |\n",
       "| 53 |  1567 |\n",
       "\n"
      ],
      "text/plain": [
       "   SG_UF_NOT n    \n",
       "1  11         1079\n",
       "2  12          275\n",
       "3  13          124\n",
       "4  14          155\n",
       "5  15         1968\n",
       "6  16           44\n",
       "7  17          427\n",
       "8  21          250\n",
       "9  22          295\n",
       "10 23         3757\n",
       "11 24         7803\n",
       "12 25         2431\n",
       "13 26         8675\n",
       "14 27          290\n",
       "15 28         4997\n",
       "16 29        47018\n",
       "17 31         5122\n",
       "18 32         4882\n",
       "19 33         5919\n",
       "20 35         2239\n",
       "21 41          706\n",
       "22 42          668\n",
       "23 43          266\n",
       "24 50          426\n",
       "25 51          804\n",
       "26 52          182\n",
       "27 53         1567"
      ]
     },
     "metadata": {},
     "output_type": "display_data"
    }
   ],
   "source": [
    "# inspecting data distribution according to state\n",
    "\n",
    "data %>% count(SG_UF_NOT)"
   ]
  },
  {
   "cell_type": "code",
   "execution_count": 5,
   "id": "7c7360be",
   "metadata": {},
   "outputs": [
    {
     "data": {
      "text/html": [
       "<table class=\"dataframe\">\n",
       "<caption>A data.frame: 6 × 116</caption>\n",
       "<thead>\n",
       "\t<tr><th></th><th scope=col>TP_NOT</th><th scope=col>ID_AGRAVO</th><th scope=col>DT_NOTIFIC</th><th scope=col>SEM_NOT</th><th scope=col>NU_ANO</th><th scope=col>SG_UF_NOT</th><th scope=col>ID_MUNICIP</th><th scope=col>ID_REGIONA</th><th scope=col>ID_UNIDADE</th><th scope=col>DT_SIN_PRI</th><th scope=col>⋯</th><th scope=col>HEMATURA</th><th scope=col>SANGRAM</th><th scope=col>LACO_N</th><th scope=col>PLASMATICO</th><th scope=col>EVIDENCIA</th><th scope=col>PLAQ_MENOR</th><th scope=col>CON_FHD</th><th scope=col>COMPLICA</th><th scope=col>TP_SISTEMA</th><th scope=col>NDUPLIC_N</th></tr>\n",
       "\t<tr><th></th><th scope=col>&lt;int&gt;</th><th scope=col>&lt;chr&gt;</th><th scope=col>&lt;chr&gt;</th><th scope=col>&lt;int&gt;</th><th scope=col>&lt;int&gt;</th><th scope=col>&lt;int&gt;</th><th scope=col>&lt;int&gt;</th><th scope=col>&lt;int&gt;</th><th scope=col>&lt;int&gt;</th><th scope=col>&lt;chr&gt;</th><th scope=col>⋯</th><th scope=col>&lt;lgl&gt;</th><th scope=col>&lt;lgl&gt;</th><th scope=col>&lt;lgl&gt;</th><th scope=col>&lt;lgl&gt;</th><th scope=col>&lt;lgl&gt;</th><th scope=col>&lt;lgl&gt;</th><th scope=col>&lt;lgl&gt;</th><th scope=col>&lt;lgl&gt;</th><th scope=col>&lt;int&gt;</th><th scope=col>&lt;int&gt;</th></tr>\n",
       "</thead>\n",
       "<tbody>\n",
       "\t<tr><th scope=row>1</th><td>2</td><td>A92.0</td><td>2020-06-04</td><td>202023</td><td>2020</td><td>12</td><td>120040</td><td>1938</td><td>2000490</td><td>2020-05-27</td><td>⋯</td><td>NA</td><td>NA</td><td>NA</td><td>NA</td><td>NA</td><td>NA</td><td>NA</td><td>NA</td><td>2</td><td>NA</td></tr>\n",
       "\t<tr><th scope=row>2</th><td>2</td><td>A92.0</td><td>2020-06-01</td><td>202023</td><td>2020</td><td>12</td><td>120040</td><td>1938</td><td>2001578</td><td>2020-05-20</td><td>⋯</td><td>NA</td><td>NA</td><td>NA</td><td>NA</td><td>NA</td><td>NA</td><td>NA</td><td>NA</td><td>2</td><td>NA</td></tr>\n",
       "\t<tr><th scope=row>3</th><td>2</td><td>A92.0</td><td>2020-09-24</td><td>202039</td><td>2020</td><td>12</td><td>120020</td><td>1941</td><td>6788637</td><td>2020-09-01</td><td>⋯</td><td>NA</td><td>NA</td><td>NA</td><td>NA</td><td>NA</td><td>NA</td><td>NA</td><td>NA</td><td>2</td><td>NA</td></tr>\n",
       "\t<tr><th scope=row>4</th><td>2</td><td>A92.0</td><td>2020-06-02</td><td>202023</td><td>2020</td><td>12</td><td>120040</td><td>1938</td><td>2000075</td><td>2020-05-25</td><td>⋯</td><td>NA</td><td>NA</td><td>NA</td><td>NA</td><td>NA</td><td>NA</td><td>NA</td><td>NA</td><td>2</td><td>NA</td></tr>\n",
       "\t<tr><th scope=row>5</th><td>2</td><td>A92.0</td><td>2020-02-05</td><td>202006</td><td>2020</td><td>12</td><td>120010</td><td>1937</td><td>2001500</td><td>2020-02-03</td><td>⋯</td><td>NA</td><td>NA</td><td>NA</td><td>NA</td><td>NA</td><td>NA</td><td>NA</td><td>NA</td><td>2</td><td>NA</td></tr>\n",
       "\t<tr><th scope=row>6</th><td>2</td><td>A92.0</td><td>2020-01-29</td><td>202005</td><td>2020</td><td>12</td><td>120020</td><td>1941</td><td>6801099</td><td>2020-01-20</td><td>⋯</td><td>NA</td><td>NA</td><td>NA</td><td>NA</td><td>NA</td><td>NA</td><td>NA</td><td>NA</td><td>2</td><td>NA</td></tr>\n",
       "</tbody>\n",
       "</table>\n"
      ],
      "text/latex": [
       "A data.frame: 6 × 116\n",
       "\\begin{tabular}{r|lllllllllllllllllllll}\n",
       "  & TP\\_NOT & ID\\_AGRAVO & DT\\_NOTIFIC & SEM\\_NOT & NU\\_ANO & SG\\_UF\\_NOT & ID\\_MUNICIP & ID\\_REGIONA & ID\\_UNIDADE & DT\\_SIN\\_PRI & ⋯ & HEMATURA & SANGRAM & LACO\\_N & PLASMATICO & EVIDENCIA & PLAQ\\_MENOR & CON\\_FHD & COMPLICA & TP\\_SISTEMA & NDUPLIC\\_N\\\\\n",
       "  & <int> & <chr> & <chr> & <int> & <int> & <int> & <int> & <int> & <int> & <chr> & ⋯ & <lgl> & <lgl> & <lgl> & <lgl> & <lgl> & <lgl> & <lgl> & <lgl> & <int> & <int>\\\\\n",
       "\\hline\n",
       "\t1 & 2 & A92.0 & 2020-06-04 & 202023 & 2020 & 12 & 120040 & 1938 & 2000490 & 2020-05-27 & ⋯ & NA & NA & NA & NA & NA & NA & NA & NA & 2 & NA\\\\\n",
       "\t2 & 2 & A92.0 & 2020-06-01 & 202023 & 2020 & 12 & 120040 & 1938 & 2001578 & 2020-05-20 & ⋯ & NA & NA & NA & NA & NA & NA & NA & NA & 2 & NA\\\\\n",
       "\t3 & 2 & A92.0 & 2020-09-24 & 202039 & 2020 & 12 & 120020 & 1941 & 6788637 & 2020-09-01 & ⋯ & NA & NA & NA & NA & NA & NA & NA & NA & 2 & NA\\\\\n",
       "\t4 & 2 & A92.0 & 2020-06-02 & 202023 & 2020 & 12 & 120040 & 1938 & 2000075 & 2020-05-25 & ⋯ & NA & NA & NA & NA & NA & NA & NA & NA & 2 & NA\\\\\n",
       "\t5 & 2 & A92.0 & 2020-02-05 & 202006 & 2020 & 12 & 120010 & 1937 & 2001500 & 2020-02-03 & ⋯ & NA & NA & NA & NA & NA & NA & NA & NA & 2 & NA\\\\\n",
       "\t6 & 2 & A92.0 & 2020-01-29 & 202005 & 2020 & 12 & 120020 & 1941 & 6801099 & 2020-01-20 & ⋯ & NA & NA & NA & NA & NA & NA & NA & NA & 2 & NA\\\\\n",
       "\\end{tabular}\n"
      ],
      "text/markdown": [
       "\n",
       "A data.frame: 6 × 116\n",
       "\n",
       "| <!--/--> | TP_NOT &lt;int&gt; | ID_AGRAVO &lt;chr&gt; | DT_NOTIFIC &lt;chr&gt; | SEM_NOT &lt;int&gt; | NU_ANO &lt;int&gt; | SG_UF_NOT &lt;int&gt; | ID_MUNICIP &lt;int&gt; | ID_REGIONA &lt;int&gt; | ID_UNIDADE &lt;int&gt; | DT_SIN_PRI &lt;chr&gt; | ⋯ ⋯ | HEMATURA &lt;lgl&gt; | SANGRAM &lt;lgl&gt; | LACO_N &lt;lgl&gt; | PLASMATICO &lt;lgl&gt; | EVIDENCIA &lt;lgl&gt; | PLAQ_MENOR &lt;lgl&gt; | CON_FHD &lt;lgl&gt; | COMPLICA &lt;lgl&gt; | TP_SISTEMA &lt;int&gt; | NDUPLIC_N &lt;int&gt; |\n",
       "|---|---|---|---|---|---|---|---|---|---|---|---|---|---|---|---|---|---|---|---|---|---|\n",
       "| 1 | 2 | A92.0 | 2020-06-04 | 202023 | 2020 | 12 | 120040 | 1938 | 2000490 | 2020-05-27 | ⋯ | NA | NA | NA | NA | NA | NA | NA | NA | 2 | NA |\n",
       "| 2 | 2 | A92.0 | 2020-06-01 | 202023 | 2020 | 12 | 120040 | 1938 | 2001578 | 2020-05-20 | ⋯ | NA | NA | NA | NA | NA | NA | NA | NA | 2 | NA |\n",
       "| 3 | 2 | A92.0 | 2020-09-24 | 202039 | 2020 | 12 | 120020 | 1941 | 6788637 | 2020-09-01 | ⋯ | NA | NA | NA | NA | NA | NA | NA | NA | 2 | NA |\n",
       "| 4 | 2 | A92.0 | 2020-06-02 | 202023 | 2020 | 12 | 120040 | 1938 | 2000075 | 2020-05-25 | ⋯ | NA | NA | NA | NA | NA | NA | NA | NA | 2 | NA |\n",
       "| 5 | 2 | A92.0 | 2020-02-05 | 202006 | 2020 | 12 | 120010 | 1937 | 2001500 | 2020-02-03 | ⋯ | NA | NA | NA | NA | NA | NA | NA | NA | 2 | NA |\n",
       "| 6 | 2 | A92.0 | 2020-01-29 | 202005 | 2020 | 12 | 120020 | 1941 | 6801099 | 2020-01-20 | ⋯ | NA | NA | NA | NA | NA | NA | NA | NA | 2 | NA |\n",
       "\n"
      ],
      "text/plain": [
       "  TP_NOT ID_AGRAVO DT_NOTIFIC SEM_NOT NU_ANO SG_UF_NOT ID_MUNICIP ID_REGIONA\n",
       "1 2      A92.0     2020-06-04 202023  2020   12        120040     1938      \n",
       "2 2      A92.0     2020-06-01 202023  2020   12        120040     1938      \n",
       "3 2      A92.0     2020-09-24 202039  2020   12        120020     1941      \n",
       "4 2      A92.0     2020-06-02 202023  2020   12        120040     1938      \n",
       "5 2      A92.0     2020-02-05 202006  2020   12        120010     1937      \n",
       "6 2      A92.0     2020-01-29 202005  2020   12        120020     1941      \n",
       "  ID_UNIDADE DT_SIN_PRI ⋯ HEMATURA SANGRAM LACO_N PLASMATICO EVIDENCIA\n",
       "1 2000490    2020-05-27 ⋯ NA       NA      NA     NA         NA       \n",
       "2 2001578    2020-05-20 ⋯ NA       NA      NA     NA         NA       \n",
       "3 6788637    2020-09-01 ⋯ NA       NA      NA     NA         NA       \n",
       "4 2000075    2020-05-25 ⋯ NA       NA      NA     NA         NA       \n",
       "5 2001500    2020-02-03 ⋯ NA       NA      NA     NA         NA       \n",
       "6 6801099    2020-01-20 ⋯ NA       NA      NA     NA         NA       \n",
       "  PLAQ_MENOR CON_FHD COMPLICA TP_SISTEMA NDUPLIC_N\n",
       "1 NA         NA      NA       2          NA       \n",
       "2 NA         NA      NA       2          NA       \n",
       "3 NA         NA      NA       2          NA       \n",
       "4 NA         NA      NA       2          NA       \n",
       "5 NA         NA      NA       2          NA       \n",
       "6 NA         NA      NA       2          NA       "
      ]
     },
     "metadata": {},
     "output_type": "display_data"
    },
    {
     "data": {
      "text/html": [
       "<style>\n",
       ".list-inline {list-style: none; margin:0; padding: 0}\n",
       ".list-inline>li {display: inline-block}\n",
       ".list-inline>li:not(:last-child)::after {content: \"\\00b7\"; padding: 0 .5ex}\n",
       "</style>\n",
       "<ol class=list-inline><li>'TP_NOT'</li><li>'ID_AGRAVO'</li><li>'DT_NOTIFIC'</li><li>'SEM_NOT'</li><li>'NU_ANO'</li><li>'SG_UF_NOT'</li><li>'ID_MUNICIP'</li><li>'ID_REGIONA'</li><li>'ID_UNIDADE'</li><li>'DT_SIN_PRI'</li><li>'SEM_PRI'</li><li>'NU_IDADE_N'</li><li>'CS_SEXO'</li><li>'CS_GESTANT'</li><li>'CS_RACA'</li><li>'CS_ESCOL_N'</li><li>'SG_UF'</li><li>'ID_MN_RESI'</li><li>'ID_RG_RESI'</li><li>'ID_PAIS'</li><li>'DT_INVEST'</li><li>'ID_OCUPA_N'</li><li>'FEBRE'</li><li>'MIALGIA'</li><li>'CEFALEIA'</li><li>'EXANTEMA'</li><li>'VOMITO'</li><li>'NAUSEA'</li><li>'DOR_COSTAS'</li><li>'CONJUNTVIT'</li><li>'ARTRITE'</li><li>'ARTRALGIA'</li><li>'PETEQUIA_N'</li><li>'LEUCOPENIA'</li><li>'LACO'</li><li>'DOR_RETRO'</li><li>'DIABETES'</li><li>'HEMATOLOG'</li><li>'HEPATOPAT'</li><li>'RENAL'</li><li>'HIPERTENSA'</li><li>'ACIDO_PEPT'</li><li>'AUTO_IMUNE'</li><li>'DT_CHIK_S1'</li><li>'DT_CHIK_S2'</li><li>'DT_PRNT'</li><li>'RES_CHIKS1'</li><li>'RES_CHIKS2'</li><li>'RESUL_PRNT'</li><li>'DT_SORO'</li><li>'RESUL_SORO'</li><li>'DT_NS1'</li><li>'RESUL_NS1'</li><li>'DT_VIRAL'</li><li>'RESUL_VI_N'</li><li>'DT_PCR'</li><li>'RESUL_PCR_'</li><li>'SOROTIPO'</li><li>'HISTOPA_N'</li><li>'IMUNOH_N'</li><li>'HOSPITALIZ'</li><li>'DT_INTERNA'</li><li>'UF'</li><li>'MUNICIPIO'</li><li>'TPAUTOCTO'</li><li>'COUFINF'</li><li>'COPAISINF'</li><li>'COMUNINF'</li><li>'CLASSI_FIN'</li><li>'CRITERIO'</li><li>'DOENCA_TRA'</li><li>'CLINC_CHIK'</li><li>'EVOLUCAO'</li><li>'DT_OBITO'</li><li>'DT_ENCERRA'</li><li>'ALRM_HIPOT'</li><li>'ALRM_PLAQ'</li><li>'ALRM_VOM'</li><li>'ALRM_SANG'</li><li>'ALRM_HEMAT'</li><li>'ALRM_ABDOM'</li><li>'ALRM_LETAR'</li><li>'ALRM_HEPAT'</li><li>'ALRM_LIQ'</li><li>'DT_ALRM'</li><li>'GRAV_PULSO'</li><li>'GRAV_CONV'</li><li>'GRAV_ENCH'</li><li>'GRAV_INSUF'</li><li>'GRAV_TAQUI'</li><li>'GRAV_EXTRE'</li><li>'GRAV_HIPOT'</li><li>'GRAV_HEMAT'</li><li>'GRAV_MELEN'</li><li>'GRAV_METRO'</li><li>'GRAV_SANG'</li><li>'GRAV_AST'</li><li>'GRAV_MIOC'</li><li>'GRAV_CONSC'</li><li>'GRAV_ORGAO'</li><li>'DT_GRAV'</li><li>'MANI_HEMOR'</li><li>'EPISTAXE'</li><li>'GENGIVO'</li><li>'METRO'</li><li>'PETEQUIAS'</li><li>'HEMATURA'</li><li>'SANGRAM'</li><li>'LACO_N'</li><li>'PLASMATICO'</li><li>'EVIDENCIA'</li><li>'PLAQ_MENOR'</li><li>'CON_FHD'</li><li>'COMPLICA'</li><li>'TP_SISTEMA'</li><li>'NDUPLIC_N'</li></ol>\n"
      ],
      "text/latex": [
       "\\begin{enumerate*}\n",
       "\\item 'TP\\_NOT'\n",
       "\\item 'ID\\_AGRAVO'\n",
       "\\item 'DT\\_NOTIFIC'\n",
       "\\item 'SEM\\_NOT'\n",
       "\\item 'NU\\_ANO'\n",
       "\\item 'SG\\_UF\\_NOT'\n",
       "\\item 'ID\\_MUNICIP'\n",
       "\\item 'ID\\_REGIONA'\n",
       "\\item 'ID\\_UNIDADE'\n",
       "\\item 'DT\\_SIN\\_PRI'\n",
       "\\item 'SEM\\_PRI'\n",
       "\\item 'NU\\_IDADE\\_N'\n",
       "\\item 'CS\\_SEXO'\n",
       "\\item 'CS\\_GESTANT'\n",
       "\\item 'CS\\_RACA'\n",
       "\\item 'CS\\_ESCOL\\_N'\n",
       "\\item 'SG\\_UF'\n",
       "\\item 'ID\\_MN\\_RESI'\n",
       "\\item 'ID\\_RG\\_RESI'\n",
       "\\item 'ID\\_PAIS'\n",
       "\\item 'DT\\_INVEST'\n",
       "\\item 'ID\\_OCUPA\\_N'\n",
       "\\item 'FEBRE'\n",
       "\\item 'MIALGIA'\n",
       "\\item 'CEFALEIA'\n",
       "\\item 'EXANTEMA'\n",
       "\\item 'VOMITO'\n",
       "\\item 'NAUSEA'\n",
       "\\item 'DOR\\_COSTAS'\n",
       "\\item 'CONJUNTVIT'\n",
       "\\item 'ARTRITE'\n",
       "\\item 'ARTRALGIA'\n",
       "\\item 'PETEQUIA\\_N'\n",
       "\\item 'LEUCOPENIA'\n",
       "\\item 'LACO'\n",
       "\\item 'DOR\\_RETRO'\n",
       "\\item 'DIABETES'\n",
       "\\item 'HEMATOLOG'\n",
       "\\item 'HEPATOPAT'\n",
       "\\item 'RENAL'\n",
       "\\item 'HIPERTENSA'\n",
       "\\item 'ACIDO\\_PEPT'\n",
       "\\item 'AUTO\\_IMUNE'\n",
       "\\item 'DT\\_CHIK\\_S1'\n",
       "\\item 'DT\\_CHIK\\_S2'\n",
       "\\item 'DT\\_PRNT'\n",
       "\\item 'RES\\_CHIKS1'\n",
       "\\item 'RES\\_CHIKS2'\n",
       "\\item 'RESUL\\_PRNT'\n",
       "\\item 'DT\\_SORO'\n",
       "\\item 'RESUL\\_SORO'\n",
       "\\item 'DT\\_NS1'\n",
       "\\item 'RESUL\\_NS1'\n",
       "\\item 'DT\\_VIRAL'\n",
       "\\item 'RESUL\\_VI\\_N'\n",
       "\\item 'DT\\_PCR'\n",
       "\\item 'RESUL\\_PCR\\_'\n",
       "\\item 'SOROTIPO'\n",
       "\\item 'HISTOPA\\_N'\n",
       "\\item 'IMUNOH\\_N'\n",
       "\\item 'HOSPITALIZ'\n",
       "\\item 'DT\\_INTERNA'\n",
       "\\item 'UF'\n",
       "\\item 'MUNICIPIO'\n",
       "\\item 'TPAUTOCTO'\n",
       "\\item 'COUFINF'\n",
       "\\item 'COPAISINF'\n",
       "\\item 'COMUNINF'\n",
       "\\item 'CLASSI\\_FIN'\n",
       "\\item 'CRITERIO'\n",
       "\\item 'DOENCA\\_TRA'\n",
       "\\item 'CLINC\\_CHIK'\n",
       "\\item 'EVOLUCAO'\n",
       "\\item 'DT\\_OBITO'\n",
       "\\item 'DT\\_ENCERRA'\n",
       "\\item 'ALRM\\_HIPOT'\n",
       "\\item 'ALRM\\_PLAQ'\n",
       "\\item 'ALRM\\_VOM'\n",
       "\\item 'ALRM\\_SANG'\n",
       "\\item 'ALRM\\_HEMAT'\n",
       "\\item 'ALRM\\_ABDOM'\n",
       "\\item 'ALRM\\_LETAR'\n",
       "\\item 'ALRM\\_HEPAT'\n",
       "\\item 'ALRM\\_LIQ'\n",
       "\\item 'DT\\_ALRM'\n",
       "\\item 'GRAV\\_PULSO'\n",
       "\\item 'GRAV\\_CONV'\n",
       "\\item 'GRAV\\_ENCH'\n",
       "\\item 'GRAV\\_INSUF'\n",
       "\\item 'GRAV\\_TAQUI'\n",
       "\\item 'GRAV\\_EXTRE'\n",
       "\\item 'GRAV\\_HIPOT'\n",
       "\\item 'GRAV\\_HEMAT'\n",
       "\\item 'GRAV\\_MELEN'\n",
       "\\item 'GRAV\\_METRO'\n",
       "\\item 'GRAV\\_SANG'\n",
       "\\item 'GRAV\\_AST'\n",
       "\\item 'GRAV\\_MIOC'\n",
       "\\item 'GRAV\\_CONSC'\n",
       "\\item 'GRAV\\_ORGAO'\n",
       "\\item 'DT\\_GRAV'\n",
       "\\item 'MANI\\_HEMOR'\n",
       "\\item 'EPISTAXE'\n",
       "\\item 'GENGIVO'\n",
       "\\item 'METRO'\n",
       "\\item 'PETEQUIAS'\n",
       "\\item 'HEMATURA'\n",
       "\\item 'SANGRAM'\n",
       "\\item 'LACO\\_N'\n",
       "\\item 'PLASMATICO'\n",
       "\\item 'EVIDENCIA'\n",
       "\\item 'PLAQ\\_MENOR'\n",
       "\\item 'CON\\_FHD'\n",
       "\\item 'COMPLICA'\n",
       "\\item 'TP\\_SISTEMA'\n",
       "\\item 'NDUPLIC\\_N'\n",
       "\\end{enumerate*}\n"
      ],
      "text/markdown": [
       "1. 'TP_NOT'\n",
       "2. 'ID_AGRAVO'\n",
       "3. 'DT_NOTIFIC'\n",
       "4. 'SEM_NOT'\n",
       "5. 'NU_ANO'\n",
       "6. 'SG_UF_NOT'\n",
       "7. 'ID_MUNICIP'\n",
       "8. 'ID_REGIONA'\n",
       "9. 'ID_UNIDADE'\n",
       "10. 'DT_SIN_PRI'\n",
       "11. 'SEM_PRI'\n",
       "12. 'NU_IDADE_N'\n",
       "13. 'CS_SEXO'\n",
       "14. 'CS_GESTANT'\n",
       "15. 'CS_RACA'\n",
       "16. 'CS_ESCOL_N'\n",
       "17. 'SG_UF'\n",
       "18. 'ID_MN_RESI'\n",
       "19. 'ID_RG_RESI'\n",
       "20. 'ID_PAIS'\n",
       "21. 'DT_INVEST'\n",
       "22. 'ID_OCUPA_N'\n",
       "23. 'FEBRE'\n",
       "24. 'MIALGIA'\n",
       "25. 'CEFALEIA'\n",
       "26. 'EXANTEMA'\n",
       "27. 'VOMITO'\n",
       "28. 'NAUSEA'\n",
       "29. 'DOR_COSTAS'\n",
       "30. 'CONJUNTVIT'\n",
       "31. 'ARTRITE'\n",
       "32. 'ARTRALGIA'\n",
       "33. 'PETEQUIA_N'\n",
       "34. 'LEUCOPENIA'\n",
       "35. 'LACO'\n",
       "36. 'DOR_RETRO'\n",
       "37. 'DIABETES'\n",
       "38. 'HEMATOLOG'\n",
       "39. 'HEPATOPAT'\n",
       "40. 'RENAL'\n",
       "41. 'HIPERTENSA'\n",
       "42. 'ACIDO_PEPT'\n",
       "43. 'AUTO_IMUNE'\n",
       "44. 'DT_CHIK_S1'\n",
       "45. 'DT_CHIK_S2'\n",
       "46. 'DT_PRNT'\n",
       "47. 'RES_CHIKS1'\n",
       "48. 'RES_CHIKS2'\n",
       "49. 'RESUL_PRNT'\n",
       "50. 'DT_SORO'\n",
       "51. 'RESUL_SORO'\n",
       "52. 'DT_NS1'\n",
       "53. 'RESUL_NS1'\n",
       "54. 'DT_VIRAL'\n",
       "55. 'RESUL_VI_N'\n",
       "56. 'DT_PCR'\n",
       "57. 'RESUL_PCR_'\n",
       "58. 'SOROTIPO'\n",
       "59. 'HISTOPA_N'\n",
       "60. 'IMUNOH_N'\n",
       "61. 'HOSPITALIZ'\n",
       "62. 'DT_INTERNA'\n",
       "63. 'UF'\n",
       "64. 'MUNICIPIO'\n",
       "65. 'TPAUTOCTO'\n",
       "66. 'COUFINF'\n",
       "67. 'COPAISINF'\n",
       "68. 'COMUNINF'\n",
       "69. 'CLASSI_FIN'\n",
       "70. 'CRITERIO'\n",
       "71. 'DOENCA_TRA'\n",
       "72. 'CLINC_CHIK'\n",
       "73. 'EVOLUCAO'\n",
       "74. 'DT_OBITO'\n",
       "75. 'DT_ENCERRA'\n",
       "76. 'ALRM_HIPOT'\n",
       "77. 'ALRM_PLAQ'\n",
       "78. 'ALRM_VOM'\n",
       "79. 'ALRM_SANG'\n",
       "80. 'ALRM_HEMAT'\n",
       "81. 'ALRM_ABDOM'\n",
       "82. 'ALRM_LETAR'\n",
       "83. 'ALRM_HEPAT'\n",
       "84. 'ALRM_LIQ'\n",
       "85. 'DT_ALRM'\n",
       "86. 'GRAV_PULSO'\n",
       "87. 'GRAV_CONV'\n",
       "88. 'GRAV_ENCH'\n",
       "89. 'GRAV_INSUF'\n",
       "90. 'GRAV_TAQUI'\n",
       "91. 'GRAV_EXTRE'\n",
       "92. 'GRAV_HIPOT'\n",
       "93. 'GRAV_HEMAT'\n",
       "94. 'GRAV_MELEN'\n",
       "95. 'GRAV_METRO'\n",
       "96. 'GRAV_SANG'\n",
       "97. 'GRAV_AST'\n",
       "98. 'GRAV_MIOC'\n",
       "99. 'GRAV_CONSC'\n",
       "100. 'GRAV_ORGAO'\n",
       "101. 'DT_GRAV'\n",
       "102. 'MANI_HEMOR'\n",
       "103. 'EPISTAXE'\n",
       "104. 'GENGIVO'\n",
       "105. 'METRO'\n",
       "106. 'PETEQUIAS'\n",
       "107. 'HEMATURA'\n",
       "108. 'SANGRAM'\n",
       "109. 'LACO_N'\n",
       "110. 'PLASMATICO'\n",
       "111. 'EVIDENCIA'\n",
       "112. 'PLAQ_MENOR'\n",
       "113. 'CON_FHD'\n",
       "114. 'COMPLICA'\n",
       "115. 'TP_SISTEMA'\n",
       "116. 'NDUPLIC_N'\n",
       "\n",
       "\n"
      ],
      "text/plain": [
       "  [1] \"TP_NOT\"     \"ID_AGRAVO\"  \"DT_NOTIFIC\" \"SEM_NOT\"    \"NU_ANO\"    \n",
       "  [6] \"SG_UF_NOT\"  \"ID_MUNICIP\" \"ID_REGIONA\" \"ID_UNIDADE\" \"DT_SIN_PRI\"\n",
       " [11] \"SEM_PRI\"    \"NU_IDADE_N\" \"CS_SEXO\"    \"CS_GESTANT\" \"CS_RACA\"   \n",
       " [16] \"CS_ESCOL_N\" \"SG_UF\"      \"ID_MN_RESI\" \"ID_RG_RESI\" \"ID_PAIS\"   \n",
       " [21] \"DT_INVEST\"  \"ID_OCUPA_N\" \"FEBRE\"      \"MIALGIA\"    \"CEFALEIA\"  \n",
       " [26] \"EXANTEMA\"   \"VOMITO\"     \"NAUSEA\"     \"DOR_COSTAS\" \"CONJUNTVIT\"\n",
       " [31] \"ARTRITE\"    \"ARTRALGIA\"  \"PETEQUIA_N\" \"LEUCOPENIA\" \"LACO\"      \n",
       " [36] \"DOR_RETRO\"  \"DIABETES\"   \"HEMATOLOG\"  \"HEPATOPAT\"  \"RENAL\"     \n",
       " [41] \"HIPERTENSA\" \"ACIDO_PEPT\" \"AUTO_IMUNE\" \"DT_CHIK_S1\" \"DT_CHIK_S2\"\n",
       " [46] \"DT_PRNT\"    \"RES_CHIKS1\" \"RES_CHIKS2\" \"RESUL_PRNT\" \"DT_SORO\"   \n",
       " [51] \"RESUL_SORO\" \"DT_NS1\"     \"RESUL_NS1\"  \"DT_VIRAL\"   \"RESUL_VI_N\"\n",
       " [56] \"DT_PCR\"     \"RESUL_PCR_\" \"SOROTIPO\"   \"HISTOPA_N\"  \"IMUNOH_N\"  \n",
       " [61] \"HOSPITALIZ\" \"DT_INTERNA\" \"UF\"         \"MUNICIPIO\"  \"TPAUTOCTO\" \n",
       " [66] \"COUFINF\"    \"COPAISINF\"  \"COMUNINF\"   \"CLASSI_FIN\" \"CRITERIO\"  \n",
       " [71] \"DOENCA_TRA\" \"CLINC_CHIK\" \"EVOLUCAO\"   \"DT_OBITO\"   \"DT_ENCERRA\"\n",
       " [76] \"ALRM_HIPOT\" \"ALRM_PLAQ\"  \"ALRM_VOM\"   \"ALRM_SANG\"  \"ALRM_HEMAT\"\n",
       " [81] \"ALRM_ABDOM\" \"ALRM_LETAR\" \"ALRM_HEPAT\" \"ALRM_LIQ\"   \"DT_ALRM\"   \n",
       " [86] \"GRAV_PULSO\" \"GRAV_CONV\"  \"GRAV_ENCH\"  \"GRAV_INSUF\" \"GRAV_TAQUI\"\n",
       " [91] \"GRAV_EXTRE\" \"GRAV_HIPOT\" \"GRAV_HEMAT\" \"GRAV_MELEN\" \"GRAV_METRO\"\n",
       " [96] \"GRAV_SANG\"  \"GRAV_AST\"   \"GRAV_MIOC\"  \"GRAV_CONSC\" \"GRAV_ORGAO\"\n",
       "[101] \"DT_GRAV\"    \"MANI_HEMOR\" \"EPISTAXE\"   \"GENGIVO\"    \"METRO\"     \n",
       "[106] \"PETEQUIAS\"  \"HEMATURA\"   \"SANGRAM\"    \"LACO_N\"     \"PLASMATICO\"\n",
       "[111] \"EVIDENCIA\"  \"PLAQ_MENOR\" \"CON_FHD\"    \"COMPLICA\"   \"TP_SISTEMA\"\n",
       "[116] \"NDUPLIC_N\" "
      ]
     },
     "metadata": {},
     "output_type": "display_data"
    }
   ],
   "source": [
    "# visualize data\n",
    "\n",
    "data %>% head\n",
    "data %>% colnames"
   ]
  },
  {
   "cell_type": "code",
   "execution_count": 6,
   "id": "396a3629",
   "metadata": {},
   "outputs": [
    {
     "data": {
      "text/html": [
       "<table class=\"dataframe\">\n",
       "<caption>A data.frame: 6 × 2</caption>\n",
       "<thead>\n",
       "\t<tr><th></th><th scope=col>NU_IDADE_N</th><th scope=col>n</th></tr>\n",
       "\t<tr><th></th><th scope=col>&lt;dbl&gt;</th><th scope=col>&lt;int&gt;</th></tr>\n",
       "</thead>\n",
       "<tbody>\n",
       "\t<tr><th scope=row>1</th><td> 0</td><td>1</td></tr>\n",
       "\t<tr><th scope=row>2</th><td> 3</td><td>1</td></tr>\n",
       "\t<tr><th scope=row>3</th><td> 9</td><td>1</td></tr>\n",
       "\t<tr><th scope=row>4</th><td>10</td><td>1</td></tr>\n",
       "\t<tr><th scope=row>5</th><td>19</td><td>1</td></tr>\n",
       "\t<tr><th scope=row>6</th><td>27</td><td>2</td></tr>\n",
       "</tbody>\n",
       "</table>\n"
      ],
      "text/latex": [
       "A data.frame: 6 × 2\n",
       "\\begin{tabular}{r|ll}\n",
       "  & NU\\_IDADE\\_N & n\\\\\n",
       "  & <dbl> & <int>\\\\\n",
       "\\hline\n",
       "\t1 &  0 & 1\\\\\n",
       "\t2 &  3 & 1\\\\\n",
       "\t3 &  9 & 1\\\\\n",
       "\t4 & 10 & 1\\\\\n",
       "\t5 & 19 & 1\\\\\n",
       "\t6 & 27 & 2\\\\\n",
       "\\end{tabular}\n"
      ],
      "text/markdown": [
       "\n",
       "A data.frame: 6 × 2\n",
       "\n",
       "| <!--/--> | NU_IDADE_N &lt;dbl&gt; | n &lt;int&gt; |\n",
       "|---|---|---|\n",
       "| 1 |  0 | 1 |\n",
       "| 2 |  3 | 1 |\n",
       "| 3 |  9 | 1 |\n",
       "| 4 | 10 | 1 |\n",
       "| 5 | 19 | 1 |\n",
       "| 6 | 27 | 2 |\n",
       "\n"
      ],
      "text/plain": [
       "  NU_IDADE_N n\n",
       "1  0         1\n",
       "2  3         1\n",
       "3  9         1\n",
       "4 10         1\n",
       "5 19         1\n",
       "6 27         2"
      ]
     },
     "metadata": {},
     "output_type": "display_data"
    }
   ],
   "source": [
    "# since ano-nasc is not present is this database, age will be computed from nu_idade_n\n",
    "\n",
    "data %>% count(NU_IDADE_N) %>% head"
   ]
  },
  {
   "cell_type": "code",
   "execution_count": 7,
   "id": "953e1a7a",
   "metadata": {},
   "outputs": [
    {
     "data": {
      "text/html": [
       "<table class=\"dataframe\">\n",
       "<caption>A data.frame: 6 × 2</caption>\n",
       "<thead>\n",
       "\t<tr><th></th><th scope=col>NU_IDADE_N</th><th scope=col>n</th></tr>\n",
       "\t<tr><th></th><th scope=col>&lt;dbl&gt;</th><th scope=col>&lt;int&gt;</th></tr>\n",
       "</thead>\n",
       "<tbody>\n",
       "\t<tr><th scope=row>1</th><td>1078</td><td>  1</td></tr>\n",
       "\t<tr><th scope=row>2</th><td>2001</td><td>868</td></tr>\n",
       "\t<tr><th scope=row>3</th><td>2002</td><td> 20</td></tr>\n",
       "\t<tr><th scope=row>4</th><td>2003</td><td> 16</td></tr>\n",
       "\t<tr><th scope=row>5</th><td>2004</td><td>  9</td></tr>\n",
       "\t<tr><th scope=row>6</th><td>2005</td><td> 17</td></tr>\n",
       "</tbody>\n",
       "</table>\n"
      ],
      "text/latex": [
       "A data.frame: 6 × 2\n",
       "\\begin{tabular}{r|ll}\n",
       "  & NU\\_IDADE\\_N & n\\\\\n",
       "  & <dbl> & <int>\\\\\n",
       "\\hline\n",
       "\t1 & 1078 &   1\\\\\n",
       "\t2 & 2001 & 868\\\\\n",
       "\t3 & 2002 &  20\\\\\n",
       "\t4 & 2003 &  16\\\\\n",
       "\t5 & 2004 &   9\\\\\n",
       "\t6 & 2005 &  17\\\\\n",
       "\\end{tabular}\n"
      ],
      "text/markdown": [
       "\n",
       "A data.frame: 6 × 2\n",
       "\n",
       "| <!--/--> | NU_IDADE_N &lt;dbl&gt; | n &lt;int&gt; |\n",
       "|---|---|---|\n",
       "| 1 | 1078 |   1 |\n",
       "| 2 | 2001 | 868 |\n",
       "| 3 | 2002 |  20 |\n",
       "| 4 | 2003 |  16 |\n",
       "| 5 | 2004 |   9 |\n",
       "| 6 | 2005 |  17 |\n",
       "\n"
      ],
      "text/plain": [
       "  NU_IDADE_N n  \n",
       "1 1078         1\n",
       "2 2001       868\n",
       "3 2002        20\n",
       "4 2003        16\n",
       "5 2004         9\n",
       "6 2005        17"
      ]
     },
     "metadata": {},
     "output_type": "display_data"
    }
   ],
   "source": [
    "# the information must contain at least 4 digits\n",
    "# when it starts with 10 - hours, 20 - days, 30 - months, 40 - years \n",
    "\n",
    "# remove information with less than 4 digits\n",
    "\n",
    "data %>% filter(NU_IDADE_N > 1000) %>% count(NU_IDADE_N) %>% head\n",
    "\n",
    "data %>% filter(NU_IDADE_N > 1000) -> data\n",
    "\n"
   ]
  },
  {
   "cell_type": "code",
   "execution_count": 8,
   "id": "bacede2f",
   "metadata": {},
   "outputs": [
    {
     "data": {
      "text/html": [
       "<table class=\"dataframe\">\n",
       "<caption>A data.frame: 6 × 2</caption>\n",
       "<thead>\n",
       "\t<tr><th></th><th scope=col>NU_IDADE_N</th><th scope=col>n</th></tr>\n",
       "\t<tr><th></th><th scope=col>&lt;dbl&gt;</th><th scope=col>&lt;int&gt;</th></tr>\n",
       "</thead>\n",
       "<tbody>\n",
       "\t<tr><th scope=row>1</th><td>2026</td><td>  5</td></tr>\n",
       "\t<tr><th scope=row>2</th><td>2027</td><td>  4</td></tr>\n",
       "\t<tr><th scope=row>3</th><td>2028</td><td>  6</td></tr>\n",
       "\t<tr><th scope=row>4</th><td>2029</td><td>  9</td></tr>\n",
       "\t<tr><th scope=row>5</th><td>2030</td><td>  4</td></tr>\n",
       "\t<tr><th scope=row>6</th><td>3001</td><td>100</td></tr>\n",
       "</tbody>\n",
       "</table>\n"
      ],
      "text/latex": [
       "A data.frame: 6 × 2\n",
       "\\begin{tabular}{r|ll}\n",
       "  & NU\\_IDADE\\_N & n\\\\\n",
       "  & <dbl> & <int>\\\\\n",
       "\\hline\n",
       "\t1 & 2026 &   5\\\\\n",
       "\t2 & 2027 &   4\\\\\n",
       "\t3 & 2028 &   6\\\\\n",
       "\t4 & 2029 &   9\\\\\n",
       "\t5 & 2030 &   4\\\\\n",
       "\t6 & 3001 & 100\\\\\n",
       "\\end{tabular}\n"
      ],
      "text/markdown": [
       "\n",
       "A data.frame: 6 × 2\n",
       "\n",
       "| <!--/--> | NU_IDADE_N &lt;dbl&gt; | n &lt;int&gt; |\n",
       "|---|---|---|\n",
       "| 1 | 2026 |   5 |\n",
       "| 2 | 2027 |   4 |\n",
       "| 3 | 2028 |   6 |\n",
       "| 4 | 2029 |   9 |\n",
       "| 5 | 2030 |   4 |\n",
       "| 6 | 3001 | 100 |\n",
       "\n"
      ],
      "text/plain": [
       "  NU_IDADE_N n  \n",
       "1 2026         5\n",
       "2 2027         4\n",
       "3 2028         6\n",
       "4 2029         9\n",
       "5 2030         4\n",
       "6 3001       100"
      ]
     },
     "metadata": {},
     "output_type": "display_data"
    }
   ],
   "source": [
    "# remove information that is not coherent\n",
    "\n",
    "data %>% filter(!(NU_IDADE_N > 2030 & NU_IDADE_N < 3000)) %>% filter(NU_IDADE_N> 2025) %>% \n",
    "    count(NU_IDADE_N) %>% head\n",
    "\n",
    "data %>% filter(!(NU_IDADE_N > 2030 & NU_IDADE_N < 3000)) -> data\n"
   ]
  },
  {
   "cell_type": "code",
   "execution_count": 9,
   "id": "4366004d",
   "metadata": {},
   "outputs": [
    {
     "data": {
      "text/html": [
       "<table class=\"dataframe\">\n",
       "<caption>A data.frame: 6 × 2</caption>\n",
       "<thead>\n",
       "\t<tr><th></th><th scope=col>NU_IDADE_N</th><th scope=col>n</th></tr>\n",
       "\t<tr><th></th><th scope=col>&lt;dbl&gt;</th><th scope=col>&lt;int&gt;</th></tr>\n",
       "</thead>\n",
       "<tbody>\n",
       "\t<tr><th scope=row>1</th><td>3011</td><td> 53</td></tr>\n",
       "\t<tr><th scope=row>2</th><td>4001</td><td>415</td></tr>\n",
       "\t<tr><th scope=row>3</th><td>4002</td><td>430</td></tr>\n",
       "\t<tr><th scope=row>4</th><td>4003</td><td>501</td></tr>\n",
       "\t<tr><th scope=row>5</th><td>4004</td><td>535</td></tr>\n",
       "\t<tr><th scope=row>6</th><td>4005</td><td>625</td></tr>\n",
       "</tbody>\n",
       "</table>\n"
      ],
      "text/latex": [
       "A data.frame: 6 × 2\n",
       "\\begin{tabular}{r|ll}\n",
       "  & NU\\_IDADE\\_N & n\\\\\n",
       "  & <dbl> & <int>\\\\\n",
       "\\hline\n",
       "\t1 & 3011 &  53\\\\\n",
       "\t2 & 4001 & 415\\\\\n",
       "\t3 & 4002 & 430\\\\\n",
       "\t4 & 4003 & 501\\\\\n",
       "\t5 & 4004 & 535\\\\\n",
       "\t6 & 4005 & 625\\\\\n",
       "\\end{tabular}\n"
      ],
      "text/markdown": [
       "\n",
       "A data.frame: 6 × 2\n",
       "\n",
       "| <!--/--> | NU_IDADE_N &lt;dbl&gt; | n &lt;int&gt; |\n",
       "|---|---|---|\n",
       "| 1 | 3011 |  53 |\n",
       "| 2 | 4001 | 415 |\n",
       "| 3 | 4002 | 430 |\n",
       "| 4 | 4003 | 501 |\n",
       "| 5 | 4004 | 535 |\n",
       "| 6 | 4005 | 625 |\n",
       "\n"
      ],
      "text/plain": [
       "  NU_IDADE_N n  \n",
       "1 3011        53\n",
       "2 4001       415\n",
       "3 4002       430\n",
       "4 4003       501\n",
       "5 4004       535\n",
       "6 4005       625"
      ]
     },
     "metadata": {},
     "output_type": "display_data"
    }
   ],
   "source": [
    "# remove information that is not coherent\n",
    "\n",
    "data %>% filter(!(NU_IDADE_N > 3012 & NU_IDADE_N < 4000)) %>% filter(NU_IDADE_N> 3010) %>% \n",
    "    count(NU_IDADE_N) %>% head\n",
    "\n",
    "data %>% filter(!(NU_IDADE_N > 3012 & NU_IDADE_N < 4000)) ->data\n"
   ]
  },
  {
   "cell_type": "code",
   "execution_count": 10,
   "id": "e7190f19",
   "metadata": {},
   "outputs": [
    {
     "data": {
      "text/html": [
       "<table class=\"dataframe\">\n",
       "<caption>A data.frame: 6 × 2</caption>\n",
       "<thead>\n",
       "\t<tr><th></th><th scope=col>age</th><th scope=col>NU_IDADE_N</th></tr>\n",
       "\t<tr><th></th><th scope=col>&lt;dbl&gt;</th><th scope=col>&lt;dbl&gt;</th></tr>\n",
       "</thead>\n",
       "<tbody>\n",
       "\t<tr><th scope=row>1</th><td>48</td><td>4048</td></tr>\n",
       "\t<tr><th scope=row>2</th><td> 7</td><td>4007</td></tr>\n",
       "\t<tr><th scope=row>3</th><td>26</td><td>4026</td></tr>\n",
       "\t<tr><th scope=row>4</th><td>44</td><td>4044</td></tr>\n",
       "\t<tr><th scope=row>5</th><td> 8</td><td>4008</td></tr>\n",
       "\t<tr><th scope=row>6</th><td>11</td><td>4011</td></tr>\n",
       "</tbody>\n",
       "</table>\n"
      ],
      "text/latex": [
       "A data.frame: 6 × 2\n",
       "\\begin{tabular}{r|ll}\n",
       "  & age & NU\\_IDADE\\_N\\\\\n",
       "  & <dbl> & <dbl>\\\\\n",
       "\\hline\n",
       "\t1 & 48 & 4048\\\\\n",
       "\t2 &  7 & 4007\\\\\n",
       "\t3 & 26 & 4026\\\\\n",
       "\t4 & 44 & 4044\\\\\n",
       "\t5 &  8 & 4008\\\\\n",
       "\t6 & 11 & 4011\\\\\n",
       "\\end{tabular}\n"
      ],
      "text/markdown": [
       "\n",
       "A data.frame: 6 × 2\n",
       "\n",
       "| <!--/--> | age &lt;dbl&gt; | NU_IDADE_N &lt;dbl&gt; |\n",
       "|---|---|---|\n",
       "| 1 | 48 | 4048 |\n",
       "| 2 |  7 | 4007 |\n",
       "| 3 | 26 | 4026 |\n",
       "| 4 | 44 | 4044 |\n",
       "| 5 |  8 | 4008 |\n",
       "| 6 | 11 | 4011 |\n",
       "\n"
      ],
      "text/plain": [
       "  age NU_IDADE_N\n",
       "1 48  4048      \n",
       "2  7  4007      \n",
       "3 26  4026      \n",
       "4 44  4044      \n",
       "5  8  4008      \n",
       "6 11  4011      "
      ]
     },
     "metadata": {},
     "output_type": "display_data"
    }
   ],
   "source": [
    "# transform in years \n",
    "\n",
    "# if is less than 4000 the patient has not complete one year\n",
    "data %>% mutate(age = ifelse(NU_IDADE_N < 4000, 0, (NU_IDADE_N - round(NU_IDADE_N, -2)))) %>% \n",
    "    select(age, NU_IDADE_N) %>% head\n",
    "\n",
    "data %>% mutate(age = ifelse(NU_IDADE_N < 4000, 0, (NU_IDADE_N - 4000))) -> data"
   ]
  },
  {
   "cell_type": "code",
   "execution_count": 11,
   "id": "66ed80e2",
   "metadata": {},
   "outputs": [
    {
     "data": {
      "text/html": [
       "<table class=\"dataframe\">\n",
       "<caption>A data.frame: 6 × 2</caption>\n",
       "<thead>\n",
       "\t<tr><th scope=col>EVOLUCAO</th><th scope=col>n</th></tr>\n",
       "\t<tr><th scope=col>&lt;int&gt;</th><th scope=col>&lt;int&gt;</th></tr>\n",
       "</thead>\n",
       "<tbody>\n",
       "\t<tr><td> 1</td><td>62702</td></tr>\n",
       "\t<tr><td> 2</td><td>   30</td></tr>\n",
       "\t<tr><td> 3</td><td>  166</td></tr>\n",
       "\t<tr><td> 4</td><td>   21</td></tr>\n",
       "\t<tr><td> 9</td><td> 5286</td></tr>\n",
       "\t<tr><td>NA</td><td>34142</td></tr>\n",
       "</tbody>\n",
       "</table>\n"
      ],
      "text/latex": [
       "A data.frame: 6 × 2\n",
       "\\begin{tabular}{ll}\n",
       " EVOLUCAO & n\\\\\n",
       " <int> & <int>\\\\\n",
       "\\hline\n",
       "\t  1 & 62702\\\\\n",
       "\t  2 &    30\\\\\n",
       "\t  3 &   166\\\\\n",
       "\t  4 &    21\\\\\n",
       "\t  9 &  5286\\\\\n",
       "\t NA & 34142\\\\\n",
       "\\end{tabular}\n"
      ],
      "text/markdown": [
       "\n",
       "A data.frame: 6 × 2\n",
       "\n",
       "| EVOLUCAO &lt;int&gt; | n &lt;int&gt; |\n",
       "|---|---|\n",
       "|  1 | 62702 |\n",
       "|  2 |    30 |\n",
       "|  3 |   166 |\n",
       "|  4 |    21 |\n",
       "|  9 |  5286 |\n",
       "| NA | 34142 |\n",
       "\n"
      ],
      "text/plain": [
       "  EVOLUCAO n    \n",
       "1  1       62702\n",
       "2  2          30\n",
       "3  3         166\n",
       "4  4          21\n",
       "5  9        5286\n",
       "6 NA       34142"
      ]
     },
     "metadata": {},
     "output_type": "display_data"
    },
    {
     "data": {
      "text/html": [
       "<table class=\"dataframe\">\n",
       "<caption>A data.frame: 4 × 2</caption>\n",
       "<thead>\n",
       "\t<tr><th scope=col>HOSPITALIZ</th><th scope=col>n</th></tr>\n",
       "\t<tr><th scope=col>&lt;int&gt;</th><th scope=col>&lt;int&gt;</th></tr>\n",
       "</thead>\n",
       "<tbody>\n",
       "\t<tr><td> 1</td><td> 3217</td></tr>\n",
       "\t<tr><td> 2</td><td>49738</td></tr>\n",
       "\t<tr><td> 9</td><td> 1806</td></tr>\n",
       "\t<tr><td>NA</td><td>47586</td></tr>\n",
       "</tbody>\n",
       "</table>\n"
      ],
      "text/latex": [
       "A data.frame: 4 × 2\n",
       "\\begin{tabular}{ll}\n",
       " HOSPITALIZ & n\\\\\n",
       " <int> & <int>\\\\\n",
       "\\hline\n",
       "\t  1 &  3217\\\\\n",
       "\t  2 & 49738\\\\\n",
       "\t  9 &  1806\\\\\n",
       "\t NA & 47586\\\\\n",
       "\\end{tabular}\n"
      ],
      "text/markdown": [
       "\n",
       "A data.frame: 4 × 2\n",
       "\n",
       "| HOSPITALIZ &lt;int&gt; | n &lt;int&gt; |\n",
       "|---|---|\n",
       "|  1 |  3217 |\n",
       "|  2 | 49738 |\n",
       "|  9 |  1806 |\n",
       "| NA | 47586 |\n",
       "\n"
      ],
      "text/plain": [
       "  HOSPITALIZ n    \n",
       "1  1          3217\n",
       "2  2         49738\n",
       "3  9          1806\n",
       "4 NA         47586"
      ]
     },
     "metadata": {},
     "output_type": "display_data"
    },
    {
     "data": {
      "text/html": [
       "<style>\n",
       ".list-inline {list-style: none; margin:0; padding: 0}\n",
       ".list-inline>li {display: inline-block}\n",
       ".list-inline>li:not(:last-child)::after {content: \"\\00b7\"; padding: 0 .5ex}\n",
       "</style>\n",
       "<ol class=list-inline><li>102347</li><li>117</li></ol>\n"
      ],
      "text/latex": [
       "\\begin{enumerate*}\n",
       "\\item 102347\n",
       "\\item 117\n",
       "\\end{enumerate*}\n"
      ],
      "text/markdown": [
       "1. 102347\n",
       "2. 117\n",
       "\n",
       "\n"
      ],
      "text/plain": [
       "[1] 102347    117"
      ]
     },
     "metadata": {},
     "output_type": "display_data"
    }
   ],
   "source": [
    "# inspect possible target features\n",
    "\n",
    "data %>% count(EVOLUCAO)\n",
    "data %>% count(HOSPITALIZ)\n",
    "\n",
    "data %>% dim"
   ]
  },
  {
   "cell_type": "code",
   "execution_count": 12,
   "id": "790587de",
   "metadata": {},
   "outputs": [
    {
     "data": {
      "text/html": [
       "<style>\n",
       ".list-inline {list-style: none; margin:0; padding: 0}\n",
       ".list-inline>li {display: inline-block}\n",
       ".list-inline>li:not(:last-child)::after {content: \"\\00b7\"; padding: 0 .5ex}\n",
       "</style>\n",
       "<ol class=list-inline><li>292</li><li>1</li></ol>\n"
      ],
      "text/latex": [
       "\\begin{enumerate*}\n",
       "\\item 292\n",
       "\\item 1\n",
       "\\end{enumerate*}\n"
      ],
      "text/markdown": [
       "1. 292\n",
       "2. 1\n",
       "\n",
       "\n"
      ],
      "text/plain": [
       "[1] 292   1"
      ]
     },
     "metadata": {},
     "output_type": "display_data"
    },
    {
     "data": {
      "text/html": [
       "<style>\n",
       ".list-inline {list-style: none; margin:0; padding: 0}\n",
       ".list-inline>li {display: inline-block}\n",
       ".list-inline>li:not(:last-child)::after {content: \"\\00b7\"; padding: 0 .5ex}\n",
       "</style>\n",
       "<ol class=list-inline><li>2063</li><li>1</li></ol>\n"
      ],
      "text/latex": [
       "\\begin{enumerate*}\n",
       "\\item 2063\n",
       "\\item 1\n",
       "\\end{enumerate*}\n"
      ],
      "text/markdown": [
       "1. 2063\n",
       "2. 1\n",
       "\n",
       "\n"
      ],
      "text/plain": [
       "[1] 2063    1"
      ]
     },
     "metadata": {},
     "output_type": "display_data"
    },
    {
     "data": {
      "text/html": [
       "<style>\n",
       ".list-inline {list-style: none; margin:0; padding: 0}\n",
       ".list-inline>li {display: inline-block}\n",
       ".list-inline>li:not(:last-child)::after {content: \"\\00b7\"; padding: 0 .5ex}\n",
       "</style>\n",
       "<ol class=list-inline><li>27</li><li>1</li></ol>\n"
      ],
      "text/latex": [
       "\\begin{enumerate*}\n",
       "\\item 27\n",
       "\\item 1\n",
       "\\end{enumerate*}\n"
      ],
      "text/markdown": [
       "1. 27\n",
       "2. 1\n",
       "\n",
       "\n"
      ],
      "text/plain": [
       "[1] 27  1"
      ]
     },
     "metadata": {},
     "output_type": "display_data"
    },
    {
     "data": {
      "text/html": [
       "<style>\n",
       ".list-inline {list-style: none; margin:0; padding: 0}\n",
       ".list-inline>li {display: inline-block}\n",
       ".list-inline>li:not(:last-child)::after {content: \"\\00b7\"; padding: 0 .5ex}\n",
       "</style>\n",
       "<ol class=list-inline><li>27</li><li>1</li></ol>\n"
      ],
      "text/latex": [
       "\\begin{enumerate*}\n",
       "\\item 27\n",
       "\\item 1\n",
       "\\end{enumerate*}\n"
      ],
      "text/markdown": [
       "1. 27\n",
       "2. 1\n",
       "\n",
       "\n"
      ],
      "text/plain": [
       "[1] 27  1"
      ]
     },
     "metadata": {},
     "output_type": "display_data"
    },
    {
     "data": {
      "text/html": [
       "<style>\n",
       ".list-inline {list-style: none; margin:0; padding: 0}\n",
       ".list-inline>li {display: inline-block}\n",
       ".list-inline>li:not(:last-child)::after {content: \"\\00b7\"; padding: 0 .5ex}\n",
       "</style>\n",
       "<ol class=list-inline><li>2444</li><li>1</li></ol>\n"
      ],
      "text/latex": [
       "\\begin{enumerate*}\n",
       "\\item 2444\n",
       "\\item 1\n",
       "\\end{enumerate*}\n"
      ],
      "text/markdown": [
       "1. 2444\n",
       "2. 1\n",
       "\n",
       "\n"
      ],
      "text/plain": [
       "[1] 2444    1"
      ]
     },
     "metadata": {},
     "output_type": "display_data"
    },
    {
     "data": {
      "text/html": [
       "<style>\n",
       ".list-inline {list-style: none; margin:0; padding: 0}\n",
       ".list-inline>li {display: inline-block}\n",
       ".list-inline>li:not(:last-child)::after {content: \"\\00b7\"; padding: 0 .5ex}\n",
       "</style>\n",
       "<ol class=list-inline><li>1</li><li>1</li></ol>\n"
      ],
      "text/latex": [
       "\\begin{enumerate*}\n",
       "\\item 1\n",
       "\\item 1\n",
       "\\end{enumerate*}\n"
      ],
      "text/markdown": [
       "1. 1\n",
       "2. 1\n",
       "\n",
       "\n"
      ],
      "text/plain": [
       "[1] 1 1"
      ]
     },
     "metadata": {},
     "output_type": "display_data"
    },
    {
     "data": {
      "text/html": [
       "<style>\n",
       ".list-inline {list-style: none; margin:0; padding: 0}\n",
       ".list-inline>li {display: inline-block}\n",
       ".list-inline>li:not(:last-child)::after {content: \"\\00b7\"; padding: 0 .5ex}\n",
       "</style>\n",
       "<ol class=list-inline><li>300</li><li>1</li></ol>\n"
      ],
      "text/latex": [
       "\\begin{enumerate*}\n",
       "\\item 300\n",
       "\\item 1\n",
       "\\end{enumerate*}\n"
      ],
      "text/markdown": [
       "1. 300\n",
       "2. 1\n",
       "\n",
       "\n"
      ],
      "text/plain": [
       "[1] 300   1"
      ]
     },
     "metadata": {},
     "output_type": "display_data"
    },
    {
     "data": {
      "text/html": [
       "<style>\n",
       ".list-inline {list-style: none; margin:0; padding: 0}\n",
       ".list-inline>li {display: inline-block}\n",
       ".list-inline>li:not(:last-child)::after {content: \"\\00b7\"; padding: 0 .5ex}\n",
       "</style>\n",
       "<ol class=list-inline><li>8835</li><li>1</li></ol>\n"
      ],
      "text/latex": [
       "\\begin{enumerate*}\n",
       "\\item 8835\n",
       "\\item 1\n",
       "\\end{enumerate*}\n"
      ],
      "text/markdown": [
       "1. 8835\n",
       "2. 1\n",
       "\n",
       "\n"
      ],
      "text/plain": [
       "[1] 8835    1"
      ]
     },
     "metadata": {},
     "output_type": "display_data"
    },
    {
     "data": {
      "text/html": [
       "<style>\n",
       ".list-inline {list-style: none; margin:0; padding: 0}\n",
       ".list-inline>li {display: inline-block}\n",
       ".list-inline>li:not(:last-child)::after {content: \"\\00b7\"; padding: 0 .5ex}\n",
       "</style>\n",
       "<ol class=list-inline><li>28</li><li>1</li></ol>\n"
      ],
      "text/latex": [
       "\\begin{enumerate*}\n",
       "\\item 28\n",
       "\\item 1\n",
       "\\end{enumerate*}\n"
      ],
      "text/markdown": [
       "1. 28\n",
       "2. 1\n",
       "\n",
       "\n"
      ],
      "text/plain": [
       "[1] 28  1"
      ]
     },
     "metadata": {},
     "output_type": "display_data"
    },
    {
     "data": {
      "text/html": [
       "<style>\n",
       ".list-inline {list-style: none; margin:0; padding: 0}\n",
       ".list-inline>li {display: inline-block}\n",
       ".list-inline>li:not(:last-child)::after {content: \"\\00b7\"; padding: 0 .5ex}\n",
       "</style>\n",
       "<ol class=list-inline><li>423</li><li>1</li></ol>\n"
      ],
      "text/latex": [
       "\\begin{enumerate*}\n",
       "\\item 423\n",
       "\\item 1\n",
       "\\end{enumerate*}\n"
      ],
      "text/markdown": [
       "1. 423\n",
       "2. 1\n",
       "\n",
       "\n"
      ],
      "text/plain": [
       "[1] 423   1"
      ]
     },
     "metadata": {},
     "output_type": "display_data"
    }
   ],
   "source": [
    "# check how many regions, states and cities are present in the database\n",
    "\n",
    "data %>% select(ID_REGIONA) %>% unique %>% dim\n",
    "data %>% select(ID_MUNICIP) %>% unique %>% dim\n",
    "data %>% select(SG_UF_NOT) %>% unique %>% dim\n",
    "data %>% select(SG_UF) %>% unique %>% dim\n",
    "\n",
    "data %>% select(ID_MN_RESI) %>% unique %>% dim\n",
    "data %>% select(ID_PAIS) %>% unique %>% dim\n",
    "data %>% select(ID_RG_RESI) %>% unique %>% dim\n",
    "\n",
    "data %>% select(ID_UNIDADE) %>% unique %>% dim\n",
    "\n",
    "data %>% select(UF) %>% unique %>% dim\n",
    "data %>% select(MUNICIPIO) %>% unique %>% dim"
   ]
  },
  {
   "cell_type": "markdown",
   "id": "cc3420e7",
   "metadata": {},
   "source": [
    "### Delete columns"
   ]
  },
  {
   "cell_type": "code",
   "execution_count": 13,
   "id": "0997550e",
   "metadata": {},
   "outputs": [
    {
     "data": {
      "text/html": [
       "<table class=\"dataframe\">\n",
       "<caption>A data.frame: 4 × 2</caption>\n",
       "<thead>\n",
       "\t<tr><th scope=col>TPAUTOCTO</th><th scope=col>n</th></tr>\n",
       "\t<tr><th scope=col>&lt;int&gt;</th><th scope=col>&lt;int&gt;</th></tr>\n",
       "</thead>\n",
       "<tbody>\n",
       "\t<tr><td> 1</td><td>25699</td></tr>\n",
       "\t<tr><td> 2</td><td> 1598</td></tr>\n",
       "\t<tr><td> 3</td><td> 2630</td></tr>\n",
       "\t<tr><td>NA</td><td>72420</td></tr>\n",
       "</tbody>\n",
       "</table>\n"
      ],
      "text/latex": [
       "A data.frame: 4 × 2\n",
       "\\begin{tabular}{ll}\n",
       " TPAUTOCTO & n\\\\\n",
       " <int> & <int>\\\\\n",
       "\\hline\n",
       "\t  1 & 25699\\\\\n",
       "\t  2 &  1598\\\\\n",
       "\t  3 &  2630\\\\\n",
       "\t NA & 72420\\\\\n",
       "\\end{tabular}\n"
      ],
      "text/markdown": [
       "\n",
       "A data.frame: 4 × 2\n",
       "\n",
       "| TPAUTOCTO &lt;int&gt; | n &lt;int&gt; |\n",
       "|---|---|\n",
       "|  1 | 25699 |\n",
       "|  2 |  1598 |\n",
       "|  3 |  2630 |\n",
       "| NA | 72420 |\n",
       "\n"
      ],
      "text/plain": [
       "  TPAUTOCTO n    \n",
       "1  1        25699\n",
       "2  2         1598\n",
       "3  3         2630\n",
       "4 NA        72420"
      ]
     },
     "metadata": {},
     "output_type": "display_data"
    },
    {
     "data": {
      "text/html": [
       "<table class=\"dataframe\">\n",
       "<caption>A data.frame: 4 × 2</caption>\n",
       "<thead>\n",
       "\t<tr><th scope=col>COPAISINF</th><th scope=col>n</th></tr>\n",
       "\t<tr><th scope=col>&lt;int&gt;</th><th scope=col>&lt;int&gt;</th></tr>\n",
       "</thead>\n",
       "<tbody>\n",
       "\t<tr><td>  1</td><td>26068</td></tr>\n",
       "\t<tr><td> 77</td><td>    1</td></tr>\n",
       "\t<tr><td>126</td><td>    1</td></tr>\n",
       "\t<tr><td> NA</td><td>76277</td></tr>\n",
       "</tbody>\n",
       "</table>\n"
      ],
      "text/latex": [
       "A data.frame: 4 × 2\n",
       "\\begin{tabular}{ll}\n",
       " COPAISINF & n\\\\\n",
       " <int> & <int>\\\\\n",
       "\\hline\n",
       "\t   1 & 26068\\\\\n",
       "\t  77 &     1\\\\\n",
       "\t 126 &     1\\\\\n",
       "\t  NA & 76277\\\\\n",
       "\\end{tabular}\n"
      ],
      "text/markdown": [
       "\n",
       "A data.frame: 4 × 2\n",
       "\n",
       "| COPAISINF &lt;int&gt; | n &lt;int&gt; |\n",
       "|---|---|\n",
       "|   1 | 26068 |\n",
       "|  77 |     1 |\n",
       "| 126 |     1 |\n",
       "|  NA | 76277 |\n",
       "\n"
      ],
      "text/plain": [
       "  COPAISINF n    \n",
       "1   1       26068\n",
       "2  77           1\n",
       "3 126           1\n",
       "4  NA       76277"
      ]
     },
     "metadata": {},
     "output_type": "display_data"
    },
    {
     "data": {
      "text/html": [
       "<table class=\"dataframe\">\n",
       "<caption>A data.frame: 895 × 2</caption>\n",
       "<thead>\n",
       "\t<tr><th scope=col>COMUNINF</th><th scope=col>n</th></tr>\n",
       "\t<tr><th scope=col>&lt;int&gt;</th><th scope=col>&lt;int&gt;</th></tr>\n",
       "</thead>\n",
       "<tbody>\n",
       "\t<tr><td>110002</td><td>13</td></tr>\n",
       "\t<tr><td>110004</td><td>19</td></tr>\n",
       "\t<tr><td>110005</td><td> 4</td></tr>\n",
       "\t<tr><td>110009</td><td> 1</td></tr>\n",
       "\t<tr><td>110011</td><td> 2</td></tr>\n",
       "\t<tr><td>110012</td><td> 1</td></tr>\n",
       "\t<tr><td>110015</td><td> 2</td></tr>\n",
       "\t<tr><td>110020</td><td>12</td></tr>\n",
       "\t<tr><td>110025</td><td> 2</td></tr>\n",
       "\t<tr><td>110029</td><td> 1</td></tr>\n",
       "\t<tr><td>110030</td><td>12</td></tr>\n",
       "\t<tr><td>110033</td><td> 2</td></tr>\n",
       "\t<tr><td>110037</td><td> 6</td></tr>\n",
       "\t<tr><td>110120</td><td> 1</td></tr>\n",
       "\t<tr><td>110147</td><td> 1</td></tr>\n",
       "\t<tr><td>120020</td><td> 7</td></tr>\n",
       "\t<tr><td>120033</td><td> 3</td></tr>\n",
       "\t<tr><td>120040</td><td> 3</td></tr>\n",
       "\t<tr><td>120060</td><td> 1</td></tr>\n",
       "\t<tr><td>130260</td><td> 8</td></tr>\n",
       "\t<tr><td>130380</td><td> 1</td></tr>\n",
       "\t<tr><td>140002</td><td> 1</td></tr>\n",
       "\t<tr><td>140010</td><td> 5</td></tr>\n",
       "\t<tr><td>140050</td><td> 1</td></tr>\n",
       "\t<tr><td>150010</td><td> 3</td></tr>\n",
       "\t<tr><td>150060</td><td>12</td></tr>\n",
       "\t<tr><td>150080</td><td> 2</td></tr>\n",
       "\t<tr><td>150130</td><td> 6</td></tr>\n",
       "\t<tr><td>150140</td><td> 3</td></tr>\n",
       "\t<tr><td>150170</td><td> 2</td></tr>\n",
       "\t<tr><td>⋮</td><td>⋮</td></tr>\n",
       "\t<tr><td>510622</td><td>    1</td></tr>\n",
       "\t<tr><td>510623</td><td>    1</td></tr>\n",
       "\t<tr><td>510625</td><td>    1</td></tr>\n",
       "\t<tr><td>510627</td><td>    2</td></tr>\n",
       "\t<tr><td>510642</td><td>    2</td></tr>\n",
       "\t<tr><td>510645</td><td>    1</td></tr>\n",
       "\t<tr><td>510675</td><td>    1</td></tr>\n",
       "\t<tr><td>510704</td><td>   29</td></tr>\n",
       "\t<tr><td>510706</td><td>    5</td></tr>\n",
       "\t<tr><td>510715</td><td>    1</td></tr>\n",
       "\t<tr><td>510730</td><td>    4</td></tr>\n",
       "\t<tr><td>510790</td><td>    1</td></tr>\n",
       "\t<tr><td>510792</td><td>    1</td></tr>\n",
       "\t<tr><td>510795</td><td>    6</td></tr>\n",
       "\t<tr><td>510805</td><td>    3</td></tr>\n",
       "\t<tr><td>510830</td><td>    1</td></tr>\n",
       "\t<tr><td>510840</td><td>   52</td></tr>\n",
       "\t<tr><td>510850</td><td>    2</td></tr>\n",
       "\t<tr><td>510880</td><td>    1</td></tr>\n",
       "\t<tr><td>520060</td><td>    1</td></tr>\n",
       "\t<tr><td>520140</td><td>    1</td></tr>\n",
       "\t<tr><td>520350</td><td>    1</td></tr>\n",
       "\t<tr><td>520910</td><td>    1</td></tr>\n",
       "\t<tr><td>521020</td><td>    1</td></tr>\n",
       "\t<tr><td>521980</td><td>    1</td></tr>\n",
       "\t<tr><td>522040</td><td>    1</td></tr>\n",
       "\t<tr><td>522060</td><td>    1</td></tr>\n",
       "\t<tr><td>522170</td><td>    1</td></tr>\n",
       "\t<tr><td>530010</td><td>    6</td></tr>\n",
       "\t<tr><td>    NA</td><td>76390</td></tr>\n",
       "</tbody>\n",
       "</table>\n"
      ],
      "text/latex": [
       "A data.frame: 895 × 2\n",
       "\\begin{tabular}{ll}\n",
       " COMUNINF & n\\\\\n",
       " <int> & <int>\\\\\n",
       "\\hline\n",
       "\t 110002 & 13\\\\\n",
       "\t 110004 & 19\\\\\n",
       "\t 110005 &  4\\\\\n",
       "\t 110009 &  1\\\\\n",
       "\t 110011 &  2\\\\\n",
       "\t 110012 &  1\\\\\n",
       "\t 110015 &  2\\\\\n",
       "\t 110020 & 12\\\\\n",
       "\t 110025 &  2\\\\\n",
       "\t 110029 &  1\\\\\n",
       "\t 110030 & 12\\\\\n",
       "\t 110033 &  2\\\\\n",
       "\t 110037 &  6\\\\\n",
       "\t 110120 &  1\\\\\n",
       "\t 110147 &  1\\\\\n",
       "\t 120020 &  7\\\\\n",
       "\t 120033 &  3\\\\\n",
       "\t 120040 &  3\\\\\n",
       "\t 120060 &  1\\\\\n",
       "\t 130260 &  8\\\\\n",
       "\t 130380 &  1\\\\\n",
       "\t 140002 &  1\\\\\n",
       "\t 140010 &  5\\\\\n",
       "\t 140050 &  1\\\\\n",
       "\t 150010 &  3\\\\\n",
       "\t 150060 & 12\\\\\n",
       "\t 150080 &  2\\\\\n",
       "\t 150130 &  6\\\\\n",
       "\t 150140 &  3\\\\\n",
       "\t 150170 &  2\\\\\n",
       "\t ⋮ & ⋮\\\\\n",
       "\t 510622 &     1\\\\\n",
       "\t 510623 &     1\\\\\n",
       "\t 510625 &     1\\\\\n",
       "\t 510627 &     2\\\\\n",
       "\t 510642 &     2\\\\\n",
       "\t 510645 &     1\\\\\n",
       "\t 510675 &     1\\\\\n",
       "\t 510704 &    29\\\\\n",
       "\t 510706 &     5\\\\\n",
       "\t 510715 &     1\\\\\n",
       "\t 510730 &     4\\\\\n",
       "\t 510790 &     1\\\\\n",
       "\t 510792 &     1\\\\\n",
       "\t 510795 &     6\\\\\n",
       "\t 510805 &     3\\\\\n",
       "\t 510830 &     1\\\\\n",
       "\t 510840 &    52\\\\\n",
       "\t 510850 &     2\\\\\n",
       "\t 510880 &     1\\\\\n",
       "\t 520060 &     1\\\\\n",
       "\t 520140 &     1\\\\\n",
       "\t 520350 &     1\\\\\n",
       "\t 520910 &     1\\\\\n",
       "\t 521020 &     1\\\\\n",
       "\t 521980 &     1\\\\\n",
       "\t 522040 &     1\\\\\n",
       "\t 522060 &     1\\\\\n",
       "\t 522170 &     1\\\\\n",
       "\t 530010 &     6\\\\\n",
       "\t     NA & 76390\\\\\n",
       "\\end{tabular}\n"
      ],
      "text/markdown": [
       "\n",
       "A data.frame: 895 × 2\n",
       "\n",
       "| COMUNINF &lt;int&gt; | n &lt;int&gt; |\n",
       "|---|---|\n",
       "| 110002 | 13 |\n",
       "| 110004 | 19 |\n",
       "| 110005 |  4 |\n",
       "| 110009 |  1 |\n",
       "| 110011 |  2 |\n",
       "| 110012 |  1 |\n",
       "| 110015 |  2 |\n",
       "| 110020 | 12 |\n",
       "| 110025 |  2 |\n",
       "| 110029 |  1 |\n",
       "| 110030 | 12 |\n",
       "| 110033 |  2 |\n",
       "| 110037 |  6 |\n",
       "| 110120 |  1 |\n",
       "| 110147 |  1 |\n",
       "| 120020 |  7 |\n",
       "| 120033 |  3 |\n",
       "| 120040 |  3 |\n",
       "| 120060 |  1 |\n",
       "| 130260 |  8 |\n",
       "| 130380 |  1 |\n",
       "| 140002 |  1 |\n",
       "| 140010 |  5 |\n",
       "| 140050 |  1 |\n",
       "| 150010 |  3 |\n",
       "| 150060 | 12 |\n",
       "| 150080 |  2 |\n",
       "| 150130 |  6 |\n",
       "| 150140 |  3 |\n",
       "| 150170 |  2 |\n",
       "| ⋮ | ⋮ |\n",
       "| 510622 |     1 |\n",
       "| 510623 |     1 |\n",
       "| 510625 |     1 |\n",
       "| 510627 |     2 |\n",
       "| 510642 |     2 |\n",
       "| 510645 |     1 |\n",
       "| 510675 |     1 |\n",
       "| 510704 |    29 |\n",
       "| 510706 |     5 |\n",
       "| 510715 |     1 |\n",
       "| 510730 |     4 |\n",
       "| 510790 |     1 |\n",
       "| 510792 |     1 |\n",
       "| 510795 |     6 |\n",
       "| 510805 |     3 |\n",
       "| 510830 |     1 |\n",
       "| 510840 |    52 |\n",
       "| 510850 |     2 |\n",
       "| 510880 |     1 |\n",
       "| 520060 |     1 |\n",
       "| 520140 |     1 |\n",
       "| 520350 |     1 |\n",
       "| 520910 |     1 |\n",
       "| 521020 |     1 |\n",
       "| 521980 |     1 |\n",
       "| 522040 |     1 |\n",
       "| 522060 |     1 |\n",
       "| 522170 |     1 |\n",
       "| 530010 |     6 |\n",
       "|     NA | 76390 |\n",
       "\n"
      ],
      "text/plain": [
       "    COMUNINF n    \n",
       "1   110002   13   \n",
       "2   110004   19   \n",
       "3   110005    4   \n",
       "4   110009    1   \n",
       "5   110011    2   \n",
       "6   110012    1   \n",
       "7   110015    2   \n",
       "8   110020   12   \n",
       "9   110025    2   \n",
       "10  110029    1   \n",
       "11  110030   12   \n",
       "12  110033    2   \n",
       "13  110037    6   \n",
       "14  110120    1   \n",
       "15  110147    1   \n",
       "16  120020    7   \n",
       "17  120033    3   \n",
       "18  120040    3   \n",
       "19  120060    1   \n",
       "20  130260    8   \n",
       "21  130380    1   \n",
       "22  140002    1   \n",
       "23  140010    5   \n",
       "24  140050    1   \n",
       "25  150010    3   \n",
       "26  150060   12   \n",
       "27  150080    2   \n",
       "28  150130    6   \n",
       "29  150140    3   \n",
       "30  150170    2   \n",
       "⋮   ⋮        ⋮    \n",
       "866 510622       1\n",
       "867 510623       1\n",
       "868 510625       1\n",
       "869 510627       2\n",
       "870 510642       2\n",
       "871 510645       1\n",
       "872 510675       1\n",
       "873 510704      29\n",
       "874 510706       5\n",
       "875 510715       1\n",
       "876 510730       4\n",
       "877 510790       1\n",
       "878 510792       1\n",
       "879 510795       6\n",
       "880 510805       3\n",
       "881 510830       1\n",
       "882 510840      52\n",
       "883 510850       2\n",
       "884 510880       1\n",
       "885 520060       1\n",
       "886 520140       1\n",
       "887 520350       1\n",
       "888 520910       1\n",
       "889 521020       1\n",
       "890 521980       1\n",
       "891 522040       1\n",
       "892 522060       1\n",
       "893 522170       1\n",
       "894 530010       6\n",
       "895     NA   76390"
      ]
     },
     "metadata": {},
     "output_type": "display_data"
    },
    {
     "data": {
      "text/html": [
       "<table class=\"dataframe\">\n",
       "<caption>A data.frame: 2 × 2</caption>\n",
       "<thead>\n",
       "\t<tr><th scope=col>TP_SISTEMA</th><th scope=col>n</th></tr>\n",
       "\t<tr><th scope=col>&lt;int&gt;</th><th scope=col>&lt;int&gt;</th></tr>\n",
       "</thead>\n",
       "<tbody>\n",
       "\t<tr><td> 2</td><td>100675</td></tr>\n",
       "\t<tr><td>NA</td><td>  1672</td></tr>\n",
       "</tbody>\n",
       "</table>\n"
      ],
      "text/latex": [
       "A data.frame: 2 × 2\n",
       "\\begin{tabular}{ll}\n",
       " TP\\_SISTEMA & n\\\\\n",
       " <int> & <int>\\\\\n",
       "\\hline\n",
       "\t  2 & 100675\\\\\n",
       "\t NA &   1672\\\\\n",
       "\\end{tabular}\n"
      ],
      "text/markdown": [
       "\n",
       "A data.frame: 2 × 2\n",
       "\n",
       "| TP_SISTEMA &lt;int&gt; | n &lt;int&gt; |\n",
       "|---|---|\n",
       "|  2 | 100675 |\n",
       "| NA |   1672 |\n",
       "\n"
      ],
      "text/plain": [
       "  TP_SISTEMA n     \n",
       "1  2         100675\n",
       "2 NA           1672"
      ]
     },
     "metadata": {},
     "output_type": "display_data"
    },
    {
     "data": {
      "text/html": [
       "<table class=\"dataframe\">\n",
       "<caption>A data.frame: 2 × 2</caption>\n",
       "<thead>\n",
       "\t<tr><th scope=col>NDUPLIC_N</th><th scope=col>n</th></tr>\n",
       "\t<tr><th scope=col>&lt;int&gt;</th><th scope=col>&lt;int&gt;</th></tr>\n",
       "</thead>\n",
       "<tbody>\n",
       "\t<tr><td> 1</td><td>    19</td></tr>\n",
       "\t<tr><td>NA</td><td>102328</td></tr>\n",
       "</tbody>\n",
       "</table>\n"
      ],
      "text/latex": [
       "A data.frame: 2 × 2\n",
       "\\begin{tabular}{ll}\n",
       " NDUPLIC\\_N & n\\\\\n",
       " <int> & <int>\\\\\n",
       "\\hline\n",
       "\t  1 &     19\\\\\n",
       "\t NA & 102328\\\\\n",
       "\\end{tabular}\n"
      ],
      "text/markdown": [
       "\n",
       "A data.frame: 2 × 2\n",
       "\n",
       "| NDUPLIC_N &lt;int&gt; | n &lt;int&gt; |\n",
       "|---|---|\n",
       "|  1 |     19 |\n",
       "| NA | 102328 |\n",
       "\n"
      ],
      "text/plain": [
       "  NDUPLIC_N n     \n",
       "1  1            19\n",
       "2 NA        102328"
      ]
     },
     "metadata": {},
     "output_type": "display_data"
    },
    {
     "data": {
      "text/html": [
       "<table class=\"dataframe\">\n",
       "<caption>A data.frame: 1 × 2</caption>\n",
       "<thead>\n",
       "\t<tr><th scope=col>COMPLICA</th><th scope=col>n</th></tr>\n",
       "\t<tr><th scope=col>&lt;lgl&gt;</th><th scope=col>&lt;int&gt;</th></tr>\n",
       "</thead>\n",
       "<tbody>\n",
       "\t<tr><td>NA</td><td>102347</td></tr>\n",
       "</tbody>\n",
       "</table>\n"
      ],
      "text/latex": [
       "A data.frame: 1 × 2\n",
       "\\begin{tabular}{ll}\n",
       " COMPLICA & n\\\\\n",
       " <lgl> & <int>\\\\\n",
       "\\hline\n",
       "\t NA & 102347\\\\\n",
       "\\end{tabular}\n"
      ],
      "text/markdown": [
       "\n",
       "A data.frame: 1 × 2\n",
       "\n",
       "| COMPLICA &lt;lgl&gt; | n &lt;int&gt; |\n",
       "|---|---|\n",
       "| NA | 102347 |\n",
       "\n"
      ],
      "text/plain": [
       "  COMPLICA n     \n",
       "1 NA       102347"
      ]
     },
     "metadata": {},
     "output_type": "display_data"
    },
    {
     "data": {
      "text/html": [
       "<table class=\"dataframe\">\n",
       "<caption>A data.frame: 1 × 2</caption>\n",
       "<thead>\n",
       "\t<tr><th scope=col>CON_FHD</th><th scope=col>n</th></tr>\n",
       "\t<tr><th scope=col>&lt;lgl&gt;</th><th scope=col>&lt;int&gt;</th></tr>\n",
       "</thead>\n",
       "<tbody>\n",
       "\t<tr><td>NA</td><td>102347</td></tr>\n",
       "</tbody>\n",
       "</table>\n"
      ],
      "text/latex": [
       "A data.frame: 1 × 2\n",
       "\\begin{tabular}{ll}\n",
       " CON\\_FHD & n\\\\\n",
       " <lgl> & <int>\\\\\n",
       "\\hline\n",
       "\t NA & 102347\\\\\n",
       "\\end{tabular}\n"
      ],
      "text/markdown": [
       "\n",
       "A data.frame: 1 × 2\n",
       "\n",
       "| CON_FHD &lt;lgl&gt; | n &lt;int&gt; |\n",
       "|---|---|\n",
       "| NA | 102347 |\n",
       "\n"
      ],
      "text/plain": [
       "  CON_FHD n     \n",
       "1 NA      102347"
      ]
     },
     "metadata": {},
     "output_type": "display_data"
    },
    {
     "data": {
      "text/html": [
       "<table class=\"dataframe\">\n",
       "<caption>A data.frame: 1 × 2</caption>\n",
       "<thead>\n",
       "\t<tr><th scope=col>SOROTIPO</th><th scope=col>n</th></tr>\n",
       "\t<tr><th scope=col>&lt;lgl&gt;</th><th scope=col>&lt;int&gt;</th></tr>\n",
       "</thead>\n",
       "<tbody>\n",
       "\t<tr><td>NA</td><td>102347</td></tr>\n",
       "</tbody>\n",
       "</table>\n"
      ],
      "text/latex": [
       "A data.frame: 1 × 2\n",
       "\\begin{tabular}{ll}\n",
       " SOROTIPO & n\\\\\n",
       " <lgl> & <int>\\\\\n",
       "\\hline\n",
       "\t NA & 102347\\\\\n",
       "\\end{tabular}\n"
      ],
      "text/markdown": [
       "\n",
       "A data.frame: 1 × 2\n",
       "\n",
       "| SOROTIPO &lt;lgl&gt; | n &lt;int&gt; |\n",
       "|---|---|\n",
       "| NA | 102347 |\n",
       "\n"
      ],
      "text/plain": [
       "  SOROTIPO n     \n",
       "1 NA       102347"
      ]
     },
     "metadata": {},
     "output_type": "display_data"
    },
    {
     "data": {
      "text/html": [
       "<table class=\"dataframe\">\n",
       "<caption>A data.frame: 2 × 2</caption>\n",
       "<thead>\n",
       "\t<tr><th scope=col>HISTOPA_N</th><th scope=col>n</th></tr>\n",
       "\t<tr><th scope=col>&lt;int&gt;</th><th scope=col>&lt;int&gt;</th></tr>\n",
       "</thead>\n",
       "<tbody>\n",
       "\t<tr><td> 4</td><td>    23</td></tr>\n",
       "\t<tr><td>NA</td><td>102324</td></tr>\n",
       "</tbody>\n",
       "</table>\n"
      ],
      "text/latex": [
       "A data.frame: 2 × 2\n",
       "\\begin{tabular}{ll}\n",
       " HISTOPA\\_N & n\\\\\n",
       " <int> & <int>\\\\\n",
       "\\hline\n",
       "\t  4 &     23\\\\\n",
       "\t NA & 102324\\\\\n",
       "\\end{tabular}\n"
      ],
      "text/markdown": [
       "\n",
       "A data.frame: 2 × 2\n",
       "\n",
       "| HISTOPA_N &lt;int&gt; | n &lt;int&gt; |\n",
       "|---|---|\n",
       "|  4 |     23 |\n",
       "| NA | 102324 |\n",
       "\n"
      ],
      "text/plain": [
       "  HISTOPA_N n     \n",
       "1  4            23\n",
       "2 NA        102324"
      ]
     },
     "metadata": {},
     "output_type": "display_data"
    },
    {
     "data": {
      "text/html": [
       "<table class=\"dataframe\">\n",
       "<caption>A data.frame: 2 × 2</caption>\n",
       "<thead>\n",
       "\t<tr><th scope=col>IMUNOH_N</th><th scope=col>n</th></tr>\n",
       "\t<tr><th scope=col>&lt;int&gt;</th><th scope=col>&lt;int&gt;</th></tr>\n",
       "</thead>\n",
       "<tbody>\n",
       "\t<tr><td> 4</td><td>    23</td></tr>\n",
       "\t<tr><td>NA</td><td>102324</td></tr>\n",
       "</tbody>\n",
       "</table>\n"
      ],
      "text/latex": [
       "A data.frame: 2 × 2\n",
       "\\begin{tabular}{ll}\n",
       " IMUNOH\\_N & n\\\\\n",
       " <int> & <int>\\\\\n",
       "\\hline\n",
       "\t  4 &     23\\\\\n",
       "\t NA & 102324\\\\\n",
       "\\end{tabular}\n"
      ],
      "text/markdown": [
       "\n",
       "A data.frame: 2 × 2\n",
       "\n",
       "| IMUNOH_N &lt;int&gt; | n &lt;int&gt; |\n",
       "|---|---|\n",
       "|  4 |     23 |\n",
       "| NA | 102324 |\n",
       "\n"
      ],
      "text/plain": [
       "  IMUNOH_N n     \n",
       "1  4           23\n",
       "2 NA       102324"
      ]
     },
     "metadata": {},
     "output_type": "display_data"
    },
    {
     "data": {
      "text/html": [
       "<table class=\"dataframe\">\n",
       "<caption>A data.frame: 1 × 2</caption>\n",
       "<thead>\n",
       "\t<tr><th scope=col>DOENCA_TRA</th><th scope=col>n</th></tr>\n",
       "\t<tr><th scope=col>&lt;lgl&gt;</th><th scope=col>&lt;int&gt;</th></tr>\n",
       "</thead>\n",
       "<tbody>\n",
       "\t<tr><td>NA</td><td>102347</td></tr>\n",
       "</tbody>\n",
       "</table>\n"
      ],
      "text/latex": [
       "A data.frame: 1 × 2\n",
       "\\begin{tabular}{ll}\n",
       " DOENCA\\_TRA & n\\\\\n",
       " <lgl> & <int>\\\\\n",
       "\\hline\n",
       "\t NA & 102347\\\\\n",
       "\\end{tabular}\n"
      ],
      "text/markdown": [
       "\n",
       "A data.frame: 1 × 2\n",
       "\n",
       "| DOENCA_TRA &lt;lgl&gt; | n &lt;int&gt; |\n",
       "|---|---|\n",
       "| NA | 102347 |\n",
       "\n"
      ],
      "text/plain": [
       "  DOENCA_TRA n     \n",
       "1 NA         102347"
      ]
     },
     "metadata": {},
     "output_type": "display_data"
    },
    {
     "data": {
      "text/html": [
       "<table class=\"dataframe\">\n",
       "<caption>A data.frame: 1 × 2</caption>\n",
       "<thead>\n",
       "\t<tr><th scope=col>ALRM_HIPOT</th><th scope=col>n</th></tr>\n",
       "\t<tr><th scope=col>&lt;lgl&gt;</th><th scope=col>&lt;int&gt;</th></tr>\n",
       "</thead>\n",
       "<tbody>\n",
       "\t<tr><td>NA</td><td>102347</td></tr>\n",
       "</tbody>\n",
       "</table>\n"
      ],
      "text/latex": [
       "A data.frame: 1 × 2\n",
       "\\begin{tabular}{ll}\n",
       " ALRM\\_HIPOT & n\\\\\n",
       " <lgl> & <int>\\\\\n",
       "\\hline\n",
       "\t NA & 102347\\\\\n",
       "\\end{tabular}\n"
      ],
      "text/markdown": [
       "\n",
       "A data.frame: 1 × 2\n",
       "\n",
       "| ALRM_HIPOT &lt;lgl&gt; | n &lt;int&gt; |\n",
       "|---|---|\n",
       "| NA | 102347 |\n",
       "\n"
      ],
      "text/plain": [
       "  ALRM_HIPOT n     \n",
       "1 NA         102347"
      ]
     },
     "metadata": {},
     "output_type": "display_data"
    },
    {
     "data": {
      "text/html": [
       "<table class=\"dataframe\">\n",
       "<caption>A data.frame: 1 × 2</caption>\n",
       "<thead>\n",
       "\t<tr><th scope=col>TP_NOT</th><th scope=col>n</th></tr>\n",
       "\t<tr><th scope=col>&lt;int&gt;</th><th scope=col>&lt;int&gt;</th></tr>\n",
       "</thead>\n",
       "<tbody>\n",
       "\t<tr><td>2</td><td>102347</td></tr>\n",
       "</tbody>\n",
       "</table>\n"
      ],
      "text/latex": [
       "A data.frame: 1 × 2\n",
       "\\begin{tabular}{ll}\n",
       " TP\\_NOT & n\\\\\n",
       " <int> & <int>\\\\\n",
       "\\hline\n",
       "\t 2 & 102347\\\\\n",
       "\\end{tabular}\n"
      ],
      "text/markdown": [
       "\n",
       "A data.frame: 1 × 2\n",
       "\n",
       "| TP_NOT &lt;int&gt; | n &lt;int&gt; |\n",
       "|---|---|\n",
       "| 2 | 102347 |\n",
       "\n"
      ],
      "text/plain": [
       "  TP_NOT n     \n",
       "1 2      102347"
      ]
     },
     "metadata": {},
     "output_type": "display_data"
    },
    {
     "data": {
      "text/html": [
       "<table class=\"dataframe\">\n",
       "<caption>A data.frame: 1 × 2</caption>\n",
       "<thead>\n",
       "\t<tr><th scope=col>ID_AGRAVO</th><th scope=col>n</th></tr>\n",
       "\t<tr><th scope=col>&lt;chr&gt;</th><th scope=col>&lt;int&gt;</th></tr>\n",
       "</thead>\n",
       "<tbody>\n",
       "\t<tr><td>A92.0</td><td>102347</td></tr>\n",
       "</tbody>\n",
       "</table>\n"
      ],
      "text/latex": [
       "A data.frame: 1 × 2\n",
       "\\begin{tabular}{ll}\n",
       " ID\\_AGRAVO & n\\\\\n",
       " <chr> & <int>\\\\\n",
       "\\hline\n",
       "\t A92.0 & 102347\\\\\n",
       "\\end{tabular}\n"
      ],
      "text/markdown": [
       "\n",
       "A data.frame: 1 × 2\n",
       "\n",
       "| ID_AGRAVO &lt;chr&gt; | n &lt;int&gt; |\n",
       "|---|---|\n",
       "| A92.0 | 102347 |\n",
       "\n"
      ],
      "text/plain": [
       "  ID_AGRAVO n     \n",
       "1 A92.0     102347"
      ]
     },
     "metadata": {},
     "output_type": "display_data"
    },
    {
     "data": {
      "text/html": [
       "<table class=\"dataframe\">\n",
       "<caption>A data.frame: 3 × 2</caption>\n",
       "<thead>\n",
       "\t<tr><th scope=col>NU_ANO</th><th scope=col>n</th></tr>\n",
       "\t<tr><th scope=col>&lt;int&gt;</th><th scope=col>&lt;int&gt;</th></tr>\n",
       "</thead>\n",
       "<tbody>\n",
       "\t<tr><td>2019</td><td>   369</td></tr>\n",
       "\t<tr><td>2020</td><td>101927</td></tr>\n",
       "\t<tr><td>2021</td><td>    51</td></tr>\n",
       "</tbody>\n",
       "</table>\n"
      ],
      "text/latex": [
       "A data.frame: 3 × 2\n",
       "\\begin{tabular}{ll}\n",
       " NU\\_ANO & n\\\\\n",
       " <int> & <int>\\\\\n",
       "\\hline\n",
       "\t 2019 &    369\\\\\n",
       "\t 2020 & 101927\\\\\n",
       "\t 2021 &     51\\\\\n",
       "\\end{tabular}\n"
      ],
      "text/markdown": [
       "\n",
       "A data.frame: 3 × 2\n",
       "\n",
       "| NU_ANO &lt;int&gt; | n &lt;int&gt; |\n",
       "|---|---|\n",
       "| 2019 |    369 |\n",
       "| 2020 | 101927 |\n",
       "| 2021 |     51 |\n",
       "\n"
      ],
      "text/plain": [
       "  NU_ANO n     \n",
       "1 2019      369\n",
       "2 2020   101927\n",
       "3 2021       51"
      ]
     },
     "metadata": {},
     "output_type": "display_data"
    },
    {
     "data": {
      "text/plain": [
       " ALRM_PLAQ      ALRM_VOM       ALRM_SANG      ALRM_HEMAT     ALRM_ABDOM    \n",
       " Mode:logical   Mode:logical   Mode:logical   Mode:logical   Mode:logical  \n",
       " NA's:102347    NA's:102347    NA's:102347    NA's:102347    NA's:102347   \n",
       " ALRM_LETAR     ALRM_HEPAT     ALRM_LIQ      \n",
       " Mode:logical   Mode:logical   Mode:logical  \n",
       " NA's:102347    NA's:102347    NA's:102347   "
      ]
     },
     "metadata": {},
     "output_type": "display_data"
    },
    {
     "data": {
      "text/plain": [
       " GRAV_PULSO     GRAV_CONV      GRAV_ENCH      GRAV_INSUF     GRAV_TAQUI    \n",
       " Mode:logical   Mode:logical   Mode:logical   Mode:logical   Mode:logical  \n",
       " NA's:102347    NA's:102347    NA's:102347    NA's:102347    NA's:102347   \n",
       " GRAV_EXTRE     GRAV_HIPOT     GRAV_HEMAT     GRAV_MELEN     GRAV_METRO    \n",
       " Mode:logical   Mode:logical   Mode:logical   Mode:logical   Mode:logical  \n",
       " NA's:102347    NA's:102347    NA's:102347    NA's:102347    NA's:102347   \n",
       " GRAV_SANG      GRAV_AST       GRAV_MIOC      GRAV_CONSC     GRAV_ORGAO    \n",
       " Mode:logical   Mode:logical   Mode:logical   Mode:logical   Mode:logical  \n",
       " NA's:102347    NA's:102347    NA's:102347    NA's:102347    NA's:102347   "
      ]
     },
     "metadata": {},
     "output_type": "display_data"
    },
    {
     "data": {
      "text/plain": [
       " MANI_HEMOR     EPISTAXE       GENGIVO         METRO         PETEQUIAS     \n",
       " Mode:logical   Mode:logical   Mode:logical   Mode:logical   Mode:logical  \n",
       " NA's:102347    NA's:102347    NA's:102347    NA's:102347    NA's:102347   \n",
       " HEMATURA       SANGRAM         LACO_N        PLASMATICO     EVIDENCIA     \n",
       " Mode:logical   Mode:logical   Mode:logical   Mode:logical   Mode:logical  \n",
       " NA's:102347    NA's:102347    NA's:102347    NA's:102347    NA's:102347   \n",
       " PLAQ_MENOR    \n",
       " Mode:logical  \n",
       " NA's:102347   "
      ]
     },
     "metadata": {},
     "output_type": "display_data"
    },
    {
     "data": {
      "text/html": [
       "<style>\n",
       ".list-inline {list-style: none; margin:0; padding: 0}\n",
       ".list-inline>li {display: inline-block}\n",
       ".list-inline>li:not(:last-child)::after {content: \"\\00b7\"; padding: 0 .5ex}\n",
       "</style>\n",
       "<ol class=list-inline><li>102347</li><li>53</li></ol>\n"
      ],
      "text/latex": [
       "\\begin{enumerate*}\n",
       "\\item 102347\n",
       "\\item 53\n",
       "\\end{enumerate*}\n"
      ],
      "text/markdown": [
       "1. 102347\n",
       "2. 53\n",
       "\n",
       "\n"
      ],
      "text/plain": [
       "[1] 102347     53"
      ]
     },
     "metadata": {},
     "output_type": "display_data"
    },
    {
     "data": {
      "text/html": [
       "<style>\n",
       ".list-inline {list-style: none; margin:0; padding: 0}\n",
       ".list-inline>li {display: inline-block}\n",
       ".list-inline>li:not(:last-child)::after {content: \"\\00b7\"; padding: 0 .5ex}\n",
       "</style>\n",
       "<ol class=list-inline><li>'SEM_NOT'</li><li>'SG_UF_NOT'</li><li>'ID_UNIDADE'</li><li>'DT_SIN_PRI'</li><li>'SEM_PRI'</li><li>'CS_SEXO'</li><li>'CS_GESTANT'</li><li>'CS_RACA'</li><li>'CS_ESCOL_N'</li><li>'ID_MN_RESI'</li><li>'ID_OCUPA_N'</li><li>'FEBRE'</li><li>'MIALGIA'</li><li>'CEFALEIA'</li><li>'EXANTEMA'</li><li>'VOMITO'</li><li>'NAUSEA'</li><li>'DOR_COSTAS'</li><li>'CONJUNTVIT'</li><li>'ARTRITE'</li><li>'ARTRALGIA'</li><li>'PETEQUIA_N'</li><li>'LEUCOPENIA'</li><li>'LACO'</li><li>'DOR_RETRO'</li><li>'DIABETES'</li><li>'HEMATOLOG'</li><li>'HEPATOPAT'</li><li>'RENAL'</li><li>'HIPERTENSA'</li><li>'ACIDO_PEPT'</li><li>'AUTO_IMUNE'</li><li>'DT_CHIK_S1'</li><li>'DT_CHIK_S2'</li><li>'DT_PRNT'</li><li>'RES_CHIKS1'</li><li>'RES_CHIKS2'</li><li>'RESUL_PRNT'</li><li>'DT_SORO'</li><li>'RESUL_SORO'</li><li>'DT_NS1'</li><li>'RESUL_NS1'</li><li>'DT_VIRAL'</li><li>'RESUL_VI_N'</li><li>'DT_PCR'</li><li>'RESUL_PCR_'</li><li>'HOSPITALIZ'</li><li>'DT_INTERNA'</li><li>'CLASSI_FIN'</li><li>'CLINC_CHIK'</li><li>'EVOLUCAO'</li><li>'DT_OBITO'</li><li>'age'</li></ol>\n"
      ],
      "text/latex": [
       "\\begin{enumerate*}\n",
       "\\item 'SEM\\_NOT'\n",
       "\\item 'SG\\_UF\\_NOT'\n",
       "\\item 'ID\\_UNIDADE'\n",
       "\\item 'DT\\_SIN\\_PRI'\n",
       "\\item 'SEM\\_PRI'\n",
       "\\item 'CS\\_SEXO'\n",
       "\\item 'CS\\_GESTANT'\n",
       "\\item 'CS\\_RACA'\n",
       "\\item 'CS\\_ESCOL\\_N'\n",
       "\\item 'ID\\_MN\\_RESI'\n",
       "\\item 'ID\\_OCUPA\\_N'\n",
       "\\item 'FEBRE'\n",
       "\\item 'MIALGIA'\n",
       "\\item 'CEFALEIA'\n",
       "\\item 'EXANTEMA'\n",
       "\\item 'VOMITO'\n",
       "\\item 'NAUSEA'\n",
       "\\item 'DOR\\_COSTAS'\n",
       "\\item 'CONJUNTVIT'\n",
       "\\item 'ARTRITE'\n",
       "\\item 'ARTRALGIA'\n",
       "\\item 'PETEQUIA\\_N'\n",
       "\\item 'LEUCOPENIA'\n",
       "\\item 'LACO'\n",
       "\\item 'DOR\\_RETRO'\n",
       "\\item 'DIABETES'\n",
       "\\item 'HEMATOLOG'\n",
       "\\item 'HEPATOPAT'\n",
       "\\item 'RENAL'\n",
       "\\item 'HIPERTENSA'\n",
       "\\item 'ACIDO\\_PEPT'\n",
       "\\item 'AUTO\\_IMUNE'\n",
       "\\item 'DT\\_CHIK\\_S1'\n",
       "\\item 'DT\\_CHIK\\_S2'\n",
       "\\item 'DT\\_PRNT'\n",
       "\\item 'RES\\_CHIKS1'\n",
       "\\item 'RES\\_CHIKS2'\n",
       "\\item 'RESUL\\_PRNT'\n",
       "\\item 'DT\\_SORO'\n",
       "\\item 'RESUL\\_SORO'\n",
       "\\item 'DT\\_NS1'\n",
       "\\item 'RESUL\\_NS1'\n",
       "\\item 'DT\\_VIRAL'\n",
       "\\item 'RESUL\\_VI\\_N'\n",
       "\\item 'DT\\_PCR'\n",
       "\\item 'RESUL\\_PCR\\_'\n",
       "\\item 'HOSPITALIZ'\n",
       "\\item 'DT\\_INTERNA'\n",
       "\\item 'CLASSI\\_FIN'\n",
       "\\item 'CLINC\\_CHIK'\n",
       "\\item 'EVOLUCAO'\n",
       "\\item 'DT\\_OBITO'\n",
       "\\item 'age'\n",
       "\\end{enumerate*}\n"
      ],
      "text/markdown": [
       "1. 'SEM_NOT'\n",
       "2. 'SG_UF_NOT'\n",
       "3. 'ID_UNIDADE'\n",
       "4. 'DT_SIN_PRI'\n",
       "5. 'SEM_PRI'\n",
       "6. 'CS_SEXO'\n",
       "7. 'CS_GESTANT'\n",
       "8. 'CS_RACA'\n",
       "9. 'CS_ESCOL_N'\n",
       "10. 'ID_MN_RESI'\n",
       "11. 'ID_OCUPA_N'\n",
       "12. 'FEBRE'\n",
       "13. 'MIALGIA'\n",
       "14. 'CEFALEIA'\n",
       "15. 'EXANTEMA'\n",
       "16. 'VOMITO'\n",
       "17. 'NAUSEA'\n",
       "18. 'DOR_COSTAS'\n",
       "19. 'CONJUNTVIT'\n",
       "20. 'ARTRITE'\n",
       "21. 'ARTRALGIA'\n",
       "22. 'PETEQUIA_N'\n",
       "23. 'LEUCOPENIA'\n",
       "24. 'LACO'\n",
       "25. 'DOR_RETRO'\n",
       "26. 'DIABETES'\n",
       "27. 'HEMATOLOG'\n",
       "28. 'HEPATOPAT'\n",
       "29. 'RENAL'\n",
       "30. 'HIPERTENSA'\n",
       "31. 'ACIDO_PEPT'\n",
       "32. 'AUTO_IMUNE'\n",
       "33. 'DT_CHIK_S1'\n",
       "34. 'DT_CHIK_S2'\n",
       "35. 'DT_PRNT'\n",
       "36. 'RES_CHIKS1'\n",
       "37. 'RES_CHIKS2'\n",
       "38. 'RESUL_PRNT'\n",
       "39. 'DT_SORO'\n",
       "40. 'RESUL_SORO'\n",
       "41. 'DT_NS1'\n",
       "42. 'RESUL_NS1'\n",
       "43. 'DT_VIRAL'\n",
       "44. 'RESUL_VI_N'\n",
       "45. 'DT_PCR'\n",
       "46. 'RESUL_PCR_'\n",
       "47. 'HOSPITALIZ'\n",
       "48. 'DT_INTERNA'\n",
       "49. 'CLASSI_FIN'\n",
       "50. 'CLINC_CHIK'\n",
       "51. 'EVOLUCAO'\n",
       "52. 'DT_OBITO'\n",
       "53. 'age'\n",
       "\n",
       "\n"
      ],
      "text/plain": [
       " [1] \"SEM_NOT\"    \"SG_UF_NOT\"  \"ID_UNIDADE\" \"DT_SIN_PRI\" \"SEM_PRI\"   \n",
       " [6] \"CS_SEXO\"    \"CS_GESTANT\" \"CS_RACA\"    \"CS_ESCOL_N\" \"ID_MN_RESI\"\n",
       "[11] \"ID_OCUPA_N\" \"FEBRE\"      \"MIALGIA\"    \"CEFALEIA\"   \"EXANTEMA\"  \n",
       "[16] \"VOMITO\"     \"NAUSEA\"     \"DOR_COSTAS\" \"CONJUNTVIT\" \"ARTRITE\"   \n",
       "[21] \"ARTRALGIA\"  \"PETEQUIA_N\" \"LEUCOPENIA\" \"LACO\"       \"DOR_RETRO\" \n",
       "[26] \"DIABETES\"   \"HEMATOLOG\"  \"HEPATOPAT\"  \"RENAL\"      \"HIPERTENSA\"\n",
       "[31] \"ACIDO_PEPT\" \"AUTO_IMUNE\" \"DT_CHIK_S1\" \"DT_CHIK_S2\" \"DT_PRNT\"   \n",
       "[36] \"RES_CHIKS1\" \"RES_CHIKS2\" \"RESUL_PRNT\" \"DT_SORO\"    \"RESUL_SORO\"\n",
       "[41] \"DT_NS1\"     \"RESUL_NS1\"  \"DT_VIRAL\"   \"RESUL_VI_N\" \"DT_PCR\"    \n",
       "[46] \"RESUL_PCR_\" \"HOSPITALIZ\" \"DT_INTERNA\" \"CLASSI_FIN\" \"CLINC_CHIK\"\n",
       "[51] \"EVOLUCAO\"   \"DT_OBITO\"   \"age\"       "
      ]
     },
     "metadata": {},
     "output_type": "display_data"
    }
   ],
   "source": [
    "#keep only id related with the city\n",
    "\n",
    "data %>% select(-c(ID_REGIONA, ID_MUNICIP, SG_UF, ID_PAIS, ID_RG_RESI, UF, MUNICIPIO)) -> data\n",
    "\n",
    "# mostly NA values\n",
    "\n",
    "data %>% count(TPAUTOCTO)\n",
    "data %>% count(COPAISINF)\n",
    "data %>% count(COMUNINF) \n",
    "data %>% count(TP_SISTEMA)\n",
    "\n",
    "data %>% count(NDUPLIC_N)\n",
    "data %>% count(COMPLICA)\n",
    "data %>% count(CON_FHD)\n",
    "\n",
    "data %>% count(SOROTIPO)\n",
    "data %>% count(HISTOPA_N)\n",
    "data %>% count(IMUNOH_N)\n",
    "data %>% count(DOENCA_TRA)\n",
    "data %>% count(ALRM_HIPOT)\n",
    "\n",
    "data %>% count(TP_NOT)\n",
    "data %>% count(ID_AGRAVO)\n",
    "data %>% count(NU_ANO)\n",
    "\n",
    "\n",
    "data %>% select(-c(TP_NOT, ID_AGRAVO, NU_ANO)) -> data\n",
    "data %>% select(-c(TPAUTOCTO, COPAISINF, COUFINF, COMUNINF)) -> data\n",
    "data %>% select(-c(TP_SISTEMA)) -> data\n",
    "data %>% select(-c(NDUPLIC_N, COMPLICA, CON_FHD)) -> data\n",
    "data %>% select(-c(SOROTIPO, HISTOPA_N, IMUNOH_N, DOENCA_TRA, ALRM_HIPOT)) -> data\n",
    "data %>% select(-c(NU_IDADE_N)) -> data\n",
    "\n",
    "# this dates usually are the same and refer to the date of digitalization\n",
    "\n",
    "data %>% select(-c(DT_NOTIFIC, DT_ENCERRA, DT_INVEST, CRITERIO)) -> data\n",
    "\n",
    "data %>% select(ALRM_PLAQ:ALRM_LIQ) %>% summary\n",
    "data %>% select(GRAV_PULSO:GRAV_ORGAO) %>% summary\n",
    "data %>% select(MANI_HEMOR:PLAQ_MENOR) %>% summary\n",
    "\n",
    "data %>% select(-c(ALRM_PLAQ:PLAQ_MENOR)) -> data \n",
    "\n",
    "data %>% dim\n",
    "\n",
    "data %>% colnames"
   ]
  },
  {
   "cell_type": "markdown",
   "id": "adb2c67e",
   "metadata": {},
   "source": [
    "### Filter 2: Remove if is na for state or health unit"
   ]
  },
  {
   "cell_type": "code",
   "execution_count": 14,
   "id": "73dffc70",
   "metadata": {},
   "outputs": [
    {
     "data": {
      "text/html": [
       "<style>\n",
       ".list-inline {list-style: none; margin:0; padding: 0}\n",
       ".list-inline>li {display: inline-block}\n",
       ".list-inline>li:not(:last-child)::after {content: \"\\00b7\"; padding: 0 .5ex}\n",
       "</style>\n",
       "<ol class=list-inline><li>102347</li><li>53</li></ol>\n"
      ],
      "text/latex": [
       "\\begin{enumerate*}\n",
       "\\item 102347\n",
       "\\item 53\n",
       "\\end{enumerate*}\n"
      ],
      "text/markdown": [
       "1. 102347\n",
       "2. 53\n",
       "\n",
       "\n"
      ],
      "text/plain": [
       "[1] 102347     53"
      ]
     },
     "metadata": {},
     "output_type": "display_data"
    },
    {
     "data": {
      "text/html": [
       "<table class=\"dataframe\">\n",
       "<caption>A data.frame: 6 × 2</caption>\n",
       "<thead>\n",
       "\t<tr><th scope=col>EVOLUCAO</th><th scope=col>n</th></tr>\n",
       "\t<tr><th scope=col>&lt;int&gt;</th><th scope=col>&lt;int&gt;</th></tr>\n",
       "</thead>\n",
       "<tbody>\n",
       "\t<tr><td> 1</td><td>62702</td></tr>\n",
       "\t<tr><td> 2</td><td>   30</td></tr>\n",
       "\t<tr><td> 3</td><td>  166</td></tr>\n",
       "\t<tr><td> 4</td><td>   21</td></tr>\n",
       "\t<tr><td> 9</td><td> 5286</td></tr>\n",
       "\t<tr><td>NA</td><td>34142</td></tr>\n",
       "</tbody>\n",
       "</table>\n"
      ],
      "text/latex": [
       "A data.frame: 6 × 2\n",
       "\\begin{tabular}{ll}\n",
       " EVOLUCAO & n\\\\\n",
       " <int> & <int>\\\\\n",
       "\\hline\n",
       "\t  1 & 62702\\\\\n",
       "\t  2 &    30\\\\\n",
       "\t  3 &   166\\\\\n",
       "\t  4 &    21\\\\\n",
       "\t  9 &  5286\\\\\n",
       "\t NA & 34142\\\\\n",
       "\\end{tabular}\n"
      ],
      "text/markdown": [
       "\n",
       "A data.frame: 6 × 2\n",
       "\n",
       "| EVOLUCAO &lt;int&gt; | n &lt;int&gt; |\n",
       "|---|---|\n",
       "|  1 | 62702 |\n",
       "|  2 |    30 |\n",
       "|  3 |   166 |\n",
       "|  4 |    21 |\n",
       "|  9 |  5286 |\n",
       "| NA | 34142 |\n",
       "\n"
      ],
      "text/plain": [
       "  EVOLUCAO n    \n",
       "1  1       62702\n",
       "2  2          30\n",
       "3  3         166\n",
       "4  4          21\n",
       "5  9        5286\n",
       "6 NA       34142"
      ]
     },
     "metadata": {},
     "output_type": "display_data"
    },
    {
     "data": {
      "text/html": [
       "<table class=\"dataframe\">\n",
       "<caption>A data.frame: 4 × 2</caption>\n",
       "<thead>\n",
       "\t<tr><th scope=col>HOSPITALIZ</th><th scope=col>n</th></tr>\n",
       "\t<tr><th scope=col>&lt;int&gt;</th><th scope=col>&lt;int&gt;</th></tr>\n",
       "</thead>\n",
       "<tbody>\n",
       "\t<tr><td> 1</td><td> 3217</td></tr>\n",
       "\t<tr><td> 2</td><td>49738</td></tr>\n",
       "\t<tr><td> 9</td><td> 1806</td></tr>\n",
       "\t<tr><td>NA</td><td>47586</td></tr>\n",
       "</tbody>\n",
       "</table>\n"
      ],
      "text/latex": [
       "A data.frame: 4 × 2\n",
       "\\begin{tabular}{ll}\n",
       " HOSPITALIZ & n\\\\\n",
       " <int> & <int>\\\\\n",
       "\\hline\n",
       "\t  1 &  3217\\\\\n",
       "\t  2 & 49738\\\\\n",
       "\t  9 &  1806\\\\\n",
       "\t NA & 47586\\\\\n",
       "\\end{tabular}\n"
      ],
      "text/markdown": [
       "\n",
       "A data.frame: 4 × 2\n",
       "\n",
       "| HOSPITALIZ &lt;int&gt; | n &lt;int&gt; |\n",
       "|---|---|\n",
       "|  1 |  3217 |\n",
       "|  2 | 49738 |\n",
       "|  9 |  1806 |\n",
       "| NA | 47586 |\n",
       "\n"
      ],
      "text/plain": [
       "  HOSPITALIZ n    \n",
       "1  1          3217\n",
       "2  2         49738\n",
       "3  9          1806\n",
       "4 NA         47586"
      ]
     },
     "metadata": {},
     "output_type": "display_data"
    }
   ],
   "source": [
    "data %>% filter(!is.na(SG_UF_NOT)) -> data\n",
    "\n",
    "data %>% dim\n",
    "\n",
    "data %>% count(EVOLUCAO)\n",
    "data %>% count(HOSPITALIZ)"
   ]
  },
  {
   "cell_type": "markdown",
   "id": "1b2cf346",
   "metadata": {},
   "source": [
    "### Remove columns "
   ]
  },
  {
   "cell_type": "code",
   "execution_count": 15,
   "id": "214d29bd",
   "metadata": {},
   "outputs": [
    {
     "data": {
      "text/html": [
       "<table class=\"dataframe\">\n",
       "<caption>A data.frame: 15 × 2</caption>\n",
       "<thead>\n",
       "\t<tr><th scope=col>ID_OCUPA_N</th><th scope=col>n</th></tr>\n",
       "\t<tr><th scope=col>&lt;chr&gt;</th><th scope=col>&lt;int&gt;</th></tr>\n",
       "</thead>\n",
       "<tbody>\n",
       "\t<tr><td>      </td><td>3186</td></tr>\n",
       "\t<tr><td>000000</td><td>   4</td></tr>\n",
       "\t<tr><td>021110</td><td>   1</td></tr>\n",
       "\t<tr><td>141405</td><td>   1</td></tr>\n",
       "\t<tr><td>141410</td><td>   1</td></tr>\n",
       "\t<tr><td>141705</td><td>   1</td></tr>\n",
       "\t<tr><td>223104</td><td>   1</td></tr>\n",
       "\t<tr><td>223115</td><td>   1</td></tr>\n",
       "\t<tr><td>2231F9</td><td>   1</td></tr>\n",
       "\t<tr><td>223208</td><td>   2</td></tr>\n",
       "\t<tr><td>223410</td><td>   1</td></tr>\n",
       "\t<tr><td>223505</td><td>   4</td></tr>\n",
       "\t<tr><td>231205</td><td>   1</td></tr>\n",
       "\t<tr><td>231305</td><td>   1</td></tr>\n",
       "\t<tr><td>234624</td><td>   1</td></tr>\n",
       "</tbody>\n",
       "</table>\n"
      ],
      "text/latex": [
       "A data.frame: 15 × 2\n",
       "\\begin{tabular}{ll}\n",
       " ID\\_OCUPA\\_N & n\\\\\n",
       " <chr> & <int>\\\\\n",
       "\\hline\n",
       "\t        & 3186\\\\\n",
       "\t 000000 &    4\\\\\n",
       "\t 021110 &    1\\\\\n",
       "\t 141405 &    1\\\\\n",
       "\t 141410 &    1\\\\\n",
       "\t 141705 &    1\\\\\n",
       "\t 223104 &    1\\\\\n",
       "\t 223115 &    1\\\\\n",
       "\t 2231F9 &    1\\\\\n",
       "\t 223208 &    2\\\\\n",
       "\t 223410 &    1\\\\\n",
       "\t 223505 &    4\\\\\n",
       "\t 231205 &    1\\\\\n",
       "\t 231305 &    1\\\\\n",
       "\t 234624 &    1\\\\\n",
       "\\end{tabular}\n"
      ],
      "text/markdown": [
       "\n",
       "A data.frame: 15 × 2\n",
       "\n",
       "| ID_OCUPA_N &lt;chr&gt; | n &lt;int&gt; |\n",
       "|---|---|\n",
       "| <!----> | 3186 |\n",
       "| 000000 |    4 |\n",
       "| 021110 |    1 |\n",
       "| 141405 |    1 |\n",
       "| 141410 |    1 |\n",
       "| 141705 |    1 |\n",
       "| 223104 |    1 |\n",
       "| 223115 |    1 |\n",
       "| 2231F9 |    1 |\n",
       "| 223208 |    2 |\n",
       "| 223410 |    1 |\n",
       "| 223505 |    4 |\n",
       "| 231205 |    1 |\n",
       "| 231305 |    1 |\n",
       "| 234624 |    1 |\n",
       "\n"
      ],
      "text/plain": [
       "   ID_OCUPA_N n   \n",
       "1             3186\n",
       "2  000000        4\n",
       "3  021110        1\n",
       "4  141405        1\n",
       "5  141410        1\n",
       "6  141705        1\n",
       "7  223104        1\n",
       "8  223115        1\n",
       "9  2231F9        1\n",
       "10 223208        2\n",
       "11 223410        1\n",
       "12 223505        4\n",
       "13 231205        1\n",
       "14 231305        1\n",
       "15 234624        1"
      ]
     },
     "metadata": {},
     "output_type": "display_data"
    }
   ],
   "source": [
    "# ID_OCUPA_N seems to not be filled consistently\n",
    "# it refers to area of activity and should be filled with the same value (not aplicable) to children \n",
    "# sem_not is the epidemiologic week of notification, sem_pri is the epidemiologic week of the first symptoms\n",
    "\n",
    "data %>% filter(age< 5) %>% count(ID_OCUPA_N) %>% slice(1:15)\n",
    "data %>% select(-c(ID_OCUPA_N, SEM_NOT)) -> data"
   ]
  },
  {
   "cell_type": "markdown",
   "id": "395d4451",
   "metadata": {},
   "source": [
    "### Filter 4: remove patients older than 110 years and younger than 12"
   ]
  },
  {
   "cell_type": "code",
   "execution_count": 16,
   "id": "3c07b230",
   "metadata": {},
   "outputs": [
    {
     "data": {
      "text/html": [
       "<style>\n",
       ".list-inline {list-style: none; margin:0; padding: 0}\n",
       ".list-inline>li {display: inline-block}\n",
       ".list-inline>li:not(:last-child)::after {content: \"\\00b7\"; padding: 0 .5ex}\n",
       "</style>\n",
       "<ol class=list-inline><li>93052</li><li>51</li></ol>\n"
      ],
      "text/latex": [
       "\\begin{enumerate*}\n",
       "\\item 93052\n",
       "\\item 51\n",
       "\\end{enumerate*}\n"
      ],
      "text/markdown": [
       "1. 93052\n",
       "2. 51\n",
       "\n",
       "\n"
      ],
      "text/plain": [
       "[1] 93052    51"
      ]
     },
     "metadata": {},
     "output_type": "display_data"
    },
    {
     "data": {
      "text/html": [
       "<table class=\"dataframe\">\n",
       "<caption>A data.frame: 6 × 2</caption>\n",
       "<thead>\n",
       "\t<tr><th scope=col>EVOLUCAO</th><th scope=col>n</th></tr>\n",
       "\t<tr><th scope=col>&lt;int&gt;</th><th scope=col>&lt;int&gt;</th></tr>\n",
       "</thead>\n",
       "<tbody>\n",
       "\t<tr><td> 1</td><td>57185</td></tr>\n",
       "\t<tr><td> 2</td><td>   27</td></tr>\n",
       "\t<tr><td> 3</td><td>  120</td></tr>\n",
       "\t<tr><td> 4</td><td>   19</td></tr>\n",
       "\t<tr><td> 9</td><td> 4776</td></tr>\n",
       "\t<tr><td>NA</td><td>30925</td></tr>\n",
       "</tbody>\n",
       "</table>\n"
      ],
      "text/latex": [
       "A data.frame: 6 × 2\n",
       "\\begin{tabular}{ll}\n",
       " EVOLUCAO & n\\\\\n",
       " <int> & <int>\\\\\n",
       "\\hline\n",
       "\t  1 & 57185\\\\\n",
       "\t  2 &    27\\\\\n",
       "\t  3 &   120\\\\\n",
       "\t  4 &    19\\\\\n",
       "\t  9 &  4776\\\\\n",
       "\t NA & 30925\\\\\n",
       "\\end{tabular}\n"
      ],
      "text/markdown": [
       "\n",
       "A data.frame: 6 × 2\n",
       "\n",
       "| EVOLUCAO &lt;int&gt; | n &lt;int&gt; |\n",
       "|---|---|\n",
       "|  1 | 57185 |\n",
       "|  2 |    27 |\n",
       "|  3 |   120 |\n",
       "|  4 |    19 |\n",
       "|  9 |  4776 |\n",
       "| NA | 30925 |\n",
       "\n"
      ],
      "text/plain": [
       "  EVOLUCAO n    \n",
       "1  1       57185\n",
       "2  2          27\n",
       "3  3         120\n",
       "4  4          19\n",
       "5  9        4776\n",
       "6 NA       30925"
      ]
     },
     "metadata": {},
     "output_type": "display_data"
    },
    {
     "data": {
      "text/html": [
       "<table class=\"dataframe\">\n",
       "<caption>A data.frame: 4 × 2</caption>\n",
       "<thead>\n",
       "\t<tr><th scope=col>HOSPITALIZ</th><th scope=col>n</th></tr>\n",
       "\t<tr><th scope=col>&lt;int&gt;</th><th scope=col>&lt;int&gt;</th></tr>\n",
       "</thead>\n",
       "<tbody>\n",
       "\t<tr><td> 1</td><td> 2387</td></tr>\n",
       "\t<tr><td> 2</td><td>45771</td></tr>\n",
       "\t<tr><td> 9</td><td> 1661</td></tr>\n",
       "\t<tr><td>NA</td><td>43233</td></tr>\n",
       "</tbody>\n",
       "</table>\n"
      ],
      "text/latex": [
       "A data.frame: 4 × 2\n",
       "\\begin{tabular}{ll}\n",
       " HOSPITALIZ & n\\\\\n",
       " <int> & <int>\\\\\n",
       "\\hline\n",
       "\t  1 &  2387\\\\\n",
       "\t  2 & 45771\\\\\n",
       "\t  9 &  1661\\\\\n",
       "\t NA & 43233\\\\\n",
       "\\end{tabular}\n"
      ],
      "text/markdown": [
       "\n",
       "A data.frame: 4 × 2\n",
       "\n",
       "| HOSPITALIZ &lt;int&gt; | n &lt;int&gt; |\n",
       "|---|---|\n",
       "|  1 |  2387 |\n",
       "|  2 | 45771 |\n",
       "|  9 |  1661 |\n",
       "| NA | 43233 |\n",
       "\n"
      ],
      "text/plain": [
       "  HOSPITALIZ n    \n",
       "1  1          2387\n",
       "2  2         45771\n",
       "3  9          1661\n",
       "4 NA         43233"
      ]
     },
     "metadata": {},
     "output_type": "display_data"
    }
   ],
   "source": [
    "# remove patients older than 110 years old \n",
    "data %>% filter(age < 111) -> data\n",
    "\n",
    "# remove patients younger than 16 years old\n",
    "data %>% filter(age > 11) -> data\n",
    "\n",
    "data %>% dim\n",
    "\n",
    "data %>% count(EVOLUCAO)\n",
    "data %>% count(HOSPITALIZ)"
   ]
  },
  {
   "cell_type": "markdown",
   "id": "38c09d91",
   "metadata": {},
   "source": [
    "### Filter 5: remove patients without sex information"
   ]
  },
  {
   "cell_type": "code",
   "execution_count": 17,
   "id": "0a5b4840",
   "metadata": {},
   "outputs": [
    {
     "data": {
      "text/html": [
       "<table class=\"dataframe\">\n",
       "<caption>A data.frame: 3 × 2</caption>\n",
       "<thead>\n",
       "\t<tr><th scope=col>CS_SEXO</th><th scope=col>n</th></tr>\n",
       "\t<tr><th scope=col>&lt;chr&gt;</th><th scope=col>&lt;int&gt;</th></tr>\n",
       "</thead>\n",
       "<tbody>\n",
       "\t<tr><td>F</td><td>56520</td></tr>\n",
       "\t<tr><td>I</td><td>  120</td></tr>\n",
       "\t<tr><td>M</td><td>36412</td></tr>\n",
       "</tbody>\n",
       "</table>\n"
      ],
      "text/latex": [
       "A data.frame: 3 × 2\n",
       "\\begin{tabular}{ll}\n",
       " CS\\_SEXO & n\\\\\n",
       " <chr> & <int>\\\\\n",
       "\\hline\n",
       "\t F & 56520\\\\\n",
       "\t I &   120\\\\\n",
       "\t M & 36412\\\\\n",
       "\\end{tabular}\n"
      ],
      "text/markdown": [
       "\n",
       "A data.frame: 3 × 2\n",
       "\n",
       "| CS_SEXO &lt;chr&gt; | n &lt;int&gt; |\n",
       "|---|---|\n",
       "| F | 56520 |\n",
       "| I |   120 |\n",
       "| M | 36412 |\n",
       "\n"
      ],
      "text/plain": [
       "  CS_SEXO n    \n",
       "1 F       56520\n",
       "2 I         120\n",
       "3 M       36412"
      ]
     },
     "metadata": {},
     "output_type": "display_data"
    },
    {
     "data": {
      "text/html": [
       "<table class=\"dataframe\">\n",
       "<caption>A data.frame: 2 × 2</caption>\n",
       "<thead>\n",
       "\t<tr><th scope=col>CS_SEXO</th><th scope=col>n</th></tr>\n",
       "\t<tr><th scope=col>&lt;chr&gt;</th><th scope=col>&lt;int&gt;</th></tr>\n",
       "</thead>\n",
       "<tbody>\n",
       "\t<tr><td>F</td><td>56520</td></tr>\n",
       "\t<tr><td>M</td><td>36412</td></tr>\n",
       "</tbody>\n",
       "</table>\n"
      ],
      "text/latex": [
       "A data.frame: 2 × 2\n",
       "\\begin{tabular}{ll}\n",
       " CS\\_SEXO & n\\\\\n",
       " <chr> & <int>\\\\\n",
       "\\hline\n",
       "\t F & 56520\\\\\n",
       "\t M & 36412\\\\\n",
       "\\end{tabular}\n"
      ],
      "text/markdown": [
       "\n",
       "A data.frame: 2 × 2\n",
       "\n",
       "| CS_SEXO &lt;chr&gt; | n &lt;int&gt; |\n",
       "|---|---|\n",
       "| F | 56520 |\n",
       "| M | 36412 |\n",
       "\n"
      ],
      "text/plain": [
       "  CS_SEXO n    \n",
       "1 F       56520\n",
       "2 M       36412"
      ]
     },
     "metadata": {},
     "output_type": "display_data"
    },
    {
     "data": {
      "text/html": [
       "<style>\n",
       ".list-inline {list-style: none; margin:0; padding: 0}\n",
       ".list-inline>li {display: inline-block}\n",
       ".list-inline>li:not(:last-child)::after {content: \"\\00b7\"; padding: 0 .5ex}\n",
       "</style>\n",
       "<ol class=list-inline><li>92932</li><li>51</li></ol>\n"
      ],
      "text/latex": [
       "\\begin{enumerate*}\n",
       "\\item 92932\n",
       "\\item 51\n",
       "\\end{enumerate*}\n"
      ],
      "text/markdown": [
       "1. 92932\n",
       "2. 51\n",
       "\n",
       "\n"
      ],
      "text/plain": [
       "[1] 92932    51"
      ]
     },
     "metadata": {},
     "output_type": "display_data"
    },
    {
     "data": {
      "text/html": [
       "<table class=\"dataframe\">\n",
       "<caption>A data.frame: 2 × 2</caption>\n",
       "<thead>\n",
       "\t<tr><th scope=col>sex</th><th scope=col>n</th></tr>\n",
       "\t<tr><th scope=col>&lt;dbl&gt;</th><th scope=col>&lt;int&gt;</th></tr>\n",
       "</thead>\n",
       "<tbody>\n",
       "\t<tr><td>0</td><td>36412</td></tr>\n",
       "\t<tr><td>1</td><td>56520</td></tr>\n",
       "</tbody>\n",
       "</table>\n"
      ],
      "text/latex": [
       "A data.frame: 2 × 2\n",
       "\\begin{tabular}{ll}\n",
       " sex & n\\\\\n",
       " <dbl> & <int>\\\\\n",
       "\\hline\n",
       "\t 0 & 36412\\\\\n",
       "\t 1 & 56520\\\\\n",
       "\\end{tabular}\n"
      ],
      "text/markdown": [
       "\n",
       "A data.frame: 2 × 2\n",
       "\n",
       "| sex &lt;dbl&gt; | n &lt;int&gt; |\n",
       "|---|---|\n",
       "| 0 | 36412 |\n",
       "| 1 | 56520 |\n",
       "\n"
      ],
      "text/plain": [
       "  sex n    \n",
       "1 0   36412\n",
       "2 1   56520"
      ]
     },
     "metadata": {},
     "output_type": "display_data"
    },
    {
     "data": {
      "text/html": [
       "<style>\n",
       ".list-inline {list-style: none; margin:0; padding: 0}\n",
       ".list-inline>li {display: inline-block}\n",
       ".list-inline>li:not(:last-child)::after {content: \"\\00b7\"; padding: 0 .5ex}\n",
       "</style>\n",
       "<ol class=list-inline><li>92932</li><li>51</li></ol>\n"
      ],
      "text/latex": [
       "\\begin{enumerate*}\n",
       "\\item 92932\n",
       "\\item 51\n",
       "\\end{enumerate*}\n"
      ],
      "text/markdown": [
       "1. 92932\n",
       "2. 51\n",
       "\n",
       "\n"
      ],
      "text/plain": [
       "[1] 92932    51"
      ]
     },
     "metadata": {},
     "output_type": "display_data"
    },
    {
     "data": {
      "text/html": [
       "<table class=\"dataframe\">\n",
       "<caption>A data.frame: 6 × 2</caption>\n",
       "<thead>\n",
       "\t<tr><th scope=col>EVOLUCAO</th><th scope=col>n</th></tr>\n",
       "\t<tr><th scope=col>&lt;int&gt;</th><th scope=col>&lt;int&gt;</th></tr>\n",
       "</thead>\n",
       "<tbody>\n",
       "\t<tr><td> 1</td><td>57149</td></tr>\n",
       "\t<tr><td> 2</td><td>   27</td></tr>\n",
       "\t<tr><td> 3</td><td>  120</td></tr>\n",
       "\t<tr><td> 4</td><td>   19</td></tr>\n",
       "\t<tr><td> 9</td><td> 4756</td></tr>\n",
       "\t<tr><td>NA</td><td>30861</td></tr>\n",
       "</tbody>\n",
       "</table>\n"
      ],
      "text/latex": [
       "A data.frame: 6 × 2\n",
       "\\begin{tabular}{ll}\n",
       " EVOLUCAO & n\\\\\n",
       " <int> & <int>\\\\\n",
       "\\hline\n",
       "\t  1 & 57149\\\\\n",
       "\t  2 &    27\\\\\n",
       "\t  3 &   120\\\\\n",
       "\t  4 &    19\\\\\n",
       "\t  9 &  4756\\\\\n",
       "\t NA & 30861\\\\\n",
       "\\end{tabular}\n"
      ],
      "text/markdown": [
       "\n",
       "A data.frame: 6 × 2\n",
       "\n",
       "| EVOLUCAO &lt;int&gt; | n &lt;int&gt; |\n",
       "|---|---|\n",
       "|  1 | 57149 |\n",
       "|  2 |    27 |\n",
       "|  3 |   120 |\n",
       "|  4 |    19 |\n",
       "|  9 |  4756 |\n",
       "| NA | 30861 |\n",
       "\n"
      ],
      "text/plain": [
       "  EVOLUCAO n    \n",
       "1  1       57149\n",
       "2  2          27\n",
       "3  3         120\n",
       "4  4          19\n",
       "5  9        4756\n",
       "6 NA       30861"
      ]
     },
     "metadata": {},
     "output_type": "display_data"
    },
    {
     "data": {
      "text/html": [
       "<table class=\"dataframe\">\n",
       "<caption>A data.frame: 4 × 2</caption>\n",
       "<thead>\n",
       "\t<tr><th scope=col>HOSPITALIZ</th><th scope=col>n</th></tr>\n",
       "\t<tr><th scope=col>&lt;int&gt;</th><th scope=col>&lt;int&gt;</th></tr>\n",
       "</thead>\n",
       "<tbody>\n",
       "\t<tr><td> 1</td><td> 2383</td></tr>\n",
       "\t<tr><td> 2</td><td>45731</td></tr>\n",
       "\t<tr><td> 9</td><td> 1658</td></tr>\n",
       "\t<tr><td>NA</td><td>43160</td></tr>\n",
       "</tbody>\n",
       "</table>\n"
      ],
      "text/latex": [
       "A data.frame: 4 × 2\n",
       "\\begin{tabular}{ll}\n",
       " HOSPITALIZ & n\\\\\n",
       " <int> & <int>\\\\\n",
       "\\hline\n",
       "\t  1 &  2383\\\\\n",
       "\t  2 & 45731\\\\\n",
       "\t  9 &  1658\\\\\n",
       "\t NA & 43160\\\\\n",
       "\\end{tabular}\n"
      ],
      "text/markdown": [
       "\n",
       "A data.frame: 4 × 2\n",
       "\n",
       "| HOSPITALIZ &lt;int&gt; | n &lt;int&gt; |\n",
       "|---|---|\n",
       "|  1 |  2383 |\n",
       "|  2 | 45731 |\n",
       "|  9 |  1658 |\n",
       "| NA | 43160 |\n",
       "\n"
      ],
      "text/plain": [
       "  HOSPITALIZ n    \n",
       "1  1          2383\n",
       "2  2         45731\n",
       "3  9          1658\n",
       "4 NA         43160"
      ]
     },
     "metadata": {},
     "output_type": "display_data"
    }
   ],
   "source": [
    "# remove patients without sex information\n",
    "\n",
    "data %>% count(CS_SEXO)\n",
    "data %>% filter(CS_SEXO == 'F' | CS_SEXO == 'M') %>% count(CS_SEXO)\n",
    "data %>% filter(CS_SEXO == 'F' | CS_SEXO == 'M') -> data\n",
    "data %>% dim\n",
    "\n",
    "# create a new column with numeric values\n",
    "\n",
    "data %>% mutate(sex = if_else(CS_SEXO == 'M', 0, 1)) %>% count(sex)\n",
    "data %>% mutate(sex = if_else(CS_SEXO == 'M', 0, 1)) -> data\n",
    "\n",
    "# remove the former column\n",
    "data %>% select(-CS_SEXO) -> data\n",
    "\n",
    "data %>% dim\n",
    "\n",
    "data %>% count(EVOLUCAO)\n",
    "data %>% count(HOSPITALIZ)"
   ]
  },
  {
   "cell_type": "code",
   "execution_count": 18,
   "id": "9f5b54af",
   "metadata": {},
   "outputs": [
    {
     "data": {
      "text/html": [
       "<table class=\"dataframe\">\n",
       "<caption>A data.frame: 8 × 2</caption>\n",
       "<thead>\n",
       "\t<tr><th scope=col>CS_GESTANT</th><th scope=col>n</th></tr>\n",
       "\t<tr><th scope=col>&lt;int&gt;</th><th scope=col>&lt;int&gt;</th></tr>\n",
       "</thead>\n",
       "<tbody>\n",
       "\t<tr><td> 1</td><td>  508</td></tr>\n",
       "\t<tr><td> 2</td><td>  658</td></tr>\n",
       "\t<tr><td> 3</td><td>  634</td></tr>\n",
       "\t<tr><td> 4</td><td>  188</td></tr>\n",
       "\t<tr><td> 5</td><td>35188</td></tr>\n",
       "\t<tr><td> 6</td><td>42809</td></tr>\n",
       "\t<tr><td> 9</td><td>12926</td></tr>\n",
       "\t<tr><td>NA</td><td>   21</td></tr>\n",
       "</tbody>\n",
       "</table>\n"
      ],
      "text/latex": [
       "A data.frame: 8 × 2\n",
       "\\begin{tabular}{ll}\n",
       " CS\\_GESTANT & n\\\\\n",
       " <int> & <int>\\\\\n",
       "\\hline\n",
       "\t  1 &   508\\\\\n",
       "\t  2 &   658\\\\\n",
       "\t  3 &   634\\\\\n",
       "\t  4 &   188\\\\\n",
       "\t  5 & 35188\\\\\n",
       "\t  6 & 42809\\\\\n",
       "\t  9 & 12926\\\\\n",
       "\t NA &    21\\\\\n",
       "\\end{tabular}\n"
      ],
      "text/markdown": [
       "\n",
       "A data.frame: 8 × 2\n",
       "\n",
       "| CS_GESTANT &lt;int&gt; | n &lt;int&gt; |\n",
       "|---|---|\n",
       "|  1 |   508 |\n",
       "|  2 |   658 |\n",
       "|  3 |   634 |\n",
       "|  4 |   188 |\n",
       "|  5 | 35188 |\n",
       "|  6 | 42809 |\n",
       "|  9 | 12926 |\n",
       "| NA |    21 |\n",
       "\n"
      ],
      "text/plain": [
       "  CS_GESTANT n    \n",
       "1  1           508\n",
       "2  2           658\n",
       "3  3           634\n",
       "4  4           188\n",
       "5  5         35188\n",
       "6  6         42809\n",
       "7  9         12926\n",
       "8 NA            21"
      ]
     },
     "metadata": {},
     "output_type": "display_data"
    },
    {
     "data": {
      "text/html": [
       "<table class=\"dataframe\">\n",
       "<caption>A data.frame: 8 × 2</caption>\n",
       "<thead>\n",
       "\t<tr><th scope=col>CS_GESTANT</th><th scope=col>n</th></tr>\n",
       "\t<tr><th scope=col>&lt;int&gt;</th><th scope=col>&lt;int&gt;</th></tr>\n",
       "</thead>\n",
       "<tbody>\n",
       "\t<tr><td> 1</td><td>  508</td></tr>\n",
       "\t<tr><td> 2</td><td>  658</td></tr>\n",
       "\t<tr><td> 3</td><td>  634</td></tr>\n",
       "\t<tr><td> 4</td><td>  188</td></tr>\n",
       "\t<tr><td> 5</td><td>35188</td></tr>\n",
       "\t<tr><td> 6</td><td> 6397</td></tr>\n",
       "\t<tr><td> 9</td><td>12926</td></tr>\n",
       "\t<tr><td>NA</td><td>   21</td></tr>\n",
       "</tbody>\n",
       "</table>\n"
      ],
      "text/latex": [
       "A data.frame: 8 × 2\n",
       "\\begin{tabular}{ll}\n",
       " CS\\_GESTANT & n\\\\\n",
       " <int> & <int>\\\\\n",
       "\\hline\n",
       "\t  1 &   508\\\\\n",
       "\t  2 &   658\\\\\n",
       "\t  3 &   634\\\\\n",
       "\t  4 &   188\\\\\n",
       "\t  5 & 35188\\\\\n",
       "\t  6 &  6397\\\\\n",
       "\t  9 & 12926\\\\\n",
       "\t NA &    21\\\\\n",
       "\\end{tabular}\n"
      ],
      "text/markdown": [
       "\n",
       "A data.frame: 8 × 2\n",
       "\n",
       "| CS_GESTANT &lt;int&gt; | n &lt;int&gt; |\n",
       "|---|---|\n",
       "|  1 |   508 |\n",
       "|  2 |   658 |\n",
       "|  3 |   634 |\n",
       "|  4 |   188 |\n",
       "|  5 | 35188 |\n",
       "|  6 |  6397 |\n",
       "|  9 | 12926 |\n",
       "| NA |    21 |\n",
       "\n"
      ],
      "text/plain": [
       "  CS_GESTANT n    \n",
       "1  1           508\n",
       "2  2           658\n",
       "3  3           634\n",
       "4  4           188\n",
       "5  5         35188\n",
       "6  6          6397\n",
       "7  9         12926\n",
       "8 NA            21"
      ]
     },
     "metadata": {},
     "output_type": "display_data"
    },
    {
     "data": {
      "text/html": [
       "<table class=\"dataframe\">\n",
       "<caption>A data.frame: 1 × 2</caption>\n",
       "<thead>\n",
       "\t<tr><th scope=col>CS_GESTANT</th><th scope=col>n</th></tr>\n",
       "\t<tr><th scope=col>&lt;int&gt;</th><th scope=col>&lt;int&gt;</th></tr>\n",
       "</thead>\n",
       "<tbody>\n",
       "\t<tr><td>6</td><td>36412</td></tr>\n",
       "</tbody>\n",
       "</table>\n"
      ],
      "text/latex": [
       "A data.frame: 1 × 2\n",
       "\\begin{tabular}{ll}\n",
       " CS\\_GESTANT & n\\\\\n",
       " <int> & <int>\\\\\n",
       "\\hline\n",
       "\t 6 & 36412\\\\\n",
       "\\end{tabular}\n"
      ],
      "text/markdown": [
       "\n",
       "A data.frame: 1 × 2\n",
       "\n",
       "| CS_GESTANT &lt;int&gt; | n &lt;int&gt; |\n",
       "|---|---|\n",
       "| 6 | 36412 |\n",
       "\n"
      ],
      "text/plain": [
       "  CS_GESTANT n    \n",
       "1 6          36412"
      ]
     },
     "metadata": {},
     "output_type": "display_data"
    },
    {
     "data": {
      "text/html": [
       "<table class=\"dataframe\">\n",
       "<caption>A data.frame: 8 × 2</caption>\n",
       "<thead>\n",
       "\t<tr><th scope=col>CS_GESTANT</th><th scope=col>n</th></tr>\n",
       "\t<tr><th scope=col>&lt;dbl&gt;</th><th scope=col>&lt;int&gt;</th></tr>\n",
       "</thead>\n",
       "<tbody>\n",
       "\t<tr><td>0</td><td>   21</td></tr>\n",
       "\t<tr><td>1</td><td>  508</td></tr>\n",
       "\t<tr><td>2</td><td>  658</td></tr>\n",
       "\t<tr><td>3</td><td>  634</td></tr>\n",
       "\t<tr><td>4</td><td>  188</td></tr>\n",
       "\t<tr><td>5</td><td>35188</td></tr>\n",
       "\t<tr><td>6</td><td>42809</td></tr>\n",
       "\t<tr><td>9</td><td>12926</td></tr>\n",
       "</tbody>\n",
       "</table>\n"
      ],
      "text/latex": [
       "A data.frame: 8 × 2\n",
       "\\begin{tabular}{ll}\n",
       " CS\\_GESTANT & n\\\\\n",
       " <dbl> & <int>\\\\\n",
       "\\hline\n",
       "\t 0 &    21\\\\\n",
       "\t 1 &   508\\\\\n",
       "\t 2 &   658\\\\\n",
       "\t 3 &   634\\\\\n",
       "\t 4 &   188\\\\\n",
       "\t 5 & 35188\\\\\n",
       "\t 6 & 42809\\\\\n",
       "\t 9 & 12926\\\\\n",
       "\\end{tabular}\n"
      ],
      "text/markdown": [
       "\n",
       "A data.frame: 8 × 2\n",
       "\n",
       "| CS_GESTANT &lt;dbl&gt; | n &lt;int&gt; |\n",
       "|---|---|\n",
       "| 0 |    21 |\n",
       "| 1 |   508 |\n",
       "| 2 |   658 |\n",
       "| 3 |   634 |\n",
       "| 4 |   188 |\n",
       "| 5 | 35188 |\n",
       "| 6 | 42809 |\n",
       "| 9 | 12926 |\n",
       "\n"
      ],
      "text/plain": [
       "  CS_GESTANT n    \n",
       "1 0             21\n",
       "2 1            508\n",
       "3 2            658\n",
       "4 3            634\n",
       "5 4            188\n",
       "6 5          35188\n",
       "7 6          42809\n",
       "8 9          12926"
      ]
     },
     "metadata": {},
     "output_type": "display_data"
    }
   ],
   "source": [
    "# check the column pregnancy for each sex\n",
    "# transform na values in the column pregnancy in 0 (not pregnant)\n",
    "\n",
    "data %>% count(CS_GESTANT)\n",
    "\n",
    "data %>% filter(sex == 1) %>% count(CS_GESTANT)\n",
    "\n",
    "data %>% filter(sex == 0) %>% count(CS_GESTANT)\n",
    "\n",
    "data %>% mutate(CS_GESTANT = if_else(is.na(CS_GESTANT), 0, CS_GESTANT)) %>% count(CS_GESTANT)\n",
    "\n",
    "data %>% mutate(CS_GESTANT = if_else(is.na(CS_GESTANT), 0, CS_GESTANT)) -> data"
   ]
  },
  {
   "cell_type": "code",
   "execution_count": 19,
   "id": "1bf7943f",
   "metadata": {},
   "outputs": [
    {
     "data": {
      "text/html": [
       "<table class=\"dataframe\">\n",
       "<caption>A data.frame: 2 × 2</caption>\n",
       "<thead>\n",
       "\t<tr><th scope=col>pregnant</th><th scope=col>n</th></tr>\n",
       "\t<tr><th scope=col>&lt;dbl&gt;</th><th scope=col>&lt;int&gt;</th></tr>\n",
       "</thead>\n",
       "<tbody>\n",
       "\t<tr><td>0</td><td>90944</td></tr>\n",
       "\t<tr><td>1</td><td> 1988</td></tr>\n",
       "</tbody>\n",
       "</table>\n"
      ],
      "text/latex": [
       "A data.frame: 2 × 2\n",
       "\\begin{tabular}{ll}\n",
       " pregnant & n\\\\\n",
       " <dbl> & <int>\\\\\n",
       "\\hline\n",
       "\t 0 & 90944\\\\\n",
       "\t 1 &  1988\\\\\n",
       "\\end{tabular}\n"
      ],
      "text/markdown": [
       "\n",
       "A data.frame: 2 × 2\n",
       "\n",
       "| pregnant &lt;dbl&gt; | n &lt;int&gt; |\n",
       "|---|---|\n",
       "| 0 | 90944 |\n",
       "| 1 |  1988 |\n",
       "\n"
      ],
      "text/plain": [
       "  pregnant n    \n",
       "1 0        90944\n",
       "2 1         1988"
      ]
     },
     "metadata": {},
     "output_type": "display_data"
    }
   ],
   "source": [
    "# transform the column pregnant in binary, orignally diferent values refer to difernt stages on pregnancy\n",
    "\n",
    "data %>% mutate(pregnant = if_else((CS_GESTANT == 1 | \n",
    "                               CS_GESTANT == 2 | \n",
    "                               CS_GESTANT == 3 | \n",
    "                               CS_GESTANT == 4), 1, 0)) %>% count(pregnant)\n",
    "\n",
    "\n",
    "data %>% mutate(pregnant = if_else((CS_GESTANT == 1 | \n",
    "                               CS_GESTANT == 2 | \n",
    "                               CS_GESTANT == 3 | \n",
    "                               CS_GESTANT == 4), 1, 0)) -> data\n",
    "\n",
    "data %>% select(-CS_GESTANT) -> data"
   ]
  },
  {
   "cell_type": "markdown",
   "id": "1e1350b9",
   "metadata": {},
   "source": [
    "### Filter 6: remove patients without race information"
   ]
  },
  {
   "cell_type": "code",
   "execution_count": 20,
   "id": "d0edd344",
   "metadata": {},
   "outputs": [
    {
     "data": {
      "text/html": [
       "<table class=\"dataframe\">\n",
       "<caption>A data.frame: 6 × 2</caption>\n",
       "<thead>\n",
       "\t<tr><th scope=col>CS_RACA</th><th scope=col>n</th></tr>\n",
       "\t<tr><th scope=col>&lt;int&gt;</th><th scope=col>&lt;int&gt;</th></tr>\n",
       "</thead>\n",
       "<tbody>\n",
       "\t<tr><td>1</td><td>14265</td></tr>\n",
       "\t<tr><td>2</td><td> 7481</td></tr>\n",
       "\t<tr><td>3</td><td>  870</td></tr>\n",
       "\t<tr><td>4</td><td>46287</td></tr>\n",
       "\t<tr><td>5</td><td>  258</td></tr>\n",
       "\t<tr><td>9</td><td>23771</td></tr>\n",
       "</tbody>\n",
       "</table>\n"
      ],
      "text/latex": [
       "A data.frame: 6 × 2\n",
       "\\begin{tabular}{ll}\n",
       " CS\\_RACA & n\\\\\n",
       " <int> & <int>\\\\\n",
       "\\hline\n",
       "\t 1 & 14265\\\\\n",
       "\t 2 &  7481\\\\\n",
       "\t 3 &   870\\\\\n",
       "\t 4 & 46287\\\\\n",
       "\t 5 &   258\\\\\n",
       "\t 9 & 23771\\\\\n",
       "\\end{tabular}\n"
      ],
      "text/markdown": [
       "\n",
       "A data.frame: 6 × 2\n",
       "\n",
       "| CS_RACA &lt;int&gt; | n &lt;int&gt; |\n",
       "|---|---|\n",
       "| 1 | 14265 |\n",
       "| 2 |  7481 |\n",
       "| 3 |   870 |\n",
       "| 4 | 46287 |\n",
       "| 5 |   258 |\n",
       "| 9 | 23771 |\n",
       "\n"
      ],
      "text/plain": [
       "  CS_RACA n    \n",
       "1 1       14265\n",
       "2 2        7481\n",
       "3 3         870\n",
       "4 4       46287\n",
       "5 5         258\n",
       "6 9       23771"
      ]
     },
     "metadata": {},
     "output_type": "display_data"
    },
    {
     "data": {
      "text/html": [
       "<table class=\"dataframe\">\n",
       "<caption>A data.frame: 5 × 2</caption>\n",
       "<thead>\n",
       "\t<tr><th scope=col>CS_RACA</th><th scope=col>n</th></tr>\n",
       "\t<tr><th scope=col>&lt;int&gt;</th><th scope=col>&lt;int&gt;</th></tr>\n",
       "</thead>\n",
       "<tbody>\n",
       "\t<tr><td>1</td><td>14265</td></tr>\n",
       "\t<tr><td>2</td><td> 7481</td></tr>\n",
       "\t<tr><td>3</td><td>  870</td></tr>\n",
       "\t<tr><td>4</td><td>46287</td></tr>\n",
       "\t<tr><td>5</td><td>  258</td></tr>\n",
       "</tbody>\n",
       "</table>\n"
      ],
      "text/latex": [
       "A data.frame: 5 × 2\n",
       "\\begin{tabular}{ll}\n",
       " CS\\_RACA & n\\\\\n",
       " <int> & <int>\\\\\n",
       "\\hline\n",
       "\t 1 & 14265\\\\\n",
       "\t 2 &  7481\\\\\n",
       "\t 3 &   870\\\\\n",
       "\t 4 & 46287\\\\\n",
       "\t 5 &   258\\\\\n",
       "\\end{tabular}\n"
      ],
      "text/markdown": [
       "\n",
       "A data.frame: 5 × 2\n",
       "\n",
       "| CS_RACA &lt;int&gt; | n &lt;int&gt; |\n",
       "|---|---|\n",
       "| 1 | 14265 |\n",
       "| 2 |  7481 |\n",
       "| 3 |   870 |\n",
       "| 4 | 46287 |\n",
       "| 5 |   258 |\n",
       "\n"
      ],
      "text/plain": [
       "  CS_RACA n    \n",
       "1 1       14265\n",
       "2 2        7481\n",
       "3 3         870\n",
       "4 4       46287\n",
       "5 5         258"
      ]
     },
     "metadata": {},
     "output_type": "display_data"
    },
    {
     "data": {
      "text/html": [
       "<style>\n",
       ".list-inline {list-style: none; margin:0; padding: 0}\n",
       ".list-inline>li {display: inline-block}\n",
       ".list-inline>li:not(:last-child)::after {content: \"\\00b7\"; padding: 0 .5ex}\n",
       "</style>\n",
       "<ol class=list-inline><li>69161</li><li>51</li></ol>\n"
      ],
      "text/latex": [
       "\\begin{enumerate*}\n",
       "\\item 69161\n",
       "\\item 51\n",
       "\\end{enumerate*}\n"
      ],
      "text/markdown": [
       "1. 69161\n",
       "2. 51\n",
       "\n",
       "\n"
      ],
      "text/plain": [
       "[1] 69161    51"
      ]
     },
     "metadata": {},
     "output_type": "display_data"
    },
    {
     "data": {
      "text/html": [
       "<table class=\"dataframe\">\n",
       "<caption>A data.frame: 6 × 2</caption>\n",
       "<thead>\n",
       "\t<tr><th scope=col>EVOLUCAO</th><th scope=col>n</th></tr>\n",
       "\t<tr><th scope=col>&lt;int&gt;</th><th scope=col>&lt;int&gt;</th></tr>\n",
       "</thead>\n",
       "<tbody>\n",
       "\t<tr><td> 1</td><td>44013</td></tr>\n",
       "\t<tr><td> 2</td><td>   22</td></tr>\n",
       "\t<tr><td> 3</td><td>  101</td></tr>\n",
       "\t<tr><td> 4</td><td>   16</td></tr>\n",
       "\t<tr><td> 9</td><td> 2916</td></tr>\n",
       "\t<tr><td>NA</td><td>22093</td></tr>\n",
       "</tbody>\n",
       "</table>\n"
      ],
      "text/latex": [
       "A data.frame: 6 × 2\n",
       "\\begin{tabular}{ll}\n",
       " EVOLUCAO & n\\\\\n",
       " <int> & <int>\\\\\n",
       "\\hline\n",
       "\t  1 & 44013\\\\\n",
       "\t  2 &    22\\\\\n",
       "\t  3 &   101\\\\\n",
       "\t  4 &    16\\\\\n",
       "\t  9 &  2916\\\\\n",
       "\t NA & 22093\\\\\n",
       "\\end{tabular}\n"
      ],
      "text/markdown": [
       "\n",
       "A data.frame: 6 × 2\n",
       "\n",
       "| EVOLUCAO &lt;int&gt; | n &lt;int&gt; |\n",
       "|---|---|\n",
       "|  1 | 44013 |\n",
       "|  2 |    22 |\n",
       "|  3 |   101 |\n",
       "|  4 |    16 |\n",
       "|  9 |  2916 |\n",
       "| NA | 22093 |\n",
       "\n"
      ],
      "text/plain": [
       "  EVOLUCAO n    \n",
       "1  1       44013\n",
       "2  2          22\n",
       "3  3         101\n",
       "4  4          16\n",
       "5  9        2916\n",
       "6 NA       22093"
      ]
     },
     "metadata": {},
     "output_type": "display_data"
    },
    {
     "data": {
      "text/html": [
       "<table class=\"dataframe\">\n",
       "<caption>A data.frame: 4 × 2</caption>\n",
       "<thead>\n",
       "\t<tr><th scope=col>HOSPITALIZ</th><th scope=col>n</th></tr>\n",
       "\t<tr><th scope=col>&lt;int&gt;</th><th scope=col>&lt;int&gt;</th></tr>\n",
       "</thead>\n",
       "<tbody>\n",
       "\t<tr><td> 1</td><td> 2066</td></tr>\n",
       "\t<tr><td> 2</td><td>36032</td></tr>\n",
       "\t<tr><td> 9</td><td> 1159</td></tr>\n",
       "\t<tr><td>NA</td><td>29904</td></tr>\n",
       "</tbody>\n",
       "</table>\n"
      ],
      "text/latex": [
       "A data.frame: 4 × 2\n",
       "\\begin{tabular}{ll}\n",
       " HOSPITALIZ & n\\\\\n",
       " <int> & <int>\\\\\n",
       "\\hline\n",
       "\t  1 &  2066\\\\\n",
       "\t  2 & 36032\\\\\n",
       "\t  9 &  1159\\\\\n",
       "\t NA & 29904\\\\\n",
       "\\end{tabular}\n"
      ],
      "text/markdown": [
       "\n",
       "A data.frame: 4 × 2\n",
       "\n",
       "| HOSPITALIZ &lt;int&gt; | n &lt;int&gt; |\n",
       "|---|---|\n",
       "|  1 |  2066 |\n",
       "|  2 | 36032 |\n",
       "|  9 |  1159 |\n",
       "| NA | 29904 |\n",
       "\n"
      ],
      "text/plain": [
       "  HOSPITALIZ n    \n",
       "1  1          2066\n",
       "2  2         36032\n",
       "3  9          1159\n",
       "4 NA         29904"
      ]
     },
     "metadata": {},
     "output_type": "display_data"
    }
   ],
   "source": [
    "# remove unknown race, or na values\n",
    "\n",
    "data %>% count(CS_RACA)\n",
    "\n",
    "data %>% filter(!is.na(CS_RACA)) %>% filter(CS_RACA < 9) %>% count(CS_RACA)\n",
    "\n",
    "data %>% filter(!is.na(CS_RACA)) %>% filter(CS_RACA < 9) -> data\n",
    "\n",
    "data %>% dim\n",
    "\n",
    "data %>% count(EVOLUCAO)\n",
    "data %>% count(HOSPITALIZ)"
   ]
  },
  {
   "cell_type": "code",
   "execution_count": 21,
   "id": "1322e5e0",
   "metadata": {},
   "outputs": [
    {
     "data": {
      "text/html": [
       "<table class=\"dataframe\">\n",
       "<caption>A data.frame: 11 × 2</caption>\n",
       "<thead>\n",
       "\t<tr><th scope=col>CS_ESCOL_N</th><th scope=col>n</th></tr>\n",
       "\t<tr><th scope=col>&lt;int&gt;</th><th scope=col>&lt;int&gt;</th></tr>\n",
       "</thead>\n",
       "<tbody>\n",
       "\t<tr><td> 0</td><td>  850</td></tr>\n",
       "\t<tr><td> 1</td><td> 3101</td></tr>\n",
       "\t<tr><td> 2</td><td> 1818</td></tr>\n",
       "\t<tr><td> 3</td><td> 4609</td></tr>\n",
       "\t<tr><td> 4</td><td> 2903</td></tr>\n",
       "\t<tr><td> 5</td><td> 4144</td></tr>\n",
       "\t<tr><td> 6</td><td>12810</td></tr>\n",
       "\t<tr><td> 7</td><td> 1481</td></tr>\n",
       "\t<tr><td> 8</td><td> 4037</td></tr>\n",
       "\t<tr><td> 9</td><td>21657</td></tr>\n",
       "\t<tr><td>NA</td><td>11751</td></tr>\n",
       "</tbody>\n",
       "</table>\n"
      ],
      "text/latex": [
       "A data.frame: 11 × 2\n",
       "\\begin{tabular}{ll}\n",
       " CS\\_ESCOL\\_N & n\\\\\n",
       " <int> & <int>\\\\\n",
       "\\hline\n",
       "\t  0 &   850\\\\\n",
       "\t  1 &  3101\\\\\n",
       "\t  2 &  1818\\\\\n",
       "\t  3 &  4609\\\\\n",
       "\t  4 &  2903\\\\\n",
       "\t  5 &  4144\\\\\n",
       "\t  6 & 12810\\\\\n",
       "\t  7 &  1481\\\\\n",
       "\t  8 &  4037\\\\\n",
       "\t  9 & 21657\\\\\n",
       "\t NA & 11751\\\\\n",
       "\\end{tabular}\n"
      ],
      "text/markdown": [
       "\n",
       "A data.frame: 11 × 2\n",
       "\n",
       "| CS_ESCOL_N &lt;int&gt; | n &lt;int&gt; |\n",
       "|---|---|\n",
       "|  0 |   850 |\n",
       "|  1 |  3101 |\n",
       "|  2 |  1818 |\n",
       "|  3 |  4609 |\n",
       "|  4 |  2903 |\n",
       "|  5 |  4144 |\n",
       "|  6 | 12810 |\n",
       "|  7 |  1481 |\n",
       "|  8 |  4037 |\n",
       "|  9 | 21657 |\n",
       "| NA | 11751 |\n",
       "\n"
      ],
      "text/plain": [
       "   CS_ESCOL_N n    \n",
       "1   0           850\n",
       "2   1          3101\n",
       "3   2          1818\n",
       "4   3          4609\n",
       "5   4          2903\n",
       "6   5          4144\n",
       "7   6         12810\n",
       "8   7          1481\n",
       "9   8          4037\n",
       "10  9         21657\n",
       "11 NA         11751"
      ]
     },
     "metadata": {},
     "output_type": "display_data"
    },
    {
     "data": {
      "text/html": [
       "<table class=\"dataframe\">\n",
       "<caption>A data.frame: 10 × 2</caption>\n",
       "<thead>\n",
       "\t<tr><th scope=col>CS_ESCOL_N</th><th scope=col>n</th></tr>\n",
       "\t<tr><th scope=col>&lt;int&gt;</th><th scope=col>&lt;int&gt;</th></tr>\n",
       "</thead>\n",
       "<tbody>\n",
       "\t<tr><td> 0</td><td>  850</td></tr>\n",
       "\t<tr><td> 1</td><td> 3101</td></tr>\n",
       "\t<tr><td> 2</td><td> 1818</td></tr>\n",
       "\t<tr><td> 3</td><td> 4609</td></tr>\n",
       "\t<tr><td> 4</td><td> 2903</td></tr>\n",
       "\t<tr><td> 5</td><td> 4144</td></tr>\n",
       "\t<tr><td> 6</td><td>12810</td></tr>\n",
       "\t<tr><td> 7</td><td> 1481</td></tr>\n",
       "\t<tr><td> 8</td><td> 4037</td></tr>\n",
       "\t<tr><td>NA</td><td>33408</td></tr>\n",
       "</tbody>\n",
       "</table>\n"
      ],
      "text/latex": [
       "A data.frame: 10 × 2\n",
       "\\begin{tabular}{ll}\n",
       " CS\\_ESCOL\\_N & n\\\\\n",
       " <int> & <int>\\\\\n",
       "\\hline\n",
       "\t  0 &   850\\\\\n",
       "\t  1 &  3101\\\\\n",
       "\t  2 &  1818\\\\\n",
       "\t  3 &  4609\\\\\n",
       "\t  4 &  2903\\\\\n",
       "\t  5 &  4144\\\\\n",
       "\t  6 & 12810\\\\\n",
       "\t  7 &  1481\\\\\n",
       "\t  8 &  4037\\\\\n",
       "\t NA & 33408\\\\\n",
       "\\end{tabular}\n"
      ],
      "text/markdown": [
       "\n",
       "A data.frame: 10 × 2\n",
       "\n",
       "| CS_ESCOL_N &lt;int&gt; | n &lt;int&gt; |\n",
       "|---|---|\n",
       "|  0 |   850 |\n",
       "|  1 |  3101 |\n",
       "|  2 |  1818 |\n",
       "|  3 |  4609 |\n",
       "|  4 |  2903 |\n",
       "|  5 |  4144 |\n",
       "|  6 | 12810 |\n",
       "|  7 |  1481 |\n",
       "|  8 |  4037 |\n",
       "| NA | 33408 |\n",
       "\n"
      ],
      "text/plain": [
       "   CS_ESCOL_N n    \n",
       "1   0           850\n",
       "2   1          3101\n",
       "3   2          1818\n",
       "4   3          4609\n",
       "5   4          2903\n",
       "6   5          4144\n",
       "7   6         12810\n",
       "8   7          1481\n",
       "9   8          4037\n",
       "10 NA         33408"
      ]
     },
     "metadata": {},
     "output_type": "display_data"
    }
   ],
   "source": [
    "# check year of schooling. 9 = unknown. \n",
    "data %>% count(CS_ESCOL_N)\n",
    "\n",
    "data$CS_ESCOL_N[data$CS_ESCOL_N == 9] <- NA\n",
    "\n",
    "data %>% count(CS_ESCOL_N)"
   ]
  },
  {
   "cell_type": "code",
   "execution_count": 22,
   "id": "41affa7b",
   "metadata": {},
   "outputs": [
    {
     "data": {
      "text/html": [
       "35238"
      ],
      "text/latex": [
       "35238"
      ],
      "text/markdown": [
       "35238"
      ],
      "text/plain": [
       "[1] 35238"
      ]
     },
     "metadata": {},
     "output_type": "display_data"
    },
    {
     "data": {
      "text/html": [
       "<table class=\"dataframe\">\n",
       "<caption>A tibble: 10 × 2</caption>\n",
       "<thead>\n",
       "\t<tr><th scope=col>CS_ESCOL_N</th><th scope=col>n</th></tr>\n",
       "\t<tr><th scope=col>&lt;dbl&gt;</th><th scope=col>&lt;int&gt;</th></tr>\n",
       "</thead>\n",
       "<tbody>\n",
       "\t<tr><td>  0</td><td>  973</td></tr>\n",
       "\t<tr><td>  1</td><td> 3651</td></tr>\n",
       "\t<tr><td>  2</td><td> 2416</td></tr>\n",
       "\t<tr><td>  3</td><td> 5964</td></tr>\n",
       "\t<tr><td>  4</td><td> 5244</td></tr>\n",
       "\t<tr><td>  5</td><td> 8095</td></tr>\n",
       "\t<tr><td>  6</td><td>18216</td></tr>\n",
       "\t<tr><td>  7</td><td> 2180</td></tr>\n",
       "\t<tr><td>  8</td><td> 4708</td></tr>\n",
       "\t<tr><td>NaN</td><td>17714</td></tr>\n",
       "</tbody>\n",
       "</table>\n"
      ],
      "text/latex": [
       "A tibble: 10 × 2\n",
       "\\begin{tabular}{ll}\n",
       " CS\\_ESCOL\\_N & n\\\\\n",
       " <dbl> & <int>\\\\\n",
       "\\hline\n",
       "\t   0 &   973\\\\\n",
       "\t   1 &  3651\\\\\n",
       "\t   2 &  2416\\\\\n",
       "\t   3 &  5964\\\\\n",
       "\t   4 &  5244\\\\\n",
       "\t   5 &  8095\\\\\n",
       "\t   6 & 18216\\\\\n",
       "\t   7 &  2180\\\\\n",
       "\t   8 &  4708\\\\\n",
       "\t NaN & 17714\\\\\n",
       "\\end{tabular}\n"
      ],
      "text/markdown": [
       "\n",
       "A tibble: 10 × 2\n",
       "\n",
       "| CS_ESCOL_N &lt;dbl&gt; | n &lt;int&gt; |\n",
       "|---|---|\n",
       "|   0 |   973 |\n",
       "|   1 |  3651 |\n",
       "|   2 |  2416 |\n",
       "|   3 |  5964 |\n",
       "|   4 |  5244 |\n",
       "|   5 |  8095 |\n",
       "|   6 | 18216 |\n",
       "|   7 |  2180 |\n",
       "|   8 |  4708 |\n",
       "| NaN | 17714 |\n",
       "\n"
      ],
      "text/plain": [
       "   CS_ESCOL_N n    \n",
       "1    0          973\n",
       "2    1         3651\n",
       "3    2         2416\n",
       "4    3         5964\n",
       "5    4         5244\n",
       "6    5         8095\n",
       "7    6        18216\n",
       "8    7         2180\n",
       "9    8         4708\n",
       "10 NaN        17714"
      ]
     },
     "metadata": {},
     "output_type": "display_data"
    }
   ],
   "source": [
    "# how many groups by age, race, city and sex\n",
    "data %>% group_by(age, CS_RACA, ID_MN_RESI, sex) %>% n_groups\n",
    "\n",
    "# create a new column with the average\n",
    "data %>% group_by(age, CS_RACA, ID_MN_RESI, sex) %>% mutate(average = mean(CS_ESCOL_N, na.rm=TRUE)) %>% \n",
    "    ungroup -> data\n",
    "\n",
    "# when CS_ESCOL_N is na change by the average\n",
    "data %>% mutate(CS_ESCOL_N = if_else((is.na(CS_ESCOL_N)), round(average), CS_ESCOL_N)) %>% count(CS_ESCOL_N)\n",
    "data %>% mutate(CS_ESCOL_N = if_else((is.na(CS_ESCOL_N)), round(average), CS_ESCOL_N)) -> data\n",
    "data %>% select(-average) -> data"
   ]
  },
  {
   "cell_type": "code",
   "execution_count": 23,
   "id": "ab7c972b",
   "metadata": {},
   "outputs": [
    {
     "data": {
      "text/html": [
       "<table class=\"dataframe\">\n",
       "<caption>A tibble: 10 × 2</caption>\n",
       "<thead>\n",
       "\t<tr><th scope=col>CS_ESCOL_N</th><th scope=col>n</th></tr>\n",
       "\t<tr><th scope=col>&lt;dbl&gt;</th><th scope=col>&lt;int&gt;</th></tr>\n",
       "</thead>\n",
       "<tbody>\n",
       "\t<tr><td>  0</td><td> 1022</td></tr>\n",
       "\t<tr><td>  1</td><td> 3820</td></tr>\n",
       "\t<tr><td>  2</td><td> 3018</td></tr>\n",
       "\t<tr><td>  3</td><td> 7748</td></tr>\n",
       "\t<tr><td>  4</td><td> 8689</td></tr>\n",
       "\t<tr><td>  5</td><td>15329</td></tr>\n",
       "\t<tr><td>  6</td><td>22424</td></tr>\n",
       "\t<tr><td>  7</td><td> 2221</td></tr>\n",
       "\t<tr><td>  8</td><td> 4719</td></tr>\n",
       "\t<tr><td>NaN</td><td>  171</td></tr>\n",
       "</tbody>\n",
       "</table>\n"
      ],
      "text/latex": [
       "A tibble: 10 × 2\n",
       "\\begin{tabular}{ll}\n",
       " CS\\_ESCOL\\_N & n\\\\\n",
       " <dbl> & <int>\\\\\n",
       "\\hline\n",
       "\t   0 &  1022\\\\\n",
       "\t   1 &  3820\\\\\n",
       "\t   2 &  3018\\\\\n",
       "\t   3 &  7748\\\\\n",
       "\t   4 &  8689\\\\\n",
       "\t   5 & 15329\\\\\n",
       "\t   6 & 22424\\\\\n",
       "\t   7 &  2221\\\\\n",
       "\t   8 &  4719\\\\\n",
       "\t NaN &   171\\\\\n",
       "\\end{tabular}\n"
      ],
      "text/markdown": [
       "\n",
       "A tibble: 10 × 2\n",
       "\n",
       "| CS_ESCOL_N &lt;dbl&gt; | n &lt;int&gt; |\n",
       "|---|---|\n",
       "|   0 |  1022 |\n",
       "|   1 |  3820 |\n",
       "|   2 |  3018 |\n",
       "|   3 |  7748 |\n",
       "|   4 |  8689 |\n",
       "|   5 | 15329 |\n",
       "|   6 | 22424 |\n",
       "|   7 |  2221 |\n",
       "|   8 |  4719 |\n",
       "| NaN |   171 |\n",
       "\n"
      ],
      "text/plain": [
       "   CS_ESCOL_N n    \n",
       "1    0         1022\n",
       "2    1         3820\n",
       "3    2         3018\n",
       "4    3         7748\n",
       "5    4         8689\n",
       "6    5        15329\n",
       "7    6        22424\n",
       "8    7         2221\n",
       "9    8         4719\n",
       "10 NaN          171"
      ]
     },
     "metadata": {},
     "output_type": "display_data"
    }
   ],
   "source": [
    "# create a new column with the average\n",
    "data %>% group_by(age, CS_RACA, sex) %>% mutate(average = mean(CS_ESCOL_N, na.rm=TRUE)) %>% \n",
    "    ungroup -> data\n",
    "\n",
    "# when CS_ESCOL_N is na change by the average\n",
    "data %>% mutate(CS_ESCOL_N = if_else((is.na(CS_ESCOL_N)), round(average), CS_ESCOL_N)) %>% count(CS_ESCOL_N)\n",
    "data %>% mutate(CS_ESCOL_N = if_else((is.na(CS_ESCOL_N)), round(average), CS_ESCOL_N)) -> data\n",
    "data %>% select(-average) -> data"
   ]
  },
  {
   "cell_type": "markdown",
   "id": "71deaf4c",
   "metadata": {},
   "source": [
    "### Filter 7: remove patients without schooling information (after input by group)"
   ]
  },
  {
   "cell_type": "code",
   "execution_count": 24,
   "id": "90ca4bec",
   "metadata": {},
   "outputs": [
    {
     "data": {
      "text/html": [
       "<table class=\"dataframe\">\n",
       "<caption>A tibble: 10 × 2</caption>\n",
       "<thead>\n",
       "\t<tr><th scope=col>CS_ESCOL_N</th><th scope=col>n</th></tr>\n",
       "\t<tr><th scope=col>&lt;dbl&gt;</th><th scope=col>&lt;int&gt;</th></tr>\n",
       "</thead>\n",
       "<tbody>\n",
       "\t<tr><td>  0</td><td> 1022</td></tr>\n",
       "\t<tr><td>  1</td><td> 3820</td></tr>\n",
       "\t<tr><td>  2</td><td> 3018</td></tr>\n",
       "\t<tr><td>  3</td><td> 7748</td></tr>\n",
       "\t<tr><td>  4</td><td> 8689</td></tr>\n",
       "\t<tr><td>  5</td><td>15329</td></tr>\n",
       "\t<tr><td>  6</td><td>22424</td></tr>\n",
       "\t<tr><td>  7</td><td> 2221</td></tr>\n",
       "\t<tr><td>  8</td><td> 4719</td></tr>\n",
       "\t<tr><td>NaN</td><td>  171</td></tr>\n",
       "</tbody>\n",
       "</table>\n"
      ],
      "text/latex": [
       "A tibble: 10 × 2\n",
       "\\begin{tabular}{ll}\n",
       " CS\\_ESCOL\\_N & n\\\\\n",
       " <dbl> & <int>\\\\\n",
       "\\hline\n",
       "\t   0 &  1022\\\\\n",
       "\t   1 &  3820\\\\\n",
       "\t   2 &  3018\\\\\n",
       "\t   3 &  7748\\\\\n",
       "\t   4 &  8689\\\\\n",
       "\t   5 & 15329\\\\\n",
       "\t   6 & 22424\\\\\n",
       "\t   7 &  2221\\\\\n",
       "\t   8 &  4719\\\\\n",
       "\t NaN &   171\\\\\n",
       "\\end{tabular}\n"
      ],
      "text/markdown": [
       "\n",
       "A tibble: 10 × 2\n",
       "\n",
       "| CS_ESCOL_N &lt;dbl&gt; | n &lt;int&gt; |\n",
       "|---|---|\n",
       "|   0 |  1022 |\n",
       "|   1 |  3820 |\n",
       "|   2 |  3018 |\n",
       "|   3 |  7748 |\n",
       "|   4 |  8689 |\n",
       "|   5 | 15329 |\n",
       "|   6 | 22424 |\n",
       "|   7 |  2221 |\n",
       "|   8 |  4719 |\n",
       "| NaN |   171 |\n",
       "\n"
      ],
      "text/plain": [
       "   CS_ESCOL_N n    \n",
       "1    0         1022\n",
       "2    1         3820\n",
       "3    2         3018\n",
       "4    3         7748\n",
       "5    4         8689\n",
       "6    5        15329\n",
       "7    6        22424\n",
       "8    7         2221\n",
       "9    8         4719\n",
       "10 NaN          171"
      ]
     },
     "metadata": {},
     "output_type": "display_data"
    },
    {
     "data": {
      "text/html": [
       "<table class=\"dataframe\">\n",
       "<caption>A tibble: 6 × 2</caption>\n",
       "<thead>\n",
       "\t<tr><th scope=col>EVOLUCAO</th><th scope=col>n</th></tr>\n",
       "\t<tr><th scope=col>&lt;int&gt;</th><th scope=col>&lt;int&gt;</th></tr>\n",
       "</thead>\n",
       "<tbody>\n",
       "\t<tr><td> 1</td><td>43911</td></tr>\n",
       "\t<tr><td> 2</td><td>   22</td></tr>\n",
       "\t<tr><td> 3</td><td>  101</td></tr>\n",
       "\t<tr><td> 4</td><td>   15</td></tr>\n",
       "\t<tr><td> 9</td><td> 2912</td></tr>\n",
       "\t<tr><td>NA</td><td>22029</td></tr>\n",
       "</tbody>\n",
       "</table>\n"
      ],
      "text/latex": [
       "A tibble: 6 × 2\n",
       "\\begin{tabular}{ll}\n",
       " EVOLUCAO & n\\\\\n",
       " <int> & <int>\\\\\n",
       "\\hline\n",
       "\t  1 & 43911\\\\\n",
       "\t  2 &    22\\\\\n",
       "\t  3 &   101\\\\\n",
       "\t  4 &    15\\\\\n",
       "\t  9 &  2912\\\\\n",
       "\t NA & 22029\\\\\n",
       "\\end{tabular}\n"
      ],
      "text/markdown": [
       "\n",
       "A tibble: 6 × 2\n",
       "\n",
       "| EVOLUCAO &lt;int&gt; | n &lt;int&gt; |\n",
       "|---|---|\n",
       "|  1 | 43911 |\n",
       "|  2 |    22 |\n",
       "|  3 |   101 |\n",
       "|  4 |    15 |\n",
       "|  9 |  2912 |\n",
       "| NA | 22029 |\n",
       "\n"
      ],
      "text/plain": [
       "  EVOLUCAO n    \n",
       "1  1       43911\n",
       "2  2          22\n",
       "3  3         101\n",
       "4  4          15\n",
       "5  9        2912\n",
       "6 NA       22029"
      ]
     },
     "metadata": {},
     "output_type": "display_data"
    },
    {
     "data": {
      "text/html": [
       "<table class=\"dataframe\">\n",
       "<caption>A tibble: 4 × 2</caption>\n",
       "<thead>\n",
       "\t<tr><th scope=col>HOSPITALIZ</th><th scope=col>n</th></tr>\n",
       "\t<tr><th scope=col>&lt;int&gt;</th><th scope=col>&lt;int&gt;</th></tr>\n",
       "</thead>\n",
       "<tbody>\n",
       "\t<tr><td> 1</td><td> 2059</td></tr>\n",
       "\t<tr><td> 2</td><td>35956</td></tr>\n",
       "\t<tr><td> 9</td><td> 1151</td></tr>\n",
       "\t<tr><td>NA</td><td>29824</td></tr>\n",
       "</tbody>\n",
       "</table>\n"
      ],
      "text/latex": [
       "A tibble: 4 × 2\n",
       "\\begin{tabular}{ll}\n",
       " HOSPITALIZ & n\\\\\n",
       " <int> & <int>\\\\\n",
       "\\hline\n",
       "\t  1 &  2059\\\\\n",
       "\t  2 & 35956\\\\\n",
       "\t  9 &  1151\\\\\n",
       "\t NA & 29824\\\\\n",
       "\\end{tabular}\n"
      ],
      "text/markdown": [
       "\n",
       "A tibble: 4 × 2\n",
       "\n",
       "| HOSPITALIZ &lt;int&gt; | n &lt;int&gt; |\n",
       "|---|---|\n",
       "|  1 |  2059 |\n",
       "|  2 | 35956 |\n",
       "|  9 |  1151 |\n",
       "| NA | 29824 |\n",
       "\n"
      ],
      "text/plain": [
       "  HOSPITALIZ n    \n",
       "1  1          2059\n",
       "2  2         35956\n",
       "3  9          1151\n",
       "4 NA         29824"
      ]
     },
     "metadata": {},
     "output_type": "display_data"
    },
    {
     "data": {
      "text/html": [
       "<style>\n",
       ".list-inline {list-style: none; margin:0; padding: 0}\n",
       ".list-inline>li {display: inline-block}\n",
       ".list-inline>li:not(:last-child)::after {content: \"\\00b7\"; padding: 0 .5ex}\n",
       "</style>\n",
       "<ol class=list-inline><li>68990</li><li>51</li></ol>\n"
      ],
      "text/latex": [
       "\\begin{enumerate*}\n",
       "\\item 68990\n",
       "\\item 51\n",
       "\\end{enumerate*}\n"
      ],
      "text/markdown": [
       "1. 68990\n",
       "2. 51\n",
       "\n",
       "\n"
      ],
      "text/plain": [
       "[1] 68990    51"
      ]
     },
     "metadata": {},
     "output_type": "display_data"
    }
   ],
   "source": [
    "# if is still na, drop it\n",
    "\n",
    "data %>% count(CS_ESCOL_N)\n",
    "\n",
    "data %>% filter(!(is.na(CS_ESCOL_N))) -> data\n",
    "\n",
    "data %>% count(EVOLUCAO)\n",
    "data %>% count(HOSPITALIZ)\n",
    "\n",
    "data %>% dim"
   ]
  },
  {
   "cell_type": "markdown",
   "id": "af50f849",
   "metadata": {},
   "source": [
    "### Delete columns "
   ]
  },
  {
   "cell_type": "code",
   "execution_count": 25,
   "id": "622e683a",
   "metadata": {},
   "outputs": [],
   "source": [
    "# this feature is correlated with uf \n",
    "\n",
    "data %>% select(-ID_MN_RESI) -> data"
   ]
  },
  {
   "cell_type": "code",
   "execution_count": 26,
   "id": "517a2dbb",
   "metadata": {},
   "outputs": [
    {
     "data": {
      "text/html": [
       "95844"
      ],
      "text/latex": [
       "95844"
      ],
      "text/markdown": [
       "95844"
      ],
      "text/plain": [
       "[1] 95844"
      ]
     },
     "metadata": {},
     "output_type": "display_data"
    }
   ],
   "source": [
    "# check the presence of na's inside the columns of symptoms and comorbities\n",
    "\n",
    "sum(is.na(data %>% select(FEBRE:AUTO_IMUNE)))"
   ]
  },
  {
   "cell_type": "code",
   "execution_count": 27,
   "id": "f15420f0",
   "metadata": {},
   "outputs": [
    {
     "data": {
      "text/html": [
       "0"
      ],
      "text/latex": [
       "0"
      ],
      "text/markdown": [
       "0"
      ],
      "text/plain": [
       "[1] 0"
      ]
     },
     "metadata": {},
     "output_type": "display_data"
    }
   ],
   "source": [
    "# check if the NA's are in the same rows\n",
    "\n",
    "data %>% filter(!is.na(FEBRE)) -> teste\n",
    "sum(is.na(teste %>% select(FEBRE:AUTO_IMUNE)))"
   ]
  },
  {
   "cell_type": "markdown",
   "id": "bd635e8c",
   "metadata": {},
   "source": [
    "### Filter: rows with NA for the symptoms"
   ]
  },
  {
   "cell_type": "code",
   "execution_count": 28,
   "id": "6d4071b1",
   "metadata": {},
   "outputs": [
    {
     "data": {
      "text/html": [
       "<style>\n",
       ".list-inline {list-style: none; margin:0; padding: 0}\n",
       ".list-inline>li {display: inline-block}\n",
       ".list-inline>li:not(:last-child)::after {content: \"\\00b7\"; padding: 0 .5ex}\n",
       "</style>\n",
       "<ol class=list-inline><li>64426</li><li>50</li></ol>\n"
      ],
      "text/latex": [
       "\\begin{enumerate*}\n",
       "\\item 64426\n",
       "\\item 50\n",
       "\\end{enumerate*}\n"
      ],
      "text/markdown": [
       "1. 64426\n",
       "2. 50\n",
       "\n",
       "\n"
      ],
      "text/plain": [
       "[1] 64426    50"
      ]
     },
     "metadata": {},
     "output_type": "display_data"
    },
    {
     "data": {
      "text/html": [
       "<table class=\"dataframe\">\n",
       "<caption>A tibble: 6 × 2</caption>\n",
       "<thead>\n",
       "\t<tr><th scope=col>EVOLUCAO</th><th scope=col>n</th></tr>\n",
       "\t<tr><th scope=col>&lt;int&gt;</th><th scope=col>&lt;int&gt;</th></tr>\n",
       "</thead>\n",
       "<tbody>\n",
       "\t<tr><td> 1</td><td>43909</td></tr>\n",
       "\t<tr><td> 2</td><td>   22</td></tr>\n",
       "\t<tr><td> 3</td><td>  101</td></tr>\n",
       "\t<tr><td> 4</td><td>   15</td></tr>\n",
       "\t<tr><td> 9</td><td> 2912</td></tr>\n",
       "\t<tr><td>NA</td><td>17467</td></tr>\n",
       "</tbody>\n",
       "</table>\n"
      ],
      "text/latex": [
       "A tibble: 6 × 2\n",
       "\\begin{tabular}{ll}\n",
       " EVOLUCAO & n\\\\\n",
       " <int> & <int>\\\\\n",
       "\\hline\n",
       "\t  1 & 43909\\\\\n",
       "\t  2 &    22\\\\\n",
       "\t  3 &   101\\\\\n",
       "\t  4 &    15\\\\\n",
       "\t  9 &  2912\\\\\n",
       "\t NA & 17467\\\\\n",
       "\\end{tabular}\n"
      ],
      "text/markdown": [
       "\n",
       "A tibble: 6 × 2\n",
       "\n",
       "| EVOLUCAO &lt;int&gt; | n &lt;int&gt; |\n",
       "|---|---|\n",
       "|  1 | 43909 |\n",
       "|  2 |    22 |\n",
       "|  3 |   101 |\n",
       "|  4 |    15 |\n",
       "|  9 |  2912 |\n",
       "| NA | 17467 |\n",
       "\n"
      ],
      "text/plain": [
       "  EVOLUCAO n    \n",
       "1  1       43909\n",
       "2  2          22\n",
       "3  3         101\n",
       "4  4          15\n",
       "5  9        2912\n",
       "6 NA       17467"
      ]
     },
     "metadata": {},
     "output_type": "display_data"
    },
    {
     "data": {
      "text/html": [
       "<table class=\"dataframe\">\n",
       "<caption>A tibble: 4 × 2</caption>\n",
       "<thead>\n",
       "\t<tr><th scope=col>HOSPITALIZ</th><th scope=col>n</th></tr>\n",
       "\t<tr><th scope=col>&lt;int&gt;</th><th scope=col>&lt;int&gt;</th></tr>\n",
       "</thead>\n",
       "<tbody>\n",
       "\t<tr><td> 1</td><td> 2059</td></tr>\n",
       "\t<tr><td> 2</td><td>35956</td></tr>\n",
       "\t<tr><td> 9</td><td> 1151</td></tr>\n",
       "\t<tr><td>NA</td><td>25260</td></tr>\n",
       "</tbody>\n",
       "</table>\n"
      ],
      "text/latex": [
       "A tibble: 4 × 2\n",
       "\\begin{tabular}{ll}\n",
       " HOSPITALIZ & n\\\\\n",
       " <int> & <int>\\\\\n",
       "\\hline\n",
       "\t  1 &  2059\\\\\n",
       "\t  2 & 35956\\\\\n",
       "\t  9 &  1151\\\\\n",
       "\t NA & 25260\\\\\n",
       "\\end{tabular}\n"
      ],
      "text/markdown": [
       "\n",
       "A tibble: 4 × 2\n",
       "\n",
       "| HOSPITALIZ &lt;int&gt; | n &lt;int&gt; |\n",
       "|---|---|\n",
       "|  1 |  2059 |\n",
       "|  2 | 35956 |\n",
       "|  9 |  1151 |\n",
       "| NA | 25260 |\n",
       "\n"
      ],
      "text/plain": [
       "  HOSPITALIZ n    \n",
       "1  1          2059\n",
       "2  2         35956\n",
       "3  9          1151\n",
       "4 NA         25260"
      ]
     },
     "metadata": {},
     "output_type": "display_data"
    }
   ],
   "source": [
    "# filter rows with NA for the symptoms\n",
    "\n",
    "data %>% filter(!is.na(FEBRE)) -> data\n",
    "\n",
    "data %>% dim\n",
    "data %>% count(EVOLUCAO)\n",
    "data %>% count(HOSPITALIZ)"
   ]
  },
  {
   "cell_type": "code",
   "execution_count": 29,
   "id": "a8c0bd5e",
   "metadata": {},
   "outputs": [
    {
     "data": {
      "text/html": [
       "<table class=\"dataframe\">\n",
       "<caption>A tibble: 6 × 22</caption>\n",
       "<thead>\n",
       "\t<tr><th scope=col>FEBRE</th><th scope=col>MIALGIA</th><th scope=col>CEFALEIA</th><th scope=col>EXANTEMA</th><th scope=col>VOMITO</th><th scope=col>NAUSEA</th><th scope=col>DOR_COSTAS</th><th scope=col>CONJUNTVIT</th><th scope=col>ARTRITE</th><th scope=col>ARTRALGIA</th><th scope=col>⋯</th><th scope=col>LACO</th><th scope=col>DOR_RETRO</th><th scope=col>DIABETES</th><th scope=col>HEMATOLOG</th><th scope=col>HEPATOPAT</th><th scope=col>RENAL</th><th scope=col>HIPERTENSA</th><th scope=col>ACIDO_PEPT</th><th scope=col>AUTO_IMUNE</th><th scope=col>HOSPITALIZ</th></tr>\n",
       "\t<tr><th scope=col>&lt;int&gt;</th><th scope=col>&lt;int&gt;</th><th scope=col>&lt;int&gt;</th><th scope=col>&lt;int&gt;</th><th scope=col>&lt;int&gt;</th><th scope=col>&lt;int&gt;</th><th scope=col>&lt;int&gt;</th><th scope=col>&lt;int&gt;</th><th scope=col>&lt;int&gt;</th><th scope=col>&lt;int&gt;</th><th scope=col>⋯</th><th scope=col>&lt;int&gt;</th><th scope=col>&lt;int&gt;</th><th scope=col>&lt;int&gt;</th><th scope=col>&lt;int&gt;</th><th scope=col>&lt;int&gt;</th><th scope=col>&lt;int&gt;</th><th scope=col>&lt;int&gt;</th><th scope=col>&lt;int&gt;</th><th scope=col>&lt;int&gt;</th><th scope=col>&lt;int&gt;</th></tr>\n",
       "</thead>\n",
       "<tbody>\n",
       "\t<tr><td>1</td><td>1</td><td>1</td><td>2</td><td>2</td><td>2</td><td>1</td><td>2</td><td>2</td><td>2</td><td>⋯</td><td>1</td><td>2</td><td>2</td><td>2</td><td>2</td><td>2</td><td>2</td><td>2</td><td>2</td><td> 2</td></tr>\n",
       "\t<tr><td>2</td><td>2</td><td>2</td><td>2</td><td>2</td><td>2</td><td>2</td><td>2</td><td>2</td><td>2</td><td>⋯</td><td>2</td><td>2</td><td>2</td><td>2</td><td>2</td><td>2</td><td>2</td><td>2</td><td>2</td><td> 2</td></tr>\n",
       "\t<tr><td>1</td><td>1</td><td>1</td><td>1</td><td>1</td><td>2</td><td>2</td><td>2</td><td>2</td><td>2</td><td>⋯</td><td>2</td><td>2</td><td>2</td><td>2</td><td>2</td><td>2</td><td>2</td><td>2</td><td>2</td><td>NA</td></tr>\n",
       "\t<tr><td>2</td><td>2</td><td>2</td><td>2</td><td>2</td><td>2</td><td>2</td><td>2</td><td>2</td><td>2</td><td>⋯</td><td>2</td><td>2</td><td>2</td><td>2</td><td>2</td><td>2</td><td>2</td><td>2</td><td>2</td><td> 2</td></tr>\n",
       "\t<tr><td>2</td><td>2</td><td>2</td><td>2</td><td>2</td><td>2</td><td>2</td><td>2</td><td>2</td><td>2</td><td>⋯</td><td>2</td><td>2</td><td>2</td><td>2</td><td>2</td><td>2</td><td>2</td><td>2</td><td>2</td><td> 2</td></tr>\n",
       "\t<tr><td>1</td><td>1</td><td>1</td><td>2</td><td>2</td><td>2</td><td>1</td><td>2</td><td>2</td><td>2</td><td>⋯</td><td>2</td><td>2</td><td>2</td><td>2</td><td>2</td><td>2</td><td>2</td><td>2</td><td>2</td><td> 2</td></tr>\n",
       "</tbody>\n",
       "</table>\n"
      ],
      "text/latex": [
       "A tibble: 6 × 22\n",
       "\\begin{tabular}{lllllllllllllllllllll}\n",
       " FEBRE & MIALGIA & CEFALEIA & EXANTEMA & VOMITO & NAUSEA & DOR\\_COSTAS & CONJUNTVIT & ARTRITE & ARTRALGIA & ⋯ & LACO & DOR\\_RETRO & DIABETES & HEMATOLOG & HEPATOPAT & RENAL & HIPERTENSA & ACIDO\\_PEPT & AUTO\\_IMUNE & HOSPITALIZ\\\\\n",
       " <int> & <int> & <int> & <int> & <int> & <int> & <int> & <int> & <int> & <int> & ⋯ & <int> & <int> & <int> & <int> & <int> & <int> & <int> & <int> & <int> & <int>\\\\\n",
       "\\hline\n",
       "\t 1 & 1 & 1 & 2 & 2 & 2 & 1 & 2 & 2 & 2 & ⋯ & 1 & 2 & 2 & 2 & 2 & 2 & 2 & 2 & 2 &  2\\\\\n",
       "\t 2 & 2 & 2 & 2 & 2 & 2 & 2 & 2 & 2 & 2 & ⋯ & 2 & 2 & 2 & 2 & 2 & 2 & 2 & 2 & 2 &  2\\\\\n",
       "\t 1 & 1 & 1 & 1 & 1 & 2 & 2 & 2 & 2 & 2 & ⋯ & 2 & 2 & 2 & 2 & 2 & 2 & 2 & 2 & 2 & NA\\\\\n",
       "\t 2 & 2 & 2 & 2 & 2 & 2 & 2 & 2 & 2 & 2 & ⋯ & 2 & 2 & 2 & 2 & 2 & 2 & 2 & 2 & 2 &  2\\\\\n",
       "\t 2 & 2 & 2 & 2 & 2 & 2 & 2 & 2 & 2 & 2 & ⋯ & 2 & 2 & 2 & 2 & 2 & 2 & 2 & 2 & 2 &  2\\\\\n",
       "\t 1 & 1 & 1 & 2 & 2 & 2 & 1 & 2 & 2 & 2 & ⋯ & 2 & 2 & 2 & 2 & 2 & 2 & 2 & 2 & 2 &  2\\\\\n",
       "\\end{tabular}\n"
      ],
      "text/markdown": [
       "\n",
       "A tibble: 6 × 22\n",
       "\n",
       "| FEBRE &lt;int&gt; | MIALGIA &lt;int&gt; | CEFALEIA &lt;int&gt; | EXANTEMA &lt;int&gt; | VOMITO &lt;int&gt; | NAUSEA &lt;int&gt; | DOR_COSTAS &lt;int&gt; | CONJUNTVIT &lt;int&gt; | ARTRITE &lt;int&gt; | ARTRALGIA &lt;int&gt; | ⋯ ⋯ | LACO &lt;int&gt; | DOR_RETRO &lt;int&gt; | DIABETES &lt;int&gt; | HEMATOLOG &lt;int&gt; | HEPATOPAT &lt;int&gt; | RENAL &lt;int&gt; | HIPERTENSA &lt;int&gt; | ACIDO_PEPT &lt;int&gt; | AUTO_IMUNE &lt;int&gt; | HOSPITALIZ &lt;int&gt; |\n",
       "|---|---|---|---|---|---|---|---|---|---|---|---|---|---|---|---|---|---|---|---|---|\n",
       "| 1 | 1 | 1 | 2 | 2 | 2 | 1 | 2 | 2 | 2 | ⋯ | 1 | 2 | 2 | 2 | 2 | 2 | 2 | 2 | 2 |  2 |\n",
       "| 2 | 2 | 2 | 2 | 2 | 2 | 2 | 2 | 2 | 2 | ⋯ | 2 | 2 | 2 | 2 | 2 | 2 | 2 | 2 | 2 |  2 |\n",
       "| 1 | 1 | 1 | 1 | 1 | 2 | 2 | 2 | 2 | 2 | ⋯ | 2 | 2 | 2 | 2 | 2 | 2 | 2 | 2 | 2 | NA |\n",
       "| 2 | 2 | 2 | 2 | 2 | 2 | 2 | 2 | 2 | 2 | ⋯ | 2 | 2 | 2 | 2 | 2 | 2 | 2 | 2 | 2 |  2 |\n",
       "| 2 | 2 | 2 | 2 | 2 | 2 | 2 | 2 | 2 | 2 | ⋯ | 2 | 2 | 2 | 2 | 2 | 2 | 2 | 2 | 2 |  2 |\n",
       "| 1 | 1 | 1 | 2 | 2 | 2 | 1 | 2 | 2 | 2 | ⋯ | 2 | 2 | 2 | 2 | 2 | 2 | 2 | 2 | 2 |  2 |\n",
       "\n"
      ],
      "text/plain": [
       "  FEBRE MIALGIA CEFALEIA EXANTEMA VOMITO NAUSEA DOR_COSTAS CONJUNTVIT ARTRITE\n",
       "1 1     1       1        2        2      2      1          2          2      \n",
       "2 2     2       2        2        2      2      2          2          2      \n",
       "3 1     1       1        1        1      2      2          2          2      \n",
       "4 2     2       2        2        2      2      2          2          2      \n",
       "5 2     2       2        2        2      2      2          2          2      \n",
       "6 1     1       1        2        2      2      1          2          2      \n",
       "  ARTRALGIA ⋯ LACO DOR_RETRO DIABETES HEMATOLOG HEPATOPAT RENAL HIPERTENSA\n",
       "1 2         ⋯ 1    2         2        2         2         2     2         \n",
       "2 2         ⋯ 2    2         2        2         2         2     2         \n",
       "3 2         ⋯ 2    2         2        2         2         2     2         \n",
       "4 2         ⋯ 2    2         2        2         2         2     2         \n",
       "5 2         ⋯ 2    2         2        2         2         2     2         \n",
       "6 2         ⋯ 2    2         2        2         2         2     2         \n",
       "  ACIDO_PEPT AUTO_IMUNE HOSPITALIZ\n",
       "1 2          2           2        \n",
       "2 2          2           2        \n",
       "3 2          2          NA        \n",
       "4 2          2           2        \n",
       "5 2          2           2        \n",
       "6 2          2           2        "
      ]
     },
     "metadata": {},
     "output_type": "display_data"
    },
    {
     "data": {
      "text/html": [
       "<table class=\"dataframe\">\n",
       "<caption>A tibble: 6 × 22</caption>\n",
       "<thead>\n",
       "\t<tr><th scope=col>FEBRE</th><th scope=col>MIALGIA</th><th scope=col>CEFALEIA</th><th scope=col>EXANTEMA</th><th scope=col>VOMITO</th><th scope=col>NAUSEA</th><th scope=col>DOR_COSTAS</th><th scope=col>CONJUNTVIT</th><th scope=col>ARTRITE</th><th scope=col>ARTRALGIA</th><th scope=col>⋯</th><th scope=col>LACO</th><th scope=col>DOR_RETRO</th><th scope=col>DIABETES</th><th scope=col>HEMATOLOG</th><th scope=col>HEPATOPAT</th><th scope=col>RENAL</th><th scope=col>HIPERTENSA</th><th scope=col>ACIDO_PEPT</th><th scope=col>AUTO_IMUNE</th><th scope=col>HOSPITALIZ</th></tr>\n",
       "\t<tr><th scope=col>&lt;dbl&gt;</th><th scope=col>&lt;dbl&gt;</th><th scope=col>&lt;dbl&gt;</th><th scope=col>&lt;dbl&gt;</th><th scope=col>&lt;dbl&gt;</th><th scope=col>&lt;dbl&gt;</th><th scope=col>&lt;dbl&gt;</th><th scope=col>&lt;dbl&gt;</th><th scope=col>&lt;dbl&gt;</th><th scope=col>&lt;dbl&gt;</th><th scope=col>⋯</th><th scope=col>&lt;dbl&gt;</th><th scope=col>&lt;dbl&gt;</th><th scope=col>&lt;dbl&gt;</th><th scope=col>&lt;dbl&gt;</th><th scope=col>&lt;dbl&gt;</th><th scope=col>&lt;dbl&gt;</th><th scope=col>&lt;dbl&gt;</th><th scope=col>&lt;dbl&gt;</th><th scope=col>&lt;dbl&gt;</th><th scope=col>&lt;dbl&gt;</th></tr>\n",
       "</thead>\n",
       "<tbody>\n",
       "\t<tr><td>1</td><td>1</td><td>1</td><td>0</td><td>0</td><td>0</td><td>1</td><td>0</td><td>0</td><td>0</td><td>⋯</td><td>1</td><td>0</td><td>0</td><td>0</td><td>0</td><td>0</td><td>0</td><td>0</td><td>0</td><td> 0</td></tr>\n",
       "\t<tr><td>0</td><td>0</td><td>0</td><td>0</td><td>0</td><td>0</td><td>0</td><td>0</td><td>0</td><td>0</td><td>⋯</td><td>0</td><td>0</td><td>0</td><td>0</td><td>0</td><td>0</td><td>0</td><td>0</td><td>0</td><td> 0</td></tr>\n",
       "\t<tr><td>1</td><td>1</td><td>1</td><td>1</td><td>1</td><td>0</td><td>0</td><td>0</td><td>0</td><td>0</td><td>⋯</td><td>0</td><td>0</td><td>0</td><td>0</td><td>0</td><td>0</td><td>0</td><td>0</td><td>0</td><td>NA</td></tr>\n",
       "\t<tr><td>0</td><td>0</td><td>0</td><td>0</td><td>0</td><td>0</td><td>0</td><td>0</td><td>0</td><td>0</td><td>⋯</td><td>0</td><td>0</td><td>0</td><td>0</td><td>0</td><td>0</td><td>0</td><td>0</td><td>0</td><td> 0</td></tr>\n",
       "\t<tr><td>0</td><td>0</td><td>0</td><td>0</td><td>0</td><td>0</td><td>0</td><td>0</td><td>0</td><td>0</td><td>⋯</td><td>0</td><td>0</td><td>0</td><td>0</td><td>0</td><td>0</td><td>0</td><td>0</td><td>0</td><td> 0</td></tr>\n",
       "\t<tr><td>1</td><td>1</td><td>1</td><td>0</td><td>0</td><td>0</td><td>1</td><td>0</td><td>0</td><td>0</td><td>⋯</td><td>0</td><td>0</td><td>0</td><td>0</td><td>0</td><td>0</td><td>0</td><td>0</td><td>0</td><td> 0</td></tr>\n",
       "</tbody>\n",
       "</table>\n"
      ],
      "text/latex": [
       "A tibble: 6 × 22\n",
       "\\begin{tabular}{lllllllllllllllllllll}\n",
       " FEBRE & MIALGIA & CEFALEIA & EXANTEMA & VOMITO & NAUSEA & DOR\\_COSTAS & CONJUNTVIT & ARTRITE & ARTRALGIA & ⋯ & LACO & DOR\\_RETRO & DIABETES & HEMATOLOG & HEPATOPAT & RENAL & HIPERTENSA & ACIDO\\_PEPT & AUTO\\_IMUNE & HOSPITALIZ\\\\\n",
       " <dbl> & <dbl> & <dbl> & <dbl> & <dbl> & <dbl> & <dbl> & <dbl> & <dbl> & <dbl> & ⋯ & <dbl> & <dbl> & <dbl> & <dbl> & <dbl> & <dbl> & <dbl> & <dbl> & <dbl> & <dbl>\\\\\n",
       "\\hline\n",
       "\t 1 & 1 & 1 & 0 & 0 & 0 & 1 & 0 & 0 & 0 & ⋯ & 1 & 0 & 0 & 0 & 0 & 0 & 0 & 0 & 0 &  0\\\\\n",
       "\t 0 & 0 & 0 & 0 & 0 & 0 & 0 & 0 & 0 & 0 & ⋯ & 0 & 0 & 0 & 0 & 0 & 0 & 0 & 0 & 0 &  0\\\\\n",
       "\t 1 & 1 & 1 & 1 & 1 & 0 & 0 & 0 & 0 & 0 & ⋯ & 0 & 0 & 0 & 0 & 0 & 0 & 0 & 0 & 0 & NA\\\\\n",
       "\t 0 & 0 & 0 & 0 & 0 & 0 & 0 & 0 & 0 & 0 & ⋯ & 0 & 0 & 0 & 0 & 0 & 0 & 0 & 0 & 0 &  0\\\\\n",
       "\t 0 & 0 & 0 & 0 & 0 & 0 & 0 & 0 & 0 & 0 & ⋯ & 0 & 0 & 0 & 0 & 0 & 0 & 0 & 0 & 0 &  0\\\\\n",
       "\t 1 & 1 & 1 & 0 & 0 & 0 & 1 & 0 & 0 & 0 & ⋯ & 0 & 0 & 0 & 0 & 0 & 0 & 0 & 0 & 0 &  0\\\\\n",
       "\\end{tabular}\n"
      ],
      "text/markdown": [
       "\n",
       "A tibble: 6 × 22\n",
       "\n",
       "| FEBRE &lt;dbl&gt; | MIALGIA &lt;dbl&gt; | CEFALEIA &lt;dbl&gt; | EXANTEMA &lt;dbl&gt; | VOMITO &lt;dbl&gt; | NAUSEA &lt;dbl&gt; | DOR_COSTAS &lt;dbl&gt; | CONJUNTVIT &lt;dbl&gt; | ARTRITE &lt;dbl&gt; | ARTRALGIA &lt;dbl&gt; | ⋯ ⋯ | LACO &lt;dbl&gt; | DOR_RETRO &lt;dbl&gt; | DIABETES &lt;dbl&gt; | HEMATOLOG &lt;dbl&gt; | HEPATOPAT &lt;dbl&gt; | RENAL &lt;dbl&gt; | HIPERTENSA &lt;dbl&gt; | ACIDO_PEPT &lt;dbl&gt; | AUTO_IMUNE &lt;dbl&gt; | HOSPITALIZ &lt;dbl&gt; |\n",
       "|---|---|---|---|---|---|---|---|---|---|---|---|---|---|---|---|---|---|---|---|---|\n",
       "| 1 | 1 | 1 | 0 | 0 | 0 | 1 | 0 | 0 | 0 | ⋯ | 1 | 0 | 0 | 0 | 0 | 0 | 0 | 0 | 0 |  0 |\n",
       "| 0 | 0 | 0 | 0 | 0 | 0 | 0 | 0 | 0 | 0 | ⋯ | 0 | 0 | 0 | 0 | 0 | 0 | 0 | 0 | 0 |  0 |\n",
       "| 1 | 1 | 1 | 1 | 1 | 0 | 0 | 0 | 0 | 0 | ⋯ | 0 | 0 | 0 | 0 | 0 | 0 | 0 | 0 | 0 | NA |\n",
       "| 0 | 0 | 0 | 0 | 0 | 0 | 0 | 0 | 0 | 0 | ⋯ | 0 | 0 | 0 | 0 | 0 | 0 | 0 | 0 | 0 |  0 |\n",
       "| 0 | 0 | 0 | 0 | 0 | 0 | 0 | 0 | 0 | 0 | ⋯ | 0 | 0 | 0 | 0 | 0 | 0 | 0 | 0 | 0 |  0 |\n",
       "| 1 | 1 | 1 | 0 | 0 | 0 | 1 | 0 | 0 | 0 | ⋯ | 0 | 0 | 0 | 0 | 0 | 0 | 0 | 0 | 0 |  0 |\n",
       "\n"
      ],
      "text/plain": [
       "  FEBRE MIALGIA CEFALEIA EXANTEMA VOMITO NAUSEA DOR_COSTAS CONJUNTVIT ARTRITE\n",
       "1 1     1       1        0        0      0      1          0          0      \n",
       "2 0     0       0        0        0      0      0          0          0      \n",
       "3 1     1       1        1        1      0      0          0          0      \n",
       "4 0     0       0        0        0      0      0          0          0      \n",
       "5 0     0       0        0        0      0      0          0          0      \n",
       "6 1     1       1        0        0      0      1          0          0      \n",
       "  ARTRALGIA ⋯ LACO DOR_RETRO DIABETES HEMATOLOG HEPATOPAT RENAL HIPERTENSA\n",
       "1 0         ⋯ 1    0         0        0         0         0     0         \n",
       "2 0         ⋯ 0    0         0        0         0         0     0         \n",
       "3 0         ⋯ 0    0         0        0         0         0     0         \n",
       "4 0         ⋯ 0    0         0        0         0         0     0         \n",
       "5 0         ⋯ 0    0         0        0         0         0     0         \n",
       "6 0         ⋯ 0    0         0        0         0         0     0         \n",
       "  ACIDO_PEPT AUTO_IMUNE HOSPITALIZ\n",
       "1 0          0           0        \n",
       "2 0          0           0        \n",
       "3 0          0          NA        \n",
       "4 0          0           0        \n",
       "5 0          0           0        \n",
       "6 0          0           0        "
      ]
     },
     "metadata": {},
     "output_type": "display_data"
    }
   ],
   "source": [
    "# the value 2 means the non-occurrence of a symptom, change this to 0\n",
    "\n",
    "data %>% select(FEBRE:AUTO_IMUNE, HOSPITALIZ) -> symptoms\n",
    "data %>% select(!(FEBRE:AUTO_IMUNE)) %>% select(-c(HOSPITALIZ)) -> others\n",
    "\n",
    "symptoms %>% head\n",
    "\n",
    "symptoms <- symptoms %>%\n",
    "  mutate_all(~ ifelse(. == 2, 0, .))\n",
    "\n",
    "symptoms %>% head\n",
    "\n",
    "symptoms %>% cbind(others) -> data\n",
    "\n",
    "data$EVOLUCAO[data$EVOLUCAO == 1] <- 0\n",
    "data$EVOLUCAO[data$EVOLUCAO == 2] <- 1"
   ]
  },
  {
   "cell_type": "markdown",
   "id": "e85fe105",
   "metadata": {},
   "source": [
    "### Filter 8: keep only patients in the acute stage of the disease"
   ]
  },
  {
   "cell_type": "code",
   "execution_count": 30,
   "id": "47c75d97",
   "metadata": {},
   "outputs": [],
   "source": [
    "# only patients in the acute stage \n",
    "\n",
    "data %>% filter(CLINC_CHIK == 1) -> data\n",
    "data %>% select(-CLINC_CHIK) -> data"
   ]
  },
  {
   "cell_type": "code",
   "execution_count": 31,
   "id": "3cb388c3",
   "metadata": {},
   "outputs": [
    {
     "data": {
      "text/html": [
       "<table class=\"dataframe\">\n",
       "<caption>A data.frame: 1 × 1</caption>\n",
       "<thead>\n",
       "\t<tr><th scope=col>DT_SIN_PRI</th></tr>\n",
       "\t<tr><th scope=col>&lt;date&gt;</th></tr>\n",
       "</thead>\n",
       "<tbody>\n",
       "\t<tr><td>1968-12-30</td></tr>\n",
       "</tbody>\n",
       "</table>\n"
      ],
      "text/latex": [
       "A data.frame: 1 × 1\n",
       "\\begin{tabular}{l}\n",
       " DT\\_SIN\\_PRI\\\\\n",
       " <date>\\\\\n",
       "\\hline\n",
       "\t 1968-12-30\\\\\n",
       "\\end{tabular}\n"
      ],
      "text/markdown": [
       "\n",
       "A data.frame: 1 × 1\n",
       "\n",
       "| DT_SIN_PRI &lt;date&gt; |\n",
       "|---|\n",
       "| 1968-12-30 |\n",
       "\n"
      ],
      "text/plain": [
       "  DT_SIN_PRI\n",
       "1 1968-12-30"
      ]
     },
     "metadata": {},
     "output_type": "display_data"
    },
    {
     "data": {
      "text/html": [
       "<table class=\"dataframe\">\n",
       "<caption>A data.frame: 1 × 1</caption>\n",
       "<thead>\n",
       "\t<tr><th scope=col>DT_SIN_PRI</th></tr>\n",
       "\t<tr><th scope=col>&lt;date&gt;</th></tr>\n",
       "</thead>\n",
       "<tbody>\n",
       "\t<tr><td>2021-01-02</td></tr>\n",
       "</tbody>\n",
       "</table>\n"
      ],
      "text/latex": [
       "A data.frame: 1 × 1\n",
       "\\begin{tabular}{l}\n",
       " DT\\_SIN\\_PRI\\\\\n",
       " <date>\\\\\n",
       "\\hline\n",
       "\t 2021-01-02\\\\\n",
       "\\end{tabular}\n"
      ],
      "text/markdown": [
       "\n",
       "A data.frame: 1 × 1\n",
       "\n",
       "| DT_SIN_PRI &lt;date&gt; |\n",
       "|---|\n",
       "| 2021-01-02 |\n",
       "\n"
      ],
      "text/plain": [
       "  DT_SIN_PRI\n",
       "1 2021-01-02"
      ]
     },
     "metadata": {},
     "output_type": "display_data"
    }
   ],
   "source": [
    "# date of the first symptoms \n",
    "\n",
    "# change format\n",
    "\n",
    "data$DT_SIN_PRI <- as.Date(data$DT_SIN_PRI)\n",
    "\n",
    "# first and last date\n",
    "\n",
    "data %>% select(DT_SIN_PRI) %>% arrange(DT_SIN_PRI) %>% slice(1)\n",
    "data %>% select(DT_SIN_PRI) %>% arrange(desc(DT_SIN_PRI)) %>% slice(1)\n",
    "\n"
   ]
  },
  {
   "cell_type": "markdown",
   "id": "4c03007d",
   "metadata": {},
   "source": [
    "### Filter: remove notifications from previous years"
   ]
  },
  {
   "cell_type": "code",
   "execution_count": 32,
   "id": "824acbc7",
   "metadata": {},
   "outputs": [
    {
     "data": {
      "text/html": [
       "<style>\n",
       ".list-inline {list-style: none; margin:0; padding: 0}\n",
       ".list-inline>li {display: inline-block}\n",
       ".list-inline>li:not(:last-child)::after {content: \"\\00b7\"; padding: 0 .5ex}\n",
       "</style>\n",
       "<ol class=list-inline><li>35759</li><li>49</li></ol>\n"
      ],
      "text/latex": [
       "\\begin{enumerate*}\n",
       "\\item 35759\n",
       "\\item 49\n",
       "\\end{enumerate*}\n"
      ],
      "text/markdown": [
       "1. 35759\n",
       "2. 49\n",
       "\n",
       "\n"
      ],
      "text/plain": [
       "[1] 35759    49"
      ]
     },
     "metadata": {},
     "output_type": "display_data"
    },
    {
     "data": {
      "text/html": [
       "<style>\n",
       ".list-inline {list-style: none; margin:0; padding: 0}\n",
       ".list-inline>li {display: inline-block}\n",
       ".list-inline>li:not(:last-child)::after {content: \"\\00b7\"; padding: 0 .5ex}\n",
       "</style>\n",
       "<ol class=list-inline><li>'FEBRE'</li><li>'MIALGIA'</li><li>'CEFALEIA'</li><li>'EXANTEMA'</li><li>'VOMITO'</li><li>'NAUSEA'</li><li>'DOR_COSTAS'</li><li>'CONJUNTVIT'</li><li>'ARTRITE'</li><li>'ARTRALGIA'</li><li>'PETEQUIA_N'</li><li>'LEUCOPENIA'</li><li>'LACO'</li><li>'DOR_RETRO'</li><li>'DIABETES'</li><li>'HEMATOLOG'</li><li>'HEPATOPAT'</li><li>'RENAL'</li><li>'HIPERTENSA'</li><li>'ACIDO_PEPT'</li><li>'AUTO_IMUNE'</li><li>'HOSPITALIZ'</li><li>'SG_UF_NOT'</li><li>'ID_UNIDADE'</li><li>'DT_SIN_PRI'</li><li>'SEM_PRI'</li><li>'CS_RACA'</li><li>'CS_ESCOL_N'</li><li>'DT_CHIK_S1'</li><li>'DT_CHIK_S2'</li><li>'DT_PRNT'</li><li>'RES_CHIKS1'</li><li>'RES_CHIKS2'</li><li>'RESUL_PRNT'</li><li>'DT_SORO'</li><li>'RESUL_SORO'</li><li>'DT_NS1'</li><li>'RESUL_NS1'</li><li>'DT_VIRAL'</li><li>'RESUL_VI_N'</li><li>'DT_PCR'</li><li>'RESUL_PCR_'</li><li>'DT_INTERNA'</li><li>'CLASSI_FIN'</li><li>'EVOLUCAO'</li><li>'DT_OBITO'</li><li>'age'</li><li>'sex'</li><li>'pregnant'</li></ol>\n"
      ],
      "text/latex": [
       "\\begin{enumerate*}\n",
       "\\item 'FEBRE'\n",
       "\\item 'MIALGIA'\n",
       "\\item 'CEFALEIA'\n",
       "\\item 'EXANTEMA'\n",
       "\\item 'VOMITO'\n",
       "\\item 'NAUSEA'\n",
       "\\item 'DOR\\_COSTAS'\n",
       "\\item 'CONJUNTVIT'\n",
       "\\item 'ARTRITE'\n",
       "\\item 'ARTRALGIA'\n",
       "\\item 'PETEQUIA\\_N'\n",
       "\\item 'LEUCOPENIA'\n",
       "\\item 'LACO'\n",
       "\\item 'DOR\\_RETRO'\n",
       "\\item 'DIABETES'\n",
       "\\item 'HEMATOLOG'\n",
       "\\item 'HEPATOPAT'\n",
       "\\item 'RENAL'\n",
       "\\item 'HIPERTENSA'\n",
       "\\item 'ACIDO\\_PEPT'\n",
       "\\item 'AUTO\\_IMUNE'\n",
       "\\item 'HOSPITALIZ'\n",
       "\\item 'SG\\_UF\\_NOT'\n",
       "\\item 'ID\\_UNIDADE'\n",
       "\\item 'DT\\_SIN\\_PRI'\n",
       "\\item 'SEM\\_PRI'\n",
       "\\item 'CS\\_RACA'\n",
       "\\item 'CS\\_ESCOL\\_N'\n",
       "\\item 'DT\\_CHIK\\_S1'\n",
       "\\item 'DT\\_CHIK\\_S2'\n",
       "\\item 'DT\\_PRNT'\n",
       "\\item 'RES\\_CHIKS1'\n",
       "\\item 'RES\\_CHIKS2'\n",
       "\\item 'RESUL\\_PRNT'\n",
       "\\item 'DT\\_SORO'\n",
       "\\item 'RESUL\\_SORO'\n",
       "\\item 'DT\\_NS1'\n",
       "\\item 'RESUL\\_NS1'\n",
       "\\item 'DT\\_VIRAL'\n",
       "\\item 'RESUL\\_VI\\_N'\n",
       "\\item 'DT\\_PCR'\n",
       "\\item 'RESUL\\_PCR\\_'\n",
       "\\item 'DT\\_INTERNA'\n",
       "\\item 'CLASSI\\_FIN'\n",
       "\\item 'EVOLUCAO'\n",
       "\\item 'DT\\_OBITO'\n",
       "\\item 'age'\n",
       "\\item 'sex'\n",
       "\\item 'pregnant'\n",
       "\\end{enumerate*}\n"
      ],
      "text/markdown": [
       "1. 'FEBRE'\n",
       "2. 'MIALGIA'\n",
       "3. 'CEFALEIA'\n",
       "4. 'EXANTEMA'\n",
       "5. 'VOMITO'\n",
       "6. 'NAUSEA'\n",
       "7. 'DOR_COSTAS'\n",
       "8. 'CONJUNTVIT'\n",
       "9. 'ARTRITE'\n",
       "10. 'ARTRALGIA'\n",
       "11. 'PETEQUIA_N'\n",
       "12. 'LEUCOPENIA'\n",
       "13. 'LACO'\n",
       "14. 'DOR_RETRO'\n",
       "15. 'DIABETES'\n",
       "16. 'HEMATOLOG'\n",
       "17. 'HEPATOPAT'\n",
       "18. 'RENAL'\n",
       "19. 'HIPERTENSA'\n",
       "20. 'ACIDO_PEPT'\n",
       "21. 'AUTO_IMUNE'\n",
       "22. 'HOSPITALIZ'\n",
       "23. 'SG_UF_NOT'\n",
       "24. 'ID_UNIDADE'\n",
       "25. 'DT_SIN_PRI'\n",
       "26. 'SEM_PRI'\n",
       "27. 'CS_RACA'\n",
       "28. 'CS_ESCOL_N'\n",
       "29. 'DT_CHIK_S1'\n",
       "30. 'DT_CHIK_S2'\n",
       "31. 'DT_PRNT'\n",
       "32. 'RES_CHIKS1'\n",
       "33. 'RES_CHIKS2'\n",
       "34. 'RESUL_PRNT'\n",
       "35. 'DT_SORO'\n",
       "36. 'RESUL_SORO'\n",
       "37. 'DT_NS1'\n",
       "38. 'RESUL_NS1'\n",
       "39. 'DT_VIRAL'\n",
       "40. 'RESUL_VI_N'\n",
       "41. 'DT_PCR'\n",
       "42. 'RESUL_PCR_'\n",
       "43. 'DT_INTERNA'\n",
       "44. 'CLASSI_FIN'\n",
       "45. 'EVOLUCAO'\n",
       "46. 'DT_OBITO'\n",
       "47. 'age'\n",
       "48. 'sex'\n",
       "49. 'pregnant'\n",
       "\n",
       "\n"
      ],
      "text/plain": [
       " [1] \"FEBRE\"      \"MIALGIA\"    \"CEFALEIA\"   \"EXANTEMA\"   \"VOMITO\"    \n",
       " [6] \"NAUSEA\"     \"DOR_COSTAS\" \"CONJUNTVIT\" \"ARTRITE\"    \"ARTRALGIA\" \n",
       "[11] \"PETEQUIA_N\" \"LEUCOPENIA\" \"LACO\"       \"DOR_RETRO\"  \"DIABETES\"  \n",
       "[16] \"HEMATOLOG\"  \"HEPATOPAT\"  \"RENAL\"      \"HIPERTENSA\" \"ACIDO_PEPT\"\n",
       "[21] \"AUTO_IMUNE\" \"HOSPITALIZ\" \"SG_UF_NOT\"  \"ID_UNIDADE\" \"DT_SIN_PRI\"\n",
       "[26] \"SEM_PRI\"    \"CS_RACA\"    \"CS_ESCOL_N\" \"DT_CHIK_S1\" \"DT_CHIK_S2\"\n",
       "[31] \"DT_PRNT\"    \"RES_CHIKS1\" \"RES_CHIKS2\" \"RESUL_PRNT\" \"DT_SORO\"   \n",
       "[36] \"RESUL_SORO\" \"DT_NS1\"     \"RESUL_NS1\"  \"DT_VIRAL\"   \"RESUL_VI_N\"\n",
       "[41] \"DT_PCR\"     \"RESUL_PCR_\" \"DT_INTERNA\" \"CLASSI_FIN\" \"EVOLUCAO\"  \n",
       "[46] \"DT_OBITO\"   \"age\"        \"sex\"        \"pregnant\"  "
      ]
     },
     "metadata": {},
     "output_type": "display_data"
    }
   ],
   "source": [
    "data %>% filter(SEM_PRI > 202000) -> data\n",
    "\n",
    "# change date format\n",
    "\n",
    "data %>% mutate(SEM_PRI = SEM_PRI - 202200) -> data\n",
    "\n",
    "data %>% dim\n",
    "data %>% colnames"
   ]
  },
  {
   "cell_type": "code",
   "execution_count": 33,
   "id": "8be3114a",
   "metadata": {},
   "outputs": [],
   "source": [
    "data %>% select(-c('DT_CHIK_S1','DT_CHIK_S2','DT_PRNT',\n",
    "                   'RES_CHIKS1','RES_CHIKS2','RESUL_PRNT',\n",
    "                   'DT_SORO','RESUL_SORO','DT_NS1','RESUL_NS1','DT_VIRAL',\n",
    "                   'RESUL_VI_N','DT_PCR','RESUL_PCR_')) -> data"
   ]
  },
  {
   "cell_type": "code",
   "execution_count": 34,
   "id": "9edf9c05",
   "metadata": {},
   "outputs": [],
   "source": [
    "colnames(data) <- c(\"fever\", 'myalgia','headache',\n",
    "                  'exanthema', 'vomiting','nausea',\n",
    "                  'back_pain','conjunctivitis', 'arthritis', \n",
    "                  'arthralgia', 'petechiae', 'leukopenia', \n",
    "                  'lasso_prove', 'retro_orbital_pain', 'diabetes', \n",
    "                  'hematological_diseases', 'hepatopathies', 'chronic_kidney_disease', \n",
    "                  'arterial_hypertension', 'acid_peptic_disease', 'autoimmune_diseases',\n",
    "                  'hospitalization','id_state','id_place',\n",
    "                  'dt_first_symptoms', 'epidemiological_week', \n",
    "                  'race', 'schooling_years', 'dt_hospitalization', \n",
    "                  'chikungunya', 'death', 'dt_death', \n",
    "                  'age', 'sex', 'pregnancy')"
   ]
  },
  {
   "cell_type": "markdown",
   "id": "c4d0d337",
   "metadata": {},
   "source": [
    "### Filter 9: only patients cured or dead with the disease "
   ]
  },
  {
   "cell_type": "markdown",
   "id": "df423ced",
   "metadata": {},
   "source": [
    "1- cura (cured), 2- óbito pelo agravo (death by chikungunya) 3- óbito por outras causas (death by other reasons) 4- óbito em investigação (death under investigation) 9- ignorado (ignored)"
   ]
  },
  {
   "cell_type": "code",
   "execution_count": 35,
   "id": "ff1ee881",
   "metadata": {},
   "outputs": [
    {
     "data": {
      "text/html": [
       "<table class=\"dataframe\">\n",
       "<caption>A data.frame: 6 × 2</caption>\n",
       "<thead>\n",
       "\t<tr><th scope=col>death</th><th scope=col>n</th></tr>\n",
       "\t<tr><th scope=col>&lt;dbl&gt;</th><th scope=col>&lt;int&gt;</th></tr>\n",
       "</thead>\n",
       "<tbody>\n",
       "\t<tr><td> 0</td><td>32824</td></tr>\n",
       "\t<tr><td> 1</td><td>   18</td></tr>\n",
       "\t<tr><td> 3</td><td>   36</td></tr>\n",
       "\t<tr><td> 4</td><td>   10</td></tr>\n",
       "\t<tr><td> 9</td><td> 1611</td></tr>\n",
       "\t<tr><td>NA</td><td> 1260</td></tr>\n",
       "</tbody>\n",
       "</table>\n"
      ],
      "text/latex": [
       "A data.frame: 6 × 2\n",
       "\\begin{tabular}{ll}\n",
       " death & n\\\\\n",
       " <dbl> & <int>\\\\\n",
       "\\hline\n",
       "\t  0 & 32824\\\\\n",
       "\t  1 &    18\\\\\n",
       "\t  3 &    36\\\\\n",
       "\t  4 &    10\\\\\n",
       "\t  9 &  1611\\\\\n",
       "\t NA &  1260\\\\\n",
       "\\end{tabular}\n"
      ],
      "text/markdown": [
       "\n",
       "A data.frame: 6 × 2\n",
       "\n",
       "| death &lt;dbl&gt; | n &lt;int&gt; |\n",
       "|---|---|\n",
       "|  0 | 32824 |\n",
       "|  1 |    18 |\n",
       "|  3 |    36 |\n",
       "|  4 |    10 |\n",
       "|  9 |  1611 |\n",
       "| NA |  1260 |\n",
       "\n"
      ],
      "text/plain": [
       "  death n    \n",
       "1  0    32824\n",
       "2  1       18\n",
       "3  3       36\n",
       "4  4       10\n",
       "5  9     1611\n",
       "6 NA     1260"
      ]
     },
     "metadata": {},
     "output_type": "display_data"
    },
    {
     "data": {
      "text/html": [
       "<style>\n",
       ".list-inline {list-style: none; margin:0; padding: 0}\n",
       ".list-inline>li {display: inline-block}\n",
       ".list-inline>li:not(:last-child)::after {content: \"\\00b7\"; padding: 0 .5ex}\n",
       "</style>\n",
       "<ol class=list-inline><li>32842</li><li>35</li></ol>\n"
      ],
      "text/latex": [
       "\\begin{enumerate*}\n",
       "\\item 32842\n",
       "\\item 35\n",
       "\\end{enumerate*}\n"
      ],
      "text/markdown": [
       "1. 32842\n",
       "2. 35\n",
       "\n",
       "\n"
      ],
      "text/plain": [
       "[1] 32842    35"
      ]
     },
     "metadata": {},
     "output_type": "display_data"
    },
    {
     "data": {
      "text/html": [
       "<table class=\"dataframe\">\n",
       "<caption>A data.frame: 2 × 2</caption>\n",
       "<thead>\n",
       "\t<tr><th scope=col>death</th><th scope=col>n</th></tr>\n",
       "\t<tr><th scope=col>&lt;dbl&gt;</th><th scope=col>&lt;int&gt;</th></tr>\n",
       "</thead>\n",
       "<tbody>\n",
       "\t<tr><td>0</td><td>32824</td></tr>\n",
       "\t<tr><td>1</td><td>   18</td></tr>\n",
       "</tbody>\n",
       "</table>\n"
      ],
      "text/latex": [
       "A data.frame: 2 × 2\n",
       "\\begin{tabular}{ll}\n",
       " death & n\\\\\n",
       " <dbl> & <int>\\\\\n",
       "\\hline\n",
       "\t 0 & 32824\\\\\n",
       "\t 1 &    18\\\\\n",
       "\\end{tabular}\n"
      ],
      "text/markdown": [
       "\n",
       "A data.frame: 2 × 2\n",
       "\n",
       "| death &lt;dbl&gt; | n &lt;int&gt; |\n",
       "|---|---|\n",
       "| 0 | 32824 |\n",
       "| 1 |    18 |\n",
       "\n"
      ],
      "text/plain": [
       "  death n    \n",
       "1 0     32824\n",
       "2 1        18"
      ]
     },
     "metadata": {},
     "output_type": "display_data"
    }
   ],
   "source": [
    "# only cured or dead by the disease\n",
    "\n",
    "data %>% count(death)\n",
    "data %>% filter(death == 1 | death == 0) -> data\n",
    "\n",
    "data %>% dim\n",
    "\n",
    "data %>% count(death)"
   ]
  },
  {
   "cell_type": "code",
   "execution_count": 36,
   "id": "36db4545",
   "metadata": {},
   "outputs": [
    {
     "data": {
      "text/html": [
       "<table class=\"dataframe\">\n",
       "<caption>A data.frame: 2 × 2</caption>\n",
       "<thead>\n",
       "\t<tr><th scope=col>death</th><th scope=col>n</th></tr>\n",
       "\t<tr><th scope=col>&lt;dbl&gt;</th><th scope=col>&lt;int&gt;</th></tr>\n",
       "</thead>\n",
       "<tbody>\n",
       "\t<tr><td>0</td><td>780</td></tr>\n",
       "\t<tr><td>1</td><td> 15</td></tr>\n",
       "</tbody>\n",
       "</table>\n"
      ],
      "text/latex": [
       "A data.frame: 2 × 2\n",
       "\\begin{tabular}{ll}\n",
       " death & n\\\\\n",
       " <dbl> & <int>\\\\\n",
       "\\hline\n",
       "\t 0 & 780\\\\\n",
       "\t 1 &  15\\\\\n",
       "\\end{tabular}\n"
      ],
      "text/markdown": [
       "\n",
       "A data.frame: 2 × 2\n",
       "\n",
       "| death &lt;dbl&gt; | n &lt;int&gt; |\n",
       "|---|---|\n",
       "| 0 | 780 |\n",
       "| 1 |  15 |\n",
       "\n"
      ],
      "text/plain": [
       "  death n  \n",
       "1 0     780\n",
       "2 1      15"
      ]
     },
     "metadata": {},
     "output_type": "display_data"
    }
   ],
   "source": [
    "# filter hospitalized patients\n",
    "\n",
    "data %>% filter(hospitalization == 1) %>% count(death)\n",
    "data %>% filter(hospitalization == 1) -> data"
   ]
  },
  {
   "cell_type": "code",
   "execution_count": 37,
   "id": "13017720",
   "metadata": {},
   "outputs": [
    {
     "data": {
      "text/html": [
       "<table class=\"dataframe\">\n",
       "<caption>A data.frame: 10 × 2</caption>\n",
       "<thead>\n",
       "\t<tr><th scope=col>days</th><th scope=col>n</th></tr>\n",
       "\t<tr><th scope=col>&lt;dbl&gt;</th><th scope=col>&lt;int&gt;</th></tr>\n",
       "</thead>\n",
       "<tbody>\n",
       "\t<tr><td> 0</td><td>  2</td></tr>\n",
       "\t<tr><td> 1</td><td>  2</td></tr>\n",
       "\t<tr><td> 2</td><td>  1</td></tr>\n",
       "\t<tr><td> 3</td><td>  1</td></tr>\n",
       "\t<tr><td> 5</td><td>  1</td></tr>\n",
       "\t<tr><td> 6</td><td>  1</td></tr>\n",
       "\t<tr><td>16</td><td>  1</td></tr>\n",
       "\t<tr><td>28</td><td>  2</td></tr>\n",
       "\t<tr><td>31</td><td>  1</td></tr>\n",
       "\t<tr><td>NA</td><td>783</td></tr>\n",
       "</tbody>\n",
       "</table>\n"
      ],
      "text/latex": [
       "A data.frame: 10 × 2\n",
       "\\begin{tabular}{ll}\n",
       " days & n\\\\\n",
       " <dbl> & <int>\\\\\n",
       "\\hline\n",
       "\t  0 &   2\\\\\n",
       "\t  1 &   2\\\\\n",
       "\t  2 &   1\\\\\n",
       "\t  3 &   1\\\\\n",
       "\t  5 &   1\\\\\n",
       "\t  6 &   1\\\\\n",
       "\t 16 &   1\\\\\n",
       "\t 28 &   2\\\\\n",
       "\t 31 &   1\\\\\n",
       "\t NA & 783\\\\\n",
       "\\end{tabular}\n"
      ],
      "text/markdown": [
       "\n",
       "A data.frame: 10 × 2\n",
       "\n",
       "| days &lt;dbl&gt; | n &lt;int&gt; |\n",
       "|---|---|\n",
       "|  0 |   2 |\n",
       "|  1 |   2 |\n",
       "|  2 |   1 |\n",
       "|  3 |   1 |\n",
       "|  5 |   1 |\n",
       "|  6 |   1 |\n",
       "| 16 |   1 |\n",
       "| 28 |   2 |\n",
       "| 31 |   1 |\n",
       "| NA | 783 |\n",
       "\n"
      ],
      "text/plain": [
       "   days n  \n",
       "1   0     2\n",
       "2   1     2\n",
       "3   2     1\n",
       "4   3     1\n",
       "5   5     1\n",
       "6   6     1\n",
       "7  16     1\n",
       "8  28     2\n",
       "9  31     1\n",
       "10 NA   783"
      ]
     },
     "metadata": {},
     "output_type": "display_data"
    }
   ],
   "source": [
    "# create a column with the number of days between the disease investigation and death\n",
    "\n",
    "data$dt_hospitalization <- as.Date(data$dt_hospitalization)\n",
    "data$dt_death <- as.Date(data$dt_death)\n",
    "\n",
    "data %>% mutate(days = difftime(dt_death, dt_hospitalization, units = 'days')) -> data\n",
    "\n",
    "data$days <- as.numeric(data$days)\n",
    "\n",
    "data %>% count(days)"
   ]
  },
  {
   "cell_type": "markdown",
   "id": "f4d3ce0a",
   "metadata": {},
   "source": [
    "### Filter 10: remove patients that died with more than 30 days after first symptoms"
   ]
  },
  {
   "cell_type": "code",
   "execution_count": 38,
   "id": "75779644",
   "metadata": {},
   "outputs": [
    {
     "data": {
      "text/html": [
       "<table class=\"dataframe\">\n",
       "<caption>A data.frame: 2 × 2</caption>\n",
       "<thead>\n",
       "\t<tr><th scope=col>death</th><th scope=col>n</th></tr>\n",
       "\t<tr><th scope=col>&lt;dbl&gt;</th><th scope=col>&lt;int&gt;</th></tr>\n",
       "</thead>\n",
       "<tbody>\n",
       "\t<tr><td>0</td><td>780</td></tr>\n",
       "\t<tr><td>1</td><td> 14</td></tr>\n",
       "</tbody>\n",
       "</table>\n"
      ],
      "text/latex": [
       "A data.frame: 2 × 2\n",
       "\\begin{tabular}{ll}\n",
       " death & n\\\\\n",
       " <dbl> & <int>\\\\\n",
       "\\hline\n",
       "\t 0 & 780\\\\\n",
       "\t 1 &  14\\\\\n",
       "\\end{tabular}\n"
      ],
      "text/markdown": [
       "\n",
       "A data.frame: 2 × 2\n",
       "\n",
       "| death &lt;dbl&gt; | n &lt;int&gt; |\n",
       "|---|---|\n",
       "| 0 | 780 |\n",
       "| 1 |  14 |\n",
       "\n"
      ],
      "text/plain": [
       "  death n  \n",
       "1 0     780\n",
       "2 1      14"
      ]
     },
     "metadata": {},
     "output_type": "display_data"
    }
   ],
   "source": [
    "# remove patients that died after 30 days of the first sympthoms\n",
    "\n",
    "data %>% filter(days < 31| is.na(days)) -> data\n",
    "\n",
    "data %>% count(death)"
   ]
  },
  {
   "cell_type": "code",
   "execution_count": 39,
   "id": "a3d414f7",
   "metadata": {},
   "outputs": [],
   "source": [
    "data %>% select(c('fever','myalgia','headache','exanthema','vomiting','nausea','back_pain','arthritis',\n",
    "                  'arthralgia','diabetes','chronic_kidney_disease','arterial_hypertension','id_state',\n",
    "                  'id_place','epidemiological_week','race','schooling_years','death','age','sex')) -> data"
   ]
  },
  {
   "cell_type": "code",
   "execution_count": 40,
   "id": "9a438c33",
   "metadata": {},
   "outputs": [
    {
     "data": {
      "text/html": [
       "<style>\n",
       ".list-inline {list-style: none; margin:0; padding: 0}\n",
       ".list-inline>li {display: inline-block}\n",
       ".list-inline>li:not(:last-child)::after {content: \"\\00b7\"; padding: 0 .5ex}\n",
       "</style>\n",
       "<ol class=list-inline><li>'fever'</li><li>'myalgia'</li><li>'headache'</li><li>'exanthema'</li><li>'vomiting'</li><li>'nausea'</li><li>'back_pain'</li><li>'arthritis'</li><li>'arthralgia'</li><li>'diabetes'</li><li>'chronic_kidney_disease'</li><li>'arterial_hypertension'</li><li>'id_state'</li><li>'id_place'</li><li>'epidemiological_week'</li><li>'race'</li><li>'schooling_years'</li><li>'death'</li><li>'age'</li><li>'sex'</li></ol>\n"
      ],
      "text/latex": [
       "\\begin{enumerate*}\n",
       "\\item 'fever'\n",
       "\\item 'myalgia'\n",
       "\\item 'headache'\n",
       "\\item 'exanthema'\n",
       "\\item 'vomiting'\n",
       "\\item 'nausea'\n",
       "\\item 'back\\_pain'\n",
       "\\item 'arthritis'\n",
       "\\item 'arthralgia'\n",
       "\\item 'diabetes'\n",
       "\\item 'chronic\\_kidney\\_disease'\n",
       "\\item 'arterial\\_hypertension'\n",
       "\\item 'id\\_state'\n",
       "\\item 'id\\_place'\n",
       "\\item 'epidemiological\\_week'\n",
       "\\item 'race'\n",
       "\\item 'schooling\\_years'\n",
       "\\item 'death'\n",
       "\\item 'age'\n",
       "\\item 'sex'\n",
       "\\end{enumerate*}\n"
      ],
      "text/markdown": [
       "1. 'fever'\n",
       "2. 'myalgia'\n",
       "3. 'headache'\n",
       "4. 'exanthema'\n",
       "5. 'vomiting'\n",
       "6. 'nausea'\n",
       "7. 'back_pain'\n",
       "8. 'arthritis'\n",
       "9. 'arthralgia'\n",
       "10. 'diabetes'\n",
       "11. 'chronic_kidney_disease'\n",
       "12. 'arterial_hypertension'\n",
       "13. 'id_state'\n",
       "14. 'id_place'\n",
       "15. 'epidemiological_week'\n",
       "16. 'race'\n",
       "17. 'schooling_years'\n",
       "18. 'death'\n",
       "19. 'age'\n",
       "20. 'sex'\n",
       "\n",
       "\n"
      ],
      "text/plain": [
       " [1] \"fever\"                  \"myalgia\"                \"headache\"              \n",
       " [4] \"exanthema\"              \"vomiting\"               \"nausea\"                \n",
       " [7] \"back_pain\"              \"arthritis\"              \"arthralgia\"            \n",
       "[10] \"diabetes\"               \"chronic_kidney_disease\" \"arterial_hypertension\" \n",
       "[13] \"id_state\"               \"id_place\"               \"epidemiological_week\"  \n",
       "[16] \"race\"                   \"schooling_years\"        \"death\"                 \n",
       "[19] \"age\"                    \"sex\"                   "
      ]
     },
     "metadata": {},
     "output_type": "display_data"
    },
    {
     "data": {
      "text/html": [
       "<style>\n",
       ".list-inline {list-style: none; margin:0; padding: 0}\n",
       ".list-inline>li {display: inline-block}\n",
       ".list-inline>li:not(:last-child)::after {content: \"\\00b7\"; padding: 0 .5ex}\n",
       "</style>\n",
       "<ol class=list-inline><li>794</li><li>20</li></ol>\n"
      ],
      "text/latex": [
       "\\begin{enumerate*}\n",
       "\\item 794\n",
       "\\item 20\n",
       "\\end{enumerate*}\n"
      ],
      "text/markdown": [
       "1. 794\n",
       "2. 20\n",
       "\n",
       "\n"
      ],
      "text/plain": [
       "[1] 794  20"
      ]
     },
     "metadata": {},
     "output_type": "display_data"
    },
    {
     "data": {
      "text/html": [
       "<table class=\"dataframe\">\n",
       "<caption>A data.frame: 2 × 2</caption>\n",
       "<thead>\n",
       "\t<tr><th scope=col>death</th><th scope=col>n</th></tr>\n",
       "\t<tr><th scope=col>&lt;dbl&gt;</th><th scope=col>&lt;int&gt;</th></tr>\n",
       "</thead>\n",
       "<tbody>\n",
       "\t<tr><td>0</td><td>780</td></tr>\n",
       "\t<tr><td>1</td><td> 14</td></tr>\n",
       "</tbody>\n",
       "</table>\n"
      ],
      "text/latex": [
       "A data.frame: 2 × 2\n",
       "\\begin{tabular}{ll}\n",
       " death & n\\\\\n",
       " <dbl> & <int>\\\\\n",
       "\\hline\n",
       "\t 0 & 780\\\\\n",
       "\t 1 &  14\\\\\n",
       "\\end{tabular}\n"
      ],
      "text/markdown": [
       "\n",
       "A data.frame: 2 × 2\n",
       "\n",
       "| death &lt;dbl&gt; | n &lt;int&gt; |\n",
       "|---|---|\n",
       "| 0 | 780 |\n",
       "| 1 |  14 |\n",
       "\n"
      ],
      "text/plain": [
       "  death n  \n",
       "1 0     780\n",
       "2 1      14"
      ]
     },
     "metadata": {},
     "output_type": "display_data"
    }
   ],
   "source": [
    "data %>% colnames\n",
    "\n",
    "data %>% dim\n",
    "\n",
    "data %>% count(death)\n",
    "\n",
    "data %>% select(fever:schooling_years, age, sex, death) -> data\n",
    "data %>% write_csv('chikungunya_death_dataset_2020.csv')"
   ]
  }
 ],
 "metadata": {
  "kernelspec": {
   "display_name": "R",
   "language": "R",
   "name": "ir"
  },
  "language_info": {
   "codemirror_mode": "r",
   "file_extension": ".r",
   "mimetype": "text/x-r-source",
   "name": "R",
   "pygments_lexer": "r",
   "version": "4.2.2"
  }
 },
 "nbformat": 4,
 "nbformat_minor": 5
}
