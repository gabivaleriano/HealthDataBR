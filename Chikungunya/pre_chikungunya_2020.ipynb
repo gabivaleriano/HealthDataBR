{
 "cells": [
  {
   "cell_type": "code",
   "execution_count": 1,
   "id": "a0349904",
   "metadata": {},
   "outputs": [
    {
     "name": "stderr",
     "output_type": "stream",
     "text": [
      "── \u001b[1mAttaching core tidyverse packages\u001b[22m ──────────────────────── tidyverse 2.0.0 ──\n",
      "\u001b[32m✔\u001b[39m \u001b[34mdplyr    \u001b[39m 1.1.2     \u001b[32m✔\u001b[39m \u001b[34mreadr    \u001b[39m 2.1.4\n",
      "\u001b[32m✔\u001b[39m \u001b[34mforcats  \u001b[39m 1.0.0     \u001b[32m✔\u001b[39m \u001b[34mstringr  \u001b[39m 1.5.0\n",
      "\u001b[32m✔\u001b[39m \u001b[34mggplot2  \u001b[39m 3.4.2     \u001b[32m✔\u001b[39m \u001b[34mtibble   \u001b[39m 3.2.1\n",
      "\u001b[32m✔\u001b[39m \u001b[34mlubridate\u001b[39m 1.9.2     \u001b[32m✔\u001b[39m \u001b[34mtidyr    \u001b[39m 1.3.0\n",
      "\u001b[32m✔\u001b[39m \u001b[34mpurrr    \u001b[39m 1.0.1     \n",
      "── \u001b[1mConflicts\u001b[22m ────────────────────────────────────────── tidyverse_conflicts() ──\n",
      "\u001b[31m✖\u001b[39m \u001b[34mdplyr\u001b[39m::\u001b[32mfilter()\u001b[39m masks \u001b[34mstats\u001b[39m::filter()\n",
      "\u001b[31m✖\u001b[39m \u001b[34mdplyr\u001b[39m::\u001b[32mlag()\u001b[39m    masks \u001b[34mstats\u001b[39m::lag()\n",
      "\u001b[36mℹ\u001b[39m Use the conflicted package (\u001b[3m\u001b[34m<http://conflicted.r-lib.org/>\u001b[39m\u001b[23m) to force all conflicts to become errors\n"
     ]
    }
   ],
   "source": [
    "library(tidyverse)"
   ]
  },
  {
   "cell_type": "code",
   "execution_count": 2,
   "id": "15098e2c",
   "metadata": {},
   "outputs": [],
   "source": [
    "data <- read.csv(\"CHIKBR20.csv\")"
   ]
  },
  {
   "cell_type": "code",
   "execution_count": 3,
   "id": "59c385a6",
   "metadata": {},
   "outputs": [
    {
     "data": {
      "text/html": [
       "<style>\n",
       ".list-inline {list-style: none; margin:0; padding: 0}\n",
       ".list-inline>li {display: inline-block}\n",
       ".list-inline>li:not(:last-child)::after {content: \"\\00b7\"; padding: 0 .5ex}\n",
       "</style>\n",
       "<ol class=list-inline><li>102496</li><li>116</li></ol>\n"
      ],
      "text/latex": [
       "\\begin{enumerate*}\n",
       "\\item 102496\n",
       "\\item 116\n",
       "\\end{enumerate*}\n"
      ],
      "text/markdown": [
       "1. 102496\n",
       "2. 116\n",
       "\n",
       "\n"
      ],
      "text/plain": [
       "[1] 102496    116"
      ]
     },
     "metadata": {},
     "output_type": "display_data"
    },
    {
     "data": {
      "text/html": [
       "<style>\n",
       ".list-inline {list-style: none; margin:0; padding: 0}\n",
       ".list-inline>li {display: inline-block}\n",
       ".list-inline>li:not(:last-child)::after {content: \"\\00b7\"; padding: 0 .5ex}\n",
       "</style>\n",
       "<ol class=list-inline><li>102369</li><li>116</li></ol>\n"
      ],
      "text/latex": [
       "\\begin{enumerate*}\n",
       "\\item 102369\n",
       "\\item 116\n",
       "\\end{enumerate*}\n"
      ],
      "text/markdown": [
       "1. 102369\n",
       "2. 116\n",
       "\n",
       "\n"
      ],
      "text/plain": [
       "[1] 102369    116"
      ]
     },
     "metadata": {},
     "output_type": "display_data"
    }
   ],
   "source": [
    "# check and remove duplicates\n",
    "\n",
    "data %>% dim\n",
    "data %>% unique %>% dim\n",
    "data %>% unique -> data"
   ]
  },
  {
   "cell_type": "code",
   "execution_count": 4,
   "id": "7c7360be",
   "metadata": {},
   "outputs": [
    {
     "data": {
      "text/html": [
       "<table class=\"dataframe\">\n",
       "<caption>A data.frame: 6 × 116</caption>\n",
       "<thead>\n",
       "\t<tr><th></th><th scope=col>TP_NOT</th><th scope=col>ID_AGRAVO</th><th scope=col>DT_NOTIFIC</th><th scope=col>SEM_NOT</th><th scope=col>NU_ANO</th><th scope=col>SG_UF_NOT</th><th scope=col>ID_MUNICIP</th><th scope=col>ID_REGIONA</th><th scope=col>ID_UNIDADE</th><th scope=col>DT_SIN_PRI</th><th scope=col>⋯</th><th scope=col>HEMATURA</th><th scope=col>SANGRAM</th><th scope=col>LACO_N</th><th scope=col>PLASMATICO</th><th scope=col>EVIDENCIA</th><th scope=col>PLAQ_MENOR</th><th scope=col>CON_FHD</th><th scope=col>COMPLICA</th><th scope=col>TP_SISTEMA</th><th scope=col>NDUPLIC_N</th></tr>\n",
       "\t<tr><th></th><th scope=col>&lt;int&gt;</th><th scope=col>&lt;chr&gt;</th><th scope=col>&lt;chr&gt;</th><th scope=col>&lt;int&gt;</th><th scope=col>&lt;int&gt;</th><th scope=col>&lt;int&gt;</th><th scope=col>&lt;int&gt;</th><th scope=col>&lt;int&gt;</th><th scope=col>&lt;int&gt;</th><th scope=col>&lt;chr&gt;</th><th scope=col>⋯</th><th scope=col>&lt;lgl&gt;</th><th scope=col>&lt;lgl&gt;</th><th scope=col>&lt;lgl&gt;</th><th scope=col>&lt;lgl&gt;</th><th scope=col>&lt;lgl&gt;</th><th scope=col>&lt;lgl&gt;</th><th scope=col>&lt;lgl&gt;</th><th scope=col>&lt;lgl&gt;</th><th scope=col>&lt;int&gt;</th><th scope=col>&lt;int&gt;</th></tr>\n",
       "</thead>\n",
       "<tbody>\n",
       "\t<tr><th scope=row>1</th><td>2</td><td>A92.0</td><td>2020-06-04</td><td>202023</td><td>2020</td><td>12</td><td>120040</td><td>1938</td><td>2000490</td><td>2020-05-27</td><td>⋯</td><td>NA</td><td>NA</td><td>NA</td><td>NA</td><td>NA</td><td>NA</td><td>NA</td><td>NA</td><td>2</td><td>NA</td></tr>\n",
       "\t<tr><th scope=row>2</th><td>2</td><td>A92.0</td><td>2020-06-01</td><td>202023</td><td>2020</td><td>12</td><td>120040</td><td>1938</td><td>2001578</td><td>2020-05-20</td><td>⋯</td><td>NA</td><td>NA</td><td>NA</td><td>NA</td><td>NA</td><td>NA</td><td>NA</td><td>NA</td><td>2</td><td>NA</td></tr>\n",
       "\t<tr><th scope=row>3</th><td>2</td><td>A92.0</td><td>2020-09-24</td><td>202039</td><td>2020</td><td>12</td><td>120020</td><td>1941</td><td>6788637</td><td>2020-09-01</td><td>⋯</td><td>NA</td><td>NA</td><td>NA</td><td>NA</td><td>NA</td><td>NA</td><td>NA</td><td>NA</td><td>2</td><td>NA</td></tr>\n",
       "\t<tr><th scope=row>4</th><td>2</td><td>A92.0</td><td>2020-06-02</td><td>202023</td><td>2020</td><td>12</td><td>120040</td><td>1938</td><td>2000075</td><td>2020-05-25</td><td>⋯</td><td>NA</td><td>NA</td><td>NA</td><td>NA</td><td>NA</td><td>NA</td><td>NA</td><td>NA</td><td>2</td><td>NA</td></tr>\n",
       "\t<tr><th scope=row>5</th><td>2</td><td>A92.0</td><td>2020-02-05</td><td>202006</td><td>2020</td><td>12</td><td>120010</td><td>1937</td><td>2001500</td><td>2020-02-03</td><td>⋯</td><td>NA</td><td>NA</td><td>NA</td><td>NA</td><td>NA</td><td>NA</td><td>NA</td><td>NA</td><td>2</td><td>NA</td></tr>\n",
       "\t<tr><th scope=row>6</th><td>2</td><td>A92.0</td><td>2020-01-29</td><td>202005</td><td>2020</td><td>12</td><td>120020</td><td>1941</td><td>6801099</td><td>2020-01-20</td><td>⋯</td><td>NA</td><td>NA</td><td>NA</td><td>NA</td><td>NA</td><td>NA</td><td>NA</td><td>NA</td><td>2</td><td>NA</td></tr>\n",
       "</tbody>\n",
       "</table>\n"
      ],
      "text/latex": [
       "A data.frame: 6 × 116\n",
       "\\begin{tabular}{r|lllllllllllllllllllll}\n",
       "  & TP\\_NOT & ID\\_AGRAVO & DT\\_NOTIFIC & SEM\\_NOT & NU\\_ANO & SG\\_UF\\_NOT & ID\\_MUNICIP & ID\\_REGIONA & ID\\_UNIDADE & DT\\_SIN\\_PRI & ⋯ & HEMATURA & SANGRAM & LACO\\_N & PLASMATICO & EVIDENCIA & PLAQ\\_MENOR & CON\\_FHD & COMPLICA & TP\\_SISTEMA & NDUPLIC\\_N\\\\\n",
       "  & <int> & <chr> & <chr> & <int> & <int> & <int> & <int> & <int> & <int> & <chr> & ⋯ & <lgl> & <lgl> & <lgl> & <lgl> & <lgl> & <lgl> & <lgl> & <lgl> & <int> & <int>\\\\\n",
       "\\hline\n",
       "\t1 & 2 & A92.0 & 2020-06-04 & 202023 & 2020 & 12 & 120040 & 1938 & 2000490 & 2020-05-27 & ⋯ & NA & NA & NA & NA & NA & NA & NA & NA & 2 & NA\\\\\n",
       "\t2 & 2 & A92.0 & 2020-06-01 & 202023 & 2020 & 12 & 120040 & 1938 & 2001578 & 2020-05-20 & ⋯ & NA & NA & NA & NA & NA & NA & NA & NA & 2 & NA\\\\\n",
       "\t3 & 2 & A92.0 & 2020-09-24 & 202039 & 2020 & 12 & 120020 & 1941 & 6788637 & 2020-09-01 & ⋯ & NA & NA & NA & NA & NA & NA & NA & NA & 2 & NA\\\\\n",
       "\t4 & 2 & A92.0 & 2020-06-02 & 202023 & 2020 & 12 & 120040 & 1938 & 2000075 & 2020-05-25 & ⋯ & NA & NA & NA & NA & NA & NA & NA & NA & 2 & NA\\\\\n",
       "\t5 & 2 & A92.0 & 2020-02-05 & 202006 & 2020 & 12 & 120010 & 1937 & 2001500 & 2020-02-03 & ⋯ & NA & NA & NA & NA & NA & NA & NA & NA & 2 & NA\\\\\n",
       "\t6 & 2 & A92.0 & 2020-01-29 & 202005 & 2020 & 12 & 120020 & 1941 & 6801099 & 2020-01-20 & ⋯ & NA & NA & NA & NA & NA & NA & NA & NA & 2 & NA\\\\\n",
       "\\end{tabular}\n"
      ],
      "text/markdown": [
       "\n",
       "A data.frame: 6 × 116\n",
       "\n",
       "| <!--/--> | TP_NOT &lt;int&gt; | ID_AGRAVO &lt;chr&gt; | DT_NOTIFIC &lt;chr&gt; | SEM_NOT &lt;int&gt; | NU_ANO &lt;int&gt; | SG_UF_NOT &lt;int&gt; | ID_MUNICIP &lt;int&gt; | ID_REGIONA &lt;int&gt; | ID_UNIDADE &lt;int&gt; | DT_SIN_PRI &lt;chr&gt; | ⋯ ⋯ | HEMATURA &lt;lgl&gt; | SANGRAM &lt;lgl&gt; | LACO_N &lt;lgl&gt; | PLASMATICO &lt;lgl&gt; | EVIDENCIA &lt;lgl&gt; | PLAQ_MENOR &lt;lgl&gt; | CON_FHD &lt;lgl&gt; | COMPLICA &lt;lgl&gt; | TP_SISTEMA &lt;int&gt; | NDUPLIC_N &lt;int&gt; |\n",
       "|---|---|---|---|---|---|---|---|---|---|---|---|---|---|---|---|---|---|---|---|---|---|\n",
       "| 1 | 2 | A92.0 | 2020-06-04 | 202023 | 2020 | 12 | 120040 | 1938 | 2000490 | 2020-05-27 | ⋯ | NA | NA | NA | NA | NA | NA | NA | NA | 2 | NA |\n",
       "| 2 | 2 | A92.0 | 2020-06-01 | 202023 | 2020 | 12 | 120040 | 1938 | 2001578 | 2020-05-20 | ⋯ | NA | NA | NA | NA | NA | NA | NA | NA | 2 | NA |\n",
       "| 3 | 2 | A92.0 | 2020-09-24 | 202039 | 2020 | 12 | 120020 | 1941 | 6788637 | 2020-09-01 | ⋯ | NA | NA | NA | NA | NA | NA | NA | NA | 2 | NA |\n",
       "| 4 | 2 | A92.0 | 2020-06-02 | 202023 | 2020 | 12 | 120040 | 1938 | 2000075 | 2020-05-25 | ⋯ | NA | NA | NA | NA | NA | NA | NA | NA | 2 | NA |\n",
       "| 5 | 2 | A92.0 | 2020-02-05 | 202006 | 2020 | 12 | 120010 | 1937 | 2001500 | 2020-02-03 | ⋯ | NA | NA | NA | NA | NA | NA | NA | NA | 2 | NA |\n",
       "| 6 | 2 | A92.0 | 2020-01-29 | 202005 | 2020 | 12 | 120020 | 1941 | 6801099 | 2020-01-20 | ⋯ | NA | NA | NA | NA | NA | NA | NA | NA | 2 | NA |\n",
       "\n"
      ],
      "text/plain": [
       "  TP_NOT ID_AGRAVO DT_NOTIFIC SEM_NOT NU_ANO SG_UF_NOT ID_MUNICIP ID_REGIONA\n",
       "1 2      A92.0     2020-06-04 202023  2020   12        120040     1938      \n",
       "2 2      A92.0     2020-06-01 202023  2020   12        120040     1938      \n",
       "3 2      A92.0     2020-09-24 202039  2020   12        120020     1941      \n",
       "4 2      A92.0     2020-06-02 202023  2020   12        120040     1938      \n",
       "5 2      A92.0     2020-02-05 202006  2020   12        120010     1937      \n",
       "6 2      A92.0     2020-01-29 202005  2020   12        120020     1941      \n",
       "  ID_UNIDADE DT_SIN_PRI ⋯ HEMATURA SANGRAM LACO_N PLASMATICO EVIDENCIA\n",
       "1 2000490    2020-05-27 ⋯ NA       NA      NA     NA         NA       \n",
       "2 2001578    2020-05-20 ⋯ NA       NA      NA     NA         NA       \n",
       "3 6788637    2020-09-01 ⋯ NA       NA      NA     NA         NA       \n",
       "4 2000075    2020-05-25 ⋯ NA       NA      NA     NA         NA       \n",
       "5 2001500    2020-02-03 ⋯ NA       NA      NA     NA         NA       \n",
       "6 6801099    2020-01-20 ⋯ NA       NA      NA     NA         NA       \n",
       "  PLAQ_MENOR CON_FHD COMPLICA TP_SISTEMA NDUPLIC_N\n",
       "1 NA         NA      NA       2          NA       \n",
       "2 NA         NA      NA       2          NA       \n",
       "3 NA         NA      NA       2          NA       \n",
       "4 NA         NA      NA       2          NA       \n",
       "5 NA         NA      NA       2          NA       \n",
       "6 NA         NA      NA       2          NA       "
      ]
     },
     "metadata": {},
     "output_type": "display_data"
    },
    {
     "data": {
      "text/html": [
       "<style>\n",
       ".list-inline {list-style: none; margin:0; padding: 0}\n",
       ".list-inline>li {display: inline-block}\n",
       ".list-inline>li:not(:last-child)::after {content: \"\\00b7\"; padding: 0 .5ex}\n",
       "</style>\n",
       "<ol class=list-inline><li>'TP_NOT'</li><li>'ID_AGRAVO'</li><li>'DT_NOTIFIC'</li><li>'SEM_NOT'</li><li>'NU_ANO'</li><li>'SG_UF_NOT'</li><li>'ID_MUNICIP'</li><li>'ID_REGIONA'</li><li>'ID_UNIDADE'</li><li>'DT_SIN_PRI'</li><li>'SEM_PRI'</li><li>'NU_IDADE_N'</li><li>'CS_SEXO'</li><li>'CS_GESTANT'</li><li>'CS_RACA'</li><li>'CS_ESCOL_N'</li><li>'SG_UF'</li><li>'ID_MN_RESI'</li><li>'ID_RG_RESI'</li><li>'ID_PAIS'</li><li>'DT_INVEST'</li><li>'ID_OCUPA_N'</li><li>'FEBRE'</li><li>'MIALGIA'</li><li>'CEFALEIA'</li><li>'EXANTEMA'</li><li>'VOMITO'</li><li>'NAUSEA'</li><li>'DOR_COSTAS'</li><li>'CONJUNTVIT'</li><li>'ARTRITE'</li><li>'ARTRALGIA'</li><li>'PETEQUIA_N'</li><li>'LEUCOPENIA'</li><li>'LACO'</li><li>'DOR_RETRO'</li><li>'DIABETES'</li><li>'HEMATOLOG'</li><li>'HEPATOPAT'</li><li>'RENAL'</li><li>'HIPERTENSA'</li><li>'ACIDO_PEPT'</li><li>'AUTO_IMUNE'</li><li>'DT_CHIK_S1'</li><li>'DT_CHIK_S2'</li><li>'DT_PRNT'</li><li>'RES_CHIKS1'</li><li>'RES_CHIKS2'</li><li>'RESUL_PRNT'</li><li>'DT_SORO'</li><li>'RESUL_SORO'</li><li>'DT_NS1'</li><li>'RESUL_NS1'</li><li>'DT_VIRAL'</li><li>'RESUL_VI_N'</li><li>'DT_PCR'</li><li>'RESUL_PCR_'</li><li>'SOROTIPO'</li><li>'HISTOPA_N'</li><li>'IMUNOH_N'</li><li>'HOSPITALIZ'</li><li>'DT_INTERNA'</li><li>'UF'</li><li>'MUNICIPIO'</li><li>'TPAUTOCTO'</li><li>'COUFINF'</li><li>'COPAISINF'</li><li>'COMUNINF'</li><li>'CLASSI_FIN'</li><li>'CRITERIO'</li><li>'DOENCA_TRA'</li><li>'CLINC_CHIK'</li><li>'EVOLUCAO'</li><li>'DT_OBITO'</li><li>'DT_ENCERRA'</li><li>'ALRM_HIPOT'</li><li>'ALRM_PLAQ'</li><li>'ALRM_VOM'</li><li>'ALRM_SANG'</li><li>'ALRM_HEMAT'</li><li>'ALRM_ABDOM'</li><li>'ALRM_LETAR'</li><li>'ALRM_HEPAT'</li><li>'ALRM_LIQ'</li><li>'DT_ALRM'</li><li>'GRAV_PULSO'</li><li>'GRAV_CONV'</li><li>'GRAV_ENCH'</li><li>'GRAV_INSUF'</li><li>'GRAV_TAQUI'</li><li>'GRAV_EXTRE'</li><li>'GRAV_HIPOT'</li><li>'GRAV_HEMAT'</li><li>'GRAV_MELEN'</li><li>'GRAV_METRO'</li><li>'GRAV_SANG'</li><li>'GRAV_AST'</li><li>'GRAV_MIOC'</li><li>'GRAV_CONSC'</li><li>'GRAV_ORGAO'</li><li>'DT_GRAV'</li><li>'MANI_HEMOR'</li><li>'EPISTAXE'</li><li>'GENGIVO'</li><li>'METRO'</li><li>'PETEQUIAS'</li><li>'HEMATURA'</li><li>'SANGRAM'</li><li>'LACO_N'</li><li>'PLASMATICO'</li><li>'EVIDENCIA'</li><li>'PLAQ_MENOR'</li><li>'CON_FHD'</li><li>'COMPLICA'</li><li>'TP_SISTEMA'</li><li>'NDUPLIC_N'</li></ol>\n"
      ],
      "text/latex": [
       "\\begin{enumerate*}\n",
       "\\item 'TP\\_NOT'\n",
       "\\item 'ID\\_AGRAVO'\n",
       "\\item 'DT\\_NOTIFIC'\n",
       "\\item 'SEM\\_NOT'\n",
       "\\item 'NU\\_ANO'\n",
       "\\item 'SG\\_UF\\_NOT'\n",
       "\\item 'ID\\_MUNICIP'\n",
       "\\item 'ID\\_REGIONA'\n",
       "\\item 'ID\\_UNIDADE'\n",
       "\\item 'DT\\_SIN\\_PRI'\n",
       "\\item 'SEM\\_PRI'\n",
       "\\item 'NU\\_IDADE\\_N'\n",
       "\\item 'CS\\_SEXO'\n",
       "\\item 'CS\\_GESTANT'\n",
       "\\item 'CS\\_RACA'\n",
       "\\item 'CS\\_ESCOL\\_N'\n",
       "\\item 'SG\\_UF'\n",
       "\\item 'ID\\_MN\\_RESI'\n",
       "\\item 'ID\\_RG\\_RESI'\n",
       "\\item 'ID\\_PAIS'\n",
       "\\item 'DT\\_INVEST'\n",
       "\\item 'ID\\_OCUPA\\_N'\n",
       "\\item 'FEBRE'\n",
       "\\item 'MIALGIA'\n",
       "\\item 'CEFALEIA'\n",
       "\\item 'EXANTEMA'\n",
       "\\item 'VOMITO'\n",
       "\\item 'NAUSEA'\n",
       "\\item 'DOR\\_COSTAS'\n",
       "\\item 'CONJUNTVIT'\n",
       "\\item 'ARTRITE'\n",
       "\\item 'ARTRALGIA'\n",
       "\\item 'PETEQUIA\\_N'\n",
       "\\item 'LEUCOPENIA'\n",
       "\\item 'LACO'\n",
       "\\item 'DOR\\_RETRO'\n",
       "\\item 'DIABETES'\n",
       "\\item 'HEMATOLOG'\n",
       "\\item 'HEPATOPAT'\n",
       "\\item 'RENAL'\n",
       "\\item 'HIPERTENSA'\n",
       "\\item 'ACIDO\\_PEPT'\n",
       "\\item 'AUTO\\_IMUNE'\n",
       "\\item 'DT\\_CHIK\\_S1'\n",
       "\\item 'DT\\_CHIK\\_S2'\n",
       "\\item 'DT\\_PRNT'\n",
       "\\item 'RES\\_CHIKS1'\n",
       "\\item 'RES\\_CHIKS2'\n",
       "\\item 'RESUL\\_PRNT'\n",
       "\\item 'DT\\_SORO'\n",
       "\\item 'RESUL\\_SORO'\n",
       "\\item 'DT\\_NS1'\n",
       "\\item 'RESUL\\_NS1'\n",
       "\\item 'DT\\_VIRAL'\n",
       "\\item 'RESUL\\_VI\\_N'\n",
       "\\item 'DT\\_PCR'\n",
       "\\item 'RESUL\\_PCR\\_'\n",
       "\\item 'SOROTIPO'\n",
       "\\item 'HISTOPA\\_N'\n",
       "\\item 'IMUNOH\\_N'\n",
       "\\item 'HOSPITALIZ'\n",
       "\\item 'DT\\_INTERNA'\n",
       "\\item 'UF'\n",
       "\\item 'MUNICIPIO'\n",
       "\\item 'TPAUTOCTO'\n",
       "\\item 'COUFINF'\n",
       "\\item 'COPAISINF'\n",
       "\\item 'COMUNINF'\n",
       "\\item 'CLASSI\\_FIN'\n",
       "\\item 'CRITERIO'\n",
       "\\item 'DOENCA\\_TRA'\n",
       "\\item 'CLINC\\_CHIK'\n",
       "\\item 'EVOLUCAO'\n",
       "\\item 'DT\\_OBITO'\n",
       "\\item 'DT\\_ENCERRA'\n",
       "\\item 'ALRM\\_HIPOT'\n",
       "\\item 'ALRM\\_PLAQ'\n",
       "\\item 'ALRM\\_VOM'\n",
       "\\item 'ALRM\\_SANG'\n",
       "\\item 'ALRM\\_HEMAT'\n",
       "\\item 'ALRM\\_ABDOM'\n",
       "\\item 'ALRM\\_LETAR'\n",
       "\\item 'ALRM\\_HEPAT'\n",
       "\\item 'ALRM\\_LIQ'\n",
       "\\item 'DT\\_ALRM'\n",
       "\\item 'GRAV\\_PULSO'\n",
       "\\item 'GRAV\\_CONV'\n",
       "\\item 'GRAV\\_ENCH'\n",
       "\\item 'GRAV\\_INSUF'\n",
       "\\item 'GRAV\\_TAQUI'\n",
       "\\item 'GRAV\\_EXTRE'\n",
       "\\item 'GRAV\\_HIPOT'\n",
       "\\item 'GRAV\\_HEMAT'\n",
       "\\item 'GRAV\\_MELEN'\n",
       "\\item 'GRAV\\_METRO'\n",
       "\\item 'GRAV\\_SANG'\n",
       "\\item 'GRAV\\_AST'\n",
       "\\item 'GRAV\\_MIOC'\n",
       "\\item 'GRAV\\_CONSC'\n",
       "\\item 'GRAV\\_ORGAO'\n",
       "\\item 'DT\\_GRAV'\n",
       "\\item 'MANI\\_HEMOR'\n",
       "\\item 'EPISTAXE'\n",
       "\\item 'GENGIVO'\n",
       "\\item 'METRO'\n",
       "\\item 'PETEQUIAS'\n",
       "\\item 'HEMATURA'\n",
       "\\item 'SANGRAM'\n",
       "\\item 'LACO\\_N'\n",
       "\\item 'PLASMATICO'\n",
       "\\item 'EVIDENCIA'\n",
       "\\item 'PLAQ\\_MENOR'\n",
       "\\item 'CON\\_FHD'\n",
       "\\item 'COMPLICA'\n",
       "\\item 'TP\\_SISTEMA'\n",
       "\\item 'NDUPLIC\\_N'\n",
       "\\end{enumerate*}\n"
      ],
      "text/markdown": [
       "1. 'TP_NOT'\n",
       "2. 'ID_AGRAVO'\n",
       "3. 'DT_NOTIFIC'\n",
       "4. 'SEM_NOT'\n",
       "5. 'NU_ANO'\n",
       "6. 'SG_UF_NOT'\n",
       "7. 'ID_MUNICIP'\n",
       "8. 'ID_REGIONA'\n",
       "9. 'ID_UNIDADE'\n",
       "10. 'DT_SIN_PRI'\n",
       "11. 'SEM_PRI'\n",
       "12. 'NU_IDADE_N'\n",
       "13. 'CS_SEXO'\n",
       "14. 'CS_GESTANT'\n",
       "15. 'CS_RACA'\n",
       "16. 'CS_ESCOL_N'\n",
       "17. 'SG_UF'\n",
       "18. 'ID_MN_RESI'\n",
       "19. 'ID_RG_RESI'\n",
       "20. 'ID_PAIS'\n",
       "21. 'DT_INVEST'\n",
       "22. 'ID_OCUPA_N'\n",
       "23. 'FEBRE'\n",
       "24. 'MIALGIA'\n",
       "25. 'CEFALEIA'\n",
       "26. 'EXANTEMA'\n",
       "27. 'VOMITO'\n",
       "28. 'NAUSEA'\n",
       "29. 'DOR_COSTAS'\n",
       "30. 'CONJUNTVIT'\n",
       "31. 'ARTRITE'\n",
       "32. 'ARTRALGIA'\n",
       "33. 'PETEQUIA_N'\n",
       "34. 'LEUCOPENIA'\n",
       "35. 'LACO'\n",
       "36. 'DOR_RETRO'\n",
       "37. 'DIABETES'\n",
       "38. 'HEMATOLOG'\n",
       "39. 'HEPATOPAT'\n",
       "40. 'RENAL'\n",
       "41. 'HIPERTENSA'\n",
       "42. 'ACIDO_PEPT'\n",
       "43. 'AUTO_IMUNE'\n",
       "44. 'DT_CHIK_S1'\n",
       "45. 'DT_CHIK_S2'\n",
       "46. 'DT_PRNT'\n",
       "47. 'RES_CHIKS1'\n",
       "48. 'RES_CHIKS2'\n",
       "49. 'RESUL_PRNT'\n",
       "50. 'DT_SORO'\n",
       "51. 'RESUL_SORO'\n",
       "52. 'DT_NS1'\n",
       "53. 'RESUL_NS1'\n",
       "54. 'DT_VIRAL'\n",
       "55. 'RESUL_VI_N'\n",
       "56. 'DT_PCR'\n",
       "57. 'RESUL_PCR_'\n",
       "58. 'SOROTIPO'\n",
       "59. 'HISTOPA_N'\n",
       "60. 'IMUNOH_N'\n",
       "61. 'HOSPITALIZ'\n",
       "62. 'DT_INTERNA'\n",
       "63. 'UF'\n",
       "64. 'MUNICIPIO'\n",
       "65. 'TPAUTOCTO'\n",
       "66. 'COUFINF'\n",
       "67. 'COPAISINF'\n",
       "68. 'COMUNINF'\n",
       "69. 'CLASSI_FIN'\n",
       "70. 'CRITERIO'\n",
       "71. 'DOENCA_TRA'\n",
       "72. 'CLINC_CHIK'\n",
       "73. 'EVOLUCAO'\n",
       "74. 'DT_OBITO'\n",
       "75. 'DT_ENCERRA'\n",
       "76. 'ALRM_HIPOT'\n",
       "77. 'ALRM_PLAQ'\n",
       "78. 'ALRM_VOM'\n",
       "79. 'ALRM_SANG'\n",
       "80. 'ALRM_HEMAT'\n",
       "81. 'ALRM_ABDOM'\n",
       "82. 'ALRM_LETAR'\n",
       "83. 'ALRM_HEPAT'\n",
       "84. 'ALRM_LIQ'\n",
       "85. 'DT_ALRM'\n",
       "86. 'GRAV_PULSO'\n",
       "87. 'GRAV_CONV'\n",
       "88. 'GRAV_ENCH'\n",
       "89. 'GRAV_INSUF'\n",
       "90. 'GRAV_TAQUI'\n",
       "91. 'GRAV_EXTRE'\n",
       "92. 'GRAV_HIPOT'\n",
       "93. 'GRAV_HEMAT'\n",
       "94. 'GRAV_MELEN'\n",
       "95. 'GRAV_METRO'\n",
       "96. 'GRAV_SANG'\n",
       "97. 'GRAV_AST'\n",
       "98. 'GRAV_MIOC'\n",
       "99. 'GRAV_CONSC'\n",
       "100. 'GRAV_ORGAO'\n",
       "101. 'DT_GRAV'\n",
       "102. 'MANI_HEMOR'\n",
       "103. 'EPISTAXE'\n",
       "104. 'GENGIVO'\n",
       "105. 'METRO'\n",
       "106. 'PETEQUIAS'\n",
       "107. 'HEMATURA'\n",
       "108. 'SANGRAM'\n",
       "109. 'LACO_N'\n",
       "110. 'PLASMATICO'\n",
       "111. 'EVIDENCIA'\n",
       "112. 'PLAQ_MENOR'\n",
       "113. 'CON_FHD'\n",
       "114. 'COMPLICA'\n",
       "115. 'TP_SISTEMA'\n",
       "116. 'NDUPLIC_N'\n",
       "\n",
       "\n"
      ],
      "text/plain": [
       "  [1] \"TP_NOT\"     \"ID_AGRAVO\"  \"DT_NOTIFIC\" \"SEM_NOT\"    \"NU_ANO\"    \n",
       "  [6] \"SG_UF_NOT\"  \"ID_MUNICIP\" \"ID_REGIONA\" \"ID_UNIDADE\" \"DT_SIN_PRI\"\n",
       " [11] \"SEM_PRI\"    \"NU_IDADE_N\" \"CS_SEXO\"    \"CS_GESTANT\" \"CS_RACA\"   \n",
       " [16] \"CS_ESCOL_N\" \"SG_UF\"      \"ID_MN_RESI\" \"ID_RG_RESI\" \"ID_PAIS\"   \n",
       " [21] \"DT_INVEST\"  \"ID_OCUPA_N\" \"FEBRE\"      \"MIALGIA\"    \"CEFALEIA\"  \n",
       " [26] \"EXANTEMA\"   \"VOMITO\"     \"NAUSEA\"     \"DOR_COSTAS\" \"CONJUNTVIT\"\n",
       " [31] \"ARTRITE\"    \"ARTRALGIA\"  \"PETEQUIA_N\" \"LEUCOPENIA\" \"LACO\"      \n",
       " [36] \"DOR_RETRO\"  \"DIABETES\"   \"HEMATOLOG\"  \"HEPATOPAT\"  \"RENAL\"     \n",
       " [41] \"HIPERTENSA\" \"ACIDO_PEPT\" \"AUTO_IMUNE\" \"DT_CHIK_S1\" \"DT_CHIK_S2\"\n",
       " [46] \"DT_PRNT\"    \"RES_CHIKS1\" \"RES_CHIKS2\" \"RESUL_PRNT\" \"DT_SORO\"   \n",
       " [51] \"RESUL_SORO\" \"DT_NS1\"     \"RESUL_NS1\"  \"DT_VIRAL\"   \"RESUL_VI_N\"\n",
       " [56] \"DT_PCR\"     \"RESUL_PCR_\" \"SOROTIPO\"   \"HISTOPA_N\"  \"IMUNOH_N\"  \n",
       " [61] \"HOSPITALIZ\" \"DT_INTERNA\" \"UF\"         \"MUNICIPIO\"  \"TPAUTOCTO\" \n",
       " [66] \"COUFINF\"    \"COPAISINF\"  \"COMUNINF\"   \"CLASSI_FIN\" \"CRITERIO\"  \n",
       " [71] \"DOENCA_TRA\" \"CLINC_CHIK\" \"EVOLUCAO\"   \"DT_OBITO\"   \"DT_ENCERRA\"\n",
       " [76] \"ALRM_HIPOT\" \"ALRM_PLAQ\"  \"ALRM_VOM\"   \"ALRM_SANG\"  \"ALRM_HEMAT\"\n",
       " [81] \"ALRM_ABDOM\" \"ALRM_LETAR\" \"ALRM_HEPAT\" \"ALRM_LIQ\"   \"DT_ALRM\"   \n",
       " [86] \"GRAV_PULSO\" \"GRAV_CONV\"  \"GRAV_ENCH\"  \"GRAV_INSUF\" \"GRAV_TAQUI\"\n",
       " [91] \"GRAV_EXTRE\" \"GRAV_HIPOT\" \"GRAV_HEMAT\" \"GRAV_MELEN\" \"GRAV_METRO\"\n",
       " [96] \"GRAV_SANG\"  \"GRAV_AST\"   \"GRAV_MIOC\"  \"GRAV_CONSC\" \"GRAV_ORGAO\"\n",
       "[101] \"DT_GRAV\"    \"MANI_HEMOR\" \"EPISTAXE\"   \"GENGIVO\"    \"METRO\"     \n",
       "[106] \"PETEQUIAS\"  \"HEMATURA\"   \"SANGRAM\"    \"LACO_N\"     \"PLASMATICO\"\n",
       "[111] \"EVIDENCIA\"  \"PLAQ_MENOR\" \"CON_FHD\"    \"COMPLICA\"   \"TP_SISTEMA\"\n",
       "[116] \"NDUPLIC_N\" "
      ]
     },
     "metadata": {},
     "output_type": "display_data"
    }
   ],
   "source": [
    "# visualize data\n",
    "\n",
    "data %>% head\n",
    "data %>% colnames"
   ]
  },
  {
   "cell_type": "code",
   "execution_count": 5,
   "id": "396a3629",
   "metadata": {},
   "outputs": [
    {
     "data": {
      "text/html": [
       "<table class=\"dataframe\">\n",
       "<caption>A data.frame: 6 × 2</caption>\n",
       "<thead>\n",
       "\t<tr><th></th><th scope=col>NU_IDADE_N</th><th scope=col>n</th></tr>\n",
       "\t<tr><th></th><th scope=col>&lt;dbl&gt;</th><th scope=col>&lt;int&gt;</th></tr>\n",
       "</thead>\n",
       "<tbody>\n",
       "\t<tr><th scope=row>1</th><td> 0</td><td>1</td></tr>\n",
       "\t<tr><th scope=row>2</th><td> 3</td><td>1</td></tr>\n",
       "\t<tr><th scope=row>3</th><td> 9</td><td>1</td></tr>\n",
       "\t<tr><th scope=row>4</th><td>10</td><td>1</td></tr>\n",
       "\t<tr><th scope=row>5</th><td>19</td><td>1</td></tr>\n",
       "\t<tr><th scope=row>6</th><td>27</td><td>2</td></tr>\n",
       "</tbody>\n",
       "</table>\n"
      ],
      "text/latex": [
       "A data.frame: 6 × 2\n",
       "\\begin{tabular}{r|ll}\n",
       "  & NU\\_IDADE\\_N & n\\\\\n",
       "  & <dbl> & <int>\\\\\n",
       "\\hline\n",
       "\t1 &  0 & 1\\\\\n",
       "\t2 &  3 & 1\\\\\n",
       "\t3 &  9 & 1\\\\\n",
       "\t4 & 10 & 1\\\\\n",
       "\t5 & 19 & 1\\\\\n",
       "\t6 & 27 & 2\\\\\n",
       "\\end{tabular}\n"
      ],
      "text/markdown": [
       "\n",
       "A data.frame: 6 × 2\n",
       "\n",
       "| <!--/--> | NU_IDADE_N &lt;dbl&gt; | n &lt;int&gt; |\n",
       "|---|---|---|\n",
       "| 1 |  0 | 1 |\n",
       "| 2 |  3 | 1 |\n",
       "| 3 |  9 | 1 |\n",
       "| 4 | 10 | 1 |\n",
       "| 5 | 19 | 1 |\n",
       "| 6 | 27 | 2 |\n",
       "\n"
      ],
      "text/plain": [
       "  NU_IDADE_N n\n",
       "1  0         1\n",
       "2  3         1\n",
       "3  9         1\n",
       "4 10         1\n",
       "5 19         1\n",
       "6 27         2"
      ]
     },
     "metadata": {},
     "output_type": "display_data"
    }
   ],
   "source": [
    "# since ano-nasc is not present is this database, age will be computed from nu_idade_n\n",
    "\n",
    "data %>% count(NU_IDADE_N) %>% head"
   ]
  },
  {
   "cell_type": "code",
   "execution_count": 6,
   "id": "953e1a7a",
   "metadata": {},
   "outputs": [
    {
     "data": {
      "text/html": [
       "<table class=\"dataframe\">\n",
       "<caption>A data.frame: 6 × 2</caption>\n",
       "<thead>\n",
       "\t<tr><th></th><th scope=col>NU_IDADE_N</th><th scope=col>n</th></tr>\n",
       "\t<tr><th></th><th scope=col>&lt;dbl&gt;</th><th scope=col>&lt;int&gt;</th></tr>\n",
       "</thead>\n",
       "<tbody>\n",
       "\t<tr><th scope=row>1</th><td>1078</td><td>  1</td></tr>\n",
       "\t<tr><th scope=row>2</th><td>2001</td><td>868</td></tr>\n",
       "\t<tr><th scope=row>3</th><td>2002</td><td> 20</td></tr>\n",
       "\t<tr><th scope=row>4</th><td>2003</td><td> 16</td></tr>\n",
       "\t<tr><th scope=row>5</th><td>2004</td><td>  9</td></tr>\n",
       "\t<tr><th scope=row>6</th><td>2005</td><td> 17</td></tr>\n",
       "</tbody>\n",
       "</table>\n"
      ],
      "text/latex": [
       "A data.frame: 6 × 2\n",
       "\\begin{tabular}{r|ll}\n",
       "  & NU\\_IDADE\\_N & n\\\\\n",
       "  & <dbl> & <int>\\\\\n",
       "\\hline\n",
       "\t1 & 1078 &   1\\\\\n",
       "\t2 & 2001 & 868\\\\\n",
       "\t3 & 2002 &  20\\\\\n",
       "\t4 & 2003 &  16\\\\\n",
       "\t5 & 2004 &   9\\\\\n",
       "\t6 & 2005 &  17\\\\\n",
       "\\end{tabular}\n"
      ],
      "text/markdown": [
       "\n",
       "A data.frame: 6 × 2\n",
       "\n",
       "| <!--/--> | NU_IDADE_N &lt;dbl&gt; | n &lt;int&gt; |\n",
       "|---|---|---|\n",
       "| 1 | 1078 |   1 |\n",
       "| 2 | 2001 | 868 |\n",
       "| 3 | 2002 |  20 |\n",
       "| 4 | 2003 |  16 |\n",
       "| 5 | 2004 |   9 |\n",
       "| 6 | 2005 |  17 |\n",
       "\n"
      ],
      "text/plain": [
       "  NU_IDADE_N n  \n",
       "1 1078         1\n",
       "2 2001       868\n",
       "3 2002        20\n",
       "4 2003        16\n",
       "5 2004         9\n",
       "6 2005        17"
      ]
     },
     "metadata": {},
     "output_type": "display_data"
    }
   ],
   "source": [
    "# the information must contain at least 4 digits\n",
    "# when it starts with 10 - hours, 20 - days, 30 - months, 40 - years \n",
    "\n",
    "# remove information with less than 4 digits\n",
    "\n",
    "data %>% filter(NU_IDADE_N > 1000) %>% count(NU_IDADE_N) %>% head\n",
    "\n",
    "data %>% filter(NU_IDADE_N > 1000) -> data\n",
    "\n"
   ]
  },
  {
   "cell_type": "code",
   "execution_count": 7,
   "id": "bacede2f",
   "metadata": {},
   "outputs": [
    {
     "data": {
      "text/html": [
       "<table class=\"dataframe\">\n",
       "<caption>A data.frame: 6 × 2</caption>\n",
       "<thead>\n",
       "\t<tr><th></th><th scope=col>NU_IDADE_N</th><th scope=col>n</th></tr>\n",
       "\t<tr><th></th><th scope=col>&lt;dbl&gt;</th><th scope=col>&lt;int&gt;</th></tr>\n",
       "</thead>\n",
       "<tbody>\n",
       "\t<tr><th scope=row>1</th><td>2026</td><td>  5</td></tr>\n",
       "\t<tr><th scope=row>2</th><td>2027</td><td>  4</td></tr>\n",
       "\t<tr><th scope=row>3</th><td>2028</td><td>  6</td></tr>\n",
       "\t<tr><th scope=row>4</th><td>2029</td><td>  9</td></tr>\n",
       "\t<tr><th scope=row>5</th><td>2030</td><td>  4</td></tr>\n",
       "\t<tr><th scope=row>6</th><td>3001</td><td>100</td></tr>\n",
       "</tbody>\n",
       "</table>\n"
      ],
      "text/latex": [
       "A data.frame: 6 × 2\n",
       "\\begin{tabular}{r|ll}\n",
       "  & NU\\_IDADE\\_N & n\\\\\n",
       "  & <dbl> & <int>\\\\\n",
       "\\hline\n",
       "\t1 & 2026 &   5\\\\\n",
       "\t2 & 2027 &   4\\\\\n",
       "\t3 & 2028 &   6\\\\\n",
       "\t4 & 2029 &   9\\\\\n",
       "\t5 & 2030 &   4\\\\\n",
       "\t6 & 3001 & 100\\\\\n",
       "\\end{tabular}\n"
      ],
      "text/markdown": [
       "\n",
       "A data.frame: 6 × 2\n",
       "\n",
       "| <!--/--> | NU_IDADE_N &lt;dbl&gt; | n &lt;int&gt; |\n",
       "|---|---|---|\n",
       "| 1 | 2026 |   5 |\n",
       "| 2 | 2027 |   4 |\n",
       "| 3 | 2028 |   6 |\n",
       "| 4 | 2029 |   9 |\n",
       "| 5 | 2030 |   4 |\n",
       "| 6 | 3001 | 100 |\n",
       "\n"
      ],
      "text/plain": [
       "  NU_IDADE_N n  \n",
       "1 2026         5\n",
       "2 2027         4\n",
       "3 2028         6\n",
       "4 2029         9\n",
       "5 2030         4\n",
       "6 3001       100"
      ]
     },
     "metadata": {},
     "output_type": "display_data"
    }
   ],
   "source": [
    "# remove information that is not coherent\n",
    "\n",
    "data %>% filter(!(NU_IDADE_N > 2030 & NU_IDADE_N < 3000)) %>% filter(NU_IDADE_N> 2025) %>% \n",
    "    count(NU_IDADE_N) %>% head\n",
    "\n",
    "data %>% filter(!(NU_IDADE_N > 2030 & NU_IDADE_N < 3000)) -> data\n"
   ]
  },
  {
   "cell_type": "code",
   "execution_count": 8,
   "id": "4366004d",
   "metadata": {},
   "outputs": [
    {
     "data": {
      "text/html": [
       "<table class=\"dataframe\">\n",
       "<caption>A data.frame: 6 × 2</caption>\n",
       "<thead>\n",
       "\t<tr><th></th><th scope=col>NU_IDADE_N</th><th scope=col>n</th></tr>\n",
       "\t<tr><th></th><th scope=col>&lt;dbl&gt;</th><th scope=col>&lt;int&gt;</th></tr>\n",
       "</thead>\n",
       "<tbody>\n",
       "\t<tr><th scope=row>1</th><td>3011</td><td> 53</td></tr>\n",
       "\t<tr><th scope=row>2</th><td>4001</td><td>415</td></tr>\n",
       "\t<tr><th scope=row>3</th><td>4002</td><td>430</td></tr>\n",
       "\t<tr><th scope=row>4</th><td>4003</td><td>501</td></tr>\n",
       "\t<tr><th scope=row>5</th><td>4004</td><td>535</td></tr>\n",
       "\t<tr><th scope=row>6</th><td>4005</td><td>625</td></tr>\n",
       "</tbody>\n",
       "</table>\n"
      ],
      "text/latex": [
       "A data.frame: 6 × 2\n",
       "\\begin{tabular}{r|ll}\n",
       "  & NU\\_IDADE\\_N & n\\\\\n",
       "  & <dbl> & <int>\\\\\n",
       "\\hline\n",
       "\t1 & 3011 &  53\\\\\n",
       "\t2 & 4001 & 415\\\\\n",
       "\t3 & 4002 & 430\\\\\n",
       "\t4 & 4003 & 501\\\\\n",
       "\t5 & 4004 & 535\\\\\n",
       "\t6 & 4005 & 625\\\\\n",
       "\\end{tabular}\n"
      ],
      "text/markdown": [
       "\n",
       "A data.frame: 6 × 2\n",
       "\n",
       "| <!--/--> | NU_IDADE_N &lt;dbl&gt; | n &lt;int&gt; |\n",
       "|---|---|---|\n",
       "| 1 | 3011 |  53 |\n",
       "| 2 | 4001 | 415 |\n",
       "| 3 | 4002 | 430 |\n",
       "| 4 | 4003 | 501 |\n",
       "| 5 | 4004 | 535 |\n",
       "| 6 | 4005 | 625 |\n",
       "\n"
      ],
      "text/plain": [
       "  NU_IDADE_N n  \n",
       "1 3011        53\n",
       "2 4001       415\n",
       "3 4002       430\n",
       "4 4003       501\n",
       "5 4004       535\n",
       "6 4005       625"
      ]
     },
     "metadata": {},
     "output_type": "display_data"
    }
   ],
   "source": [
    "# remove information that is not coherent\n",
    "\n",
    "data %>% filter(!(NU_IDADE_N > 3012 & NU_IDADE_N < 4000)) %>% filter(NU_IDADE_N> 3010) %>% \n",
    "    count(NU_IDADE_N) %>% head\n",
    "\n",
    "data %>% filter(!(NU_IDADE_N > 3012 & NU_IDADE_N < 4000)) ->data\n"
   ]
  },
  {
   "cell_type": "code",
   "execution_count": 9,
   "id": "e7190f19",
   "metadata": {},
   "outputs": [
    {
     "data": {
      "text/html": [
       "<table class=\"dataframe\">\n",
       "<caption>A data.frame: 6 × 2</caption>\n",
       "<thead>\n",
       "\t<tr><th></th><th scope=col>age</th><th scope=col>NU_IDADE_N</th></tr>\n",
       "\t<tr><th></th><th scope=col>&lt;dbl&gt;</th><th scope=col>&lt;dbl&gt;</th></tr>\n",
       "</thead>\n",
       "<tbody>\n",
       "\t<tr><th scope=row>1</th><td>48</td><td>4048</td></tr>\n",
       "\t<tr><th scope=row>2</th><td> 7</td><td>4007</td></tr>\n",
       "\t<tr><th scope=row>3</th><td>26</td><td>4026</td></tr>\n",
       "\t<tr><th scope=row>4</th><td>44</td><td>4044</td></tr>\n",
       "\t<tr><th scope=row>5</th><td> 8</td><td>4008</td></tr>\n",
       "\t<tr><th scope=row>6</th><td>11</td><td>4011</td></tr>\n",
       "</tbody>\n",
       "</table>\n"
      ],
      "text/latex": [
       "A data.frame: 6 × 2\n",
       "\\begin{tabular}{r|ll}\n",
       "  & age & NU\\_IDADE\\_N\\\\\n",
       "  & <dbl> & <dbl>\\\\\n",
       "\\hline\n",
       "\t1 & 48 & 4048\\\\\n",
       "\t2 &  7 & 4007\\\\\n",
       "\t3 & 26 & 4026\\\\\n",
       "\t4 & 44 & 4044\\\\\n",
       "\t5 &  8 & 4008\\\\\n",
       "\t6 & 11 & 4011\\\\\n",
       "\\end{tabular}\n"
      ],
      "text/markdown": [
       "\n",
       "A data.frame: 6 × 2\n",
       "\n",
       "| <!--/--> | age &lt;dbl&gt; | NU_IDADE_N &lt;dbl&gt; |\n",
       "|---|---|---|\n",
       "| 1 | 48 | 4048 |\n",
       "| 2 |  7 | 4007 |\n",
       "| 3 | 26 | 4026 |\n",
       "| 4 | 44 | 4044 |\n",
       "| 5 |  8 | 4008 |\n",
       "| 6 | 11 | 4011 |\n",
       "\n"
      ],
      "text/plain": [
       "  age NU_IDADE_N\n",
       "1 48  4048      \n",
       "2  7  4007      \n",
       "3 26  4026      \n",
       "4 44  4044      \n",
       "5  8  4008      \n",
       "6 11  4011      "
      ]
     },
     "metadata": {},
     "output_type": "display_data"
    }
   ],
   "source": [
    "# transform in years \n",
    "\n",
    "# if is less than 4000 the patient has not complete one year\n",
    "data %>% mutate(age = ifelse(NU_IDADE_N < 4000, 0, (NU_IDADE_N - round(NU_IDADE_N, -2)))) %>% \n",
    "    select(age, NU_IDADE_N) %>% head\n",
    "\n",
    "data %>% mutate(age = ifelse(NU_IDADE_N < 4000, 0, (NU_IDADE_N - 4000))) -> data"
   ]
  },
  {
   "cell_type": "code",
   "execution_count": 10,
   "id": "66ed80e2",
   "metadata": {},
   "outputs": [
    {
     "data": {
      "text/html": [
       "<table class=\"dataframe\">\n",
       "<caption>A data.frame: 6 × 2</caption>\n",
       "<thead>\n",
       "\t<tr><th scope=col>EVOLUCAO</th><th scope=col>n</th></tr>\n",
       "\t<tr><th scope=col>&lt;int&gt;</th><th scope=col>&lt;int&gt;</th></tr>\n",
       "</thead>\n",
       "<tbody>\n",
       "\t<tr><td> 1</td><td>62702</td></tr>\n",
       "\t<tr><td> 2</td><td>   30</td></tr>\n",
       "\t<tr><td> 3</td><td>  166</td></tr>\n",
       "\t<tr><td> 4</td><td>   21</td></tr>\n",
       "\t<tr><td> 9</td><td> 5286</td></tr>\n",
       "\t<tr><td>NA</td><td>34142</td></tr>\n",
       "</tbody>\n",
       "</table>\n"
      ],
      "text/latex": [
       "A data.frame: 6 × 2\n",
       "\\begin{tabular}{ll}\n",
       " EVOLUCAO & n\\\\\n",
       " <int> & <int>\\\\\n",
       "\\hline\n",
       "\t  1 & 62702\\\\\n",
       "\t  2 &    30\\\\\n",
       "\t  3 &   166\\\\\n",
       "\t  4 &    21\\\\\n",
       "\t  9 &  5286\\\\\n",
       "\t NA & 34142\\\\\n",
       "\\end{tabular}\n"
      ],
      "text/markdown": [
       "\n",
       "A data.frame: 6 × 2\n",
       "\n",
       "| EVOLUCAO &lt;int&gt; | n &lt;int&gt; |\n",
       "|---|---|\n",
       "|  1 | 62702 |\n",
       "|  2 |    30 |\n",
       "|  3 |   166 |\n",
       "|  4 |    21 |\n",
       "|  9 |  5286 |\n",
       "| NA | 34142 |\n",
       "\n"
      ],
      "text/plain": [
       "  EVOLUCAO n    \n",
       "1  1       62702\n",
       "2  2          30\n",
       "3  3         166\n",
       "4  4          21\n",
       "5  9        5286\n",
       "6 NA       34142"
      ]
     },
     "metadata": {},
     "output_type": "display_data"
    },
    {
     "data": {
      "text/html": [
       "<table class=\"dataframe\">\n",
       "<caption>A data.frame: 4 × 2</caption>\n",
       "<thead>\n",
       "\t<tr><th scope=col>HOSPITALIZ</th><th scope=col>n</th></tr>\n",
       "\t<tr><th scope=col>&lt;int&gt;</th><th scope=col>&lt;int&gt;</th></tr>\n",
       "</thead>\n",
       "<tbody>\n",
       "\t<tr><td> 1</td><td> 3217</td></tr>\n",
       "\t<tr><td> 2</td><td>49738</td></tr>\n",
       "\t<tr><td> 9</td><td> 1806</td></tr>\n",
       "\t<tr><td>NA</td><td>47586</td></tr>\n",
       "</tbody>\n",
       "</table>\n"
      ],
      "text/latex": [
       "A data.frame: 4 × 2\n",
       "\\begin{tabular}{ll}\n",
       " HOSPITALIZ & n\\\\\n",
       " <int> & <int>\\\\\n",
       "\\hline\n",
       "\t  1 &  3217\\\\\n",
       "\t  2 & 49738\\\\\n",
       "\t  9 &  1806\\\\\n",
       "\t NA & 47586\\\\\n",
       "\\end{tabular}\n"
      ],
      "text/markdown": [
       "\n",
       "A data.frame: 4 × 2\n",
       "\n",
       "| HOSPITALIZ &lt;int&gt; | n &lt;int&gt; |\n",
       "|---|---|\n",
       "|  1 |  3217 |\n",
       "|  2 | 49738 |\n",
       "|  9 |  1806 |\n",
       "| NA | 47586 |\n",
       "\n"
      ],
      "text/plain": [
       "  HOSPITALIZ n    \n",
       "1  1          3217\n",
       "2  2         49738\n",
       "3  9          1806\n",
       "4 NA         47586"
      ]
     },
     "metadata": {},
     "output_type": "display_data"
    },
    {
     "data": {
      "text/html": [
       "<table class=\"dataframe\">\n",
       "<caption>A data.frame: 3 × 2</caption>\n",
       "<thead>\n",
       "\t<tr><th scope=col>CLASSI_FIN</th><th scope=col>n</th></tr>\n",
       "\t<tr><th scope=col>&lt;int&gt;</th><th scope=col>&lt;int&gt;</th></tr>\n",
       "</thead>\n",
       "<tbody>\n",
       "\t<tr><td> 5</td><td>28478</td></tr>\n",
       "\t<tr><td>13</td><td>43939</td></tr>\n",
       "\t<tr><td>NA</td><td>29930</td></tr>\n",
       "</tbody>\n",
       "</table>\n"
      ],
      "text/latex": [
       "A data.frame: 3 × 2\n",
       "\\begin{tabular}{ll}\n",
       " CLASSI\\_FIN & n\\\\\n",
       " <int> & <int>\\\\\n",
       "\\hline\n",
       "\t  5 & 28478\\\\\n",
       "\t 13 & 43939\\\\\n",
       "\t NA & 29930\\\\\n",
       "\\end{tabular}\n"
      ],
      "text/markdown": [
       "\n",
       "A data.frame: 3 × 2\n",
       "\n",
       "| CLASSI_FIN &lt;int&gt; | n &lt;int&gt; |\n",
       "|---|---|\n",
       "|  5 | 28478 |\n",
       "| 13 | 43939 |\n",
       "| NA | 29930 |\n",
       "\n"
      ],
      "text/plain": [
       "  CLASSI_FIN n    \n",
       "1  5         28478\n",
       "2 13         43939\n",
       "3 NA         29930"
      ]
     },
     "metadata": {},
     "output_type": "display_data"
    }
   ],
   "source": [
    "data %>% count(EVOLUCAO)\n",
    "data %>% count(HOSPITALIZ)\n",
    "data %>% count(CLASSI_FIN)"
   ]
  },
  {
   "cell_type": "code",
   "execution_count": 11,
   "id": "33b67956",
   "metadata": {
    "scrolled": true
   },
   "outputs": [
    {
     "data": {
      "text/html": [
       "<table class=\"dataframe\">\n",
       "<caption>A data.frame: 1 × 2</caption>\n",
       "<thead>\n",
       "\t<tr><th scope=col>TP_NOT</th><th scope=col>n</th></tr>\n",
       "\t<tr><th scope=col>&lt;int&gt;</th><th scope=col>&lt;int&gt;</th></tr>\n",
       "</thead>\n",
       "<tbody>\n",
       "\t<tr><td>2</td><td>102347</td></tr>\n",
       "</tbody>\n",
       "</table>\n"
      ],
      "text/latex": [
       "A data.frame: 1 × 2\n",
       "\\begin{tabular}{ll}\n",
       " TP\\_NOT & n\\\\\n",
       " <int> & <int>\\\\\n",
       "\\hline\n",
       "\t 2 & 102347\\\\\n",
       "\\end{tabular}\n"
      ],
      "text/markdown": [
       "\n",
       "A data.frame: 1 × 2\n",
       "\n",
       "| TP_NOT &lt;int&gt; | n &lt;int&gt; |\n",
       "|---|---|\n",
       "| 2 | 102347 |\n",
       "\n"
      ],
      "text/plain": [
       "  TP_NOT n     \n",
       "1 2      102347"
      ]
     },
     "metadata": {},
     "output_type": "display_data"
    },
    {
     "data": {
      "text/html": [
       "<table class=\"dataframe\">\n",
       "<caption>A data.frame: 1 × 2</caption>\n",
       "<thead>\n",
       "\t<tr><th scope=col>ID_AGRAVO</th><th scope=col>n</th></tr>\n",
       "\t<tr><th scope=col>&lt;chr&gt;</th><th scope=col>&lt;int&gt;</th></tr>\n",
       "</thead>\n",
       "<tbody>\n",
       "\t<tr><td>A92.0</td><td>102347</td></tr>\n",
       "</tbody>\n",
       "</table>\n"
      ],
      "text/latex": [
       "A data.frame: 1 × 2\n",
       "\\begin{tabular}{ll}\n",
       " ID\\_AGRAVO & n\\\\\n",
       " <chr> & <int>\\\\\n",
       "\\hline\n",
       "\t A92.0 & 102347\\\\\n",
       "\\end{tabular}\n"
      ],
      "text/markdown": [
       "\n",
       "A data.frame: 1 × 2\n",
       "\n",
       "| ID_AGRAVO &lt;chr&gt; | n &lt;int&gt; |\n",
       "|---|---|\n",
       "| A92.0 | 102347 |\n",
       "\n"
      ],
      "text/plain": [
       "  ID_AGRAVO n     \n",
       "1 A92.0     102347"
      ]
     },
     "metadata": {},
     "output_type": "display_data"
    },
    {
     "data": {
      "text/html": [
       "<table class=\"dataframe\">\n",
       "<caption>A data.frame: 3 × 2</caption>\n",
       "<thead>\n",
       "\t<tr><th scope=col>NU_ANO</th><th scope=col>n</th></tr>\n",
       "\t<tr><th scope=col>&lt;int&gt;</th><th scope=col>&lt;int&gt;</th></tr>\n",
       "</thead>\n",
       "<tbody>\n",
       "\t<tr><td>2019</td><td>   369</td></tr>\n",
       "\t<tr><td>2020</td><td>101927</td></tr>\n",
       "\t<tr><td>2021</td><td>    51</td></tr>\n",
       "</tbody>\n",
       "</table>\n"
      ],
      "text/latex": [
       "A data.frame: 3 × 2\n",
       "\\begin{tabular}{ll}\n",
       " NU\\_ANO & n\\\\\n",
       " <int> & <int>\\\\\n",
       "\\hline\n",
       "\t 2019 &    369\\\\\n",
       "\t 2020 & 101927\\\\\n",
       "\t 2021 &     51\\\\\n",
       "\\end{tabular}\n"
      ],
      "text/markdown": [
       "\n",
       "A data.frame: 3 × 2\n",
       "\n",
       "| NU_ANO &lt;int&gt; | n &lt;int&gt; |\n",
       "|---|---|\n",
       "| 2019 |    369 |\n",
       "| 2020 | 101927 |\n",
       "| 2021 |     51 |\n",
       "\n"
      ],
      "text/plain": [
       "  NU_ANO n     \n",
       "1 2019      369\n",
       "2 2020   101927\n",
       "3 2021       51"
      ]
     },
     "metadata": {},
     "output_type": "display_data"
    }
   ],
   "source": [
    "# check the content of some features\n",
    "\n",
    "data %>% count(TP_NOT)\n",
    "data %>% count(ID_AGRAVO)\n",
    "data %>% count(NU_ANO)\n",
    "\n",
    "# removed since they does not contain relevant information \n",
    "\n",
    "data %>% select(-c(TP_NOT, ID_AGRAVO, NU_ANO)) -> data"
   ]
  },
  {
   "cell_type": "code",
   "execution_count": 12,
   "id": "790587de",
   "metadata": {},
   "outputs": [
    {
     "data": {
      "text/html": [
       "<style>\n",
       ".list-inline {list-style: none; margin:0; padding: 0}\n",
       ".list-inline>li {display: inline-block}\n",
       ".list-inline>li:not(:last-child)::after {content: \"\\00b7\"; padding: 0 .5ex}\n",
       "</style>\n",
       "<ol class=list-inline><li>292</li><li>1</li></ol>\n"
      ],
      "text/latex": [
       "\\begin{enumerate*}\n",
       "\\item 292\n",
       "\\item 1\n",
       "\\end{enumerate*}\n"
      ],
      "text/markdown": [
       "1. 292\n",
       "2. 1\n",
       "\n",
       "\n"
      ],
      "text/plain": [
       "[1] 292   1"
      ]
     },
     "metadata": {},
     "output_type": "display_data"
    },
    {
     "data": {
      "text/html": [
       "<style>\n",
       ".list-inline {list-style: none; margin:0; padding: 0}\n",
       ".list-inline>li {display: inline-block}\n",
       ".list-inline>li:not(:last-child)::after {content: \"\\00b7\"; padding: 0 .5ex}\n",
       "</style>\n",
       "<ol class=list-inline><li>2063</li><li>1</li></ol>\n"
      ],
      "text/latex": [
       "\\begin{enumerate*}\n",
       "\\item 2063\n",
       "\\item 1\n",
       "\\end{enumerate*}\n"
      ],
      "text/markdown": [
       "1. 2063\n",
       "2. 1\n",
       "\n",
       "\n"
      ],
      "text/plain": [
       "[1] 2063    1"
      ]
     },
     "metadata": {},
     "output_type": "display_data"
    },
    {
     "data": {
      "text/html": [
       "<style>\n",
       ".list-inline {list-style: none; margin:0; padding: 0}\n",
       ".list-inline>li {display: inline-block}\n",
       ".list-inline>li:not(:last-child)::after {content: \"\\00b7\"; padding: 0 .5ex}\n",
       "</style>\n",
       "<ol class=list-inline><li>27</li><li>1</li></ol>\n"
      ],
      "text/latex": [
       "\\begin{enumerate*}\n",
       "\\item 27\n",
       "\\item 1\n",
       "\\end{enumerate*}\n"
      ],
      "text/markdown": [
       "1. 27\n",
       "2. 1\n",
       "\n",
       "\n"
      ],
      "text/plain": [
       "[1] 27  1"
      ]
     },
     "metadata": {},
     "output_type": "display_data"
    },
    {
     "data": {
      "text/html": [
       "<style>\n",
       ".list-inline {list-style: none; margin:0; padding: 0}\n",
       ".list-inline>li {display: inline-block}\n",
       ".list-inline>li:not(:last-child)::after {content: \"\\00b7\"; padding: 0 .5ex}\n",
       "</style>\n",
       "<ol class=list-inline><li>27</li><li>1</li></ol>\n"
      ],
      "text/latex": [
       "\\begin{enumerate*}\n",
       "\\item 27\n",
       "\\item 1\n",
       "\\end{enumerate*}\n"
      ],
      "text/markdown": [
       "1. 27\n",
       "2. 1\n",
       "\n",
       "\n"
      ],
      "text/plain": [
       "[1] 27  1"
      ]
     },
     "metadata": {},
     "output_type": "display_data"
    },
    {
     "data": {
      "text/html": [
       "<style>\n",
       ".list-inline {list-style: none; margin:0; padding: 0}\n",
       ".list-inline>li {display: inline-block}\n",
       ".list-inline>li:not(:last-child)::after {content: \"\\00b7\"; padding: 0 .5ex}\n",
       "</style>\n",
       "<ol class=list-inline><li>2444</li><li>1</li></ol>\n"
      ],
      "text/latex": [
       "\\begin{enumerate*}\n",
       "\\item 2444\n",
       "\\item 1\n",
       "\\end{enumerate*}\n"
      ],
      "text/markdown": [
       "1. 2444\n",
       "2. 1\n",
       "\n",
       "\n"
      ],
      "text/plain": [
       "[1] 2444    1"
      ]
     },
     "metadata": {},
     "output_type": "display_data"
    },
    {
     "data": {
      "text/html": [
       "<style>\n",
       ".list-inline {list-style: none; margin:0; padding: 0}\n",
       ".list-inline>li {display: inline-block}\n",
       ".list-inline>li:not(:last-child)::after {content: \"\\00b7\"; padding: 0 .5ex}\n",
       "</style>\n",
       "<ol class=list-inline><li>1</li><li>1</li></ol>\n"
      ],
      "text/latex": [
       "\\begin{enumerate*}\n",
       "\\item 1\n",
       "\\item 1\n",
       "\\end{enumerate*}\n"
      ],
      "text/markdown": [
       "1. 1\n",
       "2. 1\n",
       "\n",
       "\n"
      ],
      "text/plain": [
       "[1] 1 1"
      ]
     },
     "metadata": {},
     "output_type": "display_data"
    },
    {
     "data": {
      "text/html": [
       "<style>\n",
       ".list-inline {list-style: none; margin:0; padding: 0}\n",
       ".list-inline>li {display: inline-block}\n",
       ".list-inline>li:not(:last-child)::after {content: \"\\00b7\"; padding: 0 .5ex}\n",
       "</style>\n",
       "<ol class=list-inline><li>300</li><li>1</li></ol>\n"
      ],
      "text/latex": [
       "\\begin{enumerate*}\n",
       "\\item 300\n",
       "\\item 1\n",
       "\\end{enumerate*}\n"
      ],
      "text/markdown": [
       "1. 300\n",
       "2. 1\n",
       "\n",
       "\n"
      ],
      "text/plain": [
       "[1] 300   1"
      ]
     },
     "metadata": {},
     "output_type": "display_data"
    },
    {
     "data": {
      "text/html": [
       "<style>\n",
       ".list-inline {list-style: none; margin:0; padding: 0}\n",
       ".list-inline>li {display: inline-block}\n",
       ".list-inline>li:not(:last-child)::after {content: \"\\00b7\"; padding: 0 .5ex}\n",
       "</style>\n",
       "<ol class=list-inline><li>8835</li><li>1</li></ol>\n"
      ],
      "text/latex": [
       "\\begin{enumerate*}\n",
       "\\item 8835\n",
       "\\item 1\n",
       "\\end{enumerate*}\n"
      ],
      "text/markdown": [
       "1. 8835\n",
       "2. 1\n",
       "\n",
       "\n"
      ],
      "text/plain": [
       "[1] 8835    1"
      ]
     },
     "metadata": {},
     "output_type": "display_data"
    }
   ],
   "source": [
    "# check how many regions, states and cities are present in the database\n",
    "\n",
    "data %>% select(ID_REGIONA) %>% unique %>% dim\n",
    "data %>% select(ID_MUNICIP) %>% unique %>% dim\n",
    "data %>% select(SG_UF_NOT) %>% unique %>% dim\n",
    "data %>% select(SG_UF) %>% unique %>% dim\n",
    "\n",
    "data %>% select(ID_MN_RESI) %>% unique %>% dim\n",
    "data %>% select(ID_PAIS) %>% unique %>% dim\n",
    "data %>% select(ID_RG_RESI) %>% unique %>% dim\n",
    "\n",
    "data %>% select(ID_UNIDADE) %>% unique %>% dim"
   ]
  },
  {
   "cell_type": "code",
   "execution_count": 13,
   "id": "211d4bb2",
   "metadata": {},
   "outputs": [
    {
     "data": {
      "text/html": [
       "<style>\n",
       ".list-inline {list-style: none; margin:0; padding: 0}\n",
       ".list-inline>li {display: inline-block}\n",
       ".list-inline>li:not(:last-child)::after {content: \"\\00b7\"; padding: 0 .5ex}\n",
       "</style>\n",
       "<ol class=list-inline><li>28</li><li>1</li></ol>\n"
      ],
      "text/latex": [
       "\\begin{enumerate*}\n",
       "\\item 28\n",
       "\\item 1\n",
       "\\end{enumerate*}\n"
      ],
      "text/markdown": [
       "1. 28\n",
       "2. 1\n",
       "\n",
       "\n"
      ],
      "text/plain": [
       "[1] 28  1"
      ]
     },
     "metadata": {},
     "output_type": "display_data"
    },
    {
     "data": {
      "text/html": [
       "<style>\n",
       ".list-inline {list-style: none; margin:0; padding: 0}\n",
       ".list-inline>li {display: inline-block}\n",
       ".list-inline>li:not(:last-child)::after {content: \"\\00b7\"; padding: 0 .5ex}\n",
       "</style>\n",
       "<ol class=list-inline><li>423</li><li>1</li></ol>\n"
      ],
      "text/latex": [
       "\\begin{enumerate*}\n",
       "\\item 423\n",
       "\\item 1\n",
       "\\end{enumerate*}\n"
      ],
      "text/markdown": [
       "1. 423\n",
       "2. 1\n",
       "\n",
       "\n"
      ],
      "text/plain": [
       "[1] 423   1"
      ]
     },
     "metadata": {},
     "output_type": "display_data"
    },
    {
     "data": {
      "text/html": [
       "<style>\n",
       ".list-inline {list-style: none; margin:0; padding: 0}\n",
       ".list-inline>li {display: inline-block}\n",
       ".list-inline>li:not(:last-child)::after {content: \"\\00b7\"; padding: 0 .5ex}\n",
       "</style>\n",
       "<ol class=list-inline><li>291</li><li>114</li></ol>\n"
      ],
      "text/latex": [
       "\\begin{enumerate*}\n",
       "\\item 291\n",
       "\\item 114\n",
       "\\end{enumerate*}\n"
      ],
      "text/markdown": [
       "1. 291\n",
       "2. 114\n",
       "\n",
       "\n"
      ],
      "text/plain": [
       "[1] 291 114"
      ]
     },
     "metadata": {},
     "output_type": "display_data"
    },
    {
     "data": {
      "text/html": [
       "<style>\n",
       ".list-inline {list-style: none; margin:0; padding: 0}\n",
       ".list-inline>li {display: inline-block}\n",
       ".list-inline>li:not(:last-child)::after {content: \"\\00b7\"; padding: 0 .5ex}\n",
       "</style>\n",
       "<ol class=list-inline><li>102347</li><li>107</li></ol>\n"
      ],
      "text/latex": [
       "\\begin{enumerate*}\n",
       "\\item 102347\n",
       "\\item 107\n",
       "\\end{enumerate*}\n"
      ],
      "text/markdown": [
       "1. 102347\n",
       "2. 107\n",
       "\n",
       "\n"
      ],
      "text/plain": [
       "[1] 102347    107"
      ]
     },
     "metadata": {},
     "output_type": "display_data"
    }
   ],
   "source": [
    "# refer to the place of hospitalization\n",
    "data %>% select(UF) %>% unique %>% dim\n",
    "data %>% select(MUNICIPIO) %>% unique %>% dim\n",
    "\n",
    "# SG_UF refers to the state of residence while SG_UF_NOT refers to the sate where the notification was realised\n",
    "# check in how many cases they are different \n",
    "data %>% filter(SG_UF != SG_UF_NOT) %>% dim\n",
    "\n",
    "#keep only id related with the city\n",
    "data %>% select(-c(ID_REGIONA, ID_MUNICIP, SG_UF, ID_PAIS, ID_RG_RESI, UF, MUNICIPIO)) -> data\n",
    "\n",
    "data %>% dim"
   ]
  },
  {
   "cell_type": "code",
   "execution_count": 14,
   "id": "73dffc70",
   "metadata": {},
   "outputs": [
    {
     "data": {
      "text/html": [
       "<style>\n",
       ".list-inline {list-style: none; margin:0; padding: 0}\n",
       ".list-inline>li {display: inline-block}\n",
       ".list-inline>li:not(:last-child)::after {content: \"\\00b7\"; padding: 0 .5ex}\n",
       "</style>\n",
       "<ol class=list-inline><li>102306</li><li>107</li></ol>\n"
      ],
      "text/latex": [
       "\\begin{enumerate*}\n",
       "\\item 102306\n",
       "\\item 107\n",
       "\\end{enumerate*}\n"
      ],
      "text/markdown": [
       "1. 102306\n",
       "2. 107\n",
       "\n",
       "\n"
      ],
      "text/plain": [
       "[1] 102306    107"
      ]
     },
     "metadata": {},
     "output_type": "display_data"
    }
   ],
   "source": [
    "# remove patients without id_unidade or city\n",
    "data %>% filter(!is.na(ID_UNIDADE)) -> data\n",
    "data %>% filter(!is.na(ID_MN_RESI)) -> data\n",
    "data %>% filter(!is.na(SG_UF_NOT)) -> data\n",
    "\n",
    "data %>% dim"
   ]
  },
  {
   "cell_type": "code",
   "execution_count": 15,
   "id": "a1e0a0b5",
   "metadata": {},
   "outputs": [
    {
     "data": {
      "text/html": [
       "<table class=\"dataframe\">\n",
       "<caption>A data.frame: 6 × 3</caption>\n",
       "<thead>\n",
       "\t<tr><th></th><th scope=col>TPAUTOCTO</th><th scope=col>COPAISINF</th><th scope=col>COMUNINF</th></tr>\n",
       "\t<tr><th></th><th scope=col>&lt;int&gt;</th><th scope=col>&lt;int&gt;</th><th scope=col>&lt;int&gt;</th></tr>\n",
       "</thead>\n",
       "<tbody>\n",
       "\t<tr><th scope=row>1</th><td>NA</td><td>NA</td><td>NA</td></tr>\n",
       "\t<tr><th scope=row>2</th><td>NA</td><td>NA</td><td>NA</td></tr>\n",
       "\t<tr><th scope=row>3</th><td>NA</td><td>NA</td><td>NA</td></tr>\n",
       "\t<tr><th scope=row>4</th><td>NA</td><td>NA</td><td>NA</td></tr>\n",
       "\t<tr><th scope=row>5</th><td>NA</td><td>NA</td><td>NA</td></tr>\n",
       "\t<tr><th scope=row>6</th><td>NA</td><td>NA</td><td>NA</td></tr>\n",
       "</tbody>\n",
       "</table>\n"
      ],
      "text/latex": [
       "A data.frame: 6 × 3\n",
       "\\begin{tabular}{r|lll}\n",
       "  & TPAUTOCTO & COPAISINF & COMUNINF\\\\\n",
       "  & <int> & <int> & <int>\\\\\n",
       "\\hline\n",
       "\t1 & NA & NA & NA\\\\\n",
       "\t2 & NA & NA & NA\\\\\n",
       "\t3 & NA & NA & NA\\\\\n",
       "\t4 & NA & NA & NA\\\\\n",
       "\t5 & NA & NA & NA\\\\\n",
       "\t6 & NA & NA & NA\\\\\n",
       "\\end{tabular}\n"
      ],
      "text/markdown": [
       "\n",
       "A data.frame: 6 × 3\n",
       "\n",
       "| <!--/--> | TPAUTOCTO &lt;int&gt; | COPAISINF &lt;int&gt; | COMUNINF &lt;int&gt; |\n",
       "|---|---|---|---|\n",
       "| 1 | NA | NA | NA |\n",
       "| 2 | NA | NA | NA |\n",
       "| 3 | NA | NA | NA |\n",
       "| 4 | NA | NA | NA |\n",
       "| 5 | NA | NA | NA |\n",
       "| 6 | NA | NA | NA |\n",
       "\n"
      ],
      "text/plain": [
       "  TPAUTOCTO COPAISINF COMUNINF\n",
       "1 NA        NA        NA      \n",
       "2 NA        NA        NA      \n",
       "3 NA        NA        NA      \n",
       "4 NA        NA        NA      \n",
       "5 NA        NA        NA      \n",
       "6 NA        NA        NA      "
      ]
     },
     "metadata": {},
     "output_type": "display_data"
    }
   ],
   "source": [
    "# refer to place of infection\n",
    "data %>% select(TPAUTOCTO, COPAISINF, COMUNINF) %>% head\n",
    "\n",
    "data %>% select(-c(TPAUTOCTO, COPAISINF, COUFINF, COMUNINF)) -> data"
   ]
  },
  {
   "cell_type": "code",
   "execution_count": 16,
   "id": "8c2eae88",
   "metadata": {},
   "outputs": [
    {
     "data": {
      "text/html": [
       "<table class=\"dataframe\">\n",
       "<caption>A data.frame: 2 × 2</caption>\n",
       "<thead>\n",
       "\t<tr><th scope=col>TP_SISTEMA</th><th scope=col>n</th></tr>\n",
       "\t<tr><th scope=col>&lt;int&gt;</th><th scope=col>&lt;int&gt;</th></tr>\n",
       "</thead>\n",
       "<tbody>\n",
       "\t<tr><td> 2</td><td>100638</td></tr>\n",
       "\t<tr><td>NA</td><td>  1668</td></tr>\n",
       "</tbody>\n",
       "</table>\n"
      ],
      "text/latex": [
       "A data.frame: 2 × 2\n",
       "\\begin{tabular}{ll}\n",
       " TP\\_SISTEMA & n\\\\\n",
       " <int> & <int>\\\\\n",
       "\\hline\n",
       "\t  2 & 100638\\\\\n",
       "\t NA &   1668\\\\\n",
       "\\end{tabular}\n"
      ],
      "text/markdown": [
       "\n",
       "A data.frame: 2 × 2\n",
       "\n",
       "| TP_SISTEMA &lt;int&gt; | n &lt;int&gt; |\n",
       "|---|---|\n",
       "|  2 | 100638 |\n",
       "| NA |   1668 |\n",
       "\n"
      ],
      "text/plain": [
       "  TP_SISTEMA n     \n",
       "1  2         100638\n",
       "2 NA           1668"
      ]
     },
     "metadata": {},
     "output_type": "display_data"
    }
   ],
   "source": [
    "# check and remove non-informative features\n",
    "\n",
    "data %>% count(TP_SISTEMA)\n",
    "\n",
    "data %>% select(-c(TP_SISTEMA)) -> data"
   ]
  },
  {
   "cell_type": "code",
   "execution_count": 17,
   "id": "ab209e47",
   "metadata": {},
   "outputs": [
    {
     "data": {
      "text/html": [
       "<table class=\"dataframe\">\n",
       "<caption>A data.frame: 2 × 2</caption>\n",
       "<thead>\n",
       "\t<tr><th scope=col>NDUPLIC_N</th><th scope=col>n</th></tr>\n",
       "\t<tr><th scope=col>&lt;int&gt;</th><th scope=col>&lt;int&gt;</th></tr>\n",
       "</thead>\n",
       "<tbody>\n",
       "\t<tr><td> 1</td><td>    19</td></tr>\n",
       "\t<tr><td>NA</td><td>102287</td></tr>\n",
       "</tbody>\n",
       "</table>\n"
      ],
      "text/latex": [
       "A data.frame: 2 × 2\n",
       "\\begin{tabular}{ll}\n",
       " NDUPLIC\\_N & n\\\\\n",
       " <int> & <int>\\\\\n",
       "\\hline\n",
       "\t  1 &     19\\\\\n",
       "\t NA & 102287\\\\\n",
       "\\end{tabular}\n"
      ],
      "text/markdown": [
       "\n",
       "A data.frame: 2 × 2\n",
       "\n",
       "| NDUPLIC_N &lt;int&gt; | n &lt;int&gt; |\n",
       "|---|---|\n",
       "|  1 |     19 |\n",
       "| NA | 102287 |\n",
       "\n"
      ],
      "text/plain": [
       "  NDUPLIC_N n     \n",
       "1  1            19\n",
       "2 NA        102287"
      ]
     },
     "metadata": {},
     "output_type": "display_data"
    },
    {
     "data": {
      "text/html": [
       "<table class=\"dataframe\">\n",
       "<caption>A data.frame: 1 × 2</caption>\n",
       "<thead>\n",
       "\t<tr><th scope=col>COMPLICA</th><th scope=col>n</th></tr>\n",
       "\t<tr><th scope=col>&lt;lgl&gt;</th><th scope=col>&lt;int&gt;</th></tr>\n",
       "</thead>\n",
       "<tbody>\n",
       "\t<tr><td>NA</td><td>102306</td></tr>\n",
       "</tbody>\n",
       "</table>\n"
      ],
      "text/latex": [
       "A data.frame: 1 × 2\n",
       "\\begin{tabular}{ll}\n",
       " COMPLICA & n\\\\\n",
       " <lgl> & <int>\\\\\n",
       "\\hline\n",
       "\t NA & 102306\\\\\n",
       "\\end{tabular}\n"
      ],
      "text/markdown": [
       "\n",
       "A data.frame: 1 × 2\n",
       "\n",
       "| COMPLICA &lt;lgl&gt; | n &lt;int&gt; |\n",
       "|---|---|\n",
       "| NA | 102306 |\n",
       "\n"
      ],
      "text/plain": [
       "  COMPLICA n     \n",
       "1 NA       102306"
      ]
     },
     "metadata": {},
     "output_type": "display_data"
    },
    {
     "data": {
      "text/html": [
       "<table class=\"dataframe\">\n",
       "<caption>A data.frame: 1 × 2</caption>\n",
       "<thead>\n",
       "\t<tr><th scope=col>CON_FHD</th><th scope=col>n</th></tr>\n",
       "\t<tr><th scope=col>&lt;lgl&gt;</th><th scope=col>&lt;int&gt;</th></tr>\n",
       "</thead>\n",
       "<tbody>\n",
       "\t<tr><td>NA</td><td>102306</td></tr>\n",
       "</tbody>\n",
       "</table>\n"
      ],
      "text/latex": [
       "A data.frame: 1 × 2\n",
       "\\begin{tabular}{ll}\n",
       " CON\\_FHD & n\\\\\n",
       " <lgl> & <int>\\\\\n",
       "\\hline\n",
       "\t NA & 102306\\\\\n",
       "\\end{tabular}\n"
      ],
      "text/markdown": [
       "\n",
       "A data.frame: 1 × 2\n",
       "\n",
       "| CON_FHD &lt;lgl&gt; | n &lt;int&gt; |\n",
       "|---|---|\n",
       "| NA | 102306 |\n",
       "\n"
      ],
      "text/plain": [
       "  CON_FHD n     \n",
       "1 NA      102306"
      ]
     },
     "metadata": {},
     "output_type": "display_data"
    }
   ],
   "source": [
    "# check and remove non-informative features\n",
    "\n",
    "data %>% count(NDUPLIC_N)\n",
    "\n",
    "data %>% count(COMPLICA)\n",
    "\n",
    "data %>% count(CON_FHD)\n",
    "\n",
    "data %>% select(-c(NDUPLIC_N, COMPLICA, CON_FHD)) -> data"
   ]
  },
  {
   "cell_type": "code",
   "execution_count": 18,
   "id": "4b63eb33",
   "metadata": {},
   "outputs": [
    {
     "data": {
      "text/html": [
       "<table class=\"dataframe\">\n",
       "<caption>A data.frame: 1 × 2</caption>\n",
       "<thead>\n",
       "\t<tr><th scope=col>SOROTIPO</th><th scope=col>n</th></tr>\n",
       "\t<tr><th scope=col>&lt;lgl&gt;</th><th scope=col>&lt;int&gt;</th></tr>\n",
       "</thead>\n",
       "<tbody>\n",
       "\t<tr><td>NA</td><td>102306</td></tr>\n",
       "</tbody>\n",
       "</table>\n"
      ],
      "text/latex": [
       "A data.frame: 1 × 2\n",
       "\\begin{tabular}{ll}\n",
       " SOROTIPO & n\\\\\n",
       " <lgl> & <int>\\\\\n",
       "\\hline\n",
       "\t NA & 102306\\\\\n",
       "\\end{tabular}\n"
      ],
      "text/markdown": [
       "\n",
       "A data.frame: 1 × 2\n",
       "\n",
       "| SOROTIPO &lt;lgl&gt; | n &lt;int&gt; |\n",
       "|---|---|\n",
       "| NA | 102306 |\n",
       "\n"
      ],
      "text/plain": [
       "  SOROTIPO n     \n",
       "1 NA       102306"
      ]
     },
     "metadata": {},
     "output_type": "display_data"
    },
    {
     "data": {
      "text/html": [
       "<table class=\"dataframe\">\n",
       "<caption>A data.frame: 2 × 2</caption>\n",
       "<thead>\n",
       "\t<tr><th scope=col>HISTOPA_N</th><th scope=col>n</th></tr>\n",
       "\t<tr><th scope=col>&lt;int&gt;</th><th scope=col>&lt;int&gt;</th></tr>\n",
       "</thead>\n",
       "<tbody>\n",
       "\t<tr><td> 4</td><td>    23</td></tr>\n",
       "\t<tr><td>NA</td><td>102283</td></tr>\n",
       "</tbody>\n",
       "</table>\n"
      ],
      "text/latex": [
       "A data.frame: 2 × 2\n",
       "\\begin{tabular}{ll}\n",
       " HISTOPA\\_N & n\\\\\n",
       " <int> & <int>\\\\\n",
       "\\hline\n",
       "\t  4 &     23\\\\\n",
       "\t NA & 102283\\\\\n",
       "\\end{tabular}\n"
      ],
      "text/markdown": [
       "\n",
       "A data.frame: 2 × 2\n",
       "\n",
       "| HISTOPA_N &lt;int&gt; | n &lt;int&gt; |\n",
       "|---|---|\n",
       "|  4 |     23 |\n",
       "| NA | 102283 |\n",
       "\n"
      ],
      "text/plain": [
       "  HISTOPA_N n     \n",
       "1  4            23\n",
       "2 NA        102283"
      ]
     },
     "metadata": {},
     "output_type": "display_data"
    },
    {
     "data": {
      "text/html": [
       "<table class=\"dataframe\">\n",
       "<caption>A data.frame: 2 × 2</caption>\n",
       "<thead>\n",
       "\t<tr><th scope=col>IMUNOH_N</th><th scope=col>n</th></tr>\n",
       "\t<tr><th scope=col>&lt;int&gt;</th><th scope=col>&lt;int&gt;</th></tr>\n",
       "</thead>\n",
       "<tbody>\n",
       "\t<tr><td> 4</td><td>    23</td></tr>\n",
       "\t<tr><td>NA</td><td>102283</td></tr>\n",
       "</tbody>\n",
       "</table>\n"
      ],
      "text/latex": [
       "A data.frame: 2 × 2\n",
       "\\begin{tabular}{ll}\n",
       " IMUNOH\\_N & n\\\\\n",
       " <int> & <int>\\\\\n",
       "\\hline\n",
       "\t  4 &     23\\\\\n",
       "\t NA & 102283\\\\\n",
       "\\end{tabular}\n"
      ],
      "text/markdown": [
       "\n",
       "A data.frame: 2 × 2\n",
       "\n",
       "| IMUNOH_N &lt;int&gt; | n &lt;int&gt; |\n",
       "|---|---|\n",
       "|  4 |     23 |\n",
       "| NA | 102283 |\n",
       "\n"
      ],
      "text/plain": [
       "  IMUNOH_N n     \n",
       "1  4           23\n",
       "2 NA       102283"
      ]
     },
     "metadata": {},
     "output_type": "display_data"
    },
    {
     "data": {
      "text/html": [
       "<table class=\"dataframe\">\n",
       "<caption>A data.frame: 1 × 2</caption>\n",
       "<thead>\n",
       "\t<tr><th scope=col>DOENCA_TRA</th><th scope=col>n</th></tr>\n",
       "\t<tr><th scope=col>&lt;lgl&gt;</th><th scope=col>&lt;int&gt;</th></tr>\n",
       "</thead>\n",
       "<tbody>\n",
       "\t<tr><td>NA</td><td>102306</td></tr>\n",
       "</tbody>\n",
       "</table>\n"
      ],
      "text/latex": [
       "A data.frame: 1 × 2\n",
       "\\begin{tabular}{ll}\n",
       " DOENCA\\_TRA & n\\\\\n",
       " <lgl> & <int>\\\\\n",
       "\\hline\n",
       "\t NA & 102306\\\\\n",
       "\\end{tabular}\n"
      ],
      "text/markdown": [
       "\n",
       "A data.frame: 1 × 2\n",
       "\n",
       "| DOENCA_TRA &lt;lgl&gt; | n &lt;int&gt; |\n",
       "|---|---|\n",
       "| NA | 102306 |\n",
       "\n"
      ],
      "text/plain": [
       "  DOENCA_TRA n     \n",
       "1 NA         102306"
      ]
     },
     "metadata": {},
     "output_type": "display_data"
    },
    {
     "data": {
      "text/html": [
       "<table class=\"dataframe\">\n",
       "<caption>A data.frame: 1 × 2</caption>\n",
       "<thead>\n",
       "\t<tr><th scope=col>ALRM_HIPOT</th><th scope=col>n</th></tr>\n",
       "\t<tr><th scope=col>&lt;lgl&gt;</th><th scope=col>&lt;int&gt;</th></tr>\n",
       "</thead>\n",
       "<tbody>\n",
       "\t<tr><td>NA</td><td>102306</td></tr>\n",
       "</tbody>\n",
       "</table>\n"
      ],
      "text/latex": [
       "A data.frame: 1 × 2\n",
       "\\begin{tabular}{ll}\n",
       " ALRM\\_HIPOT & n\\\\\n",
       " <lgl> & <int>\\\\\n",
       "\\hline\n",
       "\t NA & 102306\\\\\n",
       "\\end{tabular}\n"
      ],
      "text/markdown": [
       "\n",
       "A data.frame: 1 × 2\n",
       "\n",
       "| ALRM_HIPOT &lt;lgl&gt; | n &lt;int&gt; |\n",
       "|---|---|\n",
       "| NA | 102306 |\n",
       "\n"
      ],
      "text/plain": [
       "  ALRM_HIPOT n     \n",
       "1 NA         102306"
      ]
     },
     "metadata": {},
     "output_type": "display_data"
    }
   ],
   "source": [
    "# check and remove non-informative features\n",
    "\n",
    "data %>% count(SOROTIPO)\n",
    "\n",
    "data %>% count(HISTOPA_N)\n",
    "\n",
    "data %>% count(IMUNOH_N)\n",
    "\n",
    "data %>% count(DOENCA_TRA)\n",
    "\n",
    "data %>% count(ALRM_HIPOT)\n",
    "\n",
    "data %>% select(-c(SOROTIPO, HISTOPA_N, IMUNOH_N, DOENCA_TRA, ALRM_HIPOT)) -> data"
   ]
  },
  {
   "cell_type": "code",
   "execution_count": 19,
   "id": "d1130667",
   "metadata": {},
   "outputs": [
    {
     "data": {
      "text/plain": [
       " ALRM_PLAQ      ALRM_VOM       ALRM_SANG      ALRM_HEMAT     ALRM_ABDOM    \n",
       " Mode:logical   Mode:logical   Mode:logical   Mode:logical   Mode:logical  \n",
       " NA's:102306    NA's:102306    NA's:102306    NA's:102306    NA's:102306   \n",
       " ALRM_LETAR     ALRM_HEPAT     ALRM_LIQ      \n",
       " Mode:logical   Mode:logical   Mode:logical  \n",
       " NA's:102306    NA's:102306    NA's:102306   "
      ]
     },
     "metadata": {},
     "output_type": "display_data"
    },
    {
     "data": {
      "text/plain": [
       " GRAV_PULSO     GRAV_CONV      GRAV_ENCH      GRAV_INSUF     GRAV_TAQUI    \n",
       " Mode:logical   Mode:logical   Mode:logical   Mode:logical   Mode:logical  \n",
       " NA's:102306    NA's:102306    NA's:102306    NA's:102306    NA's:102306   \n",
       " GRAV_EXTRE     GRAV_HIPOT     GRAV_HEMAT     GRAV_MELEN     GRAV_METRO    \n",
       " Mode:logical   Mode:logical   Mode:logical   Mode:logical   Mode:logical  \n",
       " NA's:102306    NA's:102306    NA's:102306    NA's:102306    NA's:102306   \n",
       " GRAV_SANG      GRAV_AST       GRAV_MIOC      GRAV_CONSC     GRAV_ORGAO    \n",
       " Mode:logical   Mode:logical   Mode:logical   Mode:logical   Mode:logical  \n",
       " NA's:102306    NA's:102306    NA's:102306    NA's:102306    NA's:102306   "
      ]
     },
     "metadata": {},
     "output_type": "display_data"
    },
    {
     "data": {
      "text/plain": [
       " MANI_HEMOR     EPISTAXE       GENGIVO         METRO         PETEQUIAS     \n",
       " Mode:logical   Mode:logical   Mode:logical   Mode:logical   Mode:logical  \n",
       " NA's:102306    NA's:102306    NA's:102306    NA's:102306    NA's:102306   \n",
       " HEMATURA       SANGRAM         LACO_N        PLASMATICO     EVIDENCIA     \n",
       " Mode:logical   Mode:logical   Mode:logical   Mode:logical   Mode:logical  \n",
       " NA's:102306    NA's:102306    NA's:102306    NA's:102306    NA's:102306   \n",
       " PLAQ_MENOR    \n",
       " Mode:logical  \n",
       " NA's:102306   "
      ]
     },
     "metadata": {},
     "output_type": "display_data"
    },
    {
     "data": {
      "text/html": [
       "<style>\n",
       ".list-inline {list-style: none; margin:0; padding: 0}\n",
       ".list-inline>li {display: inline-block}\n",
       ".list-inline>li:not(:last-child)::after {content: \"\\00b7\"; padding: 0 .5ex}\n",
       "</style>\n",
       "<ol class=list-inline><li>102306</li><li>58</li></ol>\n"
      ],
      "text/latex": [
       "\\begin{enumerate*}\n",
       "\\item 102306\n",
       "\\item 58\n",
       "\\end{enumerate*}\n"
      ],
      "text/markdown": [
       "1. 102306\n",
       "2. 58\n",
       "\n",
       "\n"
      ],
      "text/plain": [
       "[1] 102306     58"
      ]
     },
     "metadata": {},
     "output_type": "display_data"
    },
    {
     "data": {
      "text/html": [
       "<style>\n",
       ".list-inline {list-style: none; margin:0; padding: 0}\n",
       ".list-inline>li {display: inline-block}\n",
       ".list-inline>li:not(:last-child)::after {content: \"\\00b7\"; padding: 0 .5ex}\n",
       "</style>\n",
       "<ol class=list-inline><li>'DT_NOTIFIC'</li><li>'SEM_NOT'</li><li>'SG_UF_NOT'</li><li>'ID_UNIDADE'</li><li>'DT_SIN_PRI'</li><li>'SEM_PRI'</li><li>'NU_IDADE_N'</li><li>'CS_SEXO'</li><li>'CS_GESTANT'</li><li>'CS_RACA'</li><li>'CS_ESCOL_N'</li><li>'ID_MN_RESI'</li><li>'DT_INVEST'</li><li>'ID_OCUPA_N'</li><li>'FEBRE'</li><li>'MIALGIA'</li><li>'CEFALEIA'</li><li>'EXANTEMA'</li><li>'VOMITO'</li><li>'NAUSEA'</li><li>'DOR_COSTAS'</li><li>'CONJUNTVIT'</li><li>'ARTRITE'</li><li>'ARTRALGIA'</li><li>'PETEQUIA_N'</li><li>'LEUCOPENIA'</li><li>'LACO'</li><li>'DOR_RETRO'</li><li>'DIABETES'</li><li>'HEMATOLOG'</li><li>'HEPATOPAT'</li><li>'RENAL'</li><li>'HIPERTENSA'</li><li>'ACIDO_PEPT'</li><li>'AUTO_IMUNE'</li><li>'DT_CHIK_S1'</li><li>'DT_CHIK_S2'</li><li>'DT_PRNT'</li><li>'RES_CHIKS1'</li><li>'RES_CHIKS2'</li><li>'RESUL_PRNT'</li><li>'DT_SORO'</li><li>'RESUL_SORO'</li><li>'DT_NS1'</li><li>'RESUL_NS1'</li><li>'DT_VIRAL'</li><li>'RESUL_VI_N'</li><li>'DT_PCR'</li><li>'RESUL_PCR_'</li><li>'HOSPITALIZ'</li><li>'DT_INTERNA'</li><li>'CLASSI_FIN'</li><li>'CRITERIO'</li><li>'CLINC_CHIK'</li><li>'EVOLUCAO'</li><li>'DT_OBITO'</li><li>'DT_ENCERRA'</li><li>'age'</li></ol>\n"
      ],
      "text/latex": [
       "\\begin{enumerate*}\n",
       "\\item 'DT\\_NOTIFIC'\n",
       "\\item 'SEM\\_NOT'\n",
       "\\item 'SG\\_UF\\_NOT'\n",
       "\\item 'ID\\_UNIDADE'\n",
       "\\item 'DT\\_SIN\\_PRI'\n",
       "\\item 'SEM\\_PRI'\n",
       "\\item 'NU\\_IDADE\\_N'\n",
       "\\item 'CS\\_SEXO'\n",
       "\\item 'CS\\_GESTANT'\n",
       "\\item 'CS\\_RACA'\n",
       "\\item 'CS\\_ESCOL\\_N'\n",
       "\\item 'ID\\_MN\\_RESI'\n",
       "\\item 'DT\\_INVEST'\n",
       "\\item 'ID\\_OCUPA\\_N'\n",
       "\\item 'FEBRE'\n",
       "\\item 'MIALGIA'\n",
       "\\item 'CEFALEIA'\n",
       "\\item 'EXANTEMA'\n",
       "\\item 'VOMITO'\n",
       "\\item 'NAUSEA'\n",
       "\\item 'DOR\\_COSTAS'\n",
       "\\item 'CONJUNTVIT'\n",
       "\\item 'ARTRITE'\n",
       "\\item 'ARTRALGIA'\n",
       "\\item 'PETEQUIA\\_N'\n",
       "\\item 'LEUCOPENIA'\n",
       "\\item 'LACO'\n",
       "\\item 'DOR\\_RETRO'\n",
       "\\item 'DIABETES'\n",
       "\\item 'HEMATOLOG'\n",
       "\\item 'HEPATOPAT'\n",
       "\\item 'RENAL'\n",
       "\\item 'HIPERTENSA'\n",
       "\\item 'ACIDO\\_PEPT'\n",
       "\\item 'AUTO\\_IMUNE'\n",
       "\\item 'DT\\_CHIK\\_S1'\n",
       "\\item 'DT\\_CHIK\\_S2'\n",
       "\\item 'DT\\_PRNT'\n",
       "\\item 'RES\\_CHIKS1'\n",
       "\\item 'RES\\_CHIKS2'\n",
       "\\item 'RESUL\\_PRNT'\n",
       "\\item 'DT\\_SORO'\n",
       "\\item 'RESUL\\_SORO'\n",
       "\\item 'DT\\_NS1'\n",
       "\\item 'RESUL\\_NS1'\n",
       "\\item 'DT\\_VIRAL'\n",
       "\\item 'RESUL\\_VI\\_N'\n",
       "\\item 'DT\\_PCR'\n",
       "\\item 'RESUL\\_PCR\\_'\n",
       "\\item 'HOSPITALIZ'\n",
       "\\item 'DT\\_INTERNA'\n",
       "\\item 'CLASSI\\_FIN'\n",
       "\\item 'CRITERIO'\n",
       "\\item 'CLINC\\_CHIK'\n",
       "\\item 'EVOLUCAO'\n",
       "\\item 'DT\\_OBITO'\n",
       "\\item 'DT\\_ENCERRA'\n",
       "\\item 'age'\n",
       "\\end{enumerate*}\n"
      ],
      "text/markdown": [
       "1. 'DT_NOTIFIC'\n",
       "2. 'SEM_NOT'\n",
       "3. 'SG_UF_NOT'\n",
       "4. 'ID_UNIDADE'\n",
       "5. 'DT_SIN_PRI'\n",
       "6. 'SEM_PRI'\n",
       "7. 'NU_IDADE_N'\n",
       "8. 'CS_SEXO'\n",
       "9. 'CS_GESTANT'\n",
       "10. 'CS_RACA'\n",
       "11. 'CS_ESCOL_N'\n",
       "12. 'ID_MN_RESI'\n",
       "13. 'DT_INVEST'\n",
       "14. 'ID_OCUPA_N'\n",
       "15. 'FEBRE'\n",
       "16. 'MIALGIA'\n",
       "17. 'CEFALEIA'\n",
       "18. 'EXANTEMA'\n",
       "19. 'VOMITO'\n",
       "20. 'NAUSEA'\n",
       "21. 'DOR_COSTAS'\n",
       "22. 'CONJUNTVIT'\n",
       "23. 'ARTRITE'\n",
       "24. 'ARTRALGIA'\n",
       "25. 'PETEQUIA_N'\n",
       "26. 'LEUCOPENIA'\n",
       "27. 'LACO'\n",
       "28. 'DOR_RETRO'\n",
       "29. 'DIABETES'\n",
       "30. 'HEMATOLOG'\n",
       "31. 'HEPATOPAT'\n",
       "32. 'RENAL'\n",
       "33. 'HIPERTENSA'\n",
       "34. 'ACIDO_PEPT'\n",
       "35. 'AUTO_IMUNE'\n",
       "36. 'DT_CHIK_S1'\n",
       "37. 'DT_CHIK_S2'\n",
       "38. 'DT_PRNT'\n",
       "39. 'RES_CHIKS1'\n",
       "40. 'RES_CHIKS2'\n",
       "41. 'RESUL_PRNT'\n",
       "42. 'DT_SORO'\n",
       "43. 'RESUL_SORO'\n",
       "44. 'DT_NS1'\n",
       "45. 'RESUL_NS1'\n",
       "46. 'DT_VIRAL'\n",
       "47. 'RESUL_VI_N'\n",
       "48. 'DT_PCR'\n",
       "49. 'RESUL_PCR_'\n",
       "50. 'HOSPITALIZ'\n",
       "51. 'DT_INTERNA'\n",
       "52. 'CLASSI_FIN'\n",
       "53. 'CRITERIO'\n",
       "54. 'CLINC_CHIK'\n",
       "55. 'EVOLUCAO'\n",
       "56. 'DT_OBITO'\n",
       "57. 'DT_ENCERRA'\n",
       "58. 'age'\n",
       "\n",
       "\n"
      ],
      "text/plain": [
       " [1] \"DT_NOTIFIC\" \"SEM_NOT\"    \"SG_UF_NOT\"  \"ID_UNIDADE\" \"DT_SIN_PRI\"\n",
       " [6] \"SEM_PRI\"    \"NU_IDADE_N\" \"CS_SEXO\"    \"CS_GESTANT\" \"CS_RACA\"   \n",
       "[11] \"CS_ESCOL_N\" \"ID_MN_RESI\" \"DT_INVEST\"  \"ID_OCUPA_N\" \"FEBRE\"     \n",
       "[16] \"MIALGIA\"    \"CEFALEIA\"   \"EXANTEMA\"   \"VOMITO\"     \"NAUSEA\"    \n",
       "[21] \"DOR_COSTAS\" \"CONJUNTVIT\" \"ARTRITE\"    \"ARTRALGIA\"  \"PETEQUIA_N\"\n",
       "[26] \"LEUCOPENIA\" \"LACO\"       \"DOR_RETRO\"  \"DIABETES\"   \"HEMATOLOG\" \n",
       "[31] \"HEPATOPAT\"  \"RENAL\"      \"HIPERTENSA\" \"ACIDO_PEPT\" \"AUTO_IMUNE\"\n",
       "[36] \"DT_CHIK_S1\" \"DT_CHIK_S2\" \"DT_PRNT\"    \"RES_CHIKS1\" \"RES_CHIKS2\"\n",
       "[41] \"RESUL_PRNT\" \"DT_SORO\"    \"RESUL_SORO\" \"DT_NS1\"     \"RESUL_NS1\" \n",
       "[46] \"DT_VIRAL\"   \"RESUL_VI_N\" \"DT_PCR\"     \"RESUL_PCR_\" \"HOSPITALIZ\"\n",
       "[51] \"DT_INTERNA\" \"CLASSI_FIN\" \"CRITERIO\"   \"CLINC_CHIK\" \"EVOLUCAO\"  \n",
       "[56] \"DT_OBITO\"   \"DT_ENCERRA\" \"age\"       "
      ]
     },
     "metadata": {},
     "output_type": "display_data"
    }
   ],
   "source": [
    "# check and remove non-informative features\n",
    "\n",
    "data %>% select(ALRM_PLAQ:ALRM_LIQ) %>% summary\n",
    "data %>% select(GRAV_PULSO:GRAV_ORGAO) %>% summary\n",
    "data %>% select(MANI_HEMOR:PLAQ_MENOR) %>% summary\n",
    "\n",
    "data %>% select(-c(ALRM_PLAQ:PLAQ_MENOR)) -> data \n",
    "\n",
    "data %>% dim\n",
    "\n",
    "data %>% colnames"
   ]
  },
  {
   "cell_type": "code",
   "execution_count": 20,
   "id": "ef85d0aa",
   "metadata": {},
   "outputs": [],
   "source": [
    "# remove features - SEM_PRI is the epidemiologic week of the first symptoms\n",
    "# NU_IDADE_N refers to age in a diferent format\n",
    "\n",
    "data %>% select(-c(NU_IDADE_N)) -> data"
   ]
  },
  {
   "cell_type": "code",
   "execution_count": 21,
   "id": "e89e6c9e",
   "metadata": {},
   "outputs": [],
   "source": [
    "# this dates usually are the same and refer to the date of digitalization\n",
    "data %>% select(-c(DT_NOTIFIC, DT_ENCERRA, DT_INVEST, CRITERIO)) -> data"
   ]
  },
  {
   "cell_type": "code",
   "execution_count": 22,
   "id": "5175b9cb",
   "metadata": {},
   "outputs": [
    {
     "data": {
      "text/html": [
       "<table class=\"dataframe\">\n",
       "<caption>A data.frame: 3 × 2</caption>\n",
       "<thead>\n",
       "\t<tr><th scope=col>CLASSI_FIN</th><th scope=col>n</th></tr>\n",
       "\t<tr><th scope=col>&lt;int&gt;</th><th scope=col>&lt;int&gt;</th></tr>\n",
       "</thead>\n",
       "<tbody>\n",
       "\t<tr><td> 5</td><td>28473</td></tr>\n",
       "\t<tr><td>13</td><td>43905</td></tr>\n",
       "\t<tr><td>NA</td><td>29928</td></tr>\n",
       "</tbody>\n",
       "</table>\n"
      ],
      "text/latex": [
       "A data.frame: 3 × 2\n",
       "\\begin{tabular}{ll}\n",
       " CLASSI\\_FIN & n\\\\\n",
       " <int> & <int>\\\\\n",
       "\\hline\n",
       "\t  5 & 28473\\\\\n",
       "\t 13 & 43905\\\\\n",
       "\t NA & 29928\\\\\n",
       "\\end{tabular}\n"
      ],
      "text/markdown": [
       "\n",
       "A data.frame: 3 × 2\n",
       "\n",
       "| CLASSI_FIN &lt;int&gt; | n &lt;int&gt; |\n",
       "|---|---|\n",
       "|  5 | 28473 |\n",
       "| 13 | 43905 |\n",
       "| NA | 29928 |\n",
       "\n"
      ],
      "text/plain": [
       "  CLASSI_FIN n    \n",
       "1  5         28473\n",
       "2 13         43905\n",
       "3 NA         29928"
      ]
     },
     "metadata": {},
     "output_type": "display_data"
    },
    {
     "data": {
      "text/html": [
       "<style>\n",
       ".list-inline {list-style: none; margin:0; padding: 0}\n",
       ".list-inline>li {display: inline-block}\n",
       ".list-inline>li:not(:last-child)::after {content: \"\\00b7\"; padding: 0 .5ex}\n",
       "</style>\n",
       "<ol class=list-inline><li>72378</li><li>39</li></ol>\n"
      ],
      "text/latex": [
       "\\begin{enumerate*}\n",
       "\\item 72378\n",
       "\\item 39\n",
       "\\end{enumerate*}\n"
      ],
      "text/markdown": [
       "1. 72378\n",
       "2. 39\n",
       "\n",
       "\n"
      ],
      "text/plain": [
       "[1] 72378    39"
      ]
     },
     "metadata": {},
     "output_type": "display_data"
    }
   ],
   "source": [
    "# patient diagnosed with chikungunya\n",
    "data %>% count(CLASSI_FIN)\n",
    "\n",
    "data %>% filter(CLASSI_FIN == 5 | CLASSI_FIN == 13) -> data\n",
    "\n",
    "data %>% select(-c(DT_CHIK_S1:RESUL_PCR_)) -> data\n",
    "\n",
    "data %>% dim"
   ]
  },
  {
   "cell_type": "code",
   "execution_count": 23,
   "id": "e79b2a44",
   "metadata": {},
   "outputs": [
    {
     "data": {
      "text/html": [
       "<table class=\"dataframe\">\n",
       "<caption>A data.frame: 6 × 2</caption>\n",
       "<thead>\n",
       "\t<tr><th scope=col>EVOLUCAO</th><th scope=col>n</th></tr>\n",
       "\t<tr><th scope=col>&lt;int&gt;</th><th scope=col>&lt;int&gt;</th></tr>\n",
       "</thead>\n",
       "<tbody>\n",
       "\t<tr><td> 1</td><td>62575</td></tr>\n",
       "\t<tr><td> 2</td><td>   29</td></tr>\n",
       "\t<tr><td> 3</td><td>  164</td></tr>\n",
       "\t<tr><td> 4</td><td>   16</td></tr>\n",
       "\t<tr><td> 9</td><td> 5215</td></tr>\n",
       "\t<tr><td>NA</td><td> 4379</td></tr>\n",
       "</tbody>\n",
       "</table>\n"
      ],
      "text/latex": [
       "A data.frame: 6 × 2\n",
       "\\begin{tabular}{ll}\n",
       " EVOLUCAO & n\\\\\n",
       " <int> & <int>\\\\\n",
       "\\hline\n",
       "\t  1 & 62575\\\\\n",
       "\t  2 &    29\\\\\n",
       "\t  3 &   164\\\\\n",
       "\t  4 &    16\\\\\n",
       "\t  9 &  5215\\\\\n",
       "\t NA &  4379\\\\\n",
       "\\end{tabular}\n"
      ],
      "text/markdown": [
       "\n",
       "A data.frame: 6 × 2\n",
       "\n",
       "| EVOLUCAO &lt;int&gt; | n &lt;int&gt; |\n",
       "|---|---|\n",
       "|  1 | 62575 |\n",
       "|  2 |    29 |\n",
       "|  3 |   164 |\n",
       "|  4 |    16 |\n",
       "|  9 |  5215 |\n",
       "| NA |  4379 |\n",
       "\n"
      ],
      "text/plain": [
       "  EVOLUCAO n    \n",
       "1  1       62575\n",
       "2  2          29\n",
       "3  3         164\n",
       "4  4          16\n",
       "5  9        5215\n",
       "6 NA        4379"
      ]
     },
     "metadata": {},
     "output_type": "display_data"
    },
    {
     "data": {
      "text/html": [
       "<table class=\"dataframe\">\n",
       "<caption>A data.frame: 4 × 2</caption>\n",
       "<thead>\n",
       "\t<tr><th scope=col>HOSPITALIZ</th><th scope=col>n</th></tr>\n",
       "\t<tr><th scope=col>&lt;int&gt;</th><th scope=col>&lt;int&gt;</th></tr>\n",
       "</thead>\n",
       "<tbody>\n",
       "\t<tr><td> 1</td><td> 2717</td></tr>\n",
       "\t<tr><td> 2</td><td>42889</td></tr>\n",
       "\t<tr><td> 9</td><td> 1533</td></tr>\n",
       "\t<tr><td>NA</td><td>25239</td></tr>\n",
       "</tbody>\n",
       "</table>\n"
      ],
      "text/latex": [
       "A data.frame: 4 × 2\n",
       "\\begin{tabular}{ll}\n",
       " HOSPITALIZ & n\\\\\n",
       " <int> & <int>\\\\\n",
       "\\hline\n",
       "\t  1 &  2717\\\\\n",
       "\t  2 & 42889\\\\\n",
       "\t  9 &  1533\\\\\n",
       "\t NA & 25239\\\\\n",
       "\\end{tabular}\n"
      ],
      "text/markdown": [
       "\n",
       "A data.frame: 4 × 2\n",
       "\n",
       "| HOSPITALIZ &lt;int&gt; | n &lt;int&gt; |\n",
       "|---|---|\n",
       "|  1 |  2717 |\n",
       "|  2 | 42889 |\n",
       "|  9 |  1533 |\n",
       "| NA | 25239 |\n",
       "\n"
      ],
      "text/plain": [
       "  HOSPITALIZ n    \n",
       "1  1          2717\n",
       "2  2         42889\n",
       "3  9          1533\n",
       "4 NA         25239"
      ]
     },
     "metadata": {},
     "output_type": "display_data"
    }
   ],
   "source": [
    "data %>% count(EVOLUCAO)\n",
    "data %>% count(HOSPITALIZ)"
   ]
  },
  {
   "cell_type": "code",
   "execution_count": 24,
   "id": "77e48c65",
   "metadata": {},
   "outputs": [
    {
     "data": {
      "text/html": [
       "<style>\n",
       ".list-inline {list-style: none; margin:0; padding: 0}\n",
       ".list-inline>li {display: inline-block}\n",
       ".list-inline>li:not(:last-child)::after {content: \"\\00b7\"; padding: 0 .5ex}\n",
       "</style>\n",
       "<ol class=list-inline><li>'SEM_NOT'</li><li>'SG_UF_NOT'</li><li>'ID_UNIDADE'</li><li>'DT_SIN_PRI'</li><li>'SEM_PRI'</li><li>'CS_SEXO'</li><li>'CS_GESTANT'</li><li>'CS_RACA'</li><li>'CS_ESCOL_N'</li><li>'ID_MN_RESI'</li><li>'ID_OCUPA_N'</li><li>'FEBRE'</li><li>'MIALGIA'</li><li>'CEFALEIA'</li><li>'EXANTEMA'</li><li>'VOMITO'</li><li>'NAUSEA'</li><li>'DOR_COSTAS'</li><li>'CONJUNTVIT'</li><li>'ARTRITE'</li><li>'ARTRALGIA'</li><li>'PETEQUIA_N'</li><li>'LEUCOPENIA'</li><li>'LACO'</li><li>'DOR_RETRO'</li><li>'DIABETES'</li><li>'HEMATOLOG'</li><li>'HEPATOPAT'</li><li>'RENAL'</li><li>'HIPERTENSA'</li><li>'ACIDO_PEPT'</li><li>'AUTO_IMUNE'</li><li>'HOSPITALIZ'</li><li>'DT_INTERNA'</li><li>'CLASSI_FIN'</li><li>'CLINC_CHIK'</li><li>'EVOLUCAO'</li><li>'DT_OBITO'</li><li>'age'</li></ol>\n"
      ],
      "text/latex": [
       "\\begin{enumerate*}\n",
       "\\item 'SEM\\_NOT'\n",
       "\\item 'SG\\_UF\\_NOT'\n",
       "\\item 'ID\\_UNIDADE'\n",
       "\\item 'DT\\_SIN\\_PRI'\n",
       "\\item 'SEM\\_PRI'\n",
       "\\item 'CS\\_SEXO'\n",
       "\\item 'CS\\_GESTANT'\n",
       "\\item 'CS\\_RACA'\n",
       "\\item 'CS\\_ESCOL\\_N'\n",
       "\\item 'ID\\_MN\\_RESI'\n",
       "\\item 'ID\\_OCUPA\\_N'\n",
       "\\item 'FEBRE'\n",
       "\\item 'MIALGIA'\n",
       "\\item 'CEFALEIA'\n",
       "\\item 'EXANTEMA'\n",
       "\\item 'VOMITO'\n",
       "\\item 'NAUSEA'\n",
       "\\item 'DOR\\_COSTAS'\n",
       "\\item 'CONJUNTVIT'\n",
       "\\item 'ARTRITE'\n",
       "\\item 'ARTRALGIA'\n",
       "\\item 'PETEQUIA\\_N'\n",
       "\\item 'LEUCOPENIA'\n",
       "\\item 'LACO'\n",
       "\\item 'DOR\\_RETRO'\n",
       "\\item 'DIABETES'\n",
       "\\item 'HEMATOLOG'\n",
       "\\item 'HEPATOPAT'\n",
       "\\item 'RENAL'\n",
       "\\item 'HIPERTENSA'\n",
       "\\item 'ACIDO\\_PEPT'\n",
       "\\item 'AUTO\\_IMUNE'\n",
       "\\item 'HOSPITALIZ'\n",
       "\\item 'DT\\_INTERNA'\n",
       "\\item 'CLASSI\\_FIN'\n",
       "\\item 'CLINC\\_CHIK'\n",
       "\\item 'EVOLUCAO'\n",
       "\\item 'DT\\_OBITO'\n",
       "\\item 'age'\n",
       "\\end{enumerate*}\n"
      ],
      "text/markdown": [
       "1. 'SEM_NOT'\n",
       "2. 'SG_UF_NOT'\n",
       "3. 'ID_UNIDADE'\n",
       "4. 'DT_SIN_PRI'\n",
       "5. 'SEM_PRI'\n",
       "6. 'CS_SEXO'\n",
       "7. 'CS_GESTANT'\n",
       "8. 'CS_RACA'\n",
       "9. 'CS_ESCOL_N'\n",
       "10. 'ID_MN_RESI'\n",
       "11. 'ID_OCUPA_N'\n",
       "12. 'FEBRE'\n",
       "13. 'MIALGIA'\n",
       "14. 'CEFALEIA'\n",
       "15. 'EXANTEMA'\n",
       "16. 'VOMITO'\n",
       "17. 'NAUSEA'\n",
       "18. 'DOR_COSTAS'\n",
       "19. 'CONJUNTVIT'\n",
       "20. 'ARTRITE'\n",
       "21. 'ARTRALGIA'\n",
       "22. 'PETEQUIA_N'\n",
       "23. 'LEUCOPENIA'\n",
       "24. 'LACO'\n",
       "25. 'DOR_RETRO'\n",
       "26. 'DIABETES'\n",
       "27. 'HEMATOLOG'\n",
       "28. 'HEPATOPAT'\n",
       "29. 'RENAL'\n",
       "30. 'HIPERTENSA'\n",
       "31. 'ACIDO_PEPT'\n",
       "32. 'AUTO_IMUNE'\n",
       "33. 'HOSPITALIZ'\n",
       "34. 'DT_INTERNA'\n",
       "35. 'CLASSI_FIN'\n",
       "36. 'CLINC_CHIK'\n",
       "37. 'EVOLUCAO'\n",
       "38. 'DT_OBITO'\n",
       "39. 'age'\n",
       "\n",
       "\n"
      ],
      "text/plain": [
       " [1] \"SEM_NOT\"    \"SG_UF_NOT\"  \"ID_UNIDADE\" \"DT_SIN_PRI\" \"SEM_PRI\"   \n",
       " [6] \"CS_SEXO\"    \"CS_GESTANT\" \"CS_RACA\"    \"CS_ESCOL_N\" \"ID_MN_RESI\"\n",
       "[11] \"ID_OCUPA_N\" \"FEBRE\"      \"MIALGIA\"    \"CEFALEIA\"   \"EXANTEMA\"  \n",
       "[16] \"VOMITO\"     \"NAUSEA\"     \"DOR_COSTAS\" \"CONJUNTVIT\" \"ARTRITE\"   \n",
       "[21] \"ARTRALGIA\"  \"PETEQUIA_N\" \"LEUCOPENIA\" \"LACO\"       \"DOR_RETRO\" \n",
       "[26] \"DIABETES\"   \"HEMATOLOG\"  \"HEPATOPAT\"  \"RENAL\"      \"HIPERTENSA\"\n",
       "[31] \"ACIDO_PEPT\" \"AUTO_IMUNE\" \"HOSPITALIZ\" \"DT_INTERNA\" \"CLASSI_FIN\"\n",
       "[36] \"CLINC_CHIK\" \"EVOLUCAO\"   \"DT_OBITO\"   \"age\"       "
      ]
     },
     "metadata": {},
     "output_type": "display_data"
    }
   ],
   "source": [
    "data %>% colnames"
   ]
  },
  {
   "cell_type": "code",
   "execution_count": 25,
   "id": "214d29bd",
   "metadata": {},
   "outputs": [
    {
     "data": {
      "text/html": [
       "<table class=\"dataframe\">\n",
       "<caption>A data.frame: 15 × 2</caption>\n",
       "<thead>\n",
       "\t<tr><th scope=col>ID_OCUPA_N</th><th scope=col>n</th></tr>\n",
       "\t<tr><th scope=col>&lt;chr&gt;</th><th scope=col>&lt;int&gt;</th></tr>\n",
       "</thead>\n",
       "<tbody>\n",
       "\t<tr><td>      </td><td>2161</td></tr>\n",
       "\t<tr><td>000000</td><td>   2</td></tr>\n",
       "\t<tr><td>141405</td><td>   1</td></tr>\n",
       "\t<tr><td>141410</td><td>   1</td></tr>\n",
       "\t<tr><td>223104</td><td>   1</td></tr>\n",
       "\t<tr><td>223115</td><td>   1</td></tr>\n",
       "\t<tr><td>2231F9</td><td>   1</td></tr>\n",
       "\t<tr><td>223208</td><td>   1</td></tr>\n",
       "\t<tr><td>223410</td><td>   1</td></tr>\n",
       "\t<tr><td>223505</td><td>   4</td></tr>\n",
       "\t<tr><td>231205</td><td>   1</td></tr>\n",
       "\t<tr><td>231305</td><td>   1</td></tr>\n",
       "\t<tr><td>234624</td><td>   1</td></tr>\n",
       "\t<tr><td>234705</td><td>   1</td></tr>\n",
       "\t<tr><td>241005</td><td>   1</td></tr>\n",
       "</tbody>\n",
       "</table>\n"
      ],
      "text/latex": [
       "A data.frame: 15 × 2\n",
       "\\begin{tabular}{ll}\n",
       " ID\\_OCUPA\\_N & n\\\\\n",
       " <chr> & <int>\\\\\n",
       "\\hline\n",
       "\t        & 2161\\\\\n",
       "\t 000000 &    2\\\\\n",
       "\t 141405 &    1\\\\\n",
       "\t 141410 &    1\\\\\n",
       "\t 223104 &    1\\\\\n",
       "\t 223115 &    1\\\\\n",
       "\t 2231F9 &    1\\\\\n",
       "\t 223208 &    1\\\\\n",
       "\t 223410 &    1\\\\\n",
       "\t 223505 &    4\\\\\n",
       "\t 231205 &    1\\\\\n",
       "\t 231305 &    1\\\\\n",
       "\t 234624 &    1\\\\\n",
       "\t 234705 &    1\\\\\n",
       "\t 241005 &    1\\\\\n",
       "\\end{tabular}\n"
      ],
      "text/markdown": [
       "\n",
       "A data.frame: 15 × 2\n",
       "\n",
       "| ID_OCUPA_N &lt;chr&gt; | n &lt;int&gt; |\n",
       "|---|---|\n",
       "| <!----> | 2161 |\n",
       "| 000000 |    2 |\n",
       "| 141405 |    1 |\n",
       "| 141410 |    1 |\n",
       "| 223104 |    1 |\n",
       "| 223115 |    1 |\n",
       "| 2231F9 |    1 |\n",
       "| 223208 |    1 |\n",
       "| 223410 |    1 |\n",
       "| 223505 |    4 |\n",
       "| 231205 |    1 |\n",
       "| 231305 |    1 |\n",
       "| 234624 |    1 |\n",
       "| 234705 |    1 |\n",
       "| 241005 |    1 |\n",
       "\n"
      ],
      "text/plain": [
       "   ID_OCUPA_N n   \n",
       "1             2161\n",
       "2  000000        2\n",
       "3  141405        1\n",
       "4  141410        1\n",
       "5  223104        1\n",
       "6  223115        1\n",
       "7  2231F9        1\n",
       "8  223208        1\n",
       "9  223410        1\n",
       "10 223505        4\n",
       "11 231205        1\n",
       "12 231305        1\n",
       "13 234624        1\n",
       "14 234705        1\n",
       "15 241005        1"
      ]
     },
     "metadata": {},
     "output_type": "display_data"
    }
   ],
   "source": [
    "# ID_OCUPA_N seems to not be filled consistently\n",
    "# it refers to area of activity and should be filled with the same value (not aplicable) to children \n",
    "# sem_not is the epidemiologic week of notification, sem_pri is the epidemiologic week of the first symptoms\n",
    "data %>% filter(age< 5) %>% count(ID_OCUPA_N) %>% slice(1:15)\n",
    "data %>% select(-c(ID_OCUPA_N, SEM_NOT)) -> data"
   ]
  },
  {
   "cell_type": "code",
   "execution_count": 26,
   "id": "3c07b230",
   "metadata": {},
   "outputs": [
    {
     "data": {
      "text/html": [
       "<style>\n",
       ".list-inline {list-style: none; margin:0; padding: 0}\n",
       ".list-inline>li {display: inline-block}\n",
       ".list-inline>li:not(:last-child)::after {content: \"\\00b7\"; padding: 0 .5ex}\n",
       "</style>\n",
       "<ol class=list-inline><li>65931</li><li>37</li></ol>\n"
      ],
      "text/latex": [
       "\\begin{enumerate*}\n",
       "\\item 65931\n",
       "\\item 37\n",
       "\\end{enumerate*}\n"
      ],
      "text/markdown": [
       "1. 65931\n",
       "2. 37\n",
       "\n",
       "\n"
      ],
      "text/plain": [
       "[1] 65931    37"
      ]
     },
     "metadata": {},
     "output_type": "display_data"
    }
   ],
   "source": [
    "# remove patients older than 110 years old \n",
    "data %>% filter(age < 111) -> data\n",
    "\n",
    "# remove patients younger than 16 years old\n",
    "data %>% filter(age > 11) -> data\n",
    "\n",
    "data %>% dim"
   ]
  },
  {
   "cell_type": "code",
   "execution_count": 27,
   "id": "9595d185",
   "metadata": {},
   "outputs": [
    {
     "data": {
      "text/html": [
       "<style>\n",
       ".list-inline {list-style: none; margin:0; padding: 0}\n",
       ".list-inline>li {display: inline-block}\n",
       ".list-inline>li:not(:last-child)::after {content: \"\\00b7\"; padding: 0 .5ex}\n",
       "</style>\n",
       "<ol class=list-inline><li>65931</li><li>37</li></ol>\n"
      ],
      "text/latex": [
       "\\begin{enumerate*}\n",
       "\\item 65931\n",
       "\\item 37\n",
       "\\end{enumerate*}\n"
      ],
      "text/markdown": [
       "1. 65931\n",
       "2. 37\n",
       "\n",
       "\n"
      ],
      "text/plain": [
       "[1] 65931    37"
      ]
     },
     "metadata": {},
     "output_type": "display_data"
    },
    {
     "data": {
      "text/html": [
       "<table class=\"dataframe\">\n",
       "<caption>A data.frame: 6 × 2</caption>\n",
       "<thead>\n",
       "\t<tr><th scope=col>EVOLUCAO</th><th scope=col>n</th></tr>\n",
       "\t<tr><th scope=col>&lt;int&gt;</th><th scope=col>&lt;int&gt;</th></tr>\n",
       "</thead>\n",
       "<tbody>\n",
       "\t<tr><td> 1</td><td>57068</td></tr>\n",
       "\t<tr><td> 2</td><td>   26</td></tr>\n",
       "\t<tr><td> 3</td><td>  119</td></tr>\n",
       "\t<tr><td> 4</td><td>   15</td></tr>\n",
       "\t<tr><td> 9</td><td> 4711</td></tr>\n",
       "\t<tr><td>NA</td><td> 3992</td></tr>\n",
       "</tbody>\n",
       "</table>\n"
      ],
      "text/latex": [
       "A data.frame: 6 × 2\n",
       "\\begin{tabular}{ll}\n",
       " EVOLUCAO & n\\\\\n",
       " <int> & <int>\\\\\n",
       "\\hline\n",
       "\t  1 & 57068\\\\\n",
       "\t  2 &    26\\\\\n",
       "\t  3 &   119\\\\\n",
       "\t  4 &    15\\\\\n",
       "\t  9 &  4711\\\\\n",
       "\t NA &  3992\\\\\n",
       "\\end{tabular}\n"
      ],
      "text/markdown": [
       "\n",
       "A data.frame: 6 × 2\n",
       "\n",
       "| EVOLUCAO &lt;int&gt; | n &lt;int&gt; |\n",
       "|---|---|\n",
       "|  1 | 57068 |\n",
       "|  2 |    26 |\n",
       "|  3 |   119 |\n",
       "|  4 |    15 |\n",
       "|  9 |  4711 |\n",
       "| NA |  3992 |\n",
       "\n"
      ],
      "text/plain": [
       "  EVOLUCAO n    \n",
       "1  1       57068\n",
       "2  2          26\n",
       "3  3         119\n",
       "4  4          15\n",
       "5  9        4711\n",
       "6 NA        3992"
      ]
     },
     "metadata": {},
     "output_type": "display_data"
    },
    {
     "data": {
      "text/html": [
       "<table class=\"dataframe\">\n",
       "<caption>A data.frame: 4 × 2</caption>\n",
       "<thead>\n",
       "\t<tr><th scope=col>HOSPITALIZ</th><th scope=col>n</th></tr>\n",
       "\t<tr><th scope=col>&lt;int&gt;</th><th scope=col>&lt;int&gt;</th></tr>\n",
       "</thead>\n",
       "<tbody>\n",
       "\t<tr><td> 1</td><td> 1993</td></tr>\n",
       "\t<tr><td> 2</td><td>39536</td></tr>\n",
       "\t<tr><td> 9</td><td> 1410</td></tr>\n",
       "\t<tr><td>NA</td><td>22992</td></tr>\n",
       "</tbody>\n",
       "</table>\n"
      ],
      "text/latex": [
       "A data.frame: 4 × 2\n",
       "\\begin{tabular}{ll}\n",
       " HOSPITALIZ & n\\\\\n",
       " <int> & <int>\\\\\n",
       "\\hline\n",
       "\t  1 &  1993\\\\\n",
       "\t  2 & 39536\\\\\n",
       "\t  9 &  1410\\\\\n",
       "\t NA & 22992\\\\\n",
       "\\end{tabular}\n"
      ],
      "text/markdown": [
       "\n",
       "A data.frame: 4 × 2\n",
       "\n",
       "| HOSPITALIZ &lt;int&gt; | n &lt;int&gt; |\n",
       "|---|---|\n",
       "|  1 |  1993 |\n",
       "|  2 | 39536 |\n",
       "|  9 |  1410 |\n",
       "| NA | 22992 |\n",
       "\n"
      ],
      "text/plain": [
       "  HOSPITALIZ n    \n",
       "1  1          1993\n",
       "2  2         39536\n",
       "3  9          1410\n",
       "4 NA         22992"
      ]
     },
     "metadata": {},
     "output_type": "display_data"
    }
   ],
   "source": [
    "data %>% dim\n",
    "\n",
    "data %>% count(EVOLUCAO)\n",
    "data %>% count(HOSPITALIZ)"
   ]
  },
  {
   "cell_type": "code",
   "execution_count": 28,
   "id": "0a5b4840",
   "metadata": {},
   "outputs": [
    {
     "data": {
      "text/html": [
       "<table class=\"dataframe\">\n",
       "<caption>A data.frame: 3 × 2</caption>\n",
       "<thead>\n",
       "\t<tr><th scope=col>CS_SEXO</th><th scope=col>n</th></tr>\n",
       "\t<tr><th scope=col>&lt;chr&gt;</th><th scope=col>&lt;int&gt;</th></tr>\n",
       "</thead>\n",
       "<tbody>\n",
       "\t<tr><td>F</td><td>40530</td></tr>\n",
       "\t<tr><td>I</td><td>   65</td></tr>\n",
       "\t<tr><td>M</td><td>25336</td></tr>\n",
       "</tbody>\n",
       "</table>\n"
      ],
      "text/latex": [
       "A data.frame: 3 × 2\n",
       "\\begin{tabular}{ll}\n",
       " CS\\_SEXO & n\\\\\n",
       " <chr> & <int>\\\\\n",
       "\\hline\n",
       "\t F & 40530\\\\\n",
       "\t I &    65\\\\\n",
       "\t M & 25336\\\\\n",
       "\\end{tabular}\n"
      ],
      "text/markdown": [
       "\n",
       "A data.frame: 3 × 2\n",
       "\n",
       "| CS_SEXO &lt;chr&gt; | n &lt;int&gt; |\n",
       "|---|---|\n",
       "| F | 40530 |\n",
       "| I |    65 |\n",
       "| M | 25336 |\n",
       "\n"
      ],
      "text/plain": [
       "  CS_SEXO n    \n",
       "1 F       40530\n",
       "2 I          65\n",
       "3 M       25336"
      ]
     },
     "metadata": {},
     "output_type": "display_data"
    },
    {
     "data": {
      "text/html": [
       "<table class=\"dataframe\">\n",
       "<caption>A data.frame: 2 × 2</caption>\n",
       "<thead>\n",
       "\t<tr><th scope=col>CS_SEXO</th><th scope=col>n</th></tr>\n",
       "\t<tr><th scope=col>&lt;chr&gt;</th><th scope=col>&lt;int&gt;</th></tr>\n",
       "</thead>\n",
       "<tbody>\n",
       "\t<tr><td>F</td><td>40530</td></tr>\n",
       "\t<tr><td>M</td><td>25336</td></tr>\n",
       "</tbody>\n",
       "</table>\n"
      ],
      "text/latex": [
       "A data.frame: 2 × 2\n",
       "\\begin{tabular}{ll}\n",
       " CS\\_SEXO & n\\\\\n",
       " <chr> & <int>\\\\\n",
       "\\hline\n",
       "\t F & 40530\\\\\n",
       "\t M & 25336\\\\\n",
       "\\end{tabular}\n"
      ],
      "text/markdown": [
       "\n",
       "A data.frame: 2 × 2\n",
       "\n",
       "| CS_SEXO &lt;chr&gt; | n &lt;int&gt; |\n",
       "|---|---|\n",
       "| F | 40530 |\n",
       "| M | 25336 |\n",
       "\n"
      ],
      "text/plain": [
       "  CS_SEXO n    \n",
       "1 F       40530\n",
       "2 M       25336"
      ]
     },
     "metadata": {},
     "output_type": "display_data"
    },
    {
     "data": {
      "text/html": [
       "<style>\n",
       ".list-inline {list-style: none; margin:0; padding: 0}\n",
       ".list-inline>li {display: inline-block}\n",
       ".list-inline>li:not(:last-child)::after {content: \"\\00b7\"; padding: 0 .5ex}\n",
       "</style>\n",
       "<ol class=list-inline><li>65866</li><li>37</li></ol>\n"
      ],
      "text/latex": [
       "\\begin{enumerate*}\n",
       "\\item 65866\n",
       "\\item 37\n",
       "\\end{enumerate*}\n"
      ],
      "text/markdown": [
       "1. 65866\n",
       "2. 37\n",
       "\n",
       "\n"
      ],
      "text/plain": [
       "[1] 65866    37"
      ]
     },
     "metadata": {},
     "output_type": "display_data"
    },
    {
     "data": {
      "text/html": [
       "<table class=\"dataframe\">\n",
       "<caption>A data.frame: 2 × 2</caption>\n",
       "<thead>\n",
       "\t<tr><th scope=col>sex</th><th scope=col>n</th></tr>\n",
       "\t<tr><th scope=col>&lt;dbl&gt;</th><th scope=col>&lt;int&gt;</th></tr>\n",
       "</thead>\n",
       "<tbody>\n",
       "\t<tr><td>0</td><td>25336</td></tr>\n",
       "\t<tr><td>1</td><td>40530</td></tr>\n",
       "</tbody>\n",
       "</table>\n"
      ],
      "text/latex": [
       "A data.frame: 2 × 2\n",
       "\\begin{tabular}{ll}\n",
       " sex & n\\\\\n",
       " <dbl> & <int>\\\\\n",
       "\\hline\n",
       "\t 0 & 25336\\\\\n",
       "\t 1 & 40530\\\\\n",
       "\\end{tabular}\n"
      ],
      "text/markdown": [
       "\n",
       "A data.frame: 2 × 2\n",
       "\n",
       "| sex &lt;dbl&gt; | n &lt;int&gt; |\n",
       "|---|---|\n",
       "| 0 | 25336 |\n",
       "| 1 | 40530 |\n",
       "\n"
      ],
      "text/plain": [
       "  sex n    \n",
       "1 0   25336\n",
       "2 1   40530"
      ]
     },
     "metadata": {},
     "output_type": "display_data"
    },
    {
     "data": {
      "text/html": [
       "<style>\n",
       ".list-inline {list-style: none; margin:0; padding: 0}\n",
       ".list-inline>li {display: inline-block}\n",
       ".list-inline>li:not(:last-child)::after {content: \"\\00b7\"; padding: 0 .5ex}\n",
       "</style>\n",
       "<ol class=list-inline><li>65866</li><li>37</li></ol>\n"
      ],
      "text/latex": [
       "\\begin{enumerate*}\n",
       "\\item 65866\n",
       "\\item 37\n",
       "\\end{enumerate*}\n"
      ],
      "text/markdown": [
       "1. 65866\n",
       "2. 37\n",
       "\n",
       "\n"
      ],
      "text/plain": [
       "[1] 65866    37"
      ]
     },
     "metadata": {},
     "output_type": "display_data"
    }
   ],
   "source": [
    "# remove patients without sex information\n",
    "\n",
    "data %>% count(CS_SEXO)\n",
    "data %>% filter(CS_SEXO == 'F' | CS_SEXO == 'M') %>% count(CS_SEXO)\n",
    "data %>% filter(CS_SEXO == 'F' | CS_SEXO == 'M') -> data\n",
    "data %>% dim\n",
    "\n",
    "# create a new column with numeric values\n",
    "\n",
    "data %>% mutate(sex = if_else(CS_SEXO == 'M', 0, 1)) %>% count(sex)\n",
    "data %>% mutate(sex = if_else(CS_SEXO == 'M', 0, 1)) -> data\n",
    "\n",
    "# remove the former column\n",
    "data %>% select(-CS_SEXO) -> data\n",
    "\n",
    "data %>% dim"
   ]
  },
  {
   "cell_type": "code",
   "execution_count": 29,
   "id": "970e3989",
   "metadata": {},
   "outputs": [
    {
     "data": {
      "text/html": [
       "<table class=\"dataframe\">\n",
       "<caption>A data.frame: 6 × 2</caption>\n",
       "<thead>\n",
       "\t<tr><th scope=col>EVOLUCAO</th><th scope=col>n</th></tr>\n",
       "\t<tr><th scope=col>&lt;int&gt;</th><th scope=col>&lt;int&gt;</th></tr>\n",
       "</thead>\n",
       "<tbody>\n",
       "\t<tr><td> 1</td><td>57032</td></tr>\n",
       "\t<tr><td> 2</td><td>   26</td></tr>\n",
       "\t<tr><td> 3</td><td>  119</td></tr>\n",
       "\t<tr><td> 4</td><td>   15</td></tr>\n",
       "\t<tr><td> 9</td><td> 4691</td></tr>\n",
       "\t<tr><td>NA</td><td> 3983</td></tr>\n",
       "</tbody>\n",
       "</table>\n"
      ],
      "text/latex": [
       "A data.frame: 6 × 2\n",
       "\\begin{tabular}{ll}\n",
       " EVOLUCAO & n\\\\\n",
       " <int> & <int>\\\\\n",
       "\\hline\n",
       "\t  1 & 57032\\\\\n",
       "\t  2 &    26\\\\\n",
       "\t  3 &   119\\\\\n",
       "\t  4 &    15\\\\\n",
       "\t  9 &  4691\\\\\n",
       "\t NA &  3983\\\\\n",
       "\\end{tabular}\n"
      ],
      "text/markdown": [
       "\n",
       "A data.frame: 6 × 2\n",
       "\n",
       "| EVOLUCAO &lt;int&gt; | n &lt;int&gt; |\n",
       "|---|---|\n",
       "|  1 | 57032 |\n",
       "|  2 |    26 |\n",
       "|  3 |   119 |\n",
       "|  4 |    15 |\n",
       "|  9 |  4691 |\n",
       "| NA |  3983 |\n",
       "\n"
      ],
      "text/plain": [
       "  EVOLUCAO n    \n",
       "1  1       57032\n",
       "2  2          26\n",
       "3  3         119\n",
       "4  4          15\n",
       "5  9        4691\n",
       "6 NA        3983"
      ]
     },
     "metadata": {},
     "output_type": "display_data"
    },
    {
     "data": {
      "text/html": [
       "<table class=\"dataframe\">\n",
       "<caption>A data.frame: 4 × 2</caption>\n",
       "<thead>\n",
       "\t<tr><th scope=col>HOSPITALIZ</th><th scope=col>n</th></tr>\n",
       "\t<tr><th scope=col>&lt;int&gt;</th><th scope=col>&lt;int&gt;</th></tr>\n",
       "</thead>\n",
       "<tbody>\n",
       "\t<tr><td> 1</td><td> 1990</td></tr>\n",
       "\t<tr><td> 2</td><td>39512</td></tr>\n",
       "\t<tr><td> 9</td><td> 1407</td></tr>\n",
       "\t<tr><td>NA</td><td>22957</td></tr>\n",
       "</tbody>\n",
       "</table>\n"
      ],
      "text/latex": [
       "A data.frame: 4 × 2\n",
       "\\begin{tabular}{ll}\n",
       " HOSPITALIZ & n\\\\\n",
       " <int> & <int>\\\\\n",
       "\\hline\n",
       "\t  1 &  1990\\\\\n",
       "\t  2 & 39512\\\\\n",
       "\t  9 &  1407\\\\\n",
       "\t NA & 22957\\\\\n",
       "\\end{tabular}\n"
      ],
      "text/markdown": [
       "\n",
       "A data.frame: 4 × 2\n",
       "\n",
       "| HOSPITALIZ &lt;int&gt; | n &lt;int&gt; |\n",
       "|---|---|\n",
       "|  1 |  1990 |\n",
       "|  2 | 39512 |\n",
       "|  9 |  1407 |\n",
       "| NA | 22957 |\n",
       "\n"
      ],
      "text/plain": [
       "  HOSPITALIZ n    \n",
       "1  1          1990\n",
       "2  2         39512\n",
       "3  9          1407\n",
       "4 NA         22957"
      ]
     },
     "metadata": {},
     "output_type": "display_data"
    },
    {
     "data": {
      "text/html": [
       "<style>\n",
       ".list-inline {list-style: none; margin:0; padding: 0}\n",
       ".list-inline>li {display: inline-block}\n",
       ".list-inline>li:not(:last-child)::after {content: \"\\00b7\"; padding: 0 .5ex}\n",
       "</style>\n",
       "<ol class=list-inline><li>65866</li><li>37</li></ol>\n"
      ],
      "text/latex": [
       "\\begin{enumerate*}\n",
       "\\item 65866\n",
       "\\item 37\n",
       "\\end{enumerate*}\n"
      ],
      "text/markdown": [
       "1. 65866\n",
       "2. 37\n",
       "\n",
       "\n"
      ],
      "text/plain": [
       "[1] 65866    37"
      ]
     },
     "metadata": {},
     "output_type": "display_data"
    }
   ],
   "source": [
    "data %>% count(EVOLUCAO)\n",
    "data %>% count(HOSPITALIZ)\n",
    "\n",
    "data %>% dim"
   ]
  },
  {
   "cell_type": "code",
   "execution_count": 30,
   "id": "9f5b54af",
   "metadata": {},
   "outputs": [
    {
     "data": {
      "text/html": [
       "<table class=\"dataframe\">\n",
       "<caption>A data.frame: 8 × 2</caption>\n",
       "<thead>\n",
       "\t<tr><th scope=col>CS_GESTANT</th><th scope=col>n</th></tr>\n",
       "\t<tr><th scope=col>&lt;int&gt;</th><th scope=col>&lt;int&gt;</th></tr>\n",
       "</thead>\n",
       "<tbody>\n",
       "\t<tr><td> 1</td><td>  388</td></tr>\n",
       "\t<tr><td> 2</td><td>  513</td></tr>\n",
       "\t<tr><td> 3</td><td>  500</td></tr>\n",
       "\t<tr><td> 4</td><td>  139</td></tr>\n",
       "\t<tr><td> 5</td><td>26241</td></tr>\n",
       "\t<tr><td> 6</td><td>29921</td></tr>\n",
       "\t<tr><td> 9</td><td> 8152</td></tr>\n",
       "\t<tr><td>NA</td><td>   12</td></tr>\n",
       "</tbody>\n",
       "</table>\n"
      ],
      "text/latex": [
       "A data.frame: 8 × 2\n",
       "\\begin{tabular}{ll}\n",
       " CS\\_GESTANT & n\\\\\n",
       " <int> & <int>\\\\\n",
       "\\hline\n",
       "\t  1 &   388\\\\\n",
       "\t  2 &   513\\\\\n",
       "\t  3 &   500\\\\\n",
       "\t  4 &   139\\\\\n",
       "\t  5 & 26241\\\\\n",
       "\t  6 & 29921\\\\\n",
       "\t  9 &  8152\\\\\n",
       "\t NA &    12\\\\\n",
       "\\end{tabular}\n"
      ],
      "text/markdown": [
       "\n",
       "A data.frame: 8 × 2\n",
       "\n",
       "| CS_GESTANT &lt;int&gt; | n &lt;int&gt; |\n",
       "|---|---|\n",
       "|  1 |   388 |\n",
       "|  2 |   513 |\n",
       "|  3 |   500 |\n",
       "|  4 |   139 |\n",
       "|  5 | 26241 |\n",
       "|  6 | 29921 |\n",
       "|  9 |  8152 |\n",
       "| NA |    12 |\n",
       "\n"
      ],
      "text/plain": [
       "  CS_GESTANT n    \n",
       "1  1           388\n",
       "2  2           513\n",
       "3  3           500\n",
       "4  4           139\n",
       "5  5         26241\n",
       "6  6         29921\n",
       "7  9          8152\n",
       "8 NA            12"
      ]
     },
     "metadata": {},
     "output_type": "display_data"
    },
    {
     "data": {
      "text/html": [
       "<table class=\"dataframe\">\n",
       "<caption>A data.frame: 8 × 2</caption>\n",
       "<thead>\n",
       "\t<tr><th scope=col>CS_GESTANT</th><th scope=col>n</th></tr>\n",
       "\t<tr><th scope=col>&lt;int&gt;</th><th scope=col>&lt;int&gt;</th></tr>\n",
       "</thead>\n",
       "<tbody>\n",
       "\t<tr><td> 1</td><td>  388</td></tr>\n",
       "\t<tr><td> 2</td><td>  513</td></tr>\n",
       "\t<tr><td> 3</td><td>  500</td></tr>\n",
       "\t<tr><td> 4</td><td>  139</td></tr>\n",
       "\t<tr><td> 5</td><td>26241</td></tr>\n",
       "\t<tr><td> 6</td><td> 4585</td></tr>\n",
       "\t<tr><td> 9</td><td> 8152</td></tr>\n",
       "\t<tr><td>NA</td><td>   12</td></tr>\n",
       "</tbody>\n",
       "</table>\n"
      ],
      "text/latex": [
       "A data.frame: 8 × 2\n",
       "\\begin{tabular}{ll}\n",
       " CS\\_GESTANT & n\\\\\n",
       " <int> & <int>\\\\\n",
       "\\hline\n",
       "\t  1 &   388\\\\\n",
       "\t  2 &   513\\\\\n",
       "\t  3 &   500\\\\\n",
       "\t  4 &   139\\\\\n",
       "\t  5 & 26241\\\\\n",
       "\t  6 &  4585\\\\\n",
       "\t  9 &  8152\\\\\n",
       "\t NA &    12\\\\\n",
       "\\end{tabular}\n"
      ],
      "text/markdown": [
       "\n",
       "A data.frame: 8 × 2\n",
       "\n",
       "| CS_GESTANT &lt;int&gt; | n &lt;int&gt; |\n",
       "|---|---|\n",
       "|  1 |   388 |\n",
       "|  2 |   513 |\n",
       "|  3 |   500 |\n",
       "|  4 |   139 |\n",
       "|  5 | 26241 |\n",
       "|  6 |  4585 |\n",
       "|  9 |  8152 |\n",
       "| NA |    12 |\n",
       "\n"
      ],
      "text/plain": [
       "  CS_GESTANT n    \n",
       "1  1           388\n",
       "2  2           513\n",
       "3  3           500\n",
       "4  4           139\n",
       "5  5         26241\n",
       "6  6          4585\n",
       "7  9          8152\n",
       "8 NA            12"
      ]
     },
     "metadata": {},
     "output_type": "display_data"
    },
    {
     "data": {
      "text/html": [
       "<table class=\"dataframe\">\n",
       "<caption>A data.frame: 1 × 2</caption>\n",
       "<thead>\n",
       "\t<tr><th scope=col>CS_GESTANT</th><th scope=col>n</th></tr>\n",
       "\t<tr><th scope=col>&lt;int&gt;</th><th scope=col>&lt;int&gt;</th></tr>\n",
       "</thead>\n",
       "<tbody>\n",
       "\t<tr><td>6</td><td>25336</td></tr>\n",
       "</tbody>\n",
       "</table>\n"
      ],
      "text/latex": [
       "A data.frame: 1 × 2\n",
       "\\begin{tabular}{ll}\n",
       " CS\\_GESTANT & n\\\\\n",
       " <int> & <int>\\\\\n",
       "\\hline\n",
       "\t 6 & 25336\\\\\n",
       "\\end{tabular}\n"
      ],
      "text/markdown": [
       "\n",
       "A data.frame: 1 × 2\n",
       "\n",
       "| CS_GESTANT &lt;int&gt; | n &lt;int&gt; |\n",
       "|---|---|\n",
       "| 6 | 25336 |\n",
       "\n"
      ],
      "text/plain": [
       "  CS_GESTANT n    \n",
       "1 6          25336"
      ]
     },
     "metadata": {},
     "output_type": "display_data"
    },
    {
     "data": {
      "text/html": [
       "<table class=\"dataframe\">\n",
       "<caption>A data.frame: 8 × 2</caption>\n",
       "<thead>\n",
       "\t<tr><th scope=col>CS_GESTANT</th><th scope=col>n</th></tr>\n",
       "\t<tr><th scope=col>&lt;dbl&gt;</th><th scope=col>&lt;int&gt;</th></tr>\n",
       "</thead>\n",
       "<tbody>\n",
       "\t<tr><td>0</td><td>   12</td></tr>\n",
       "\t<tr><td>1</td><td>  388</td></tr>\n",
       "\t<tr><td>2</td><td>  513</td></tr>\n",
       "\t<tr><td>3</td><td>  500</td></tr>\n",
       "\t<tr><td>4</td><td>  139</td></tr>\n",
       "\t<tr><td>5</td><td>26241</td></tr>\n",
       "\t<tr><td>6</td><td>29921</td></tr>\n",
       "\t<tr><td>9</td><td> 8152</td></tr>\n",
       "</tbody>\n",
       "</table>\n"
      ],
      "text/latex": [
       "A data.frame: 8 × 2\n",
       "\\begin{tabular}{ll}\n",
       " CS\\_GESTANT & n\\\\\n",
       " <dbl> & <int>\\\\\n",
       "\\hline\n",
       "\t 0 &    12\\\\\n",
       "\t 1 &   388\\\\\n",
       "\t 2 &   513\\\\\n",
       "\t 3 &   500\\\\\n",
       "\t 4 &   139\\\\\n",
       "\t 5 & 26241\\\\\n",
       "\t 6 & 29921\\\\\n",
       "\t 9 &  8152\\\\\n",
       "\\end{tabular}\n"
      ],
      "text/markdown": [
       "\n",
       "A data.frame: 8 × 2\n",
       "\n",
       "| CS_GESTANT &lt;dbl&gt; | n &lt;int&gt; |\n",
       "|---|---|\n",
       "| 0 |    12 |\n",
       "| 1 |   388 |\n",
       "| 2 |   513 |\n",
       "| 3 |   500 |\n",
       "| 4 |   139 |\n",
       "| 5 | 26241 |\n",
       "| 6 | 29921 |\n",
       "| 9 |  8152 |\n",
       "\n"
      ],
      "text/plain": [
       "  CS_GESTANT n    \n",
       "1 0             12\n",
       "2 1            388\n",
       "3 2            513\n",
       "4 3            500\n",
       "5 4            139\n",
       "6 5          26241\n",
       "7 6          29921\n",
       "8 9           8152"
      ]
     },
     "metadata": {},
     "output_type": "display_data"
    }
   ],
   "source": [
    "# check the column pregnancy for each sex\n",
    "# transform na values in the column pregnancy in 0 (not pregnant)\n",
    "\n",
    "data %>% count(CS_GESTANT)\n",
    "\n",
    "data %>% filter(sex == 1) %>% count(CS_GESTANT)\n",
    "\n",
    "data %>% filter(sex == 0) %>% count(CS_GESTANT)\n",
    "\n",
    "data %>% mutate(CS_GESTANT = if_else(is.na(CS_GESTANT), 0, CS_GESTANT)) %>% count(CS_GESTANT)\n",
    "\n",
    "data %>% mutate(CS_GESTANT = if_else(is.na(CS_GESTANT), 0, CS_GESTANT)) -> data"
   ]
  },
  {
   "cell_type": "code",
   "execution_count": 31,
   "id": "1bf7943f",
   "metadata": {},
   "outputs": [
    {
     "data": {
      "text/html": [
       "<table class=\"dataframe\">\n",
       "<caption>A data.frame: 2 × 2</caption>\n",
       "<thead>\n",
       "\t<tr><th scope=col>pregnant</th><th scope=col>n</th></tr>\n",
       "\t<tr><th scope=col>&lt;dbl&gt;</th><th scope=col>&lt;int&gt;</th></tr>\n",
       "</thead>\n",
       "<tbody>\n",
       "\t<tr><td>0</td><td>64326</td></tr>\n",
       "\t<tr><td>1</td><td> 1540</td></tr>\n",
       "</tbody>\n",
       "</table>\n"
      ],
      "text/latex": [
       "A data.frame: 2 × 2\n",
       "\\begin{tabular}{ll}\n",
       " pregnant & n\\\\\n",
       " <dbl> & <int>\\\\\n",
       "\\hline\n",
       "\t 0 & 64326\\\\\n",
       "\t 1 &  1540\\\\\n",
       "\\end{tabular}\n"
      ],
      "text/markdown": [
       "\n",
       "A data.frame: 2 × 2\n",
       "\n",
       "| pregnant &lt;dbl&gt; | n &lt;int&gt; |\n",
       "|---|---|\n",
       "| 0 | 64326 |\n",
       "| 1 |  1540 |\n",
       "\n"
      ],
      "text/plain": [
       "  pregnant n    \n",
       "1 0        64326\n",
       "2 1         1540"
      ]
     },
     "metadata": {},
     "output_type": "display_data"
    }
   ],
   "source": [
    "# transform the column pregnant in binary, orignally diferent values refer to difernt stages on pregnancy\n",
    "\n",
    "data %>% mutate(pregnant = if_else((CS_GESTANT == 1 | \n",
    "                               CS_GESTANT == 2 | \n",
    "                               CS_GESTANT == 3 | \n",
    "                               CS_GESTANT == 4), 1, 0)) %>% count(pregnant)\n",
    "\n",
    "\n",
    "data %>% mutate(pregnant = if_else((CS_GESTANT == 1 | \n",
    "                               CS_GESTANT == 2 | \n",
    "                               CS_GESTANT == 3 | \n",
    "                               CS_GESTANT == 4), 1, 0)) -> data\n",
    "\n",
    "data %>% select(-CS_GESTANT) -> data"
   ]
  },
  {
   "cell_type": "code",
   "execution_count": 32,
   "id": "d0edd344",
   "metadata": {},
   "outputs": [
    {
     "data": {
      "text/html": [
       "<table class=\"dataframe\">\n",
       "<caption>A data.frame: 6 × 2</caption>\n",
       "<thead>\n",
       "\t<tr><th scope=col>CS_RACA</th><th scope=col>n</th></tr>\n",
       "\t<tr><th scope=col>&lt;int&gt;</th><th scope=col>&lt;int&gt;</th></tr>\n",
       "</thead>\n",
       "<tbody>\n",
       "\t<tr><td>1</td><td>11391</td></tr>\n",
       "\t<tr><td>2</td><td> 4773</td></tr>\n",
       "\t<tr><td>3</td><td>  721</td></tr>\n",
       "\t<tr><td>4</td><td>32831</td></tr>\n",
       "\t<tr><td>5</td><td>  183</td></tr>\n",
       "\t<tr><td>9</td><td>15967</td></tr>\n",
       "</tbody>\n",
       "</table>\n"
      ],
      "text/latex": [
       "A data.frame: 6 × 2\n",
       "\\begin{tabular}{ll}\n",
       " CS\\_RACA & n\\\\\n",
       " <int> & <int>\\\\\n",
       "\\hline\n",
       "\t 1 & 11391\\\\\n",
       "\t 2 &  4773\\\\\n",
       "\t 3 &   721\\\\\n",
       "\t 4 & 32831\\\\\n",
       "\t 5 &   183\\\\\n",
       "\t 9 & 15967\\\\\n",
       "\\end{tabular}\n"
      ],
      "text/markdown": [
       "\n",
       "A data.frame: 6 × 2\n",
       "\n",
       "| CS_RACA &lt;int&gt; | n &lt;int&gt; |\n",
       "|---|---|\n",
       "| 1 | 11391 |\n",
       "| 2 |  4773 |\n",
       "| 3 |   721 |\n",
       "| 4 | 32831 |\n",
       "| 5 |   183 |\n",
       "| 9 | 15967 |\n",
       "\n"
      ],
      "text/plain": [
       "  CS_RACA n    \n",
       "1 1       11391\n",
       "2 2        4773\n",
       "3 3         721\n",
       "4 4       32831\n",
       "5 5         183\n",
       "6 9       15967"
      ]
     },
     "metadata": {},
     "output_type": "display_data"
    },
    {
     "data": {
      "text/html": [
       "<table class=\"dataframe\">\n",
       "<caption>A data.frame: 5 × 2</caption>\n",
       "<thead>\n",
       "\t<tr><th scope=col>CS_RACA</th><th scope=col>n</th></tr>\n",
       "\t<tr><th scope=col>&lt;int&gt;</th><th scope=col>&lt;int&gt;</th></tr>\n",
       "</thead>\n",
       "<tbody>\n",
       "\t<tr><td>1</td><td>11391</td></tr>\n",
       "\t<tr><td>2</td><td> 4773</td></tr>\n",
       "\t<tr><td>3</td><td>  721</td></tr>\n",
       "\t<tr><td>4</td><td>32831</td></tr>\n",
       "\t<tr><td>5</td><td>  183</td></tr>\n",
       "</tbody>\n",
       "</table>\n"
      ],
      "text/latex": [
       "A data.frame: 5 × 2\n",
       "\\begin{tabular}{ll}\n",
       " CS\\_RACA & n\\\\\n",
       " <int> & <int>\\\\\n",
       "\\hline\n",
       "\t 1 & 11391\\\\\n",
       "\t 2 &  4773\\\\\n",
       "\t 3 &   721\\\\\n",
       "\t 4 & 32831\\\\\n",
       "\t 5 &   183\\\\\n",
       "\\end{tabular}\n"
      ],
      "text/markdown": [
       "\n",
       "A data.frame: 5 × 2\n",
       "\n",
       "| CS_RACA &lt;int&gt; | n &lt;int&gt; |\n",
       "|---|---|\n",
       "| 1 | 11391 |\n",
       "| 2 |  4773 |\n",
       "| 3 |   721 |\n",
       "| 4 | 32831 |\n",
       "| 5 |   183 |\n",
       "\n"
      ],
      "text/plain": [
       "  CS_RACA n    \n",
       "1 1       11391\n",
       "2 2        4773\n",
       "3 3         721\n",
       "4 4       32831\n",
       "5 5         183"
      ]
     },
     "metadata": {},
     "output_type": "display_data"
    },
    {
     "data": {
      "text/html": [
       "<style>\n",
       ".list-inline {list-style: none; margin:0; padding: 0}\n",
       ".list-inline>li {display: inline-block}\n",
       ".list-inline>li:not(:last-child)::after {content: \"\\00b7\"; padding: 0 .5ex}\n",
       "</style>\n",
       "<ol class=list-inline><li>49899</li><li>37</li></ol>\n"
      ],
      "text/latex": [
       "\\begin{enumerate*}\n",
       "\\item 49899\n",
       "\\item 37\n",
       "\\end{enumerate*}\n"
      ],
      "text/markdown": [
       "1. 49899\n",
       "2. 37\n",
       "\n",
       "\n"
      ],
      "text/plain": [
       "[1] 49899    37"
      ]
     },
     "metadata": {},
     "output_type": "display_data"
    }
   ],
   "source": [
    "# remove unknown race, or na values\n",
    "\n",
    "data %>% count(CS_RACA)\n",
    "\n",
    "data %>% filter(!is.na(CS_RACA)) %>% filter(CS_RACA < 9) %>% count(CS_RACA)\n",
    "\n",
    "data %>% filter(!is.na(CS_RACA)) %>% filter(CS_RACA < 9) -> data\n",
    "\n",
    "data %>% dim"
   ]
  },
  {
   "cell_type": "code",
   "execution_count": 33,
   "id": "6020edfe",
   "metadata": {},
   "outputs": [
    {
     "data": {
      "text/html": [
       "<table class=\"dataframe\">\n",
       "<caption>A data.frame: 6 × 2</caption>\n",
       "<thead>\n",
       "\t<tr><th scope=col>EVOLUCAO</th><th scope=col>n</th></tr>\n",
       "\t<tr><th scope=col>&lt;int&gt;</th><th scope=col>&lt;int&gt;</th></tr>\n",
       "</thead>\n",
       "<tbody>\n",
       "\t<tr><td> 1</td><td>43916</td></tr>\n",
       "\t<tr><td> 2</td><td>   22</td></tr>\n",
       "\t<tr><td> 3</td><td>  100</td></tr>\n",
       "\t<tr><td> 4</td><td>   13</td></tr>\n",
       "\t<tr><td> 9</td><td> 2885</td></tr>\n",
       "\t<tr><td>NA</td><td> 2963</td></tr>\n",
       "</tbody>\n",
       "</table>\n"
      ],
      "text/latex": [
       "A data.frame: 6 × 2\n",
       "\\begin{tabular}{ll}\n",
       " EVOLUCAO & n\\\\\n",
       " <int> & <int>\\\\\n",
       "\\hline\n",
       "\t  1 & 43916\\\\\n",
       "\t  2 &    22\\\\\n",
       "\t  3 &   100\\\\\n",
       "\t  4 &    13\\\\\n",
       "\t  9 &  2885\\\\\n",
       "\t NA &  2963\\\\\n",
       "\\end{tabular}\n"
      ],
      "text/markdown": [
       "\n",
       "A data.frame: 6 × 2\n",
       "\n",
       "| EVOLUCAO &lt;int&gt; | n &lt;int&gt; |\n",
       "|---|---|\n",
       "|  1 | 43916 |\n",
       "|  2 |    22 |\n",
       "|  3 |   100 |\n",
       "|  4 |    13 |\n",
       "|  9 |  2885 |\n",
       "| NA |  2963 |\n",
       "\n"
      ],
      "text/plain": [
       "  EVOLUCAO n    \n",
       "1  1       43916\n",
       "2  2          22\n",
       "3  3         100\n",
       "4  4          13\n",
       "5  9        2885\n",
       "6 NA        2963"
      ]
     },
     "metadata": {},
     "output_type": "display_data"
    },
    {
     "data": {
      "text/html": [
       "<table class=\"dataframe\">\n",
       "<caption>A data.frame: 4 × 2</caption>\n",
       "<thead>\n",
       "\t<tr><th scope=col>HOSPITALIZ</th><th scope=col>n</th></tr>\n",
       "\t<tr><th scope=col>&lt;int&gt;</th><th scope=col>&lt;int&gt;</th></tr>\n",
       "</thead>\n",
       "<tbody>\n",
       "\t<tr><td> 1</td><td> 1787</td></tr>\n",
       "\t<tr><td> 2</td><td>31993</td></tr>\n",
       "\t<tr><td> 9</td><td>  976</td></tr>\n",
       "\t<tr><td>NA</td><td>15143</td></tr>\n",
       "</tbody>\n",
       "</table>\n"
      ],
      "text/latex": [
       "A data.frame: 4 × 2\n",
       "\\begin{tabular}{ll}\n",
       " HOSPITALIZ & n\\\\\n",
       " <int> & <int>\\\\\n",
       "\\hline\n",
       "\t  1 &  1787\\\\\n",
       "\t  2 & 31993\\\\\n",
       "\t  9 &   976\\\\\n",
       "\t NA & 15143\\\\\n",
       "\\end{tabular}\n"
      ],
      "text/markdown": [
       "\n",
       "A data.frame: 4 × 2\n",
       "\n",
       "| HOSPITALIZ &lt;int&gt; | n &lt;int&gt; |\n",
       "|---|---|\n",
       "|  1 |  1787 |\n",
       "|  2 | 31993 |\n",
       "|  9 |   976 |\n",
       "| NA | 15143 |\n",
       "\n"
      ],
      "text/plain": [
       "  HOSPITALIZ n    \n",
       "1  1          1787\n",
       "2  2         31993\n",
       "3  9           976\n",
       "4 NA         15143"
      ]
     },
     "metadata": {},
     "output_type": "display_data"
    },
    {
     "data": {
      "text/html": [
       "<style>\n",
       ".list-inline {list-style: none; margin:0; padding: 0}\n",
       ".list-inline>li {display: inline-block}\n",
       ".list-inline>li:not(:last-child)::after {content: \"\\00b7\"; padding: 0 .5ex}\n",
       "</style>\n",
       "<ol class=list-inline><li>49899</li><li>37</li></ol>\n"
      ],
      "text/latex": [
       "\\begin{enumerate*}\n",
       "\\item 49899\n",
       "\\item 37\n",
       "\\end{enumerate*}\n"
      ],
      "text/markdown": [
       "1. 49899\n",
       "2. 37\n",
       "\n",
       "\n"
      ],
      "text/plain": [
       "[1] 49899    37"
      ]
     },
     "metadata": {},
     "output_type": "display_data"
    }
   ],
   "source": [
    "data %>% count(EVOLUCAO)\n",
    "data %>% count(HOSPITALIZ)\n",
    "\n",
    "data %>% dim"
   ]
  },
  {
   "cell_type": "code",
   "execution_count": 34,
   "id": "1322e5e0",
   "metadata": {},
   "outputs": [
    {
     "data": {
      "text/html": [
       "<table class=\"dataframe\">\n",
       "<caption>A data.frame: 11 × 2</caption>\n",
       "<thead>\n",
       "\t<tr><th scope=col>CS_ESCOL_N</th><th scope=col>n</th></tr>\n",
       "\t<tr><th scope=col>&lt;int&gt;</th><th scope=col>&lt;int&gt;</th></tr>\n",
       "</thead>\n",
       "<tbody>\n",
       "\t<tr><td> 0</td><td>  645</td></tr>\n",
       "\t<tr><td> 1</td><td> 2303</td></tr>\n",
       "\t<tr><td> 2</td><td> 1373</td></tr>\n",
       "\t<tr><td> 3</td><td> 3532</td></tr>\n",
       "\t<tr><td> 4</td><td> 2214</td></tr>\n",
       "\t<tr><td> 5</td><td> 3154</td></tr>\n",
       "\t<tr><td> 6</td><td> 9787</td></tr>\n",
       "\t<tr><td> 7</td><td> 1218</td></tr>\n",
       "\t<tr><td> 8</td><td> 3277</td></tr>\n",
       "\t<tr><td> 9</td><td>14750</td></tr>\n",
       "\t<tr><td>NA</td><td> 7646</td></tr>\n",
       "</tbody>\n",
       "</table>\n"
      ],
      "text/latex": [
       "A data.frame: 11 × 2\n",
       "\\begin{tabular}{ll}\n",
       " CS\\_ESCOL\\_N & n\\\\\n",
       " <int> & <int>\\\\\n",
       "\\hline\n",
       "\t  0 &   645\\\\\n",
       "\t  1 &  2303\\\\\n",
       "\t  2 &  1373\\\\\n",
       "\t  3 &  3532\\\\\n",
       "\t  4 &  2214\\\\\n",
       "\t  5 &  3154\\\\\n",
       "\t  6 &  9787\\\\\n",
       "\t  7 &  1218\\\\\n",
       "\t  8 &  3277\\\\\n",
       "\t  9 & 14750\\\\\n",
       "\t NA &  7646\\\\\n",
       "\\end{tabular}\n"
      ],
      "text/markdown": [
       "\n",
       "A data.frame: 11 × 2\n",
       "\n",
       "| CS_ESCOL_N &lt;int&gt; | n &lt;int&gt; |\n",
       "|---|---|\n",
       "|  0 |   645 |\n",
       "|  1 |  2303 |\n",
       "|  2 |  1373 |\n",
       "|  3 |  3532 |\n",
       "|  4 |  2214 |\n",
       "|  5 |  3154 |\n",
       "|  6 |  9787 |\n",
       "|  7 |  1218 |\n",
       "|  8 |  3277 |\n",
       "|  9 | 14750 |\n",
       "| NA |  7646 |\n",
       "\n"
      ],
      "text/plain": [
       "   CS_ESCOL_N n    \n",
       "1   0           645\n",
       "2   1          2303\n",
       "3   2          1373\n",
       "4   3          3532\n",
       "5   4          2214\n",
       "6   5          3154\n",
       "7   6          9787\n",
       "8   7          1218\n",
       "9   8          3277\n",
       "10  9         14750\n",
       "11 NA          7646"
      ]
     },
     "metadata": {},
     "output_type": "display_data"
    },
    {
     "data": {
      "text/html": [
       "<table class=\"dataframe\">\n",
       "<caption>A data.frame: 10 × 2</caption>\n",
       "<thead>\n",
       "\t<tr><th scope=col>CS_ESCOL_N</th><th scope=col>n</th></tr>\n",
       "\t<tr><th scope=col>&lt;int&gt;</th><th scope=col>&lt;int&gt;</th></tr>\n",
       "</thead>\n",
       "<tbody>\n",
       "\t<tr><td> 0</td><td>  645</td></tr>\n",
       "\t<tr><td> 1</td><td> 2303</td></tr>\n",
       "\t<tr><td> 2</td><td> 1373</td></tr>\n",
       "\t<tr><td> 3</td><td> 3532</td></tr>\n",
       "\t<tr><td> 4</td><td> 2214</td></tr>\n",
       "\t<tr><td> 5</td><td> 3154</td></tr>\n",
       "\t<tr><td> 6</td><td> 9787</td></tr>\n",
       "\t<tr><td> 7</td><td> 1218</td></tr>\n",
       "\t<tr><td> 8</td><td> 3277</td></tr>\n",
       "\t<tr><td>NA</td><td>22396</td></tr>\n",
       "</tbody>\n",
       "</table>\n"
      ],
      "text/latex": [
       "A data.frame: 10 × 2\n",
       "\\begin{tabular}{ll}\n",
       " CS\\_ESCOL\\_N & n\\\\\n",
       " <int> & <int>\\\\\n",
       "\\hline\n",
       "\t  0 &   645\\\\\n",
       "\t  1 &  2303\\\\\n",
       "\t  2 &  1373\\\\\n",
       "\t  3 &  3532\\\\\n",
       "\t  4 &  2214\\\\\n",
       "\t  5 &  3154\\\\\n",
       "\t  6 &  9787\\\\\n",
       "\t  7 &  1218\\\\\n",
       "\t  8 &  3277\\\\\n",
       "\t NA & 22396\\\\\n",
       "\\end{tabular}\n"
      ],
      "text/markdown": [
       "\n",
       "A data.frame: 10 × 2\n",
       "\n",
       "| CS_ESCOL_N &lt;int&gt; | n &lt;int&gt; |\n",
       "|---|---|\n",
       "|  0 |   645 |\n",
       "|  1 |  2303 |\n",
       "|  2 |  1373 |\n",
       "|  3 |  3532 |\n",
       "|  4 |  2214 |\n",
       "|  5 |  3154 |\n",
       "|  6 |  9787 |\n",
       "|  7 |  1218 |\n",
       "|  8 |  3277 |\n",
       "| NA | 22396 |\n",
       "\n"
      ],
      "text/plain": [
       "   CS_ESCOL_N n    \n",
       "1   0           645\n",
       "2   1          2303\n",
       "3   2          1373\n",
       "4   3          3532\n",
       "5   4          2214\n",
       "6   5          3154\n",
       "7   6          9787\n",
       "8   7          1218\n",
       "9   8          3277\n",
       "10 NA         22396"
      ]
     },
     "metadata": {},
     "output_type": "display_data"
    }
   ],
   "source": [
    "# check year of schooling. 9 = unknown. \n",
    "data %>% count(CS_ESCOL_N)\n",
    "\n",
    "data$CS_ESCOL_N[data$CS_ESCOL_N == 9] <- NA\n",
    "\n",
    "data %>% count(CS_ESCOL_N)"
   ]
  },
  {
   "cell_type": "code",
   "execution_count": 35,
   "id": "41affa7b",
   "metadata": {},
   "outputs": [
    {
     "data": {
      "text/html": [
       "26898"
      ],
      "text/latex": [
       "26898"
      ],
      "text/markdown": [
       "26898"
      ],
      "text/plain": [
       "[1] 26898"
      ]
     },
     "metadata": {},
     "output_type": "display_data"
    },
    {
     "data": {
      "text/html": [
       "<table class=\"dataframe\">\n",
       "<caption>A tibble: 10 × 2</caption>\n",
       "<thead>\n",
       "\t<tr><th scope=col>CS_ESCOL_N</th><th scope=col>n</th></tr>\n",
       "\t<tr><th scope=col>&lt;dbl&gt;</th><th scope=col>&lt;int&gt;</th></tr>\n",
       "</thead>\n",
       "<tbody>\n",
       "\t<tr><td>  0</td><td>  730</td></tr>\n",
       "\t<tr><td>  1</td><td> 2653</td></tr>\n",
       "\t<tr><td>  2</td><td> 1802</td></tr>\n",
       "\t<tr><td>  3</td><td> 4427</td></tr>\n",
       "\t<tr><td>  4</td><td> 3783</td></tr>\n",
       "\t<tr><td>  5</td><td> 5445</td></tr>\n",
       "\t<tr><td>  6</td><td>13291</td></tr>\n",
       "\t<tr><td>  7</td><td> 1775</td></tr>\n",
       "\t<tr><td>  8</td><td> 3774</td></tr>\n",
       "\t<tr><td>NaN</td><td>12219</td></tr>\n",
       "</tbody>\n",
       "</table>\n"
      ],
      "text/latex": [
       "A tibble: 10 × 2\n",
       "\\begin{tabular}{ll}\n",
       " CS\\_ESCOL\\_N & n\\\\\n",
       " <dbl> & <int>\\\\\n",
       "\\hline\n",
       "\t   0 &   730\\\\\n",
       "\t   1 &  2653\\\\\n",
       "\t   2 &  1802\\\\\n",
       "\t   3 &  4427\\\\\n",
       "\t   4 &  3783\\\\\n",
       "\t   5 &  5445\\\\\n",
       "\t   6 & 13291\\\\\n",
       "\t   7 &  1775\\\\\n",
       "\t   8 &  3774\\\\\n",
       "\t NaN & 12219\\\\\n",
       "\\end{tabular}\n"
      ],
      "text/markdown": [
       "\n",
       "A tibble: 10 × 2\n",
       "\n",
       "| CS_ESCOL_N &lt;dbl&gt; | n &lt;int&gt; |\n",
       "|---|---|\n",
       "|   0 |   730 |\n",
       "|   1 |  2653 |\n",
       "|   2 |  1802 |\n",
       "|   3 |  4427 |\n",
       "|   4 |  3783 |\n",
       "|   5 |  5445 |\n",
       "|   6 | 13291 |\n",
       "|   7 |  1775 |\n",
       "|   8 |  3774 |\n",
       "| NaN | 12219 |\n",
       "\n"
      ],
      "text/plain": [
       "   CS_ESCOL_N n    \n",
       "1    0          730\n",
       "2    1         2653\n",
       "3    2         1802\n",
       "4    3         4427\n",
       "5    4         3783\n",
       "6    5         5445\n",
       "7    6        13291\n",
       "8    7         1775\n",
       "9    8         3774\n",
       "10 NaN        12219"
      ]
     },
     "metadata": {},
     "output_type": "display_data"
    }
   ],
   "source": [
    "# how many groups by age, race, city and sex\n",
    "data %>% group_by(age, CS_RACA, ID_MN_RESI, sex) %>% n_groups\n",
    "\n",
    "# create a new column with the average\n",
    "data %>% group_by(age, CS_RACA, ID_MN_RESI, sex) %>% mutate(average = mean(CS_ESCOL_N, na.rm=TRUE)) %>% \n",
    "    ungroup -> data\n",
    "\n",
    "# when CS_ESCOL_N is na change by the average\n",
    "data %>% mutate(CS_ESCOL_N = if_else((is.na(CS_ESCOL_N)), round(average), CS_ESCOL_N)) %>% count(CS_ESCOL_N)\n",
    "data %>% mutate(CS_ESCOL_N = if_else((is.na(CS_ESCOL_N)), round(average), CS_ESCOL_N)) -> data\n",
    "data %>% select(-average) -> data"
   ]
  },
  {
   "cell_type": "code",
   "execution_count": 36,
   "id": "ab7c972b",
   "metadata": {},
   "outputs": [
    {
     "data": {
      "text/html": [
       "<table class=\"dataframe\">\n",
       "<caption>A tibble: 10 × 2</caption>\n",
       "<thead>\n",
       "\t<tr><th scope=col>CS_ESCOL_N</th><th scope=col>n</th></tr>\n",
       "\t<tr><th scope=col>&lt;dbl&gt;</th><th scope=col>&lt;int&gt;</th></tr>\n",
       "</thead>\n",
       "<tbody>\n",
       "\t<tr><td>  0</td><td>  765</td></tr>\n",
       "\t<tr><td>  1</td><td> 2764</td></tr>\n",
       "\t<tr><td>  2</td><td> 2183</td></tr>\n",
       "\t<tr><td>  3</td><td> 5749</td></tr>\n",
       "\t<tr><td>  4</td><td> 6031</td></tr>\n",
       "\t<tr><td>  5</td><td>10184</td></tr>\n",
       "\t<tr><td>  6</td><td>16486</td></tr>\n",
       "\t<tr><td>  7</td><td> 1810</td></tr>\n",
       "\t<tr><td>  8</td><td> 3790</td></tr>\n",
       "\t<tr><td>NaN</td><td>  137</td></tr>\n",
       "</tbody>\n",
       "</table>\n"
      ],
      "text/latex": [
       "A tibble: 10 × 2\n",
       "\\begin{tabular}{ll}\n",
       " CS\\_ESCOL\\_N & n\\\\\n",
       " <dbl> & <int>\\\\\n",
       "\\hline\n",
       "\t   0 &   765\\\\\n",
       "\t   1 &  2764\\\\\n",
       "\t   2 &  2183\\\\\n",
       "\t   3 &  5749\\\\\n",
       "\t   4 &  6031\\\\\n",
       "\t   5 & 10184\\\\\n",
       "\t   6 & 16486\\\\\n",
       "\t   7 &  1810\\\\\n",
       "\t   8 &  3790\\\\\n",
       "\t NaN &   137\\\\\n",
       "\\end{tabular}\n"
      ],
      "text/markdown": [
       "\n",
       "A tibble: 10 × 2\n",
       "\n",
       "| CS_ESCOL_N &lt;dbl&gt; | n &lt;int&gt; |\n",
       "|---|---|\n",
       "|   0 |   765 |\n",
       "|   1 |  2764 |\n",
       "|   2 |  2183 |\n",
       "|   3 |  5749 |\n",
       "|   4 |  6031 |\n",
       "|   5 | 10184 |\n",
       "|   6 | 16486 |\n",
       "|   7 |  1810 |\n",
       "|   8 |  3790 |\n",
       "| NaN |   137 |\n",
       "\n"
      ],
      "text/plain": [
       "   CS_ESCOL_N n    \n",
       "1    0          765\n",
       "2    1         2764\n",
       "3    2         2183\n",
       "4    3         5749\n",
       "5    4         6031\n",
       "6    5        10184\n",
       "7    6        16486\n",
       "8    7         1810\n",
       "9    8         3790\n",
       "10 NaN          137"
      ]
     },
     "metadata": {},
     "output_type": "display_data"
    }
   ],
   "source": [
    "# create a new column with the average\n",
    "data %>% group_by(age, CS_RACA, sex) %>% mutate(average = mean(CS_ESCOL_N, na.rm=TRUE)) %>% \n",
    "    ungroup -> data\n",
    "\n",
    "# when CS_ESCOL_N is na change by the average\n",
    "data %>% mutate(CS_ESCOL_N = if_else((is.na(CS_ESCOL_N)), round(average), CS_ESCOL_N)) %>% count(CS_ESCOL_N)\n",
    "data %>% mutate(CS_ESCOL_N = if_else((is.na(CS_ESCOL_N)), round(average), CS_ESCOL_N)) -> data\n",
    "data %>% select(-average) -> data"
   ]
  },
  {
   "cell_type": "code",
   "execution_count": 37,
   "id": "0033b57d",
   "metadata": {},
   "outputs": [],
   "source": [
    "data %>% select(-ID_MN_RESI) -> data"
   ]
  },
  {
   "cell_type": "code",
   "execution_count": 38,
   "id": "90ca4bec",
   "metadata": {},
   "outputs": [
    {
     "data": {
      "text/html": [
       "<table class=\"dataframe\">\n",
       "<caption>A tibble: 10 × 2</caption>\n",
       "<thead>\n",
       "\t<tr><th scope=col>CS_ESCOL_N</th><th scope=col>n</th></tr>\n",
       "\t<tr><th scope=col>&lt;dbl&gt;</th><th scope=col>&lt;int&gt;</th></tr>\n",
       "</thead>\n",
       "<tbody>\n",
       "\t<tr><td>  0</td><td>  765</td></tr>\n",
       "\t<tr><td>  1</td><td> 2764</td></tr>\n",
       "\t<tr><td>  2</td><td> 2183</td></tr>\n",
       "\t<tr><td>  3</td><td> 5749</td></tr>\n",
       "\t<tr><td>  4</td><td> 6031</td></tr>\n",
       "\t<tr><td>  5</td><td>10184</td></tr>\n",
       "\t<tr><td>  6</td><td>16486</td></tr>\n",
       "\t<tr><td>  7</td><td> 1810</td></tr>\n",
       "\t<tr><td>  8</td><td> 3790</td></tr>\n",
       "\t<tr><td>NaN</td><td>  137</td></tr>\n",
       "</tbody>\n",
       "</table>\n"
      ],
      "text/latex": [
       "A tibble: 10 × 2\n",
       "\\begin{tabular}{ll}\n",
       " CS\\_ESCOL\\_N & n\\\\\n",
       " <dbl> & <int>\\\\\n",
       "\\hline\n",
       "\t   0 &   765\\\\\n",
       "\t   1 &  2764\\\\\n",
       "\t   2 &  2183\\\\\n",
       "\t   3 &  5749\\\\\n",
       "\t   4 &  6031\\\\\n",
       "\t   5 & 10184\\\\\n",
       "\t   6 & 16486\\\\\n",
       "\t   7 &  1810\\\\\n",
       "\t   8 &  3790\\\\\n",
       "\t NaN &   137\\\\\n",
       "\\end{tabular}\n"
      ],
      "text/markdown": [
       "\n",
       "A tibble: 10 × 2\n",
       "\n",
       "| CS_ESCOL_N &lt;dbl&gt; | n &lt;int&gt; |\n",
       "|---|---|\n",
       "|   0 |   765 |\n",
       "|   1 |  2764 |\n",
       "|   2 |  2183 |\n",
       "|   3 |  5749 |\n",
       "|   4 |  6031 |\n",
       "|   5 | 10184 |\n",
       "|   6 | 16486 |\n",
       "|   7 |  1810 |\n",
       "|   8 |  3790 |\n",
       "| NaN |   137 |\n",
       "\n"
      ],
      "text/plain": [
       "   CS_ESCOL_N n    \n",
       "1    0          765\n",
       "2    1         2764\n",
       "3    2         2183\n",
       "4    3         5749\n",
       "5    4         6031\n",
       "6    5        10184\n",
       "7    6        16486\n",
       "8    7         1810\n",
       "9    8         3790\n",
       "10 NaN          137"
      ]
     },
     "metadata": {},
     "output_type": "display_data"
    }
   ],
   "source": [
    "# if is still na, drop it\n",
    "\n",
    "data %>% count(CS_ESCOL_N)\n",
    "\n",
    "data %>% filter(!(is.na(CS_ESCOL_N))) -> data\n"
   ]
  },
  {
   "cell_type": "code",
   "execution_count": 39,
   "id": "25a56ad7",
   "metadata": {},
   "outputs": [
    {
     "data": {
      "text/html": [
       "<table class=\"dataframe\">\n",
       "<caption>A tibble: 6 × 2</caption>\n",
       "<thead>\n",
       "\t<tr><th scope=col>EVOLUCAO</th><th scope=col>n</th></tr>\n",
       "\t<tr><th scope=col>&lt;int&gt;</th><th scope=col>&lt;int&gt;</th></tr>\n",
       "</thead>\n",
       "<tbody>\n",
       "\t<tr><td> 1</td><td>43797</td></tr>\n",
       "\t<tr><td> 2</td><td>   22</td></tr>\n",
       "\t<tr><td> 3</td><td>  100</td></tr>\n",
       "\t<tr><td> 4</td><td>   12</td></tr>\n",
       "\t<tr><td> 9</td><td> 2880</td></tr>\n",
       "\t<tr><td>NA</td><td> 2951</td></tr>\n",
       "</tbody>\n",
       "</table>\n"
      ],
      "text/latex": [
       "A tibble: 6 × 2\n",
       "\\begin{tabular}{ll}\n",
       " EVOLUCAO & n\\\\\n",
       " <int> & <int>\\\\\n",
       "\\hline\n",
       "\t  1 & 43797\\\\\n",
       "\t  2 &    22\\\\\n",
       "\t  3 &   100\\\\\n",
       "\t  4 &    12\\\\\n",
       "\t  9 &  2880\\\\\n",
       "\t NA &  2951\\\\\n",
       "\\end{tabular}\n"
      ],
      "text/markdown": [
       "\n",
       "A tibble: 6 × 2\n",
       "\n",
       "| EVOLUCAO &lt;int&gt; | n &lt;int&gt; |\n",
       "|---|---|\n",
       "|  1 | 43797 |\n",
       "|  2 |    22 |\n",
       "|  3 |   100 |\n",
       "|  4 |    12 |\n",
       "|  9 |  2880 |\n",
       "| NA |  2951 |\n",
       "\n"
      ],
      "text/plain": [
       "  EVOLUCAO n    \n",
       "1  1       43797\n",
       "2  2          22\n",
       "3  3         100\n",
       "4  4          12\n",
       "5  9        2880\n",
       "6 NA        2951"
      ]
     },
     "metadata": {},
     "output_type": "display_data"
    },
    {
     "data": {
      "text/html": [
       "<table class=\"dataframe\">\n",
       "<caption>A tibble: 4 × 2</caption>\n",
       "<thead>\n",
       "\t<tr><th scope=col>HOSPITALIZ</th><th scope=col>n</th></tr>\n",
       "\t<tr><th scope=col>&lt;int&gt;</th><th scope=col>&lt;int&gt;</th></tr>\n",
       "</thead>\n",
       "<tbody>\n",
       "\t<tr><td> 1</td><td> 1785</td></tr>\n",
       "\t<tr><td> 2</td><td>31913</td></tr>\n",
       "\t<tr><td> 9</td><td>  969</td></tr>\n",
       "\t<tr><td>NA</td><td>15095</td></tr>\n",
       "</tbody>\n",
       "</table>\n"
      ],
      "text/latex": [
       "A tibble: 4 × 2\n",
       "\\begin{tabular}{ll}\n",
       " HOSPITALIZ & n\\\\\n",
       " <int> & <int>\\\\\n",
       "\\hline\n",
       "\t  1 &  1785\\\\\n",
       "\t  2 & 31913\\\\\n",
       "\t  9 &   969\\\\\n",
       "\t NA & 15095\\\\\n",
       "\\end{tabular}\n"
      ],
      "text/markdown": [
       "\n",
       "A tibble: 4 × 2\n",
       "\n",
       "| HOSPITALIZ &lt;int&gt; | n &lt;int&gt; |\n",
       "|---|---|\n",
       "|  1 |  1785 |\n",
       "|  2 | 31913 |\n",
       "|  9 |   969 |\n",
       "| NA | 15095 |\n",
       "\n"
      ],
      "text/plain": [
       "  HOSPITALIZ n    \n",
       "1  1          1785\n",
       "2  2         31913\n",
       "3  9           969\n",
       "4 NA         15095"
      ]
     },
     "metadata": {},
     "output_type": "display_data"
    },
    {
     "data": {
      "text/html": [
       "<style>\n",
       ".list-inline {list-style: none; margin:0; padding: 0}\n",
       ".list-inline>li {display: inline-block}\n",
       ".list-inline>li:not(:last-child)::after {content: \"\\00b7\"; padding: 0 .5ex}\n",
       "</style>\n",
       "<ol class=list-inline><li>49762</li><li>36</li></ol>\n"
      ],
      "text/latex": [
       "\\begin{enumerate*}\n",
       "\\item 49762\n",
       "\\item 36\n",
       "\\end{enumerate*}\n"
      ],
      "text/markdown": [
       "1. 49762\n",
       "2. 36\n",
       "\n",
       "\n"
      ],
      "text/plain": [
       "[1] 49762    36"
      ]
     },
     "metadata": {},
     "output_type": "display_data"
    }
   ],
   "source": [
    "data %>% count(EVOLUCAO)\n",
    "data %>% count(HOSPITALIZ)\n",
    "\n",
    "data %>% dim"
   ]
  },
  {
   "cell_type": "code",
   "execution_count": 40,
   "id": "517a2dbb",
   "metadata": {},
   "outputs": [
    {
     "data": {
      "text/html": [
       "42"
      ],
      "text/latex": [
       "42"
      ],
      "text/markdown": [
       "42"
      ],
      "text/plain": [
       "[1] 42"
      ]
     },
     "metadata": {},
     "output_type": "display_data"
    }
   ],
   "source": [
    "# check the presence of na's inside the columns of symptoms and comorbities\n",
    "sum(is.na(data %>% select(FEBRE:AUTO_IMUNE)))"
   ]
  },
  {
   "cell_type": "code",
   "execution_count": 41,
   "id": "f15420f0",
   "metadata": {},
   "outputs": [
    {
     "data": {
      "text/html": [
       "0"
      ],
      "text/latex": [
       "0"
      ],
      "text/markdown": [
       "0"
      ],
      "text/plain": [
       "[1] 0"
      ]
     },
     "metadata": {},
     "output_type": "display_data"
    }
   ],
   "source": [
    "data %>% filter(!is.na(FEBRE)) -> teste\n",
    "sum(is.na(teste %>% select(FEBRE:AUTO_IMUNE)))"
   ]
  },
  {
   "cell_type": "code",
   "execution_count": 42,
   "id": "6d4071b1",
   "metadata": {},
   "outputs": [
    {
     "data": {
      "text/html": [
       "<style>\n",
       ".list-inline {list-style: none; margin:0; padding: 0}\n",
       ".list-inline>li {display: inline-block}\n",
       ".list-inline>li:not(:last-child)::after {content: \"\\00b7\"; padding: 0 .5ex}\n",
       "</style>\n",
       "<ol class=list-inline><li>49760</li><li>36</li></ol>\n"
      ],
      "text/latex": [
       "\\begin{enumerate*}\n",
       "\\item 49760\n",
       "\\item 36\n",
       "\\end{enumerate*}\n"
      ],
      "text/markdown": [
       "1. 49760\n",
       "2. 36\n",
       "\n",
       "\n"
      ],
      "text/plain": [
       "[1] 49760    36"
      ]
     },
     "metadata": {},
     "output_type": "display_data"
    },
    {
     "data": {
      "text/html": [
       "<table class=\"dataframe\">\n",
       "<caption>A tibble: 6 × 2</caption>\n",
       "<thead>\n",
       "\t<tr><th scope=col>EVOLUCAO</th><th scope=col>n</th></tr>\n",
       "\t<tr><th scope=col>&lt;int&gt;</th><th scope=col>&lt;int&gt;</th></tr>\n",
       "</thead>\n",
       "<tbody>\n",
       "\t<tr><td> 1</td><td>43795</td></tr>\n",
       "\t<tr><td> 2</td><td>   22</td></tr>\n",
       "\t<tr><td> 3</td><td>  100</td></tr>\n",
       "\t<tr><td> 4</td><td>   12</td></tr>\n",
       "\t<tr><td> 9</td><td> 2880</td></tr>\n",
       "\t<tr><td>NA</td><td> 2951</td></tr>\n",
       "</tbody>\n",
       "</table>\n"
      ],
      "text/latex": [
       "A tibble: 6 × 2\n",
       "\\begin{tabular}{ll}\n",
       " EVOLUCAO & n\\\\\n",
       " <int> & <int>\\\\\n",
       "\\hline\n",
       "\t  1 & 43795\\\\\n",
       "\t  2 &    22\\\\\n",
       "\t  3 &   100\\\\\n",
       "\t  4 &    12\\\\\n",
       "\t  9 &  2880\\\\\n",
       "\t NA &  2951\\\\\n",
       "\\end{tabular}\n"
      ],
      "text/markdown": [
       "\n",
       "A tibble: 6 × 2\n",
       "\n",
       "| EVOLUCAO &lt;int&gt; | n &lt;int&gt; |\n",
       "|---|---|\n",
       "|  1 | 43795 |\n",
       "|  2 |    22 |\n",
       "|  3 |   100 |\n",
       "|  4 |    12 |\n",
       "|  9 |  2880 |\n",
       "| NA |  2951 |\n",
       "\n"
      ],
      "text/plain": [
       "  EVOLUCAO n    \n",
       "1  1       43795\n",
       "2  2          22\n",
       "3  3         100\n",
       "4  4          12\n",
       "5  9        2880\n",
       "6 NA        2951"
      ]
     },
     "metadata": {},
     "output_type": "display_data"
    },
    {
     "data": {
      "text/html": [
       "<table class=\"dataframe\">\n",
       "<caption>A tibble: 4 × 2</caption>\n",
       "<thead>\n",
       "\t<tr><th scope=col>HOSPITALIZ</th><th scope=col>n</th></tr>\n",
       "\t<tr><th scope=col>&lt;int&gt;</th><th scope=col>&lt;int&gt;</th></tr>\n",
       "</thead>\n",
       "<tbody>\n",
       "\t<tr><td> 1</td><td> 1785</td></tr>\n",
       "\t<tr><td> 2</td><td>31913</td></tr>\n",
       "\t<tr><td> 9</td><td>  969</td></tr>\n",
       "\t<tr><td>NA</td><td>15093</td></tr>\n",
       "</tbody>\n",
       "</table>\n"
      ],
      "text/latex": [
       "A tibble: 4 × 2\n",
       "\\begin{tabular}{ll}\n",
       " HOSPITALIZ & n\\\\\n",
       " <int> & <int>\\\\\n",
       "\\hline\n",
       "\t  1 &  1785\\\\\n",
       "\t  2 & 31913\\\\\n",
       "\t  9 &   969\\\\\n",
       "\t NA & 15093\\\\\n",
       "\\end{tabular}\n"
      ],
      "text/markdown": [
       "\n",
       "A tibble: 4 × 2\n",
       "\n",
       "| HOSPITALIZ &lt;int&gt; | n &lt;int&gt; |\n",
       "|---|---|\n",
       "|  1 |  1785 |\n",
       "|  2 | 31913 |\n",
       "|  9 |   969 |\n",
       "| NA | 15093 |\n",
       "\n"
      ],
      "text/plain": [
       "  HOSPITALIZ n    \n",
       "1  1          1785\n",
       "2  2         31913\n",
       "3  9           969\n",
       "4 NA         15093"
      ]
     },
     "metadata": {},
     "output_type": "display_data"
    }
   ],
   "source": [
    "data %>% filter(!is.na(FEBRE)) -> data\n",
    "\n",
    "data %>% dim\n",
    "data %>% count(EVOLUCAO)\n",
    "data %>% count(HOSPITALIZ)"
   ]
  },
  {
   "cell_type": "code",
   "execution_count": 43,
   "id": "a8c0bd5e",
   "metadata": {},
   "outputs": [
    {
     "data": {
      "text/html": [
       "<table class=\"dataframe\">\n",
       "<caption>A tibble: 6 × 22</caption>\n",
       "<thead>\n",
       "\t<tr><th scope=col>FEBRE</th><th scope=col>MIALGIA</th><th scope=col>CEFALEIA</th><th scope=col>EXANTEMA</th><th scope=col>VOMITO</th><th scope=col>NAUSEA</th><th scope=col>DOR_COSTAS</th><th scope=col>CONJUNTVIT</th><th scope=col>ARTRITE</th><th scope=col>ARTRALGIA</th><th scope=col>⋯</th><th scope=col>LACO</th><th scope=col>DOR_RETRO</th><th scope=col>DIABETES</th><th scope=col>HEMATOLOG</th><th scope=col>HEPATOPAT</th><th scope=col>RENAL</th><th scope=col>HIPERTENSA</th><th scope=col>ACIDO_PEPT</th><th scope=col>AUTO_IMUNE</th><th scope=col>HOSPITALIZ</th></tr>\n",
       "\t<tr><th scope=col>&lt;int&gt;</th><th scope=col>&lt;int&gt;</th><th scope=col>&lt;int&gt;</th><th scope=col>&lt;int&gt;</th><th scope=col>&lt;int&gt;</th><th scope=col>&lt;int&gt;</th><th scope=col>&lt;int&gt;</th><th scope=col>&lt;int&gt;</th><th scope=col>&lt;int&gt;</th><th scope=col>&lt;int&gt;</th><th scope=col>⋯</th><th scope=col>&lt;int&gt;</th><th scope=col>&lt;int&gt;</th><th scope=col>&lt;int&gt;</th><th scope=col>&lt;int&gt;</th><th scope=col>&lt;int&gt;</th><th scope=col>&lt;int&gt;</th><th scope=col>&lt;int&gt;</th><th scope=col>&lt;int&gt;</th><th scope=col>&lt;int&gt;</th><th scope=col>&lt;int&gt;</th></tr>\n",
       "</thead>\n",
       "<tbody>\n",
       "\t<tr><td>1</td><td>1</td><td>1</td><td>2</td><td>2</td><td>2</td><td>1</td><td>2</td><td>2</td><td>2</td><td>⋯</td><td>1</td><td>2</td><td>2</td><td>2</td><td>2</td><td>2</td><td>2</td><td>2</td><td>2</td><td> 2</td></tr>\n",
       "\t<tr><td>2</td><td>2</td><td>2</td><td>2</td><td>2</td><td>2</td><td>2</td><td>2</td><td>2</td><td>2</td><td>⋯</td><td>2</td><td>2</td><td>2</td><td>2</td><td>2</td><td>2</td><td>2</td><td>2</td><td>2</td><td> 2</td></tr>\n",
       "\t<tr><td>1</td><td>1</td><td>1</td><td>1</td><td>1</td><td>2</td><td>2</td><td>2</td><td>2</td><td>2</td><td>⋯</td><td>2</td><td>2</td><td>2</td><td>2</td><td>2</td><td>2</td><td>2</td><td>2</td><td>2</td><td>NA</td></tr>\n",
       "\t<tr><td>2</td><td>2</td><td>2</td><td>2</td><td>2</td><td>2</td><td>2</td><td>2</td><td>2</td><td>2</td><td>⋯</td><td>2</td><td>2</td><td>2</td><td>2</td><td>2</td><td>2</td><td>2</td><td>2</td><td>2</td><td> 2</td></tr>\n",
       "\t<tr><td>2</td><td>2</td><td>2</td><td>2</td><td>2</td><td>2</td><td>2</td><td>2</td><td>2</td><td>2</td><td>⋯</td><td>2</td><td>2</td><td>2</td><td>2</td><td>2</td><td>2</td><td>2</td><td>2</td><td>2</td><td> 2</td></tr>\n",
       "\t<tr><td>1</td><td>1</td><td>1</td><td>2</td><td>2</td><td>2</td><td>1</td><td>2</td><td>2</td><td>2</td><td>⋯</td><td>2</td><td>2</td><td>2</td><td>2</td><td>2</td><td>2</td><td>2</td><td>2</td><td>2</td><td> 2</td></tr>\n",
       "</tbody>\n",
       "</table>\n"
      ],
      "text/latex": [
       "A tibble: 6 × 22\n",
       "\\begin{tabular}{lllllllllllllllllllll}\n",
       " FEBRE & MIALGIA & CEFALEIA & EXANTEMA & VOMITO & NAUSEA & DOR\\_COSTAS & CONJUNTVIT & ARTRITE & ARTRALGIA & ⋯ & LACO & DOR\\_RETRO & DIABETES & HEMATOLOG & HEPATOPAT & RENAL & HIPERTENSA & ACIDO\\_PEPT & AUTO\\_IMUNE & HOSPITALIZ\\\\\n",
       " <int> & <int> & <int> & <int> & <int> & <int> & <int> & <int> & <int> & <int> & ⋯ & <int> & <int> & <int> & <int> & <int> & <int> & <int> & <int> & <int> & <int>\\\\\n",
       "\\hline\n",
       "\t 1 & 1 & 1 & 2 & 2 & 2 & 1 & 2 & 2 & 2 & ⋯ & 1 & 2 & 2 & 2 & 2 & 2 & 2 & 2 & 2 &  2\\\\\n",
       "\t 2 & 2 & 2 & 2 & 2 & 2 & 2 & 2 & 2 & 2 & ⋯ & 2 & 2 & 2 & 2 & 2 & 2 & 2 & 2 & 2 &  2\\\\\n",
       "\t 1 & 1 & 1 & 1 & 1 & 2 & 2 & 2 & 2 & 2 & ⋯ & 2 & 2 & 2 & 2 & 2 & 2 & 2 & 2 & 2 & NA\\\\\n",
       "\t 2 & 2 & 2 & 2 & 2 & 2 & 2 & 2 & 2 & 2 & ⋯ & 2 & 2 & 2 & 2 & 2 & 2 & 2 & 2 & 2 &  2\\\\\n",
       "\t 2 & 2 & 2 & 2 & 2 & 2 & 2 & 2 & 2 & 2 & ⋯ & 2 & 2 & 2 & 2 & 2 & 2 & 2 & 2 & 2 &  2\\\\\n",
       "\t 1 & 1 & 1 & 2 & 2 & 2 & 1 & 2 & 2 & 2 & ⋯ & 2 & 2 & 2 & 2 & 2 & 2 & 2 & 2 & 2 &  2\\\\\n",
       "\\end{tabular}\n"
      ],
      "text/markdown": [
       "\n",
       "A tibble: 6 × 22\n",
       "\n",
       "| FEBRE &lt;int&gt; | MIALGIA &lt;int&gt; | CEFALEIA &lt;int&gt; | EXANTEMA &lt;int&gt; | VOMITO &lt;int&gt; | NAUSEA &lt;int&gt; | DOR_COSTAS &lt;int&gt; | CONJUNTVIT &lt;int&gt; | ARTRITE &lt;int&gt; | ARTRALGIA &lt;int&gt; | ⋯ ⋯ | LACO &lt;int&gt; | DOR_RETRO &lt;int&gt; | DIABETES &lt;int&gt; | HEMATOLOG &lt;int&gt; | HEPATOPAT &lt;int&gt; | RENAL &lt;int&gt; | HIPERTENSA &lt;int&gt; | ACIDO_PEPT &lt;int&gt; | AUTO_IMUNE &lt;int&gt; | HOSPITALIZ &lt;int&gt; |\n",
       "|---|---|---|---|---|---|---|---|---|---|---|---|---|---|---|---|---|---|---|---|---|\n",
       "| 1 | 1 | 1 | 2 | 2 | 2 | 1 | 2 | 2 | 2 | ⋯ | 1 | 2 | 2 | 2 | 2 | 2 | 2 | 2 | 2 |  2 |\n",
       "| 2 | 2 | 2 | 2 | 2 | 2 | 2 | 2 | 2 | 2 | ⋯ | 2 | 2 | 2 | 2 | 2 | 2 | 2 | 2 | 2 |  2 |\n",
       "| 1 | 1 | 1 | 1 | 1 | 2 | 2 | 2 | 2 | 2 | ⋯ | 2 | 2 | 2 | 2 | 2 | 2 | 2 | 2 | 2 | NA |\n",
       "| 2 | 2 | 2 | 2 | 2 | 2 | 2 | 2 | 2 | 2 | ⋯ | 2 | 2 | 2 | 2 | 2 | 2 | 2 | 2 | 2 |  2 |\n",
       "| 2 | 2 | 2 | 2 | 2 | 2 | 2 | 2 | 2 | 2 | ⋯ | 2 | 2 | 2 | 2 | 2 | 2 | 2 | 2 | 2 |  2 |\n",
       "| 1 | 1 | 1 | 2 | 2 | 2 | 1 | 2 | 2 | 2 | ⋯ | 2 | 2 | 2 | 2 | 2 | 2 | 2 | 2 | 2 |  2 |\n",
       "\n"
      ],
      "text/plain": [
       "  FEBRE MIALGIA CEFALEIA EXANTEMA VOMITO NAUSEA DOR_COSTAS CONJUNTVIT ARTRITE\n",
       "1 1     1       1        2        2      2      1          2          2      \n",
       "2 2     2       2        2        2      2      2          2          2      \n",
       "3 1     1       1        1        1      2      2          2          2      \n",
       "4 2     2       2        2        2      2      2          2          2      \n",
       "5 2     2       2        2        2      2      2          2          2      \n",
       "6 1     1       1        2        2      2      1          2          2      \n",
       "  ARTRALGIA ⋯ LACO DOR_RETRO DIABETES HEMATOLOG HEPATOPAT RENAL HIPERTENSA\n",
       "1 2         ⋯ 1    2         2        2         2         2     2         \n",
       "2 2         ⋯ 2    2         2        2         2         2     2         \n",
       "3 2         ⋯ 2    2         2        2         2         2     2         \n",
       "4 2         ⋯ 2    2         2        2         2         2     2         \n",
       "5 2         ⋯ 2    2         2        2         2         2     2         \n",
       "6 2         ⋯ 2    2         2        2         2         2     2         \n",
       "  ACIDO_PEPT AUTO_IMUNE HOSPITALIZ\n",
       "1 2          2           2        \n",
       "2 2          2           2        \n",
       "3 2          2          NA        \n",
       "4 2          2           2        \n",
       "5 2          2           2        \n",
       "6 2          2           2        "
      ]
     },
     "metadata": {},
     "output_type": "display_data"
    },
    {
     "data": {
      "text/html": [
       "<table class=\"dataframe\">\n",
       "<caption>A tibble: 6 × 22</caption>\n",
       "<thead>\n",
       "\t<tr><th scope=col>FEBRE</th><th scope=col>MIALGIA</th><th scope=col>CEFALEIA</th><th scope=col>EXANTEMA</th><th scope=col>VOMITO</th><th scope=col>NAUSEA</th><th scope=col>DOR_COSTAS</th><th scope=col>CONJUNTVIT</th><th scope=col>ARTRITE</th><th scope=col>ARTRALGIA</th><th scope=col>⋯</th><th scope=col>LACO</th><th scope=col>DOR_RETRO</th><th scope=col>DIABETES</th><th scope=col>HEMATOLOG</th><th scope=col>HEPATOPAT</th><th scope=col>RENAL</th><th scope=col>HIPERTENSA</th><th scope=col>ACIDO_PEPT</th><th scope=col>AUTO_IMUNE</th><th scope=col>HOSPITALIZ</th></tr>\n",
       "\t<tr><th scope=col>&lt;dbl&gt;</th><th scope=col>&lt;dbl&gt;</th><th scope=col>&lt;dbl&gt;</th><th scope=col>&lt;dbl&gt;</th><th scope=col>&lt;dbl&gt;</th><th scope=col>&lt;dbl&gt;</th><th scope=col>&lt;dbl&gt;</th><th scope=col>&lt;dbl&gt;</th><th scope=col>&lt;dbl&gt;</th><th scope=col>&lt;dbl&gt;</th><th scope=col>⋯</th><th scope=col>&lt;dbl&gt;</th><th scope=col>&lt;dbl&gt;</th><th scope=col>&lt;dbl&gt;</th><th scope=col>&lt;dbl&gt;</th><th scope=col>&lt;dbl&gt;</th><th scope=col>&lt;dbl&gt;</th><th scope=col>&lt;dbl&gt;</th><th scope=col>&lt;dbl&gt;</th><th scope=col>&lt;dbl&gt;</th><th scope=col>&lt;dbl&gt;</th></tr>\n",
       "</thead>\n",
       "<tbody>\n",
       "\t<tr><td>1</td><td>1</td><td>1</td><td>0</td><td>0</td><td>0</td><td>1</td><td>0</td><td>0</td><td>0</td><td>⋯</td><td>1</td><td>0</td><td>0</td><td>0</td><td>0</td><td>0</td><td>0</td><td>0</td><td>0</td><td> 0</td></tr>\n",
       "\t<tr><td>0</td><td>0</td><td>0</td><td>0</td><td>0</td><td>0</td><td>0</td><td>0</td><td>0</td><td>0</td><td>⋯</td><td>0</td><td>0</td><td>0</td><td>0</td><td>0</td><td>0</td><td>0</td><td>0</td><td>0</td><td> 0</td></tr>\n",
       "\t<tr><td>1</td><td>1</td><td>1</td><td>1</td><td>1</td><td>0</td><td>0</td><td>0</td><td>0</td><td>0</td><td>⋯</td><td>0</td><td>0</td><td>0</td><td>0</td><td>0</td><td>0</td><td>0</td><td>0</td><td>0</td><td>NA</td></tr>\n",
       "\t<tr><td>0</td><td>0</td><td>0</td><td>0</td><td>0</td><td>0</td><td>0</td><td>0</td><td>0</td><td>0</td><td>⋯</td><td>0</td><td>0</td><td>0</td><td>0</td><td>0</td><td>0</td><td>0</td><td>0</td><td>0</td><td> 0</td></tr>\n",
       "\t<tr><td>0</td><td>0</td><td>0</td><td>0</td><td>0</td><td>0</td><td>0</td><td>0</td><td>0</td><td>0</td><td>⋯</td><td>0</td><td>0</td><td>0</td><td>0</td><td>0</td><td>0</td><td>0</td><td>0</td><td>0</td><td> 0</td></tr>\n",
       "\t<tr><td>1</td><td>1</td><td>1</td><td>0</td><td>0</td><td>0</td><td>1</td><td>0</td><td>0</td><td>0</td><td>⋯</td><td>0</td><td>0</td><td>0</td><td>0</td><td>0</td><td>0</td><td>0</td><td>0</td><td>0</td><td> 0</td></tr>\n",
       "</tbody>\n",
       "</table>\n"
      ],
      "text/latex": [
       "A tibble: 6 × 22\n",
       "\\begin{tabular}{lllllllllllllllllllll}\n",
       " FEBRE & MIALGIA & CEFALEIA & EXANTEMA & VOMITO & NAUSEA & DOR\\_COSTAS & CONJUNTVIT & ARTRITE & ARTRALGIA & ⋯ & LACO & DOR\\_RETRO & DIABETES & HEMATOLOG & HEPATOPAT & RENAL & HIPERTENSA & ACIDO\\_PEPT & AUTO\\_IMUNE & HOSPITALIZ\\\\\n",
       " <dbl> & <dbl> & <dbl> & <dbl> & <dbl> & <dbl> & <dbl> & <dbl> & <dbl> & <dbl> & ⋯ & <dbl> & <dbl> & <dbl> & <dbl> & <dbl> & <dbl> & <dbl> & <dbl> & <dbl> & <dbl>\\\\\n",
       "\\hline\n",
       "\t 1 & 1 & 1 & 0 & 0 & 0 & 1 & 0 & 0 & 0 & ⋯ & 1 & 0 & 0 & 0 & 0 & 0 & 0 & 0 & 0 &  0\\\\\n",
       "\t 0 & 0 & 0 & 0 & 0 & 0 & 0 & 0 & 0 & 0 & ⋯ & 0 & 0 & 0 & 0 & 0 & 0 & 0 & 0 & 0 &  0\\\\\n",
       "\t 1 & 1 & 1 & 1 & 1 & 0 & 0 & 0 & 0 & 0 & ⋯ & 0 & 0 & 0 & 0 & 0 & 0 & 0 & 0 & 0 & NA\\\\\n",
       "\t 0 & 0 & 0 & 0 & 0 & 0 & 0 & 0 & 0 & 0 & ⋯ & 0 & 0 & 0 & 0 & 0 & 0 & 0 & 0 & 0 &  0\\\\\n",
       "\t 0 & 0 & 0 & 0 & 0 & 0 & 0 & 0 & 0 & 0 & ⋯ & 0 & 0 & 0 & 0 & 0 & 0 & 0 & 0 & 0 &  0\\\\\n",
       "\t 1 & 1 & 1 & 0 & 0 & 0 & 1 & 0 & 0 & 0 & ⋯ & 0 & 0 & 0 & 0 & 0 & 0 & 0 & 0 & 0 &  0\\\\\n",
       "\\end{tabular}\n"
      ],
      "text/markdown": [
       "\n",
       "A tibble: 6 × 22\n",
       "\n",
       "| FEBRE &lt;dbl&gt; | MIALGIA &lt;dbl&gt; | CEFALEIA &lt;dbl&gt; | EXANTEMA &lt;dbl&gt; | VOMITO &lt;dbl&gt; | NAUSEA &lt;dbl&gt; | DOR_COSTAS &lt;dbl&gt; | CONJUNTVIT &lt;dbl&gt; | ARTRITE &lt;dbl&gt; | ARTRALGIA &lt;dbl&gt; | ⋯ ⋯ | LACO &lt;dbl&gt; | DOR_RETRO &lt;dbl&gt; | DIABETES &lt;dbl&gt; | HEMATOLOG &lt;dbl&gt; | HEPATOPAT &lt;dbl&gt; | RENAL &lt;dbl&gt; | HIPERTENSA &lt;dbl&gt; | ACIDO_PEPT &lt;dbl&gt; | AUTO_IMUNE &lt;dbl&gt; | HOSPITALIZ &lt;dbl&gt; |\n",
       "|---|---|---|---|---|---|---|---|---|---|---|---|---|---|---|---|---|---|---|---|---|\n",
       "| 1 | 1 | 1 | 0 | 0 | 0 | 1 | 0 | 0 | 0 | ⋯ | 1 | 0 | 0 | 0 | 0 | 0 | 0 | 0 | 0 |  0 |\n",
       "| 0 | 0 | 0 | 0 | 0 | 0 | 0 | 0 | 0 | 0 | ⋯ | 0 | 0 | 0 | 0 | 0 | 0 | 0 | 0 | 0 |  0 |\n",
       "| 1 | 1 | 1 | 1 | 1 | 0 | 0 | 0 | 0 | 0 | ⋯ | 0 | 0 | 0 | 0 | 0 | 0 | 0 | 0 | 0 | NA |\n",
       "| 0 | 0 | 0 | 0 | 0 | 0 | 0 | 0 | 0 | 0 | ⋯ | 0 | 0 | 0 | 0 | 0 | 0 | 0 | 0 | 0 |  0 |\n",
       "| 0 | 0 | 0 | 0 | 0 | 0 | 0 | 0 | 0 | 0 | ⋯ | 0 | 0 | 0 | 0 | 0 | 0 | 0 | 0 | 0 |  0 |\n",
       "| 1 | 1 | 1 | 0 | 0 | 0 | 1 | 0 | 0 | 0 | ⋯ | 0 | 0 | 0 | 0 | 0 | 0 | 0 | 0 | 0 |  0 |\n",
       "\n"
      ],
      "text/plain": [
       "  FEBRE MIALGIA CEFALEIA EXANTEMA VOMITO NAUSEA DOR_COSTAS CONJUNTVIT ARTRITE\n",
       "1 1     1       1        0        0      0      1          0          0      \n",
       "2 0     0       0        0        0      0      0          0          0      \n",
       "3 1     1       1        1        1      0      0          0          0      \n",
       "4 0     0       0        0        0      0      0          0          0      \n",
       "5 0     0       0        0        0      0      0          0          0      \n",
       "6 1     1       1        0        0      0      1          0          0      \n",
       "  ARTRALGIA ⋯ LACO DOR_RETRO DIABETES HEMATOLOG HEPATOPAT RENAL HIPERTENSA\n",
       "1 0         ⋯ 1    0         0        0         0         0     0         \n",
       "2 0         ⋯ 0    0         0        0         0         0     0         \n",
       "3 0         ⋯ 0    0         0        0         0         0     0         \n",
       "4 0         ⋯ 0    0         0        0         0         0     0         \n",
       "5 0         ⋯ 0    0         0        0         0         0     0         \n",
       "6 0         ⋯ 0    0         0        0         0         0     0         \n",
       "  ACIDO_PEPT AUTO_IMUNE HOSPITALIZ\n",
       "1 0          0           0        \n",
       "2 0          0           0        \n",
       "3 0          0          NA        \n",
       "4 0          0           0        \n",
       "5 0          0           0        \n",
       "6 0          0           0        "
      ]
     },
     "metadata": {},
     "output_type": "display_data"
    }
   ],
   "source": [
    "# the value 2 means the non-occurrence of a symptom, change this to 0\n",
    "\n",
    "data %>% select(FEBRE:AUTO_IMUNE, HOSPITALIZ) -> symptoms\n",
    "data %>% select(!(FEBRE:AUTO_IMUNE)) %>% select(-c(HOSPITALIZ)) -> others\n",
    "\n",
    "symptoms %>% head\n",
    "\n",
    "symptoms <- symptoms %>%\n",
    "  mutate_all(~ ifelse(. == 2, 0, .))\n",
    "\n",
    "symptoms %>% head\n",
    "\n",
    "symptoms %>% cbind(others) -> data"
   ]
  },
  {
   "cell_type": "code",
   "execution_count": 44,
   "id": "bfd1cb11",
   "metadata": {},
   "outputs": [],
   "source": [
    "data$EVOLUCAO[data$EVOLUCAO == 1] <- 0\n",
    "data$EVOLUCAO[data$EVOLUCAO == 2] <- 1"
   ]
  },
  {
   "cell_type": "code",
   "execution_count": 45,
   "id": "47c75d97",
   "metadata": {},
   "outputs": [],
   "source": [
    "# only patients in the acute stage \n",
    "\n",
    "data %>% filter(CLINC_CHIK == 1) -> data\n",
    "data %>% select(-CLINC_CHIK) -> data"
   ]
  },
  {
   "cell_type": "code",
   "execution_count": 46,
   "id": "3cb388c3",
   "metadata": {},
   "outputs": [
    {
     "data": {
      "text/html": [
       "<table class=\"dataframe\">\n",
       "<caption>A data.frame: 1 × 1</caption>\n",
       "<thead>\n",
       "\t<tr><th scope=col>DT_SIN_PRI</th></tr>\n",
       "\t<tr><th scope=col>&lt;date&gt;</th></tr>\n",
       "</thead>\n",
       "<tbody>\n",
       "\t<tr><td>1968-12-30</td></tr>\n",
       "</tbody>\n",
       "</table>\n"
      ],
      "text/latex": [
       "A data.frame: 1 × 1\n",
       "\\begin{tabular}{l}\n",
       " DT\\_SIN\\_PRI\\\\\n",
       " <date>\\\\\n",
       "\\hline\n",
       "\t 1968-12-30\\\\\n",
       "\\end{tabular}\n"
      ],
      "text/markdown": [
       "\n",
       "A data.frame: 1 × 1\n",
       "\n",
       "| DT_SIN_PRI &lt;date&gt; |\n",
       "|---|\n",
       "| 1968-12-30 |\n",
       "\n"
      ],
      "text/plain": [
       "  DT_SIN_PRI\n",
       "1 1968-12-30"
      ]
     },
     "metadata": {},
     "output_type": "display_data"
    },
    {
     "data": {
      "text/html": [
       "<table class=\"dataframe\">\n",
       "<caption>A data.frame: 1 × 1</caption>\n",
       "<thead>\n",
       "\t<tr><th scope=col>DT_SIN_PRI</th></tr>\n",
       "\t<tr><th scope=col>&lt;date&gt;</th></tr>\n",
       "</thead>\n",
       "<tbody>\n",
       "\t<tr><td>2021-01-02</td></tr>\n",
       "</tbody>\n",
       "</table>\n"
      ],
      "text/latex": [
       "A data.frame: 1 × 1\n",
       "\\begin{tabular}{l}\n",
       " DT\\_SIN\\_PRI\\\\\n",
       " <date>\\\\\n",
       "\\hline\n",
       "\t 2021-01-02\\\\\n",
       "\\end{tabular}\n"
      ],
      "text/markdown": [
       "\n",
       "A data.frame: 1 × 1\n",
       "\n",
       "| DT_SIN_PRI &lt;date&gt; |\n",
       "|---|\n",
       "| 2021-01-02 |\n",
       "\n"
      ],
      "text/plain": [
       "  DT_SIN_PRI\n",
       "1 2021-01-02"
      ]
     },
     "metadata": {},
     "output_type": "display_data"
    }
   ],
   "source": [
    "# date of the first symptoms \n",
    "\n",
    "# change format\n",
    "data$DT_SIN_PRI <- as.Date(data$DT_SIN_PRI)\n",
    "\n",
    "# first and last date\n",
    "data %>% select(DT_SIN_PRI) %>% arrange(DT_SIN_PRI) %>% slice(1)\n",
    "data %>% select(DT_SIN_PRI) %>% arrange(desc(DT_SIN_PRI)) %>% slice(1)"
   ]
  },
  {
   "cell_type": "code",
   "execution_count": 47,
   "id": "bc2b8e5b",
   "metadata": {},
   "outputs": [
    {
     "data": {
      "text/html": [
       "<table class=\"dataframe\">\n",
       "<caption>A data.frame: 127 × 2</caption>\n",
       "<thead>\n",
       "\t<tr><th scope=col>SEM_PRI</th><th scope=col>n</th></tr>\n",
       "\t<tr><th scope=col>&lt;int&gt;</th><th scope=col>&lt;int&gt;</th></tr>\n",
       "</thead>\n",
       "<tbody>\n",
       "\t<tr><td>196901</td><td>1</td></tr>\n",
       "\t<tr><td>197201</td><td>1</td></tr>\n",
       "\t<tr><td>199248</td><td>1</td></tr>\n",
       "\t<tr><td>200552</td><td>1</td></tr>\n",
       "\t<tr><td>201307</td><td>1</td></tr>\n",
       "\t<tr><td>201518</td><td>1</td></tr>\n",
       "\t<tr><td>201524</td><td>1</td></tr>\n",
       "\t<tr><td>201532</td><td>1</td></tr>\n",
       "\t<tr><td>201548</td><td>1</td></tr>\n",
       "\t<tr><td>201602</td><td>2</td></tr>\n",
       "\t<tr><td>201603</td><td>1</td></tr>\n",
       "\t<tr><td>201605</td><td>1</td></tr>\n",
       "\t<tr><td>201617</td><td>1</td></tr>\n",
       "\t<tr><td>201701</td><td>1</td></tr>\n",
       "\t<tr><td>201709</td><td>2</td></tr>\n",
       "\t<tr><td>201719</td><td>1</td></tr>\n",
       "\t<tr><td>201747</td><td>1</td></tr>\n",
       "\t<tr><td>201809</td><td>1</td></tr>\n",
       "\t<tr><td>201816</td><td>1</td></tr>\n",
       "\t<tr><td>201826</td><td>1</td></tr>\n",
       "\t<tr><td>201827</td><td>1</td></tr>\n",
       "\t<tr><td>201828</td><td>1</td></tr>\n",
       "\t<tr><td>201838</td><td>1</td></tr>\n",
       "\t<tr><td>201850</td><td>1</td></tr>\n",
       "\t<tr><td>201901</td><td>8</td></tr>\n",
       "\t<tr><td>201902</td><td>3</td></tr>\n",
       "\t<tr><td>201903</td><td>4</td></tr>\n",
       "\t<tr><td>201904</td><td>1</td></tr>\n",
       "\t<tr><td>201905</td><td>3</td></tr>\n",
       "\t<tr><td>201908</td><td>1</td></tr>\n",
       "\t<tr><td>⋮</td><td>⋮</td></tr>\n",
       "\t<tr><td>202024</td><td>1130</td></tr>\n",
       "\t<tr><td>202025</td><td>1051</td></tr>\n",
       "\t<tr><td>202026</td><td> 982</td></tr>\n",
       "\t<tr><td>202027</td><td>1226</td></tr>\n",
       "\t<tr><td>202028</td><td>1122</td></tr>\n",
       "\t<tr><td>202029</td><td> 964</td></tr>\n",
       "\t<tr><td>202030</td><td> 888</td></tr>\n",
       "\t<tr><td>202031</td><td> 690</td></tr>\n",
       "\t<tr><td>202032</td><td> 624</td></tr>\n",
       "\t<tr><td>202033</td><td> 588</td></tr>\n",
       "\t<tr><td>202034</td><td> 466</td></tr>\n",
       "\t<tr><td>202035</td><td> 426</td></tr>\n",
       "\t<tr><td>202036</td><td> 401</td></tr>\n",
       "\t<tr><td>202037</td><td> 361</td></tr>\n",
       "\t<tr><td>202038</td><td> 329</td></tr>\n",
       "\t<tr><td>202039</td><td> 326</td></tr>\n",
       "\t<tr><td>202040</td><td> 317</td></tr>\n",
       "\t<tr><td>202041</td><td> 264</td></tr>\n",
       "\t<tr><td>202042</td><td> 256</td></tr>\n",
       "\t<tr><td>202043</td><td> 267</td></tr>\n",
       "\t<tr><td>202044</td><td> 229</td></tr>\n",
       "\t<tr><td>202045</td><td> 244</td></tr>\n",
       "\t<tr><td>202046</td><td> 212</td></tr>\n",
       "\t<tr><td>202047</td><td> 228</td></tr>\n",
       "\t<tr><td>202048</td><td> 250</td></tr>\n",
       "\t<tr><td>202049</td><td> 312</td></tr>\n",
       "\t<tr><td>202050</td><td> 273</td></tr>\n",
       "\t<tr><td>202051</td><td> 260</td></tr>\n",
       "\t<tr><td>202052</td><td> 116</td></tr>\n",
       "\t<tr><td>202053</td><td>  57</td></tr>\n",
       "</tbody>\n",
       "</table>\n"
      ],
      "text/latex": [
       "A data.frame: 127 × 2\n",
       "\\begin{tabular}{ll}\n",
       " SEM\\_PRI & n\\\\\n",
       " <int> & <int>\\\\\n",
       "\\hline\n",
       "\t 196901 & 1\\\\\n",
       "\t 197201 & 1\\\\\n",
       "\t 199248 & 1\\\\\n",
       "\t 200552 & 1\\\\\n",
       "\t 201307 & 1\\\\\n",
       "\t 201518 & 1\\\\\n",
       "\t 201524 & 1\\\\\n",
       "\t 201532 & 1\\\\\n",
       "\t 201548 & 1\\\\\n",
       "\t 201602 & 2\\\\\n",
       "\t 201603 & 1\\\\\n",
       "\t 201605 & 1\\\\\n",
       "\t 201617 & 1\\\\\n",
       "\t 201701 & 1\\\\\n",
       "\t 201709 & 2\\\\\n",
       "\t 201719 & 1\\\\\n",
       "\t 201747 & 1\\\\\n",
       "\t 201809 & 1\\\\\n",
       "\t 201816 & 1\\\\\n",
       "\t 201826 & 1\\\\\n",
       "\t 201827 & 1\\\\\n",
       "\t 201828 & 1\\\\\n",
       "\t 201838 & 1\\\\\n",
       "\t 201850 & 1\\\\\n",
       "\t 201901 & 8\\\\\n",
       "\t 201902 & 3\\\\\n",
       "\t 201903 & 4\\\\\n",
       "\t 201904 & 1\\\\\n",
       "\t 201905 & 3\\\\\n",
       "\t 201908 & 1\\\\\n",
       "\t ⋮ & ⋮\\\\\n",
       "\t 202024 & 1130\\\\\n",
       "\t 202025 & 1051\\\\\n",
       "\t 202026 &  982\\\\\n",
       "\t 202027 & 1226\\\\\n",
       "\t 202028 & 1122\\\\\n",
       "\t 202029 &  964\\\\\n",
       "\t 202030 &  888\\\\\n",
       "\t 202031 &  690\\\\\n",
       "\t 202032 &  624\\\\\n",
       "\t 202033 &  588\\\\\n",
       "\t 202034 &  466\\\\\n",
       "\t 202035 &  426\\\\\n",
       "\t 202036 &  401\\\\\n",
       "\t 202037 &  361\\\\\n",
       "\t 202038 &  329\\\\\n",
       "\t 202039 &  326\\\\\n",
       "\t 202040 &  317\\\\\n",
       "\t 202041 &  264\\\\\n",
       "\t 202042 &  256\\\\\n",
       "\t 202043 &  267\\\\\n",
       "\t 202044 &  229\\\\\n",
       "\t 202045 &  244\\\\\n",
       "\t 202046 &  212\\\\\n",
       "\t 202047 &  228\\\\\n",
       "\t 202048 &  250\\\\\n",
       "\t 202049 &  312\\\\\n",
       "\t 202050 &  273\\\\\n",
       "\t 202051 &  260\\\\\n",
       "\t 202052 &  116\\\\\n",
       "\t 202053 &   57\\\\\n",
       "\\end{tabular}\n"
      ],
      "text/markdown": [
       "\n",
       "A data.frame: 127 × 2\n",
       "\n",
       "| SEM_PRI &lt;int&gt; | n &lt;int&gt; |\n",
       "|---|---|\n",
       "| 196901 | 1 |\n",
       "| 197201 | 1 |\n",
       "| 199248 | 1 |\n",
       "| 200552 | 1 |\n",
       "| 201307 | 1 |\n",
       "| 201518 | 1 |\n",
       "| 201524 | 1 |\n",
       "| 201532 | 1 |\n",
       "| 201548 | 1 |\n",
       "| 201602 | 2 |\n",
       "| 201603 | 1 |\n",
       "| 201605 | 1 |\n",
       "| 201617 | 1 |\n",
       "| 201701 | 1 |\n",
       "| 201709 | 2 |\n",
       "| 201719 | 1 |\n",
       "| 201747 | 1 |\n",
       "| 201809 | 1 |\n",
       "| 201816 | 1 |\n",
       "| 201826 | 1 |\n",
       "| 201827 | 1 |\n",
       "| 201828 | 1 |\n",
       "| 201838 | 1 |\n",
       "| 201850 | 1 |\n",
       "| 201901 | 8 |\n",
       "| 201902 | 3 |\n",
       "| 201903 | 4 |\n",
       "| 201904 | 1 |\n",
       "| 201905 | 3 |\n",
       "| 201908 | 1 |\n",
       "| ⋮ | ⋮ |\n",
       "| 202024 | 1130 |\n",
       "| 202025 | 1051 |\n",
       "| 202026 |  982 |\n",
       "| 202027 | 1226 |\n",
       "| 202028 | 1122 |\n",
       "| 202029 |  964 |\n",
       "| 202030 |  888 |\n",
       "| 202031 |  690 |\n",
       "| 202032 |  624 |\n",
       "| 202033 |  588 |\n",
       "| 202034 |  466 |\n",
       "| 202035 |  426 |\n",
       "| 202036 |  401 |\n",
       "| 202037 |  361 |\n",
       "| 202038 |  329 |\n",
       "| 202039 |  326 |\n",
       "| 202040 |  317 |\n",
       "| 202041 |  264 |\n",
       "| 202042 |  256 |\n",
       "| 202043 |  267 |\n",
       "| 202044 |  229 |\n",
       "| 202045 |  244 |\n",
       "| 202046 |  212 |\n",
       "| 202047 |  228 |\n",
       "| 202048 |  250 |\n",
       "| 202049 |  312 |\n",
       "| 202050 |  273 |\n",
       "| 202051 |  260 |\n",
       "| 202052 |  116 |\n",
       "| 202053 |   57 |\n",
       "\n"
      ],
      "text/plain": [
       "    SEM_PRI n   \n",
       "1   196901  1   \n",
       "2   197201  1   \n",
       "3   199248  1   \n",
       "4   200552  1   \n",
       "5   201307  1   \n",
       "6   201518  1   \n",
       "7   201524  1   \n",
       "8   201532  1   \n",
       "9   201548  1   \n",
       "10  201602  2   \n",
       "11  201603  1   \n",
       "12  201605  1   \n",
       "13  201617  1   \n",
       "14  201701  1   \n",
       "15  201709  2   \n",
       "16  201719  1   \n",
       "17  201747  1   \n",
       "18  201809  1   \n",
       "19  201816  1   \n",
       "20  201826  1   \n",
       "21  201827  1   \n",
       "22  201828  1   \n",
       "23  201838  1   \n",
       "24  201850  1   \n",
       "25  201901  8   \n",
       "26  201902  3   \n",
       "27  201903  4   \n",
       "28  201904  1   \n",
       "29  201905  3   \n",
       "30  201908  1   \n",
       "⋮   ⋮       ⋮   \n",
       "98  202024  1130\n",
       "99  202025  1051\n",
       "100 202026   982\n",
       "101 202027  1226\n",
       "102 202028  1122\n",
       "103 202029   964\n",
       "104 202030   888\n",
       "105 202031   690\n",
       "106 202032   624\n",
       "107 202033   588\n",
       "108 202034   466\n",
       "109 202035   426\n",
       "110 202036   401\n",
       "111 202037   361\n",
       "112 202038   329\n",
       "113 202039   326\n",
       "114 202040   317\n",
       "115 202041   264\n",
       "116 202042   256\n",
       "117 202043   267\n",
       "118 202044   229\n",
       "119 202045   244\n",
       "120 202046   212\n",
       "121 202047   228\n",
       "122 202048   250\n",
       "123 202049   312\n",
       "124 202050   273\n",
       "125 202051   260\n",
       "126 202052   116\n",
       "127 202053    57"
      ]
     },
     "metadata": {},
     "output_type": "display_data"
    }
   ],
   "source": [
    "data %>% count(SEM_PRI)"
   ]
  },
  {
   "cell_type": "code",
   "execution_count": 48,
   "id": "aef2ed58",
   "metadata": {},
   "outputs": [
    {
     "data": {
      "text/html": [
       "<style>\n",
       ".list-inline {list-style: none; margin:0; padding: 0}\n",
       ".list-inline>li {display: inline-block}\n",
       ".list-inline>li:not(:last-child)::after {content: \"\\00b7\"; padding: 0 .5ex}\n",
       "</style>\n",
       "<ol class=list-inline><li>36240</li><li>35</li></ol>\n"
      ],
      "text/latex": [
       "\\begin{enumerate*}\n",
       "\\item 36240\n",
       "\\item 35\n",
       "\\end{enumerate*}\n"
      ],
      "text/markdown": [
       "1. 36240\n",
       "2. 35\n",
       "\n",
       "\n"
      ],
      "text/plain": [
       "[1] 36240    35"
      ]
     },
     "metadata": {},
     "output_type": "display_data"
    }
   ],
   "source": [
    "data %>% dim"
   ]
  },
  {
   "cell_type": "code",
   "execution_count": 49,
   "id": "f155078e",
   "metadata": {},
   "outputs": [],
   "source": [
    "data %>% filter(SEM_PRI > 202000) -> data"
   ]
  },
  {
   "cell_type": "code",
   "execution_count": 50,
   "id": "2f93db7b",
   "metadata": {},
   "outputs": [
    {
     "data": {
      "text/html": [
       "<table class=\"dataframe\">\n",
       "<caption>A data.frame: 53 × 2</caption>\n",
       "<thead>\n",
       "\t<tr><th scope=col>SEM_PRI</th><th scope=col>n</th></tr>\n",
       "\t<tr><th scope=col>&lt;dbl&gt;</th><th scope=col>&lt;int&gt;</th></tr>\n",
       "</thead>\n",
       "<tbody>\n",
       "\t<tr><td> 1</td><td> 545</td></tr>\n",
       "\t<tr><td> 2</td><td> 680</td></tr>\n",
       "\t<tr><td> 3</td><td> 758</td></tr>\n",
       "\t<tr><td> 4</td><td> 804</td></tr>\n",
       "\t<tr><td> 5</td><td> 878</td></tr>\n",
       "\t<tr><td> 6</td><td> 830</td></tr>\n",
       "\t<tr><td> 7</td><td> 949</td></tr>\n",
       "\t<tr><td> 8</td><td> 803</td></tr>\n",
       "\t<tr><td> 9</td><td> 749</td></tr>\n",
       "\t<tr><td>10</td><td>1007</td></tr>\n",
       "\t<tr><td>11</td><td> 772</td></tr>\n",
       "\t<tr><td>12</td><td> 606</td></tr>\n",
       "\t<tr><td>13</td><td> 541</td></tr>\n",
       "\t<tr><td>14</td><td> 564</td></tr>\n",
       "\t<tr><td>15</td><td> 747</td></tr>\n",
       "\t<tr><td>16</td><td> 931</td></tr>\n",
       "\t<tr><td>17</td><td>1024</td></tr>\n",
       "\t<tr><td>18</td><td>1081</td></tr>\n",
       "\t<tr><td>19</td><td>1236</td></tr>\n",
       "\t<tr><td>20</td><td>1384</td></tr>\n",
       "\t<tr><td>21</td><td>1261</td></tr>\n",
       "\t<tr><td>22</td><td>1259</td></tr>\n",
       "\t<tr><td>23</td><td>1278</td></tr>\n",
       "\t<tr><td>24</td><td>1130</td></tr>\n",
       "\t<tr><td>25</td><td>1051</td></tr>\n",
       "\t<tr><td>26</td><td> 982</td></tr>\n",
       "\t<tr><td>27</td><td>1226</td></tr>\n",
       "\t<tr><td>28</td><td>1122</td></tr>\n",
       "\t<tr><td>29</td><td> 964</td></tr>\n",
       "\t<tr><td>30</td><td> 888</td></tr>\n",
       "\t<tr><td>31</td><td> 690</td></tr>\n",
       "\t<tr><td>32</td><td> 624</td></tr>\n",
       "\t<tr><td>33</td><td> 588</td></tr>\n",
       "\t<tr><td>34</td><td> 466</td></tr>\n",
       "\t<tr><td>35</td><td> 426</td></tr>\n",
       "\t<tr><td>36</td><td> 401</td></tr>\n",
       "\t<tr><td>37</td><td> 361</td></tr>\n",
       "\t<tr><td>38</td><td> 329</td></tr>\n",
       "\t<tr><td>39</td><td> 326</td></tr>\n",
       "\t<tr><td>40</td><td> 317</td></tr>\n",
       "\t<tr><td>41</td><td> 264</td></tr>\n",
       "\t<tr><td>42</td><td> 256</td></tr>\n",
       "\t<tr><td>43</td><td> 267</td></tr>\n",
       "\t<tr><td>44</td><td> 229</td></tr>\n",
       "\t<tr><td>45</td><td> 244</td></tr>\n",
       "\t<tr><td>46</td><td> 212</td></tr>\n",
       "\t<tr><td>47</td><td> 228</td></tr>\n",
       "\t<tr><td>48</td><td> 250</td></tr>\n",
       "\t<tr><td>49</td><td> 312</td></tr>\n",
       "\t<tr><td>50</td><td> 273</td></tr>\n",
       "\t<tr><td>51</td><td> 260</td></tr>\n",
       "\t<tr><td>52</td><td> 116</td></tr>\n",
       "\t<tr><td>53</td><td>  57</td></tr>\n",
       "</tbody>\n",
       "</table>\n"
      ],
      "text/latex": [
       "A data.frame: 53 × 2\n",
       "\\begin{tabular}{ll}\n",
       " SEM\\_PRI & n\\\\\n",
       " <dbl> & <int>\\\\\n",
       "\\hline\n",
       "\t  1 &  545\\\\\n",
       "\t  2 &  680\\\\\n",
       "\t  3 &  758\\\\\n",
       "\t  4 &  804\\\\\n",
       "\t  5 &  878\\\\\n",
       "\t  6 &  830\\\\\n",
       "\t  7 &  949\\\\\n",
       "\t  8 &  803\\\\\n",
       "\t  9 &  749\\\\\n",
       "\t 10 & 1007\\\\\n",
       "\t 11 &  772\\\\\n",
       "\t 12 &  606\\\\\n",
       "\t 13 &  541\\\\\n",
       "\t 14 &  564\\\\\n",
       "\t 15 &  747\\\\\n",
       "\t 16 &  931\\\\\n",
       "\t 17 & 1024\\\\\n",
       "\t 18 & 1081\\\\\n",
       "\t 19 & 1236\\\\\n",
       "\t 20 & 1384\\\\\n",
       "\t 21 & 1261\\\\\n",
       "\t 22 & 1259\\\\\n",
       "\t 23 & 1278\\\\\n",
       "\t 24 & 1130\\\\\n",
       "\t 25 & 1051\\\\\n",
       "\t 26 &  982\\\\\n",
       "\t 27 & 1226\\\\\n",
       "\t 28 & 1122\\\\\n",
       "\t 29 &  964\\\\\n",
       "\t 30 &  888\\\\\n",
       "\t 31 &  690\\\\\n",
       "\t 32 &  624\\\\\n",
       "\t 33 &  588\\\\\n",
       "\t 34 &  466\\\\\n",
       "\t 35 &  426\\\\\n",
       "\t 36 &  401\\\\\n",
       "\t 37 &  361\\\\\n",
       "\t 38 &  329\\\\\n",
       "\t 39 &  326\\\\\n",
       "\t 40 &  317\\\\\n",
       "\t 41 &  264\\\\\n",
       "\t 42 &  256\\\\\n",
       "\t 43 &  267\\\\\n",
       "\t 44 &  229\\\\\n",
       "\t 45 &  244\\\\\n",
       "\t 46 &  212\\\\\n",
       "\t 47 &  228\\\\\n",
       "\t 48 &  250\\\\\n",
       "\t 49 &  312\\\\\n",
       "\t 50 &  273\\\\\n",
       "\t 51 &  260\\\\\n",
       "\t 52 &  116\\\\\n",
       "\t 53 &   57\\\\\n",
       "\\end{tabular}\n"
      ],
      "text/markdown": [
       "\n",
       "A data.frame: 53 × 2\n",
       "\n",
       "| SEM_PRI &lt;dbl&gt; | n &lt;int&gt; |\n",
       "|---|---|\n",
       "|  1 |  545 |\n",
       "|  2 |  680 |\n",
       "|  3 |  758 |\n",
       "|  4 |  804 |\n",
       "|  5 |  878 |\n",
       "|  6 |  830 |\n",
       "|  7 |  949 |\n",
       "|  8 |  803 |\n",
       "|  9 |  749 |\n",
       "| 10 | 1007 |\n",
       "| 11 |  772 |\n",
       "| 12 |  606 |\n",
       "| 13 |  541 |\n",
       "| 14 |  564 |\n",
       "| 15 |  747 |\n",
       "| 16 |  931 |\n",
       "| 17 | 1024 |\n",
       "| 18 | 1081 |\n",
       "| 19 | 1236 |\n",
       "| 20 | 1384 |\n",
       "| 21 | 1261 |\n",
       "| 22 | 1259 |\n",
       "| 23 | 1278 |\n",
       "| 24 | 1130 |\n",
       "| 25 | 1051 |\n",
       "| 26 |  982 |\n",
       "| 27 | 1226 |\n",
       "| 28 | 1122 |\n",
       "| 29 |  964 |\n",
       "| 30 |  888 |\n",
       "| 31 |  690 |\n",
       "| 32 |  624 |\n",
       "| 33 |  588 |\n",
       "| 34 |  466 |\n",
       "| 35 |  426 |\n",
       "| 36 |  401 |\n",
       "| 37 |  361 |\n",
       "| 38 |  329 |\n",
       "| 39 |  326 |\n",
       "| 40 |  317 |\n",
       "| 41 |  264 |\n",
       "| 42 |  256 |\n",
       "| 43 |  267 |\n",
       "| 44 |  229 |\n",
       "| 45 |  244 |\n",
       "| 46 |  212 |\n",
       "| 47 |  228 |\n",
       "| 48 |  250 |\n",
       "| 49 |  312 |\n",
       "| 50 |  273 |\n",
       "| 51 |  260 |\n",
       "| 52 |  116 |\n",
       "| 53 |   57 |\n",
       "\n"
      ],
      "text/plain": [
       "   SEM_PRI n   \n",
       "1   1       545\n",
       "2   2       680\n",
       "3   3       758\n",
       "4   4       804\n",
       "5   5       878\n",
       "6   6       830\n",
       "7   7       949\n",
       "8   8       803\n",
       "9   9       749\n",
       "10 10      1007\n",
       "11 11       772\n",
       "12 12       606\n",
       "13 13       541\n",
       "14 14       564\n",
       "15 15       747\n",
       "16 16       931\n",
       "17 17      1024\n",
       "18 18      1081\n",
       "19 19      1236\n",
       "20 20      1384\n",
       "21 21      1261\n",
       "22 22      1259\n",
       "23 23      1278\n",
       "24 24      1130\n",
       "25 25      1051\n",
       "26 26       982\n",
       "27 27      1226\n",
       "28 28      1122\n",
       "29 29       964\n",
       "30 30       888\n",
       "31 31       690\n",
       "32 32       624\n",
       "33 33       588\n",
       "34 34       466\n",
       "35 35       426\n",
       "36 36       401\n",
       "37 37       361\n",
       "38 38       329\n",
       "39 39       326\n",
       "40 40       317\n",
       "41 41       264\n",
       "42 42       256\n",
       "43 43       267\n",
       "44 44       229\n",
       "45 45       244\n",
       "46 46       212\n",
       "47 47       228\n",
       "48 48       250\n",
       "49 49       312\n",
       "50 50       273\n",
       "51 51       260\n",
       "52 52       116\n",
       "53 53        57"
      ]
     },
     "metadata": {},
     "output_type": "display_data"
    }
   ],
   "source": [
    "data %>% mutate(SEM_PRI = SEM_PRI - 202000) %>% count(SEM_PRI)"
   ]
  },
  {
   "cell_type": "code",
   "execution_count": 51,
   "id": "3a7cd00b",
   "metadata": {},
   "outputs": [
    {
     "data": {
      "text/html": [
       "<style>\n",
       ".list-inline {list-style: none; margin:0; padding: 0}\n",
       ".list-inline>li {display: inline-block}\n",
       ".list-inline>li:not(:last-child)::after {content: \"\\00b7\"; padding: 0 .5ex}\n",
       "</style>\n",
       "<ol class=list-inline><li>'FEBRE'</li><li>'MIALGIA'</li><li>'CEFALEIA'</li><li>'EXANTEMA'</li><li>'VOMITO'</li><li>'NAUSEA'</li><li>'DOR_COSTAS'</li><li>'CONJUNTVIT'</li><li>'ARTRITE'</li><li>'ARTRALGIA'</li><li>'PETEQUIA_N'</li><li>'LEUCOPENIA'</li><li>'LACO'</li><li>'DOR_RETRO'</li><li>'DIABETES'</li><li>'HEMATOLOG'</li><li>'HEPATOPAT'</li><li>'RENAL'</li><li>'HIPERTENSA'</li><li>'ACIDO_PEPT'</li><li>'AUTO_IMUNE'</li><li>'HOSPITALIZ'</li><li>'SG_UF_NOT'</li><li>'ID_UNIDADE'</li><li>'DT_SIN_PRI'</li><li>'SEM_PRI'</li><li>'CS_RACA'</li><li>'CS_ESCOL_N'</li><li>'DT_INTERNA'</li><li>'CLASSI_FIN'</li><li>'EVOLUCAO'</li><li>'DT_OBITO'</li><li>'age'</li><li>'sex'</li><li>'pregnant'</li></ol>\n"
      ],
      "text/latex": [
       "\\begin{enumerate*}\n",
       "\\item 'FEBRE'\n",
       "\\item 'MIALGIA'\n",
       "\\item 'CEFALEIA'\n",
       "\\item 'EXANTEMA'\n",
       "\\item 'VOMITO'\n",
       "\\item 'NAUSEA'\n",
       "\\item 'DOR\\_COSTAS'\n",
       "\\item 'CONJUNTVIT'\n",
       "\\item 'ARTRITE'\n",
       "\\item 'ARTRALGIA'\n",
       "\\item 'PETEQUIA\\_N'\n",
       "\\item 'LEUCOPENIA'\n",
       "\\item 'LACO'\n",
       "\\item 'DOR\\_RETRO'\n",
       "\\item 'DIABETES'\n",
       "\\item 'HEMATOLOG'\n",
       "\\item 'HEPATOPAT'\n",
       "\\item 'RENAL'\n",
       "\\item 'HIPERTENSA'\n",
       "\\item 'ACIDO\\_PEPT'\n",
       "\\item 'AUTO\\_IMUNE'\n",
       "\\item 'HOSPITALIZ'\n",
       "\\item 'SG\\_UF\\_NOT'\n",
       "\\item 'ID\\_UNIDADE'\n",
       "\\item 'DT\\_SIN\\_PRI'\n",
       "\\item 'SEM\\_PRI'\n",
       "\\item 'CS\\_RACA'\n",
       "\\item 'CS\\_ESCOL\\_N'\n",
       "\\item 'DT\\_INTERNA'\n",
       "\\item 'CLASSI\\_FIN'\n",
       "\\item 'EVOLUCAO'\n",
       "\\item 'DT\\_OBITO'\n",
       "\\item 'age'\n",
       "\\item 'sex'\n",
       "\\item 'pregnant'\n",
       "\\end{enumerate*}\n"
      ],
      "text/markdown": [
       "1. 'FEBRE'\n",
       "2. 'MIALGIA'\n",
       "3. 'CEFALEIA'\n",
       "4. 'EXANTEMA'\n",
       "5. 'VOMITO'\n",
       "6. 'NAUSEA'\n",
       "7. 'DOR_COSTAS'\n",
       "8. 'CONJUNTVIT'\n",
       "9. 'ARTRITE'\n",
       "10. 'ARTRALGIA'\n",
       "11. 'PETEQUIA_N'\n",
       "12. 'LEUCOPENIA'\n",
       "13. 'LACO'\n",
       "14. 'DOR_RETRO'\n",
       "15. 'DIABETES'\n",
       "16. 'HEMATOLOG'\n",
       "17. 'HEPATOPAT'\n",
       "18. 'RENAL'\n",
       "19. 'HIPERTENSA'\n",
       "20. 'ACIDO_PEPT'\n",
       "21. 'AUTO_IMUNE'\n",
       "22. 'HOSPITALIZ'\n",
       "23. 'SG_UF_NOT'\n",
       "24. 'ID_UNIDADE'\n",
       "25. 'DT_SIN_PRI'\n",
       "26. 'SEM_PRI'\n",
       "27. 'CS_RACA'\n",
       "28. 'CS_ESCOL_N'\n",
       "29. 'DT_INTERNA'\n",
       "30. 'CLASSI_FIN'\n",
       "31. 'EVOLUCAO'\n",
       "32. 'DT_OBITO'\n",
       "33. 'age'\n",
       "34. 'sex'\n",
       "35. 'pregnant'\n",
       "\n",
       "\n"
      ],
      "text/plain": [
       " [1] \"FEBRE\"      \"MIALGIA\"    \"CEFALEIA\"   \"EXANTEMA\"   \"VOMITO\"    \n",
       " [6] \"NAUSEA\"     \"DOR_COSTAS\" \"CONJUNTVIT\" \"ARTRITE\"    \"ARTRALGIA\" \n",
       "[11] \"PETEQUIA_N\" \"LEUCOPENIA\" \"LACO\"       \"DOR_RETRO\"  \"DIABETES\"  \n",
       "[16] \"HEMATOLOG\"  \"HEPATOPAT\"  \"RENAL\"      \"HIPERTENSA\" \"ACIDO_PEPT\"\n",
       "[21] \"AUTO_IMUNE\" \"HOSPITALIZ\" \"SG_UF_NOT\"  \"ID_UNIDADE\" \"DT_SIN_PRI\"\n",
       "[26] \"SEM_PRI\"    \"CS_RACA\"    \"CS_ESCOL_N\" \"DT_INTERNA\" \"CLASSI_FIN\"\n",
       "[31] \"EVOLUCAO\"   \"DT_OBITO\"   \"age\"        \"sex\"        \"pregnant\"  "
      ]
     },
     "metadata": {},
     "output_type": "display_data"
    },
    {
     "data": {
      "text/html": [
       "<style>\n",
       ".list-inline {list-style: none; margin:0; padding: 0}\n",
       ".list-inline>li {display: inline-block}\n",
       ".list-inline>li:not(:last-child)::after {content: \"\\00b7\"; padding: 0 .5ex}\n",
       "</style>\n",
       "<ol class=list-inline><li>35546</li><li>35</li></ol>\n"
      ],
      "text/latex": [
       "\\begin{enumerate*}\n",
       "\\item 35546\n",
       "\\item 35\n",
       "\\end{enumerate*}\n"
      ],
      "text/markdown": [
       "1. 35546\n",
       "2. 35\n",
       "\n",
       "\n"
      ],
      "text/plain": [
       "[1] 35546    35"
      ]
     },
     "metadata": {},
     "output_type": "display_data"
    }
   ],
   "source": [
    "data %>% colnames\n",
    "data %>% dim"
   ]
  },
  {
   "cell_type": "code",
   "execution_count": 52,
   "id": "9edf9c05",
   "metadata": {},
   "outputs": [],
   "source": [
    "colnames(data) <- c(\"fever\", 'myalgia','headache',\n",
    "                  'exanthema', 'vomiting','nausea',\n",
    "                  'back_pain','conjunctivitis', 'arthritis', \n",
    "                  'arthralgia', 'petechiae', 'leukopenia', \n",
    "                  'lasso_prove', 'retro_orbital_pain', 'diabetes', \n",
    "                  'hematological_diseases', 'hepatopathies', 'chronic_kidney_disease', \n",
    "                  'arterial_hypertension', 'acid_peptic_disease', 'autoimmune_diseases',\n",
    "                  'hospitalization','id_state','id_place',\n",
    "                  'dt_first_symptoms', 'epidemiological_week', \n",
    "                  'race', 'schooling_years', 'dt_hospitalization', \n",
    "                  'chikungunya', 'death', 'dt_death', \n",
    "                  'age', 'sex', 'pregnancy')"
   ]
  },
  {
   "cell_type": "code",
   "execution_count": 53,
   "id": "38fcb7e7",
   "metadata": {},
   "outputs": [],
   "source": [
    "data %>% write_csv('clean_chikungunya_20.csv')"
   ]
  },
  {
   "cell_type": "markdown",
   "id": "7380e671",
   "metadata": {},
   "source": [
    "# Dataset1 - predicting hospitalization"
   ]
  },
  {
   "cell_type": "code",
   "execution_count": 64,
   "id": "9d1e0a5d",
   "metadata": {},
   "outputs": [],
   "source": [
    "data <- read.csv('clean_chikungunya_20.csv')\n",
    "\n",
    "# only confirmed cases\n",
    "data %>% filter(chikungunya == 13) -> data\n",
    "data %>% select(-chikungunya) -> data"
   ]
  },
  {
   "cell_type": "code",
   "execution_count": 65,
   "id": "c50cb9b6",
   "metadata": {},
   "outputs": [
    {
     "data": {
      "text/html": [
       "<style>\n",
       ".list-inline {list-style: none; margin:0; padding: 0}\n",
       ".list-inline>li {display: inline-block}\n",
       ".list-inline>li:not(:last-child)::after {content: \"\\00b7\"; padding: 0 .5ex}\n",
       "</style>\n",
       "<ol class=list-inline><li>'fever'</li><li>'myalgia'</li><li>'headache'</li><li>'exanthema'</li><li>'vomiting'</li><li>'nausea'</li><li>'back_pain'</li><li>'conjunctivitis'</li><li>'arthritis'</li><li>'arthralgia'</li><li>'petechiae'</li><li>'leukopenia'</li><li>'lasso_prove'</li><li>'retro_orbital_pain'</li><li>'diabetes'</li><li>'hematological_diseases'</li><li>'hepatopathies'</li><li>'chronic_kidney_disease'</li><li>'arterial_hypertension'</li><li>'acid_peptic_disease'</li><li>'autoimmune_diseases'</li><li>'hospitalization'</li><li>'id_state'</li><li>'id_place'</li><li>'dt_first_symptoms'</li><li>'epidemiological_week'</li><li>'race'</li><li>'schooling_years'</li><li>'dt_hospitalization'</li><li>'death'</li><li>'dt_death'</li><li>'age'</li><li>'sex'</li><li>'pregnancy'</li></ol>\n"
      ],
      "text/latex": [
       "\\begin{enumerate*}\n",
       "\\item 'fever'\n",
       "\\item 'myalgia'\n",
       "\\item 'headache'\n",
       "\\item 'exanthema'\n",
       "\\item 'vomiting'\n",
       "\\item 'nausea'\n",
       "\\item 'back\\_pain'\n",
       "\\item 'conjunctivitis'\n",
       "\\item 'arthritis'\n",
       "\\item 'arthralgia'\n",
       "\\item 'petechiae'\n",
       "\\item 'leukopenia'\n",
       "\\item 'lasso\\_prove'\n",
       "\\item 'retro\\_orbital\\_pain'\n",
       "\\item 'diabetes'\n",
       "\\item 'hematological\\_diseases'\n",
       "\\item 'hepatopathies'\n",
       "\\item 'chronic\\_kidney\\_disease'\n",
       "\\item 'arterial\\_hypertension'\n",
       "\\item 'acid\\_peptic\\_disease'\n",
       "\\item 'autoimmune\\_diseases'\n",
       "\\item 'hospitalization'\n",
       "\\item 'id\\_state'\n",
       "\\item 'id\\_place'\n",
       "\\item 'dt\\_first\\_symptoms'\n",
       "\\item 'epidemiological\\_week'\n",
       "\\item 'race'\n",
       "\\item 'schooling\\_years'\n",
       "\\item 'dt\\_hospitalization'\n",
       "\\item 'death'\n",
       "\\item 'dt\\_death'\n",
       "\\item 'age'\n",
       "\\item 'sex'\n",
       "\\item 'pregnancy'\n",
       "\\end{enumerate*}\n"
      ],
      "text/markdown": [
       "1. 'fever'\n",
       "2. 'myalgia'\n",
       "3. 'headache'\n",
       "4. 'exanthema'\n",
       "5. 'vomiting'\n",
       "6. 'nausea'\n",
       "7. 'back_pain'\n",
       "8. 'conjunctivitis'\n",
       "9. 'arthritis'\n",
       "10. 'arthralgia'\n",
       "11. 'petechiae'\n",
       "12. 'leukopenia'\n",
       "13. 'lasso_prove'\n",
       "14. 'retro_orbital_pain'\n",
       "15. 'diabetes'\n",
       "16. 'hematological_diseases'\n",
       "17. 'hepatopathies'\n",
       "18. 'chronic_kidney_disease'\n",
       "19. 'arterial_hypertension'\n",
       "20. 'acid_peptic_disease'\n",
       "21. 'autoimmune_diseases'\n",
       "22. 'hospitalization'\n",
       "23. 'id_state'\n",
       "24. 'id_place'\n",
       "25. 'dt_first_symptoms'\n",
       "26. 'epidemiological_week'\n",
       "27. 'race'\n",
       "28. 'schooling_years'\n",
       "29. 'dt_hospitalization'\n",
       "30. 'death'\n",
       "31. 'dt_death'\n",
       "32. 'age'\n",
       "33. 'sex'\n",
       "34. 'pregnancy'\n",
       "\n",
       "\n"
      ],
      "text/plain": [
       " [1] \"fever\"                  \"myalgia\"                \"headache\"              \n",
       " [4] \"exanthema\"              \"vomiting\"               \"nausea\"                \n",
       " [7] \"back_pain\"              \"conjunctivitis\"         \"arthritis\"             \n",
       "[10] \"arthralgia\"             \"petechiae\"              \"leukopenia\"            \n",
       "[13] \"lasso_prove\"            \"retro_orbital_pain\"     \"diabetes\"              \n",
       "[16] \"hematological_diseases\" \"hepatopathies\"          \"chronic_kidney_disease\"\n",
       "[19] \"arterial_hypertension\"  \"acid_peptic_disease\"    \"autoimmune_diseases\"   \n",
       "[22] \"hospitalization\"        \"id_state\"               \"id_place\"              \n",
       "[25] \"dt_first_symptoms\"      \"epidemiological_week\"   \"race\"                  \n",
       "[28] \"schooling_years\"        \"dt_hospitalization\"     \"death\"                 \n",
       "[31] \"dt_death\"               \"age\"                    \"sex\"                   \n",
       "[34] \"pregnancy\"             "
      ]
     },
     "metadata": {},
     "output_type": "display_data"
    }
   ],
   "source": [
    "data %>% colnames"
   ]
  },
  {
   "cell_type": "code",
   "execution_count": 66,
   "id": "2249da5d",
   "metadata": {},
   "outputs": [
    {
     "data": {
      "text/html": [
       "<table class=\"dataframe\">\n",
       "<caption>A data.frame: 4 × 2</caption>\n",
       "<thead>\n",
       "\t<tr><th scope=col>hospitalization</th><th scope=col>n</th></tr>\n",
       "\t<tr><th scope=col>&lt;int&gt;</th><th scope=col>&lt;int&gt;</th></tr>\n",
       "</thead>\n",
       "<tbody>\n",
       "\t<tr><td> 0</td><td>18837</td></tr>\n",
       "\t<tr><td> 1</td><td>  640</td></tr>\n",
       "\t<tr><td> 9</td><td>  569</td></tr>\n",
       "\t<tr><td>NA</td><td> 8469</td></tr>\n",
       "</tbody>\n",
       "</table>\n"
      ],
      "text/latex": [
       "A data.frame: 4 × 2\n",
       "\\begin{tabular}{ll}\n",
       " hospitalization & n\\\\\n",
       " <int> & <int>\\\\\n",
       "\\hline\n",
       "\t  0 & 18837\\\\\n",
       "\t  1 &   640\\\\\n",
       "\t  9 &   569\\\\\n",
       "\t NA &  8469\\\\\n",
       "\\end{tabular}\n"
      ],
      "text/markdown": [
       "\n",
       "A data.frame: 4 × 2\n",
       "\n",
       "| hospitalization &lt;int&gt; | n &lt;int&gt; |\n",
       "|---|---|\n",
       "|  0 | 18837 |\n",
       "|  1 |   640 |\n",
       "|  9 |   569 |\n",
       "| NA |  8469 |\n",
       "\n"
      ],
      "text/plain": [
       "  hospitalization n    \n",
       "1  0              18837\n",
       "2  1                640\n",
       "3  9                569\n",
       "4 NA               8469"
      ]
     },
     "metadata": {},
     "output_type": "display_data"
    },
    {
     "data": {
      "text/html": [
       "<style>\n",
       ".list-inline {list-style: none; margin:0; padding: 0}\n",
       ".list-inline>li {display: inline-block}\n",
       ".list-inline>li:not(:last-child)::after {content: \"\\00b7\"; padding: 0 .5ex}\n",
       "</style>\n",
       "<ol class=list-inline><li>28515</li><li>34</li></ol>\n"
      ],
      "text/latex": [
       "\\begin{enumerate*}\n",
       "\\item 28515\n",
       "\\item 34\n",
       "\\end{enumerate*}\n"
      ],
      "text/markdown": [
       "1. 28515\n",
       "2. 34\n",
       "\n",
       "\n"
      ],
      "text/plain": [
       "[1] 28515    34"
      ]
     },
     "metadata": {},
     "output_type": "display_data"
    }
   ],
   "source": [
    "data %>% count(hospitalization)\n",
    "\n",
    "data %>% dim"
   ]
  },
  {
   "cell_type": "code",
   "execution_count": 67,
   "id": "83209da5",
   "metadata": {},
   "outputs": [
    {
     "data": {
      "text/html": [
       "<table class=\"dataframe\">\n",
       "<caption>A data.frame: 4 × 2</caption>\n",
       "<thead>\n",
       "\t<tr><th scope=col>hospitalization</th><th scope=col>n</th></tr>\n",
       "\t<tr><th scope=col>&lt;int&gt;</th><th scope=col>&lt;int&gt;</th></tr>\n",
       "</thead>\n",
       "<tbody>\n",
       "\t<tr><td> 0</td><td>18837</td></tr>\n",
       "\t<tr><td> 1</td><td>  640</td></tr>\n",
       "\t<tr><td> 9</td><td>  569</td></tr>\n",
       "\t<tr><td>NA</td><td> 8469</td></tr>\n",
       "</tbody>\n",
       "</table>\n"
      ],
      "text/latex": [
       "A data.frame: 4 × 2\n",
       "\\begin{tabular}{ll}\n",
       " hospitalization & n\\\\\n",
       " <int> & <int>\\\\\n",
       "\\hline\n",
       "\t  0 & 18837\\\\\n",
       "\t  1 &   640\\\\\n",
       "\t  9 &   569\\\\\n",
       "\t NA &  8469\\\\\n",
       "\\end{tabular}\n"
      ],
      "text/markdown": [
       "\n",
       "A data.frame: 4 × 2\n",
       "\n",
       "| hospitalization &lt;int&gt; | n &lt;int&gt; |\n",
       "|---|---|\n",
       "|  0 | 18837 |\n",
       "|  1 |   640 |\n",
       "|  9 |   569 |\n",
       "| NA |  8469 |\n",
       "\n"
      ],
      "text/plain": [
       "  hospitalization n    \n",
       "1  0              18837\n",
       "2  1                640\n",
       "3  9                569\n",
       "4 NA               8469"
      ]
     },
     "metadata": {},
     "output_type": "display_data"
    },
    {
     "data": {
      "text/html": [
       "<style>\n",
       ".list-inline {list-style: none; margin:0; padding: 0}\n",
       ".list-inline>li {display: inline-block}\n",
       ".list-inline>li:not(:last-child)::after {content: \"\\00b7\"; padding: 0 .5ex}\n",
       "</style>\n",
       "<ol class=list-inline><li>19477</li><li>34</li></ol>\n"
      ],
      "text/latex": [
       "\\begin{enumerate*}\n",
       "\\item 19477\n",
       "\\item 34\n",
       "\\end{enumerate*}\n"
      ],
      "text/markdown": [
       "1. 19477\n",
       "2. 34\n",
       "\n",
       "\n"
      ],
      "text/plain": [
       "[1] 19477    34"
      ]
     },
     "metadata": {},
     "output_type": "display_data"
    }
   ],
   "source": [
    "# remove patients without information of hospitalization\n",
    "\n",
    "data %>% count(hospitalization)\n",
    "\n",
    "data %>% filter(hospitalization == 1 | hospitalization == 0) -> data\n",
    "\n",
    "data %>% dim"
   ]
  },
  {
   "cell_type": "code",
   "execution_count": 68,
   "id": "8bb15e7b",
   "metadata": {},
   "outputs": [
    {
     "data": {
      "text/html": [
       "<table class=\"dataframe\">\n",
       "<caption>A data.frame: 32 × 2</caption>\n",
       "<thead>\n",
       "\t<tr><th scope=col>days</th><th scope=col>n</th></tr>\n",
       "\t<tr><th scope=col>&lt;dbl&gt;</th><th scope=col>&lt;int&gt;</th></tr>\n",
       "</thead>\n",
       "<tbody>\n",
       "\t<tr><td> 0.00000000</td><td>   33</td></tr>\n",
       "\t<tr><td> 0.04166667</td><td>   55</td></tr>\n",
       "\t<tr><td> 1.00000000</td><td>   29</td></tr>\n",
       "\t<tr><td> 1.04166667</td><td>   43</td></tr>\n",
       "\t<tr><td> 2.00000000</td><td>   24</td></tr>\n",
       "\t<tr><td> 2.04166667</td><td>   32</td></tr>\n",
       "\t<tr><td> 3.00000000</td><td>   14</td></tr>\n",
       "\t<tr><td> 3.04166667</td><td>   32</td></tr>\n",
       "\t<tr><td> 4.00000000</td><td>   14</td></tr>\n",
       "\t<tr><td> 4.04166667</td><td>   19</td></tr>\n",
       "\t<tr><td> 5.00000000</td><td>   17</td></tr>\n",
       "\t<tr><td> 5.04166667</td><td>   12</td></tr>\n",
       "\t<tr><td> 6.00000000</td><td>   12</td></tr>\n",
       "\t<tr><td> 6.04166667</td><td>   19</td></tr>\n",
       "\t<tr><td> 7.00000000</td><td>   12</td></tr>\n",
       "\t<tr><td> 7.04166667</td><td>   16</td></tr>\n",
       "\t<tr><td> 8.00000000</td><td>    2</td></tr>\n",
       "\t<tr><td> 8.04166667</td><td>   12</td></tr>\n",
       "\t<tr><td> 9.00000000</td><td>    7</td></tr>\n",
       "\t<tr><td> 9.04166667</td><td>    7</td></tr>\n",
       "\t<tr><td>10.00000000</td><td>    5</td></tr>\n",
       "\t<tr><td>10.04166667</td><td>    6</td></tr>\n",
       "\t<tr><td>11.00000000</td><td>    2</td></tr>\n",
       "\t<tr><td>11.04166667</td><td>    1</td></tr>\n",
       "\t<tr><td>12.00000000</td><td>    2</td></tr>\n",
       "\t<tr><td>13.00000000</td><td>    3</td></tr>\n",
       "\t<tr><td>13.04166667</td><td>    3</td></tr>\n",
       "\t<tr><td>14.00000000</td><td>    3</td></tr>\n",
       "\t<tr><td>14.04166667</td><td>    4</td></tr>\n",
       "\t<tr><td>15.00000000</td><td>    2</td></tr>\n",
       "\t<tr><td>15.04166667</td><td>    7</td></tr>\n",
       "\t<tr><td>         NA</td><td>18961</td></tr>\n",
       "</tbody>\n",
       "</table>\n"
      ],
      "text/latex": [
       "A data.frame: 32 × 2\n",
       "\\begin{tabular}{ll}\n",
       " days & n\\\\\n",
       " <dbl> & <int>\\\\\n",
       "\\hline\n",
       "\t  0.00000000 &    33\\\\\n",
       "\t  0.04166667 &    55\\\\\n",
       "\t  1.00000000 &    29\\\\\n",
       "\t  1.04166667 &    43\\\\\n",
       "\t  2.00000000 &    24\\\\\n",
       "\t  2.04166667 &    32\\\\\n",
       "\t  3.00000000 &    14\\\\\n",
       "\t  3.04166667 &    32\\\\\n",
       "\t  4.00000000 &    14\\\\\n",
       "\t  4.04166667 &    19\\\\\n",
       "\t  5.00000000 &    17\\\\\n",
       "\t  5.04166667 &    12\\\\\n",
       "\t  6.00000000 &    12\\\\\n",
       "\t  6.04166667 &    19\\\\\n",
       "\t  7.00000000 &    12\\\\\n",
       "\t  7.04166667 &    16\\\\\n",
       "\t  8.00000000 &     2\\\\\n",
       "\t  8.04166667 &    12\\\\\n",
       "\t  9.00000000 &     7\\\\\n",
       "\t  9.04166667 &     7\\\\\n",
       "\t 10.00000000 &     5\\\\\n",
       "\t 10.04166667 &     6\\\\\n",
       "\t 11.00000000 &     2\\\\\n",
       "\t 11.04166667 &     1\\\\\n",
       "\t 12.00000000 &     2\\\\\n",
       "\t 13.00000000 &     3\\\\\n",
       "\t 13.04166667 &     3\\\\\n",
       "\t 14.00000000 &     3\\\\\n",
       "\t 14.04166667 &     4\\\\\n",
       "\t 15.00000000 &     2\\\\\n",
       "\t 15.04166667 &     7\\\\\n",
       "\t          NA & 18961\\\\\n",
       "\\end{tabular}\n"
      ],
      "text/markdown": [
       "\n",
       "A data.frame: 32 × 2\n",
       "\n",
       "| days &lt;dbl&gt; | n &lt;int&gt; |\n",
       "|---|---|\n",
       "|  0.00000000 |    33 |\n",
       "|  0.04166667 |    55 |\n",
       "|  1.00000000 |    29 |\n",
       "|  1.04166667 |    43 |\n",
       "|  2.00000000 |    24 |\n",
       "|  2.04166667 |    32 |\n",
       "|  3.00000000 |    14 |\n",
       "|  3.04166667 |    32 |\n",
       "|  4.00000000 |    14 |\n",
       "|  4.04166667 |    19 |\n",
       "|  5.00000000 |    17 |\n",
       "|  5.04166667 |    12 |\n",
       "|  6.00000000 |    12 |\n",
       "|  6.04166667 |    19 |\n",
       "|  7.00000000 |    12 |\n",
       "|  7.04166667 |    16 |\n",
       "|  8.00000000 |     2 |\n",
       "|  8.04166667 |    12 |\n",
       "|  9.00000000 |     7 |\n",
       "|  9.04166667 |     7 |\n",
       "| 10.00000000 |     5 |\n",
       "| 10.04166667 |     6 |\n",
       "| 11.00000000 |     2 |\n",
       "| 11.04166667 |     1 |\n",
       "| 12.00000000 |     2 |\n",
       "| 13.00000000 |     3 |\n",
       "| 13.04166667 |     3 |\n",
       "| 14.00000000 |     3 |\n",
       "| 14.04166667 |     4 |\n",
       "| 15.00000000 |     2 |\n",
       "| 15.04166667 |     7 |\n",
       "|          NA | 18961 |\n",
       "\n"
      ],
      "text/plain": [
       "   days        n    \n",
       "1   0.00000000    33\n",
       "2   0.04166667    55\n",
       "3   1.00000000    29\n",
       "4   1.04166667    43\n",
       "5   2.00000000    24\n",
       "6   2.04166667    32\n",
       "7   3.00000000    14\n",
       "8   3.04166667    32\n",
       "9   4.00000000    14\n",
       "10  4.04166667    19\n",
       "11  5.00000000    17\n",
       "12  5.04166667    12\n",
       "13  6.00000000    12\n",
       "14  6.04166667    19\n",
       "15  7.00000000    12\n",
       "16  7.04166667    16\n",
       "17  8.00000000     2\n",
       "18  8.04166667    12\n",
       "19  9.00000000     7\n",
       "20  9.04166667     7\n",
       "21 10.00000000     5\n",
       "22 10.04166667     6\n",
       "23 11.00000000     2\n",
       "24 11.04166667     1\n",
       "25 12.00000000     2\n",
       "26 13.00000000     3\n",
       "27 13.04166667     3\n",
       "28 14.00000000     3\n",
       "29 14.04166667     4\n",
       "30 15.00000000     2\n",
       "31 15.04166667     7\n",
       "32          NA 18961"
      ]
     },
     "metadata": {},
     "output_type": "display_data"
    }
   ],
   "source": [
    "# create a column with the number of days between the disease investigation and death\n",
    "\n",
    "data$dt_hospitalization <- as.Date(data$dt_hospitalization)\n",
    "data$dt_hospitalization <- as.Date(data$dt_hospitalization)\n",
    "\n",
    "data %>% mutate(days = difftime(dt_hospitalization, dt_first_symptoms, units = 'days')) -> data\n",
    "\n",
    "data$days <- as.numeric(data$days)\n",
    "\n",
    "# remove patients hospitalized more than 15 days after first sympthoms\n",
    "\n",
    "data %>% filter((days >= 0 & days < 16)| is.na(days)) -> data\n",
    "\n",
    "data %>% count(days)\n",
    "\n",
    "data %>% select(-days) -> data"
   ]
  },
  {
   "cell_type": "code",
   "execution_count": 69,
   "id": "30fa6d90",
   "metadata": {},
   "outputs": [
    {
     "data": {
      "text/html": [
       "<table class=\"dataframe\">\n",
       "<caption>A data.frame: 6 × 2</caption>\n",
       "<thead>\n",
       "\t<tr><th scope=col>death</th><th scope=col>n</th></tr>\n",
       "\t<tr><th scope=col>&lt;int&gt;</th><th scope=col>&lt;int&gt;</th></tr>\n",
       "</thead>\n",
       "<tbody>\n",
       "\t<tr><td> 0</td><td>17391</td></tr>\n",
       "\t<tr><td> 1</td><td>    2</td></tr>\n",
       "\t<tr><td> 3</td><td>    1</td></tr>\n",
       "\t<tr><td> 4</td><td>    1</td></tr>\n",
       "\t<tr><td> 9</td><td>  929</td></tr>\n",
       "\t<tr><td>NA</td><td>  513</td></tr>\n",
       "</tbody>\n",
       "</table>\n"
      ],
      "text/latex": [
       "A data.frame: 6 × 2\n",
       "\\begin{tabular}{ll}\n",
       " death & n\\\\\n",
       " <int> & <int>\\\\\n",
       "\\hline\n",
       "\t  0 & 17391\\\\\n",
       "\t  1 &     2\\\\\n",
       "\t  3 &     1\\\\\n",
       "\t  4 &     1\\\\\n",
       "\t  9 &   929\\\\\n",
       "\t NA &   513\\\\\n",
       "\\end{tabular}\n"
      ],
      "text/markdown": [
       "\n",
       "A data.frame: 6 × 2\n",
       "\n",
       "| death &lt;int&gt; | n &lt;int&gt; |\n",
       "|---|---|\n",
       "|  0 | 17391 |\n",
       "|  1 |     2 |\n",
       "|  3 |     1 |\n",
       "|  4 |     1 |\n",
       "|  9 |   929 |\n",
       "| NA |   513 |\n",
       "\n"
      ],
      "text/plain": [
       "  death n    \n",
       "1  0    17391\n",
       "2  1        2\n",
       "3  3        1\n",
       "4  4        1\n",
       "5  9      929\n",
       "6 NA      513"
      ]
     },
     "metadata": {},
     "output_type": "display_data"
    }
   ],
   "source": [
    "# remove non-hospitalized patients that died\n",
    "data %>% filter(hospitalization == 0) %>% count(death)"
   ]
  },
  {
   "cell_type": "code",
   "execution_count": 70,
   "id": "9c6daa82",
   "metadata": {},
   "outputs": [],
   "source": [
    "data %>% filter(hospitalization == 1) -> death\n",
    "data %>% filter(hospitalization == 0) %>% filter(death == 0) -> data"
   ]
  },
  {
   "cell_type": "code",
   "execution_count": 71,
   "id": "fd541df9",
   "metadata": {},
   "outputs": [
    {
     "data": {
      "text/html": [
       "<style>\n",
       ".list-inline {list-style: none; margin:0; padding: 0}\n",
       ".list-inline>li {display: inline-block}\n",
       ".list-inline>li:not(:last-child)::after {content: \"\\00b7\"; padding: 0 .5ex}\n",
       "</style>\n",
       "<ol class=list-inline><li>17964</li><li>34</li></ol>\n"
      ],
      "text/latex": [
       "\\begin{enumerate*}\n",
       "\\item 17964\n",
       "\\item 34\n",
       "\\end{enumerate*}\n"
      ],
      "text/markdown": [
       "1. 17964\n",
       "2. 34\n",
       "\n",
       "\n"
      ],
      "text/plain": [
       "[1] 17964    34"
      ]
     },
     "metadata": {},
     "output_type": "display_data"
    },
    {
     "data": {
      "text/html": [
       "<table class=\"dataframe\">\n",
       "<caption>A data.frame: 2 × 2</caption>\n",
       "<thead>\n",
       "\t<tr><th scope=col>hospitalization</th><th scope=col>n</th></tr>\n",
       "\t<tr><th scope=col>&lt;int&gt;</th><th scope=col>&lt;int&gt;</th></tr>\n",
       "</thead>\n",
       "<tbody>\n",
       "\t<tr><td>0</td><td>17391</td></tr>\n",
       "\t<tr><td>1</td><td>  573</td></tr>\n",
       "</tbody>\n",
       "</table>\n"
      ],
      "text/latex": [
       "A data.frame: 2 × 2\n",
       "\\begin{tabular}{ll}\n",
       " hospitalization & n\\\\\n",
       " <int> & <int>\\\\\n",
       "\\hline\n",
       "\t 0 & 17391\\\\\n",
       "\t 1 &   573\\\\\n",
       "\\end{tabular}\n"
      ],
      "text/markdown": [
       "\n",
       "A data.frame: 2 × 2\n",
       "\n",
       "| hospitalization &lt;int&gt; | n &lt;int&gt; |\n",
       "|---|---|\n",
       "| 0 | 17391 |\n",
       "| 1 |   573 |\n",
       "\n"
      ],
      "text/plain": [
       "  hospitalization n    \n",
       "1 0               17391\n",
       "2 1                 573"
      ]
     },
     "metadata": {},
     "output_type": "display_data"
    }
   ],
   "source": [
    "data %>% rbind(death) -> data\n",
    "\n",
    "data %>% dim \n",
    "\n",
    "data %>% count(hospitalization)"
   ]
  },
  {
   "cell_type": "code",
   "execution_count": 72,
   "id": "790d28b2",
   "metadata": {},
   "outputs": [],
   "source": [
    "data %>% select('fever','myalgia','headache','exanthema','vomiting','nausea','back_pain','conjunctivitis',\n",
    "    'arthritis','arthralgia','petechiae','leukopenia','retro_orbital_pain','diabetes','arterial_hypertension',\n",
    "    'id_state','id_place','epidemiological_week','race','schooling_years','age','sex','pregnancy',\n",
    "                'hospitalization') -> data"
   ]
  },
  {
   "cell_type": "code",
   "execution_count": 73,
   "id": "522d6a45",
   "metadata": {},
   "outputs": [
    {
     "data": {
      "text/html": [
       "<style>\n",
       ".list-inline {list-style: none; margin:0; padding: 0}\n",
       ".list-inline>li {display: inline-block}\n",
       ".list-inline>li:not(:last-child)::after {content: \"\\00b7\"; padding: 0 .5ex}\n",
       "</style>\n",
       "<ol class=list-inline><li>17964</li><li>24</li></ol>\n"
      ],
      "text/latex": [
       "\\begin{enumerate*}\n",
       "\\item 17964\n",
       "\\item 24\n",
       "\\end{enumerate*}\n"
      ],
      "text/markdown": [
       "1. 17964\n",
       "2. 24\n",
       "\n",
       "\n"
      ],
      "text/plain": [
       "[1] 17964    24"
      ]
     },
     "metadata": {},
     "output_type": "display_data"
    }
   ],
   "source": [
    "data %>% dim"
   ]
  },
  {
   "cell_type": "code",
   "execution_count": 74,
   "id": "a037431d",
   "metadata": {},
   "outputs": [],
   "source": [
    "data %>% write_csv('chikungunya_hospitalization_20.csv')"
   ]
  },
  {
   "cell_type": "markdown",
   "id": "5cbdf491",
   "metadata": {},
   "source": [
    "# Dataset2 - predicting the diagnose"
   ]
  },
  {
   "cell_type": "code",
   "execution_count": 75,
   "id": "d1b4cf12",
   "metadata": {},
   "outputs": [
    {
     "data": {
      "text/html": [
       "<table class=\"dataframe\">\n",
       "<caption>A data.frame: 2 × 2</caption>\n",
       "<thead>\n",
       "\t<tr><th scope=col>chikungunya</th><th scope=col>n</th></tr>\n",
       "\t<tr><th scope=col>&lt;int&gt;</th><th scope=col>&lt;int&gt;</th></tr>\n",
       "</thead>\n",
       "<tbody>\n",
       "\t<tr><td> 5</td><td> 7031</td></tr>\n",
       "\t<tr><td>13</td><td>28515</td></tr>\n",
       "</tbody>\n",
       "</table>\n"
      ],
      "text/latex": [
       "A data.frame: 2 × 2\n",
       "\\begin{tabular}{ll}\n",
       " chikungunya & n\\\\\n",
       " <int> & <int>\\\\\n",
       "\\hline\n",
       "\t  5 &  7031\\\\\n",
       "\t 13 & 28515\\\\\n",
       "\\end{tabular}\n"
      ],
      "text/markdown": [
       "\n",
       "A data.frame: 2 × 2\n",
       "\n",
       "| chikungunya &lt;int&gt; | n &lt;int&gt; |\n",
       "|---|---|\n",
       "|  5 |  7031 |\n",
       "| 13 | 28515 |\n",
       "\n"
      ],
      "text/plain": [
       "  chikungunya n    \n",
       "1  5           7031\n",
       "2 13          28515"
      ]
     },
     "metadata": {},
     "output_type": "display_data"
    }
   ],
   "source": [
    "data <- read.csv('clean_chikungunya_20.csv')\n",
    "\n",
    "# only confirmed cases\n",
    "data %>% count(chikungunya)"
   ]
  },
  {
   "cell_type": "code",
   "execution_count": 76,
   "id": "1747e68e",
   "metadata": {},
   "outputs": [],
   "source": [
    "data$chikungunya[data$chikungunya == 13] <- 1\n",
    "data$chikungunya[data$chikungunya == 5] <- 0"
   ]
  },
  {
   "cell_type": "code",
   "execution_count": 77,
   "id": "32bebc2c",
   "metadata": {},
   "outputs": [
    {
     "data": {
      "text/html": [
       "<style>\n",
       ".list-inline {list-style: none; margin:0; padding: 0}\n",
       ".list-inline>li {display: inline-block}\n",
       ".list-inline>li:not(:last-child)::after {content: \"\\00b7\"; padding: 0 .5ex}\n",
       "</style>\n",
       "<ol class=list-inline><li>'fever'</li><li>'myalgia'</li><li>'headache'</li><li>'exanthema'</li><li>'vomiting'</li><li>'nausea'</li><li>'back_pain'</li><li>'conjunctivitis'</li><li>'arthritis'</li><li>'arthralgia'</li><li>'petechiae'</li><li>'leukopenia'</li><li>'lasso_prove'</li><li>'retro_orbital_pain'</li><li>'diabetes'</li><li>'hematological_diseases'</li><li>'hepatopathies'</li><li>'chronic_kidney_disease'</li><li>'arterial_hypertension'</li><li>'acid_peptic_disease'</li><li>'autoimmune_diseases'</li><li>'hospitalization'</li><li>'id_state'</li><li>'id_place'</li><li>'dt_first_symptoms'</li><li>'epidemiological_week'</li><li>'race'</li><li>'schooling_years'</li><li>'dt_hospitalization'</li><li>'chikungunya'</li><li>'death'</li><li>'dt_death'</li><li>'age'</li><li>'sex'</li><li>'pregnancy'</li></ol>\n"
      ],
      "text/latex": [
       "\\begin{enumerate*}\n",
       "\\item 'fever'\n",
       "\\item 'myalgia'\n",
       "\\item 'headache'\n",
       "\\item 'exanthema'\n",
       "\\item 'vomiting'\n",
       "\\item 'nausea'\n",
       "\\item 'back\\_pain'\n",
       "\\item 'conjunctivitis'\n",
       "\\item 'arthritis'\n",
       "\\item 'arthralgia'\n",
       "\\item 'petechiae'\n",
       "\\item 'leukopenia'\n",
       "\\item 'lasso\\_prove'\n",
       "\\item 'retro\\_orbital\\_pain'\n",
       "\\item 'diabetes'\n",
       "\\item 'hematological\\_diseases'\n",
       "\\item 'hepatopathies'\n",
       "\\item 'chronic\\_kidney\\_disease'\n",
       "\\item 'arterial\\_hypertension'\n",
       "\\item 'acid\\_peptic\\_disease'\n",
       "\\item 'autoimmune\\_diseases'\n",
       "\\item 'hospitalization'\n",
       "\\item 'id\\_state'\n",
       "\\item 'id\\_place'\n",
       "\\item 'dt\\_first\\_symptoms'\n",
       "\\item 'epidemiological\\_week'\n",
       "\\item 'race'\n",
       "\\item 'schooling\\_years'\n",
       "\\item 'dt\\_hospitalization'\n",
       "\\item 'chikungunya'\n",
       "\\item 'death'\n",
       "\\item 'dt\\_death'\n",
       "\\item 'age'\n",
       "\\item 'sex'\n",
       "\\item 'pregnancy'\n",
       "\\end{enumerate*}\n"
      ],
      "text/markdown": [
       "1. 'fever'\n",
       "2. 'myalgia'\n",
       "3. 'headache'\n",
       "4. 'exanthema'\n",
       "5. 'vomiting'\n",
       "6. 'nausea'\n",
       "7. 'back_pain'\n",
       "8. 'conjunctivitis'\n",
       "9. 'arthritis'\n",
       "10. 'arthralgia'\n",
       "11. 'petechiae'\n",
       "12. 'leukopenia'\n",
       "13. 'lasso_prove'\n",
       "14. 'retro_orbital_pain'\n",
       "15. 'diabetes'\n",
       "16. 'hematological_diseases'\n",
       "17. 'hepatopathies'\n",
       "18. 'chronic_kidney_disease'\n",
       "19. 'arterial_hypertension'\n",
       "20. 'acid_peptic_disease'\n",
       "21. 'autoimmune_diseases'\n",
       "22. 'hospitalization'\n",
       "23. 'id_state'\n",
       "24. 'id_place'\n",
       "25. 'dt_first_symptoms'\n",
       "26. 'epidemiological_week'\n",
       "27. 'race'\n",
       "28. 'schooling_years'\n",
       "29. 'dt_hospitalization'\n",
       "30. 'chikungunya'\n",
       "31. 'death'\n",
       "32. 'dt_death'\n",
       "33. 'age'\n",
       "34. 'sex'\n",
       "35. 'pregnancy'\n",
       "\n",
       "\n"
      ],
      "text/plain": [
       " [1] \"fever\"                  \"myalgia\"                \"headache\"              \n",
       " [4] \"exanthema\"              \"vomiting\"               \"nausea\"                \n",
       " [7] \"back_pain\"              \"conjunctivitis\"         \"arthritis\"             \n",
       "[10] \"arthralgia\"             \"petechiae\"              \"leukopenia\"            \n",
       "[13] \"lasso_prove\"            \"retro_orbital_pain\"     \"diabetes\"              \n",
       "[16] \"hematological_diseases\" \"hepatopathies\"          \"chronic_kidney_disease\"\n",
       "[19] \"arterial_hypertension\"  \"acid_peptic_disease\"    \"autoimmune_diseases\"   \n",
       "[22] \"hospitalization\"        \"id_state\"               \"id_place\"              \n",
       "[25] \"dt_first_symptoms\"      \"epidemiological_week\"   \"race\"                  \n",
       "[28] \"schooling_years\"        \"dt_hospitalization\"     \"chikungunya\"           \n",
       "[31] \"death\"                  \"dt_death\"               \"age\"                   \n",
       "[34] \"sex\"                    \"pregnancy\"             "
      ]
     },
     "metadata": {},
     "output_type": "display_data"
    }
   ],
   "source": [
    "data %>% colnames"
   ]
  },
  {
   "cell_type": "code",
   "execution_count": 78,
   "id": "df7446b5",
   "metadata": {},
   "outputs": [],
   "source": [
    "data %>% select('fever','myalgia','headache','exanthema','vomiting','nausea','back_pain','conjunctivitis',\n",
    "    'arthritis','arthralgia','petechiae','leukopenia','lasso_prove','retro_orbital_pain','diabetes',\n",
    "    'arterial_hypertension','id_state','id_place','epidemiological_week','race', 'schooling_years','chikungunya', \n",
    "    'age','sex','pregnancy') -> data"
   ]
  },
  {
   "cell_type": "code",
   "execution_count": 79,
   "id": "8e017a0f",
   "metadata": {},
   "outputs": [
    {
     "data": {
      "text/html": [
       "<style>\n",
       ".list-inline {list-style: none; margin:0; padding: 0}\n",
       ".list-inline>li {display: inline-block}\n",
       ".list-inline>li:not(:last-child)::after {content: \"\\00b7\"; padding: 0 .5ex}\n",
       "</style>\n",
       "<ol class=list-inline><li>35546</li><li>25</li></ol>\n"
      ],
      "text/latex": [
       "\\begin{enumerate*}\n",
       "\\item 35546\n",
       "\\item 25\n",
       "\\end{enumerate*}\n"
      ],
      "text/markdown": [
       "1. 35546\n",
       "2. 25\n",
       "\n",
       "\n"
      ],
      "text/plain": [
       "[1] 35546    25"
      ]
     },
     "metadata": {},
     "output_type": "display_data"
    }
   ],
   "source": [
    "data %>% dim"
   ]
  },
  {
   "cell_type": "code",
   "execution_count": 80,
   "id": "e6baabf6",
   "metadata": {},
   "outputs": [
    {
     "data": {
      "text/html": [
       "<ol>\n",
       "\t<li>'fever'</li>\n",
       "\t<li>'myalgia'</li>\n",
       "\t<li>'headache'</li>\n",
       "\t<li>'exanthema'</li>\n",
       "\t<li>'vomiting'</li>\n",
       "\t<li>'nausea'</li>\n",
       "\t<li>'back_pain'</li>\n",
       "\t<li>'conjunctivitis'</li>\n",
       "\t<li>'arthritis'</li>\n",
       "\t<li>'arthralgia'</li>\n",
       "\t<li>'petechiae'</li>\n",
       "\t<li>'leukopenia'</li>\n",
       "\t<li>'lasso_prove'</li>\n",
       "\t<li>'retro_orbital_pain'</li>\n",
       "\t<li>'diabetes'</li>\n",
       "\t<li>'arterial_hypertension'</li>\n",
       "\t<li>'id_state'</li>\n",
       "\t<li>'id_place'</li>\n",
       "\t<li>'epidemiological_week'</li>\n",
       "\t<li>'race'</li>\n",
       "\t<li>'schooling_years'</li>\n",
       "\t<li>'chikungunya'</li>\n",
       "\t<li>'age'</li>\n",
       "\t<li>'sex'</li>\n",
       "\t<li>'pregnancy'</li>\n",
       "</ol>\n"
      ],
      "text/latex": [
       "\\begin{enumerate}\n",
       "\\item 'fever'\n",
       "\\item 'myalgia'\n",
       "\\item 'headache'\n",
       "\\item 'exanthema'\n",
       "\\item 'vomiting'\n",
       "\\item 'nausea'\n",
       "\\item 'back\\_pain'\n",
       "\\item 'conjunctivitis'\n",
       "\\item 'arthritis'\n",
       "\\item 'arthralgia'\n",
       "\\item 'petechiae'\n",
       "\\item 'leukopenia'\n",
       "\\item 'lasso\\_prove'\n",
       "\\item 'retro\\_orbital\\_pain'\n",
       "\\item 'diabetes'\n",
       "\\item 'arterial\\_hypertension'\n",
       "\\item 'id\\_state'\n",
       "\\item 'id\\_place'\n",
       "\\item 'epidemiological\\_week'\n",
       "\\item 'race'\n",
       "\\item 'schooling\\_years'\n",
       "\\item 'chikungunya'\n",
       "\\item 'age'\n",
       "\\item 'sex'\n",
       "\\item 'pregnancy'\n",
       "\\end{enumerate}\n"
      ],
      "text/markdown": [
       "1. 'fever'\n",
       "2. 'myalgia'\n",
       "3. 'headache'\n",
       "4. 'exanthema'\n",
       "5. 'vomiting'\n",
       "6. 'nausea'\n",
       "7. 'back_pain'\n",
       "8. 'conjunctivitis'\n",
       "9. 'arthritis'\n",
       "10. 'arthralgia'\n",
       "11. 'petechiae'\n",
       "12. 'leukopenia'\n",
       "13. 'lasso_prove'\n",
       "14. 'retro_orbital_pain'\n",
       "15. 'diabetes'\n",
       "16. 'arterial_hypertension'\n",
       "17. 'id_state'\n",
       "18. 'id_place'\n",
       "19. 'epidemiological_week'\n",
       "20. 'race'\n",
       "21. 'schooling_years'\n",
       "22. 'chikungunya'\n",
       "23. 'age'\n",
       "24. 'sex'\n",
       "25. 'pregnancy'\n",
       "\n",
       "\n"
      ],
      "text/plain": [
       "[[1]]\n",
       "[1] \"fever\"\n",
       "\n",
       "[[2]]\n",
       "[1] \"myalgia\"\n",
       "\n",
       "[[3]]\n",
       "[1] \"headache\"\n",
       "\n",
       "[[4]]\n",
       "[1] \"exanthema\"\n",
       "\n",
       "[[5]]\n",
       "[1] \"vomiting\"\n",
       "\n",
       "[[6]]\n",
       "[1] \"nausea\"\n",
       "\n",
       "[[7]]\n",
       "[1] \"back_pain\"\n",
       "\n",
       "[[8]]\n",
       "[1] \"conjunctivitis\"\n",
       "\n",
       "[[9]]\n",
       "[1] \"arthritis\"\n",
       "\n",
       "[[10]]\n",
       "[1] \"arthralgia\"\n",
       "\n",
       "[[11]]\n",
       "[1] \"petechiae\"\n",
       "\n",
       "[[12]]\n",
       "[1] \"leukopenia\"\n",
       "\n",
       "[[13]]\n",
       "[1] \"lasso_prove\"\n",
       "\n",
       "[[14]]\n",
       "[1] \"retro_orbital_pain\"\n",
       "\n",
       "[[15]]\n",
       "[1] \"diabetes\"\n",
       "\n",
       "[[16]]\n",
       "[1] \"arterial_hypertension\"\n",
       "\n",
       "[[17]]\n",
       "[1] \"id_state\"\n",
       "\n",
       "[[18]]\n",
       "[1] \"id_place\"\n",
       "\n",
       "[[19]]\n",
       "[1] \"epidemiological_week\"\n",
       "\n",
       "[[20]]\n",
       "[1] \"race\"\n",
       "\n",
       "[[21]]\n",
       "[1] \"schooling_years\"\n",
       "\n",
       "[[22]]\n",
       "[1] \"chikungunya\"\n",
       "\n",
       "[[23]]\n",
       "[1] \"age\"\n",
       "\n",
       "[[24]]\n",
       "[1] \"sex\"\n",
       "\n",
       "[[25]]\n",
       "[1] \"pregnancy\"\n"
      ]
     },
     "metadata": {},
     "output_type": "display_data"
    }
   ],
   "source": [
    "data %>% colnames %>% as.list"
   ]
  },
  {
   "cell_type": "code",
   "execution_count": 81,
   "id": "e3152430",
   "metadata": {},
   "outputs": [],
   "source": [
    "data %>% select(fever:schooling_years,age:pregnancy,chikungunya) %>%  write_csv('chikungunya_diagnose_20.csv')"
   ]
  },
  {
   "cell_type": "markdown",
   "id": "8a6db5ad",
   "metadata": {},
   "source": [
    "# Dataset3 - predicting death "
   ]
  },
  {
   "cell_type": "code",
   "execution_count": 83,
   "id": "c401defc",
   "metadata": {},
   "outputs": [],
   "source": [
    "data <- read.csv('clean_chikungunya_20.csv')\n",
    "\n",
    "# only confirmed cases\n",
    "data %>% filter(chikungunya == 13) -> data\n",
    "data %>% select(-chikungunya) -> data"
   ]
  },
  {
   "cell_type": "code",
   "execution_count": 84,
   "id": "a494c964",
   "metadata": {},
   "outputs": [
    {
     "data": {
      "text/html": [
       "<table class=\"dataframe\">\n",
       "<caption>A data.frame: 6 × 2</caption>\n",
       "<thead>\n",
       "\t<tr><th scope=col>death</th><th scope=col>n</th></tr>\n",
       "\t<tr><th scope=col>&lt;int&gt;</th><th scope=col>&lt;int&gt;</th></tr>\n",
       "</thead>\n",
       "<tbody>\n",
       "\t<tr><td> 0</td><td>26219</td></tr>\n",
       "\t<tr><td> 1</td><td>   18</td></tr>\n",
       "\t<tr><td> 3</td><td>   11</td></tr>\n",
       "\t<tr><td> 4</td><td>    9</td></tr>\n",
       "\t<tr><td> 9</td><td> 1286</td></tr>\n",
       "\t<tr><td>NA</td><td>  972</td></tr>\n",
       "</tbody>\n",
       "</table>\n"
      ],
      "text/latex": [
       "A data.frame: 6 × 2\n",
       "\\begin{tabular}{ll}\n",
       " death & n\\\\\n",
       " <int> & <int>\\\\\n",
       "\\hline\n",
       "\t  0 & 26219\\\\\n",
       "\t  1 &    18\\\\\n",
       "\t  3 &    11\\\\\n",
       "\t  4 &     9\\\\\n",
       "\t  9 &  1286\\\\\n",
       "\t NA &   972\\\\\n",
       "\\end{tabular}\n"
      ],
      "text/markdown": [
       "\n",
       "A data.frame: 6 × 2\n",
       "\n",
       "| death &lt;int&gt; | n &lt;int&gt; |\n",
       "|---|---|\n",
       "|  0 | 26219 |\n",
       "|  1 |    18 |\n",
       "|  3 |    11 |\n",
       "|  4 |     9 |\n",
       "|  9 |  1286 |\n",
       "| NA |   972 |\n",
       "\n"
      ],
      "text/plain": [
       "  death n    \n",
       "1  0    26219\n",
       "2  1       18\n",
       "3  3       11\n",
       "4  4        9\n",
       "5  9     1286\n",
       "6 NA      972"
      ]
     },
     "metadata": {},
     "output_type": "display_data"
    },
    {
     "data": {
      "text/html": [
       "<style>\n",
       ".list-inline {list-style: none; margin:0; padding: 0}\n",
       ".list-inline>li {display: inline-block}\n",
       ".list-inline>li:not(:last-child)::after {content: \"\\00b7\"; padding: 0 .5ex}\n",
       "</style>\n",
       "<ol class=list-inline><li>28515</li><li>34</li></ol>\n"
      ],
      "text/latex": [
       "\\begin{enumerate*}\n",
       "\\item 28515\n",
       "\\item 34\n",
       "\\end{enumerate*}\n"
      ],
      "text/markdown": [
       "1. 28515\n",
       "2. 34\n",
       "\n",
       "\n"
      ],
      "text/plain": [
       "[1] 28515    34"
      ]
     },
     "metadata": {},
     "output_type": "display_data"
    }
   ],
   "source": [
    "data %>% count(death)\n",
    "\n",
    "data %>% dim"
   ]
  },
  {
   "cell_type": "code",
   "execution_count": 85,
   "id": "ff1ee881",
   "metadata": {},
   "outputs": [
    {
     "data": {
      "text/html": [
       "<table class=\"dataframe\">\n",
       "<caption>A data.frame: 6 × 2</caption>\n",
       "<thead>\n",
       "\t<tr><th scope=col>death</th><th scope=col>n</th></tr>\n",
       "\t<tr><th scope=col>&lt;int&gt;</th><th scope=col>&lt;int&gt;</th></tr>\n",
       "</thead>\n",
       "<tbody>\n",
       "\t<tr><td> 0</td><td>26219</td></tr>\n",
       "\t<tr><td> 1</td><td>   18</td></tr>\n",
       "\t<tr><td> 3</td><td>   11</td></tr>\n",
       "\t<tr><td> 4</td><td>    9</td></tr>\n",
       "\t<tr><td> 9</td><td> 1286</td></tr>\n",
       "\t<tr><td>NA</td><td>  972</td></tr>\n",
       "</tbody>\n",
       "</table>\n"
      ],
      "text/latex": [
       "A data.frame: 6 × 2\n",
       "\\begin{tabular}{ll}\n",
       " death & n\\\\\n",
       " <int> & <int>\\\\\n",
       "\\hline\n",
       "\t  0 & 26219\\\\\n",
       "\t  1 &    18\\\\\n",
       "\t  3 &    11\\\\\n",
       "\t  4 &     9\\\\\n",
       "\t  9 &  1286\\\\\n",
       "\t NA &   972\\\\\n",
       "\\end{tabular}\n"
      ],
      "text/markdown": [
       "\n",
       "A data.frame: 6 × 2\n",
       "\n",
       "| death &lt;int&gt; | n &lt;int&gt; |\n",
       "|---|---|\n",
       "|  0 | 26219 |\n",
       "|  1 |    18 |\n",
       "|  3 |    11 |\n",
       "|  4 |     9 |\n",
       "|  9 |  1286 |\n",
       "| NA |   972 |\n",
       "\n"
      ],
      "text/plain": [
       "  death n    \n",
       "1  0    26219\n",
       "2  1       18\n",
       "3  3       11\n",
       "4  4        9\n",
       "5  9     1286\n",
       "6 NA      972"
      ]
     },
     "metadata": {},
     "output_type": "display_data"
    },
    {
     "data": {
      "text/html": [
       "<style>\n",
       ".list-inline {list-style: none; margin:0; padding: 0}\n",
       ".list-inline>li {display: inline-block}\n",
       ".list-inline>li:not(:last-child)::after {content: \"\\00b7\"; padding: 0 .5ex}\n",
       "</style>\n",
       "<ol class=list-inline><li>26237</li><li>34</li></ol>\n"
      ],
      "text/latex": [
       "\\begin{enumerate*}\n",
       "\\item 26237\n",
       "\\item 34\n",
       "\\end{enumerate*}\n"
      ],
      "text/markdown": [
       "1. 26237\n",
       "2. 34\n",
       "\n",
       "\n"
      ],
      "text/plain": [
       "[1] 26237    34"
      ]
     },
     "metadata": {},
     "output_type": "display_data"
    },
    {
     "data": {
      "text/html": [
       "<table class=\"dataframe\">\n",
       "<caption>A data.frame: 2 × 2</caption>\n",
       "<thead>\n",
       "\t<tr><th scope=col>death</th><th scope=col>n</th></tr>\n",
       "\t<tr><th scope=col>&lt;int&gt;</th><th scope=col>&lt;int&gt;</th></tr>\n",
       "</thead>\n",
       "<tbody>\n",
       "\t<tr><td>0</td><td>26219</td></tr>\n",
       "\t<tr><td>1</td><td>   18</td></tr>\n",
       "</tbody>\n",
       "</table>\n"
      ],
      "text/latex": [
       "A data.frame: 2 × 2\n",
       "\\begin{tabular}{ll}\n",
       " death & n\\\\\n",
       " <int> & <int>\\\\\n",
       "\\hline\n",
       "\t 0 & 26219\\\\\n",
       "\t 1 &    18\\\\\n",
       "\\end{tabular}\n"
      ],
      "text/markdown": [
       "\n",
       "A data.frame: 2 × 2\n",
       "\n",
       "| death &lt;int&gt; | n &lt;int&gt; |\n",
       "|---|---|\n",
       "| 0 | 26219 |\n",
       "| 1 |    18 |\n",
       "\n"
      ],
      "text/plain": [
       "  death n    \n",
       "1 0     26219\n",
       "2 1        18"
      ]
     },
     "metadata": {},
     "output_type": "display_data"
    }
   ],
   "source": [
    "# only cured or dead by the disease\n",
    "\n",
    "data %>% count(death)\n",
    "data %>% filter(death == 1 | death == 0) -> data\n",
    "\n",
    "data %>% dim\n",
    "\n",
    "data %>% count(death)"
   ]
  },
  {
   "cell_type": "code",
   "execution_count": 86,
   "id": "36db4545",
   "metadata": {},
   "outputs": [
    {
     "data": {
      "text/html": [
       "<table class=\"dataframe\">\n",
       "<caption>A data.frame: 2 × 2</caption>\n",
       "<thead>\n",
       "\t<tr><th scope=col>death</th><th scope=col>n</th></tr>\n",
       "\t<tr><th scope=col>&lt;int&gt;</th><th scope=col>&lt;int&gt;</th></tr>\n",
       "</thead>\n",
       "<tbody>\n",
       "\t<tr><td>0</td><td>535</td></tr>\n",
       "\t<tr><td>1</td><td> 15</td></tr>\n",
       "</tbody>\n",
       "</table>\n"
      ],
      "text/latex": [
       "A data.frame: 2 × 2\n",
       "\\begin{tabular}{ll}\n",
       " death & n\\\\\n",
       " <int> & <int>\\\\\n",
       "\\hline\n",
       "\t 0 & 535\\\\\n",
       "\t 1 &  15\\\\\n",
       "\\end{tabular}\n"
      ],
      "text/markdown": [
       "\n",
       "A data.frame: 2 × 2\n",
       "\n",
       "| death &lt;int&gt; | n &lt;int&gt; |\n",
       "|---|---|\n",
       "| 0 | 535 |\n",
       "| 1 |  15 |\n",
       "\n"
      ],
      "text/plain": [
       "  death n  \n",
       "1 0     535\n",
       "2 1      15"
      ]
     },
     "metadata": {},
     "output_type": "display_data"
    }
   ],
   "source": [
    "# filter hospitalized patients\n",
    "\n",
    "data %>% filter(hospitalization == 1) %>% count(death)\n",
    "data %>% filter(hospitalization == 1) -> data"
   ]
  },
  {
   "cell_type": "code",
   "execution_count": 87,
   "id": "13017720",
   "metadata": {},
   "outputs": [
    {
     "data": {
      "text/html": [
       "<table class=\"dataframe\">\n",
       "<caption>A data.frame: 10 × 2</caption>\n",
       "<thead>\n",
       "\t<tr><th scope=col>days</th><th scope=col>n</th></tr>\n",
       "\t<tr><th scope=col>&lt;dbl&gt;</th><th scope=col>&lt;int&gt;</th></tr>\n",
       "</thead>\n",
       "<tbody>\n",
       "\t<tr><td> 0</td><td>  2</td></tr>\n",
       "\t<tr><td> 1</td><td>  2</td></tr>\n",
       "\t<tr><td> 2</td><td>  1</td></tr>\n",
       "\t<tr><td> 3</td><td>  1</td></tr>\n",
       "\t<tr><td> 5</td><td>  1</td></tr>\n",
       "\t<tr><td> 6</td><td>  1</td></tr>\n",
       "\t<tr><td>16</td><td>  1</td></tr>\n",
       "\t<tr><td>28</td><td>  2</td></tr>\n",
       "\t<tr><td>31</td><td>  1</td></tr>\n",
       "\t<tr><td>NA</td><td>538</td></tr>\n",
       "</tbody>\n",
       "</table>\n"
      ],
      "text/latex": [
       "A data.frame: 10 × 2\n",
       "\\begin{tabular}{ll}\n",
       " days & n\\\\\n",
       " <dbl> & <int>\\\\\n",
       "\\hline\n",
       "\t  0 &   2\\\\\n",
       "\t  1 &   2\\\\\n",
       "\t  2 &   1\\\\\n",
       "\t  3 &   1\\\\\n",
       "\t  5 &   1\\\\\n",
       "\t  6 &   1\\\\\n",
       "\t 16 &   1\\\\\n",
       "\t 28 &   2\\\\\n",
       "\t 31 &   1\\\\\n",
       "\t NA & 538\\\\\n",
       "\\end{tabular}\n"
      ],
      "text/markdown": [
       "\n",
       "A data.frame: 10 × 2\n",
       "\n",
       "| days &lt;dbl&gt; | n &lt;int&gt; |\n",
       "|---|---|\n",
       "|  0 |   2 |\n",
       "|  1 |   2 |\n",
       "|  2 |   1 |\n",
       "|  3 |   1 |\n",
       "|  5 |   1 |\n",
       "|  6 |   1 |\n",
       "| 16 |   1 |\n",
       "| 28 |   2 |\n",
       "| 31 |   1 |\n",
       "| NA | 538 |\n",
       "\n"
      ],
      "text/plain": [
       "   days n  \n",
       "1   0     2\n",
       "2   1     2\n",
       "3   2     1\n",
       "4   3     1\n",
       "5   5     1\n",
       "6   6     1\n",
       "7  16     1\n",
       "8  28     2\n",
       "9  31     1\n",
       "10 NA   538"
      ]
     },
     "metadata": {},
     "output_type": "display_data"
    },
    {
     "data": {
      "text/html": [
       "<table class=\"dataframe\">\n",
       "<caption>A data.frame: 2 × 2</caption>\n",
       "<thead>\n",
       "\t<tr><th scope=col>death</th><th scope=col>n</th></tr>\n",
       "\t<tr><th scope=col>&lt;int&gt;</th><th scope=col>&lt;int&gt;</th></tr>\n",
       "</thead>\n",
       "<tbody>\n",
       "\t<tr><td>0</td><td>535</td></tr>\n",
       "\t<tr><td>1</td><td> 14</td></tr>\n",
       "</tbody>\n",
       "</table>\n"
      ],
      "text/latex": [
       "A data.frame: 2 × 2\n",
       "\\begin{tabular}{ll}\n",
       " death & n\\\\\n",
       " <int> & <int>\\\\\n",
       "\\hline\n",
       "\t 0 & 535\\\\\n",
       "\t 1 &  14\\\\\n",
       "\\end{tabular}\n"
      ],
      "text/markdown": [
       "\n",
       "A data.frame: 2 × 2\n",
       "\n",
       "| death &lt;int&gt; | n &lt;int&gt; |\n",
       "|---|---|\n",
       "| 0 | 535 |\n",
       "| 1 |  14 |\n",
       "\n"
      ],
      "text/plain": [
       "  death n  \n",
       "1 0     535\n",
       "2 1      14"
      ]
     },
     "metadata": {},
     "output_type": "display_data"
    }
   ],
   "source": [
    "# create a column with the number of days between the disease investigation and death\n",
    "\n",
    "data$dt_hospitalization <- as.Date(data$dt_hospitalization)\n",
    "data$dt_death <- as.Date(data$dt_death)\n",
    "\n",
    "data %>% mutate(days = difftime(dt_death, dt_hospitalization, units = 'days')) -> data\n",
    "\n",
    "data$days <- as.numeric(data$days)\n",
    "\n",
    "data %>% count(days)\n",
    "\n",
    "# remove patients that died after 30 days of the first sympthoms\n",
    "\n",
    "data %>% filter(days < 31| is.na(days)) -> data\n",
    "\n",
    "data %>% count(death)\n",
    "\n",
    "data %>% select(-days) -> data"
   ]
  },
  {
   "cell_type": "code",
   "execution_count": 89,
   "id": "a3d414f7",
   "metadata": {},
   "outputs": [],
   "source": [
    "data %>% select(c('fever','myalgia','headache','exanthema','vomiting','nausea','back_pain','arthritis',\n",
    "                  'arthralgia','diabetes','chronic_kidney_disease','arterial_hypertension','id_state',\n",
    "                  'id_place','epidemiological_week','race','schooling_years','death','age','sex')) -> data"
   ]
  },
  {
   "cell_type": "code",
   "execution_count": 90,
   "id": "9a438c33",
   "metadata": {},
   "outputs": [
    {
     "data": {
      "text/html": [
       "<style>\n",
       ".list-inline {list-style: none; margin:0; padding: 0}\n",
       ".list-inline>li {display: inline-block}\n",
       ".list-inline>li:not(:last-child)::after {content: \"\\00b7\"; padding: 0 .5ex}\n",
       "</style>\n",
       "<ol class=list-inline><li>'fever'</li><li>'myalgia'</li><li>'headache'</li><li>'exanthema'</li><li>'vomiting'</li><li>'nausea'</li><li>'back_pain'</li><li>'arthritis'</li><li>'arthralgia'</li><li>'diabetes'</li><li>'chronic_kidney_disease'</li><li>'arterial_hypertension'</li><li>'id_state'</li><li>'id_place'</li><li>'epidemiological_week'</li><li>'race'</li><li>'schooling_years'</li><li>'death'</li><li>'age'</li><li>'sex'</li></ol>\n"
      ],
      "text/latex": [
       "\\begin{enumerate*}\n",
       "\\item 'fever'\n",
       "\\item 'myalgia'\n",
       "\\item 'headache'\n",
       "\\item 'exanthema'\n",
       "\\item 'vomiting'\n",
       "\\item 'nausea'\n",
       "\\item 'back\\_pain'\n",
       "\\item 'arthritis'\n",
       "\\item 'arthralgia'\n",
       "\\item 'diabetes'\n",
       "\\item 'chronic\\_kidney\\_disease'\n",
       "\\item 'arterial\\_hypertension'\n",
       "\\item 'id\\_state'\n",
       "\\item 'id\\_place'\n",
       "\\item 'epidemiological\\_week'\n",
       "\\item 'race'\n",
       "\\item 'schooling\\_years'\n",
       "\\item 'death'\n",
       "\\item 'age'\n",
       "\\item 'sex'\n",
       "\\end{enumerate*}\n"
      ],
      "text/markdown": [
       "1. 'fever'\n",
       "2. 'myalgia'\n",
       "3. 'headache'\n",
       "4. 'exanthema'\n",
       "5. 'vomiting'\n",
       "6. 'nausea'\n",
       "7. 'back_pain'\n",
       "8. 'arthritis'\n",
       "9. 'arthralgia'\n",
       "10. 'diabetes'\n",
       "11. 'chronic_kidney_disease'\n",
       "12. 'arterial_hypertension'\n",
       "13. 'id_state'\n",
       "14. 'id_place'\n",
       "15. 'epidemiological_week'\n",
       "16. 'race'\n",
       "17. 'schooling_years'\n",
       "18. 'death'\n",
       "19. 'age'\n",
       "20. 'sex'\n",
       "\n",
       "\n"
      ],
      "text/plain": [
       " [1] \"fever\"                  \"myalgia\"                \"headache\"              \n",
       " [4] \"exanthema\"              \"vomiting\"               \"nausea\"                \n",
       " [7] \"back_pain\"              \"arthritis\"              \"arthralgia\"            \n",
       "[10] \"diabetes\"               \"chronic_kidney_disease\" \"arterial_hypertension\" \n",
       "[13] \"id_state\"               \"id_place\"               \"epidemiological_week\"  \n",
       "[16] \"race\"                   \"schooling_years\"        \"death\"                 \n",
       "[19] \"age\"                    \"sex\"                   "
      ]
     },
     "metadata": {},
     "output_type": "display_data"
    },
    {
     "data": {
      "text/html": [
       "<style>\n",
       ".list-inline {list-style: none; margin:0; padding: 0}\n",
       ".list-inline>li {display: inline-block}\n",
       ".list-inline>li:not(:last-child)::after {content: \"\\00b7\"; padding: 0 .5ex}\n",
       "</style>\n",
       "<ol class=list-inline><li>549</li><li>20</li></ol>\n"
      ],
      "text/latex": [
       "\\begin{enumerate*}\n",
       "\\item 549\n",
       "\\item 20\n",
       "\\end{enumerate*}\n"
      ],
      "text/markdown": [
       "1. 549\n",
       "2. 20\n",
       "\n",
       "\n"
      ],
      "text/plain": [
       "[1] 549  20"
      ]
     },
     "metadata": {},
     "output_type": "display_data"
    },
    {
     "data": {
      "text/html": [
       "<table class=\"dataframe\">\n",
       "<caption>A data.frame: 2 × 2</caption>\n",
       "<thead>\n",
       "\t<tr><th scope=col>death</th><th scope=col>n</th></tr>\n",
       "\t<tr><th scope=col>&lt;int&gt;</th><th scope=col>&lt;int&gt;</th></tr>\n",
       "</thead>\n",
       "<tbody>\n",
       "\t<tr><td>0</td><td>535</td></tr>\n",
       "\t<tr><td>1</td><td> 14</td></tr>\n",
       "</tbody>\n",
       "</table>\n"
      ],
      "text/latex": [
       "A data.frame: 2 × 2\n",
       "\\begin{tabular}{ll}\n",
       " death & n\\\\\n",
       " <int> & <int>\\\\\n",
       "\\hline\n",
       "\t 0 & 535\\\\\n",
       "\t 1 &  14\\\\\n",
       "\\end{tabular}\n"
      ],
      "text/markdown": [
       "\n",
       "A data.frame: 2 × 2\n",
       "\n",
       "| death &lt;int&gt; | n &lt;int&gt; |\n",
       "|---|---|\n",
       "| 0 | 535 |\n",
       "| 1 |  14 |\n",
       "\n"
      ],
      "text/plain": [
       "  death n  \n",
       "1 0     535\n",
       "2 1      14"
      ]
     },
     "metadata": {},
     "output_type": "display_data"
    }
   ],
   "source": [
    "data %>% colnames\n",
    "\n",
    "data %>% dim\n",
    "\n",
    "data %>% count(death)\n",
    "\n",
    "data %>% select(fever:schooling_years, age, sex, death) -> data\n",
    "data %>% write_csv('chikungunya_hospitalized_20.csv')"
   ]
  }
 ],
 "metadata": {
  "kernelspec": {
   "display_name": "R",
   "language": "R",
   "name": "ir"
  },
  "language_info": {
   "codemirror_mode": "r",
   "file_extension": ".r",
   "mimetype": "text/x-r-source",
   "name": "R",
   "pygments_lexer": "r",
   "version": "4.2.2"
  }
 },
 "nbformat": 4,
 "nbformat_minor": 5
}
