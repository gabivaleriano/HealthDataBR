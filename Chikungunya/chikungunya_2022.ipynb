{
 "cells": [
  {
   "cell_type": "markdown",
   "id": "f5a4c399",
   "metadata": {},
   "source": [
    "This notebook contains code designed for data inspection and filtering, aimed at creating classification datasets suitable for machine learning predictive tasks. For more comprehensive details about the datasets, including information about data collection methods, sources, and a dictionary of variables, please visit the project repository on GitHub: \\url{https://github.com/gabivaleriano/HealthDataBR}."
   ]
  },
  {
   "cell_type": "code",
   "execution_count": 1,
   "id": "a0349904",
   "metadata": {},
   "outputs": [
    {
     "name": "stderr",
     "output_type": "stream",
     "text": [
      "── \u001b[1mAttaching core tidyverse packages\u001b[22m ──────────────────────── tidyverse 2.0.0 ──\n",
      "\u001b[32m✔\u001b[39m \u001b[34mdplyr    \u001b[39m 1.1.2     \u001b[32m✔\u001b[39m \u001b[34mreadr    \u001b[39m 2.1.4\n",
      "\u001b[32m✔\u001b[39m \u001b[34mforcats  \u001b[39m 1.0.0     \u001b[32m✔\u001b[39m \u001b[34mstringr  \u001b[39m 1.5.0\n",
      "\u001b[32m✔\u001b[39m \u001b[34mggplot2  \u001b[39m 3.4.2     \u001b[32m✔\u001b[39m \u001b[34mtibble   \u001b[39m 3.2.1\n",
      "\u001b[32m✔\u001b[39m \u001b[34mlubridate\u001b[39m 1.9.2     \u001b[32m✔\u001b[39m \u001b[34mtidyr    \u001b[39m 1.3.0\n",
      "\u001b[32m✔\u001b[39m \u001b[34mpurrr    \u001b[39m 1.0.1     \n",
      "── \u001b[1mConflicts\u001b[22m ────────────────────────────────────────── tidyverse_conflicts() ──\n",
      "\u001b[31m✖\u001b[39m \u001b[34mdplyr\u001b[39m::\u001b[32mfilter()\u001b[39m masks \u001b[34mstats\u001b[39m::filter()\n",
      "\u001b[31m✖\u001b[39m \u001b[34mdplyr\u001b[39m::\u001b[32mlag()\u001b[39m    masks \u001b[34mstats\u001b[39m::lag()\n",
      "\u001b[36mℹ\u001b[39m Use the conflicted package (\u001b[3m\u001b[34m<http://conflicted.r-lib.org/>\u001b[39m\u001b[23m) to force all conflicts to become errors\n"
     ]
    }
   ],
   "source": [
    "library(tidyverse)"
   ]
  },
  {
   "cell_type": "code",
   "execution_count": 2,
   "id": "15098e2c",
   "metadata": {},
   "outputs": [],
   "source": [
    "# read data\n",
    "data <- read.csv('CHIKBR22.csv')"
   ]
  },
  {
   "cell_type": "markdown",
   "id": "792a18c6",
   "metadata": {},
   "source": [
    "### Filter 1: remove duplicates"
   ]
  },
  {
   "cell_type": "code",
   "execution_count": 3,
   "id": "59c385a6",
   "metadata": {},
   "outputs": [
    {
     "data": {
      "text/html": [
       "<style>\n",
       ".list-inline {list-style: none; margin:0; padding: 0}\n",
       ".list-inline>li {display: inline-block}\n",
       ".list-inline>li:not(:last-child)::after {content: \"\\00b7\"; padding: 0 .5ex}\n",
       "</style>\n",
       "<ol class=list-inline><li>269960</li><li>122</li></ol>\n"
      ],
      "text/latex": [
       "\\begin{enumerate*}\n",
       "\\item 269960\n",
       "\\item 122\n",
       "\\end{enumerate*}\n"
      ],
      "text/markdown": [
       "1. 269960\n",
       "2. 122\n",
       "\n",
       "\n"
      ],
      "text/plain": [
       "[1] 269960    122"
      ]
     },
     "metadata": {},
     "output_type": "display_data"
    },
    {
     "data": {
      "text/html": [
       "<style>\n",
       ".list-inline {list-style: none; margin:0; padding: 0}\n",
       ".list-inline>li {display: inline-block}\n",
       ".list-inline>li:not(:last-child)::after {content: \"\\00b7\"; padding: 0 .5ex}\n",
       "</style>\n",
       "<ol class=list-inline><li>269823</li><li>122</li></ol>\n"
      ],
      "text/latex": [
       "\\begin{enumerate*}\n",
       "\\item 269823\n",
       "\\item 122\n",
       "\\end{enumerate*}\n"
      ],
      "text/markdown": [
       "1. 269823\n",
       "2. 122\n",
       "\n",
       "\n"
      ],
      "text/plain": [
       "[1] 269823    122"
      ]
     },
     "metadata": {},
     "output_type": "display_data"
    }
   ],
   "source": [
    "# check and remove duplicates\n",
    "\n",
    "data %>% dim\n",
    "data %>% unique %>% dim\n",
    "data %>% unique -> data"
   ]
  },
  {
   "cell_type": "code",
   "execution_count": 4,
   "id": "db27cc8d",
   "metadata": {},
   "outputs": [
    {
     "data": {
      "text/html": [
       "<table class=\"dataframe\">\n",
       "<caption>A data.frame: 26 × 2</caption>\n",
       "<thead>\n",
       "\t<tr><th scope=col>SG_UF_NOT</th><th scope=col>n</th></tr>\n",
       "\t<tr><th scope=col>&lt;int&gt;</th><th scope=col>&lt;int&gt;</th></tr>\n",
       "</thead>\n",
       "<tbody>\n",
       "\t<tr><td>11</td><td>  502</td></tr>\n",
       "\t<tr><td>12</td><td>  207</td></tr>\n",
       "\t<tr><td>13</td><td>  470</td></tr>\n",
       "\t<tr><td>14</td><td>  427</td></tr>\n",
       "\t<tr><td>15</td><td> 1575</td></tr>\n",
       "\t<tr><td>16</td><td>  164</td></tr>\n",
       "\t<tr><td>17</td><td> 9139</td></tr>\n",
       "\t<tr><td>21</td><td> 3422</td></tr>\n",
       "\t<tr><td>22</td><td>12280</td></tr>\n",
       "\t<tr><td>23</td><td>80228</td></tr>\n",
       "\t<tr><td>24</td><td>19533</td></tr>\n",
       "\t<tr><td>25</td><td>24308</td></tr>\n",
       "\t<tr><td>26</td><td>35249</td></tr>\n",
       "\t<tr><td>27</td><td>11985</td></tr>\n",
       "\t<tr><td>28</td><td> 8294</td></tr>\n",
       "\t<tr><td>29</td><td>24849</td></tr>\n",
       "\t<tr><td>31</td><td>16746</td></tr>\n",
       "\t<tr><td>33</td><td> 1663</td></tr>\n",
       "\t<tr><td>35</td><td> 4977</td></tr>\n",
       "\t<tr><td>41</td><td>  464</td></tr>\n",
       "\t<tr><td>42</td><td>  848</td></tr>\n",
       "\t<tr><td>43</td><td>  739</td></tr>\n",
       "\t<tr><td>50</td><td> 4333</td></tr>\n",
       "\t<tr><td>51</td><td>  464</td></tr>\n",
       "\t<tr><td>52</td><td> 5944</td></tr>\n",
       "\t<tr><td>53</td><td> 1013</td></tr>\n",
       "</tbody>\n",
       "</table>\n"
      ],
      "text/latex": [
       "A data.frame: 26 × 2\n",
       "\\begin{tabular}{ll}\n",
       " SG\\_UF\\_NOT & n\\\\\n",
       " <int> & <int>\\\\\n",
       "\\hline\n",
       "\t 11 &   502\\\\\n",
       "\t 12 &   207\\\\\n",
       "\t 13 &   470\\\\\n",
       "\t 14 &   427\\\\\n",
       "\t 15 &  1575\\\\\n",
       "\t 16 &   164\\\\\n",
       "\t 17 &  9139\\\\\n",
       "\t 21 &  3422\\\\\n",
       "\t 22 & 12280\\\\\n",
       "\t 23 & 80228\\\\\n",
       "\t 24 & 19533\\\\\n",
       "\t 25 & 24308\\\\\n",
       "\t 26 & 35249\\\\\n",
       "\t 27 & 11985\\\\\n",
       "\t 28 &  8294\\\\\n",
       "\t 29 & 24849\\\\\n",
       "\t 31 & 16746\\\\\n",
       "\t 33 &  1663\\\\\n",
       "\t 35 &  4977\\\\\n",
       "\t 41 &   464\\\\\n",
       "\t 42 &   848\\\\\n",
       "\t 43 &   739\\\\\n",
       "\t 50 &  4333\\\\\n",
       "\t 51 &   464\\\\\n",
       "\t 52 &  5944\\\\\n",
       "\t 53 &  1013\\\\\n",
       "\\end{tabular}\n"
      ],
      "text/markdown": [
       "\n",
       "A data.frame: 26 × 2\n",
       "\n",
       "| SG_UF_NOT &lt;int&gt; | n &lt;int&gt; |\n",
       "|---|---|\n",
       "| 11 |   502 |\n",
       "| 12 |   207 |\n",
       "| 13 |   470 |\n",
       "| 14 |   427 |\n",
       "| 15 |  1575 |\n",
       "| 16 |   164 |\n",
       "| 17 |  9139 |\n",
       "| 21 |  3422 |\n",
       "| 22 | 12280 |\n",
       "| 23 | 80228 |\n",
       "| 24 | 19533 |\n",
       "| 25 | 24308 |\n",
       "| 26 | 35249 |\n",
       "| 27 | 11985 |\n",
       "| 28 |  8294 |\n",
       "| 29 | 24849 |\n",
       "| 31 | 16746 |\n",
       "| 33 |  1663 |\n",
       "| 35 |  4977 |\n",
       "| 41 |   464 |\n",
       "| 42 |   848 |\n",
       "| 43 |   739 |\n",
       "| 50 |  4333 |\n",
       "| 51 |   464 |\n",
       "| 52 |  5944 |\n",
       "| 53 |  1013 |\n",
       "\n"
      ],
      "text/plain": [
       "   SG_UF_NOT n    \n",
       "1  11          502\n",
       "2  12          207\n",
       "3  13          470\n",
       "4  14          427\n",
       "5  15         1575\n",
       "6  16          164\n",
       "7  17         9139\n",
       "8  21         3422\n",
       "9  22        12280\n",
       "10 23        80228\n",
       "11 24        19533\n",
       "12 25        24308\n",
       "13 26        35249\n",
       "14 27        11985\n",
       "15 28         8294\n",
       "16 29        24849\n",
       "17 31        16746\n",
       "18 33         1663\n",
       "19 35         4977\n",
       "20 41          464\n",
       "21 42          848\n",
       "22 43          739\n",
       "23 50         4333\n",
       "24 51          464\n",
       "25 52         5944\n",
       "26 53         1013"
      ]
     },
     "metadata": {},
     "output_type": "display_data"
    }
   ],
   "source": [
    "# inspecting data distribution according to state\n",
    "\n",
    "data %>% count(SG_UF_NOT)"
   ]
  },
  {
   "cell_type": "code",
   "execution_count": 5,
   "id": "7c7360be",
   "metadata": {},
   "outputs": [
    {
     "data": {
      "text/html": [
       "<table class=\"dataframe\">\n",
       "<caption>A data.frame: 6 × 122</caption>\n",
       "<thead>\n",
       "\t<tr><th></th><th scope=col>TP_NOT</th><th scope=col>ID_AGRAVO</th><th scope=col>DT_NOTIFIC</th><th scope=col>SEM_NOT</th><th scope=col>NU_ANO</th><th scope=col>SG_UF_NOT</th><th scope=col>ID_MUNICIP</th><th scope=col>ID_REGIONA</th><th scope=col>ID_UNIDADE</th><th scope=col>DT_SIN_PRI</th><th scope=col>⋯</th><th scope=col>PLAQ_MENOR</th><th scope=col>CON_FHD</th><th scope=col>COMPLICA</th><th scope=col>NU_LOTE_I</th><th scope=col>TP_SISTEMA</th><th scope=col>NDUPLIC_N</th><th scope=col>DT_DIGITA</th><th scope=col>CS_FLXRET</th><th scope=col>FLXRECEBI</th><th scope=col>MIGRADO_W</th></tr>\n",
       "\t<tr><th></th><th scope=col>&lt;int&gt;</th><th scope=col>&lt;chr&gt;</th><th scope=col>&lt;chr&gt;</th><th scope=col>&lt;int&gt;</th><th scope=col>&lt;int&gt;</th><th scope=col>&lt;int&gt;</th><th scope=col>&lt;int&gt;</th><th scope=col>&lt;int&gt;</th><th scope=col>&lt;int&gt;</th><th scope=col>&lt;chr&gt;</th><th scope=col>⋯</th><th scope=col>&lt;lgl&gt;</th><th scope=col>&lt;lgl&gt;</th><th scope=col>&lt;lgl&gt;</th><th scope=col>&lt;int&gt;</th><th scope=col>&lt;int&gt;</th><th scope=col>&lt;int&gt;</th><th scope=col>&lt;chr&gt;</th><th scope=col>&lt;lgl&gt;</th><th scope=col>&lt;lgl&gt;</th><th scope=col>&lt;lgl&gt;</th></tr>\n",
       "</thead>\n",
       "<tbody>\n",
       "\t<tr><th scope=row>1</th><td>2</td><td>A92.0</td><td>2022-01-28</td><td>202204</td><td>2022</td><td>12</td><td>120033</td><td>1941</td><td>2000083</td><td>2022-01-23</td><td>⋯</td><td>NA</td><td>NA</td><td>NA</td><td>NA</td><td>2</td><td>NA</td><td>2022-03-18</td><td>NA</td><td>NA</td><td>NA</td></tr>\n",
       "\t<tr><th scope=row>2</th><td>2</td><td>A92.0</td><td>2022-03-14</td><td>202211</td><td>2022</td><td>12</td><td>120040</td><td>1938</td><td>3689921</td><td>2022-03-01</td><td>⋯</td><td>NA</td><td>NA</td><td>NA</td><td>NA</td><td>2</td><td>NA</td><td>2022-03-21</td><td>NA</td><td>NA</td><td>NA</td></tr>\n",
       "\t<tr><th scope=row>3</th><td>2</td><td>A92.0</td><td>2022-01-08</td><td>202201</td><td>2022</td><td>12</td><td>120033</td><td>1941</td><td>9542566</td><td>2022-01-07</td><td>⋯</td><td>NA</td><td>NA</td><td>NA</td><td>NA</td><td>2</td><td>NA</td><td>2022-03-16</td><td>NA</td><td>NA</td><td>NA</td></tr>\n",
       "\t<tr><th scope=row>4</th><td>2</td><td>A92.0</td><td>2022-02-23</td><td>202208</td><td>2022</td><td>12</td><td>120033</td><td>1941</td><td>6568629</td><td>2022-02-16</td><td>⋯</td><td>NA</td><td>NA</td><td>NA</td><td>NA</td><td>2</td><td>NA</td><td>2022-03-18</td><td>NA</td><td>NA</td><td>NA</td></tr>\n",
       "\t<tr><th scope=row>5</th><td>2</td><td>A92.0</td><td>2022-01-06</td><td>202201</td><td>2022</td><td>12</td><td>120040</td><td>1938</td><td>6119697</td><td>2022-01-05</td><td>⋯</td><td>NA</td><td>NA</td><td>NA</td><td>NA</td><td>2</td><td>NA</td><td>2022-01-11</td><td>NA</td><td>NA</td><td>NA</td></tr>\n",
       "\t<tr><th scope=row>6</th><td>2</td><td>A92.0</td><td>2022-01-11</td><td>202202</td><td>2022</td><td>12</td><td>120040</td><td>1938</td><td>6119697</td><td>2022-01-10</td><td>⋯</td><td>NA</td><td>NA</td><td>NA</td><td>NA</td><td>2</td><td>NA</td><td>2022-01-19</td><td>NA</td><td>NA</td><td>NA</td></tr>\n",
       "</tbody>\n",
       "</table>\n"
      ],
      "text/latex": [
       "A data.frame: 6 × 122\n",
       "\\begin{tabular}{r|lllllllllllllllllllll}\n",
       "  & TP\\_NOT & ID\\_AGRAVO & DT\\_NOTIFIC & SEM\\_NOT & NU\\_ANO & SG\\_UF\\_NOT & ID\\_MUNICIP & ID\\_REGIONA & ID\\_UNIDADE & DT\\_SIN\\_PRI & ⋯ & PLAQ\\_MENOR & CON\\_FHD & COMPLICA & NU\\_LOTE\\_I & TP\\_SISTEMA & NDUPLIC\\_N & DT\\_DIGITA & CS\\_FLXRET & FLXRECEBI & MIGRADO\\_W\\\\\n",
       "  & <int> & <chr> & <chr> & <int> & <int> & <int> & <int> & <int> & <int> & <chr> & ⋯ & <lgl> & <lgl> & <lgl> & <int> & <int> & <int> & <chr> & <lgl> & <lgl> & <lgl>\\\\\n",
       "\\hline\n",
       "\t1 & 2 & A92.0 & 2022-01-28 & 202204 & 2022 & 12 & 120033 & 1941 & 2000083 & 2022-01-23 & ⋯ & NA & NA & NA & NA & 2 & NA & 2022-03-18 & NA & NA & NA\\\\\n",
       "\t2 & 2 & A92.0 & 2022-03-14 & 202211 & 2022 & 12 & 120040 & 1938 & 3689921 & 2022-03-01 & ⋯ & NA & NA & NA & NA & 2 & NA & 2022-03-21 & NA & NA & NA\\\\\n",
       "\t3 & 2 & A92.0 & 2022-01-08 & 202201 & 2022 & 12 & 120033 & 1941 & 9542566 & 2022-01-07 & ⋯ & NA & NA & NA & NA & 2 & NA & 2022-03-16 & NA & NA & NA\\\\\n",
       "\t4 & 2 & A92.0 & 2022-02-23 & 202208 & 2022 & 12 & 120033 & 1941 & 6568629 & 2022-02-16 & ⋯ & NA & NA & NA & NA & 2 & NA & 2022-03-18 & NA & NA & NA\\\\\n",
       "\t5 & 2 & A92.0 & 2022-01-06 & 202201 & 2022 & 12 & 120040 & 1938 & 6119697 & 2022-01-05 & ⋯ & NA & NA & NA & NA & 2 & NA & 2022-01-11 & NA & NA & NA\\\\\n",
       "\t6 & 2 & A92.0 & 2022-01-11 & 202202 & 2022 & 12 & 120040 & 1938 & 6119697 & 2022-01-10 & ⋯ & NA & NA & NA & NA & 2 & NA & 2022-01-19 & NA & NA & NA\\\\\n",
       "\\end{tabular}\n"
      ],
      "text/markdown": [
       "\n",
       "A data.frame: 6 × 122\n",
       "\n",
       "| <!--/--> | TP_NOT &lt;int&gt; | ID_AGRAVO &lt;chr&gt; | DT_NOTIFIC &lt;chr&gt; | SEM_NOT &lt;int&gt; | NU_ANO &lt;int&gt; | SG_UF_NOT &lt;int&gt; | ID_MUNICIP &lt;int&gt; | ID_REGIONA &lt;int&gt; | ID_UNIDADE &lt;int&gt; | DT_SIN_PRI &lt;chr&gt; | ⋯ ⋯ | PLAQ_MENOR &lt;lgl&gt; | CON_FHD &lt;lgl&gt; | COMPLICA &lt;lgl&gt; | NU_LOTE_I &lt;int&gt; | TP_SISTEMA &lt;int&gt; | NDUPLIC_N &lt;int&gt; | DT_DIGITA &lt;chr&gt; | CS_FLXRET &lt;lgl&gt; | FLXRECEBI &lt;lgl&gt; | MIGRADO_W &lt;lgl&gt; |\n",
       "|---|---|---|---|---|---|---|---|---|---|---|---|---|---|---|---|---|---|---|---|---|---|\n",
       "| 1 | 2 | A92.0 | 2022-01-28 | 202204 | 2022 | 12 | 120033 | 1941 | 2000083 | 2022-01-23 | ⋯ | NA | NA | NA | NA | 2 | NA | 2022-03-18 | NA | NA | NA |\n",
       "| 2 | 2 | A92.0 | 2022-03-14 | 202211 | 2022 | 12 | 120040 | 1938 | 3689921 | 2022-03-01 | ⋯ | NA | NA | NA | NA | 2 | NA | 2022-03-21 | NA | NA | NA |\n",
       "| 3 | 2 | A92.0 | 2022-01-08 | 202201 | 2022 | 12 | 120033 | 1941 | 9542566 | 2022-01-07 | ⋯ | NA | NA | NA | NA | 2 | NA | 2022-03-16 | NA | NA | NA |\n",
       "| 4 | 2 | A92.0 | 2022-02-23 | 202208 | 2022 | 12 | 120033 | 1941 | 6568629 | 2022-02-16 | ⋯ | NA | NA | NA | NA | 2 | NA | 2022-03-18 | NA | NA | NA |\n",
       "| 5 | 2 | A92.0 | 2022-01-06 | 202201 | 2022 | 12 | 120040 | 1938 | 6119697 | 2022-01-05 | ⋯ | NA | NA | NA | NA | 2 | NA | 2022-01-11 | NA | NA | NA |\n",
       "| 6 | 2 | A92.0 | 2022-01-11 | 202202 | 2022 | 12 | 120040 | 1938 | 6119697 | 2022-01-10 | ⋯ | NA | NA | NA | NA | 2 | NA | 2022-01-19 | NA | NA | NA |\n",
       "\n"
      ],
      "text/plain": [
       "  TP_NOT ID_AGRAVO DT_NOTIFIC SEM_NOT NU_ANO SG_UF_NOT ID_MUNICIP ID_REGIONA\n",
       "1 2      A92.0     2022-01-28 202204  2022   12        120033     1941      \n",
       "2 2      A92.0     2022-03-14 202211  2022   12        120040     1938      \n",
       "3 2      A92.0     2022-01-08 202201  2022   12        120033     1941      \n",
       "4 2      A92.0     2022-02-23 202208  2022   12        120033     1941      \n",
       "5 2      A92.0     2022-01-06 202201  2022   12        120040     1938      \n",
       "6 2      A92.0     2022-01-11 202202  2022   12        120040     1938      \n",
       "  ID_UNIDADE DT_SIN_PRI ⋯ PLAQ_MENOR CON_FHD COMPLICA NU_LOTE_I TP_SISTEMA\n",
       "1 2000083    2022-01-23 ⋯ NA         NA      NA       NA        2         \n",
       "2 3689921    2022-03-01 ⋯ NA         NA      NA       NA        2         \n",
       "3 9542566    2022-01-07 ⋯ NA         NA      NA       NA        2         \n",
       "4 6568629    2022-02-16 ⋯ NA         NA      NA       NA        2         \n",
       "5 6119697    2022-01-05 ⋯ NA         NA      NA       NA        2         \n",
       "6 6119697    2022-01-10 ⋯ NA         NA      NA       NA        2         \n",
       "  NDUPLIC_N DT_DIGITA  CS_FLXRET FLXRECEBI MIGRADO_W\n",
       "1 NA        2022-03-18 NA        NA        NA       \n",
       "2 NA        2022-03-21 NA        NA        NA       \n",
       "3 NA        2022-03-16 NA        NA        NA       \n",
       "4 NA        2022-03-18 NA        NA        NA       \n",
       "5 NA        2022-01-11 NA        NA        NA       \n",
       "6 NA        2022-01-19 NA        NA        NA       "
      ]
     },
     "metadata": {},
     "output_type": "display_data"
    },
    {
     "data": {
      "text/html": [
       "<style>\n",
       ".list-inline {list-style: none; margin:0; padding: 0}\n",
       ".list-inline>li {display: inline-block}\n",
       ".list-inline>li:not(:last-child)::after {content: \"\\00b7\"; padding: 0 .5ex}\n",
       "</style>\n",
       "<ol class=list-inline><li>'TP_NOT'</li><li>'ID_AGRAVO'</li><li>'DT_NOTIFIC'</li><li>'SEM_NOT'</li><li>'NU_ANO'</li><li>'SG_UF_NOT'</li><li>'ID_MUNICIP'</li><li>'ID_REGIONA'</li><li>'ID_UNIDADE'</li><li>'DT_SIN_PRI'</li><li>'SEM_PRI'</li><li>'ANO_NASC'</li><li>'NU_IDADE_N'</li><li>'CS_SEXO'</li><li>'CS_GESTANT'</li><li>'CS_RACA'</li><li>'CS_ESCOL_N'</li><li>'SG_UF'</li><li>'ID_MN_RESI'</li><li>'ID_RG_RESI'</li><li>'ID_PAIS'</li><li>'DT_INVEST'</li><li>'ID_OCUPA_N'</li><li>'FEBRE'</li><li>'MIALGIA'</li><li>'CEFALEIA'</li><li>'EXANTEMA'</li><li>'VOMITO'</li><li>'NAUSEA'</li><li>'DOR_COSTAS'</li><li>'CONJUNTVIT'</li><li>'ARTRITE'</li><li>'ARTRALGIA'</li><li>'PETEQUIA_N'</li><li>'LEUCOPENIA'</li><li>'LACO'</li><li>'DOR_RETRO'</li><li>'DIABETES'</li><li>'HEMATOLOG'</li><li>'HEPATOPAT'</li><li>'RENAL'</li><li>'HIPERTENSA'</li><li>'ACIDO_PEPT'</li><li>'AUTO_IMUNE'</li><li>'DT_CHIK_S1'</li><li>'DT_CHIK_S2'</li><li>'DT_PRNT'</li><li>'RES_CHIKS1'</li><li>'RES_CHIKS2'</li><li>'RESUL_PRNT'</li><li>'DT_SORO'</li><li>'RESUL_SORO'</li><li>'DT_NS1'</li><li>'RESUL_NS1'</li><li>'DT_VIRAL'</li><li>'RESUL_VI_N'</li><li>'DT_PCR'</li><li>'RESUL_PCR_'</li><li>'SOROTIPO'</li><li>'HISTOPA_N'</li><li>'IMUNOH_N'</li><li>'HOSPITALIZ'</li><li>'DT_INTERNA'</li><li>'UF'</li><li>'MUNICIPIO'</li><li>'TPAUTOCTO'</li><li>'COUFINF'</li><li>'COPAISINF'</li><li>'COMUNINF'</li><li>'CLASSI_FIN'</li><li>'CRITERIO'</li><li>'DOENCA_TRA'</li><li>'CLINC_CHIK'</li><li>'EVOLUCAO'</li><li>'DT_OBITO'</li><li>'DT_ENCERRA'</li><li>'ALRM_HIPOT'</li><li>'ALRM_PLAQ'</li><li>'ALRM_VOM'</li><li>'ALRM_SANG'</li><li>'ALRM_HEMAT'</li><li>'ALRM_ABDOM'</li><li>'ALRM_LETAR'</li><li>'ALRM_HEPAT'</li><li>'ALRM_LIQ'</li><li>'DT_ALRM'</li><li>'GRAV_PULSO'</li><li>'GRAV_CONV'</li><li>'GRAV_ENCH'</li><li>'GRAV_INSUF'</li><li>'GRAV_TAQUI'</li><li>'GRAV_EXTRE'</li><li>'GRAV_HIPOT'</li><li>'GRAV_HEMAT'</li><li>'GRAV_MELEN'</li><li>'GRAV_METRO'</li><li>'GRAV_SANG'</li><li>'GRAV_AST'</li><li>'GRAV_MIOC'</li><li>'GRAV_CONSC'</li><li>'GRAV_ORGAO'</li><li>'DT_GRAV'</li><li>'MANI_HEMOR'</li><li>'EPISTAXE'</li><li>'GENGIVO'</li><li>'METRO'</li><li>'PETEQUIAS'</li><li>'HEMATURA'</li><li>'SANGRAM'</li><li>'LACO_N'</li><li>'PLASMATICO'</li><li>'EVIDENCIA'</li><li>'PLAQ_MENOR'</li><li>'CON_FHD'</li><li>'COMPLICA'</li><li>'NU_LOTE_I'</li><li>'TP_SISTEMA'</li><li>'NDUPLIC_N'</li><li>'DT_DIGITA'</li><li>'CS_FLXRET'</li><li>'FLXRECEBI'</li><li>'MIGRADO_W'</li></ol>\n"
      ],
      "text/latex": [
       "\\begin{enumerate*}\n",
       "\\item 'TP\\_NOT'\n",
       "\\item 'ID\\_AGRAVO'\n",
       "\\item 'DT\\_NOTIFIC'\n",
       "\\item 'SEM\\_NOT'\n",
       "\\item 'NU\\_ANO'\n",
       "\\item 'SG\\_UF\\_NOT'\n",
       "\\item 'ID\\_MUNICIP'\n",
       "\\item 'ID\\_REGIONA'\n",
       "\\item 'ID\\_UNIDADE'\n",
       "\\item 'DT\\_SIN\\_PRI'\n",
       "\\item 'SEM\\_PRI'\n",
       "\\item 'ANO\\_NASC'\n",
       "\\item 'NU\\_IDADE\\_N'\n",
       "\\item 'CS\\_SEXO'\n",
       "\\item 'CS\\_GESTANT'\n",
       "\\item 'CS\\_RACA'\n",
       "\\item 'CS\\_ESCOL\\_N'\n",
       "\\item 'SG\\_UF'\n",
       "\\item 'ID\\_MN\\_RESI'\n",
       "\\item 'ID\\_RG\\_RESI'\n",
       "\\item 'ID\\_PAIS'\n",
       "\\item 'DT\\_INVEST'\n",
       "\\item 'ID\\_OCUPA\\_N'\n",
       "\\item 'FEBRE'\n",
       "\\item 'MIALGIA'\n",
       "\\item 'CEFALEIA'\n",
       "\\item 'EXANTEMA'\n",
       "\\item 'VOMITO'\n",
       "\\item 'NAUSEA'\n",
       "\\item 'DOR\\_COSTAS'\n",
       "\\item 'CONJUNTVIT'\n",
       "\\item 'ARTRITE'\n",
       "\\item 'ARTRALGIA'\n",
       "\\item 'PETEQUIA\\_N'\n",
       "\\item 'LEUCOPENIA'\n",
       "\\item 'LACO'\n",
       "\\item 'DOR\\_RETRO'\n",
       "\\item 'DIABETES'\n",
       "\\item 'HEMATOLOG'\n",
       "\\item 'HEPATOPAT'\n",
       "\\item 'RENAL'\n",
       "\\item 'HIPERTENSA'\n",
       "\\item 'ACIDO\\_PEPT'\n",
       "\\item 'AUTO\\_IMUNE'\n",
       "\\item 'DT\\_CHIK\\_S1'\n",
       "\\item 'DT\\_CHIK\\_S2'\n",
       "\\item 'DT\\_PRNT'\n",
       "\\item 'RES\\_CHIKS1'\n",
       "\\item 'RES\\_CHIKS2'\n",
       "\\item 'RESUL\\_PRNT'\n",
       "\\item 'DT\\_SORO'\n",
       "\\item 'RESUL\\_SORO'\n",
       "\\item 'DT\\_NS1'\n",
       "\\item 'RESUL\\_NS1'\n",
       "\\item 'DT\\_VIRAL'\n",
       "\\item 'RESUL\\_VI\\_N'\n",
       "\\item 'DT\\_PCR'\n",
       "\\item 'RESUL\\_PCR\\_'\n",
       "\\item 'SOROTIPO'\n",
       "\\item 'HISTOPA\\_N'\n",
       "\\item 'IMUNOH\\_N'\n",
       "\\item 'HOSPITALIZ'\n",
       "\\item 'DT\\_INTERNA'\n",
       "\\item 'UF'\n",
       "\\item 'MUNICIPIO'\n",
       "\\item 'TPAUTOCTO'\n",
       "\\item 'COUFINF'\n",
       "\\item 'COPAISINF'\n",
       "\\item 'COMUNINF'\n",
       "\\item 'CLASSI\\_FIN'\n",
       "\\item 'CRITERIO'\n",
       "\\item 'DOENCA\\_TRA'\n",
       "\\item 'CLINC\\_CHIK'\n",
       "\\item 'EVOLUCAO'\n",
       "\\item 'DT\\_OBITO'\n",
       "\\item 'DT\\_ENCERRA'\n",
       "\\item 'ALRM\\_HIPOT'\n",
       "\\item 'ALRM\\_PLAQ'\n",
       "\\item 'ALRM\\_VOM'\n",
       "\\item 'ALRM\\_SANG'\n",
       "\\item 'ALRM\\_HEMAT'\n",
       "\\item 'ALRM\\_ABDOM'\n",
       "\\item 'ALRM\\_LETAR'\n",
       "\\item 'ALRM\\_HEPAT'\n",
       "\\item 'ALRM\\_LIQ'\n",
       "\\item 'DT\\_ALRM'\n",
       "\\item 'GRAV\\_PULSO'\n",
       "\\item 'GRAV\\_CONV'\n",
       "\\item 'GRAV\\_ENCH'\n",
       "\\item 'GRAV\\_INSUF'\n",
       "\\item 'GRAV\\_TAQUI'\n",
       "\\item 'GRAV\\_EXTRE'\n",
       "\\item 'GRAV\\_HIPOT'\n",
       "\\item 'GRAV\\_HEMAT'\n",
       "\\item 'GRAV\\_MELEN'\n",
       "\\item 'GRAV\\_METRO'\n",
       "\\item 'GRAV\\_SANG'\n",
       "\\item 'GRAV\\_AST'\n",
       "\\item 'GRAV\\_MIOC'\n",
       "\\item 'GRAV\\_CONSC'\n",
       "\\item 'GRAV\\_ORGAO'\n",
       "\\item 'DT\\_GRAV'\n",
       "\\item 'MANI\\_HEMOR'\n",
       "\\item 'EPISTAXE'\n",
       "\\item 'GENGIVO'\n",
       "\\item 'METRO'\n",
       "\\item 'PETEQUIAS'\n",
       "\\item 'HEMATURA'\n",
       "\\item 'SANGRAM'\n",
       "\\item 'LACO\\_N'\n",
       "\\item 'PLASMATICO'\n",
       "\\item 'EVIDENCIA'\n",
       "\\item 'PLAQ\\_MENOR'\n",
       "\\item 'CON\\_FHD'\n",
       "\\item 'COMPLICA'\n",
       "\\item 'NU\\_LOTE\\_I'\n",
       "\\item 'TP\\_SISTEMA'\n",
       "\\item 'NDUPLIC\\_N'\n",
       "\\item 'DT\\_DIGITA'\n",
       "\\item 'CS\\_FLXRET'\n",
       "\\item 'FLXRECEBI'\n",
       "\\item 'MIGRADO\\_W'\n",
       "\\end{enumerate*}\n"
      ],
      "text/markdown": [
       "1. 'TP_NOT'\n",
       "2. 'ID_AGRAVO'\n",
       "3. 'DT_NOTIFIC'\n",
       "4. 'SEM_NOT'\n",
       "5. 'NU_ANO'\n",
       "6. 'SG_UF_NOT'\n",
       "7. 'ID_MUNICIP'\n",
       "8. 'ID_REGIONA'\n",
       "9. 'ID_UNIDADE'\n",
       "10. 'DT_SIN_PRI'\n",
       "11. 'SEM_PRI'\n",
       "12. 'ANO_NASC'\n",
       "13. 'NU_IDADE_N'\n",
       "14. 'CS_SEXO'\n",
       "15. 'CS_GESTANT'\n",
       "16. 'CS_RACA'\n",
       "17. 'CS_ESCOL_N'\n",
       "18. 'SG_UF'\n",
       "19. 'ID_MN_RESI'\n",
       "20. 'ID_RG_RESI'\n",
       "21. 'ID_PAIS'\n",
       "22. 'DT_INVEST'\n",
       "23. 'ID_OCUPA_N'\n",
       "24. 'FEBRE'\n",
       "25. 'MIALGIA'\n",
       "26. 'CEFALEIA'\n",
       "27. 'EXANTEMA'\n",
       "28. 'VOMITO'\n",
       "29. 'NAUSEA'\n",
       "30. 'DOR_COSTAS'\n",
       "31. 'CONJUNTVIT'\n",
       "32. 'ARTRITE'\n",
       "33. 'ARTRALGIA'\n",
       "34. 'PETEQUIA_N'\n",
       "35. 'LEUCOPENIA'\n",
       "36. 'LACO'\n",
       "37. 'DOR_RETRO'\n",
       "38. 'DIABETES'\n",
       "39. 'HEMATOLOG'\n",
       "40. 'HEPATOPAT'\n",
       "41. 'RENAL'\n",
       "42. 'HIPERTENSA'\n",
       "43. 'ACIDO_PEPT'\n",
       "44. 'AUTO_IMUNE'\n",
       "45. 'DT_CHIK_S1'\n",
       "46. 'DT_CHIK_S2'\n",
       "47. 'DT_PRNT'\n",
       "48. 'RES_CHIKS1'\n",
       "49. 'RES_CHIKS2'\n",
       "50. 'RESUL_PRNT'\n",
       "51. 'DT_SORO'\n",
       "52. 'RESUL_SORO'\n",
       "53. 'DT_NS1'\n",
       "54. 'RESUL_NS1'\n",
       "55. 'DT_VIRAL'\n",
       "56. 'RESUL_VI_N'\n",
       "57. 'DT_PCR'\n",
       "58. 'RESUL_PCR_'\n",
       "59. 'SOROTIPO'\n",
       "60. 'HISTOPA_N'\n",
       "61. 'IMUNOH_N'\n",
       "62. 'HOSPITALIZ'\n",
       "63. 'DT_INTERNA'\n",
       "64. 'UF'\n",
       "65. 'MUNICIPIO'\n",
       "66. 'TPAUTOCTO'\n",
       "67. 'COUFINF'\n",
       "68. 'COPAISINF'\n",
       "69. 'COMUNINF'\n",
       "70. 'CLASSI_FIN'\n",
       "71. 'CRITERIO'\n",
       "72. 'DOENCA_TRA'\n",
       "73. 'CLINC_CHIK'\n",
       "74. 'EVOLUCAO'\n",
       "75. 'DT_OBITO'\n",
       "76. 'DT_ENCERRA'\n",
       "77. 'ALRM_HIPOT'\n",
       "78. 'ALRM_PLAQ'\n",
       "79. 'ALRM_VOM'\n",
       "80. 'ALRM_SANG'\n",
       "81. 'ALRM_HEMAT'\n",
       "82. 'ALRM_ABDOM'\n",
       "83. 'ALRM_LETAR'\n",
       "84. 'ALRM_HEPAT'\n",
       "85. 'ALRM_LIQ'\n",
       "86. 'DT_ALRM'\n",
       "87. 'GRAV_PULSO'\n",
       "88. 'GRAV_CONV'\n",
       "89. 'GRAV_ENCH'\n",
       "90. 'GRAV_INSUF'\n",
       "91. 'GRAV_TAQUI'\n",
       "92. 'GRAV_EXTRE'\n",
       "93. 'GRAV_HIPOT'\n",
       "94. 'GRAV_HEMAT'\n",
       "95. 'GRAV_MELEN'\n",
       "96. 'GRAV_METRO'\n",
       "97. 'GRAV_SANG'\n",
       "98. 'GRAV_AST'\n",
       "99. 'GRAV_MIOC'\n",
       "100. 'GRAV_CONSC'\n",
       "101. 'GRAV_ORGAO'\n",
       "102. 'DT_GRAV'\n",
       "103. 'MANI_HEMOR'\n",
       "104. 'EPISTAXE'\n",
       "105. 'GENGIVO'\n",
       "106. 'METRO'\n",
       "107. 'PETEQUIAS'\n",
       "108. 'HEMATURA'\n",
       "109. 'SANGRAM'\n",
       "110. 'LACO_N'\n",
       "111. 'PLASMATICO'\n",
       "112. 'EVIDENCIA'\n",
       "113. 'PLAQ_MENOR'\n",
       "114. 'CON_FHD'\n",
       "115. 'COMPLICA'\n",
       "116. 'NU_LOTE_I'\n",
       "117. 'TP_SISTEMA'\n",
       "118. 'NDUPLIC_N'\n",
       "119. 'DT_DIGITA'\n",
       "120. 'CS_FLXRET'\n",
       "121. 'FLXRECEBI'\n",
       "122. 'MIGRADO_W'\n",
       "\n",
       "\n"
      ],
      "text/plain": [
       "  [1] \"TP_NOT\"     \"ID_AGRAVO\"  \"DT_NOTIFIC\" \"SEM_NOT\"    \"NU_ANO\"    \n",
       "  [6] \"SG_UF_NOT\"  \"ID_MUNICIP\" \"ID_REGIONA\" \"ID_UNIDADE\" \"DT_SIN_PRI\"\n",
       " [11] \"SEM_PRI\"    \"ANO_NASC\"   \"NU_IDADE_N\" \"CS_SEXO\"    \"CS_GESTANT\"\n",
       " [16] \"CS_RACA\"    \"CS_ESCOL_N\" \"SG_UF\"      \"ID_MN_RESI\" \"ID_RG_RESI\"\n",
       " [21] \"ID_PAIS\"    \"DT_INVEST\"  \"ID_OCUPA_N\" \"FEBRE\"      \"MIALGIA\"   \n",
       " [26] \"CEFALEIA\"   \"EXANTEMA\"   \"VOMITO\"     \"NAUSEA\"     \"DOR_COSTAS\"\n",
       " [31] \"CONJUNTVIT\" \"ARTRITE\"    \"ARTRALGIA\"  \"PETEQUIA_N\" \"LEUCOPENIA\"\n",
       " [36] \"LACO\"       \"DOR_RETRO\"  \"DIABETES\"   \"HEMATOLOG\"  \"HEPATOPAT\" \n",
       " [41] \"RENAL\"      \"HIPERTENSA\" \"ACIDO_PEPT\" \"AUTO_IMUNE\" \"DT_CHIK_S1\"\n",
       " [46] \"DT_CHIK_S2\" \"DT_PRNT\"    \"RES_CHIKS1\" \"RES_CHIKS2\" \"RESUL_PRNT\"\n",
       " [51] \"DT_SORO\"    \"RESUL_SORO\" \"DT_NS1\"     \"RESUL_NS1\"  \"DT_VIRAL\"  \n",
       " [56] \"RESUL_VI_N\" \"DT_PCR\"     \"RESUL_PCR_\" \"SOROTIPO\"   \"HISTOPA_N\" \n",
       " [61] \"IMUNOH_N\"   \"HOSPITALIZ\" \"DT_INTERNA\" \"UF\"         \"MUNICIPIO\" \n",
       " [66] \"TPAUTOCTO\"  \"COUFINF\"    \"COPAISINF\"  \"COMUNINF\"   \"CLASSI_FIN\"\n",
       " [71] \"CRITERIO\"   \"DOENCA_TRA\" \"CLINC_CHIK\" \"EVOLUCAO\"   \"DT_OBITO\"  \n",
       " [76] \"DT_ENCERRA\" \"ALRM_HIPOT\" \"ALRM_PLAQ\"  \"ALRM_VOM\"   \"ALRM_SANG\" \n",
       " [81] \"ALRM_HEMAT\" \"ALRM_ABDOM\" \"ALRM_LETAR\" \"ALRM_HEPAT\" \"ALRM_LIQ\"  \n",
       " [86] \"DT_ALRM\"    \"GRAV_PULSO\" \"GRAV_CONV\"  \"GRAV_ENCH\"  \"GRAV_INSUF\"\n",
       " [91] \"GRAV_TAQUI\" \"GRAV_EXTRE\" \"GRAV_HIPOT\" \"GRAV_HEMAT\" \"GRAV_MELEN\"\n",
       " [96] \"GRAV_METRO\" \"GRAV_SANG\"  \"GRAV_AST\"   \"GRAV_MIOC\"  \"GRAV_CONSC\"\n",
       "[101] \"GRAV_ORGAO\" \"DT_GRAV\"    \"MANI_HEMOR\" \"EPISTAXE\"   \"GENGIVO\"   \n",
       "[106] \"METRO\"      \"PETEQUIAS\"  \"HEMATURA\"   \"SANGRAM\"    \"LACO_N\"    \n",
       "[111] \"PLASMATICO\" \"EVIDENCIA\"  \"PLAQ_MENOR\" \"CON_FHD\"    \"COMPLICA\"  \n",
       "[116] \"NU_LOTE_I\"  \"TP_SISTEMA\" \"NDUPLIC_N\"  \"DT_DIGITA\"  \"CS_FLXRET\" \n",
       "[121] \"FLXRECEBI\"  \"MIGRADO_W\" "
      ]
     },
     "metadata": {},
     "output_type": "display_data"
    }
   ],
   "source": [
    "# visualize data\n",
    "\n",
    "data %>% head\n",
    "data %>% colnames"
   ]
  },
  {
   "cell_type": "code",
   "execution_count": 6,
   "id": "66ed80e2",
   "metadata": {},
   "outputs": [
    {
     "data": {
      "text/html": [
       "<table class=\"dataframe\">\n",
       "<caption>A data.frame: 6 × 2</caption>\n",
       "<thead>\n",
       "\t<tr><th scope=col>EVOLUCAO</th><th scope=col>n</th></tr>\n",
       "\t<tr><th scope=col>&lt;int&gt;</th><th scope=col>&lt;int&gt;</th></tr>\n",
       "</thead>\n",
       "<tbody>\n",
       "\t<tr><td> 1</td><td>215573</td></tr>\n",
       "\t<tr><td> 2</td><td>   102</td></tr>\n",
       "\t<tr><td> 3</td><td>   278</td></tr>\n",
       "\t<tr><td> 4</td><td>    33</td></tr>\n",
       "\t<tr><td> 9</td><td>  8244</td></tr>\n",
       "\t<tr><td>NA</td><td> 45593</td></tr>\n",
       "</tbody>\n",
       "</table>\n"
      ],
      "text/latex": [
       "A data.frame: 6 × 2\n",
       "\\begin{tabular}{ll}\n",
       " EVOLUCAO & n\\\\\n",
       " <int> & <int>\\\\\n",
       "\\hline\n",
       "\t  1 & 215573\\\\\n",
       "\t  2 &    102\\\\\n",
       "\t  3 &    278\\\\\n",
       "\t  4 &     33\\\\\n",
       "\t  9 &   8244\\\\\n",
       "\t NA &  45593\\\\\n",
       "\\end{tabular}\n"
      ],
      "text/markdown": [
       "\n",
       "A data.frame: 6 × 2\n",
       "\n",
       "| EVOLUCAO &lt;int&gt; | n &lt;int&gt; |\n",
       "|---|---|\n",
       "|  1 | 215573 |\n",
       "|  2 |    102 |\n",
       "|  3 |    278 |\n",
       "|  4 |     33 |\n",
       "|  9 |   8244 |\n",
       "| NA |  45593 |\n",
       "\n"
      ],
      "text/plain": [
       "  EVOLUCAO n     \n",
       "1  1       215573\n",
       "2  2          102\n",
       "3  3          278\n",
       "4  4           33\n",
       "5  9         8244\n",
       "6 NA        45593"
      ]
     },
     "metadata": {},
     "output_type": "display_data"
    },
    {
     "data": {
      "text/html": [
       "<table class=\"dataframe\">\n",
       "<caption>A data.frame: 4 × 2</caption>\n",
       "<thead>\n",
       "\t<tr><th scope=col>HOSPITALIZ</th><th scope=col>n</th></tr>\n",
       "\t<tr><th scope=col>&lt;int&gt;</th><th scope=col>&lt;int&gt;</th></tr>\n",
       "</thead>\n",
       "<tbody>\n",
       "\t<tr><td> 1</td><td>  6534</td></tr>\n",
       "\t<tr><td> 2</td><td>150163</td></tr>\n",
       "\t<tr><td> 9</td><td>  3858</td></tr>\n",
       "\t<tr><td>NA</td><td>109268</td></tr>\n",
       "</tbody>\n",
       "</table>\n"
      ],
      "text/latex": [
       "A data.frame: 4 × 2\n",
       "\\begin{tabular}{ll}\n",
       " HOSPITALIZ & n\\\\\n",
       " <int> & <int>\\\\\n",
       "\\hline\n",
       "\t  1 &   6534\\\\\n",
       "\t  2 & 150163\\\\\n",
       "\t  9 &   3858\\\\\n",
       "\t NA & 109268\\\\\n",
       "\\end{tabular}\n"
      ],
      "text/markdown": [
       "\n",
       "A data.frame: 4 × 2\n",
       "\n",
       "| HOSPITALIZ &lt;int&gt; | n &lt;int&gt; |\n",
       "|---|---|\n",
       "|  1 |   6534 |\n",
       "|  2 | 150163 |\n",
       "|  9 |   3858 |\n",
       "| NA | 109268 |\n",
       "\n"
      ],
      "text/plain": [
       "  HOSPITALIZ n     \n",
       "1  1           6534\n",
       "2  2         150163\n",
       "3  9           3858\n",
       "4 NA         109268"
      ]
     },
     "metadata": {},
     "output_type": "display_data"
    },
    {
     "data": {
      "text/html": [
       "<table class=\"dataframe\">\n",
       "<caption>A data.frame: 6 × 2</caption>\n",
       "<thead>\n",
       "\t<tr><th scope=col>CLASSI_FIN</th><th scope=col>n</th></tr>\n",
       "\t<tr><th scope=col>&lt;int&gt;</th><th scope=col>&lt;int&gt;</th></tr>\n",
       "</thead>\n",
       "<tbody>\n",
       "\t<tr><td> 1</td><td>     3</td></tr>\n",
       "\t<tr><td> 2</td><td>     1</td></tr>\n",
       "\t<tr><td> 5</td><td> 95120</td></tr>\n",
       "\t<tr><td> 8</td><td>     1</td></tr>\n",
       "\t<tr><td>13</td><td>142693</td></tr>\n",
       "\t<tr><td>NA</td><td> 32005</td></tr>\n",
       "</tbody>\n",
       "</table>\n"
      ],
      "text/latex": [
       "A data.frame: 6 × 2\n",
       "\\begin{tabular}{ll}\n",
       " CLASSI\\_FIN & n\\\\\n",
       " <int> & <int>\\\\\n",
       "\\hline\n",
       "\t  1 &      3\\\\\n",
       "\t  2 &      1\\\\\n",
       "\t  5 &  95120\\\\\n",
       "\t  8 &      1\\\\\n",
       "\t 13 & 142693\\\\\n",
       "\t NA &  32005\\\\\n",
       "\\end{tabular}\n"
      ],
      "text/markdown": [
       "\n",
       "A data.frame: 6 × 2\n",
       "\n",
       "| CLASSI_FIN &lt;int&gt; | n &lt;int&gt; |\n",
       "|---|---|\n",
       "|  1 |      3 |\n",
       "|  2 |      1 |\n",
       "|  5 |  95120 |\n",
       "|  8 |      1 |\n",
       "| 13 | 142693 |\n",
       "| NA |  32005 |\n",
       "\n"
      ],
      "text/plain": [
       "  CLASSI_FIN n     \n",
       "1  1              3\n",
       "2  2              1\n",
       "3  5          95120\n",
       "4  8              1\n",
       "5 13         142693\n",
       "6 NA          32005"
      ]
     },
     "metadata": {},
     "output_type": "display_data"
    },
    {
     "data": {
      "text/html": [
       "<style>\n",
       ".list-inline {list-style: none; margin:0; padding: 0}\n",
       ".list-inline>li {display: inline-block}\n",
       ".list-inline>li:not(:last-child)::after {content: \"\\00b7\"; padding: 0 .5ex}\n",
       "</style>\n",
       "<ol class=list-inline><li>269823</li><li>122</li></ol>\n"
      ],
      "text/latex": [
       "\\begin{enumerate*}\n",
       "\\item 269823\n",
       "\\item 122\n",
       "\\end{enumerate*}\n"
      ],
      "text/markdown": [
       "1. 269823\n",
       "2. 122\n",
       "\n",
       "\n"
      ],
      "text/plain": [
       "[1] 269823    122"
      ]
     },
     "metadata": {},
     "output_type": "display_data"
    }
   ],
   "source": [
    "# inspect target features\n",
    "\n",
    "data %>% count(EVOLUCAO)\n",
    "data %>% count(HOSPITALIZ)\n",
    "data %>% count(CLASSI_FIN)\n",
    "\n",
    "data %>% dim"
   ]
  },
  {
   "cell_type": "code",
   "execution_count": 7,
   "id": "790587de",
   "metadata": {},
   "outputs": [
    {
     "data": {
      "text/html": [
       "<style>\n",
       ".list-inline {list-style: none; margin:0; padding: 0}\n",
       ".list-inline>li {display: inline-block}\n",
       ".list-inline>li:not(:last-child)::after {content: \"\\00b7\"; padding: 0 .5ex}\n",
       "</style>\n",
       "<ol class=list-inline><li>309</li><li>1</li></ol>\n"
      ],
      "text/latex": [
       "\\begin{enumerate*}\n",
       "\\item 309\n",
       "\\item 1\n",
       "\\end{enumerate*}\n"
      ],
      "text/markdown": [
       "1. 309\n",
       "2. 1\n",
       "\n",
       "\n"
      ],
      "text/plain": [
       "[1] 309   1"
      ]
     },
     "metadata": {},
     "output_type": "display_data"
    },
    {
     "data": {
      "text/html": [
       "<style>\n",
       ".list-inline {list-style: none; margin:0; padding: 0}\n",
       ".list-inline>li {display: inline-block}\n",
       ".list-inline>li:not(:last-child)::after {content: \"\\00b7\"; padding: 0 .5ex}\n",
       "</style>\n",
       "<ol class=list-inline><li>2658</li><li>1</li></ol>\n"
      ],
      "text/latex": [
       "\\begin{enumerate*}\n",
       "\\item 2658\n",
       "\\item 1\n",
       "\\end{enumerate*}\n"
      ],
      "text/markdown": [
       "1. 2658\n",
       "2. 1\n",
       "\n",
       "\n"
      ],
      "text/plain": [
       "[1] 2658    1"
      ]
     },
     "metadata": {},
     "output_type": "display_data"
    },
    {
     "data": {
      "text/html": [
       "<style>\n",
       ".list-inline {list-style: none; margin:0; padding: 0}\n",
       ".list-inline>li {display: inline-block}\n",
       ".list-inline>li:not(:last-child)::after {content: \"\\00b7\"; padding: 0 .5ex}\n",
       "</style>\n",
       "<ol class=list-inline><li>26</li><li>1</li></ol>\n"
      ],
      "text/latex": [
       "\\begin{enumerate*}\n",
       "\\item 26\n",
       "\\item 1\n",
       "\\end{enumerate*}\n"
      ],
      "text/markdown": [
       "1. 26\n",
       "2. 1\n",
       "\n",
       "\n"
      ],
      "text/plain": [
       "[1] 26  1"
      ]
     },
     "metadata": {},
     "output_type": "display_data"
    },
    {
     "data": {
      "text/html": [
       "<style>\n",
       ".list-inline {list-style: none; margin:0; padding: 0}\n",
       ".list-inline>li {display: inline-block}\n",
       ".list-inline>li:not(:last-child)::after {content: \"\\00b7\"; padding: 0 .5ex}\n",
       "</style>\n",
       "<ol class=list-inline><li>27</li><li>1</li></ol>\n"
      ],
      "text/latex": [
       "\\begin{enumerate*}\n",
       "\\item 27\n",
       "\\item 1\n",
       "\\end{enumerate*}\n"
      ],
      "text/markdown": [
       "1. 27\n",
       "2. 1\n",
       "\n",
       "\n"
      ],
      "text/plain": [
       "[1] 27  1"
      ]
     },
     "metadata": {},
     "output_type": "display_data"
    },
    {
     "data": {
      "text/html": [
       "<style>\n",
       ".list-inline {list-style: none; margin:0; padding: 0}\n",
       ".list-inline>li {display: inline-block}\n",
       ".list-inline>li:not(:last-child)::after {content: \"\\00b7\"; padding: 0 .5ex}\n",
       "</style>\n",
       "<ol class=list-inline><li>3056</li><li>1</li></ol>\n"
      ],
      "text/latex": [
       "\\begin{enumerate*}\n",
       "\\item 3056\n",
       "\\item 1\n",
       "\\end{enumerate*}\n"
      ],
      "text/markdown": [
       "1. 3056\n",
       "2. 1\n",
       "\n",
       "\n"
      ],
      "text/plain": [
       "[1] 3056    1"
      ]
     },
     "metadata": {},
     "output_type": "display_data"
    },
    {
     "data": {
      "text/html": [
       "<style>\n",
       ".list-inline {list-style: none; margin:0; padding: 0}\n",
       ".list-inline>li {display: inline-block}\n",
       ".list-inline>li:not(:last-child)::after {content: \"\\00b7\"; padding: 0 .5ex}\n",
       "</style>\n",
       "<ol class=list-inline><li>2</li><li>1</li></ol>\n"
      ],
      "text/latex": [
       "\\begin{enumerate*}\n",
       "\\item 2\n",
       "\\item 1\n",
       "\\end{enumerate*}\n"
      ],
      "text/markdown": [
       "1. 2\n",
       "2. 1\n",
       "\n",
       "\n"
      ],
      "text/plain": [
       "[1] 2 1"
      ]
     },
     "metadata": {},
     "output_type": "display_data"
    },
    {
     "data": {
      "text/html": [
       "<style>\n",
       ".list-inline {list-style: none; margin:0; padding: 0}\n",
       ".list-inline>li {display: inline-block}\n",
       ".list-inline>li:not(:last-child)::after {content: \"\\00b7\"; padding: 0 .5ex}\n",
       "</style>\n",
       "<ol class=list-inline><li>314</li><li>1</li></ol>\n"
      ],
      "text/latex": [
       "\\begin{enumerate*}\n",
       "\\item 314\n",
       "\\item 1\n",
       "\\end{enumerate*}\n"
      ],
      "text/markdown": [
       "1. 314\n",
       "2. 1\n",
       "\n",
       "\n"
      ],
      "text/plain": [
       "[1] 314   1"
      ]
     },
     "metadata": {},
     "output_type": "display_data"
    },
    {
     "data": {
      "text/html": [
       "<style>\n",
       ".list-inline {list-style: none; margin:0; padding: 0}\n",
       ".list-inline>li {display: inline-block}\n",
       ".list-inline>li:not(:last-child)::after {content: \"\\00b7\"; padding: 0 .5ex}\n",
       "</style>\n",
       "<ol class=list-inline><li>13027</li><li>1</li></ol>\n"
      ],
      "text/latex": [
       "\\begin{enumerate*}\n",
       "\\item 13027\n",
       "\\item 1\n",
       "\\end{enumerate*}\n"
      ],
      "text/markdown": [
       "1. 13027\n",
       "2. 1\n",
       "\n",
       "\n"
      ],
      "text/plain": [
       "[1] 13027     1"
      ]
     },
     "metadata": {},
     "output_type": "display_data"
    },
    {
     "data": {
      "text/html": [
       "<style>\n",
       ".list-inline {list-style: none; margin:0; padding: 0}\n",
       ".list-inline>li {display: inline-block}\n",
       ".list-inline>li:not(:last-child)::after {content: \"\\00b7\"; padding: 0 .5ex}\n",
       "</style>\n",
       "<ol class=list-inline><li>27</li><li>1</li></ol>\n"
      ],
      "text/latex": [
       "\\begin{enumerate*}\n",
       "\\item 27\n",
       "\\item 1\n",
       "\\end{enumerate*}\n"
      ],
      "text/markdown": [
       "1. 27\n",
       "2. 1\n",
       "\n",
       "\n"
      ],
      "text/plain": [
       "[1] 27  1"
      ]
     },
     "metadata": {},
     "output_type": "display_data"
    },
    {
     "data": {
      "text/html": [
       "<style>\n",
       ".list-inline {list-style: none; margin:0; padding: 0}\n",
       ".list-inline>li {display: inline-block}\n",
       ".list-inline>li:not(:last-child)::after {content: \"\\00b7\"; padding: 0 .5ex}\n",
       "</style>\n",
       "<ol class=list-inline><li>593</li><li>1</li></ol>\n"
      ],
      "text/latex": [
       "\\begin{enumerate*}\n",
       "\\item 593\n",
       "\\item 1\n",
       "\\end{enumerate*}\n"
      ],
      "text/markdown": [
       "1. 593\n",
       "2. 1\n",
       "\n",
       "\n"
      ],
      "text/plain": [
       "[1] 593   1"
      ]
     },
     "metadata": {},
     "output_type": "display_data"
    }
   ],
   "source": [
    "# check how many regions, states and cities are present in the database\n",
    "\n",
    "data %>% select(ID_REGIONA) %>% unique %>% dim\n",
    "data %>% select(ID_MUNICIP) %>% unique %>% dim\n",
    "data %>% select(SG_UF_NOT) %>% unique %>% dim\n",
    "data %>% select(SG_UF) %>% unique %>% dim\n",
    "\n",
    "data %>% select(ID_MN_RESI) %>% unique %>% dim\n",
    "data %>% select(ID_PAIS) %>% unique %>% dim\n",
    "data %>% select(ID_RG_RESI) %>% unique %>% dim\n",
    "\n",
    "data %>% select(ID_UNIDADE) %>% unique %>% dim\n",
    "\n",
    "data %>% select(UF) %>% unique %>% dim\n",
    "data %>% select(MUNICIPIO) %>% unique %>% dim\n"
   ]
  },
  {
   "cell_type": "markdown",
   "id": "aceef5a1",
   "metadata": {},
   "source": [
    "### Delete columns"
   ]
  },
  {
   "cell_type": "code",
   "execution_count": 8,
   "id": "a1e0a0b5",
   "metadata": {},
   "outputs": [
    {
     "data": {
      "text/html": [
       "<table class=\"dataframe\">\n",
       "<caption>A data.frame: 1 × 2</caption>\n",
       "<thead>\n",
       "\t<tr><th scope=col>TPAUTOCTO</th><th scope=col>n</th></tr>\n",
       "\t<tr><th scope=col>&lt;lgl&gt;</th><th scope=col>&lt;int&gt;</th></tr>\n",
       "</thead>\n",
       "<tbody>\n",
       "\t<tr><td>NA</td><td>269823</td></tr>\n",
       "</tbody>\n",
       "</table>\n"
      ],
      "text/latex": [
       "A data.frame: 1 × 2\n",
       "\\begin{tabular}{ll}\n",
       " TPAUTOCTO & n\\\\\n",
       " <lgl> & <int>\\\\\n",
       "\\hline\n",
       "\t NA & 269823\\\\\n",
       "\\end{tabular}\n"
      ],
      "text/markdown": [
       "\n",
       "A data.frame: 1 × 2\n",
       "\n",
       "| TPAUTOCTO &lt;lgl&gt; | n &lt;int&gt; |\n",
       "|---|---|\n",
       "| NA | 269823 |\n",
       "\n"
      ],
      "text/plain": [
       "  TPAUTOCTO n     \n",
       "1 NA        269823"
      ]
     },
     "metadata": {},
     "output_type": "display_data"
    },
    {
     "data": {
      "text/html": [
       "<table class=\"dataframe\">\n",
       "<caption>A data.frame: 1 × 2</caption>\n",
       "<thead>\n",
       "\t<tr><th scope=col>COPAISINF</th><th scope=col>n</th></tr>\n",
       "\t<tr><th scope=col>&lt;lgl&gt;</th><th scope=col>&lt;int&gt;</th></tr>\n",
       "</thead>\n",
       "<tbody>\n",
       "\t<tr><td>NA</td><td>269823</td></tr>\n",
       "</tbody>\n",
       "</table>\n"
      ],
      "text/latex": [
       "A data.frame: 1 × 2\n",
       "\\begin{tabular}{ll}\n",
       " COPAISINF & n\\\\\n",
       " <lgl> & <int>\\\\\n",
       "\\hline\n",
       "\t NA & 269823\\\\\n",
       "\\end{tabular}\n"
      ],
      "text/markdown": [
       "\n",
       "A data.frame: 1 × 2\n",
       "\n",
       "| COPAISINF &lt;lgl&gt; | n &lt;int&gt; |\n",
       "|---|---|\n",
       "| NA | 269823 |\n",
       "\n"
      ],
      "text/plain": [
       "  COPAISINF n     \n",
       "1 NA        269823"
      ]
     },
     "metadata": {},
     "output_type": "display_data"
    },
    {
     "data": {
      "text/html": [
       "<table class=\"dataframe\">\n",
       "<caption>A data.frame: 1 × 2</caption>\n",
       "<thead>\n",
       "\t<tr><th scope=col>COMUNINF</th><th scope=col>n</th></tr>\n",
       "\t<tr><th scope=col>&lt;lgl&gt;</th><th scope=col>&lt;int&gt;</th></tr>\n",
       "</thead>\n",
       "<tbody>\n",
       "\t<tr><td>NA</td><td>269823</td></tr>\n",
       "</tbody>\n",
       "</table>\n"
      ],
      "text/latex": [
       "A data.frame: 1 × 2\n",
       "\\begin{tabular}{ll}\n",
       " COMUNINF & n\\\\\n",
       " <lgl> & <int>\\\\\n",
       "\\hline\n",
       "\t NA & 269823\\\\\n",
       "\\end{tabular}\n"
      ],
      "text/markdown": [
       "\n",
       "A data.frame: 1 × 2\n",
       "\n",
       "| COMUNINF &lt;lgl&gt; | n &lt;int&gt; |\n",
       "|---|---|\n",
       "| NA | 269823 |\n",
       "\n"
      ],
      "text/plain": [
       "  COMUNINF n     \n",
       "1 NA       269823"
      ]
     },
     "metadata": {},
     "output_type": "display_data"
    },
    {
     "data": {
      "text/html": [
       "<table class=\"dataframe\">\n",
       "<caption>A data.frame: 2 × 2</caption>\n",
       "<thead>\n",
       "\t<tr><th scope=col>NU_LOTE_I</th><th scope=col>n</th></tr>\n",
       "\t<tr><th scope=col>&lt;int&gt;</th><th scope=col>&lt;int&gt;</th></tr>\n",
       "</thead>\n",
       "<tbody>\n",
       "\t<tr><td> 0</td><td>     6</td></tr>\n",
       "\t<tr><td>NA</td><td>269817</td></tr>\n",
       "</tbody>\n",
       "</table>\n"
      ],
      "text/latex": [
       "A data.frame: 2 × 2\n",
       "\\begin{tabular}{ll}\n",
       " NU\\_LOTE\\_I & n\\\\\n",
       " <int> & <int>\\\\\n",
       "\\hline\n",
       "\t  0 &      6\\\\\n",
       "\t NA & 269817\\\\\n",
       "\\end{tabular}\n"
      ],
      "text/markdown": [
       "\n",
       "A data.frame: 2 × 2\n",
       "\n",
       "| NU_LOTE_I &lt;int&gt; | n &lt;int&gt; |\n",
       "|---|---|\n",
       "|  0 |      6 |\n",
       "| NA | 269817 |\n",
       "\n"
      ],
      "text/plain": [
       "  NU_LOTE_I n     \n",
       "1  0             6\n",
       "2 NA        269817"
      ]
     },
     "metadata": {},
     "output_type": "display_data"
    },
    {
     "data": {
      "text/html": [
       "<table class=\"dataframe\">\n",
       "<caption>A data.frame: 2 × 2</caption>\n",
       "<thead>\n",
       "\t<tr><th scope=col>TP_SISTEMA</th><th scope=col>n</th></tr>\n",
       "\t<tr><th scope=col>&lt;int&gt;</th><th scope=col>&lt;int&gt;</th></tr>\n",
       "</thead>\n",
       "<tbody>\n",
       "\t<tr><td> 2</td><td>265294</td></tr>\n",
       "\t<tr><td>NA</td><td>  4529</td></tr>\n",
       "</tbody>\n",
       "</table>\n"
      ],
      "text/latex": [
       "A data.frame: 2 × 2\n",
       "\\begin{tabular}{ll}\n",
       " TP\\_SISTEMA & n\\\\\n",
       " <int> & <int>\\\\\n",
       "\\hline\n",
       "\t  2 & 265294\\\\\n",
       "\t NA &   4529\\\\\n",
       "\\end{tabular}\n"
      ],
      "text/markdown": [
       "\n",
       "A data.frame: 2 × 2\n",
       "\n",
       "| TP_SISTEMA &lt;int&gt; | n &lt;int&gt; |\n",
       "|---|---|\n",
       "|  2 | 265294 |\n",
       "| NA |   4529 |\n",
       "\n"
      ],
      "text/plain": [
       "  TP_SISTEMA n     \n",
       "1  2         265294\n",
       "2 NA           4529"
      ]
     },
     "metadata": {},
     "output_type": "display_data"
    },
    {
     "data": {
      "text/html": [
       "<table class=\"dataframe\">\n",
       "<caption>A data.frame: 1 × 2</caption>\n",
       "<thead>\n",
       "\t<tr><th scope=col>CS_FLXRET</th><th scope=col>n</th></tr>\n",
       "\t<tr><th scope=col>&lt;lgl&gt;</th><th scope=col>&lt;int&gt;</th></tr>\n",
       "</thead>\n",
       "<tbody>\n",
       "\t<tr><td>NA</td><td>269823</td></tr>\n",
       "</tbody>\n",
       "</table>\n"
      ],
      "text/latex": [
       "A data.frame: 1 × 2\n",
       "\\begin{tabular}{ll}\n",
       " CS\\_FLXRET & n\\\\\n",
       " <lgl> & <int>\\\\\n",
       "\\hline\n",
       "\t NA & 269823\\\\\n",
       "\\end{tabular}\n"
      ],
      "text/markdown": [
       "\n",
       "A data.frame: 1 × 2\n",
       "\n",
       "| CS_FLXRET &lt;lgl&gt; | n &lt;int&gt; |\n",
       "|---|---|\n",
       "| NA | 269823 |\n",
       "\n"
      ],
      "text/plain": [
       "  CS_FLXRET n     \n",
       "1 NA        269823"
      ]
     },
     "metadata": {},
     "output_type": "display_data"
    },
    {
     "data": {
      "text/html": [
       "<table class=\"dataframe\">\n",
       "<caption>A data.frame: 1 × 2</caption>\n",
       "<thead>\n",
       "\t<tr><th scope=col>FLXRECEBI</th><th scope=col>n</th></tr>\n",
       "\t<tr><th scope=col>&lt;lgl&gt;</th><th scope=col>&lt;int&gt;</th></tr>\n",
       "</thead>\n",
       "<tbody>\n",
       "\t<tr><td>NA</td><td>269823</td></tr>\n",
       "</tbody>\n",
       "</table>\n"
      ],
      "text/latex": [
       "A data.frame: 1 × 2\n",
       "\\begin{tabular}{ll}\n",
       " FLXRECEBI & n\\\\\n",
       " <lgl> & <int>\\\\\n",
       "\\hline\n",
       "\t NA & 269823\\\\\n",
       "\\end{tabular}\n"
      ],
      "text/markdown": [
       "\n",
       "A data.frame: 1 × 2\n",
       "\n",
       "| FLXRECEBI &lt;lgl&gt; | n &lt;int&gt; |\n",
       "|---|---|\n",
       "| NA | 269823 |\n",
       "\n"
      ],
      "text/plain": [
       "  FLXRECEBI n     \n",
       "1 NA        269823"
      ]
     },
     "metadata": {},
     "output_type": "display_data"
    },
    {
     "data": {
      "text/html": [
       "<table class=\"dataframe\">\n",
       "<caption>A data.frame: 1 × 2</caption>\n",
       "<thead>\n",
       "\t<tr><th scope=col>MIGRADO_W</th><th scope=col>n</th></tr>\n",
       "\t<tr><th scope=col>&lt;lgl&gt;</th><th scope=col>&lt;int&gt;</th></tr>\n",
       "</thead>\n",
       "<tbody>\n",
       "\t<tr><td>NA</td><td>269823</td></tr>\n",
       "</tbody>\n",
       "</table>\n"
      ],
      "text/latex": [
       "A data.frame: 1 × 2\n",
       "\\begin{tabular}{ll}\n",
       " MIGRADO\\_W & n\\\\\n",
       " <lgl> & <int>\\\\\n",
       "\\hline\n",
       "\t NA & 269823\\\\\n",
       "\\end{tabular}\n"
      ],
      "text/markdown": [
       "\n",
       "A data.frame: 1 × 2\n",
       "\n",
       "| MIGRADO_W &lt;lgl&gt; | n &lt;int&gt; |\n",
       "|---|---|\n",
       "| NA | 269823 |\n",
       "\n"
      ],
      "text/plain": [
       "  MIGRADO_W n     \n",
       "1 NA        269823"
      ]
     },
     "metadata": {},
     "output_type": "display_data"
    },
    {
     "data": {
      "text/html": [
       "<table class=\"dataframe\">\n",
       "<caption>A data.frame: 2 × 2</caption>\n",
       "<thead>\n",
       "\t<tr><th scope=col>NDUPLIC_N</th><th scope=col>n</th></tr>\n",
       "\t<tr><th scope=col>&lt;int&gt;</th><th scope=col>&lt;int&gt;</th></tr>\n",
       "</thead>\n",
       "<tbody>\n",
       "\t<tr><td> 1</td><td>    22</td></tr>\n",
       "\t<tr><td>NA</td><td>269801</td></tr>\n",
       "</tbody>\n",
       "</table>\n"
      ],
      "text/latex": [
       "A data.frame: 2 × 2\n",
       "\\begin{tabular}{ll}\n",
       " NDUPLIC\\_N & n\\\\\n",
       " <int> & <int>\\\\\n",
       "\\hline\n",
       "\t  1 &     22\\\\\n",
       "\t NA & 269801\\\\\n",
       "\\end{tabular}\n"
      ],
      "text/markdown": [
       "\n",
       "A data.frame: 2 × 2\n",
       "\n",
       "| NDUPLIC_N &lt;int&gt; | n &lt;int&gt; |\n",
       "|---|---|\n",
       "|  1 |     22 |\n",
       "| NA | 269801 |\n",
       "\n"
      ],
      "text/plain": [
       "  NDUPLIC_N n     \n",
       "1  1            22\n",
       "2 NA        269801"
      ]
     },
     "metadata": {},
     "output_type": "display_data"
    },
    {
     "data": {
      "text/html": [
       "<table class=\"dataframe\">\n",
       "<caption>A data.frame: 1 × 2</caption>\n",
       "<thead>\n",
       "\t<tr><th scope=col>COMPLICA</th><th scope=col>n</th></tr>\n",
       "\t<tr><th scope=col>&lt;lgl&gt;</th><th scope=col>&lt;int&gt;</th></tr>\n",
       "</thead>\n",
       "<tbody>\n",
       "\t<tr><td>NA</td><td>269823</td></tr>\n",
       "</tbody>\n",
       "</table>\n"
      ],
      "text/latex": [
       "A data.frame: 1 × 2\n",
       "\\begin{tabular}{ll}\n",
       " COMPLICA & n\\\\\n",
       " <lgl> & <int>\\\\\n",
       "\\hline\n",
       "\t NA & 269823\\\\\n",
       "\\end{tabular}\n"
      ],
      "text/markdown": [
       "\n",
       "A data.frame: 1 × 2\n",
       "\n",
       "| COMPLICA &lt;lgl&gt; | n &lt;int&gt; |\n",
       "|---|---|\n",
       "| NA | 269823 |\n",
       "\n"
      ],
      "text/plain": [
       "  COMPLICA n     \n",
       "1 NA       269823"
      ]
     },
     "metadata": {},
     "output_type": "display_data"
    },
    {
     "data": {
      "text/html": [
       "<table class=\"dataframe\">\n",
       "<caption>A data.frame: 1 × 2</caption>\n",
       "<thead>\n",
       "\t<tr><th scope=col>CON_FHD</th><th scope=col>n</th></tr>\n",
       "\t<tr><th scope=col>&lt;lgl&gt;</th><th scope=col>&lt;int&gt;</th></tr>\n",
       "</thead>\n",
       "<tbody>\n",
       "\t<tr><td>NA</td><td>269823</td></tr>\n",
       "</tbody>\n",
       "</table>\n"
      ],
      "text/latex": [
       "A data.frame: 1 × 2\n",
       "\\begin{tabular}{ll}\n",
       " CON\\_FHD & n\\\\\n",
       " <lgl> & <int>\\\\\n",
       "\\hline\n",
       "\t NA & 269823\\\\\n",
       "\\end{tabular}\n"
      ],
      "text/markdown": [
       "\n",
       "A data.frame: 1 × 2\n",
       "\n",
       "| CON_FHD &lt;lgl&gt; | n &lt;int&gt; |\n",
       "|---|---|\n",
       "| NA | 269823 |\n",
       "\n"
      ],
      "text/plain": [
       "  CON_FHD n     \n",
       "1 NA      269823"
      ]
     },
     "metadata": {},
     "output_type": "display_data"
    },
    {
     "data": {
      "text/html": [
       "<table class=\"dataframe\">\n",
       "<caption>A data.frame: 1 × 2</caption>\n",
       "<thead>\n",
       "\t<tr><th scope=col>SOROTIPO</th><th scope=col>n</th></tr>\n",
       "\t<tr><th scope=col>&lt;lgl&gt;</th><th scope=col>&lt;int&gt;</th></tr>\n",
       "</thead>\n",
       "<tbody>\n",
       "\t<tr><td>NA</td><td>269823</td></tr>\n",
       "</tbody>\n",
       "</table>\n"
      ],
      "text/latex": [
       "A data.frame: 1 × 2\n",
       "\\begin{tabular}{ll}\n",
       " SOROTIPO & n\\\\\n",
       " <lgl> & <int>\\\\\n",
       "\\hline\n",
       "\t NA & 269823\\\\\n",
       "\\end{tabular}\n"
      ],
      "text/markdown": [
       "\n",
       "A data.frame: 1 × 2\n",
       "\n",
       "| SOROTIPO &lt;lgl&gt; | n &lt;int&gt; |\n",
       "|---|---|\n",
       "| NA | 269823 |\n",
       "\n"
      ],
      "text/plain": [
       "  SOROTIPO n     \n",
       "1 NA       269823"
      ]
     },
     "metadata": {},
     "output_type": "display_data"
    },
    {
     "data": {
      "text/html": [
       "<table class=\"dataframe\">\n",
       "<caption>A data.frame: 2 × 2</caption>\n",
       "<thead>\n",
       "\t<tr><th scope=col>HISTOPA_N</th><th scope=col>n</th></tr>\n",
       "\t<tr><th scope=col>&lt;int&gt;</th><th scope=col>&lt;int&gt;</th></tr>\n",
       "</thead>\n",
       "<tbody>\n",
       "\t<tr><td> 4</td><td>   198</td></tr>\n",
       "\t<tr><td>NA</td><td>269625</td></tr>\n",
       "</tbody>\n",
       "</table>\n"
      ],
      "text/latex": [
       "A data.frame: 2 × 2\n",
       "\\begin{tabular}{ll}\n",
       " HISTOPA\\_N & n\\\\\n",
       " <int> & <int>\\\\\n",
       "\\hline\n",
       "\t  4 &    198\\\\\n",
       "\t NA & 269625\\\\\n",
       "\\end{tabular}\n"
      ],
      "text/markdown": [
       "\n",
       "A data.frame: 2 × 2\n",
       "\n",
       "| HISTOPA_N &lt;int&gt; | n &lt;int&gt; |\n",
       "|---|---|\n",
       "|  4 |    198 |\n",
       "| NA | 269625 |\n",
       "\n"
      ],
      "text/plain": [
       "  HISTOPA_N n     \n",
       "1  4           198\n",
       "2 NA        269625"
      ]
     },
     "metadata": {},
     "output_type": "display_data"
    },
    {
     "data": {
      "text/html": [
       "<table class=\"dataframe\">\n",
       "<caption>A data.frame: 3 × 2</caption>\n",
       "<thead>\n",
       "\t<tr><th scope=col>IMUNOH_N</th><th scope=col>n</th></tr>\n",
       "\t<tr><th scope=col>&lt;int&gt;</th><th scope=col>&lt;int&gt;</th></tr>\n",
       "</thead>\n",
       "<tbody>\n",
       "\t<tr><td> 3</td><td>     1</td></tr>\n",
       "\t<tr><td> 4</td><td>   197</td></tr>\n",
       "\t<tr><td>NA</td><td>269625</td></tr>\n",
       "</tbody>\n",
       "</table>\n"
      ],
      "text/latex": [
       "A data.frame: 3 × 2\n",
       "\\begin{tabular}{ll}\n",
       " IMUNOH\\_N & n\\\\\n",
       " <int> & <int>\\\\\n",
       "\\hline\n",
       "\t  3 &      1\\\\\n",
       "\t  4 &    197\\\\\n",
       "\t NA & 269625\\\\\n",
       "\\end{tabular}\n"
      ],
      "text/markdown": [
       "\n",
       "A data.frame: 3 × 2\n",
       "\n",
       "| IMUNOH_N &lt;int&gt; | n &lt;int&gt; |\n",
       "|---|---|\n",
       "|  3 |      1 |\n",
       "|  4 |    197 |\n",
       "| NA | 269625 |\n",
       "\n"
      ],
      "text/plain": [
       "  IMUNOH_N n     \n",
       "1  3            1\n",
       "2  4          197\n",
       "3 NA       269625"
      ]
     },
     "metadata": {},
     "output_type": "display_data"
    },
    {
     "data": {
      "text/html": [
       "<table class=\"dataframe\">\n",
       "<caption>A data.frame: 2 × 2</caption>\n",
       "<thead>\n",
       "\t<tr><th scope=col>DOENCA_TRA</th><th scope=col>n</th></tr>\n",
       "\t<tr><th scope=col>&lt;int&gt;</th><th scope=col>&lt;int&gt;</th></tr>\n",
       "</thead>\n",
       "<tbody>\n",
       "\t<tr><td> 2</td><td>     3</td></tr>\n",
       "\t<tr><td>NA</td><td>269820</td></tr>\n",
       "</tbody>\n",
       "</table>\n"
      ],
      "text/latex": [
       "A data.frame: 2 × 2\n",
       "\\begin{tabular}{ll}\n",
       " DOENCA\\_TRA & n\\\\\n",
       " <int> & <int>\\\\\n",
       "\\hline\n",
       "\t  2 &      3\\\\\n",
       "\t NA & 269820\\\\\n",
       "\\end{tabular}\n"
      ],
      "text/markdown": [
       "\n",
       "A data.frame: 2 × 2\n",
       "\n",
       "| DOENCA_TRA &lt;int&gt; | n &lt;int&gt; |\n",
       "|---|---|\n",
       "|  2 |      3 |\n",
       "| NA | 269820 |\n",
       "\n"
      ],
      "text/plain": [
       "  DOENCA_TRA n     \n",
       "1  2              3\n",
       "2 NA         269820"
      ]
     },
     "metadata": {},
     "output_type": "display_data"
    },
    {
     "data": {
      "text/html": [
       "<table class=\"dataframe\">\n",
       "<caption>A data.frame: 1 × 2</caption>\n",
       "<thead>\n",
       "\t<tr><th scope=col>ALRM_HIPOT</th><th scope=col>n</th></tr>\n",
       "\t<tr><th scope=col>&lt;lgl&gt;</th><th scope=col>&lt;int&gt;</th></tr>\n",
       "</thead>\n",
       "<tbody>\n",
       "\t<tr><td>NA</td><td>269823</td></tr>\n",
       "</tbody>\n",
       "</table>\n"
      ],
      "text/latex": [
       "A data.frame: 1 × 2\n",
       "\\begin{tabular}{ll}\n",
       " ALRM\\_HIPOT & n\\\\\n",
       " <lgl> & <int>\\\\\n",
       "\\hline\n",
       "\t NA & 269823\\\\\n",
       "\\end{tabular}\n"
      ],
      "text/markdown": [
       "\n",
       "A data.frame: 1 × 2\n",
       "\n",
       "| ALRM_HIPOT &lt;lgl&gt; | n &lt;int&gt; |\n",
       "|---|---|\n",
       "| NA | 269823 |\n",
       "\n"
      ],
      "text/plain": [
       "  ALRM_HIPOT n     \n",
       "1 NA         269823"
      ]
     },
     "metadata": {},
     "output_type": "display_data"
    },
    {
     "data": {
      "text/html": [
       "<table class=\"dataframe\">\n",
       "<caption>A data.frame: 1 × 2</caption>\n",
       "<thead>\n",
       "\t<tr><th scope=col>TP_NOT</th><th scope=col>n</th></tr>\n",
       "\t<tr><th scope=col>&lt;int&gt;</th><th scope=col>&lt;int&gt;</th></tr>\n",
       "</thead>\n",
       "<tbody>\n",
       "\t<tr><td>2</td><td>269823</td></tr>\n",
       "</tbody>\n",
       "</table>\n"
      ],
      "text/latex": [
       "A data.frame: 1 × 2\n",
       "\\begin{tabular}{ll}\n",
       " TP\\_NOT & n\\\\\n",
       " <int> & <int>\\\\\n",
       "\\hline\n",
       "\t 2 & 269823\\\\\n",
       "\\end{tabular}\n"
      ],
      "text/markdown": [
       "\n",
       "A data.frame: 1 × 2\n",
       "\n",
       "| TP_NOT &lt;int&gt; | n &lt;int&gt; |\n",
       "|---|---|\n",
       "| 2 | 269823 |\n",
       "\n"
      ],
      "text/plain": [
       "  TP_NOT n     \n",
       "1 2      269823"
      ]
     },
     "metadata": {},
     "output_type": "display_data"
    },
    {
     "data": {
      "text/html": [
       "<table class=\"dataframe\">\n",
       "<caption>A data.frame: 1 × 2</caption>\n",
       "<thead>\n",
       "\t<tr><th scope=col>ID_AGRAVO</th><th scope=col>n</th></tr>\n",
       "\t<tr><th scope=col>&lt;chr&gt;</th><th scope=col>&lt;int&gt;</th></tr>\n",
       "</thead>\n",
       "<tbody>\n",
       "\t<tr><td>A92.0</td><td>269823</td></tr>\n",
       "</tbody>\n",
       "</table>\n"
      ],
      "text/latex": [
       "A data.frame: 1 × 2\n",
       "\\begin{tabular}{ll}\n",
       " ID\\_AGRAVO & n\\\\\n",
       " <chr> & <int>\\\\\n",
       "\\hline\n",
       "\t A92.0 & 269823\\\\\n",
       "\\end{tabular}\n"
      ],
      "text/markdown": [
       "\n",
       "A data.frame: 1 × 2\n",
       "\n",
       "| ID_AGRAVO &lt;chr&gt; | n &lt;int&gt; |\n",
       "|---|---|\n",
       "| A92.0 | 269823 |\n",
       "\n"
      ],
      "text/plain": [
       "  ID_AGRAVO n     \n",
       "1 A92.0     269823"
      ]
     },
     "metadata": {},
     "output_type": "display_data"
    },
    {
     "data": {
      "text/html": [
       "<table class=\"dataframe\">\n",
       "<caption>A data.frame: 1 × 2</caption>\n",
       "<thead>\n",
       "\t<tr><th scope=col>NU_ANO</th><th scope=col>n</th></tr>\n",
       "\t<tr><th scope=col>&lt;int&gt;</th><th scope=col>&lt;int&gt;</th></tr>\n",
       "</thead>\n",
       "<tbody>\n",
       "\t<tr><td>2022</td><td>269823</td></tr>\n",
       "</tbody>\n",
       "</table>\n"
      ],
      "text/latex": [
       "A data.frame: 1 × 2\n",
       "\\begin{tabular}{ll}\n",
       " NU\\_ANO & n\\\\\n",
       " <int> & <int>\\\\\n",
       "\\hline\n",
       "\t 2022 & 269823\\\\\n",
       "\\end{tabular}\n"
      ],
      "text/markdown": [
       "\n",
       "A data.frame: 1 × 2\n",
       "\n",
       "| NU_ANO &lt;int&gt; | n &lt;int&gt; |\n",
       "|---|---|\n",
       "| 2022 | 269823 |\n",
       "\n"
      ],
      "text/plain": [
       "  NU_ANO n     \n",
       "1 2022   269823"
      ]
     },
     "metadata": {},
     "output_type": "display_data"
    },
    {
     "data": {
      "text/plain": [
       " ALRM_PLAQ      ALRM_VOM       ALRM_SANG      ALRM_HEMAT     ALRM_ABDOM    \n",
       " Mode:logical   Mode:logical   Mode:logical   Mode:logical   Mode:logical  \n",
       " NA's:269823    NA's:269823    NA's:269823    NA's:269823    NA's:269823   \n",
       " ALRM_LETAR     ALRM_HEPAT     ALRM_LIQ      \n",
       " Mode:logical   Mode:logical   Mode:logical  \n",
       " NA's:269823    NA's:269823    NA's:269823   "
      ]
     },
     "metadata": {},
     "output_type": "display_data"
    },
    {
     "data": {
      "text/plain": [
       " GRAV_PULSO     GRAV_CONV      GRAV_ENCH      GRAV_INSUF     GRAV_TAQUI    \n",
       " Mode:logical   Mode:logical   Mode:logical   Mode:logical   Mode:logical  \n",
       " NA's:269823    NA's:269823    NA's:269823    NA's:269823    NA's:269823   \n",
       " GRAV_EXTRE     GRAV_HIPOT     GRAV_HEMAT     GRAV_MELEN     GRAV_METRO    \n",
       " Mode:logical   Mode:logical   Mode:logical   Mode:logical   Mode:logical  \n",
       " NA's:269823    NA's:269823    NA's:269823    NA's:269823    NA's:269823   \n",
       " GRAV_SANG      GRAV_AST       GRAV_MIOC      GRAV_CONSC     GRAV_ORGAO    \n",
       " Mode:logical   Mode:logical   Mode:logical   Mode:logical   Mode:logical  \n",
       " NA's:269823    NA's:269823    NA's:269823    NA's:269823    NA's:269823   "
      ]
     },
     "metadata": {},
     "output_type": "display_data"
    },
    {
     "data": {
      "text/plain": [
       " MANI_HEMOR     EPISTAXE       GENGIVO         METRO         PETEQUIAS     \n",
       " Mode:logical   Mode:logical   Mode:logical   Mode:logical   Mode:logical  \n",
       " NA's:269823    NA's:269823    NA's:269823    NA's:269823    NA's:269823   \n",
       " HEMATURA       SANGRAM         LACO_N        PLASMATICO     EVIDENCIA     \n",
       " Mode:logical   Mode:logical   Mode:logical   Mode:logical   Mode:logical  \n",
       " NA's:269823    NA's:269823    NA's:269823    NA's:269823    NA's:269823   \n",
       " PLAQ_MENOR    \n",
       " Mode:logical  \n",
       " NA's:269823   "
      ]
     },
     "metadata": {},
     "output_type": "display_data"
    },
    {
     "data": {
      "text/html": [
       "<style>\n",
       ".list-inline {list-style: none; margin:0; padding: 0}\n",
       ".list-inline>li {display: inline-block}\n",
       ".list-inline>li:not(:last-child)::after {content: \"\\00b7\"; padding: 0 .5ex}\n",
       "</style>\n",
       "<ol class=list-inline><li>269823</li><li>39</li></ol>\n"
      ],
      "text/latex": [
       "\\begin{enumerate*}\n",
       "\\item 269823\n",
       "\\item 39\n",
       "\\end{enumerate*}\n"
      ],
      "text/markdown": [
       "1. 269823\n",
       "2. 39\n",
       "\n",
       "\n"
      ],
      "text/plain": [
       "[1] 269823     39"
      ]
     },
     "metadata": {},
     "output_type": "display_data"
    },
    {
     "data": {
      "text/html": [
       "<table class=\"dataframe\">\n",
       "<caption>A data.frame: 6 × 2</caption>\n",
       "<thead>\n",
       "\t<tr><th scope=col>EVOLUCAO</th><th scope=col>n</th></tr>\n",
       "\t<tr><th scope=col>&lt;int&gt;</th><th scope=col>&lt;int&gt;</th></tr>\n",
       "</thead>\n",
       "<tbody>\n",
       "\t<tr><td> 1</td><td>215573</td></tr>\n",
       "\t<tr><td> 2</td><td>   102</td></tr>\n",
       "\t<tr><td> 3</td><td>   278</td></tr>\n",
       "\t<tr><td> 4</td><td>    33</td></tr>\n",
       "\t<tr><td> 9</td><td>  8244</td></tr>\n",
       "\t<tr><td>NA</td><td> 45593</td></tr>\n",
       "</tbody>\n",
       "</table>\n"
      ],
      "text/latex": [
       "A data.frame: 6 × 2\n",
       "\\begin{tabular}{ll}\n",
       " EVOLUCAO & n\\\\\n",
       " <int> & <int>\\\\\n",
       "\\hline\n",
       "\t  1 & 215573\\\\\n",
       "\t  2 &    102\\\\\n",
       "\t  3 &    278\\\\\n",
       "\t  4 &     33\\\\\n",
       "\t  9 &   8244\\\\\n",
       "\t NA &  45593\\\\\n",
       "\\end{tabular}\n"
      ],
      "text/markdown": [
       "\n",
       "A data.frame: 6 × 2\n",
       "\n",
       "| EVOLUCAO &lt;int&gt; | n &lt;int&gt; |\n",
       "|---|---|\n",
       "|  1 | 215573 |\n",
       "|  2 |    102 |\n",
       "|  3 |    278 |\n",
       "|  4 |     33 |\n",
       "|  9 |   8244 |\n",
       "| NA |  45593 |\n",
       "\n"
      ],
      "text/plain": [
       "  EVOLUCAO n     \n",
       "1  1       215573\n",
       "2  2          102\n",
       "3  3          278\n",
       "4  4           33\n",
       "5  9         8244\n",
       "6 NA        45593"
      ]
     },
     "metadata": {},
     "output_type": "display_data"
    },
    {
     "data": {
      "text/html": [
       "<table class=\"dataframe\">\n",
       "<caption>A data.frame: 4 × 2</caption>\n",
       "<thead>\n",
       "\t<tr><th scope=col>HOSPITALIZ</th><th scope=col>n</th></tr>\n",
       "\t<tr><th scope=col>&lt;int&gt;</th><th scope=col>&lt;int&gt;</th></tr>\n",
       "</thead>\n",
       "<tbody>\n",
       "\t<tr><td> 1</td><td>  6534</td></tr>\n",
       "\t<tr><td> 2</td><td>150163</td></tr>\n",
       "\t<tr><td> 9</td><td>  3858</td></tr>\n",
       "\t<tr><td>NA</td><td>109268</td></tr>\n",
       "</tbody>\n",
       "</table>\n"
      ],
      "text/latex": [
       "A data.frame: 4 × 2\n",
       "\\begin{tabular}{ll}\n",
       " HOSPITALIZ & n\\\\\n",
       " <int> & <int>\\\\\n",
       "\\hline\n",
       "\t  1 &   6534\\\\\n",
       "\t  2 & 150163\\\\\n",
       "\t  9 &   3858\\\\\n",
       "\t NA & 109268\\\\\n",
       "\\end{tabular}\n"
      ],
      "text/markdown": [
       "\n",
       "A data.frame: 4 × 2\n",
       "\n",
       "| HOSPITALIZ &lt;int&gt; | n &lt;int&gt; |\n",
       "|---|---|\n",
       "|  1 |   6534 |\n",
       "|  2 | 150163 |\n",
       "|  9 |   3858 |\n",
       "| NA | 109268 |\n",
       "\n"
      ],
      "text/plain": [
       "  HOSPITALIZ n     \n",
       "1  1           6534\n",
       "2  2         150163\n",
       "3  9           3858\n",
       "4 NA         109268"
      ]
     },
     "metadata": {},
     "output_type": "display_data"
    },
    {
     "data": {
      "text/html": [
       "<style>\n",
       ".list-inline {list-style: none; margin:0; padding: 0}\n",
       ".list-inline>li {display: inline-block}\n",
       ".list-inline>li:not(:last-child)::after {content: \"\\00b7\"; padding: 0 .5ex}\n",
       "</style>\n",
       "<ol class=list-inline><li>'SEM_NOT'</li><li>'SG_UF_NOT'</li><li>'ID_UNIDADE'</li><li>'DT_SIN_PRI'</li><li>'SEM_PRI'</li><li>'ANO_NASC'</li><li>'CS_SEXO'</li><li>'CS_GESTANT'</li><li>'CS_RACA'</li><li>'CS_ESCOL_N'</li><li>'ID_MN_RESI'</li><li>'ID_OCUPA_N'</li><li>'FEBRE'</li><li>'MIALGIA'</li><li>'CEFALEIA'</li><li>'EXANTEMA'</li><li>'VOMITO'</li><li>'NAUSEA'</li><li>'DOR_COSTAS'</li><li>'CONJUNTVIT'</li><li>'ARTRITE'</li><li>'ARTRALGIA'</li><li>'PETEQUIA_N'</li><li>'LEUCOPENIA'</li><li>'LACO'</li><li>'DOR_RETRO'</li><li>'DIABETES'</li><li>'HEMATOLOG'</li><li>'HEPATOPAT'</li><li>'RENAL'</li><li>'HIPERTENSA'</li><li>'ACIDO_PEPT'</li><li>'AUTO_IMUNE'</li><li>'HOSPITALIZ'</li><li>'DT_INTERNA'</li><li>'CLASSI_FIN'</li><li>'CLINC_CHIK'</li><li>'EVOLUCAO'</li><li>'DT_OBITO'</li></ol>\n"
      ],
      "text/latex": [
       "\\begin{enumerate*}\n",
       "\\item 'SEM\\_NOT'\n",
       "\\item 'SG\\_UF\\_NOT'\n",
       "\\item 'ID\\_UNIDADE'\n",
       "\\item 'DT\\_SIN\\_PRI'\n",
       "\\item 'SEM\\_PRI'\n",
       "\\item 'ANO\\_NASC'\n",
       "\\item 'CS\\_SEXO'\n",
       "\\item 'CS\\_GESTANT'\n",
       "\\item 'CS\\_RACA'\n",
       "\\item 'CS\\_ESCOL\\_N'\n",
       "\\item 'ID\\_MN\\_RESI'\n",
       "\\item 'ID\\_OCUPA\\_N'\n",
       "\\item 'FEBRE'\n",
       "\\item 'MIALGIA'\n",
       "\\item 'CEFALEIA'\n",
       "\\item 'EXANTEMA'\n",
       "\\item 'VOMITO'\n",
       "\\item 'NAUSEA'\n",
       "\\item 'DOR\\_COSTAS'\n",
       "\\item 'CONJUNTVIT'\n",
       "\\item 'ARTRITE'\n",
       "\\item 'ARTRALGIA'\n",
       "\\item 'PETEQUIA\\_N'\n",
       "\\item 'LEUCOPENIA'\n",
       "\\item 'LACO'\n",
       "\\item 'DOR\\_RETRO'\n",
       "\\item 'DIABETES'\n",
       "\\item 'HEMATOLOG'\n",
       "\\item 'HEPATOPAT'\n",
       "\\item 'RENAL'\n",
       "\\item 'HIPERTENSA'\n",
       "\\item 'ACIDO\\_PEPT'\n",
       "\\item 'AUTO\\_IMUNE'\n",
       "\\item 'HOSPITALIZ'\n",
       "\\item 'DT\\_INTERNA'\n",
       "\\item 'CLASSI\\_FIN'\n",
       "\\item 'CLINC\\_CHIK'\n",
       "\\item 'EVOLUCAO'\n",
       "\\item 'DT\\_OBITO'\n",
       "\\end{enumerate*}\n"
      ],
      "text/markdown": [
       "1. 'SEM_NOT'\n",
       "2. 'SG_UF_NOT'\n",
       "3. 'ID_UNIDADE'\n",
       "4. 'DT_SIN_PRI'\n",
       "5. 'SEM_PRI'\n",
       "6. 'ANO_NASC'\n",
       "7. 'CS_SEXO'\n",
       "8. 'CS_GESTANT'\n",
       "9. 'CS_RACA'\n",
       "10. 'CS_ESCOL_N'\n",
       "11. 'ID_MN_RESI'\n",
       "12. 'ID_OCUPA_N'\n",
       "13. 'FEBRE'\n",
       "14. 'MIALGIA'\n",
       "15. 'CEFALEIA'\n",
       "16. 'EXANTEMA'\n",
       "17. 'VOMITO'\n",
       "18. 'NAUSEA'\n",
       "19. 'DOR_COSTAS'\n",
       "20. 'CONJUNTVIT'\n",
       "21. 'ARTRITE'\n",
       "22. 'ARTRALGIA'\n",
       "23. 'PETEQUIA_N'\n",
       "24. 'LEUCOPENIA'\n",
       "25. 'LACO'\n",
       "26. 'DOR_RETRO'\n",
       "27. 'DIABETES'\n",
       "28. 'HEMATOLOG'\n",
       "29. 'HEPATOPAT'\n",
       "30. 'RENAL'\n",
       "31. 'HIPERTENSA'\n",
       "32. 'ACIDO_PEPT'\n",
       "33. 'AUTO_IMUNE'\n",
       "34. 'HOSPITALIZ'\n",
       "35. 'DT_INTERNA'\n",
       "36. 'CLASSI_FIN'\n",
       "37. 'CLINC_CHIK'\n",
       "38. 'EVOLUCAO'\n",
       "39. 'DT_OBITO'\n",
       "\n",
       "\n"
      ],
      "text/plain": [
       " [1] \"SEM_NOT\"    \"SG_UF_NOT\"  \"ID_UNIDADE\" \"DT_SIN_PRI\" \"SEM_PRI\"   \n",
       " [6] \"ANO_NASC\"   \"CS_SEXO\"    \"CS_GESTANT\" \"CS_RACA\"    \"CS_ESCOL_N\"\n",
       "[11] \"ID_MN_RESI\" \"ID_OCUPA_N\" \"FEBRE\"      \"MIALGIA\"    \"CEFALEIA\"  \n",
       "[16] \"EXANTEMA\"   \"VOMITO\"     \"NAUSEA\"     \"DOR_COSTAS\" \"CONJUNTVIT\"\n",
       "[21] \"ARTRITE\"    \"ARTRALGIA\"  \"PETEQUIA_N\" \"LEUCOPENIA\" \"LACO\"      \n",
       "[26] \"DOR_RETRO\"  \"DIABETES\"   \"HEMATOLOG\"  \"HEPATOPAT\"  \"RENAL\"     \n",
       "[31] \"HIPERTENSA\" \"ACIDO_PEPT\" \"AUTO_IMUNE\" \"HOSPITALIZ\" \"DT_INTERNA\"\n",
       "[36] \"CLASSI_FIN\" \"CLINC_CHIK\" \"EVOLUCAO\"   \"DT_OBITO\"  "
      ]
     },
     "metadata": {},
     "output_type": "display_data"
    }
   ],
   "source": [
    "# keep only id related with the state and health unity, one micro and another macro localization\n",
    "\n",
    "data %>% select(-c(ID_REGIONA, ID_MUNICIP, SG_UF, ID_PAIS, ID_RG_RESI, UF, MUNICIPIO)) -> data\n",
    "\n",
    "\n",
    "# monstly NA values\n",
    "\n",
    "data %>% count(TPAUTOCTO)\n",
    "data %>% count(COPAISINF)\n",
    "data %>% count(COMUNINF) \n",
    "\n",
    "data %>% count(NU_LOTE_I)\n",
    "data %>% count(TP_SISTEMA)\n",
    "data %>% count(CS_FLXRET)\n",
    "data %>% count(FLXRECEBI)\n",
    "\n",
    "data %>% count(MIGRADO_W)\n",
    "data %>% count(NDUPLIC_N)\n",
    "data %>% count(COMPLICA)\n",
    "data %>% count(CON_FHD)\n",
    "\n",
    "data %>% count(SOROTIPO)\n",
    "data %>% count(HISTOPA_N)\n",
    "data %>% count(IMUNOH_N)\n",
    "data %>% count(DOENCA_TRA)\n",
    "data %>% count(ALRM_HIPOT)\n",
    "\n",
    "data %>% count(TP_NOT)\n",
    "data %>% count(ID_AGRAVO)\n",
    "data %>% count(NU_ANO)\n",
    "\n",
    "data %>% select(-c(TPAUTOCTO, COPAISINF, COUFINF, COMUNINF)) -> data\n",
    "data %>% select(-c(NU_LOTE_I, TP_SISTEMA, CS_FLXRET, FLXRECEBI, DT_DIGITA)) -> data\n",
    "data %>% select(-c(MIGRADO_W, NDUPLIC_N, COMPLICA, CON_FHD)) -> data\n",
    "data %>% select(-c(SOROTIPO, HISTOPA_N, IMUNOH_N, DOENCA_TRA, ALRM_HIPOT)) -> data\n",
    "data %>% select(-c(TP_NOT, ID_AGRAVO, NU_ANO)) -> data\n",
    "\n",
    "data %>% select(ALRM_PLAQ:ALRM_LIQ) %>% summary\n",
    "data %>% select(GRAV_PULSO:GRAV_ORGAO) %>% summary\n",
    "data %>% select(MANI_HEMOR:PLAQ_MENOR) %>% summary\n",
    "\n",
    "data %>% select(-c(ALRM_PLAQ:PLAQ_MENOR)) -> data \n",
    "\n",
    "# NU_IDADE_N refers to age in a diferent format\n",
    "\n",
    "data %>% select(-c(NU_IDADE_N)) -> data\n",
    "\n",
    "# this dates usually are the same and refer to the date of digitalization\n",
    "\n",
    "data %>% select(-c(DT_NOTIFIC, DT_ENCERRA, DT_INVEST, CRITERIO)) -> data\n",
    "\n",
    "# we adopted the final classification to consider a positive case, remove test results and test dates\n",
    "\n",
    "data %>% select(-c(DT_CHIK_S1:RESUL_PCR_)) -> data\n",
    "\n",
    "data %>% dim\n",
    "data %>% count(EVOLUCAO)\n",
    "data %>% count(HOSPITALIZ)\n",
    "data %>% colnames"
   ]
  },
  {
   "cell_type": "markdown",
   "id": "3231af44",
   "metadata": {},
   "source": [
    "### Filter 2: Remove if is na for state or health unit"
   ]
  },
  {
   "cell_type": "code",
   "execution_count": 9,
   "id": "927c5164",
   "metadata": {},
   "outputs": [
    {
     "data": {
      "text/html": [
       "<style>\n",
       ".list-inline {list-style: none; margin:0; padding: 0}\n",
       ".list-inline>li {display: inline-block}\n",
       ".list-inline>li:not(:last-child)::after {content: \"\\00b7\"; padding: 0 .5ex}\n",
       "</style>\n",
       "<ol class=list-inline><li>269768</li><li>39</li></ol>\n"
      ],
      "text/latex": [
       "\\begin{enumerate*}\n",
       "\\item 269768\n",
       "\\item 39\n",
       "\\end{enumerate*}\n"
      ],
      "text/markdown": [
       "1. 269768\n",
       "2. 39\n",
       "\n",
       "\n"
      ],
      "text/plain": [
       "[1] 269768     39"
      ]
     },
     "metadata": {},
     "output_type": "display_data"
    },
    {
     "data": {
      "text/html": [
       "<table class=\"dataframe\">\n",
       "<caption>A data.frame: 6 × 2</caption>\n",
       "<thead>\n",
       "\t<tr><th scope=col>EVOLUCAO</th><th scope=col>n</th></tr>\n",
       "\t<tr><th scope=col>&lt;int&gt;</th><th scope=col>&lt;int&gt;</th></tr>\n",
       "</thead>\n",
       "<tbody>\n",
       "\t<tr><td> 1</td><td>215524</td></tr>\n",
       "\t<tr><td> 2</td><td>   102</td></tr>\n",
       "\t<tr><td> 3</td><td>   278</td></tr>\n",
       "\t<tr><td> 4</td><td>    33</td></tr>\n",
       "\t<tr><td> 9</td><td>  8244</td></tr>\n",
       "\t<tr><td>NA</td><td> 45587</td></tr>\n",
       "</tbody>\n",
       "</table>\n"
      ],
      "text/latex": [
       "A data.frame: 6 × 2\n",
       "\\begin{tabular}{ll}\n",
       " EVOLUCAO & n\\\\\n",
       " <int> & <int>\\\\\n",
       "\\hline\n",
       "\t  1 & 215524\\\\\n",
       "\t  2 &    102\\\\\n",
       "\t  3 &    278\\\\\n",
       "\t  4 &     33\\\\\n",
       "\t  9 &   8244\\\\\n",
       "\t NA &  45587\\\\\n",
       "\\end{tabular}\n"
      ],
      "text/markdown": [
       "\n",
       "A data.frame: 6 × 2\n",
       "\n",
       "| EVOLUCAO &lt;int&gt; | n &lt;int&gt; |\n",
       "|---|---|\n",
       "|  1 | 215524 |\n",
       "|  2 |    102 |\n",
       "|  3 |    278 |\n",
       "|  4 |     33 |\n",
       "|  9 |   8244 |\n",
       "| NA |  45587 |\n",
       "\n"
      ],
      "text/plain": [
       "  EVOLUCAO n     \n",
       "1  1       215524\n",
       "2  2          102\n",
       "3  3          278\n",
       "4  4           33\n",
       "5  9         8244\n",
       "6 NA        45587"
      ]
     },
     "metadata": {},
     "output_type": "display_data"
    },
    {
     "data": {
      "text/html": [
       "<table class=\"dataframe\">\n",
       "<caption>A data.frame: 4 × 2</caption>\n",
       "<thead>\n",
       "\t<tr><th scope=col>HOSPITALIZ</th><th scope=col>n</th></tr>\n",
       "\t<tr><th scope=col>&lt;int&gt;</th><th scope=col>&lt;int&gt;</th></tr>\n",
       "</thead>\n",
       "<tbody>\n",
       "\t<tr><td> 1</td><td>  6533</td></tr>\n",
       "\t<tr><td> 2</td><td>150155</td></tr>\n",
       "\t<tr><td> 9</td><td>  3834</td></tr>\n",
       "\t<tr><td>NA</td><td>109246</td></tr>\n",
       "</tbody>\n",
       "</table>\n"
      ],
      "text/latex": [
       "A data.frame: 4 × 2\n",
       "\\begin{tabular}{ll}\n",
       " HOSPITALIZ & n\\\\\n",
       " <int> & <int>\\\\\n",
       "\\hline\n",
       "\t  1 &   6533\\\\\n",
       "\t  2 & 150155\\\\\n",
       "\t  9 &   3834\\\\\n",
       "\t NA & 109246\\\\\n",
       "\\end{tabular}\n"
      ],
      "text/markdown": [
       "\n",
       "A data.frame: 4 × 2\n",
       "\n",
       "| HOSPITALIZ &lt;int&gt; | n &lt;int&gt; |\n",
       "|---|---|\n",
       "|  1 |   6533 |\n",
       "|  2 | 150155 |\n",
       "|  9 |   3834 |\n",
       "| NA | 109246 |\n",
       "\n"
      ],
      "text/plain": [
       "  HOSPITALIZ n     \n",
       "1  1           6533\n",
       "2  2         150155\n",
       "3  9           3834\n",
       "4 NA         109246"
      ]
     },
     "metadata": {},
     "output_type": "display_data"
    }
   ],
   "source": [
    "data <- data %>%  filter(!is.na(SG_UF_NOT))\n",
    "data <- data %>%  filter(!is.na(ID_UNIDADE))\n",
    "\n",
    "data %>% dim\n",
    "\n",
    "data %>% count(EVOLUCAO)\n",
    "data %>% count(HOSPITALIZ)"
   ]
  },
  {
   "cell_type": "markdown",
   "id": "cf2f6e40",
   "metadata": {},
   "source": [
    "### Filter 3: filter only confirmed positive and negative cases"
   ]
  },
  {
   "cell_type": "markdown",
   "id": "5cd12ec8",
   "metadata": {},
   "source": [
    "5-Descartado (negative)\n",
    "13-Chikungunya (positive)"
   ]
  },
  {
   "cell_type": "code",
   "execution_count": 10,
   "id": "5175b9cb",
   "metadata": {},
   "outputs": [
    {
     "data": {
      "text/html": [
       "<table class=\"dataframe\">\n",
       "<caption>A data.frame: 6 × 2</caption>\n",
       "<thead>\n",
       "\t<tr><th scope=col>CLASSI_FIN</th><th scope=col>n</th></tr>\n",
       "\t<tr><th scope=col>&lt;int&gt;</th><th scope=col>&lt;int&gt;</th></tr>\n",
       "</thead>\n",
       "<tbody>\n",
       "\t<tr><td> 1</td><td>     3</td></tr>\n",
       "\t<tr><td> 2</td><td>     1</td></tr>\n",
       "\t<tr><td> 5</td><td> 95117</td></tr>\n",
       "\t<tr><td> 8</td><td>     1</td></tr>\n",
       "\t<tr><td>13</td><td>142647</td></tr>\n",
       "\t<tr><td>NA</td><td> 31999</td></tr>\n",
       "</tbody>\n",
       "</table>\n"
      ],
      "text/latex": [
       "A data.frame: 6 × 2\n",
       "\\begin{tabular}{ll}\n",
       " CLASSI\\_FIN & n\\\\\n",
       " <int> & <int>\\\\\n",
       "\\hline\n",
       "\t  1 &      3\\\\\n",
       "\t  2 &      1\\\\\n",
       "\t  5 &  95117\\\\\n",
       "\t  8 &      1\\\\\n",
       "\t 13 & 142647\\\\\n",
       "\t NA &  31999\\\\\n",
       "\\end{tabular}\n"
      ],
      "text/markdown": [
       "\n",
       "A data.frame: 6 × 2\n",
       "\n",
       "| CLASSI_FIN &lt;int&gt; | n &lt;int&gt; |\n",
       "|---|---|\n",
       "|  1 |      3 |\n",
       "|  2 |      1 |\n",
       "|  5 |  95117 |\n",
       "|  8 |      1 |\n",
       "| 13 | 142647 |\n",
       "| NA |  31999 |\n",
       "\n"
      ],
      "text/plain": [
       "  CLASSI_FIN n     \n",
       "1  1              3\n",
       "2  2              1\n",
       "3  5          95117\n",
       "4  8              1\n",
       "5 13         142647\n",
       "6 NA          31999"
      ]
     },
     "metadata": {},
     "output_type": "display_data"
    },
    {
     "data": {
      "text/html": [
       "<style>\n",
       ".list-inline {list-style: none; margin:0; padding: 0}\n",
       ".list-inline>li {display: inline-block}\n",
       ".list-inline>li:not(:last-child)::after {content: \"\\00b7\"; padding: 0 .5ex}\n",
       "</style>\n",
       "<ol class=list-inline><li>237764</li><li>39</li></ol>\n"
      ],
      "text/latex": [
       "\\begin{enumerate*}\n",
       "\\item 237764\n",
       "\\item 39\n",
       "\\end{enumerate*}\n"
      ],
      "text/markdown": [
       "1. 237764\n",
       "2. 39\n",
       "\n",
       "\n"
      ],
      "text/plain": [
       "[1] 237764     39"
      ]
     },
     "metadata": {},
     "output_type": "display_data"
    },
    {
     "data": {
      "text/html": [
       "<table class=\"dataframe\">\n",
       "<caption>A data.frame: 6 × 2</caption>\n",
       "<thead>\n",
       "\t<tr><th scope=col>EVOLUCAO</th><th scope=col>n</th></tr>\n",
       "\t<tr><th scope=col>&lt;int&gt;</th><th scope=col>&lt;int&gt;</th></tr>\n",
       "</thead>\n",
       "<tbody>\n",
       "\t<tr><td> 1</td><td>215448</td></tr>\n",
       "\t<tr><td> 2</td><td>   102</td></tr>\n",
       "\t<tr><td> 3</td><td>   276</td></tr>\n",
       "\t<tr><td> 4</td><td>    26</td></tr>\n",
       "\t<tr><td> 9</td><td>  8203</td></tr>\n",
       "\t<tr><td>NA</td><td> 13709</td></tr>\n",
       "</tbody>\n",
       "</table>\n"
      ],
      "text/latex": [
       "A data.frame: 6 × 2\n",
       "\\begin{tabular}{ll}\n",
       " EVOLUCAO & n\\\\\n",
       " <int> & <int>\\\\\n",
       "\\hline\n",
       "\t  1 & 215448\\\\\n",
       "\t  2 &    102\\\\\n",
       "\t  3 &    276\\\\\n",
       "\t  4 &     26\\\\\n",
       "\t  9 &   8203\\\\\n",
       "\t NA &  13709\\\\\n",
       "\\end{tabular}\n"
      ],
      "text/markdown": [
       "\n",
       "A data.frame: 6 × 2\n",
       "\n",
       "| EVOLUCAO &lt;int&gt; | n &lt;int&gt; |\n",
       "|---|---|\n",
       "|  1 | 215448 |\n",
       "|  2 |    102 |\n",
       "|  3 |    276 |\n",
       "|  4 |     26 |\n",
       "|  9 |   8203 |\n",
       "| NA |  13709 |\n",
       "\n"
      ],
      "text/plain": [
       "  EVOLUCAO n     \n",
       "1  1       215448\n",
       "2  2          102\n",
       "3  3          276\n",
       "4  4           26\n",
       "5  9         8203\n",
       "6 NA        13709"
      ]
     },
     "metadata": {},
     "output_type": "display_data"
    },
    {
     "data": {
      "text/html": [
       "<table class=\"dataframe\">\n",
       "<caption>A data.frame: 4 × 2</caption>\n",
       "<thead>\n",
       "\t<tr><th scope=col>HOSPITALIZ</th><th scope=col>n</th></tr>\n",
       "\t<tr><th scope=col>&lt;int&gt;</th><th scope=col>&lt;int&gt;</th></tr>\n",
       "</thead>\n",
       "<tbody>\n",
       "\t<tr><td> 1</td><td>  5873</td></tr>\n",
       "\t<tr><td> 2</td><td>143227</td></tr>\n",
       "\t<tr><td> 9</td><td>  3732</td></tr>\n",
       "\t<tr><td>NA</td><td> 84932</td></tr>\n",
       "</tbody>\n",
       "</table>\n"
      ],
      "text/latex": [
       "A data.frame: 4 × 2\n",
       "\\begin{tabular}{ll}\n",
       " HOSPITALIZ & n\\\\\n",
       " <int> & <int>\\\\\n",
       "\\hline\n",
       "\t  1 &   5873\\\\\n",
       "\t  2 & 143227\\\\\n",
       "\t  9 &   3732\\\\\n",
       "\t NA &  84932\\\\\n",
       "\\end{tabular}\n"
      ],
      "text/markdown": [
       "\n",
       "A data.frame: 4 × 2\n",
       "\n",
       "| HOSPITALIZ &lt;int&gt; | n &lt;int&gt; |\n",
       "|---|---|\n",
       "|  1 |   5873 |\n",
       "|  2 | 143227 |\n",
       "|  9 |   3732 |\n",
       "| NA |  84932 |\n",
       "\n"
      ],
      "text/plain": [
       "  HOSPITALIZ n     \n",
       "1  1           5873\n",
       "2  2         143227\n",
       "3  9           3732\n",
       "4 NA          84932"
      ]
     },
     "metadata": {},
     "output_type": "display_data"
    }
   ],
   "source": [
    "# patient diagnosed with chikungunya\n",
    "data %>% count(CLASSI_FIN)\n",
    "\n",
    "data %>% filter(CLASSI_FIN == 5 | CLASSI_FIN == 13) -> data\n",
    "\n",
    "data %>% dim\n",
    "\n",
    "data %>% count(EVOLUCAO)\n",
    "data %>% count(HOSPITALIZ)"
   ]
  },
  {
   "cell_type": "markdown",
   "id": "cfdb8ddf",
   "metadata": {},
   "source": [
    "### Filter 4: remove patients without year of birth"
   ]
  },
  {
   "cell_type": "code",
   "execution_count": 11,
   "id": "6e433a8e",
   "metadata": {},
   "outputs": [
    {
     "data": {
      "text/html": [
       "<style>\n",
       ".list-inline {list-style: none; margin:0; padding: 0}\n",
       ".list-inline>li {display: inline-block}\n",
       ".list-inline>li:not(:last-child)::after {content: \"\\00b7\"; padding: 0 .5ex}\n",
       "</style>\n",
       "<ol class=list-inline><li>235845</li><li>39</li></ol>\n"
      ],
      "text/latex": [
       "\\begin{enumerate*}\n",
       "\\item 235845\n",
       "\\item 39\n",
       "\\end{enumerate*}\n"
      ],
      "text/markdown": [
       "1. 235845\n",
       "2. 39\n",
       "\n",
       "\n"
      ],
      "text/plain": [
       "[1] 235845     39"
      ]
     },
     "metadata": {},
     "output_type": "display_data"
    },
    {
     "data": {
      "text/html": [
       "<table class=\"dataframe\">\n",
       "<caption>A data.frame: 6 × 2</caption>\n",
       "<thead>\n",
       "\t<tr><th scope=col>EVOLUCAO</th><th scope=col>n</th></tr>\n",
       "\t<tr><th scope=col>&lt;int&gt;</th><th scope=col>&lt;int&gt;</th></tr>\n",
       "</thead>\n",
       "<tbody>\n",
       "\t<tr><td> 1</td><td>213696</td></tr>\n",
       "\t<tr><td> 2</td><td>   100</td></tr>\n",
       "\t<tr><td> 3</td><td>   275</td></tr>\n",
       "\t<tr><td> 4</td><td>    26</td></tr>\n",
       "\t<tr><td> 9</td><td>  8150</td></tr>\n",
       "\t<tr><td>NA</td><td> 13598</td></tr>\n",
       "</tbody>\n",
       "</table>\n"
      ],
      "text/latex": [
       "A data.frame: 6 × 2\n",
       "\\begin{tabular}{ll}\n",
       " EVOLUCAO & n\\\\\n",
       " <int> & <int>\\\\\n",
       "\\hline\n",
       "\t  1 & 213696\\\\\n",
       "\t  2 &    100\\\\\n",
       "\t  3 &    275\\\\\n",
       "\t  4 &     26\\\\\n",
       "\t  9 &   8150\\\\\n",
       "\t NA &  13598\\\\\n",
       "\\end{tabular}\n"
      ],
      "text/markdown": [
       "\n",
       "A data.frame: 6 × 2\n",
       "\n",
       "| EVOLUCAO &lt;int&gt; | n &lt;int&gt; |\n",
       "|---|---|\n",
       "|  1 | 213696 |\n",
       "|  2 |    100 |\n",
       "|  3 |    275 |\n",
       "|  4 |     26 |\n",
       "|  9 |   8150 |\n",
       "| NA |  13598 |\n",
       "\n"
      ],
      "text/plain": [
       "  EVOLUCAO n     \n",
       "1  1       213696\n",
       "2  2          100\n",
       "3  3          275\n",
       "4  4           26\n",
       "5  9         8150\n",
       "6 NA        13598"
      ]
     },
     "metadata": {},
     "output_type": "display_data"
    },
    {
     "data": {
      "text/html": [
       "<table class=\"dataframe\">\n",
       "<caption>A data.frame: 4 × 2</caption>\n",
       "<thead>\n",
       "\t<tr><th scope=col>HOSPITALIZ</th><th scope=col>n</th></tr>\n",
       "\t<tr><th scope=col>&lt;int&gt;</th><th scope=col>&lt;int&gt;</th></tr>\n",
       "</thead>\n",
       "<tbody>\n",
       "\t<tr><td> 1</td><td>  5840</td></tr>\n",
       "\t<tr><td> 2</td><td>142193</td></tr>\n",
       "\t<tr><td> 9</td><td>  3712</td></tr>\n",
       "\t<tr><td>NA</td><td> 84100</td></tr>\n",
       "</tbody>\n",
       "</table>\n"
      ],
      "text/latex": [
       "A data.frame: 4 × 2\n",
       "\\begin{tabular}{ll}\n",
       " HOSPITALIZ & n\\\\\n",
       " <int> & <int>\\\\\n",
       "\\hline\n",
       "\t  1 &   5840\\\\\n",
       "\t  2 & 142193\\\\\n",
       "\t  9 &   3712\\\\\n",
       "\t NA &  84100\\\\\n",
       "\\end{tabular}\n"
      ],
      "text/markdown": [
       "\n",
       "A data.frame: 4 × 2\n",
       "\n",
       "| HOSPITALIZ &lt;int&gt; | n &lt;int&gt; |\n",
       "|---|---|\n",
       "|  1 |   5840 |\n",
       "|  2 | 142193 |\n",
       "|  9 |   3712 |\n",
       "| NA |  84100 |\n",
       "\n"
      ],
      "text/plain": [
       "  HOSPITALIZ n     \n",
       "1  1           5840\n",
       "2  2         142193\n",
       "3  9           3712\n",
       "4 NA          84100"
      ]
     },
     "metadata": {},
     "output_type": "display_data"
    }
   ],
   "source": [
    "data %>% filter(!is.na(ANO_NASC)) -> data\n",
    "\n",
    "data %>% dim\n",
    "\n",
    "data %>% count(EVOLUCAO)\n",
    "data %>% count(HOSPITALIZ)"
   ]
  },
  {
   "cell_type": "code",
   "execution_count": 12,
   "id": "214d29bd",
   "metadata": {},
   "outputs": [
    {
     "data": {
      "text/html": [
       "<table class=\"dataframe\">\n",
       "<caption>A data.frame: 15 × 2</caption>\n",
       "<thead>\n",
       "\t<tr><th scope=col>age</th><th scope=col>n</th></tr>\n",
       "\t<tr><th scope=col>&lt;dbl&gt;</th><th scope=col>&lt;int&gt;</th></tr>\n",
       "</thead>\n",
       "<tbody>\n",
       "\t<tr><td> 0</td><td>1903</td></tr>\n",
       "\t<tr><td> 1</td><td>1144</td></tr>\n",
       "\t<tr><td> 2</td><td>1071</td></tr>\n",
       "\t<tr><td> 3</td><td>1417</td></tr>\n",
       "\t<tr><td> 4</td><td>1717</td></tr>\n",
       "\t<tr><td> 5</td><td>1771</td></tr>\n",
       "\t<tr><td> 6</td><td>1814</td></tr>\n",
       "\t<tr><td> 7</td><td>2016</td></tr>\n",
       "\t<tr><td> 8</td><td>2063</td></tr>\n",
       "\t<tr><td> 9</td><td>2286</td></tr>\n",
       "\t<tr><td>10</td><td>2345</td></tr>\n",
       "\t<tr><td>11</td><td>2592</td></tr>\n",
       "\t<tr><td>12</td><td>2620</td></tr>\n",
       "\t<tr><td>13</td><td>2604</td></tr>\n",
       "\t<tr><td>14</td><td>2638</td></tr>\n",
       "</tbody>\n",
       "</table>\n"
      ],
      "text/latex": [
       "A data.frame: 15 × 2\n",
       "\\begin{tabular}{ll}\n",
       " age & n\\\\\n",
       " <dbl> & <int>\\\\\n",
       "\\hline\n",
       "\t  0 & 1903\\\\\n",
       "\t  1 & 1144\\\\\n",
       "\t  2 & 1071\\\\\n",
       "\t  3 & 1417\\\\\n",
       "\t  4 & 1717\\\\\n",
       "\t  5 & 1771\\\\\n",
       "\t  6 & 1814\\\\\n",
       "\t  7 & 2016\\\\\n",
       "\t  8 & 2063\\\\\n",
       "\t  9 & 2286\\\\\n",
       "\t 10 & 2345\\\\\n",
       "\t 11 & 2592\\\\\n",
       "\t 12 & 2620\\\\\n",
       "\t 13 & 2604\\\\\n",
       "\t 14 & 2638\\\\\n",
       "\\end{tabular}\n"
      ],
      "text/markdown": [
       "\n",
       "A data.frame: 15 × 2\n",
       "\n",
       "| age &lt;dbl&gt; | n &lt;int&gt; |\n",
       "|---|---|\n",
       "|  0 | 1903 |\n",
       "|  1 | 1144 |\n",
       "|  2 | 1071 |\n",
       "|  3 | 1417 |\n",
       "|  4 | 1717 |\n",
       "|  5 | 1771 |\n",
       "|  6 | 1814 |\n",
       "|  7 | 2016 |\n",
       "|  8 | 2063 |\n",
       "|  9 | 2286 |\n",
       "| 10 | 2345 |\n",
       "| 11 | 2592 |\n",
       "| 12 | 2620 |\n",
       "| 13 | 2604 |\n",
       "| 14 | 2638 |\n",
       "\n"
      ],
      "text/plain": [
       "   age n   \n",
       "1   0  1903\n",
       "2   1  1144\n",
       "3   2  1071\n",
       "4   3  1417\n",
       "5   4  1717\n",
       "6   5  1771\n",
       "7   6  1814\n",
       "8   7  2016\n",
       "9   8  2063\n",
       "10  9  2286\n",
       "11 10  2345\n",
       "12 11  2592\n",
       "13 12  2620\n",
       "14 13  2604\n",
       "15 14  2638"
      ]
     },
     "metadata": {},
     "output_type": "display_data"
    },
    {
     "data": {
      "text/html": [
       "<table class=\"dataframe\">\n",
       "<caption>A data.frame: 12 × 2</caption>\n",
       "<thead>\n",
       "\t<tr><th></th><th scope=col>age</th><th scope=col>n</th></tr>\n",
       "\t<tr><th></th><th scope=col>&lt;dbl&gt;</th><th scope=col>&lt;int&gt;</th></tr>\n",
       "</thead>\n",
       "<tbody>\n",
       "\t<tr><th scope=row>105</th><td>104</td><td>3</td></tr>\n",
       "\t<tr><th scope=row>106</th><td>105</td><td>5</td></tr>\n",
       "\t<tr><th scope=row>107</th><td>106</td><td>2</td></tr>\n",
       "\t<tr><th scope=row>108</th><td>107</td><td>4</td></tr>\n",
       "\t<tr><th scope=row>109</th><td>108</td><td>2</td></tr>\n",
       "\t<tr><th scope=row>110</th><td>109</td><td>2</td></tr>\n",
       "\t<tr><th scope=row>111</th><td>110</td><td>1</td></tr>\n",
       "\t<tr><th scope=row>112</th><td>111</td><td>1</td></tr>\n",
       "\t<tr><th scope=row>113</th><td>114</td><td>1</td></tr>\n",
       "\t<tr><th scope=row>114</th><td>115</td><td>1</td></tr>\n",
       "\t<tr><th scope=row>115</th><td>116</td><td>1</td></tr>\n",
       "\t<tr><th scope=row>116</th><td>117</td><td>1</td></tr>\n",
       "</tbody>\n",
       "</table>\n"
      ],
      "text/latex": [
       "A data.frame: 12 × 2\n",
       "\\begin{tabular}{r|ll}\n",
       "  & age & n\\\\\n",
       "  & <dbl> & <int>\\\\\n",
       "\\hline\n",
       "\t105 & 104 & 3\\\\\n",
       "\t106 & 105 & 5\\\\\n",
       "\t107 & 106 & 2\\\\\n",
       "\t108 & 107 & 4\\\\\n",
       "\t109 & 108 & 2\\\\\n",
       "\t110 & 109 & 2\\\\\n",
       "\t111 & 110 & 1\\\\\n",
       "\t112 & 111 & 1\\\\\n",
       "\t113 & 114 & 1\\\\\n",
       "\t114 & 115 & 1\\\\\n",
       "\t115 & 116 & 1\\\\\n",
       "\t116 & 117 & 1\\\\\n",
       "\\end{tabular}\n"
      ],
      "text/markdown": [
       "\n",
       "A data.frame: 12 × 2\n",
       "\n",
       "| <!--/--> | age &lt;dbl&gt; | n &lt;int&gt; |\n",
       "|---|---|---|\n",
       "| 105 | 104 | 3 |\n",
       "| 106 | 105 | 5 |\n",
       "| 107 | 106 | 2 |\n",
       "| 108 | 107 | 4 |\n",
       "| 109 | 108 | 2 |\n",
       "| 110 | 109 | 2 |\n",
       "| 111 | 110 | 1 |\n",
       "| 112 | 111 | 1 |\n",
       "| 113 | 114 | 1 |\n",
       "| 114 | 115 | 1 |\n",
       "| 115 | 116 | 1 |\n",
       "| 116 | 117 | 1 |\n",
       "\n"
      ],
      "text/plain": [
       "    age n\n",
       "105 104 3\n",
       "106 105 5\n",
       "107 106 2\n",
       "108 107 4\n",
       "109 108 2\n",
       "110 109 2\n",
       "111 110 1\n",
       "112 111 1\n",
       "113 114 1\n",
       "114 115 1\n",
       "115 116 1\n",
       "116 117 1"
      ]
     },
     "metadata": {},
     "output_type": "display_data"
    }
   ],
   "source": [
    "# create a new column with age\n",
    "\n",
    "data %>% mutate(age = 2022 - ANO_NASC) %>% count(age) %>% slice(1:15)\n",
    "data %>% mutate(age = 2022 - ANO_NASC) %>% count(age) %>% tail(12)\n",
    "data %>% mutate(age = 2022 - ANO_NASC) -> data"
   ]
  },
  {
   "cell_type": "markdown",
   "id": "f30f2b4a",
   "metadata": {},
   "source": [
    "### Remove columns"
   ]
  },
  {
   "cell_type": "code",
   "execution_count": 13,
   "id": "f5cc26c9",
   "metadata": {},
   "outputs": [
    {
     "data": {
      "text/html": [
       "<table class=\"dataframe\">\n",
       "<caption>A data.frame: 15 × 2</caption>\n",
       "<thead>\n",
       "\t<tr><th scope=col>ID_OCUPA_N</th><th scope=col>n</th></tr>\n",
       "\t<tr><th scope=col>&lt;chr&gt;</th><th scope=col>&lt;int&gt;</th></tr>\n",
       "</thead>\n",
       "<tbody>\n",
       "\t<tr><td>      </td><td>5975</td></tr>\n",
       "\t<tr><td>000000</td><td>  23</td></tr>\n",
       "\t<tr><td>021210</td><td>   1</td></tr>\n",
       "\t<tr><td>123305</td><td>   1</td></tr>\n",
       "\t<tr><td>141405</td><td>   2</td></tr>\n",
       "\t<tr><td>142105</td><td>   1</td></tr>\n",
       "\t<tr><td>142115</td><td>   1</td></tr>\n",
       "\t<tr><td>142325</td><td>   1</td></tr>\n",
       "\t<tr><td>221105</td><td>   2</td></tr>\n",
       "\t<tr><td>223115</td><td>   2</td></tr>\n",
       "\t<tr><td>223505</td><td>   7</td></tr>\n",
       "\t<tr><td>231205</td><td>   4</td></tr>\n",
       "\t<tr><td>231335</td><td>   1</td></tr>\n",
       "\t<tr><td>232115</td><td>   1</td></tr>\n",
       "\t<tr><td>251605</td><td>   1</td></tr>\n",
       "</tbody>\n",
       "</table>\n"
      ],
      "text/latex": [
       "A data.frame: 15 × 2\n",
       "\\begin{tabular}{ll}\n",
       " ID\\_OCUPA\\_N & n\\\\\n",
       " <chr> & <int>\\\\\n",
       "\\hline\n",
       "\t        & 5975\\\\\n",
       "\t 000000 &   23\\\\\n",
       "\t 021210 &    1\\\\\n",
       "\t 123305 &    1\\\\\n",
       "\t 141405 &    2\\\\\n",
       "\t 142105 &    1\\\\\n",
       "\t 142115 &    1\\\\\n",
       "\t 142325 &    1\\\\\n",
       "\t 221105 &    2\\\\\n",
       "\t 223115 &    2\\\\\n",
       "\t 223505 &    7\\\\\n",
       "\t 231205 &    4\\\\\n",
       "\t 231335 &    1\\\\\n",
       "\t 232115 &    1\\\\\n",
       "\t 251605 &    1\\\\\n",
       "\\end{tabular}\n"
      ],
      "text/markdown": [
       "\n",
       "A data.frame: 15 × 2\n",
       "\n",
       "| ID_OCUPA_N &lt;chr&gt; | n &lt;int&gt; |\n",
       "|---|---|\n",
       "| <!----> | 5975 |\n",
       "| 000000 |   23 |\n",
       "| 021210 |    1 |\n",
       "| 123305 |    1 |\n",
       "| 141405 |    2 |\n",
       "| 142105 |    1 |\n",
       "| 142115 |    1 |\n",
       "| 142325 |    1 |\n",
       "| 221105 |    2 |\n",
       "| 223115 |    2 |\n",
       "| 223505 |    7 |\n",
       "| 231205 |    4 |\n",
       "| 231335 |    1 |\n",
       "| 232115 |    1 |\n",
       "| 251605 |    1 |\n",
       "\n"
      ],
      "text/plain": [
       "   ID_OCUPA_N n   \n",
       "1             5975\n",
       "2  000000       23\n",
       "3  021210        1\n",
       "4  123305        1\n",
       "5  141405        2\n",
       "6  142105        1\n",
       "7  142115        1\n",
       "8  142325        1\n",
       "9  221105        2\n",
       "10 223115        2\n",
       "11 223505        7\n",
       "12 231205        4\n",
       "13 231335        1\n",
       "14 232115        1\n",
       "15 251605        1"
      ]
     },
     "metadata": {},
     "output_type": "display_data"
    }
   ],
   "source": [
    "# ID_OCUPA_N seems to not be filled consistently\n",
    "# it refers to area of activity and should be filled with the same value (not aplicable) to children \n",
    "# sem_not is the epidemiologic week of notification, we will adopt the epidemiologic week of the first symptoms\n",
    "\n",
    "data %>% filter(age< 5) %>% count(ID_OCUPA_N) %>% slice(1:15)\n",
    "data %>% select(-c(ID_OCUPA_N, SEM_NOT)) -> data"
   ]
  },
  {
   "cell_type": "markdown",
   "id": "f3577087",
   "metadata": {},
   "source": [
    "### Filter 5: remove patients older than 110 years and youger than 12"
   ]
  },
  {
   "cell_type": "code",
   "execution_count": 14,
   "id": "3c07b230",
   "metadata": {},
   "outputs": [
    {
     "data": {
      "text/html": [
       "<style>\n",
       ".list-inline {list-style: none; margin:0; padding: 0}\n",
       ".list-inline>li {display: inline-block}\n",
       ".list-inline>li:not(:last-child)::after {content: \"\\00b7\"; padding: 0 .5ex}\n",
       "</style>\n",
       "<ol class=list-inline><li>213701</li><li>37</li></ol>\n"
      ],
      "text/latex": [
       "\\begin{enumerate*}\n",
       "\\item 213701\n",
       "\\item 37\n",
       "\\end{enumerate*}\n"
      ],
      "text/markdown": [
       "1. 213701\n",
       "2. 37\n",
       "\n",
       "\n"
      ],
      "text/plain": [
       "[1] 213701     37"
      ]
     },
     "metadata": {},
     "output_type": "display_data"
    },
    {
     "data": {
      "text/html": [
       "<table class=\"dataframe\">\n",
       "<caption>A data.frame: 6 × 2</caption>\n",
       "<thead>\n",
       "\t<tr><th scope=col>EVOLUCAO</th><th scope=col>n</th></tr>\n",
       "\t<tr><th scope=col>&lt;int&gt;</th><th scope=col>&lt;int&gt;</th></tr>\n",
       "</thead>\n",
       "<tbody>\n",
       "\t<tr><td> 1</td><td>194237</td></tr>\n",
       "\t<tr><td> 2</td><td>    93</td></tr>\n",
       "\t<tr><td> 3</td><td>   234</td></tr>\n",
       "\t<tr><td> 4</td><td>    18</td></tr>\n",
       "\t<tr><td> 9</td><td>  7113</td></tr>\n",
       "\t<tr><td>NA</td><td> 12006</td></tr>\n",
       "</tbody>\n",
       "</table>\n"
      ],
      "text/latex": [
       "A data.frame: 6 × 2\n",
       "\\begin{tabular}{ll}\n",
       " EVOLUCAO & n\\\\\n",
       " <int> & <int>\\\\\n",
       "\\hline\n",
       "\t  1 & 194237\\\\\n",
       "\t  2 &     93\\\\\n",
       "\t  3 &    234\\\\\n",
       "\t  4 &     18\\\\\n",
       "\t  9 &   7113\\\\\n",
       "\t NA &  12006\\\\\n",
       "\\end{tabular}\n"
      ],
      "text/markdown": [
       "\n",
       "A data.frame: 6 × 2\n",
       "\n",
       "| EVOLUCAO &lt;int&gt; | n &lt;int&gt; |\n",
       "|---|---|\n",
       "|  1 | 194237 |\n",
       "|  2 |     93 |\n",
       "|  3 |    234 |\n",
       "|  4 |     18 |\n",
       "|  9 |   7113 |\n",
       "| NA |  12006 |\n",
       "\n"
      ],
      "text/plain": [
       "  EVOLUCAO n     \n",
       "1  1       194237\n",
       "2  2           93\n",
       "3  3          234\n",
       "4  4           18\n",
       "5  9         7113\n",
       "6 NA        12006"
      ]
     },
     "metadata": {},
     "output_type": "display_data"
    },
    {
     "data": {
      "text/html": [
       "<table class=\"dataframe\">\n",
       "<caption>A data.frame: 4 × 2</caption>\n",
       "<thead>\n",
       "\t<tr><th scope=col>HOSPITALIZ</th><th scope=col>n</th></tr>\n",
       "\t<tr><th scope=col>&lt;int&gt;</th><th scope=col>&lt;int&gt;</th></tr>\n",
       "</thead>\n",
       "<tbody>\n",
       "\t<tr><td> 1</td><td>  4380</td></tr>\n",
       "\t<tr><td> 2</td><td>129535</td></tr>\n",
       "\t<tr><td> 9</td><td>  3408</td></tr>\n",
       "\t<tr><td>NA</td><td> 76378</td></tr>\n",
       "</tbody>\n",
       "</table>\n"
      ],
      "text/latex": [
       "A data.frame: 4 × 2\n",
       "\\begin{tabular}{ll}\n",
       " HOSPITALIZ & n\\\\\n",
       " <int> & <int>\\\\\n",
       "\\hline\n",
       "\t  1 &   4380\\\\\n",
       "\t  2 & 129535\\\\\n",
       "\t  9 &   3408\\\\\n",
       "\t NA &  76378\\\\\n",
       "\\end{tabular}\n"
      ],
      "text/markdown": [
       "\n",
       "A data.frame: 4 × 2\n",
       "\n",
       "| HOSPITALIZ &lt;int&gt; | n &lt;int&gt; |\n",
       "|---|---|\n",
       "|  1 |   4380 |\n",
       "|  2 | 129535 |\n",
       "|  9 |   3408 |\n",
       "| NA |  76378 |\n",
       "\n"
      ],
      "text/plain": [
       "  HOSPITALIZ n     \n",
       "1  1           4380\n",
       "2  2         129535\n",
       "3  9           3408\n",
       "4 NA          76378"
      ]
     },
     "metadata": {},
     "output_type": "display_data"
    }
   ],
   "source": [
    "# remove patients older than 110 years old \n",
    "\n",
    "data %>% filter(age < 111) -> data\n",
    "\n",
    "# remove patients younger than 16 years old\n",
    "\n",
    "data %>% filter(age > 11) -> data\n",
    "\n",
    "# remove the column year of birth\n",
    "\n",
    "data %>% select(-ANO_NASC) -> data\n",
    "\n",
    "data %>% dim\n",
    "data %>% count(EVOLUCAO)\n",
    "data %>% count(HOSPITALIZ)"
   ]
  },
  {
   "cell_type": "markdown",
   "id": "96d4cc6e",
   "metadata": {},
   "source": [
    "### Filter 6: remove patients without sex information"
   ]
  },
  {
   "cell_type": "code",
   "execution_count": 15,
   "id": "0a5b4840",
   "metadata": {},
   "outputs": [
    {
     "data": {
      "text/html": [
       "<table class=\"dataframe\">\n",
       "<caption>A data.frame: 4 × 2</caption>\n",
       "<thead>\n",
       "\t<tr><th scope=col>CS_SEXO</th><th scope=col>n</th></tr>\n",
       "\t<tr><th scope=col>&lt;chr&gt;</th><th scope=col>&lt;int&gt;</th></tr>\n",
       "</thead>\n",
       "<tbody>\n",
       "\t<tr><td> </td><td>     1</td></tr>\n",
       "\t<tr><td>F</td><td>132627</td></tr>\n",
       "\t<tr><td>I</td><td>   217</td></tr>\n",
       "\t<tr><td>M</td><td> 80856</td></tr>\n",
       "</tbody>\n",
       "</table>\n"
      ],
      "text/latex": [
       "A data.frame: 4 × 2\n",
       "\\begin{tabular}{ll}\n",
       " CS\\_SEXO & n\\\\\n",
       " <chr> & <int>\\\\\n",
       "\\hline\n",
       "\t   &      1\\\\\n",
       "\t F & 132627\\\\\n",
       "\t I &    217\\\\\n",
       "\t M &  80856\\\\\n",
       "\\end{tabular}\n"
      ],
      "text/markdown": [
       "\n",
       "A data.frame: 4 × 2\n",
       "\n",
       "| CS_SEXO &lt;chr&gt; | n &lt;int&gt; |\n",
       "|---|---|\n",
       "| <!----> |      1 |\n",
       "| F | 132627 |\n",
       "| I |    217 |\n",
       "| M |  80856 |\n",
       "\n"
      ],
      "text/plain": [
       "  CS_SEXO n     \n",
       "1              1\n",
       "2 F       132627\n",
       "3 I          217\n",
       "4 M        80856"
      ]
     },
     "metadata": {},
     "output_type": "display_data"
    },
    {
     "data": {
      "text/html": [
       "<table class=\"dataframe\">\n",
       "<caption>A data.frame: 2 × 2</caption>\n",
       "<thead>\n",
       "\t<tr><th scope=col>CS_SEXO</th><th scope=col>n</th></tr>\n",
       "\t<tr><th scope=col>&lt;chr&gt;</th><th scope=col>&lt;int&gt;</th></tr>\n",
       "</thead>\n",
       "<tbody>\n",
       "\t<tr><td>F</td><td>132627</td></tr>\n",
       "\t<tr><td>M</td><td> 80856</td></tr>\n",
       "</tbody>\n",
       "</table>\n"
      ],
      "text/latex": [
       "A data.frame: 2 × 2\n",
       "\\begin{tabular}{ll}\n",
       " CS\\_SEXO & n\\\\\n",
       " <chr> & <int>\\\\\n",
       "\\hline\n",
       "\t F & 132627\\\\\n",
       "\t M &  80856\\\\\n",
       "\\end{tabular}\n"
      ],
      "text/markdown": [
       "\n",
       "A data.frame: 2 × 2\n",
       "\n",
       "| CS_SEXO &lt;chr&gt; | n &lt;int&gt; |\n",
       "|---|---|\n",
       "| F | 132627 |\n",
       "| M |  80856 |\n",
       "\n"
      ],
      "text/plain": [
       "  CS_SEXO n     \n",
       "1 F       132627\n",
       "2 M        80856"
      ]
     },
     "metadata": {},
     "output_type": "display_data"
    },
    {
     "data": {
      "text/html": [
       "<style>\n",
       ".list-inline {list-style: none; margin:0; padding: 0}\n",
       ".list-inline>li {display: inline-block}\n",
       ".list-inline>li:not(:last-child)::after {content: \"\\00b7\"; padding: 0 .5ex}\n",
       "</style>\n",
       "<ol class=list-inline><li>213483</li><li>37</li></ol>\n"
      ],
      "text/latex": [
       "\\begin{enumerate*}\n",
       "\\item 213483\n",
       "\\item 37\n",
       "\\end{enumerate*}\n"
      ],
      "text/markdown": [
       "1. 213483\n",
       "2. 37\n",
       "\n",
       "\n"
      ],
      "text/plain": [
       "[1] 213483     37"
      ]
     },
     "metadata": {},
     "output_type": "display_data"
    },
    {
     "data": {
      "text/html": [
       "<table class=\"dataframe\">\n",
       "<caption>A data.frame: 2 × 2</caption>\n",
       "<thead>\n",
       "\t<tr><th scope=col>sex</th><th scope=col>n</th></tr>\n",
       "\t<tr><th scope=col>&lt;dbl&gt;</th><th scope=col>&lt;int&gt;</th></tr>\n",
       "</thead>\n",
       "<tbody>\n",
       "\t<tr><td>0</td><td> 80856</td></tr>\n",
       "\t<tr><td>1</td><td>132627</td></tr>\n",
       "</tbody>\n",
       "</table>\n"
      ],
      "text/latex": [
       "A data.frame: 2 × 2\n",
       "\\begin{tabular}{ll}\n",
       " sex & n\\\\\n",
       " <dbl> & <int>\\\\\n",
       "\\hline\n",
       "\t 0 &  80856\\\\\n",
       "\t 1 & 132627\\\\\n",
       "\\end{tabular}\n"
      ],
      "text/markdown": [
       "\n",
       "A data.frame: 2 × 2\n",
       "\n",
       "| sex &lt;dbl&gt; | n &lt;int&gt; |\n",
       "|---|---|\n",
       "| 0 |  80856 |\n",
       "| 1 | 132627 |\n",
       "\n"
      ],
      "text/plain": [
       "  sex n     \n",
       "1 0    80856\n",
       "2 1   132627"
      ]
     },
     "metadata": {},
     "output_type": "display_data"
    },
    {
     "data": {
      "text/html": [
       "<style>\n",
       ".list-inline {list-style: none; margin:0; padding: 0}\n",
       ".list-inline>li {display: inline-block}\n",
       ".list-inline>li:not(:last-child)::after {content: \"\\00b7\"; padding: 0 .5ex}\n",
       "</style>\n",
       "<ol class=list-inline><li>213483</li><li>37</li></ol>\n"
      ],
      "text/latex": [
       "\\begin{enumerate*}\n",
       "\\item 213483\n",
       "\\item 37\n",
       "\\end{enumerate*}\n"
      ],
      "text/markdown": [
       "1. 213483\n",
       "2. 37\n",
       "\n",
       "\n"
      ],
      "text/plain": [
       "[1] 213483     37"
      ]
     },
     "metadata": {},
     "output_type": "display_data"
    },
    {
     "data": {
      "text/html": [
       "<table class=\"dataframe\">\n",
       "<caption>A data.frame: 6 × 2</caption>\n",
       "<thead>\n",
       "\t<tr><th scope=col>EVOLUCAO</th><th scope=col>n</th></tr>\n",
       "\t<tr><th scope=col>&lt;int&gt;</th><th scope=col>&lt;int&gt;</th></tr>\n",
       "</thead>\n",
       "<tbody>\n",
       "\t<tr><td> 1</td><td>194052</td></tr>\n",
       "\t<tr><td> 2</td><td>    93</td></tr>\n",
       "\t<tr><td> 3</td><td>   234</td></tr>\n",
       "\t<tr><td> 4</td><td>    18</td></tr>\n",
       "\t<tr><td> 9</td><td>  7107</td></tr>\n",
       "\t<tr><td>NA</td><td> 11979</td></tr>\n",
       "</tbody>\n",
       "</table>\n"
      ],
      "text/latex": [
       "A data.frame: 6 × 2\n",
       "\\begin{tabular}{ll}\n",
       " EVOLUCAO & n\\\\\n",
       " <int> & <int>\\\\\n",
       "\\hline\n",
       "\t  1 & 194052\\\\\n",
       "\t  2 &     93\\\\\n",
       "\t  3 &    234\\\\\n",
       "\t  4 &     18\\\\\n",
       "\t  9 &   7107\\\\\n",
       "\t NA &  11979\\\\\n",
       "\\end{tabular}\n"
      ],
      "text/markdown": [
       "\n",
       "A data.frame: 6 × 2\n",
       "\n",
       "| EVOLUCAO &lt;int&gt; | n &lt;int&gt; |\n",
       "|---|---|\n",
       "|  1 | 194052 |\n",
       "|  2 |     93 |\n",
       "|  3 |    234 |\n",
       "|  4 |     18 |\n",
       "|  9 |   7107 |\n",
       "| NA |  11979 |\n",
       "\n"
      ],
      "text/plain": [
       "  EVOLUCAO n     \n",
       "1  1       194052\n",
       "2  2           93\n",
       "3  3          234\n",
       "4  4           18\n",
       "5  9         7107\n",
       "6 NA        11979"
      ]
     },
     "metadata": {},
     "output_type": "display_data"
    },
    {
     "data": {
      "text/html": [
       "<table class=\"dataframe\">\n",
       "<caption>A data.frame: 4 × 2</caption>\n",
       "<thead>\n",
       "\t<tr><th scope=col>HOSPITALIZ</th><th scope=col>n</th></tr>\n",
       "\t<tr><th scope=col>&lt;int&gt;</th><th scope=col>&lt;int&gt;</th></tr>\n",
       "</thead>\n",
       "<tbody>\n",
       "\t<tr><td> 1</td><td>  4378</td></tr>\n",
       "\t<tr><td> 2</td><td>129474</td></tr>\n",
       "\t<tr><td> 9</td><td>  3403</td></tr>\n",
       "\t<tr><td>NA</td><td> 76228</td></tr>\n",
       "</tbody>\n",
       "</table>\n"
      ],
      "text/latex": [
       "A data.frame: 4 × 2\n",
       "\\begin{tabular}{ll}\n",
       " HOSPITALIZ & n\\\\\n",
       " <int> & <int>\\\\\n",
       "\\hline\n",
       "\t  1 &   4378\\\\\n",
       "\t  2 & 129474\\\\\n",
       "\t  9 &   3403\\\\\n",
       "\t NA &  76228\\\\\n",
       "\\end{tabular}\n"
      ],
      "text/markdown": [
       "\n",
       "A data.frame: 4 × 2\n",
       "\n",
       "| HOSPITALIZ &lt;int&gt; | n &lt;int&gt; |\n",
       "|---|---|\n",
       "|  1 |   4378 |\n",
       "|  2 | 129474 |\n",
       "|  9 |   3403 |\n",
       "| NA |  76228 |\n",
       "\n"
      ],
      "text/plain": [
       "  HOSPITALIZ n     \n",
       "1  1           4378\n",
       "2  2         129474\n",
       "3  9           3403\n",
       "4 NA          76228"
      ]
     },
     "metadata": {},
     "output_type": "display_data"
    }
   ],
   "source": [
    "# remove patients without sex information\n",
    "\n",
    "data %>% count(CS_SEXO)\n",
    "data %>% filter(CS_SEXO == 'F' | CS_SEXO == 'M') %>% count(CS_SEXO)\n",
    "data %>% filter(CS_SEXO == 'F' | CS_SEXO == 'M') -> data\n",
    "data %>% dim\n",
    "\n",
    "# create a new column with numeric values\n",
    "\n",
    "data %>% mutate(sex = if_else(CS_SEXO == 'M', 0, 1)) %>% count(sex)\n",
    "data %>% mutate(sex = if_else(CS_SEXO == 'M', 0, 1)) -> data\n",
    "\n",
    "# remove the former column\n",
    "data %>% select(-CS_SEXO) -> data\n",
    "\n",
    "data %>% dim\n",
    "data %>% count(EVOLUCAO)\n",
    "data %>% count(HOSPITALIZ)"
   ]
  },
  {
   "cell_type": "code",
   "execution_count": 16,
   "id": "9f5b54af",
   "metadata": {},
   "outputs": [
    {
     "data": {
      "text/html": [
       "<table class=\"dataframe\">\n",
       "<caption>A data.frame: 8 × 2</caption>\n",
       "<thead>\n",
       "\t<tr><th scope=col>CS_GESTANT</th><th scope=col>n</th></tr>\n",
       "\t<tr><th scope=col>&lt;int&gt;</th><th scope=col>&lt;int&gt;</th></tr>\n",
       "</thead>\n",
       "<tbody>\n",
       "\t<tr><td> 1</td><td>  883</td></tr>\n",
       "\t<tr><td> 2</td><td> 1239</td></tr>\n",
       "\t<tr><td> 3</td><td> 1142</td></tr>\n",
       "\t<tr><td> 4</td><td>  422</td></tr>\n",
       "\t<tr><td> 5</td><td>92868</td></tr>\n",
       "\t<tr><td> 6</td><td>95860</td></tr>\n",
       "\t<tr><td> 9</td><td>21012</td></tr>\n",
       "\t<tr><td>NA</td><td>   57</td></tr>\n",
       "</tbody>\n",
       "</table>\n"
      ],
      "text/latex": [
       "A data.frame: 8 × 2\n",
       "\\begin{tabular}{ll}\n",
       " CS\\_GESTANT & n\\\\\n",
       " <int> & <int>\\\\\n",
       "\\hline\n",
       "\t  1 &   883\\\\\n",
       "\t  2 &  1239\\\\\n",
       "\t  3 &  1142\\\\\n",
       "\t  4 &   422\\\\\n",
       "\t  5 & 92868\\\\\n",
       "\t  6 & 95860\\\\\n",
       "\t  9 & 21012\\\\\n",
       "\t NA &    57\\\\\n",
       "\\end{tabular}\n"
      ],
      "text/markdown": [
       "\n",
       "A data.frame: 8 × 2\n",
       "\n",
       "| CS_GESTANT &lt;int&gt; | n &lt;int&gt; |\n",
       "|---|---|\n",
       "|  1 |   883 |\n",
       "|  2 |  1239 |\n",
       "|  3 |  1142 |\n",
       "|  4 |   422 |\n",
       "|  5 | 92868 |\n",
       "|  6 | 95860 |\n",
       "|  9 | 21012 |\n",
       "| NA |    57 |\n",
       "\n"
      ],
      "text/plain": [
       "  CS_GESTANT n    \n",
       "1  1           883\n",
       "2  2          1239\n",
       "3  3          1142\n",
       "4  4           422\n",
       "5  5         92868\n",
       "6  6         95860\n",
       "7  9         21012\n",
       "8 NA            57"
      ]
     },
     "metadata": {},
     "output_type": "display_data"
    },
    {
     "data": {
      "text/html": [
       "<table class=\"dataframe\">\n",
       "<caption>A data.frame: 8 × 2</caption>\n",
       "<thead>\n",
       "\t<tr><th scope=col>CS_GESTANT</th><th scope=col>n</th></tr>\n",
       "\t<tr><th scope=col>&lt;int&gt;</th><th scope=col>&lt;int&gt;</th></tr>\n",
       "</thead>\n",
       "<tbody>\n",
       "\t<tr><td> 1</td><td>  883</td></tr>\n",
       "\t<tr><td> 2</td><td> 1239</td></tr>\n",
       "\t<tr><td> 3</td><td> 1142</td></tr>\n",
       "\t<tr><td> 4</td><td>  422</td></tr>\n",
       "\t<tr><td> 5</td><td>92868</td></tr>\n",
       "\t<tr><td> 6</td><td>15004</td></tr>\n",
       "\t<tr><td> 9</td><td>21012</td></tr>\n",
       "\t<tr><td>NA</td><td>   57</td></tr>\n",
       "</tbody>\n",
       "</table>\n"
      ],
      "text/latex": [
       "A data.frame: 8 × 2\n",
       "\\begin{tabular}{ll}\n",
       " CS\\_GESTANT & n\\\\\n",
       " <int> & <int>\\\\\n",
       "\\hline\n",
       "\t  1 &   883\\\\\n",
       "\t  2 &  1239\\\\\n",
       "\t  3 &  1142\\\\\n",
       "\t  4 &   422\\\\\n",
       "\t  5 & 92868\\\\\n",
       "\t  6 & 15004\\\\\n",
       "\t  9 & 21012\\\\\n",
       "\t NA &    57\\\\\n",
       "\\end{tabular}\n"
      ],
      "text/markdown": [
       "\n",
       "A data.frame: 8 × 2\n",
       "\n",
       "| CS_GESTANT &lt;int&gt; | n &lt;int&gt; |\n",
       "|---|---|\n",
       "|  1 |   883 |\n",
       "|  2 |  1239 |\n",
       "|  3 |  1142 |\n",
       "|  4 |   422 |\n",
       "|  5 | 92868 |\n",
       "|  6 | 15004 |\n",
       "|  9 | 21012 |\n",
       "| NA |    57 |\n",
       "\n"
      ],
      "text/plain": [
       "  CS_GESTANT n    \n",
       "1  1           883\n",
       "2  2          1239\n",
       "3  3          1142\n",
       "4  4           422\n",
       "5  5         92868\n",
       "6  6         15004\n",
       "7  9         21012\n",
       "8 NA            57"
      ]
     },
     "metadata": {},
     "output_type": "display_data"
    },
    {
     "data": {
      "text/html": [
       "<table class=\"dataframe\">\n",
       "<caption>A data.frame: 1 × 2</caption>\n",
       "<thead>\n",
       "\t<tr><th scope=col>CS_GESTANT</th><th scope=col>n</th></tr>\n",
       "\t<tr><th scope=col>&lt;int&gt;</th><th scope=col>&lt;int&gt;</th></tr>\n",
       "</thead>\n",
       "<tbody>\n",
       "\t<tr><td>6</td><td>80856</td></tr>\n",
       "</tbody>\n",
       "</table>\n"
      ],
      "text/latex": [
       "A data.frame: 1 × 2\n",
       "\\begin{tabular}{ll}\n",
       " CS\\_GESTANT & n\\\\\n",
       " <int> & <int>\\\\\n",
       "\\hline\n",
       "\t 6 & 80856\\\\\n",
       "\\end{tabular}\n"
      ],
      "text/markdown": [
       "\n",
       "A data.frame: 1 × 2\n",
       "\n",
       "| CS_GESTANT &lt;int&gt; | n &lt;int&gt; |\n",
       "|---|---|\n",
       "| 6 | 80856 |\n",
       "\n"
      ],
      "text/plain": [
       "  CS_GESTANT n    \n",
       "1 6          80856"
      ]
     },
     "metadata": {},
     "output_type": "display_data"
    },
    {
     "data": {
      "text/html": [
       "<table class=\"dataframe\">\n",
       "<caption>A data.frame: 8 × 2</caption>\n",
       "<thead>\n",
       "\t<tr><th scope=col>CS_GESTANT</th><th scope=col>n</th></tr>\n",
       "\t<tr><th scope=col>&lt;dbl&gt;</th><th scope=col>&lt;int&gt;</th></tr>\n",
       "</thead>\n",
       "<tbody>\n",
       "\t<tr><td>0</td><td>   57</td></tr>\n",
       "\t<tr><td>1</td><td>  883</td></tr>\n",
       "\t<tr><td>2</td><td> 1239</td></tr>\n",
       "\t<tr><td>3</td><td> 1142</td></tr>\n",
       "\t<tr><td>4</td><td>  422</td></tr>\n",
       "\t<tr><td>5</td><td>92868</td></tr>\n",
       "\t<tr><td>6</td><td>95860</td></tr>\n",
       "\t<tr><td>9</td><td>21012</td></tr>\n",
       "</tbody>\n",
       "</table>\n"
      ],
      "text/latex": [
       "A data.frame: 8 × 2\n",
       "\\begin{tabular}{ll}\n",
       " CS\\_GESTANT & n\\\\\n",
       " <dbl> & <int>\\\\\n",
       "\\hline\n",
       "\t 0 &    57\\\\\n",
       "\t 1 &   883\\\\\n",
       "\t 2 &  1239\\\\\n",
       "\t 3 &  1142\\\\\n",
       "\t 4 &   422\\\\\n",
       "\t 5 & 92868\\\\\n",
       "\t 6 & 95860\\\\\n",
       "\t 9 & 21012\\\\\n",
       "\\end{tabular}\n"
      ],
      "text/markdown": [
       "\n",
       "A data.frame: 8 × 2\n",
       "\n",
       "| CS_GESTANT &lt;dbl&gt; | n &lt;int&gt; |\n",
       "|---|---|\n",
       "| 0 |    57 |\n",
       "| 1 |   883 |\n",
       "| 2 |  1239 |\n",
       "| 3 |  1142 |\n",
       "| 4 |   422 |\n",
       "| 5 | 92868 |\n",
       "| 6 | 95860 |\n",
       "| 9 | 21012 |\n",
       "\n"
      ],
      "text/plain": [
       "  CS_GESTANT n    \n",
       "1 0             57\n",
       "2 1            883\n",
       "3 2           1239\n",
       "4 3           1142\n",
       "5 4            422\n",
       "6 5          92868\n",
       "7 6          95860\n",
       "8 9          21012"
      ]
     },
     "metadata": {},
     "output_type": "display_data"
    }
   ],
   "source": [
    "# check the column pregnancy for each sex\n",
    "# transform na values in the column pregnancy in 0 (not pregnant)\n",
    "\n",
    "data %>% count(CS_GESTANT)\n",
    "\n",
    "data %>% filter(sex == 1) %>% count(CS_GESTANT)\n",
    "\n",
    "data %>% filter(sex == 0) %>% count(CS_GESTANT)\n",
    "\n",
    "data %>% mutate(CS_GESTANT = if_else(is.na(CS_GESTANT), 0, CS_GESTANT)) %>% count(CS_GESTANT)\n",
    "\n",
    "data %>% mutate(CS_GESTANT = if_else(is.na(CS_GESTANT), 0, CS_GESTANT)) -> data"
   ]
  },
  {
   "cell_type": "code",
   "execution_count": 17,
   "id": "1bf7943f",
   "metadata": {},
   "outputs": [
    {
     "data": {
      "text/html": [
       "<table class=\"dataframe\">\n",
       "<caption>A data.frame: 2 × 2</caption>\n",
       "<thead>\n",
       "\t<tr><th scope=col>pregnancy</th><th scope=col>n</th></tr>\n",
       "\t<tr><th scope=col>&lt;dbl&gt;</th><th scope=col>&lt;int&gt;</th></tr>\n",
       "</thead>\n",
       "<tbody>\n",
       "\t<tr><td>0</td><td>209797</td></tr>\n",
       "\t<tr><td>1</td><td>  3686</td></tr>\n",
       "</tbody>\n",
       "</table>\n"
      ],
      "text/latex": [
       "A data.frame: 2 × 2\n",
       "\\begin{tabular}{ll}\n",
       " pregnancy & n\\\\\n",
       " <dbl> & <int>\\\\\n",
       "\\hline\n",
       "\t 0 & 209797\\\\\n",
       "\t 1 &   3686\\\\\n",
       "\\end{tabular}\n"
      ],
      "text/markdown": [
       "\n",
       "A data.frame: 2 × 2\n",
       "\n",
       "| pregnancy &lt;dbl&gt; | n &lt;int&gt; |\n",
       "|---|---|\n",
       "| 0 | 209797 |\n",
       "| 1 |   3686 |\n",
       "\n"
      ],
      "text/plain": [
       "  pregnancy n     \n",
       "1 0         209797\n",
       "2 1           3686"
      ]
     },
     "metadata": {},
     "output_type": "display_data"
    }
   ],
   "source": [
    "# transform the column pregnant in binary, orignally diferent values refer to difernt stages on pregnancy\n",
    "\n",
    "data %>% mutate(pregnancy = if_else((CS_GESTANT == 1 | \n",
    "                               CS_GESTANT == 2 | \n",
    "                               CS_GESTANT == 3 | \n",
    "                               CS_GESTANT == 4), 1, 0)) %>% count(pregnancy)\n",
    "\n",
    "\n",
    "data %>% mutate(pregnancy = if_else((CS_GESTANT == 1 | \n",
    "                               CS_GESTANT == 2 | \n",
    "                               CS_GESTANT == 3 | \n",
    "                               CS_GESTANT == 4), 1, 0)) -> data\n",
    "\n",
    "data %>% select(-CS_GESTANT) -> data"
   ]
  },
  {
   "cell_type": "markdown",
   "id": "c66c0e96",
   "metadata": {},
   "source": [
    "### Filter 7: remove patients without race information"
   ]
  },
  {
   "cell_type": "code",
   "execution_count": 18,
   "id": "d0edd344",
   "metadata": {},
   "outputs": [
    {
     "data": {
      "text/html": [
       "<table class=\"dataframe\">\n",
       "<caption>A data.frame: 7 × 2</caption>\n",
       "<thead>\n",
       "\t<tr><th scope=col>CS_RACA</th><th scope=col>n</th></tr>\n",
       "\t<tr><th scope=col>&lt;int&gt;</th><th scope=col>&lt;int&gt;</th></tr>\n",
       "</thead>\n",
       "<tbody>\n",
       "\t<tr><td> 1</td><td> 27226</td></tr>\n",
       "\t<tr><td> 2</td><td>  7019</td></tr>\n",
       "\t<tr><td> 3</td><td>  2514</td></tr>\n",
       "\t<tr><td> 4</td><td>146213</td></tr>\n",
       "\t<tr><td> 5</td><td>   825</td></tr>\n",
       "\t<tr><td> 9</td><td> 29685</td></tr>\n",
       "\t<tr><td>NA</td><td>     1</td></tr>\n",
       "</tbody>\n",
       "</table>\n"
      ],
      "text/latex": [
       "A data.frame: 7 × 2\n",
       "\\begin{tabular}{ll}\n",
       " CS\\_RACA & n\\\\\n",
       " <int> & <int>\\\\\n",
       "\\hline\n",
       "\t  1 &  27226\\\\\n",
       "\t  2 &   7019\\\\\n",
       "\t  3 &   2514\\\\\n",
       "\t  4 & 146213\\\\\n",
       "\t  5 &    825\\\\\n",
       "\t  9 &  29685\\\\\n",
       "\t NA &      1\\\\\n",
       "\\end{tabular}\n"
      ],
      "text/markdown": [
       "\n",
       "A data.frame: 7 × 2\n",
       "\n",
       "| CS_RACA &lt;int&gt; | n &lt;int&gt; |\n",
       "|---|---|\n",
       "|  1 |  27226 |\n",
       "|  2 |   7019 |\n",
       "|  3 |   2514 |\n",
       "|  4 | 146213 |\n",
       "|  5 |    825 |\n",
       "|  9 |  29685 |\n",
       "| NA |      1 |\n",
       "\n"
      ],
      "text/plain": [
       "  CS_RACA n     \n",
       "1  1       27226\n",
       "2  2        7019\n",
       "3  3        2514\n",
       "4  4      146213\n",
       "5  5         825\n",
       "6  9       29685\n",
       "7 NA           1"
      ]
     },
     "metadata": {},
     "output_type": "display_data"
    },
    {
     "data": {
      "text/html": [
       "<table class=\"dataframe\">\n",
       "<caption>A data.frame: 5 × 2</caption>\n",
       "<thead>\n",
       "\t<tr><th scope=col>CS_RACA</th><th scope=col>n</th></tr>\n",
       "\t<tr><th scope=col>&lt;int&gt;</th><th scope=col>&lt;int&gt;</th></tr>\n",
       "</thead>\n",
       "<tbody>\n",
       "\t<tr><td>1</td><td> 27226</td></tr>\n",
       "\t<tr><td>2</td><td>  7019</td></tr>\n",
       "\t<tr><td>3</td><td>  2514</td></tr>\n",
       "\t<tr><td>4</td><td>146213</td></tr>\n",
       "\t<tr><td>5</td><td>   825</td></tr>\n",
       "</tbody>\n",
       "</table>\n"
      ],
      "text/latex": [
       "A data.frame: 5 × 2\n",
       "\\begin{tabular}{ll}\n",
       " CS\\_RACA & n\\\\\n",
       " <int> & <int>\\\\\n",
       "\\hline\n",
       "\t 1 &  27226\\\\\n",
       "\t 2 &   7019\\\\\n",
       "\t 3 &   2514\\\\\n",
       "\t 4 & 146213\\\\\n",
       "\t 5 &    825\\\\\n",
       "\\end{tabular}\n"
      ],
      "text/markdown": [
       "\n",
       "A data.frame: 5 × 2\n",
       "\n",
       "| CS_RACA &lt;int&gt; | n &lt;int&gt; |\n",
       "|---|---|\n",
       "| 1 |  27226 |\n",
       "| 2 |   7019 |\n",
       "| 3 |   2514 |\n",
       "| 4 | 146213 |\n",
       "| 5 |    825 |\n",
       "\n"
      ],
      "text/plain": [
       "  CS_RACA n     \n",
       "1 1        27226\n",
       "2 2         7019\n",
       "3 3         2514\n",
       "4 4       146213\n",
       "5 5          825"
      ]
     },
     "metadata": {},
     "output_type": "display_data"
    },
    {
     "data": {
      "text/html": [
       "<style>\n",
       ".list-inline {list-style: none; margin:0; padding: 0}\n",
       ".list-inline>li {display: inline-block}\n",
       ".list-inline>li:not(:last-child)::after {content: \"\\00b7\"; padding: 0 .5ex}\n",
       "</style>\n",
       "<ol class=list-inline><li>183797</li><li>37</li></ol>\n"
      ],
      "text/latex": [
       "\\begin{enumerate*}\n",
       "\\item 183797\n",
       "\\item 37\n",
       "\\end{enumerate*}\n"
      ],
      "text/markdown": [
       "1. 183797\n",
       "2. 37\n",
       "\n",
       "\n"
      ],
      "text/plain": [
       "[1] 183797     37"
      ]
     },
     "metadata": {},
     "output_type": "display_data"
    },
    {
     "data": {
      "text/html": [
       "<table class=\"dataframe\">\n",
       "<caption>A data.frame: 6 × 2</caption>\n",
       "<thead>\n",
       "\t<tr><th scope=col>EVOLUCAO</th><th scope=col>n</th></tr>\n",
       "\t<tr><th scope=col>&lt;int&gt;</th><th scope=col>&lt;int&gt;</th></tr>\n",
       "</thead>\n",
       "<tbody>\n",
       "\t<tr><td> 1</td><td>168492</td></tr>\n",
       "\t<tr><td> 2</td><td>    88</td></tr>\n",
       "\t<tr><td> 3</td><td>   221</td></tr>\n",
       "\t<tr><td> 4</td><td>    16</td></tr>\n",
       "\t<tr><td> 9</td><td>  5057</td></tr>\n",
       "\t<tr><td>NA</td><td>  9923</td></tr>\n",
       "</tbody>\n",
       "</table>\n"
      ],
      "text/latex": [
       "A data.frame: 6 × 2\n",
       "\\begin{tabular}{ll}\n",
       " EVOLUCAO & n\\\\\n",
       " <int> & <int>\\\\\n",
       "\\hline\n",
       "\t  1 & 168492\\\\\n",
       "\t  2 &     88\\\\\n",
       "\t  3 &    221\\\\\n",
       "\t  4 &     16\\\\\n",
       "\t  9 &   5057\\\\\n",
       "\t NA &   9923\\\\\n",
       "\\end{tabular}\n"
      ],
      "text/markdown": [
       "\n",
       "A data.frame: 6 × 2\n",
       "\n",
       "| EVOLUCAO &lt;int&gt; | n &lt;int&gt; |\n",
       "|---|---|\n",
       "|  1 | 168492 |\n",
       "|  2 |     88 |\n",
       "|  3 |    221 |\n",
       "|  4 |     16 |\n",
       "|  9 |   5057 |\n",
       "| NA |   9923 |\n",
       "\n"
      ],
      "text/plain": [
       "  EVOLUCAO n     \n",
       "1  1       168492\n",
       "2  2           88\n",
       "3  3          221\n",
       "4  4           16\n",
       "5  9         5057\n",
       "6 NA         9923"
      ]
     },
     "metadata": {},
     "output_type": "display_data"
    },
    {
     "data": {
      "text/html": [
       "<table class=\"dataframe\">\n",
       "<caption>A data.frame: 4 × 2</caption>\n",
       "<thead>\n",
       "\t<tr><th scope=col>HOSPITALIZ</th><th scope=col>n</th></tr>\n",
       "\t<tr><th scope=col>&lt;int&gt;</th><th scope=col>&lt;int&gt;</th></tr>\n",
       "</thead>\n",
       "<tbody>\n",
       "\t<tr><td> 1</td><td>  3925</td></tr>\n",
       "\t<tr><td> 2</td><td>115665</td></tr>\n",
       "\t<tr><td> 9</td><td>  1993</td></tr>\n",
       "\t<tr><td>NA</td><td> 62214</td></tr>\n",
       "</tbody>\n",
       "</table>\n"
      ],
      "text/latex": [
       "A data.frame: 4 × 2\n",
       "\\begin{tabular}{ll}\n",
       " HOSPITALIZ & n\\\\\n",
       " <int> & <int>\\\\\n",
       "\\hline\n",
       "\t  1 &   3925\\\\\n",
       "\t  2 & 115665\\\\\n",
       "\t  9 &   1993\\\\\n",
       "\t NA &  62214\\\\\n",
       "\\end{tabular}\n"
      ],
      "text/markdown": [
       "\n",
       "A data.frame: 4 × 2\n",
       "\n",
       "| HOSPITALIZ &lt;int&gt; | n &lt;int&gt; |\n",
       "|---|---|\n",
       "|  1 |   3925 |\n",
       "|  2 | 115665 |\n",
       "|  9 |   1993 |\n",
       "| NA |  62214 |\n",
       "\n"
      ],
      "text/plain": [
       "  HOSPITALIZ n     \n",
       "1  1           3925\n",
       "2  2         115665\n",
       "3  9           1993\n",
       "4 NA          62214"
      ]
     },
     "metadata": {},
     "output_type": "display_data"
    }
   ],
   "source": [
    "# remove unknown race, or na values\n",
    "\n",
    "data %>% count(CS_RACA)\n",
    "\n",
    "data %>% filter(!is.na(CS_RACA)) %>% filter(CS_RACA < 9) %>% count(CS_RACA)\n",
    "\n",
    "data %>% filter(!is.na(CS_RACA)) %>% filter(CS_RACA < 9) -> data\n",
    "\n",
    "data %>% dim\n",
    "\n",
    "data %>% count(EVOLUCAO)\n",
    "data %>% count(HOSPITALIZ)"
   ]
  },
  {
   "cell_type": "code",
   "execution_count": 19,
   "id": "1322e5e0",
   "metadata": {},
   "outputs": [
    {
     "data": {
      "text/html": [
       "<table class=\"dataframe\">\n",
       "<caption>A data.frame: 11 × 2</caption>\n",
       "<thead>\n",
       "\t<tr><th scope=col>CS_ESCOL_N</th><th scope=col>n</th></tr>\n",
       "\t<tr><th scope=col>&lt;int&gt;</th><th scope=col>&lt;int&gt;</th></tr>\n",
       "</thead>\n",
       "<tbody>\n",
       "\t<tr><td> 0</td><td> 2329</td></tr>\n",
       "\t<tr><td> 1</td><td> 7373</td></tr>\n",
       "\t<tr><td> 2</td><td> 4304</td></tr>\n",
       "\t<tr><td> 3</td><td>10739</td></tr>\n",
       "\t<tr><td> 4</td><td> 7783</td></tr>\n",
       "\t<tr><td> 5</td><td>10039</td></tr>\n",
       "\t<tr><td> 6</td><td>31831</td></tr>\n",
       "\t<tr><td> 7</td><td> 3095</td></tr>\n",
       "\t<tr><td> 8</td><td> 8623</td></tr>\n",
       "\t<tr><td> 9</td><td>48505</td></tr>\n",
       "\t<tr><td>NA</td><td>49176</td></tr>\n",
       "</tbody>\n",
       "</table>\n"
      ],
      "text/latex": [
       "A data.frame: 11 × 2\n",
       "\\begin{tabular}{ll}\n",
       " CS\\_ESCOL\\_N & n\\\\\n",
       " <int> & <int>\\\\\n",
       "\\hline\n",
       "\t  0 &  2329\\\\\n",
       "\t  1 &  7373\\\\\n",
       "\t  2 &  4304\\\\\n",
       "\t  3 & 10739\\\\\n",
       "\t  4 &  7783\\\\\n",
       "\t  5 & 10039\\\\\n",
       "\t  6 & 31831\\\\\n",
       "\t  7 &  3095\\\\\n",
       "\t  8 &  8623\\\\\n",
       "\t  9 & 48505\\\\\n",
       "\t NA & 49176\\\\\n",
       "\\end{tabular}\n"
      ],
      "text/markdown": [
       "\n",
       "A data.frame: 11 × 2\n",
       "\n",
       "| CS_ESCOL_N &lt;int&gt; | n &lt;int&gt; |\n",
       "|---|---|\n",
       "|  0 |  2329 |\n",
       "|  1 |  7373 |\n",
       "|  2 |  4304 |\n",
       "|  3 | 10739 |\n",
       "|  4 |  7783 |\n",
       "|  5 | 10039 |\n",
       "|  6 | 31831 |\n",
       "|  7 |  3095 |\n",
       "|  8 |  8623 |\n",
       "|  9 | 48505 |\n",
       "| NA | 49176 |\n",
       "\n"
      ],
      "text/plain": [
       "   CS_ESCOL_N n    \n",
       "1   0          2329\n",
       "2   1          7373\n",
       "3   2          4304\n",
       "4   3         10739\n",
       "5   4          7783\n",
       "6   5         10039\n",
       "7   6         31831\n",
       "8   7          3095\n",
       "9   8          8623\n",
       "10  9         48505\n",
       "11 NA         49176"
      ]
     },
     "metadata": {},
     "output_type": "display_data"
    },
    {
     "data": {
      "text/html": [
       "<table class=\"dataframe\">\n",
       "<caption>A data.frame: 10 × 2</caption>\n",
       "<thead>\n",
       "\t<tr><th scope=col>CS_ESCOL_N</th><th scope=col>n</th></tr>\n",
       "\t<tr><th scope=col>&lt;int&gt;</th><th scope=col>&lt;int&gt;</th></tr>\n",
       "</thead>\n",
       "<tbody>\n",
       "\t<tr><td> 0</td><td> 2329</td></tr>\n",
       "\t<tr><td> 1</td><td> 7373</td></tr>\n",
       "\t<tr><td> 2</td><td> 4304</td></tr>\n",
       "\t<tr><td> 3</td><td>10739</td></tr>\n",
       "\t<tr><td> 4</td><td> 7783</td></tr>\n",
       "\t<tr><td> 5</td><td>10039</td></tr>\n",
       "\t<tr><td> 6</td><td>31831</td></tr>\n",
       "\t<tr><td> 7</td><td> 3095</td></tr>\n",
       "\t<tr><td> 8</td><td> 8623</td></tr>\n",
       "\t<tr><td>NA</td><td>97681</td></tr>\n",
       "</tbody>\n",
       "</table>\n"
      ],
      "text/latex": [
       "A data.frame: 10 × 2\n",
       "\\begin{tabular}{ll}\n",
       " CS\\_ESCOL\\_N & n\\\\\n",
       " <int> & <int>\\\\\n",
       "\\hline\n",
       "\t  0 &  2329\\\\\n",
       "\t  1 &  7373\\\\\n",
       "\t  2 &  4304\\\\\n",
       "\t  3 & 10739\\\\\n",
       "\t  4 &  7783\\\\\n",
       "\t  5 & 10039\\\\\n",
       "\t  6 & 31831\\\\\n",
       "\t  7 &  3095\\\\\n",
       "\t  8 &  8623\\\\\n",
       "\t NA & 97681\\\\\n",
       "\\end{tabular}\n"
      ],
      "text/markdown": [
       "\n",
       "A data.frame: 10 × 2\n",
       "\n",
       "| CS_ESCOL_N &lt;int&gt; | n &lt;int&gt; |\n",
       "|---|---|\n",
       "|  0 |  2329 |\n",
       "|  1 |  7373 |\n",
       "|  2 |  4304 |\n",
       "|  3 | 10739 |\n",
       "|  4 |  7783 |\n",
       "|  5 | 10039 |\n",
       "|  6 | 31831 |\n",
       "|  7 |  3095 |\n",
       "|  8 |  8623 |\n",
       "| NA | 97681 |\n",
       "\n"
      ],
      "text/plain": [
       "   CS_ESCOL_N n    \n",
       "1   0          2329\n",
       "2   1          7373\n",
       "3   2          4304\n",
       "4   3         10739\n",
       "5   4          7783\n",
       "6   5         10039\n",
       "7   6         31831\n",
       "8   7          3095\n",
       "9   8          8623\n",
       "10 NA         97681"
      ]
     },
     "metadata": {},
     "output_type": "display_data"
    }
   ],
   "source": [
    "# check year of schooling. 9 = unknown. \n",
    "\n",
    "data %>% count(CS_ESCOL_N)\n",
    "\n",
    "data$CS_ESCOL_N[data$CS_ESCOL_N == 9] <- NA\n",
    "\n",
    "data %>% count(CS_ESCOL_N)"
   ]
  },
  {
   "cell_type": "code",
   "execution_count": 20,
   "id": "41affa7b",
   "metadata": {},
   "outputs": [
    {
     "data": {
      "text/html": [
       "68895"
      ],
      "text/latex": [
       "68895"
      ],
      "text/markdown": [
       "68895"
      ],
      "text/plain": [
       "[1] 68895"
      ]
     },
     "metadata": {},
     "output_type": "display_data"
    },
    {
     "data": {
      "text/html": [
       "<table class=\"dataframe\">\n",
       "<caption>A tibble: 10 × 2</caption>\n",
       "<thead>\n",
       "\t<tr><th scope=col>CS_ESCOL_N</th><th scope=col>n</th></tr>\n",
       "\t<tr><th scope=col>&lt;dbl&gt;</th><th scope=col>&lt;int&gt;</th></tr>\n",
       "</thead>\n",
       "<tbody>\n",
       "\t<tr><td>  0</td><td> 2766</td></tr>\n",
       "\t<tr><td>  1</td><td> 8640</td></tr>\n",
       "\t<tr><td>  2</td><td> 6154</td></tr>\n",
       "\t<tr><td>  3</td><td>14592</td></tr>\n",
       "\t<tr><td>  4</td><td>17446</td></tr>\n",
       "\t<tr><td>  5</td><td>26715</td></tr>\n",
       "\t<tr><td>  6</td><td>49718</td></tr>\n",
       "\t<tr><td>  7</td><td> 5311</td></tr>\n",
       "\t<tr><td>  8</td><td>10337</td></tr>\n",
       "\t<tr><td>NaN</td><td>42118</td></tr>\n",
       "</tbody>\n",
       "</table>\n"
      ],
      "text/latex": [
       "A tibble: 10 × 2\n",
       "\\begin{tabular}{ll}\n",
       " CS\\_ESCOL\\_N & n\\\\\n",
       " <dbl> & <int>\\\\\n",
       "\\hline\n",
       "\t   0 &  2766\\\\\n",
       "\t   1 &  8640\\\\\n",
       "\t   2 &  6154\\\\\n",
       "\t   3 & 14592\\\\\n",
       "\t   4 & 17446\\\\\n",
       "\t   5 & 26715\\\\\n",
       "\t   6 & 49718\\\\\n",
       "\t   7 &  5311\\\\\n",
       "\t   8 & 10337\\\\\n",
       "\t NaN & 42118\\\\\n",
       "\\end{tabular}\n"
      ],
      "text/markdown": [
       "\n",
       "A tibble: 10 × 2\n",
       "\n",
       "| CS_ESCOL_N &lt;dbl&gt; | n &lt;int&gt; |\n",
       "|---|---|\n",
       "|   0 |  2766 |\n",
       "|   1 |  8640 |\n",
       "|   2 |  6154 |\n",
       "|   3 | 14592 |\n",
       "|   4 | 17446 |\n",
       "|   5 | 26715 |\n",
       "|   6 | 49718 |\n",
       "|   7 |  5311 |\n",
       "|   8 | 10337 |\n",
       "| NaN | 42118 |\n",
       "\n"
      ],
      "text/plain": [
       "   CS_ESCOL_N n    \n",
       "1    0         2766\n",
       "2    1         8640\n",
       "3    2         6154\n",
       "4    3        14592\n",
       "5    4        17446\n",
       "6    5        26715\n",
       "7    6        49718\n",
       "8    7         5311\n",
       "9    8        10337\n",
       "10 NaN        42118"
      ]
     },
     "metadata": {},
     "output_type": "display_data"
    },
    {
     "data": {
      "text/html": [
       "<table class=\"dataframe\">\n",
       "<caption>A tibble: 10 × 2</caption>\n",
       "<thead>\n",
       "\t<tr><th scope=col>CS_ESCOL_N</th><th scope=col>n</th></tr>\n",
       "\t<tr><th scope=col>&lt;dbl&gt;</th><th scope=col>&lt;int&gt;</th></tr>\n",
       "</thead>\n",
       "<tbody>\n",
       "\t<tr><td>  0</td><td> 2806</td></tr>\n",
       "\t<tr><td>  1</td><td> 8802</td></tr>\n",
       "\t<tr><td>  2</td><td> 8101</td></tr>\n",
       "\t<tr><td>  3</td><td>20021</td></tr>\n",
       "\t<tr><td>  4</td><td>26273</td></tr>\n",
       "\t<tr><td>  5</td><td>42772</td></tr>\n",
       "\t<tr><td>  6</td><td>59223</td></tr>\n",
       "\t<tr><td>  7</td><td> 5351</td></tr>\n",
       "\t<tr><td>  8</td><td>10344</td></tr>\n",
       "\t<tr><td>NaN</td><td>  104</td></tr>\n",
       "</tbody>\n",
       "</table>\n"
      ],
      "text/latex": [
       "A tibble: 10 × 2\n",
       "\\begin{tabular}{ll}\n",
       " CS\\_ESCOL\\_N & n\\\\\n",
       " <dbl> & <int>\\\\\n",
       "\\hline\n",
       "\t   0 &  2806\\\\\n",
       "\t   1 &  8802\\\\\n",
       "\t   2 &  8101\\\\\n",
       "\t   3 & 20021\\\\\n",
       "\t   4 & 26273\\\\\n",
       "\t   5 & 42772\\\\\n",
       "\t   6 & 59223\\\\\n",
       "\t   7 &  5351\\\\\n",
       "\t   8 & 10344\\\\\n",
       "\t NaN &   104\\\\\n",
       "\\end{tabular}\n"
      ],
      "text/markdown": [
       "\n",
       "A tibble: 10 × 2\n",
       "\n",
       "| CS_ESCOL_N &lt;dbl&gt; | n &lt;int&gt; |\n",
       "|---|---|\n",
       "|   0 |  2806 |\n",
       "|   1 |  8802 |\n",
       "|   2 |  8101 |\n",
       "|   3 | 20021 |\n",
       "|   4 | 26273 |\n",
       "|   5 | 42772 |\n",
       "|   6 | 59223 |\n",
       "|   7 |  5351 |\n",
       "|   8 | 10344 |\n",
       "| NaN |   104 |\n",
       "\n"
      ],
      "text/plain": [
       "   CS_ESCOL_N n    \n",
       "1    0         2806\n",
       "2    1         8802\n",
       "3    2         8101\n",
       "4    3        20021\n",
       "5    4        26273\n",
       "6    5        42772\n",
       "7    6        59223\n",
       "8    7         5351\n",
       "9    8        10344\n",
       "10 NaN          104"
      ]
     },
     "metadata": {},
     "output_type": "display_data"
    }
   ],
   "source": [
    "# how many groups by age, race, city and sex\n",
    "data %>% group_by(age, CS_RACA, ID_MN_RESI, sex) %>% n_groups\n",
    "\n",
    "# create a new column with the average\n",
    "data %>% group_by(age, CS_RACA, ID_MN_RESI, sex) %>% mutate(average = mean(CS_ESCOL_N, na.rm=TRUE)) %>% \n",
    "    ungroup -> data\n",
    "\n",
    "# when CS_ESCOL_N is na or 9 change by the average\n",
    "\n",
    "data %>% mutate(CS_ESCOL_N = if_else((is.na(CS_ESCOL_N)), round(average), CS_ESCOL_N)) %>% count(CS_ESCOL_N)\n",
    "data %>% mutate(CS_ESCOL_N = if_else((is.na(CS_ESCOL_N)), round(average), CS_ESCOL_N)) -> data\n",
    "data %>% select(-average) -> data\n",
    "\n",
    "# if is still NA consider groups of age, race and sex\n",
    "\n",
    "# create a new column with the average\n",
    "data %>% group_by(age, CS_RACA, sex) %>% mutate(average = mean(CS_ESCOL_N, na.rm=TRUE)) %>% \n",
    "    ungroup -> data\n",
    "\n",
    "# when CS_ESCOL_N is na change by the average\n",
    "data %>% mutate(CS_ESCOL_N = if_else((is.na(CS_ESCOL_N)), round(average), CS_ESCOL_N)) %>% count(CS_ESCOL_N)\n",
    "data %>% mutate(CS_ESCOL_N = if_else((is.na(CS_ESCOL_N)), round(average), CS_ESCOL_N)) -> data\n",
    "data %>% select(-average) -> data"
   ]
  },
  {
   "cell_type": "markdown",
   "id": "3c4c5595",
   "metadata": {},
   "source": [
    "### Filter 8: remove patients without schooling information (even after inputation)"
   ]
  },
  {
   "cell_type": "code",
   "execution_count": 21,
   "id": "61eb89c9",
   "metadata": {},
   "outputs": [
    {
     "data": {
      "text/html": [
       "<table class=\"dataframe\">\n",
       "<caption>A tibble: 10 × 2</caption>\n",
       "<thead>\n",
       "\t<tr><th scope=col>CS_ESCOL_N</th><th scope=col>n</th></tr>\n",
       "\t<tr><th scope=col>&lt;dbl&gt;</th><th scope=col>&lt;int&gt;</th></tr>\n",
       "</thead>\n",
       "<tbody>\n",
       "\t<tr><td>  0</td><td> 2806</td></tr>\n",
       "\t<tr><td>  1</td><td> 8802</td></tr>\n",
       "\t<tr><td>  2</td><td> 8101</td></tr>\n",
       "\t<tr><td>  3</td><td>20021</td></tr>\n",
       "\t<tr><td>  4</td><td>26273</td></tr>\n",
       "\t<tr><td>  5</td><td>42772</td></tr>\n",
       "\t<tr><td>  6</td><td>59223</td></tr>\n",
       "\t<tr><td>  7</td><td> 5351</td></tr>\n",
       "\t<tr><td>  8</td><td>10344</td></tr>\n",
       "\t<tr><td>NaN</td><td>  104</td></tr>\n",
       "</tbody>\n",
       "</table>\n"
      ],
      "text/latex": [
       "A tibble: 10 × 2\n",
       "\\begin{tabular}{ll}\n",
       " CS\\_ESCOL\\_N & n\\\\\n",
       " <dbl> & <int>\\\\\n",
       "\\hline\n",
       "\t   0 &  2806\\\\\n",
       "\t   1 &  8802\\\\\n",
       "\t   2 &  8101\\\\\n",
       "\t   3 & 20021\\\\\n",
       "\t   4 & 26273\\\\\n",
       "\t   5 & 42772\\\\\n",
       "\t   6 & 59223\\\\\n",
       "\t   7 &  5351\\\\\n",
       "\t   8 & 10344\\\\\n",
       "\t NaN &   104\\\\\n",
       "\\end{tabular}\n"
      ],
      "text/markdown": [
       "\n",
       "A tibble: 10 × 2\n",
       "\n",
       "| CS_ESCOL_N &lt;dbl&gt; | n &lt;int&gt; |\n",
       "|---|---|\n",
       "|   0 |  2806 |\n",
       "|   1 |  8802 |\n",
       "|   2 |  8101 |\n",
       "|   3 | 20021 |\n",
       "|   4 | 26273 |\n",
       "|   5 | 42772 |\n",
       "|   6 | 59223 |\n",
       "|   7 |  5351 |\n",
       "|   8 | 10344 |\n",
       "| NaN |   104 |\n",
       "\n"
      ],
      "text/plain": [
       "   CS_ESCOL_N n    \n",
       "1    0         2806\n",
       "2    1         8802\n",
       "3    2         8101\n",
       "4    3        20021\n",
       "5    4        26273\n",
       "6    5        42772\n",
       "7    6        59223\n",
       "8    7         5351\n",
       "9    8        10344\n",
       "10 NaN          104"
      ]
     },
     "metadata": {},
     "output_type": "display_data"
    },
    {
     "data": {
      "text/html": [
       "<table class=\"dataframe\">\n",
       "<caption>A tibble: 6 × 2</caption>\n",
       "<thead>\n",
       "\t<tr><th scope=col>EVOLUCAO</th><th scope=col>n</th></tr>\n",
       "\t<tr><th scope=col>&lt;int&gt;</th><th scope=col>&lt;int&gt;</th></tr>\n",
       "</thead>\n",
       "<tbody>\n",
       "\t<tr><td> 1</td><td>168402</td></tr>\n",
       "\t<tr><td> 2</td><td>    87</td></tr>\n",
       "\t<tr><td> 3</td><td>   219</td></tr>\n",
       "\t<tr><td> 4</td><td>    16</td></tr>\n",
       "\t<tr><td> 9</td><td>  5052</td></tr>\n",
       "\t<tr><td>NA</td><td>  9917</td></tr>\n",
       "</tbody>\n",
       "</table>\n"
      ],
      "text/latex": [
       "A tibble: 6 × 2\n",
       "\\begin{tabular}{ll}\n",
       " EVOLUCAO & n\\\\\n",
       " <int> & <int>\\\\\n",
       "\\hline\n",
       "\t  1 & 168402\\\\\n",
       "\t  2 &     87\\\\\n",
       "\t  3 &    219\\\\\n",
       "\t  4 &     16\\\\\n",
       "\t  9 &   5052\\\\\n",
       "\t NA &   9917\\\\\n",
       "\\end{tabular}\n"
      ],
      "text/markdown": [
       "\n",
       "A tibble: 6 × 2\n",
       "\n",
       "| EVOLUCAO &lt;int&gt; | n &lt;int&gt; |\n",
       "|---|---|\n",
       "|  1 | 168402 |\n",
       "|  2 |     87 |\n",
       "|  3 |    219 |\n",
       "|  4 |     16 |\n",
       "|  9 |   5052 |\n",
       "| NA |   9917 |\n",
       "\n"
      ],
      "text/plain": [
       "  EVOLUCAO n     \n",
       "1  1       168402\n",
       "2  2           87\n",
       "3  3          219\n",
       "4  4           16\n",
       "5  9         5052\n",
       "6 NA         9917"
      ]
     },
     "metadata": {},
     "output_type": "display_data"
    },
    {
     "data": {
      "text/html": [
       "<table class=\"dataframe\">\n",
       "<caption>A tibble: 4 × 2</caption>\n",
       "<thead>\n",
       "\t<tr><th scope=col>HOSPITALIZ</th><th scope=col>n</th></tr>\n",
       "\t<tr><th scope=col>&lt;int&gt;</th><th scope=col>&lt;int&gt;</th></tr>\n",
       "</thead>\n",
       "<tbody>\n",
       "\t<tr><td> 1</td><td>  3923</td></tr>\n",
       "\t<tr><td> 2</td><td>115611</td></tr>\n",
       "\t<tr><td> 9</td><td>  1991</td></tr>\n",
       "\t<tr><td>NA</td><td> 62168</td></tr>\n",
       "</tbody>\n",
       "</table>\n"
      ],
      "text/latex": [
       "A tibble: 4 × 2\n",
       "\\begin{tabular}{ll}\n",
       " HOSPITALIZ & n\\\\\n",
       " <int> & <int>\\\\\n",
       "\\hline\n",
       "\t  1 &   3923\\\\\n",
       "\t  2 & 115611\\\\\n",
       "\t  9 &   1991\\\\\n",
       "\t NA &  62168\\\\\n",
       "\\end{tabular}\n"
      ],
      "text/markdown": [
       "\n",
       "A tibble: 4 × 2\n",
       "\n",
       "| HOSPITALIZ &lt;int&gt; | n &lt;int&gt; |\n",
       "|---|---|\n",
       "|  1 |   3923 |\n",
       "|  2 | 115611 |\n",
       "|  9 |   1991 |\n",
       "| NA |  62168 |\n",
       "\n"
      ],
      "text/plain": [
       "  HOSPITALIZ n     \n",
       "1  1           3923\n",
       "2  2         115611\n",
       "3  9           1991\n",
       "4 NA          62168"
      ]
     },
     "metadata": {},
     "output_type": "display_data"
    },
    {
     "data": {
      "text/html": [
       "<style>\n",
       ".list-inline {list-style: none; margin:0; padding: 0}\n",
       ".list-inline>li {display: inline-block}\n",
       ".list-inline>li:not(:last-child)::after {content: \"\\00b7\"; padding: 0 .5ex}\n",
       "</style>\n",
       "<ol class=list-inline><li>183693</li><li>37</li></ol>\n"
      ],
      "text/latex": [
       "\\begin{enumerate*}\n",
       "\\item 183693\n",
       "\\item 37\n",
       "\\end{enumerate*}\n"
      ],
      "text/markdown": [
       "1. 183693\n",
       "2. 37\n",
       "\n",
       "\n"
      ],
      "text/plain": [
       "[1] 183693     37"
      ]
     },
     "metadata": {},
     "output_type": "display_data"
    }
   ],
   "source": [
    "# if is still na, drop it\n",
    "\n",
    "data %>% count(CS_ESCOL_N)\n",
    "\n",
    "data %>% filter(!(is.na(CS_ESCOL_N))) -> data\n",
    "\n",
    "data %>% count(EVOLUCAO)\n",
    "data %>% count(HOSPITALIZ)\n",
    "\n",
    "data %>% dim"
   ]
  },
  {
   "cell_type": "markdown",
   "id": "3aa54ee1",
   "metadata": {},
   "source": [
    "### Delete columns"
   ]
  },
  {
   "cell_type": "code",
   "execution_count": 22,
   "id": "7f4bc462",
   "metadata": {},
   "outputs": [],
   "source": [
    "# this feature is correlated with uf \n",
    "\n",
    "data %>% select(-ID_MN_RESI) -> data"
   ]
  },
  {
   "cell_type": "code",
   "execution_count": 23,
   "id": "517a2dbb",
   "metadata": {},
   "outputs": [
    {
     "data": {
      "text/html": [
       "0"
      ],
      "text/latex": [
       "0"
      ],
      "text/markdown": [
       "0"
      ],
      "text/plain": [
       "[1] 0"
      ]
     },
     "metadata": {},
     "output_type": "display_data"
    }
   ],
   "source": [
    "# check the presence of na's inside the columns of symptoms and comorbities\n",
    "\n",
    "sum(is.na(data %>% select(FEBRE:AUTO_IMUNE)))"
   ]
  },
  {
   "cell_type": "code",
   "execution_count": 24,
   "id": "a8c0bd5e",
   "metadata": {},
   "outputs": [
    {
     "data": {
      "text/html": [
       "<table class=\"dataframe\">\n",
       "<caption>A tibble: 6 × 22</caption>\n",
       "<thead>\n",
       "\t<tr><th scope=col>FEBRE</th><th scope=col>MIALGIA</th><th scope=col>CEFALEIA</th><th scope=col>EXANTEMA</th><th scope=col>VOMITO</th><th scope=col>NAUSEA</th><th scope=col>DOR_COSTAS</th><th scope=col>CONJUNTVIT</th><th scope=col>ARTRITE</th><th scope=col>ARTRALGIA</th><th scope=col>⋯</th><th scope=col>LACO</th><th scope=col>DOR_RETRO</th><th scope=col>DIABETES</th><th scope=col>HEMATOLOG</th><th scope=col>HEPATOPAT</th><th scope=col>RENAL</th><th scope=col>HIPERTENSA</th><th scope=col>ACIDO_PEPT</th><th scope=col>AUTO_IMUNE</th><th scope=col>HOSPITALIZ</th></tr>\n",
       "\t<tr><th scope=col>&lt;int&gt;</th><th scope=col>&lt;int&gt;</th><th scope=col>&lt;int&gt;</th><th scope=col>&lt;int&gt;</th><th scope=col>&lt;int&gt;</th><th scope=col>&lt;int&gt;</th><th scope=col>&lt;int&gt;</th><th scope=col>&lt;int&gt;</th><th scope=col>&lt;int&gt;</th><th scope=col>&lt;int&gt;</th><th scope=col>⋯</th><th scope=col>&lt;int&gt;</th><th scope=col>&lt;int&gt;</th><th scope=col>&lt;int&gt;</th><th scope=col>&lt;int&gt;</th><th scope=col>&lt;int&gt;</th><th scope=col>&lt;int&gt;</th><th scope=col>&lt;int&gt;</th><th scope=col>&lt;int&gt;</th><th scope=col>&lt;int&gt;</th><th scope=col>&lt;int&gt;</th></tr>\n",
       "</thead>\n",
       "<tbody>\n",
       "\t<tr><td>1</td><td>2</td><td>1</td><td>2</td><td>2</td><td>2</td><td>1</td><td>2</td><td>2</td><td>2</td><td>⋯</td><td>2</td><td>2</td><td>2</td><td>2</td><td>2</td><td>2</td><td>2</td><td>2</td><td>2</td><td>NA</td></tr>\n",
       "\t<tr><td>1</td><td>2</td><td>1</td><td>2</td><td>1</td><td>1</td><td>1</td><td>2</td><td>2</td><td>2</td><td>⋯</td><td>2</td><td>2</td><td>2</td><td>2</td><td>2</td><td>2</td><td>2</td><td>2</td><td>2</td><td>NA</td></tr>\n",
       "\t<tr><td>1</td><td>2</td><td>1</td><td>2</td><td>2</td><td>1</td><td>1</td><td>2</td><td>2</td><td>2</td><td>⋯</td><td>2</td><td>2</td><td>2</td><td>2</td><td>2</td><td>2</td><td>2</td><td>2</td><td>2</td><td>NA</td></tr>\n",
       "\t<tr><td>1</td><td>1</td><td>1</td><td>2</td><td>2</td><td>2</td><td>2</td><td>2</td><td>2</td><td>2</td><td>⋯</td><td>2</td><td>2</td><td>2</td><td>2</td><td>2</td><td>2</td><td>2</td><td>2</td><td>2</td><td> 2</td></tr>\n",
       "\t<tr><td>1</td><td>1</td><td>1</td><td>2</td><td>2</td><td>2</td><td>2</td><td>2</td><td>2</td><td>2</td><td>⋯</td><td>2</td><td>2</td><td>2</td><td>2</td><td>2</td><td>2</td><td>2</td><td>2</td><td>2</td><td> 2</td></tr>\n",
       "\t<tr><td>1</td><td>2</td><td>1</td><td>2</td><td>2</td><td>2</td><td>2</td><td>2</td><td>2</td><td>2</td><td>⋯</td><td>2</td><td>2</td><td>2</td><td>2</td><td>2</td><td>2</td><td>2</td><td>2</td><td>2</td><td> 2</td></tr>\n",
       "</tbody>\n",
       "</table>\n"
      ],
      "text/latex": [
       "A tibble: 6 × 22\n",
       "\\begin{tabular}{lllllllllllllllllllll}\n",
       " FEBRE & MIALGIA & CEFALEIA & EXANTEMA & VOMITO & NAUSEA & DOR\\_COSTAS & CONJUNTVIT & ARTRITE & ARTRALGIA & ⋯ & LACO & DOR\\_RETRO & DIABETES & HEMATOLOG & HEPATOPAT & RENAL & HIPERTENSA & ACIDO\\_PEPT & AUTO\\_IMUNE & HOSPITALIZ\\\\\n",
       " <int> & <int> & <int> & <int> & <int> & <int> & <int> & <int> & <int> & <int> & ⋯ & <int> & <int> & <int> & <int> & <int> & <int> & <int> & <int> & <int> & <int>\\\\\n",
       "\\hline\n",
       "\t 1 & 2 & 1 & 2 & 2 & 2 & 1 & 2 & 2 & 2 & ⋯ & 2 & 2 & 2 & 2 & 2 & 2 & 2 & 2 & 2 & NA\\\\\n",
       "\t 1 & 2 & 1 & 2 & 1 & 1 & 1 & 2 & 2 & 2 & ⋯ & 2 & 2 & 2 & 2 & 2 & 2 & 2 & 2 & 2 & NA\\\\\n",
       "\t 1 & 2 & 1 & 2 & 2 & 1 & 1 & 2 & 2 & 2 & ⋯ & 2 & 2 & 2 & 2 & 2 & 2 & 2 & 2 & 2 & NA\\\\\n",
       "\t 1 & 1 & 1 & 2 & 2 & 2 & 2 & 2 & 2 & 2 & ⋯ & 2 & 2 & 2 & 2 & 2 & 2 & 2 & 2 & 2 &  2\\\\\n",
       "\t 1 & 1 & 1 & 2 & 2 & 2 & 2 & 2 & 2 & 2 & ⋯ & 2 & 2 & 2 & 2 & 2 & 2 & 2 & 2 & 2 &  2\\\\\n",
       "\t 1 & 2 & 1 & 2 & 2 & 2 & 2 & 2 & 2 & 2 & ⋯ & 2 & 2 & 2 & 2 & 2 & 2 & 2 & 2 & 2 &  2\\\\\n",
       "\\end{tabular}\n"
      ],
      "text/markdown": [
       "\n",
       "A tibble: 6 × 22\n",
       "\n",
       "| FEBRE &lt;int&gt; | MIALGIA &lt;int&gt; | CEFALEIA &lt;int&gt; | EXANTEMA &lt;int&gt; | VOMITO &lt;int&gt; | NAUSEA &lt;int&gt; | DOR_COSTAS &lt;int&gt; | CONJUNTVIT &lt;int&gt; | ARTRITE &lt;int&gt; | ARTRALGIA &lt;int&gt; | ⋯ ⋯ | LACO &lt;int&gt; | DOR_RETRO &lt;int&gt; | DIABETES &lt;int&gt; | HEMATOLOG &lt;int&gt; | HEPATOPAT &lt;int&gt; | RENAL &lt;int&gt; | HIPERTENSA &lt;int&gt; | ACIDO_PEPT &lt;int&gt; | AUTO_IMUNE &lt;int&gt; | HOSPITALIZ &lt;int&gt; |\n",
       "|---|---|---|---|---|---|---|---|---|---|---|---|---|---|---|---|---|---|---|---|---|\n",
       "| 1 | 2 | 1 | 2 | 2 | 2 | 1 | 2 | 2 | 2 | ⋯ | 2 | 2 | 2 | 2 | 2 | 2 | 2 | 2 | 2 | NA |\n",
       "| 1 | 2 | 1 | 2 | 1 | 1 | 1 | 2 | 2 | 2 | ⋯ | 2 | 2 | 2 | 2 | 2 | 2 | 2 | 2 | 2 | NA |\n",
       "| 1 | 2 | 1 | 2 | 2 | 1 | 1 | 2 | 2 | 2 | ⋯ | 2 | 2 | 2 | 2 | 2 | 2 | 2 | 2 | 2 | NA |\n",
       "| 1 | 1 | 1 | 2 | 2 | 2 | 2 | 2 | 2 | 2 | ⋯ | 2 | 2 | 2 | 2 | 2 | 2 | 2 | 2 | 2 |  2 |\n",
       "| 1 | 1 | 1 | 2 | 2 | 2 | 2 | 2 | 2 | 2 | ⋯ | 2 | 2 | 2 | 2 | 2 | 2 | 2 | 2 | 2 |  2 |\n",
       "| 1 | 2 | 1 | 2 | 2 | 2 | 2 | 2 | 2 | 2 | ⋯ | 2 | 2 | 2 | 2 | 2 | 2 | 2 | 2 | 2 |  2 |\n",
       "\n"
      ],
      "text/plain": [
       "  FEBRE MIALGIA CEFALEIA EXANTEMA VOMITO NAUSEA DOR_COSTAS CONJUNTVIT ARTRITE\n",
       "1 1     2       1        2        2      2      1          2          2      \n",
       "2 1     2       1        2        1      1      1          2          2      \n",
       "3 1     2       1        2        2      1      1          2          2      \n",
       "4 1     1       1        2        2      2      2          2          2      \n",
       "5 1     1       1        2        2      2      2          2          2      \n",
       "6 1     2       1        2        2      2      2          2          2      \n",
       "  ARTRALGIA ⋯ LACO DOR_RETRO DIABETES HEMATOLOG HEPATOPAT RENAL HIPERTENSA\n",
       "1 2         ⋯ 2    2         2        2         2         2     2         \n",
       "2 2         ⋯ 2    2         2        2         2         2     2         \n",
       "3 2         ⋯ 2    2         2        2         2         2     2         \n",
       "4 2         ⋯ 2    2         2        2         2         2     2         \n",
       "5 2         ⋯ 2    2         2        2         2         2     2         \n",
       "6 2         ⋯ 2    2         2        2         2         2     2         \n",
       "  ACIDO_PEPT AUTO_IMUNE HOSPITALIZ\n",
       "1 2          2          NA        \n",
       "2 2          2          NA        \n",
       "3 2          2          NA        \n",
       "4 2          2           2        \n",
       "5 2          2           2        \n",
       "6 2          2           2        "
      ]
     },
     "metadata": {},
     "output_type": "display_data"
    },
    {
     "data": {
      "text/html": [
       "<table class=\"dataframe\">\n",
       "<caption>A tibble: 6 × 22</caption>\n",
       "<thead>\n",
       "\t<tr><th scope=col>FEBRE</th><th scope=col>MIALGIA</th><th scope=col>CEFALEIA</th><th scope=col>EXANTEMA</th><th scope=col>VOMITO</th><th scope=col>NAUSEA</th><th scope=col>DOR_COSTAS</th><th scope=col>CONJUNTVIT</th><th scope=col>ARTRITE</th><th scope=col>ARTRALGIA</th><th scope=col>⋯</th><th scope=col>LACO</th><th scope=col>DOR_RETRO</th><th scope=col>DIABETES</th><th scope=col>HEMATOLOG</th><th scope=col>HEPATOPAT</th><th scope=col>RENAL</th><th scope=col>HIPERTENSA</th><th scope=col>ACIDO_PEPT</th><th scope=col>AUTO_IMUNE</th><th scope=col>HOSPITALIZ</th></tr>\n",
       "\t<tr><th scope=col>&lt;dbl&gt;</th><th scope=col>&lt;dbl&gt;</th><th scope=col>&lt;dbl&gt;</th><th scope=col>&lt;dbl&gt;</th><th scope=col>&lt;dbl&gt;</th><th scope=col>&lt;dbl&gt;</th><th scope=col>&lt;dbl&gt;</th><th scope=col>&lt;dbl&gt;</th><th scope=col>&lt;dbl&gt;</th><th scope=col>&lt;dbl&gt;</th><th scope=col>⋯</th><th scope=col>&lt;dbl&gt;</th><th scope=col>&lt;dbl&gt;</th><th scope=col>&lt;dbl&gt;</th><th scope=col>&lt;dbl&gt;</th><th scope=col>&lt;dbl&gt;</th><th scope=col>&lt;dbl&gt;</th><th scope=col>&lt;dbl&gt;</th><th scope=col>&lt;dbl&gt;</th><th scope=col>&lt;dbl&gt;</th><th scope=col>&lt;dbl&gt;</th></tr>\n",
       "</thead>\n",
       "<tbody>\n",
       "\t<tr><td>1</td><td>0</td><td>1</td><td>0</td><td>0</td><td>0</td><td>1</td><td>0</td><td>0</td><td>0</td><td>⋯</td><td>0</td><td>0</td><td>0</td><td>0</td><td>0</td><td>0</td><td>0</td><td>0</td><td>0</td><td>NA</td></tr>\n",
       "\t<tr><td>1</td><td>0</td><td>1</td><td>0</td><td>1</td><td>1</td><td>1</td><td>0</td><td>0</td><td>0</td><td>⋯</td><td>0</td><td>0</td><td>0</td><td>0</td><td>0</td><td>0</td><td>0</td><td>0</td><td>0</td><td>NA</td></tr>\n",
       "\t<tr><td>1</td><td>0</td><td>1</td><td>0</td><td>0</td><td>1</td><td>1</td><td>0</td><td>0</td><td>0</td><td>⋯</td><td>0</td><td>0</td><td>0</td><td>0</td><td>0</td><td>0</td><td>0</td><td>0</td><td>0</td><td>NA</td></tr>\n",
       "\t<tr><td>1</td><td>1</td><td>1</td><td>0</td><td>0</td><td>0</td><td>0</td><td>0</td><td>0</td><td>0</td><td>⋯</td><td>0</td><td>0</td><td>0</td><td>0</td><td>0</td><td>0</td><td>0</td><td>0</td><td>0</td><td> 0</td></tr>\n",
       "\t<tr><td>1</td><td>1</td><td>1</td><td>0</td><td>0</td><td>0</td><td>0</td><td>0</td><td>0</td><td>0</td><td>⋯</td><td>0</td><td>0</td><td>0</td><td>0</td><td>0</td><td>0</td><td>0</td><td>0</td><td>0</td><td> 0</td></tr>\n",
       "\t<tr><td>1</td><td>0</td><td>1</td><td>0</td><td>0</td><td>0</td><td>0</td><td>0</td><td>0</td><td>0</td><td>⋯</td><td>0</td><td>0</td><td>0</td><td>0</td><td>0</td><td>0</td><td>0</td><td>0</td><td>0</td><td> 0</td></tr>\n",
       "</tbody>\n",
       "</table>\n"
      ],
      "text/latex": [
       "A tibble: 6 × 22\n",
       "\\begin{tabular}{lllllllllllllllllllll}\n",
       " FEBRE & MIALGIA & CEFALEIA & EXANTEMA & VOMITO & NAUSEA & DOR\\_COSTAS & CONJUNTVIT & ARTRITE & ARTRALGIA & ⋯ & LACO & DOR\\_RETRO & DIABETES & HEMATOLOG & HEPATOPAT & RENAL & HIPERTENSA & ACIDO\\_PEPT & AUTO\\_IMUNE & HOSPITALIZ\\\\\n",
       " <dbl> & <dbl> & <dbl> & <dbl> & <dbl> & <dbl> & <dbl> & <dbl> & <dbl> & <dbl> & ⋯ & <dbl> & <dbl> & <dbl> & <dbl> & <dbl> & <dbl> & <dbl> & <dbl> & <dbl> & <dbl>\\\\\n",
       "\\hline\n",
       "\t 1 & 0 & 1 & 0 & 0 & 0 & 1 & 0 & 0 & 0 & ⋯ & 0 & 0 & 0 & 0 & 0 & 0 & 0 & 0 & 0 & NA\\\\\n",
       "\t 1 & 0 & 1 & 0 & 1 & 1 & 1 & 0 & 0 & 0 & ⋯ & 0 & 0 & 0 & 0 & 0 & 0 & 0 & 0 & 0 & NA\\\\\n",
       "\t 1 & 0 & 1 & 0 & 0 & 1 & 1 & 0 & 0 & 0 & ⋯ & 0 & 0 & 0 & 0 & 0 & 0 & 0 & 0 & 0 & NA\\\\\n",
       "\t 1 & 1 & 1 & 0 & 0 & 0 & 0 & 0 & 0 & 0 & ⋯ & 0 & 0 & 0 & 0 & 0 & 0 & 0 & 0 & 0 &  0\\\\\n",
       "\t 1 & 1 & 1 & 0 & 0 & 0 & 0 & 0 & 0 & 0 & ⋯ & 0 & 0 & 0 & 0 & 0 & 0 & 0 & 0 & 0 &  0\\\\\n",
       "\t 1 & 0 & 1 & 0 & 0 & 0 & 0 & 0 & 0 & 0 & ⋯ & 0 & 0 & 0 & 0 & 0 & 0 & 0 & 0 & 0 &  0\\\\\n",
       "\\end{tabular}\n"
      ],
      "text/markdown": [
       "\n",
       "A tibble: 6 × 22\n",
       "\n",
       "| FEBRE &lt;dbl&gt; | MIALGIA &lt;dbl&gt; | CEFALEIA &lt;dbl&gt; | EXANTEMA &lt;dbl&gt; | VOMITO &lt;dbl&gt; | NAUSEA &lt;dbl&gt; | DOR_COSTAS &lt;dbl&gt; | CONJUNTVIT &lt;dbl&gt; | ARTRITE &lt;dbl&gt; | ARTRALGIA &lt;dbl&gt; | ⋯ ⋯ | LACO &lt;dbl&gt; | DOR_RETRO &lt;dbl&gt; | DIABETES &lt;dbl&gt; | HEMATOLOG &lt;dbl&gt; | HEPATOPAT &lt;dbl&gt; | RENAL &lt;dbl&gt; | HIPERTENSA &lt;dbl&gt; | ACIDO_PEPT &lt;dbl&gt; | AUTO_IMUNE &lt;dbl&gt; | HOSPITALIZ &lt;dbl&gt; |\n",
       "|---|---|---|---|---|---|---|---|---|---|---|---|---|---|---|---|---|---|---|---|---|\n",
       "| 1 | 0 | 1 | 0 | 0 | 0 | 1 | 0 | 0 | 0 | ⋯ | 0 | 0 | 0 | 0 | 0 | 0 | 0 | 0 | 0 | NA |\n",
       "| 1 | 0 | 1 | 0 | 1 | 1 | 1 | 0 | 0 | 0 | ⋯ | 0 | 0 | 0 | 0 | 0 | 0 | 0 | 0 | 0 | NA |\n",
       "| 1 | 0 | 1 | 0 | 0 | 1 | 1 | 0 | 0 | 0 | ⋯ | 0 | 0 | 0 | 0 | 0 | 0 | 0 | 0 | 0 | NA |\n",
       "| 1 | 1 | 1 | 0 | 0 | 0 | 0 | 0 | 0 | 0 | ⋯ | 0 | 0 | 0 | 0 | 0 | 0 | 0 | 0 | 0 |  0 |\n",
       "| 1 | 1 | 1 | 0 | 0 | 0 | 0 | 0 | 0 | 0 | ⋯ | 0 | 0 | 0 | 0 | 0 | 0 | 0 | 0 | 0 |  0 |\n",
       "| 1 | 0 | 1 | 0 | 0 | 0 | 0 | 0 | 0 | 0 | ⋯ | 0 | 0 | 0 | 0 | 0 | 0 | 0 | 0 | 0 |  0 |\n",
       "\n"
      ],
      "text/plain": [
       "  FEBRE MIALGIA CEFALEIA EXANTEMA VOMITO NAUSEA DOR_COSTAS CONJUNTVIT ARTRITE\n",
       "1 1     0       1        0        0      0      1          0          0      \n",
       "2 1     0       1        0        1      1      1          0          0      \n",
       "3 1     0       1        0        0      1      1          0          0      \n",
       "4 1     1       1        0        0      0      0          0          0      \n",
       "5 1     1       1        0        0      0      0          0          0      \n",
       "6 1     0       1        0        0      0      0          0          0      \n",
       "  ARTRALGIA ⋯ LACO DOR_RETRO DIABETES HEMATOLOG HEPATOPAT RENAL HIPERTENSA\n",
       "1 0         ⋯ 0    0         0        0         0         0     0         \n",
       "2 0         ⋯ 0    0         0        0         0         0     0         \n",
       "3 0         ⋯ 0    0         0        0         0         0     0         \n",
       "4 0         ⋯ 0    0         0        0         0         0     0         \n",
       "5 0         ⋯ 0    0         0        0         0         0     0         \n",
       "6 0         ⋯ 0    0         0        0         0         0     0         \n",
       "  ACIDO_PEPT AUTO_IMUNE HOSPITALIZ\n",
       "1 0          0          NA        \n",
       "2 0          0          NA        \n",
       "3 0          0          NA        \n",
       "4 0          0           0        \n",
       "5 0          0           0        \n",
       "6 0          0           0        "
      ]
     },
     "metadata": {},
     "output_type": "display_data"
    },
    {
     "data": {
      "text/html": [
       "<table class=\"dataframe\">\n",
       "<caption>A data.frame: 6 × 2</caption>\n",
       "<thead>\n",
       "\t<tr><th scope=col>EVOLUCAO</th><th scope=col>n</th></tr>\n",
       "\t<tr><th scope=col>&lt;dbl&gt;</th><th scope=col>&lt;int&gt;</th></tr>\n",
       "</thead>\n",
       "<tbody>\n",
       "\t<tr><td> 0</td><td>168402</td></tr>\n",
       "\t<tr><td> 1</td><td>    87</td></tr>\n",
       "\t<tr><td> 3</td><td>   219</td></tr>\n",
       "\t<tr><td> 4</td><td>    16</td></tr>\n",
       "\t<tr><td> 9</td><td>  5052</td></tr>\n",
       "\t<tr><td>NA</td><td>  9917</td></tr>\n",
       "</tbody>\n",
       "</table>\n"
      ],
      "text/latex": [
       "A data.frame: 6 × 2\n",
       "\\begin{tabular}{ll}\n",
       " EVOLUCAO & n\\\\\n",
       " <dbl> & <int>\\\\\n",
       "\\hline\n",
       "\t  0 & 168402\\\\\n",
       "\t  1 &     87\\\\\n",
       "\t  3 &    219\\\\\n",
       "\t  4 &     16\\\\\n",
       "\t  9 &   5052\\\\\n",
       "\t NA &   9917\\\\\n",
       "\\end{tabular}\n"
      ],
      "text/markdown": [
       "\n",
       "A data.frame: 6 × 2\n",
       "\n",
       "| EVOLUCAO &lt;dbl&gt; | n &lt;int&gt; |\n",
       "|---|---|\n",
       "|  0 | 168402 |\n",
       "|  1 |     87 |\n",
       "|  3 |    219 |\n",
       "|  4 |     16 |\n",
       "|  9 |   5052 |\n",
       "| NA |   9917 |\n",
       "\n"
      ],
      "text/plain": [
       "  EVOLUCAO n     \n",
       "1  0       168402\n",
       "2  1           87\n",
       "3  3          219\n",
       "4  4           16\n",
       "5  9         5052\n",
       "6 NA         9917"
      ]
     },
     "metadata": {},
     "output_type": "display_data"
    },
    {
     "data": {
      "text/html": [
       "<table class=\"dataframe\">\n",
       "<caption>A data.frame: 4 × 2</caption>\n",
       "<thead>\n",
       "\t<tr><th scope=col>HOSPITALIZ</th><th scope=col>n</th></tr>\n",
       "\t<tr><th scope=col>&lt;dbl&gt;</th><th scope=col>&lt;int&gt;</th></tr>\n",
       "</thead>\n",
       "<tbody>\n",
       "\t<tr><td> 0</td><td>115611</td></tr>\n",
       "\t<tr><td> 1</td><td>  3923</td></tr>\n",
       "\t<tr><td> 9</td><td>  1991</td></tr>\n",
       "\t<tr><td>NA</td><td> 62168</td></tr>\n",
       "</tbody>\n",
       "</table>\n"
      ],
      "text/latex": [
       "A data.frame: 4 × 2\n",
       "\\begin{tabular}{ll}\n",
       " HOSPITALIZ & n\\\\\n",
       " <dbl> & <int>\\\\\n",
       "\\hline\n",
       "\t  0 & 115611\\\\\n",
       "\t  1 &   3923\\\\\n",
       "\t  9 &   1991\\\\\n",
       "\t NA &  62168\\\\\n",
       "\\end{tabular}\n"
      ],
      "text/markdown": [
       "\n",
       "A data.frame: 4 × 2\n",
       "\n",
       "| HOSPITALIZ &lt;dbl&gt; | n &lt;int&gt; |\n",
       "|---|---|\n",
       "|  0 | 115611 |\n",
       "|  1 |   3923 |\n",
       "|  9 |   1991 |\n",
       "| NA |  62168 |\n",
       "\n"
      ],
      "text/plain": [
       "  HOSPITALIZ n     \n",
       "1  0         115611\n",
       "2  1           3923\n",
       "3  9           1991\n",
       "4 NA          62168"
      ]
     },
     "metadata": {},
     "output_type": "display_data"
    },
    {
     "data": {
      "text/html": [
       "<style>\n",
       ".list-inline {list-style: none; margin:0; padding: 0}\n",
       ".list-inline>li {display: inline-block}\n",
       ".list-inline>li:not(:last-child)::after {content: \"\\00b7\"; padding: 0 .5ex}\n",
       "</style>\n",
       "<ol class=list-inline><li>183693</li><li>36</li></ol>\n"
      ],
      "text/latex": [
       "\\begin{enumerate*}\n",
       "\\item 183693\n",
       "\\item 36\n",
       "\\end{enumerate*}\n"
      ],
      "text/markdown": [
       "1. 183693\n",
       "2. 36\n",
       "\n",
       "\n"
      ],
      "text/plain": [
       "[1] 183693     36"
      ]
     },
     "metadata": {},
     "output_type": "display_data"
    }
   ],
   "source": [
    "# the value 2 means the non-occurrence of a symptom, change it to 0\n",
    "\n",
    "data %>% select(FEBRE:AUTO_IMUNE, HOSPITALIZ) -> symptoms\n",
    "data %>% select(!(FEBRE:AUTO_IMUNE)) %>% select(-c(HOSPITALIZ)) -> others\n",
    "\n",
    "symptoms %>% head\n",
    "\n",
    "symptoms <- symptoms %>%\n",
    "  mutate_all(~ ifelse(. == 2, 0, .))\n",
    "\n",
    "symptoms %>% head\n",
    "\n",
    "symptoms %>% cbind(others) -> data\n",
    "\n",
    "data$EVOLUCAO[data$EVOLUCAO == 1] <- 0\n",
    "data$EVOLUCAO[data$EVOLUCAO == 2] <- 1\n",
    "\n",
    "data %>% count(EVOLUCAO)\n",
    "data %>% count(HOSPITALIZ)\n",
    "\n",
    "data %>% dim"
   ]
  },
  {
   "cell_type": "markdown",
   "id": "2e534e55",
   "metadata": {},
   "source": [
    "### Filter 9: keep only patients in the acute stage of the disease"
   ]
  },
  {
   "cell_type": "code",
   "execution_count": 25,
   "id": "47c75d97",
   "metadata": {},
   "outputs": [
    {
     "data": {
      "text/html": [
       "<table class=\"dataframe\">\n",
       "<caption>A data.frame: 6 × 2</caption>\n",
       "<thead>\n",
       "\t<tr><th scope=col>EVOLUCAO</th><th scope=col>n</th></tr>\n",
       "\t<tr><th scope=col>&lt;dbl&gt;</th><th scope=col>&lt;int&gt;</th></tr>\n",
       "</thead>\n",
       "<tbody>\n",
       "\t<tr><td> 0</td><td>133202</td></tr>\n",
       "\t<tr><td> 1</td><td>    84</td></tr>\n",
       "\t<tr><td> 3</td><td>   102</td></tr>\n",
       "\t<tr><td> 4</td><td>    11</td></tr>\n",
       "\t<tr><td> 9</td><td>  2202</td></tr>\n",
       "\t<tr><td>NA</td><td>  3123</td></tr>\n",
       "</tbody>\n",
       "</table>\n"
      ],
      "text/latex": [
       "A data.frame: 6 × 2\n",
       "\\begin{tabular}{ll}\n",
       " EVOLUCAO & n\\\\\n",
       " <dbl> & <int>\\\\\n",
       "\\hline\n",
       "\t  0 & 133202\\\\\n",
       "\t  1 &     84\\\\\n",
       "\t  3 &    102\\\\\n",
       "\t  4 &     11\\\\\n",
       "\t  9 &   2202\\\\\n",
       "\t NA &   3123\\\\\n",
       "\\end{tabular}\n"
      ],
      "text/markdown": [
       "\n",
       "A data.frame: 6 × 2\n",
       "\n",
       "| EVOLUCAO &lt;dbl&gt; | n &lt;int&gt; |\n",
       "|---|---|\n",
       "|  0 | 133202 |\n",
       "|  1 |     84 |\n",
       "|  3 |    102 |\n",
       "|  4 |     11 |\n",
       "|  9 |   2202 |\n",
       "| NA |   3123 |\n",
       "\n"
      ],
      "text/plain": [
       "  EVOLUCAO n     \n",
       "1  0       133202\n",
       "2  1           84\n",
       "3  3          102\n",
       "4  4           11\n",
       "5  9         2202\n",
       "6 NA         3123"
      ]
     },
     "metadata": {},
     "output_type": "display_data"
    },
    {
     "data": {
      "text/html": [
       "<table class=\"dataframe\">\n",
       "<caption>A data.frame: 4 × 2</caption>\n",
       "<thead>\n",
       "\t<tr><th scope=col>HOSPITALIZ</th><th scope=col>n</th></tr>\n",
       "\t<tr><th scope=col>&lt;dbl&gt;</th><th scope=col>&lt;int&gt;</th></tr>\n",
       "</thead>\n",
       "<tbody>\n",
       "\t<tr><td> 0</td><td>92380</td></tr>\n",
       "\t<tr><td> 1</td><td> 2548</td></tr>\n",
       "\t<tr><td> 9</td><td> 1224</td></tr>\n",
       "\t<tr><td>NA</td><td>42572</td></tr>\n",
       "</tbody>\n",
       "</table>\n"
      ],
      "text/latex": [
       "A data.frame: 4 × 2\n",
       "\\begin{tabular}{ll}\n",
       " HOSPITALIZ & n\\\\\n",
       " <dbl> & <int>\\\\\n",
       "\\hline\n",
       "\t  0 & 92380\\\\\n",
       "\t  1 &  2548\\\\\n",
       "\t  9 &  1224\\\\\n",
       "\t NA & 42572\\\\\n",
       "\\end{tabular}\n"
      ],
      "text/markdown": [
       "\n",
       "A data.frame: 4 × 2\n",
       "\n",
       "| HOSPITALIZ &lt;dbl&gt; | n &lt;int&gt; |\n",
       "|---|---|\n",
       "|  0 | 92380 |\n",
       "|  1 |  2548 |\n",
       "|  9 |  1224 |\n",
       "| NA | 42572 |\n",
       "\n"
      ],
      "text/plain": [
       "  HOSPITALIZ n    \n",
       "1  0         92380\n",
       "2  1          2548\n",
       "3  9          1224\n",
       "4 NA         42572"
      ]
     },
     "metadata": {},
     "output_type": "display_data"
    },
    {
     "data": {
      "text/html": [
       "<style>\n",
       ".list-inline {list-style: none; margin:0; padding: 0}\n",
       ".list-inline>li {display: inline-block}\n",
       ".list-inline>li:not(:last-child)::after {content: \"\\00b7\"; padding: 0 .5ex}\n",
       "</style>\n",
       "<ol class=list-inline><li>138724</li><li>35</li></ol>\n"
      ],
      "text/latex": [
       "\\begin{enumerate*}\n",
       "\\item 138724\n",
       "\\item 35\n",
       "\\end{enumerate*}\n"
      ],
      "text/markdown": [
       "1. 138724\n",
       "2. 35\n",
       "\n",
       "\n"
      ],
      "text/plain": [
       "[1] 138724     35"
      ]
     },
     "metadata": {},
     "output_type": "display_data"
    }
   ],
   "source": [
    "# only patients in the acute stage \n",
    "\n",
    "data %>% filter(CLINC_CHIK == 1) -> data\n",
    "data %>% select(-CLINC_CHIK) -> data\n",
    "\n",
    "data %>% count(EVOLUCAO)\n",
    "data %>% count(HOSPITALIZ)\n",
    "\n",
    "data %>% dim"
   ]
  },
  {
   "cell_type": "code",
   "execution_count": 26,
   "id": "3cb388c3",
   "metadata": {},
   "outputs": [
    {
     "data": {
      "text/html": [
       "<table class=\"dataframe\">\n",
       "<caption>A data.frame: 1 × 1</caption>\n",
       "<thead>\n",
       "\t<tr><th scope=col>DT_SIN_PRI</th></tr>\n",
       "\t<tr><th scope=col>&lt;date&gt;</th></tr>\n",
       "</thead>\n",
       "<tbody>\n",
       "\t<tr><td>2022-01-02</td></tr>\n",
       "</tbody>\n",
       "</table>\n"
      ],
      "text/latex": [
       "A data.frame: 1 × 1\n",
       "\\begin{tabular}{l}\n",
       " DT\\_SIN\\_PRI\\\\\n",
       " <date>\\\\\n",
       "\\hline\n",
       "\t 2022-01-02\\\\\n",
       "\\end{tabular}\n"
      ],
      "text/markdown": [
       "\n",
       "A data.frame: 1 × 1\n",
       "\n",
       "| DT_SIN_PRI &lt;date&gt; |\n",
       "|---|\n",
       "| 2022-01-02 |\n",
       "\n"
      ],
      "text/plain": [
       "  DT_SIN_PRI\n",
       "1 2022-01-02"
      ]
     },
     "metadata": {},
     "output_type": "display_data"
    },
    {
     "data": {
      "text/html": [
       "<table class=\"dataframe\">\n",
       "<caption>A data.frame: 1 × 1</caption>\n",
       "<thead>\n",
       "\t<tr><th scope=col>DT_SIN_PRI</th></tr>\n",
       "\t<tr><th scope=col>&lt;date&gt;</th></tr>\n",
       "</thead>\n",
       "<tbody>\n",
       "\t<tr><td>2022-12-31</td></tr>\n",
       "</tbody>\n",
       "</table>\n"
      ],
      "text/latex": [
       "A data.frame: 1 × 1\n",
       "\\begin{tabular}{l}\n",
       " DT\\_SIN\\_PRI\\\\\n",
       " <date>\\\\\n",
       "\\hline\n",
       "\t 2022-12-31\\\\\n",
       "\\end{tabular}\n"
      ],
      "text/markdown": [
       "\n",
       "A data.frame: 1 × 1\n",
       "\n",
       "| DT_SIN_PRI &lt;date&gt; |\n",
       "|---|\n",
       "| 2022-12-31 |\n",
       "\n"
      ],
      "text/plain": [
       "  DT_SIN_PRI\n",
       "1 2022-12-31"
      ]
     },
     "metadata": {},
     "output_type": "display_data"
    },
    {
     "data": {
      "text/html": [
       "<style>\n",
       ".list-inline {list-style: none; margin:0; padding: 0}\n",
       ".list-inline>li {display: inline-block}\n",
       ".list-inline>li:not(:last-child)::after {content: \"\\00b7\"; padding: 0 .5ex}\n",
       "</style>\n",
       "<ol class=list-inline><li>'FEBRE'</li><li>'MIALGIA'</li><li>'CEFALEIA'</li><li>'EXANTEMA'</li><li>'VOMITO'</li><li>'NAUSEA'</li><li>'DOR_COSTAS'</li><li>'CONJUNTVIT'</li><li>'ARTRITE'</li><li>'ARTRALGIA'</li><li>'PETEQUIA_N'</li><li>'LEUCOPENIA'</li><li>'LACO'</li><li>'DOR_RETRO'</li><li>'DIABETES'</li><li>'HEMATOLOG'</li><li>'HEPATOPAT'</li><li>'RENAL'</li><li>'HIPERTENSA'</li><li>'ACIDO_PEPT'</li><li>'AUTO_IMUNE'</li><li>'HOSPITALIZ'</li><li>'SG_UF_NOT'</li><li>'ID_UNIDADE'</li><li>'DT_SIN_PRI'</li><li>'SEM_PRI'</li><li>'CS_RACA'</li><li>'CS_ESCOL_N'</li><li>'DT_INTERNA'</li><li>'CLASSI_FIN'</li><li>'EVOLUCAO'</li><li>'DT_OBITO'</li><li>'age'</li><li>'sex'</li><li>'pregnancy'</li></ol>\n"
      ],
      "text/latex": [
       "\\begin{enumerate*}\n",
       "\\item 'FEBRE'\n",
       "\\item 'MIALGIA'\n",
       "\\item 'CEFALEIA'\n",
       "\\item 'EXANTEMA'\n",
       "\\item 'VOMITO'\n",
       "\\item 'NAUSEA'\n",
       "\\item 'DOR\\_COSTAS'\n",
       "\\item 'CONJUNTVIT'\n",
       "\\item 'ARTRITE'\n",
       "\\item 'ARTRALGIA'\n",
       "\\item 'PETEQUIA\\_N'\n",
       "\\item 'LEUCOPENIA'\n",
       "\\item 'LACO'\n",
       "\\item 'DOR\\_RETRO'\n",
       "\\item 'DIABETES'\n",
       "\\item 'HEMATOLOG'\n",
       "\\item 'HEPATOPAT'\n",
       "\\item 'RENAL'\n",
       "\\item 'HIPERTENSA'\n",
       "\\item 'ACIDO\\_PEPT'\n",
       "\\item 'AUTO\\_IMUNE'\n",
       "\\item 'HOSPITALIZ'\n",
       "\\item 'SG\\_UF\\_NOT'\n",
       "\\item 'ID\\_UNIDADE'\n",
       "\\item 'DT\\_SIN\\_PRI'\n",
       "\\item 'SEM\\_PRI'\n",
       "\\item 'CS\\_RACA'\n",
       "\\item 'CS\\_ESCOL\\_N'\n",
       "\\item 'DT\\_INTERNA'\n",
       "\\item 'CLASSI\\_FIN'\n",
       "\\item 'EVOLUCAO'\n",
       "\\item 'DT\\_OBITO'\n",
       "\\item 'age'\n",
       "\\item 'sex'\n",
       "\\item 'pregnancy'\n",
       "\\end{enumerate*}\n"
      ],
      "text/markdown": [
       "1. 'FEBRE'\n",
       "2. 'MIALGIA'\n",
       "3. 'CEFALEIA'\n",
       "4. 'EXANTEMA'\n",
       "5. 'VOMITO'\n",
       "6. 'NAUSEA'\n",
       "7. 'DOR_COSTAS'\n",
       "8. 'CONJUNTVIT'\n",
       "9. 'ARTRITE'\n",
       "10. 'ARTRALGIA'\n",
       "11. 'PETEQUIA_N'\n",
       "12. 'LEUCOPENIA'\n",
       "13. 'LACO'\n",
       "14. 'DOR_RETRO'\n",
       "15. 'DIABETES'\n",
       "16. 'HEMATOLOG'\n",
       "17. 'HEPATOPAT'\n",
       "18. 'RENAL'\n",
       "19. 'HIPERTENSA'\n",
       "20. 'ACIDO_PEPT'\n",
       "21. 'AUTO_IMUNE'\n",
       "22. 'HOSPITALIZ'\n",
       "23. 'SG_UF_NOT'\n",
       "24. 'ID_UNIDADE'\n",
       "25. 'DT_SIN_PRI'\n",
       "26. 'SEM_PRI'\n",
       "27. 'CS_RACA'\n",
       "28. 'CS_ESCOL_N'\n",
       "29. 'DT_INTERNA'\n",
       "30. 'CLASSI_FIN'\n",
       "31. 'EVOLUCAO'\n",
       "32. 'DT_OBITO'\n",
       "33. 'age'\n",
       "34. 'sex'\n",
       "35. 'pregnancy'\n",
       "\n",
       "\n"
      ],
      "text/plain": [
       " [1] \"FEBRE\"      \"MIALGIA\"    \"CEFALEIA\"   \"EXANTEMA\"   \"VOMITO\"    \n",
       " [6] \"NAUSEA\"     \"DOR_COSTAS\" \"CONJUNTVIT\" \"ARTRITE\"    \"ARTRALGIA\" \n",
       "[11] \"PETEQUIA_N\" \"LEUCOPENIA\" \"LACO\"       \"DOR_RETRO\"  \"DIABETES\"  \n",
       "[16] \"HEMATOLOG\"  \"HEPATOPAT\"  \"RENAL\"      \"HIPERTENSA\" \"ACIDO_PEPT\"\n",
       "[21] \"AUTO_IMUNE\" \"HOSPITALIZ\" \"SG_UF_NOT\"  \"ID_UNIDADE\" \"DT_SIN_PRI\"\n",
       "[26] \"SEM_PRI\"    \"CS_RACA\"    \"CS_ESCOL_N\" \"DT_INTERNA\" \"CLASSI_FIN\"\n",
       "[31] \"EVOLUCAO\"   \"DT_OBITO\"   \"age\"        \"sex\"        \"pregnancy\" "
      ]
     },
     "metadata": {},
     "output_type": "display_data"
    }
   ],
   "source": [
    "# date of the first symptoms \n",
    "\n",
    "# change format\n",
    "\n",
    "data$DT_SIN_PRI <- as.Date(data$DT_SIN_PRI)\n",
    "\n",
    "# first and last date\n",
    "\n",
    "data %>% select(DT_SIN_PRI) %>% arrange(DT_SIN_PRI) %>% slice(1)\n",
    "data %>% select(DT_SIN_PRI) %>% arrange(desc(DT_SIN_PRI)) %>% slice(1)\n",
    "\n",
    "# change date format\n",
    "\n",
    "data %>% mutate(SEM_PRI = SEM_PRI - 202200) -> data\n",
    "\n",
    "data %>% colnames"
   ]
  },
  {
   "cell_type": "code",
   "execution_count": 27,
   "id": "1720de64",
   "metadata": {},
   "outputs": [],
   "source": [
    "colnames(data) <- c(\"fever\", 'myalgia','headache',\n",
    "                  'exanthema', 'vomiting','nausea',\n",
    "                  'back_pain','conjunctivitis', 'arthritis', \n",
    "                  'arthralgia', 'petechiae', 'leukopenia', \n",
    "                  'lasso_prove', 'retro_orbital_pain', 'diabetes', \n",
    "                  'hematological_diseases', 'hepatopathies', 'chronic_kidney_disease', \n",
    "                  'arterial_hypertension', 'acid_peptic_disease', 'autoimmune_diseases',\n",
    "                  'hospitalization','id_state','id_place',\n",
    "                  'dt_first_symptoms', 'epidemiological_week', 'race', \n",
    "                  'schooling_years', 'dt_hospitalization', 'chikungunya', \n",
    "                  'death', 'dt_death', 'age', \n",
    "                  'sex', 'pregnancy')\n",
    "                  \n",
    "                  "
   ]
  },
  {
   "cell_type": "code",
   "execution_count": 28,
   "id": "38fcb7e7",
   "metadata": {},
   "outputs": [],
   "source": [
    "data %>% write_csv('clean_chikungunya_22.csv')"
   ]
  },
  {
   "cell_type": "markdown",
   "id": "7380e671",
   "metadata": {},
   "source": [
    "# Dataset 1 - predicting hospitalization"
   ]
  },
  {
   "cell_type": "markdown",
   "id": "24da865a",
   "metadata": {},
   "source": [
    "### Filter 1.1: keep only patients with the disease confirmed"
   ]
  },
  {
   "cell_type": "code",
   "execution_count": 29,
   "id": "9d1e0a5d",
   "metadata": {},
   "outputs": [
    {
     "data": {
      "text/html": [
       "<table class=\"dataframe\">\n",
       "<caption>A data.frame: 4 × 2</caption>\n",
       "<thead>\n",
       "\t<tr><th scope=col>hospitalization</th><th scope=col>n</th></tr>\n",
       "\t<tr><th scope=col>&lt;int&gt;</th><th scope=col>&lt;int&gt;</th></tr>\n",
       "</thead>\n",
       "<tbody>\n",
       "\t<tr><td> 0</td><td>70101</td></tr>\n",
       "\t<tr><td> 1</td><td> 1804</td></tr>\n",
       "\t<tr><td> 9</td><td> 1065</td></tr>\n",
       "\t<tr><td>NA</td><td>34355</td></tr>\n",
       "</tbody>\n",
       "</table>\n"
      ],
      "text/latex": [
       "A data.frame: 4 × 2\n",
       "\\begin{tabular}{ll}\n",
       " hospitalization & n\\\\\n",
       " <int> & <int>\\\\\n",
       "\\hline\n",
       "\t  0 & 70101\\\\\n",
       "\t  1 &  1804\\\\\n",
       "\t  9 &  1065\\\\\n",
       "\t NA & 34355\\\\\n",
       "\\end{tabular}\n"
      ],
      "text/markdown": [
       "\n",
       "A data.frame: 4 × 2\n",
       "\n",
       "| hospitalization &lt;int&gt; | n &lt;int&gt; |\n",
       "|---|---|\n",
       "|  0 | 70101 |\n",
       "|  1 |  1804 |\n",
       "|  9 |  1065 |\n",
       "| NA | 34355 |\n",
       "\n"
      ],
      "text/plain": [
       "  hospitalization n    \n",
       "1  0              70101\n",
       "2  1               1804\n",
       "3  9               1065\n",
       "4 NA              34355"
      ]
     },
     "metadata": {},
     "output_type": "display_data"
    },
    {
     "data": {
      "text/html": [
       "<style>\n",
       ".list-inline {list-style: none; margin:0; padding: 0}\n",
       ".list-inline>li {display: inline-block}\n",
       ".list-inline>li:not(:last-child)::after {content: \"\\00b7\"; padding: 0 .5ex}\n",
       "</style>\n",
       "<ol class=list-inline><li>107325</li><li>35</li></ol>\n"
      ],
      "text/latex": [
       "\\begin{enumerate*}\n",
       "\\item 107325\n",
       "\\item 35\n",
       "\\end{enumerate*}\n"
      ],
      "text/markdown": [
       "1. 107325\n",
       "2. 35\n",
       "\n",
       "\n"
      ],
      "text/plain": [
       "[1] 107325     35"
      ]
     },
     "metadata": {},
     "output_type": "display_data"
    }
   ],
   "source": [
    "data <- read.csv('clean_chikungunya_22.csv')\n",
    "\n",
    "# only confirmed cases\n",
    "data %>% filter(chikungunya == 13) -> data\n",
    "\n",
    "data %>% count(hospitalization)\n",
    "\n",
    "data %>% dim"
   ]
  },
  {
   "cell_type": "markdown",
   "id": "cd5d5706",
   "metadata": {},
   "source": [
    "### Filter 1.2: keep only patients with information about hospitalization"
   ]
  },
  {
   "cell_type": "code",
   "execution_count": 30,
   "id": "83209da5",
   "metadata": {},
   "outputs": [
    {
     "data": {
      "text/html": [
       "<table class=\"dataframe\">\n",
       "<caption>A data.frame: 4 × 2</caption>\n",
       "<thead>\n",
       "\t<tr><th scope=col>hospitalization</th><th scope=col>n</th></tr>\n",
       "\t<tr><th scope=col>&lt;int&gt;</th><th scope=col>&lt;int&gt;</th></tr>\n",
       "</thead>\n",
       "<tbody>\n",
       "\t<tr><td> 0</td><td>70101</td></tr>\n",
       "\t<tr><td> 1</td><td> 1804</td></tr>\n",
       "\t<tr><td> 9</td><td> 1065</td></tr>\n",
       "\t<tr><td>NA</td><td>34355</td></tr>\n",
       "</tbody>\n",
       "</table>\n"
      ],
      "text/latex": [
       "A data.frame: 4 × 2\n",
       "\\begin{tabular}{ll}\n",
       " hospitalization & n\\\\\n",
       " <int> & <int>\\\\\n",
       "\\hline\n",
       "\t  0 & 70101\\\\\n",
       "\t  1 &  1804\\\\\n",
       "\t  9 &  1065\\\\\n",
       "\t NA & 34355\\\\\n",
       "\\end{tabular}\n"
      ],
      "text/markdown": [
       "\n",
       "A data.frame: 4 × 2\n",
       "\n",
       "| hospitalization &lt;int&gt; | n &lt;int&gt; |\n",
       "|---|---|\n",
       "|  0 | 70101 |\n",
       "|  1 |  1804 |\n",
       "|  9 |  1065 |\n",
       "| NA | 34355 |\n",
       "\n"
      ],
      "text/plain": [
       "  hospitalization n    \n",
       "1  0              70101\n",
       "2  1               1804\n",
       "3  9               1065\n",
       "4 NA              34355"
      ]
     },
     "metadata": {},
     "output_type": "display_data"
    },
    {
     "data": {
      "text/html": [
       "<style>\n",
       ".list-inline {list-style: none; margin:0; padding: 0}\n",
       ".list-inline>li {display: inline-block}\n",
       ".list-inline>li:not(:last-child)::after {content: \"\\00b7\"; padding: 0 .5ex}\n",
       "</style>\n",
       "<ol class=list-inline><li>71905</li><li>35</li></ol>\n"
      ],
      "text/latex": [
       "\\begin{enumerate*}\n",
       "\\item 71905\n",
       "\\item 35\n",
       "\\end{enumerate*}\n"
      ],
      "text/markdown": [
       "1. 71905\n",
       "2. 35\n",
       "\n",
       "\n"
      ],
      "text/plain": [
       "[1] 71905    35"
      ]
     },
     "metadata": {},
     "output_type": "display_data"
    }
   ],
   "source": [
    "# remove patients without information of hospitalization (9 - not known)\n",
    "\n",
    "data %>% count(hospitalization)\n",
    "\n",
    "data %>% filter(hospitalization == 1 | hospitalization == 0) -> data\n",
    "\n",
    "data %>% dim"
   ]
  },
  {
   "cell_type": "code",
   "execution_count": 31,
   "id": "8bb15e7b",
   "metadata": {},
   "outputs": [],
   "source": [
    "# create a column with the number of days between the disease investigation and death\n",
    "\n",
    "data$dt_first_symptoms <- as.Date(data$dt_first_symptoms)\n",
    "data$dt_hospitalization <- as.Date(data$dt_hospitalization)\n",
    "\n",
    "data %>% mutate(days = difftime(dt_hospitalization, dt_first_symptoms, units = 'days')) -> data\n",
    "\n",
    "data$days <- as.numeric(data$days)"
   ]
  },
  {
   "cell_type": "markdown",
   "id": "275ac868",
   "metadata": {},
   "source": [
    "### Filter 1.3: remove patients hospitalized more than 15 days after the first sympthoms"
   ]
  },
  {
   "cell_type": "code",
   "execution_count": 32,
   "id": "6f31619a",
   "metadata": {},
   "outputs": [
    {
     "data": {
      "text/html": [
       "<table class=\"dataframe\">\n",
       "<caption>A data.frame: 17 × 2</caption>\n",
       "<thead>\n",
       "\t<tr><th scope=col>days</th><th scope=col>n</th></tr>\n",
       "\t<tr><th scope=col>&lt;dbl&gt;</th><th scope=col>&lt;int&gt;</th></tr>\n",
       "</thead>\n",
       "<tbody>\n",
       "\t<tr><td> 0</td><td>  195</td></tr>\n",
       "\t<tr><td> 1</td><td>  221</td></tr>\n",
       "\t<tr><td> 2</td><td>  159</td></tr>\n",
       "\t<tr><td> 3</td><td>  120</td></tr>\n",
       "\t<tr><td> 4</td><td>   94</td></tr>\n",
       "\t<tr><td> 5</td><td>  105</td></tr>\n",
       "\t<tr><td> 6</td><td>   93</td></tr>\n",
       "\t<tr><td> 7</td><td>   77</td></tr>\n",
       "\t<tr><td> 8</td><td>   44</td></tr>\n",
       "\t<tr><td> 9</td><td>   27</td></tr>\n",
       "\t<tr><td>10</td><td>   23</td></tr>\n",
       "\t<tr><td>11</td><td>   12</td></tr>\n",
       "\t<tr><td>12</td><td>   12</td></tr>\n",
       "\t<tr><td>13</td><td>   15</td></tr>\n",
       "\t<tr><td>14</td><td>   17</td></tr>\n",
       "\t<tr><td>15</td><td>   11</td></tr>\n",
       "\t<tr><td>NA</td><td>70557</td></tr>\n",
       "</tbody>\n",
       "</table>\n"
      ],
      "text/latex": [
       "A data.frame: 17 × 2\n",
       "\\begin{tabular}{ll}\n",
       " days & n\\\\\n",
       " <dbl> & <int>\\\\\n",
       "\\hline\n",
       "\t  0 &   195\\\\\n",
       "\t  1 &   221\\\\\n",
       "\t  2 &   159\\\\\n",
       "\t  3 &   120\\\\\n",
       "\t  4 &    94\\\\\n",
       "\t  5 &   105\\\\\n",
       "\t  6 &    93\\\\\n",
       "\t  7 &    77\\\\\n",
       "\t  8 &    44\\\\\n",
       "\t  9 &    27\\\\\n",
       "\t 10 &    23\\\\\n",
       "\t 11 &    12\\\\\n",
       "\t 12 &    12\\\\\n",
       "\t 13 &    15\\\\\n",
       "\t 14 &    17\\\\\n",
       "\t 15 &    11\\\\\n",
       "\t NA & 70557\\\\\n",
       "\\end{tabular}\n"
      ],
      "text/markdown": [
       "\n",
       "A data.frame: 17 × 2\n",
       "\n",
       "| days &lt;dbl&gt; | n &lt;int&gt; |\n",
       "|---|---|\n",
       "|  0 |   195 |\n",
       "|  1 |   221 |\n",
       "|  2 |   159 |\n",
       "|  3 |   120 |\n",
       "|  4 |    94 |\n",
       "|  5 |   105 |\n",
       "|  6 |    93 |\n",
       "|  7 |    77 |\n",
       "|  8 |    44 |\n",
       "|  9 |    27 |\n",
       "| 10 |    23 |\n",
       "| 11 |    12 |\n",
       "| 12 |    12 |\n",
       "| 13 |    15 |\n",
       "| 14 |    17 |\n",
       "| 15 |    11 |\n",
       "| NA | 70557 |\n",
       "\n"
      ],
      "text/plain": [
       "   days n    \n",
       "1   0     195\n",
       "2   1     221\n",
       "3   2     159\n",
       "4   3     120\n",
       "5   4      94\n",
       "6   5     105\n",
       "7   6      93\n",
       "8   7      77\n",
       "9   8      44\n",
       "10  9      27\n",
       "11 10      23\n",
       "12 11      12\n",
       "13 12      12\n",
       "14 13      15\n",
       "15 14      17\n",
       "16 15      11\n",
       "17 NA   70557"
      ]
     },
     "metadata": {},
     "output_type": "display_data"
    },
    {
     "data": {
      "text/html": [
       "<table class=\"dataframe\">\n",
       "<caption>A data.frame: 2 × 2</caption>\n",
       "<thead>\n",
       "\t<tr><th scope=col>hospitalization</th><th scope=col>n</th></tr>\n",
       "\t<tr><th scope=col>&lt;int&gt;</th><th scope=col>&lt;int&gt;</th></tr>\n",
       "</thead>\n",
       "<tbody>\n",
       "\t<tr><td>0</td><td>70101</td></tr>\n",
       "\t<tr><td>1</td><td> 1681</td></tr>\n",
       "</tbody>\n",
       "</table>\n"
      ],
      "text/latex": [
       "A data.frame: 2 × 2\n",
       "\\begin{tabular}{ll}\n",
       " hospitalization & n\\\\\n",
       " <int> & <int>\\\\\n",
       "\\hline\n",
       "\t 0 & 70101\\\\\n",
       "\t 1 &  1681\\\\\n",
       "\\end{tabular}\n"
      ],
      "text/markdown": [
       "\n",
       "A data.frame: 2 × 2\n",
       "\n",
       "| hospitalization &lt;int&gt; | n &lt;int&gt; |\n",
       "|---|---|\n",
       "| 0 | 70101 |\n",
       "| 1 |  1681 |\n",
       "\n"
      ],
      "text/plain": [
       "  hospitalization n    \n",
       "1 0               70101\n",
       "2 1                1681"
      ]
     },
     "metadata": {},
     "output_type": "display_data"
    },
    {
     "data": {
      "text/html": [
       "<style>\n",
       ".list-inline {list-style: none; margin:0; padding: 0}\n",
       ".list-inline>li {display: inline-block}\n",
       ".list-inline>li:not(:last-child)::after {content: \"\\00b7\"; padding: 0 .5ex}\n",
       "</style>\n",
       "<ol class=list-inline><li>71782</li><li>36</li></ol>\n"
      ],
      "text/latex": [
       "\\begin{enumerate*}\n",
       "\\item 71782\n",
       "\\item 36\n",
       "\\end{enumerate*}\n"
      ],
      "text/markdown": [
       "1. 71782\n",
       "2. 36\n",
       "\n",
       "\n"
      ],
      "text/plain": [
       "[1] 71782    36"
      ]
     },
     "metadata": {},
     "output_type": "display_data"
    },
    {
     "data": {
      "text/html": [
       "<style>\n",
       ".list-inline {list-style: none; margin:0; padding: 0}\n",
       ".list-inline>li {display: inline-block}\n",
       ".list-inline>li:not(:last-child)::after {content: \"\\00b7\"; padding: 0 .5ex}\n",
       "</style>\n",
       "<ol class=list-inline><li>'fever'</li><li>'myalgia'</li><li>'headache'</li><li>'exanthema'</li><li>'vomiting'</li><li>'nausea'</li><li>'back_pain'</li><li>'conjunctivitis'</li><li>'arthritis'</li><li>'arthralgia'</li><li>'petechiae'</li><li>'leukopenia'</li><li>'lasso_prove'</li><li>'retro_orbital_pain'</li><li>'diabetes'</li><li>'hematological_diseases'</li><li>'hepatopathies'</li><li>'chronic_kidney_disease'</li><li>'arterial_hypertension'</li><li>'acid_peptic_disease'</li><li>'autoimmune_diseases'</li><li>'hospitalization'</li><li>'id_state'</li><li>'id_place'</li><li>'dt_first_symptoms'</li><li>'epidemiological_week'</li><li>'race'</li><li>'schooling_years'</li><li>'dt_hospitalization'</li><li>'chikungunya'</li><li>'death'</li><li>'dt_death'</li><li>'age'</li><li>'sex'</li><li>'pregnancy'</li><li>'days'</li></ol>\n"
      ],
      "text/latex": [
       "\\begin{enumerate*}\n",
       "\\item 'fever'\n",
       "\\item 'myalgia'\n",
       "\\item 'headache'\n",
       "\\item 'exanthema'\n",
       "\\item 'vomiting'\n",
       "\\item 'nausea'\n",
       "\\item 'back\\_pain'\n",
       "\\item 'conjunctivitis'\n",
       "\\item 'arthritis'\n",
       "\\item 'arthralgia'\n",
       "\\item 'petechiae'\n",
       "\\item 'leukopenia'\n",
       "\\item 'lasso\\_prove'\n",
       "\\item 'retro\\_orbital\\_pain'\n",
       "\\item 'diabetes'\n",
       "\\item 'hematological\\_diseases'\n",
       "\\item 'hepatopathies'\n",
       "\\item 'chronic\\_kidney\\_disease'\n",
       "\\item 'arterial\\_hypertension'\n",
       "\\item 'acid\\_peptic\\_disease'\n",
       "\\item 'autoimmune\\_diseases'\n",
       "\\item 'hospitalization'\n",
       "\\item 'id\\_state'\n",
       "\\item 'id\\_place'\n",
       "\\item 'dt\\_first\\_symptoms'\n",
       "\\item 'epidemiological\\_week'\n",
       "\\item 'race'\n",
       "\\item 'schooling\\_years'\n",
       "\\item 'dt\\_hospitalization'\n",
       "\\item 'chikungunya'\n",
       "\\item 'death'\n",
       "\\item 'dt\\_death'\n",
       "\\item 'age'\n",
       "\\item 'sex'\n",
       "\\item 'pregnancy'\n",
       "\\item 'days'\n",
       "\\end{enumerate*}\n"
      ],
      "text/markdown": [
       "1. 'fever'\n",
       "2. 'myalgia'\n",
       "3. 'headache'\n",
       "4. 'exanthema'\n",
       "5. 'vomiting'\n",
       "6. 'nausea'\n",
       "7. 'back_pain'\n",
       "8. 'conjunctivitis'\n",
       "9. 'arthritis'\n",
       "10. 'arthralgia'\n",
       "11. 'petechiae'\n",
       "12. 'leukopenia'\n",
       "13. 'lasso_prove'\n",
       "14. 'retro_orbital_pain'\n",
       "15. 'diabetes'\n",
       "16. 'hematological_diseases'\n",
       "17. 'hepatopathies'\n",
       "18. 'chronic_kidney_disease'\n",
       "19. 'arterial_hypertension'\n",
       "20. 'acid_peptic_disease'\n",
       "21. 'autoimmune_diseases'\n",
       "22. 'hospitalization'\n",
       "23. 'id_state'\n",
       "24. 'id_place'\n",
       "25. 'dt_first_symptoms'\n",
       "26. 'epidemiological_week'\n",
       "27. 'race'\n",
       "28. 'schooling_years'\n",
       "29. 'dt_hospitalization'\n",
       "30. 'chikungunya'\n",
       "31. 'death'\n",
       "32. 'dt_death'\n",
       "33. 'age'\n",
       "34. 'sex'\n",
       "35. 'pregnancy'\n",
       "36. 'days'\n",
       "\n",
       "\n"
      ],
      "text/plain": [
       " [1] \"fever\"                  \"myalgia\"                \"headache\"              \n",
       " [4] \"exanthema\"              \"vomiting\"               \"nausea\"                \n",
       " [7] \"back_pain\"              \"conjunctivitis\"         \"arthritis\"             \n",
       "[10] \"arthralgia\"             \"petechiae\"              \"leukopenia\"            \n",
       "[13] \"lasso_prove\"            \"retro_orbital_pain\"     \"diabetes\"              \n",
       "[16] \"hematological_diseases\" \"hepatopathies\"          \"chronic_kidney_disease\"\n",
       "[19] \"arterial_hypertension\"  \"acid_peptic_disease\"    \"autoimmune_diseases\"   \n",
       "[22] \"hospitalization\"        \"id_state\"               \"id_place\"              \n",
       "[25] \"dt_first_symptoms\"      \"epidemiological_week\"   \"race\"                  \n",
       "[28] \"schooling_years\"        \"dt_hospitalization\"     \"chikungunya\"           \n",
       "[31] \"death\"                  \"dt_death\"               \"age\"                   \n",
       "[34] \"sex\"                    \"pregnancy\"              \"days\"                  "
      ]
     },
     "metadata": {},
     "output_type": "display_data"
    }
   ],
   "source": [
    "# remove patients hospitalized more than 15 days after first sympthoms\n",
    "\n",
    "data %>% filter((days >= 0 & days < 16)| is.na(days)) -> data\n",
    "\n",
    "data %>% count(days)\n",
    "\n",
    "data %>% count(hospitalization)\n",
    "data %>% dim\n",
    "data %>% colnames"
   ]
  },
  {
   "cell_type": "markdown",
   "id": "26025d7d",
   "metadata": {},
   "source": [
    "### Filter 1.4: remove non-hospitalized patients that died"
   ]
  },
  {
   "cell_type": "code",
   "execution_count": 33,
   "id": "8c72c172",
   "metadata": {},
   "outputs": [
    {
     "data": {
      "text/html": [
       "<table class=\"dataframe\">\n",
       "<caption>A data.frame: 6 × 2</caption>\n",
       "<thead>\n",
       "\t<tr><th scope=col>death</th><th scope=col>n</th></tr>\n",
       "\t<tr><th scope=col>&lt;int&gt;</th><th scope=col>&lt;int&gt;</th></tr>\n",
       "</thead>\n",
       "<tbody>\n",
       "\t<tr><td> 0</td><td>68005</td></tr>\n",
       "\t<tr><td> 1</td><td>   23</td></tr>\n",
       "\t<tr><td> 3</td><td>    6</td></tr>\n",
       "\t<tr><td> 4</td><td>    1</td></tr>\n",
       "\t<tr><td> 9</td><td> 1164</td></tr>\n",
       "\t<tr><td>NA</td><td>  902</td></tr>\n",
       "</tbody>\n",
       "</table>\n"
      ],
      "text/latex": [
       "A data.frame: 6 × 2\n",
       "\\begin{tabular}{ll}\n",
       " death & n\\\\\n",
       " <int> & <int>\\\\\n",
       "\\hline\n",
       "\t  0 & 68005\\\\\n",
       "\t  1 &    23\\\\\n",
       "\t  3 &     6\\\\\n",
       "\t  4 &     1\\\\\n",
       "\t  9 &  1164\\\\\n",
       "\t NA &   902\\\\\n",
       "\\end{tabular}\n"
      ],
      "text/markdown": [
       "\n",
       "A data.frame: 6 × 2\n",
       "\n",
       "| death &lt;int&gt; | n &lt;int&gt; |\n",
       "|---|---|\n",
       "|  0 | 68005 |\n",
       "|  1 |    23 |\n",
       "|  3 |     6 |\n",
       "|  4 |     1 |\n",
       "|  9 |  1164 |\n",
       "| NA |   902 |\n",
       "\n"
      ],
      "text/plain": [
       "  death n    \n",
       "1  0    68005\n",
       "2  1       23\n",
       "3  3        6\n",
       "4  4        1\n",
       "5  9     1164\n",
       "6 NA      902"
      ]
     },
     "metadata": {},
     "output_type": "display_data"
    },
    {
     "data": {
      "text/html": [
       "<style>\n",
       ".list-inline {list-style: none; margin:0; padding: 0}\n",
       ".list-inline>li {display: inline-block}\n",
       ".list-inline>li:not(:last-child)::after {content: \"\\00b7\"; padding: 0 .5ex}\n",
       "</style>\n",
       "<ol class=list-inline><li>69686</li><li>36</li></ol>\n"
      ],
      "text/latex": [
       "\\begin{enumerate*}\n",
       "\\item 69686\n",
       "\\item 36\n",
       "\\end{enumerate*}\n"
      ],
      "text/markdown": [
       "1. 69686\n",
       "2. 36\n",
       "\n",
       "\n"
      ],
      "text/plain": [
       "[1] 69686    36"
      ]
     },
     "metadata": {},
     "output_type": "display_data"
    },
    {
     "data": {
      "text/html": [
       "<table class=\"dataframe\">\n",
       "<caption>A data.frame: 2 × 2</caption>\n",
       "<thead>\n",
       "\t<tr><th scope=col>hospitalization</th><th scope=col>n</th></tr>\n",
       "\t<tr><th scope=col>&lt;int&gt;</th><th scope=col>&lt;int&gt;</th></tr>\n",
       "</thead>\n",
       "<tbody>\n",
       "\t<tr><td>0</td><td>68005</td></tr>\n",
       "\t<tr><td>1</td><td> 1681</td></tr>\n",
       "</tbody>\n",
       "</table>\n"
      ],
      "text/latex": [
       "A data.frame: 2 × 2\n",
       "\\begin{tabular}{ll}\n",
       " hospitalization & n\\\\\n",
       " <int> & <int>\\\\\n",
       "\\hline\n",
       "\t 0 & 68005\\\\\n",
       "\t 1 &  1681\\\\\n",
       "\\end{tabular}\n"
      ],
      "text/markdown": [
       "\n",
       "A data.frame: 2 × 2\n",
       "\n",
       "| hospitalization &lt;int&gt; | n &lt;int&gt; |\n",
       "|---|---|\n",
       "| 0 | 68005 |\n",
       "| 1 |  1681 |\n",
       "\n"
      ],
      "text/plain": [
       "  hospitalization n    \n",
       "1 0               68005\n",
       "2 1                1681"
      ]
     },
     "metadata": {},
     "output_type": "display_data"
    }
   ],
   "source": [
    "# remove non-hospitalized patients that died\n",
    "\n",
    "data %>% filter(hospitalization == 0) %>% count(death)\n",
    "\n",
    "data %>% filter(hospitalization == 1) -> death\n",
    "data %>% filter(hospitalization == 0) %>% filter(death == 0) -> data\n",
    "\n",
    "data %>% rbind(death) -> data\n",
    "\n",
    "data %>% dim \n",
    "\n",
    "data %>% count(hospitalization)"
   ]
  },
  {
   "cell_type": "markdown",
   "id": "471d6a86",
   "metadata": {},
   "source": [
    "### Remove columns: not relevant for this dataset"
   ]
  },
  {
   "cell_type": "code",
   "execution_count": 34,
   "id": "7980ecab",
   "metadata": {},
   "outputs": [
    {
     "data": {
      "text/html": [
       "<style>\n",
       ".list-inline {list-style: none; margin:0; padding: 0}\n",
       ".list-inline>li {display: inline-block}\n",
       ".list-inline>li:not(:last-child)::after {content: \"\\00b7\"; padding: 0 .5ex}\n",
       "</style>\n",
       "<ol class=list-inline><li>69686</li><li>31</li></ol>\n"
      ],
      "text/latex": [
       "\\begin{enumerate*}\n",
       "\\item 69686\n",
       "\\item 31\n",
       "\\end{enumerate*}\n"
      ],
      "text/markdown": [
       "1. 69686\n",
       "2. 31\n",
       "\n",
       "\n"
      ],
      "text/plain": [
       "[1] 69686    31"
      ]
     },
     "metadata": {},
     "output_type": "display_data"
    },
    {
     "data": {
      "text/html": [
       "<style>\n",
       ".dl-inline {width: auto; margin:0; padding: 0}\n",
       ".dl-inline>dt, .dl-inline>dd {float: none; width: auto; display: inline-block}\n",
       ".dl-inline>dt::after {content: \":\\0020\"; padding-right: .5ex}\n",
       ".dl-inline>dt:not(:first-of-type) {padding-left: .5ex}\n",
       "</style><dl class=dl-inline><dt>fever</dt><dd>60892</dd><dt>myalgia</dt><dd>51041</dd><dt>headache</dt><dd>50726</dd><dt>exanthema</dt><dd>16746</dd><dt>vomiting</dt><dd>11047</dd><dt>nausea</dt><dd>21310</dd><dt>back_pain</dt><dd>24918</dd><dt>conjunctivitis</dt><dd>3145</dd><dt>arthritis</dt><dd>18801</dd><dt>arthralgia</dt><dd>48944</dd><dt>petechiae</dt><dd>9994</dd><dt>leukopenia</dt><dd>1303</dd><dt>lasso_prove</dt><dd>1170</dd><dt>retro_orbital_pain</dt><dd>12621</dd><dt>diabetes</dt><dd>3411</dd><dt>hematological_diseases</dt><dd>346</dd><dt>hepatopathies</dt><dd>379</dd><dt>chronic_kidney_disease</dt><dd>319</dd><dt>arterial_hypertension</dt><dd>7752</dd><dt>acid_peptic_disease</dt><dd>429</dd><dt>autoimmune_diseases</dt><dd>395</dd><dt>hospitalization</dt><dd>1681</dd><dt>id_state</dt><dd>1774986</dd><dt>id_place</dt><dd>279233426640</dd><dt>epidemiological_week</dt><dd>1394853</dd><dt>race</dt><dd>247341</dd><dt>schooling_years</dt><dd>332687</dd><dt>chikungunya</dt><dd>905918</dd><dt>age</dt><dd>2930946</dd><dt>sex</dt><dd>43552</dd><dt>pregnancy</dt><dd>1121</dd></dl>\n"
      ],
      "text/latex": [
       "\\begin{description*}\n",
       "\\item[fever] 60892\n",
       "\\item[myalgia] 51041\n",
       "\\item[headache] 50726\n",
       "\\item[exanthema] 16746\n",
       "\\item[vomiting] 11047\n",
       "\\item[nausea] 21310\n",
       "\\item[back\\textbackslash{}\\_pain] 24918\n",
       "\\item[conjunctivitis] 3145\n",
       "\\item[arthritis] 18801\n",
       "\\item[arthralgia] 48944\n",
       "\\item[petechiae] 9994\n",
       "\\item[leukopenia] 1303\n",
       "\\item[lasso\\textbackslash{}\\_prove] 1170\n",
       "\\item[retro\\textbackslash{}\\_orbital\\textbackslash{}\\_pain] 12621\n",
       "\\item[diabetes] 3411\n",
       "\\item[hematological\\textbackslash{}\\_diseases] 346\n",
       "\\item[hepatopathies] 379\n",
       "\\item[chronic\\textbackslash{}\\_kidney\\textbackslash{}\\_disease] 319\n",
       "\\item[arterial\\textbackslash{}\\_hypertension] 7752\n",
       "\\item[acid\\textbackslash{}\\_peptic\\textbackslash{}\\_disease] 429\n",
       "\\item[autoimmune\\textbackslash{}\\_diseases] 395\n",
       "\\item[hospitalization] 1681\n",
       "\\item[id\\textbackslash{}\\_state] 1774986\n",
       "\\item[id\\textbackslash{}\\_place] 279233426640\n",
       "\\item[epidemiological\\textbackslash{}\\_week] 1394853\n",
       "\\item[race] 247341\n",
       "\\item[schooling\\textbackslash{}\\_years] 332687\n",
       "\\item[chikungunya] 905918\n",
       "\\item[age] 2930946\n",
       "\\item[sex] 43552\n",
       "\\item[pregnancy] 1121\n",
       "\\end{description*}\n"
      ],
      "text/markdown": [
       "fever\n",
       ":   60892myalgia\n",
       ":   51041headache\n",
       ":   50726exanthema\n",
       ":   16746vomiting\n",
       ":   11047nausea\n",
       ":   21310back_pain\n",
       ":   24918conjunctivitis\n",
       ":   3145arthritis\n",
       ":   18801arthralgia\n",
       ":   48944petechiae\n",
       ":   9994leukopenia\n",
       ":   1303lasso_prove\n",
       ":   1170retro_orbital_pain\n",
       ":   12621diabetes\n",
       ":   3411hematological_diseases\n",
       ":   346hepatopathies\n",
       ":   379chronic_kidney_disease\n",
       ":   319arterial_hypertension\n",
       ":   7752acid_peptic_disease\n",
       ":   429autoimmune_diseases\n",
       ":   395hospitalization\n",
       ":   1681id_state\n",
       ":   1774986id_place\n",
       ":   279233426640epidemiological_week\n",
       ":   1394853race\n",
       ":   247341schooling_years\n",
       ":   332687chikungunya\n",
       ":   905918age\n",
       ":   2930946sex\n",
       ":   43552pregnancy\n",
       ":   1121\n",
       "\n"
      ],
      "text/plain": [
       "                 fever                myalgia               headache \n",
       "                 60892                  51041                  50726 \n",
       "             exanthema               vomiting                 nausea \n",
       "                 16746                  11047                  21310 \n",
       "             back_pain         conjunctivitis              arthritis \n",
       "                 24918                   3145                  18801 \n",
       "            arthralgia              petechiae             leukopenia \n",
       "                 48944                   9994                   1303 \n",
       "           lasso_prove     retro_orbital_pain               diabetes \n",
       "                  1170                  12621                   3411 \n",
       "hematological_diseases          hepatopathies chronic_kidney_disease \n",
       "                   346                    379                    319 \n",
       " arterial_hypertension    acid_peptic_disease    autoimmune_diseases \n",
       "                  7752                    429                    395 \n",
       "       hospitalization               id_state               id_place \n",
       "                  1681                1774986           279233426640 \n",
       "  epidemiological_week                   race        schooling_years \n",
       "               1394853                 247341                 332687 \n",
       "           chikungunya                    age                    sex \n",
       "                905918                2930946                  43552 \n",
       "             pregnancy \n",
       "                  1121 "
      ]
     },
     "metadata": {},
     "output_type": "display_data"
    }
   ],
   "source": [
    "data %>% select(-c(dt_first_symptoms, death, dt_hospitalization, dt_death, days,)) -> data \n",
    "\n",
    "data %>% dim \n",
    "\n",
    "# check how many patients present a each symptoms \n",
    "\n",
    "colSums(data)"
   ]
  },
  {
   "cell_type": "code",
   "execution_count": 35,
   "id": "e1a17728",
   "metadata": {},
   "outputs": [
    {
     "data": {
      "text/html": [
       "<style>\n",
       ".dl-inline {width: auto; margin:0; padding: 0}\n",
       ".dl-inline>dt, .dl-inline>dd {float: none; width: auto; display: inline-block}\n",
       ".dl-inline>dt::after {content: \":\\0020\"; padding-right: .5ex}\n",
       ".dl-inline>dt:not(:first-of-type) {padding-left: .5ex}\n",
       "</style><dl class=dl-inline><dt>fever</dt><dd>1474</dd><dt>myalgia</dt><dd>1262</dd><dt>headache</dt><dd>1130</dd><dt>exanthema</dt><dd>447</dd><dt>vomiting</dt><dd>418</dd><dt>nausea</dt><dd>616</dd><dt>back_pain</dt><dd>540</dd><dt>conjunctivitis</dt><dd>90</dd><dt>arthritis</dt><dd>413</dd><dt>arthralgia</dt><dd>1068</dd><dt>petechiae</dt><dd>274</dd><dt>leukopenia</dt><dd>128</dd><dt>lasso_prove</dt><dd>45</dd><dt>retro_orbital_pain</dt><dd>320</dd><dt>diabetes</dt><dd>134</dd><dt>hematological_diseases</dt><dd>22</dd><dt>hepatopathies</dt><dd>18</dd><dt>chronic_kidney_disease</dt><dd>22</dd><dt>arterial_hypertension</dt><dd>314</dd><dt>acid_peptic_disease</dt><dd>19</dd><dt>autoimmune_diseases</dt><dd>18</dd><dt>hospitalization</dt><dd>1681</dd><dt>id_state</dt><dd>43198</dd><dt>id_place</dt><dd>5749919470</dd><dt>epidemiological_week</dt><dd>33467</dd><dt>race</dt><dd>5602</dd><dt>schooling_years</dt><dd>7941</dd><dt>chikungunya</dt><dd>21853</dd><dt>age</dt><dd>74355</dd><dt>sex</dt><dd>1016</dd><dt>pregnancy</dt><dd>66</dd></dl>\n"
      ],
      "text/latex": [
       "\\begin{description*}\n",
       "\\item[fever] 1474\n",
       "\\item[myalgia] 1262\n",
       "\\item[headache] 1130\n",
       "\\item[exanthema] 447\n",
       "\\item[vomiting] 418\n",
       "\\item[nausea] 616\n",
       "\\item[back\\textbackslash{}\\_pain] 540\n",
       "\\item[conjunctivitis] 90\n",
       "\\item[arthritis] 413\n",
       "\\item[arthralgia] 1068\n",
       "\\item[petechiae] 274\n",
       "\\item[leukopenia] 128\n",
       "\\item[lasso\\textbackslash{}\\_prove] 45\n",
       "\\item[retro\\textbackslash{}\\_orbital\\textbackslash{}\\_pain] 320\n",
       "\\item[diabetes] 134\n",
       "\\item[hematological\\textbackslash{}\\_diseases] 22\n",
       "\\item[hepatopathies] 18\n",
       "\\item[chronic\\textbackslash{}\\_kidney\\textbackslash{}\\_disease] 22\n",
       "\\item[arterial\\textbackslash{}\\_hypertension] 314\n",
       "\\item[acid\\textbackslash{}\\_peptic\\textbackslash{}\\_disease] 19\n",
       "\\item[autoimmune\\textbackslash{}\\_diseases] 18\n",
       "\\item[hospitalization] 1681\n",
       "\\item[id\\textbackslash{}\\_state] 43198\n",
       "\\item[id\\textbackslash{}\\_place] 5749919470\n",
       "\\item[epidemiological\\textbackslash{}\\_week] 33467\n",
       "\\item[race] 5602\n",
       "\\item[schooling\\textbackslash{}\\_years] 7941\n",
       "\\item[chikungunya] 21853\n",
       "\\item[age] 74355\n",
       "\\item[sex] 1016\n",
       "\\item[pregnancy] 66\n",
       "\\end{description*}\n"
      ],
      "text/markdown": [
       "fever\n",
       ":   1474myalgia\n",
       ":   1262headache\n",
       ":   1130exanthema\n",
       ":   447vomiting\n",
       ":   418nausea\n",
       ":   616back_pain\n",
       ":   540conjunctivitis\n",
       ":   90arthritis\n",
       ":   413arthralgia\n",
       ":   1068petechiae\n",
       ":   274leukopenia\n",
       ":   128lasso_prove\n",
       ":   45retro_orbital_pain\n",
       ":   320diabetes\n",
       ":   134hematological_diseases\n",
       ":   22hepatopathies\n",
       ":   18chronic_kidney_disease\n",
       ":   22arterial_hypertension\n",
       ":   314acid_peptic_disease\n",
       ":   19autoimmune_diseases\n",
       ":   18hospitalization\n",
       ":   1681id_state\n",
       ":   43198id_place\n",
       ":   5749919470epidemiological_week\n",
       ":   33467race\n",
       ":   5602schooling_years\n",
       ":   7941chikungunya\n",
       ":   21853age\n",
       ":   74355sex\n",
       ":   1016pregnancy\n",
       ":   66\n",
       "\n"
      ],
      "text/plain": [
       "                 fever                myalgia               headache \n",
       "                  1474                   1262                   1130 \n",
       "             exanthema               vomiting                 nausea \n",
       "                   447                    418                    616 \n",
       "             back_pain         conjunctivitis              arthritis \n",
       "                   540                     90                    413 \n",
       "            arthralgia              petechiae             leukopenia \n",
       "                  1068                    274                    128 \n",
       "           lasso_prove     retro_orbital_pain               diabetes \n",
       "                    45                    320                    134 \n",
       "hematological_diseases          hepatopathies chronic_kidney_disease \n",
       "                    22                     18                     22 \n",
       " arterial_hypertension    acid_peptic_disease    autoimmune_diseases \n",
       "                   314                     19                     18 \n",
       "       hospitalization               id_state               id_place \n",
       "                  1681                  43198             5749919470 \n",
       "  epidemiological_week                   race        schooling_years \n",
       "                 33467                   5602                   7941 \n",
       "           chikungunya                    age                    sex \n",
       "                 21853                  74355                   1016 \n",
       "             pregnancy \n",
       "                    66 "
      ]
     },
     "metadata": {},
     "output_type": "display_data"
    }
   ],
   "source": [
    "# check symptoms presence in hospitalized cases\n",
    "\n",
    "data %>% filter(hospitalization == 1) -> hosp\n",
    "hosp %>% colSums"
   ]
  },
  {
   "cell_type": "markdown",
   "id": "f2b2bf09",
   "metadata": {},
   "source": [
    "### Delete columns: delete symptons and comorbidities with low frequency in the hospitalized class"
   ]
  },
  {
   "cell_type": "code",
   "execution_count": 36,
   "id": "5baaf400",
   "metadata": {},
   "outputs": [
    {
     "data": {
      "text/html": [
       "<style>\n",
       ".list-inline {list-style: none; margin:0; padding: 0}\n",
       ".list-inline>li {display: inline-block}\n",
       ".list-inline>li:not(:last-child)::after {content: \"\\00b7\"; padding: 0 .5ex}\n",
       "</style>\n",
       "<ol class=list-inline><li>'fever'</li><li>'myalgia'</li><li>'headache'</li><li>'exanthema'</li><li>'vomiting'</li><li>'nausea'</li><li>'back_pain'</li><li>'conjunctivitis'</li><li>'arthritis'</li><li>'arthralgia'</li><li>'petechiae'</li><li>'leukopenia'</li><li>'retro_orbital_pain'</li><li>'diabetes'</li><li>'arterial_hypertension'</li><li>'hospitalization'</li><li>'id_state'</li><li>'id_place'</li><li>'epidemiological_week'</li><li>'race'</li><li>'schooling_years'</li><li>'chikungunya'</li><li>'age'</li><li>'sex'</li><li>'pregnancy'</li></ol>\n"
      ],
      "text/latex": [
       "\\begin{enumerate*}\n",
       "\\item 'fever'\n",
       "\\item 'myalgia'\n",
       "\\item 'headache'\n",
       "\\item 'exanthema'\n",
       "\\item 'vomiting'\n",
       "\\item 'nausea'\n",
       "\\item 'back\\_pain'\n",
       "\\item 'conjunctivitis'\n",
       "\\item 'arthritis'\n",
       "\\item 'arthralgia'\n",
       "\\item 'petechiae'\n",
       "\\item 'leukopenia'\n",
       "\\item 'retro\\_orbital\\_pain'\n",
       "\\item 'diabetes'\n",
       "\\item 'arterial\\_hypertension'\n",
       "\\item 'hospitalization'\n",
       "\\item 'id\\_state'\n",
       "\\item 'id\\_place'\n",
       "\\item 'epidemiological\\_week'\n",
       "\\item 'race'\n",
       "\\item 'schooling\\_years'\n",
       "\\item 'chikungunya'\n",
       "\\item 'age'\n",
       "\\item 'sex'\n",
       "\\item 'pregnancy'\n",
       "\\end{enumerate*}\n"
      ],
      "text/markdown": [
       "1. 'fever'\n",
       "2. 'myalgia'\n",
       "3. 'headache'\n",
       "4. 'exanthema'\n",
       "5. 'vomiting'\n",
       "6. 'nausea'\n",
       "7. 'back_pain'\n",
       "8. 'conjunctivitis'\n",
       "9. 'arthritis'\n",
       "10. 'arthralgia'\n",
       "11. 'petechiae'\n",
       "12. 'leukopenia'\n",
       "13. 'retro_orbital_pain'\n",
       "14. 'diabetes'\n",
       "15. 'arterial_hypertension'\n",
       "16. 'hospitalization'\n",
       "17. 'id_state'\n",
       "18. 'id_place'\n",
       "19. 'epidemiological_week'\n",
       "20. 'race'\n",
       "21. 'schooling_years'\n",
       "22. 'chikungunya'\n",
       "23. 'age'\n",
       "24. 'sex'\n",
       "25. 'pregnancy'\n",
       "\n",
       "\n"
      ],
      "text/plain": [
       " [1] \"fever\"                 \"myalgia\"               \"headache\"             \n",
       " [4] \"exanthema\"             \"vomiting\"              \"nausea\"               \n",
       " [7] \"back_pain\"             \"conjunctivitis\"        \"arthritis\"            \n",
       "[10] \"arthralgia\"            \"petechiae\"             \"leukopenia\"           \n",
       "[13] \"retro_orbital_pain\"    \"diabetes\"              \"arterial_hypertension\"\n",
       "[16] \"hospitalization\"       \"id_state\"              \"id_place\"             \n",
       "[19] \"epidemiological_week\"  \"race\"                  \"schooling_years\"      \n",
       "[22] \"chikungunya\"           \"age\"                   \"sex\"                  \n",
       "[25] \"pregnancy\"            "
      ]
     },
     "metadata": {},
     "output_type": "display_data"
    }
   ],
   "source": [
    "selected_cols <- colnames(hosp)[colSums(hosp) > 50]\n",
    "\n",
    "selected_cols\n",
    "\n",
    "data <- data[, selected_cols]"
   ]
  },
  {
   "cell_type": "code",
   "execution_count": 37,
   "id": "971dc8c9",
   "metadata": {},
   "outputs": [
    {
     "data": {
      "text/html": [
       "<style>\n",
       ".list-inline {list-style: none; margin:0; padding: 0}\n",
       ".list-inline>li {display: inline-block}\n",
       ".list-inline>li:not(:last-child)::after {content: \"\\00b7\"; padding: 0 .5ex}\n",
       "</style>\n",
       "<ol class=list-inline><li>'fever'</li><li>'myalgia'</li><li>'headache'</li><li>'exanthema'</li><li>'vomiting'</li><li>'nausea'</li><li>'back_pain'</li><li>'conjunctivitis'</li><li>'arthritis'</li><li>'arthralgia'</li><li>'petechiae'</li><li>'leukopenia'</li><li>'retro_orbital_pain'</li><li>'diabetes'</li><li>'arterial_hypertension'</li><li>'hospitalization'</li><li>'id_state'</li><li>'id_place'</li><li>'epidemiological_week'</li><li>'race'</li><li>'schooling_years'</li><li>'chikungunya'</li><li>'age'</li><li>'sex'</li><li>'pregnancy'</li></ol>\n"
      ],
      "text/latex": [
       "\\begin{enumerate*}\n",
       "\\item 'fever'\n",
       "\\item 'myalgia'\n",
       "\\item 'headache'\n",
       "\\item 'exanthema'\n",
       "\\item 'vomiting'\n",
       "\\item 'nausea'\n",
       "\\item 'back\\_pain'\n",
       "\\item 'conjunctivitis'\n",
       "\\item 'arthritis'\n",
       "\\item 'arthralgia'\n",
       "\\item 'petechiae'\n",
       "\\item 'leukopenia'\n",
       "\\item 'retro\\_orbital\\_pain'\n",
       "\\item 'diabetes'\n",
       "\\item 'arterial\\_hypertension'\n",
       "\\item 'hospitalization'\n",
       "\\item 'id\\_state'\n",
       "\\item 'id\\_place'\n",
       "\\item 'epidemiological\\_week'\n",
       "\\item 'race'\n",
       "\\item 'schooling\\_years'\n",
       "\\item 'chikungunya'\n",
       "\\item 'age'\n",
       "\\item 'sex'\n",
       "\\item 'pregnancy'\n",
       "\\end{enumerate*}\n"
      ],
      "text/markdown": [
       "1. 'fever'\n",
       "2. 'myalgia'\n",
       "3. 'headache'\n",
       "4. 'exanthema'\n",
       "5. 'vomiting'\n",
       "6. 'nausea'\n",
       "7. 'back_pain'\n",
       "8. 'conjunctivitis'\n",
       "9. 'arthritis'\n",
       "10. 'arthralgia'\n",
       "11. 'petechiae'\n",
       "12. 'leukopenia'\n",
       "13. 'retro_orbital_pain'\n",
       "14. 'diabetes'\n",
       "15. 'arterial_hypertension'\n",
       "16. 'hospitalization'\n",
       "17. 'id_state'\n",
       "18. 'id_place'\n",
       "19. 'epidemiological_week'\n",
       "20. 'race'\n",
       "21. 'schooling_years'\n",
       "22. 'chikungunya'\n",
       "23. 'age'\n",
       "24. 'sex'\n",
       "25. 'pregnancy'\n",
       "\n",
       "\n"
      ],
      "text/plain": [
       " [1] \"fever\"                 \"myalgia\"               \"headache\"             \n",
       " [4] \"exanthema\"             \"vomiting\"              \"nausea\"               \n",
       " [7] \"back_pain\"             \"conjunctivitis\"        \"arthritis\"            \n",
       "[10] \"arthralgia\"            \"petechiae\"             \"leukopenia\"           \n",
       "[13] \"retro_orbital_pain\"    \"diabetes\"              \"arterial_hypertension\"\n",
       "[16] \"hospitalization\"       \"id_state\"              \"id_place\"             \n",
       "[19] \"epidemiological_week\"  \"race\"                  \"schooling_years\"      \n",
       "[22] \"chikungunya\"           \"age\"                   \"sex\"                  \n",
       "[25] \"pregnancy\"            "
      ]
     },
     "metadata": {},
     "output_type": "display_data"
    }
   ],
   "source": [
    "data %>% colnames "
   ]
  },
  {
   "cell_type": "code",
   "execution_count": 38,
   "id": "522d6a45",
   "metadata": {},
   "outputs": [
    {
     "data": {
      "text/html": [
       "<style>\n",
       ".list-inline {list-style: none; margin:0; padding: 0}\n",
       ".list-inline>li {display: inline-block}\n",
       ".list-inline>li:not(:last-child)::after {content: \"\\00b7\"; padding: 0 .5ex}\n",
       "</style>\n",
       "<ol class=list-inline><li>69686</li><li>25</li></ol>\n"
      ],
      "text/latex": [
       "\\begin{enumerate*}\n",
       "\\item 69686\n",
       "\\item 25\n",
       "\\end{enumerate*}\n"
      ],
      "text/markdown": [
       "1. 69686\n",
       "2. 25\n",
       "\n",
       "\n"
      ],
      "text/plain": [
       "[1] 69686    25"
      ]
     },
     "metadata": {},
     "output_type": "display_data"
    }
   ],
   "source": [
    "data %>% dim"
   ]
  },
  {
   "cell_type": "code",
   "execution_count": 39,
   "id": "a037431d",
   "metadata": {},
   "outputs": [],
   "source": [
    "data %>% select(fever:arterial_hypertension,id_state:pregnancy, hospitalization) %>% \n",
    "write_csv('chikungunya_hospitalization_22.csv')"
   ]
  },
  {
   "cell_type": "markdown",
   "id": "5cbdf491",
   "metadata": {},
   "source": [
    "# Dataset 2 - predicting the dignose"
   ]
  },
  {
   "cell_type": "code",
   "execution_count": 40,
   "id": "d1b4cf12",
   "metadata": {},
   "outputs": [
    {
     "data": {
      "text/html": [
       "<table class=\"dataframe\">\n",
       "<caption>A data.frame: 2 × 2</caption>\n",
       "<thead>\n",
       "\t<tr><th scope=col>chikungunya</th><th scope=col>n</th></tr>\n",
       "\t<tr><th scope=col>&lt;int&gt;</th><th scope=col>&lt;int&gt;</th></tr>\n",
       "</thead>\n",
       "<tbody>\n",
       "\t<tr><td> 5</td><td> 31399</td></tr>\n",
       "\t<tr><td>13</td><td>107325</td></tr>\n",
       "</tbody>\n",
       "</table>\n"
      ],
      "text/latex": [
       "A data.frame: 2 × 2\n",
       "\\begin{tabular}{ll}\n",
       " chikungunya & n\\\\\n",
       " <int> & <int>\\\\\n",
       "\\hline\n",
       "\t  5 &  31399\\\\\n",
       "\t 13 & 107325\\\\\n",
       "\\end{tabular}\n"
      ],
      "text/markdown": [
       "\n",
       "A data.frame: 2 × 2\n",
       "\n",
       "| chikungunya &lt;int&gt; | n &lt;int&gt; |\n",
       "|---|---|\n",
       "|  5 |  31399 |\n",
       "| 13 | 107325 |\n",
       "\n"
      ],
      "text/plain": [
       "  chikungunya n     \n",
       "1  5           31399\n",
       "2 13          107325"
      ]
     },
     "metadata": {},
     "output_type": "display_data"
    }
   ],
   "source": [
    "data <- read.csv('clean_chikungunya_22.csv')\n",
    "\n",
    "# only confirmed cases\n",
    "data %>% count(chikungunya)"
   ]
  },
  {
   "cell_type": "code",
   "execution_count": 41,
   "id": "1747e68e",
   "metadata": {},
   "outputs": [],
   "source": [
    "data$chikungunya[data$chikungunya == 13] <- 1\n",
    "data$chikungunya[data$chikungunya == 5] <- 0"
   ]
  },
  {
   "cell_type": "code",
   "execution_count": 42,
   "id": "32bebc2c",
   "metadata": {},
   "outputs": [
    {
     "data": {
      "text/html": [
       "<style>\n",
       ".list-inline {list-style: none; margin:0; padding: 0}\n",
       ".list-inline>li {display: inline-block}\n",
       ".list-inline>li:not(:last-child)::after {content: \"\\00b7\"; padding: 0 .5ex}\n",
       "</style>\n",
       "<ol class=list-inline><li>'fever'</li><li>'myalgia'</li><li>'headache'</li><li>'exanthema'</li><li>'vomiting'</li><li>'nausea'</li><li>'back_pain'</li><li>'conjunctivitis'</li><li>'arthritis'</li><li>'arthralgia'</li><li>'petechiae'</li><li>'leukopenia'</li><li>'lasso_prove'</li><li>'retro_orbital_pain'</li><li>'diabetes'</li><li>'hematological_diseases'</li><li>'hepatopathies'</li><li>'chronic_kidney_disease'</li><li>'arterial_hypertension'</li><li>'acid_peptic_disease'</li><li>'autoimmune_diseases'</li><li>'hospitalization'</li><li>'id_state'</li><li>'id_place'</li><li>'dt_first_symptoms'</li><li>'epidemiological_week'</li><li>'race'</li><li>'schooling_years'</li><li>'dt_hospitalization'</li><li>'chikungunya'</li><li>'death'</li><li>'dt_death'</li><li>'age'</li><li>'sex'</li><li>'pregnancy'</li></ol>\n"
      ],
      "text/latex": [
       "\\begin{enumerate*}\n",
       "\\item 'fever'\n",
       "\\item 'myalgia'\n",
       "\\item 'headache'\n",
       "\\item 'exanthema'\n",
       "\\item 'vomiting'\n",
       "\\item 'nausea'\n",
       "\\item 'back\\_pain'\n",
       "\\item 'conjunctivitis'\n",
       "\\item 'arthritis'\n",
       "\\item 'arthralgia'\n",
       "\\item 'petechiae'\n",
       "\\item 'leukopenia'\n",
       "\\item 'lasso\\_prove'\n",
       "\\item 'retro\\_orbital\\_pain'\n",
       "\\item 'diabetes'\n",
       "\\item 'hematological\\_diseases'\n",
       "\\item 'hepatopathies'\n",
       "\\item 'chronic\\_kidney\\_disease'\n",
       "\\item 'arterial\\_hypertension'\n",
       "\\item 'acid\\_peptic\\_disease'\n",
       "\\item 'autoimmune\\_diseases'\n",
       "\\item 'hospitalization'\n",
       "\\item 'id\\_state'\n",
       "\\item 'id\\_place'\n",
       "\\item 'dt\\_first\\_symptoms'\n",
       "\\item 'epidemiological\\_week'\n",
       "\\item 'race'\n",
       "\\item 'schooling\\_years'\n",
       "\\item 'dt\\_hospitalization'\n",
       "\\item 'chikungunya'\n",
       "\\item 'death'\n",
       "\\item 'dt\\_death'\n",
       "\\item 'age'\n",
       "\\item 'sex'\n",
       "\\item 'pregnancy'\n",
       "\\end{enumerate*}\n"
      ],
      "text/markdown": [
       "1. 'fever'\n",
       "2. 'myalgia'\n",
       "3. 'headache'\n",
       "4. 'exanthema'\n",
       "5. 'vomiting'\n",
       "6. 'nausea'\n",
       "7. 'back_pain'\n",
       "8. 'conjunctivitis'\n",
       "9. 'arthritis'\n",
       "10. 'arthralgia'\n",
       "11. 'petechiae'\n",
       "12. 'leukopenia'\n",
       "13. 'lasso_prove'\n",
       "14. 'retro_orbital_pain'\n",
       "15. 'diabetes'\n",
       "16. 'hematological_diseases'\n",
       "17. 'hepatopathies'\n",
       "18. 'chronic_kidney_disease'\n",
       "19. 'arterial_hypertension'\n",
       "20. 'acid_peptic_disease'\n",
       "21. 'autoimmune_diseases'\n",
       "22. 'hospitalization'\n",
       "23. 'id_state'\n",
       "24. 'id_place'\n",
       "25. 'dt_first_symptoms'\n",
       "26. 'epidemiological_week'\n",
       "27. 'race'\n",
       "28. 'schooling_years'\n",
       "29. 'dt_hospitalization'\n",
       "30. 'chikungunya'\n",
       "31. 'death'\n",
       "32. 'dt_death'\n",
       "33. 'age'\n",
       "34. 'sex'\n",
       "35. 'pregnancy'\n",
       "\n",
       "\n"
      ],
      "text/plain": [
       " [1] \"fever\"                  \"myalgia\"                \"headache\"              \n",
       " [4] \"exanthema\"              \"vomiting\"               \"nausea\"                \n",
       " [7] \"back_pain\"              \"conjunctivitis\"         \"arthritis\"             \n",
       "[10] \"arthralgia\"             \"petechiae\"              \"leukopenia\"            \n",
       "[13] \"lasso_prove\"            \"retro_orbital_pain\"     \"diabetes\"              \n",
       "[16] \"hematological_diseases\" \"hepatopathies\"          \"chronic_kidney_disease\"\n",
       "[19] \"arterial_hypertension\"  \"acid_peptic_disease\"    \"autoimmune_diseases\"   \n",
       "[22] \"hospitalization\"        \"id_state\"               \"id_place\"              \n",
       "[25] \"dt_first_symptoms\"      \"epidemiological_week\"   \"race\"                  \n",
       "[28] \"schooling_years\"        \"dt_hospitalization\"     \"chikungunya\"           \n",
       "[31] \"death\"                  \"dt_death\"               \"age\"                   \n",
       "[34] \"sex\"                    \"pregnancy\"             "
      ]
     },
     "metadata": {},
     "output_type": "display_data"
    }
   ],
   "source": [
    "data %>% colnames"
   ]
  },
  {
   "cell_type": "markdown",
   "id": "c01e409b",
   "metadata": {},
   "source": [
    "### Remove columns: not relevant for this dataset or comorbidities with low presence"
   ]
  },
  {
   "cell_type": "code",
   "execution_count": 43,
   "id": "6026d79e",
   "metadata": {},
   "outputs": [],
   "source": [
    "data %>% select(-c(dt_first_symptoms, death, dt_hospitalization, dt_death, \n",
    "                   hospitalization, hematological_diseases,hepatopathies, chronic_kidney_disease,\n",
    "                  acid_peptic_disease, autoimmune_diseases)) -> data"
   ]
  },
  {
   "cell_type": "code",
   "execution_count": 44,
   "id": "8e017a0f",
   "metadata": {
    "scrolled": true
   },
   "outputs": [
    {
     "data": {
      "text/html": [
       "<style>\n",
       ".list-inline {list-style: none; margin:0; padding: 0}\n",
       ".list-inline>li {display: inline-block}\n",
       ".list-inline>li:not(:last-child)::after {content: \"\\00b7\"; padding: 0 .5ex}\n",
       "</style>\n",
       "<ol class=list-inline><li>138724</li><li>25</li></ol>\n"
      ],
      "text/latex": [
       "\\begin{enumerate*}\n",
       "\\item 138724\n",
       "\\item 25\n",
       "\\end{enumerate*}\n"
      ],
      "text/markdown": [
       "1. 138724\n",
       "2. 25\n",
       "\n",
       "\n"
      ],
      "text/plain": [
       "[1] 138724     25"
      ]
     },
     "metadata": {},
     "output_type": "display_data"
    }
   ],
   "source": [
    "data %>% dim"
   ]
  },
  {
   "cell_type": "code",
   "execution_count": 45,
   "id": "e3152430",
   "metadata": {},
   "outputs": [],
   "source": [
    "data %>% select(fever:schooling_years,age:pregnancy,chikungunya) %>%  write_csv('chikungunya_diagnose_22.csv')"
   ]
  },
  {
   "cell_type": "markdown",
   "id": "833c259e",
   "metadata": {},
   "source": [
    "# Dataset 3: predicting death (among hospitalized patients)"
   ]
  },
  {
   "cell_type": "code",
   "execution_count": 46,
   "id": "e835c907",
   "metadata": {},
   "outputs": [],
   "source": [
    "data <- read.csv('clean_chikungunya_22.csv')"
   ]
  },
  {
   "cell_type": "markdown",
   "id": "93a66020",
   "metadata": {},
   "source": [
    "### Filter 3.1: only confirmed cases of the disease"
   ]
  },
  {
   "cell_type": "code",
   "execution_count": 47,
   "id": "26386ecb",
   "metadata": {},
   "outputs": [
    {
     "data": {
      "text/html": [
       "<table class=\"dataframe\">\n",
       "<caption>A data.frame: 6 × 2</caption>\n",
       "<thead>\n",
       "\t<tr><th scope=col>death</th><th scope=col>n</th></tr>\n",
       "\t<tr><th scope=col>&lt;int&gt;</th><th scope=col>&lt;int&gt;</th></tr>\n",
       "</thead>\n",
       "<tbody>\n",
       "\t<tr><td> 0</td><td>103093</td></tr>\n",
       "\t<tr><td> 1</td><td>    83</td></tr>\n",
       "\t<tr><td> 3</td><td>    22</td></tr>\n",
       "\t<tr><td> 4</td><td>    11</td></tr>\n",
       "\t<tr><td> 9</td><td>  1626</td></tr>\n",
       "\t<tr><td>NA</td><td>  2490</td></tr>\n",
       "</tbody>\n",
       "</table>\n"
      ],
      "text/latex": [
       "A data.frame: 6 × 2\n",
       "\\begin{tabular}{ll}\n",
       " death & n\\\\\n",
       " <int> & <int>\\\\\n",
       "\\hline\n",
       "\t  0 & 103093\\\\\n",
       "\t  1 &     83\\\\\n",
       "\t  3 &     22\\\\\n",
       "\t  4 &     11\\\\\n",
       "\t  9 &   1626\\\\\n",
       "\t NA &   2490\\\\\n",
       "\\end{tabular}\n"
      ],
      "text/markdown": [
       "\n",
       "A data.frame: 6 × 2\n",
       "\n",
       "| death &lt;int&gt; | n &lt;int&gt; |\n",
       "|---|---|\n",
       "|  0 | 103093 |\n",
       "|  1 |     83 |\n",
       "|  3 |     22 |\n",
       "|  4 |     11 |\n",
       "|  9 |   1626 |\n",
       "| NA |   2490 |\n",
       "\n"
      ],
      "text/plain": [
       "  death n     \n",
       "1  0    103093\n",
       "2  1        83\n",
       "3  3        22\n",
       "4  4        11\n",
       "5  9      1626\n",
       "6 NA      2490"
      ]
     },
     "metadata": {},
     "output_type": "display_data"
    },
    {
     "data": {
      "text/html": [
       "<style>\n",
       ".list-inline {list-style: none; margin:0; padding: 0}\n",
       ".list-inline>li {display: inline-block}\n",
       ".list-inline>li:not(:last-child)::after {content: \"\\00b7\"; padding: 0 .5ex}\n",
       "</style>\n",
       "<ol class=list-inline><li>107325</li><li>34</li></ol>\n"
      ],
      "text/latex": [
       "\\begin{enumerate*}\n",
       "\\item 107325\n",
       "\\item 34\n",
       "\\end{enumerate*}\n"
      ],
      "text/markdown": [
       "1. 107325\n",
       "2. 34\n",
       "\n",
       "\n"
      ],
      "text/plain": [
       "[1] 107325     34"
      ]
     },
     "metadata": {},
     "output_type": "display_data"
    }
   ],
   "source": [
    "# only confirmed cases\n",
    "data %>% filter(chikungunya == 13) -> data\n",
    "data %>% select(-chikungunya) -> data\n",
    "\n",
    "data %>% count(death)\n",
    "\n",
    "data %>% dim"
   ]
  },
  {
   "cell_type": "markdown",
   "id": "af6ac756",
   "metadata": {},
   "source": [
    "### Filter 3.2: only patients cured or dead with the disease "
   ]
  },
  {
   "cell_type": "markdown",
   "id": "7ec6fc4e",
   "metadata": {},
   "source": [
    "1- cura (cured), \n",
    "2- óbito pelo agravo (death by chikungunya)\n",
    "3- óbito por outras causas (death by other reasons)\n",
    "4- óbito em investigação (death under investigation)\n",
    "9- ignorado (ignored)"
   ]
  },
  {
   "cell_type": "code",
   "execution_count": 48,
   "id": "e46c6edf",
   "metadata": {},
   "outputs": [
    {
     "data": {
      "text/html": [
       "<table class=\"dataframe\">\n",
       "<caption>A data.frame: 6 × 2</caption>\n",
       "<thead>\n",
       "\t<tr><th scope=col>death</th><th scope=col>n</th></tr>\n",
       "\t<tr><th scope=col>&lt;int&gt;</th><th scope=col>&lt;int&gt;</th></tr>\n",
       "</thead>\n",
       "<tbody>\n",
       "\t<tr><td> 0</td><td>103093</td></tr>\n",
       "\t<tr><td> 1</td><td>    83</td></tr>\n",
       "\t<tr><td> 3</td><td>    22</td></tr>\n",
       "\t<tr><td> 4</td><td>    11</td></tr>\n",
       "\t<tr><td> 9</td><td>  1626</td></tr>\n",
       "\t<tr><td>NA</td><td>  2490</td></tr>\n",
       "</tbody>\n",
       "</table>\n"
      ],
      "text/latex": [
       "A data.frame: 6 × 2\n",
       "\\begin{tabular}{ll}\n",
       " death & n\\\\\n",
       " <int> & <int>\\\\\n",
       "\\hline\n",
       "\t  0 & 103093\\\\\n",
       "\t  1 &     83\\\\\n",
       "\t  3 &     22\\\\\n",
       "\t  4 &     11\\\\\n",
       "\t  9 &   1626\\\\\n",
       "\t NA &   2490\\\\\n",
       "\\end{tabular}\n"
      ],
      "text/markdown": [
       "\n",
       "A data.frame: 6 × 2\n",
       "\n",
       "| death &lt;int&gt; | n &lt;int&gt; |\n",
       "|---|---|\n",
       "|  0 | 103093 |\n",
       "|  1 |     83 |\n",
       "|  3 |     22 |\n",
       "|  4 |     11 |\n",
       "|  9 |   1626 |\n",
       "| NA |   2490 |\n",
       "\n"
      ],
      "text/plain": [
       "  death n     \n",
       "1  0    103093\n",
       "2  1        83\n",
       "3  3        22\n",
       "4  4        11\n",
       "5  9      1626\n",
       "6 NA      2490"
      ]
     },
     "metadata": {},
     "output_type": "display_data"
    },
    {
     "data": {
      "text/html": [
       "<style>\n",
       ".list-inline {list-style: none; margin:0; padding: 0}\n",
       ".list-inline>li {display: inline-block}\n",
       ".list-inline>li:not(:last-child)::after {content: \"\\00b7\"; padding: 0 .5ex}\n",
       "</style>\n",
       "<ol class=list-inline><li>103176</li><li>34</li></ol>\n"
      ],
      "text/latex": [
       "\\begin{enumerate*}\n",
       "\\item 103176\n",
       "\\item 34\n",
       "\\end{enumerate*}\n"
      ],
      "text/markdown": [
       "1. 103176\n",
       "2. 34\n",
       "\n",
       "\n"
      ],
      "text/plain": [
       "[1] 103176     34"
      ]
     },
     "metadata": {},
     "output_type": "display_data"
    },
    {
     "data": {
      "text/html": [
       "<table class=\"dataframe\">\n",
       "<caption>A data.frame: 2 × 2</caption>\n",
       "<thead>\n",
       "\t<tr><th scope=col>death</th><th scope=col>n</th></tr>\n",
       "\t<tr><th scope=col>&lt;int&gt;</th><th scope=col>&lt;int&gt;</th></tr>\n",
       "</thead>\n",
       "<tbody>\n",
       "\t<tr><td>0</td><td>103093</td></tr>\n",
       "\t<tr><td>1</td><td>    83</td></tr>\n",
       "</tbody>\n",
       "</table>\n"
      ],
      "text/latex": [
       "A data.frame: 2 × 2\n",
       "\\begin{tabular}{ll}\n",
       " death & n\\\\\n",
       " <int> & <int>\\\\\n",
       "\\hline\n",
       "\t 0 & 103093\\\\\n",
       "\t 1 &     83\\\\\n",
       "\\end{tabular}\n"
      ],
      "text/markdown": [
       "\n",
       "A data.frame: 2 × 2\n",
       "\n",
       "| death &lt;int&gt; | n &lt;int&gt; |\n",
       "|---|---|\n",
       "| 0 | 103093 |\n",
       "| 1 |     83 |\n",
       "\n"
      ],
      "text/plain": [
       "  death n     \n",
       "1 0     103093\n",
       "2 1         83"
      ]
     },
     "metadata": {},
     "output_type": "display_data"
    }
   ],
   "source": [
    "# only cured or death by the disease\n",
    "\n",
    "data %>% count(death)\n",
    "data %>% filter(death == 1 | death == 0) -> data\n",
    "\n",
    "data %>% dim\n",
    "\n",
    "data %>% count(death)"
   ]
  },
  {
   "cell_type": "markdown",
   "id": "5df6a379",
   "metadata": {},
   "source": [
    "### Filter 3.3: keep only hospitalized patients"
   ]
  },
  {
   "cell_type": "code",
   "execution_count": 49,
   "id": "15f8b3d0",
   "metadata": {},
   "outputs": [
    {
     "data": {
      "text/html": [
       "<table class=\"dataframe\">\n",
       "<caption>A data.frame: 2 × 2</caption>\n",
       "<thead>\n",
       "\t<tr><th scope=col>death</th><th scope=col>n</th></tr>\n",
       "\t<tr><th scope=col>&lt;int&gt;</th><th scope=col>&lt;int&gt;</th></tr>\n",
       "</thead>\n",
       "<tbody>\n",
       "\t<tr><td>0</td><td>1567</td></tr>\n",
       "\t<tr><td>1</td><td>  52</td></tr>\n",
       "</tbody>\n",
       "</table>\n"
      ],
      "text/latex": [
       "A data.frame: 2 × 2\n",
       "\\begin{tabular}{ll}\n",
       " death & n\\\\\n",
       " <int> & <int>\\\\\n",
       "\\hline\n",
       "\t 0 & 1567\\\\\n",
       "\t 1 &   52\\\\\n",
       "\\end{tabular}\n"
      ],
      "text/markdown": [
       "\n",
       "A data.frame: 2 × 2\n",
       "\n",
       "| death &lt;int&gt; | n &lt;int&gt; |\n",
       "|---|---|\n",
       "| 0 | 1567 |\n",
       "| 1 |   52 |\n",
       "\n"
      ],
      "text/plain": [
       "  death n   \n",
       "1 0     1567\n",
       "2 1       52"
      ]
     },
     "metadata": {},
     "output_type": "display_data"
    }
   ],
   "source": [
    "# filter hospitalized patients\n",
    "\n",
    "data %>% filter(hospitalization == 1) %>% count(death)\n",
    "data %>% filter(hospitalization == 1) -> data"
   ]
  },
  {
   "cell_type": "code",
   "execution_count": 50,
   "id": "55994823",
   "metadata": {},
   "outputs": [
    {
     "data": {
      "text/html": [
       "<table class=\"dataframe\">\n",
       "<caption>A data.frame: 30 × 2</caption>\n",
       "<thead>\n",
       "\t<tr><th scope=col>days</th><th scope=col>n</th></tr>\n",
       "\t<tr><th scope=col>&lt;dbl&gt;</th><th scope=col>&lt;int&gt;</th></tr>\n",
       "</thead>\n",
       "<tbody>\n",
       "\t<tr><td> 0</td><td>   2</td></tr>\n",
       "\t<tr><td> 1</td><td>   5</td></tr>\n",
       "\t<tr><td> 2</td><td>   7</td></tr>\n",
       "\t<tr><td> 3</td><td>   1</td></tr>\n",
       "\t<tr><td> 4</td><td>   3</td></tr>\n",
       "\t<tr><td> 5</td><td>   5</td></tr>\n",
       "\t<tr><td> 7</td><td>   2</td></tr>\n",
       "\t<tr><td> 9</td><td>   1</td></tr>\n",
       "\t<tr><td>10</td><td>   1</td></tr>\n",
       "\t<tr><td>11</td><td>   1</td></tr>\n",
       "\t<tr><td>13</td><td>   1</td></tr>\n",
       "\t<tr><td>14</td><td>   2</td></tr>\n",
       "\t<tr><td>15</td><td>   1</td></tr>\n",
       "\t<tr><td>17</td><td>   1</td></tr>\n",
       "\t<tr><td>18</td><td>   1</td></tr>\n",
       "\t<tr><td>20</td><td>   1</td></tr>\n",
       "\t<tr><td>21</td><td>   1</td></tr>\n",
       "\t<tr><td>22</td><td>   1</td></tr>\n",
       "\t<tr><td>23</td><td>   1</td></tr>\n",
       "\t<tr><td>25</td><td>   1</td></tr>\n",
       "\t<tr><td>29</td><td>   1</td></tr>\n",
       "\t<tr><td>30</td><td>   1</td></tr>\n",
       "\t<tr><td>35</td><td>   1</td></tr>\n",
       "\t<tr><td>38</td><td>   1</td></tr>\n",
       "\t<tr><td>40</td><td>   1</td></tr>\n",
       "\t<tr><td>56</td><td>   1</td></tr>\n",
       "\t<tr><td>61</td><td>   2</td></tr>\n",
       "\t<tr><td>63</td><td>   1</td></tr>\n",
       "\t<tr><td>68</td><td>   1</td></tr>\n",
       "\t<tr><td>NA</td><td>1570</td></tr>\n",
       "</tbody>\n",
       "</table>\n"
      ],
      "text/latex": [
       "A data.frame: 30 × 2\n",
       "\\begin{tabular}{ll}\n",
       " days & n\\\\\n",
       " <dbl> & <int>\\\\\n",
       "\\hline\n",
       "\t  0 &    2\\\\\n",
       "\t  1 &    5\\\\\n",
       "\t  2 &    7\\\\\n",
       "\t  3 &    1\\\\\n",
       "\t  4 &    3\\\\\n",
       "\t  5 &    5\\\\\n",
       "\t  7 &    2\\\\\n",
       "\t  9 &    1\\\\\n",
       "\t 10 &    1\\\\\n",
       "\t 11 &    1\\\\\n",
       "\t 13 &    1\\\\\n",
       "\t 14 &    2\\\\\n",
       "\t 15 &    1\\\\\n",
       "\t 17 &    1\\\\\n",
       "\t 18 &    1\\\\\n",
       "\t 20 &    1\\\\\n",
       "\t 21 &    1\\\\\n",
       "\t 22 &    1\\\\\n",
       "\t 23 &    1\\\\\n",
       "\t 25 &    1\\\\\n",
       "\t 29 &    1\\\\\n",
       "\t 30 &    1\\\\\n",
       "\t 35 &    1\\\\\n",
       "\t 38 &    1\\\\\n",
       "\t 40 &    1\\\\\n",
       "\t 56 &    1\\\\\n",
       "\t 61 &    2\\\\\n",
       "\t 63 &    1\\\\\n",
       "\t 68 &    1\\\\\n",
       "\t NA & 1570\\\\\n",
       "\\end{tabular}\n"
      ],
      "text/markdown": [
       "\n",
       "A data.frame: 30 × 2\n",
       "\n",
       "| days &lt;dbl&gt; | n &lt;int&gt; |\n",
       "|---|---|\n",
       "|  0 |    2 |\n",
       "|  1 |    5 |\n",
       "|  2 |    7 |\n",
       "|  3 |    1 |\n",
       "|  4 |    3 |\n",
       "|  5 |    5 |\n",
       "|  7 |    2 |\n",
       "|  9 |    1 |\n",
       "| 10 |    1 |\n",
       "| 11 |    1 |\n",
       "| 13 |    1 |\n",
       "| 14 |    2 |\n",
       "| 15 |    1 |\n",
       "| 17 |    1 |\n",
       "| 18 |    1 |\n",
       "| 20 |    1 |\n",
       "| 21 |    1 |\n",
       "| 22 |    1 |\n",
       "| 23 |    1 |\n",
       "| 25 |    1 |\n",
       "| 29 |    1 |\n",
       "| 30 |    1 |\n",
       "| 35 |    1 |\n",
       "| 38 |    1 |\n",
       "| 40 |    1 |\n",
       "| 56 |    1 |\n",
       "| 61 |    2 |\n",
       "| 63 |    1 |\n",
       "| 68 |    1 |\n",
       "| NA | 1570 |\n",
       "\n"
      ],
      "text/plain": [
       "   days n   \n",
       "1   0      2\n",
       "2   1      5\n",
       "3   2      7\n",
       "4   3      1\n",
       "5   4      3\n",
       "6   5      5\n",
       "7   7      2\n",
       "8   9      1\n",
       "9  10      1\n",
       "10 11      1\n",
       "11 13      1\n",
       "12 14      2\n",
       "13 15      1\n",
       "14 17      1\n",
       "15 18      1\n",
       "16 20      1\n",
       "17 21      1\n",
       "18 22      1\n",
       "19 23      1\n",
       "20 25      1\n",
       "21 29      1\n",
       "22 30      1\n",
       "23 35      1\n",
       "24 38      1\n",
       "25 40      1\n",
       "26 56      1\n",
       "27 61      2\n",
       "28 63      1\n",
       "29 68      1\n",
       "30 NA   1570"
      ]
     },
     "metadata": {},
     "output_type": "display_data"
    }
   ],
   "source": [
    "# create a column with the number of days between the disease investigation and death\n",
    "\n",
    "data$dt_hospitalization <- as.Date(data$dt_hospitalization)\n",
    "data$dt_death <- as.Date(data$dt_death)\n",
    "\n",
    "data %>% mutate(days = difftime(dt_death, dt_hospitalization, units = 'days')) -> data\n",
    "\n",
    "data$days <- as.numeric(data$days)\n",
    "\n",
    "data %>% count(days)"
   ]
  },
  {
   "cell_type": "markdown",
   "id": "34d389a6",
   "metadata": {},
   "source": [
    "### Filter 3.4: remove patients that died with more than 30 days after hospital admission"
   ]
  },
  {
   "cell_type": "code",
   "execution_count": 51,
   "id": "82471837",
   "metadata": {},
   "outputs": [
    {
     "data": {
      "text/html": [
       "<table class=\"dataframe\">\n",
       "<caption>A data.frame: 2 × 2</caption>\n",
       "<thead>\n",
       "\t<tr><th scope=col>death</th><th scope=col>n</th></tr>\n",
       "\t<tr><th scope=col>&lt;int&gt;</th><th scope=col>&lt;int&gt;</th></tr>\n",
       "</thead>\n",
       "<tbody>\n",
       "\t<tr><td>0</td><td>1567</td></tr>\n",
       "\t<tr><td>1</td><td>  44</td></tr>\n",
       "</tbody>\n",
       "</table>\n"
      ],
      "text/latex": [
       "A data.frame: 2 × 2\n",
       "\\begin{tabular}{ll}\n",
       " death & n\\\\\n",
       " <int> & <int>\\\\\n",
       "\\hline\n",
       "\t 0 & 1567\\\\\n",
       "\t 1 &   44\\\\\n",
       "\\end{tabular}\n"
      ],
      "text/markdown": [
       "\n",
       "A data.frame: 2 × 2\n",
       "\n",
       "| death &lt;int&gt; | n &lt;int&gt; |\n",
       "|---|---|\n",
       "| 0 | 1567 |\n",
       "| 1 |   44 |\n",
       "\n"
      ],
      "text/plain": [
       "  death n   \n",
       "1 0     1567\n",
       "2 1       44"
      ]
     },
     "metadata": {},
     "output_type": "display_data"
    },
    {
     "data": {
      "text/html": [
       "<style>\n",
       ".list-inline {list-style: none; margin:0; padding: 0}\n",
       ".list-inline>li {display: inline-block}\n",
       ".list-inline>li:not(:last-child)::after {content: \"\\00b7\"; padding: 0 .5ex}\n",
       "</style>\n",
       "<ol class=list-inline><li>1611</li><li>35</li></ol>\n"
      ],
      "text/latex": [
       "\\begin{enumerate*}\n",
       "\\item 1611\n",
       "\\item 35\n",
       "\\end{enumerate*}\n"
      ],
      "text/markdown": [
       "1. 1611\n",
       "2. 35\n",
       "\n",
       "\n"
      ],
      "text/plain": [
       "[1] 1611   35"
      ]
     },
     "metadata": {},
     "output_type": "display_data"
    },
    {
     "data": {
      "text/html": [
       "<style>\n",
       ".list-inline {list-style: none; margin:0; padding: 0}\n",
       ".list-inline>li {display: inline-block}\n",
       ".list-inline>li:not(:last-child)::after {content: \"\\00b7\"; padding: 0 .5ex}\n",
       "</style>\n",
       "<ol class=list-inline><li>'fever'</li><li>'myalgia'</li><li>'headache'</li><li>'exanthema'</li><li>'vomiting'</li><li>'nausea'</li><li>'back_pain'</li><li>'conjunctivitis'</li><li>'arthritis'</li><li>'arthralgia'</li><li>'petechiae'</li><li>'leukopenia'</li><li>'lasso_prove'</li><li>'retro_orbital_pain'</li><li>'diabetes'</li><li>'hematological_diseases'</li><li>'hepatopathies'</li><li>'chronic_kidney_disease'</li><li>'arterial_hypertension'</li><li>'acid_peptic_disease'</li><li>'autoimmune_diseases'</li><li>'hospitalization'</li><li>'id_state'</li><li>'id_place'</li><li>'dt_first_symptoms'</li><li>'epidemiological_week'</li><li>'race'</li><li>'schooling_years'</li><li>'dt_hospitalization'</li><li>'death'</li><li>'dt_death'</li><li>'age'</li><li>'sex'</li><li>'pregnancy'</li><li>'days'</li></ol>\n"
      ],
      "text/latex": [
       "\\begin{enumerate*}\n",
       "\\item 'fever'\n",
       "\\item 'myalgia'\n",
       "\\item 'headache'\n",
       "\\item 'exanthema'\n",
       "\\item 'vomiting'\n",
       "\\item 'nausea'\n",
       "\\item 'back\\_pain'\n",
       "\\item 'conjunctivitis'\n",
       "\\item 'arthritis'\n",
       "\\item 'arthralgia'\n",
       "\\item 'petechiae'\n",
       "\\item 'leukopenia'\n",
       "\\item 'lasso\\_prove'\n",
       "\\item 'retro\\_orbital\\_pain'\n",
       "\\item 'diabetes'\n",
       "\\item 'hematological\\_diseases'\n",
       "\\item 'hepatopathies'\n",
       "\\item 'chronic\\_kidney\\_disease'\n",
       "\\item 'arterial\\_hypertension'\n",
       "\\item 'acid\\_peptic\\_disease'\n",
       "\\item 'autoimmune\\_diseases'\n",
       "\\item 'hospitalization'\n",
       "\\item 'id\\_state'\n",
       "\\item 'id\\_place'\n",
       "\\item 'dt\\_first\\_symptoms'\n",
       "\\item 'epidemiological\\_week'\n",
       "\\item 'race'\n",
       "\\item 'schooling\\_years'\n",
       "\\item 'dt\\_hospitalization'\n",
       "\\item 'death'\n",
       "\\item 'dt\\_death'\n",
       "\\item 'age'\n",
       "\\item 'sex'\n",
       "\\item 'pregnancy'\n",
       "\\item 'days'\n",
       "\\end{enumerate*}\n"
      ],
      "text/markdown": [
       "1. 'fever'\n",
       "2. 'myalgia'\n",
       "3. 'headache'\n",
       "4. 'exanthema'\n",
       "5. 'vomiting'\n",
       "6. 'nausea'\n",
       "7. 'back_pain'\n",
       "8. 'conjunctivitis'\n",
       "9. 'arthritis'\n",
       "10. 'arthralgia'\n",
       "11. 'petechiae'\n",
       "12. 'leukopenia'\n",
       "13. 'lasso_prove'\n",
       "14. 'retro_orbital_pain'\n",
       "15. 'diabetes'\n",
       "16. 'hematological_diseases'\n",
       "17. 'hepatopathies'\n",
       "18. 'chronic_kidney_disease'\n",
       "19. 'arterial_hypertension'\n",
       "20. 'acid_peptic_disease'\n",
       "21. 'autoimmune_diseases'\n",
       "22. 'hospitalization'\n",
       "23. 'id_state'\n",
       "24. 'id_place'\n",
       "25. 'dt_first_symptoms'\n",
       "26. 'epidemiological_week'\n",
       "27. 'race'\n",
       "28. 'schooling_years'\n",
       "29. 'dt_hospitalization'\n",
       "30. 'death'\n",
       "31. 'dt_death'\n",
       "32. 'age'\n",
       "33. 'sex'\n",
       "34. 'pregnancy'\n",
       "35. 'days'\n",
       "\n",
       "\n"
      ],
      "text/plain": [
       " [1] \"fever\"                  \"myalgia\"                \"headache\"              \n",
       " [4] \"exanthema\"              \"vomiting\"               \"nausea\"                \n",
       " [7] \"back_pain\"              \"conjunctivitis\"         \"arthritis\"             \n",
       "[10] \"arthralgia\"             \"petechiae\"              \"leukopenia\"            \n",
       "[13] \"lasso_prove\"            \"retro_orbital_pain\"     \"diabetes\"              \n",
       "[16] \"hematological_diseases\" \"hepatopathies\"          \"chronic_kidney_disease\"\n",
       "[19] \"arterial_hypertension\"  \"acid_peptic_disease\"    \"autoimmune_diseases\"   \n",
       "[22] \"hospitalization\"        \"id_state\"               \"id_place\"              \n",
       "[25] \"dt_first_symptoms\"      \"epidemiological_week\"   \"race\"                  \n",
       "[28] \"schooling_years\"        \"dt_hospitalization\"     \"death\"                 \n",
       "[31] \"dt_death\"               \"age\"                    \"sex\"                   \n",
       "[34] \"pregnancy\"              \"days\"                  "
      ]
     },
     "metadata": {},
     "output_type": "display_data"
    }
   ],
   "source": [
    "# remove patients that died after 30 days of the first sympthoms\n",
    "\n",
    "data %>% filter(days < 31| is.na(days)) -> data\n",
    "\n",
    "data %>% count(death)\n",
    "data %>% dim\n",
    "data %>% colnames"
   ]
  },
  {
   "cell_type": "markdown",
   "id": "ef14e268",
   "metadata": {},
   "source": [
    "### Remove columns: not relevant for this dataset"
   ]
  },
  {
   "cell_type": "code",
   "execution_count": 52,
   "id": "54e18c89",
   "metadata": {},
   "outputs": [
    {
     "data": {
      "text/html": [
       "<style>\n",
       ".list-inline {list-style: none; margin:0; padding: 0}\n",
       ".list-inline>li {display: inline-block}\n",
       ".list-inline>li:not(:last-child)::after {content: \"\\00b7\"; padding: 0 .5ex}\n",
       "</style>\n",
       "<ol class=list-inline><li>1611</li><li>30</li></ol>\n"
      ],
      "text/latex": [
       "\\begin{enumerate*}\n",
       "\\item 1611\n",
       "\\item 30\n",
       "\\end{enumerate*}\n"
      ],
      "text/markdown": [
       "1. 1611\n",
       "2. 30\n",
       "\n",
       "\n"
      ],
      "text/plain": [
       "[1] 1611   30"
      ]
     },
     "metadata": {},
     "output_type": "display_data"
    },
    {
     "data": {
      "text/html": [
       "<style>\n",
       ".dl-inline {width: auto; margin:0; padding: 0}\n",
       ".dl-inline>dt, .dl-inline>dd {float: none; width: auto; display: inline-block}\n",
       ".dl-inline>dt::after {content: \":\\0020\"; padding-right: .5ex}\n",
       ".dl-inline>dt:not(:first-of-type) {padding-left: .5ex}\n",
       "</style><dl class=dl-inline><dt>fever</dt><dd>1404</dd><dt>myalgia</dt><dd>1196</dd><dt>headache</dt><dd>1077</dd><dt>exanthema</dt><dd>440</dd><dt>vomiting</dt><dd>398</dd><dt>nausea</dt><dd>585</dd><dt>back_pain</dt><dd>521</dd><dt>conjunctivitis</dt><dd>88</dd><dt>arthritis</dt><dd>415</dd><dt>arthralgia</dt><dd>1041</dd><dt>petechiae</dt><dd>263</dd><dt>leukopenia</dt><dd>115</dd><dt>lasso_prove</dt><dd>44</dd><dt>retro_orbital_pain</dt><dd>300</dd><dt>diabetes</dt><dd>135</dd><dt>hematological_diseases</dt><dd>20</dd><dt>hepatopathies</dt><dd>18</dd><dt>chronic_kidney_disease</dt><dd>20</dd><dt>arterial_hypertension</dt><dd>301</dd><dt>acid_peptic_disease</dt><dd>18</dd><dt>autoimmune_diseases</dt><dd>18</dd><dt>id_state</dt><dd>41229</dd><dt>id_place</dt><dd>5461599010</dd><dt>epidemiological_week</dt><dd>31772</dd><dt>race</dt><dd>5392</dd><dt>schooling_years</dt><dd>7582</dd><dt>death</dt><dd>44</dd><dt>age</dt><dd>71221</dd><dt>sex</dt><dd>977</dd><dt>pregnancy</dt><dd>63</dd></dl>\n"
      ],
      "text/latex": [
       "\\begin{description*}\n",
       "\\item[fever] 1404\n",
       "\\item[myalgia] 1196\n",
       "\\item[headache] 1077\n",
       "\\item[exanthema] 440\n",
       "\\item[vomiting] 398\n",
       "\\item[nausea] 585\n",
       "\\item[back\\textbackslash{}\\_pain] 521\n",
       "\\item[conjunctivitis] 88\n",
       "\\item[arthritis] 415\n",
       "\\item[arthralgia] 1041\n",
       "\\item[petechiae] 263\n",
       "\\item[leukopenia] 115\n",
       "\\item[lasso\\textbackslash{}\\_prove] 44\n",
       "\\item[retro\\textbackslash{}\\_orbital\\textbackslash{}\\_pain] 300\n",
       "\\item[diabetes] 135\n",
       "\\item[hematological\\textbackslash{}\\_diseases] 20\n",
       "\\item[hepatopathies] 18\n",
       "\\item[chronic\\textbackslash{}\\_kidney\\textbackslash{}\\_disease] 20\n",
       "\\item[arterial\\textbackslash{}\\_hypertension] 301\n",
       "\\item[acid\\textbackslash{}\\_peptic\\textbackslash{}\\_disease] 18\n",
       "\\item[autoimmune\\textbackslash{}\\_diseases] 18\n",
       "\\item[id\\textbackslash{}\\_state] 41229\n",
       "\\item[id\\textbackslash{}\\_place] 5461599010\n",
       "\\item[epidemiological\\textbackslash{}\\_week] 31772\n",
       "\\item[race] 5392\n",
       "\\item[schooling\\textbackslash{}\\_years] 7582\n",
       "\\item[death] 44\n",
       "\\item[age] 71221\n",
       "\\item[sex] 977\n",
       "\\item[pregnancy] 63\n",
       "\\end{description*}\n"
      ],
      "text/markdown": [
       "fever\n",
       ":   1404myalgia\n",
       ":   1196headache\n",
       ":   1077exanthema\n",
       ":   440vomiting\n",
       ":   398nausea\n",
       ":   585back_pain\n",
       ":   521conjunctivitis\n",
       ":   88arthritis\n",
       ":   415arthralgia\n",
       ":   1041petechiae\n",
       ":   263leukopenia\n",
       ":   115lasso_prove\n",
       ":   44retro_orbital_pain\n",
       ":   300diabetes\n",
       ":   135hematological_diseases\n",
       ":   20hepatopathies\n",
       ":   18chronic_kidney_disease\n",
       ":   20arterial_hypertension\n",
       ":   301acid_peptic_disease\n",
       ":   18autoimmune_diseases\n",
       ":   18id_state\n",
       ":   41229id_place\n",
       ":   5461599010epidemiological_week\n",
       ":   31772race\n",
       ":   5392schooling_years\n",
       ":   7582death\n",
       ":   44age\n",
       ":   71221sex\n",
       ":   977pregnancy\n",
       ":   63\n",
       "\n"
      ],
      "text/plain": [
       "                 fever                myalgia               headache \n",
       "                  1404                   1196                   1077 \n",
       "             exanthema               vomiting                 nausea \n",
       "                   440                    398                    585 \n",
       "             back_pain         conjunctivitis              arthritis \n",
       "                   521                     88                    415 \n",
       "            arthralgia              petechiae             leukopenia \n",
       "                  1041                    263                    115 \n",
       "           lasso_prove     retro_orbital_pain               diabetes \n",
       "                    44                    300                    135 \n",
       "hematological_diseases          hepatopathies chronic_kidney_disease \n",
       "                    20                     18                     20 \n",
       " arterial_hypertension    acid_peptic_disease    autoimmune_diseases \n",
       "                   301                     18                     18 \n",
       "              id_state               id_place   epidemiological_week \n",
       "                 41229             5461599010                  31772 \n",
       "                  race        schooling_years                  death \n",
       "                  5392                   7582                     44 \n",
       "                   age                    sex              pregnancy \n",
       "                 71221                    977                     63 "
      ]
     },
     "metadata": {},
     "output_type": "display_data"
    }
   ],
   "source": [
    "data %>% select(-c(dt_first_symptoms, hospitalization, dt_hospitalization, dt_death, days)) -> data\n",
    "data %>% dim\n",
    "\n",
    "# check how many patients present a each symptoms \n",
    "\n",
    "colSums(data)"
   ]
  },
  {
   "cell_type": "code",
   "execution_count": 53,
   "id": "07486b90",
   "metadata": {},
   "outputs": [
    {
     "data": {
      "text/html": [
       "<style>\n",
       ".dl-inline {width: auto; margin:0; padding: 0}\n",
       ".dl-inline>dt, .dl-inline>dd {float: none; width: auto; display: inline-block}\n",
       ".dl-inline>dt::after {content: \":\\0020\"; padding-right: .5ex}\n",
       ".dl-inline>dt:not(:first-of-type) {padding-left: .5ex}\n",
       "</style><dl class=dl-inline><dt>fever</dt><dd>39</dd><dt>myalgia</dt><dd>28</dd><dt>headache</dt><dd>26</dd><dt>exanthema</dt><dd>8</dd><dt>vomiting</dt><dd>16</dd><dt>nausea</dt><dd>15</dd><dt>back_pain</dt><dd>8</dd><dt>conjunctivitis</dt><dd>2</dd><dt>arthritis</dt><dd>8</dd><dt>arthralgia</dt><dd>28</dd><dt>petechiae</dt><dd>2</dd><dt>leukopenia</dt><dd>2</dd><dt>lasso_prove</dt><dd>0</dd><dt>retro_orbital_pain</dt><dd>4</dd><dt>diabetes</dt><dd>9</dd><dt>hematological_diseases</dt><dd>1</dd><dt>hepatopathies</dt><dd>3</dd><dt>chronic_kidney_disease</dt><dd>5</dd><dt>arterial_hypertension</dt><dd>17</dd><dt>acid_peptic_disease</dt><dd>0</dd><dt>autoimmune_diseases</dt><dd>0</dd><dt>id_state</dt><dd>1126</dd><dt>id_place</dt><dd>142094684</dd><dt>epidemiological_week</dt><dd>882</dd><dt>race</dt><dd>148</dd><dt>schooling_years</dt><dd>199</dd><dt>death</dt><dd>44</dd><dt>age</dt><dd>2395</dd><dt>sex</dt><dd>19</dd><dt>pregnancy</dt><dd>1</dd></dl>\n"
      ],
      "text/latex": [
       "\\begin{description*}\n",
       "\\item[fever] 39\n",
       "\\item[myalgia] 28\n",
       "\\item[headache] 26\n",
       "\\item[exanthema] 8\n",
       "\\item[vomiting] 16\n",
       "\\item[nausea] 15\n",
       "\\item[back\\textbackslash{}\\_pain] 8\n",
       "\\item[conjunctivitis] 2\n",
       "\\item[arthritis] 8\n",
       "\\item[arthralgia] 28\n",
       "\\item[petechiae] 2\n",
       "\\item[leukopenia] 2\n",
       "\\item[lasso\\textbackslash{}\\_prove] 0\n",
       "\\item[retro\\textbackslash{}\\_orbital\\textbackslash{}\\_pain] 4\n",
       "\\item[diabetes] 9\n",
       "\\item[hematological\\textbackslash{}\\_diseases] 1\n",
       "\\item[hepatopathies] 3\n",
       "\\item[chronic\\textbackslash{}\\_kidney\\textbackslash{}\\_disease] 5\n",
       "\\item[arterial\\textbackslash{}\\_hypertension] 17\n",
       "\\item[acid\\textbackslash{}\\_peptic\\textbackslash{}\\_disease] 0\n",
       "\\item[autoimmune\\textbackslash{}\\_diseases] 0\n",
       "\\item[id\\textbackslash{}\\_state] 1126\n",
       "\\item[id\\textbackslash{}\\_place] 142094684\n",
       "\\item[epidemiological\\textbackslash{}\\_week] 882\n",
       "\\item[race] 148\n",
       "\\item[schooling\\textbackslash{}\\_years] 199\n",
       "\\item[death] 44\n",
       "\\item[age] 2395\n",
       "\\item[sex] 19\n",
       "\\item[pregnancy] 1\n",
       "\\end{description*}\n"
      ],
      "text/markdown": [
       "fever\n",
       ":   39myalgia\n",
       ":   28headache\n",
       ":   26exanthema\n",
       ":   8vomiting\n",
       ":   16nausea\n",
       ":   15back_pain\n",
       ":   8conjunctivitis\n",
       ":   2arthritis\n",
       ":   8arthralgia\n",
       ":   28petechiae\n",
       ":   2leukopenia\n",
       ":   2lasso_prove\n",
       ":   0retro_orbital_pain\n",
       ":   4diabetes\n",
       ":   9hematological_diseases\n",
       ":   1hepatopathies\n",
       ":   3chronic_kidney_disease\n",
       ":   5arterial_hypertension\n",
       ":   17acid_peptic_disease\n",
       ":   0autoimmune_diseases\n",
       ":   0id_state\n",
       ":   1126id_place\n",
       ":   142094684epidemiological_week\n",
       ":   882race\n",
       ":   148schooling_years\n",
       ":   199death\n",
       ":   44age\n",
       ":   2395sex\n",
       ":   19pregnancy\n",
       ":   1\n",
       "\n"
      ],
      "text/plain": [
       "                 fever                myalgia               headache \n",
       "                    39                     28                     26 \n",
       "             exanthema               vomiting                 nausea \n",
       "                     8                     16                     15 \n",
       "             back_pain         conjunctivitis              arthritis \n",
       "                     8                      2                      8 \n",
       "            arthralgia              petechiae             leukopenia \n",
       "                    28                      2                      2 \n",
       "           lasso_prove     retro_orbital_pain               diabetes \n",
       "                     0                      4                      9 \n",
       "hematological_diseases          hepatopathies chronic_kidney_disease \n",
       "                     1                      3                      5 \n",
       " arterial_hypertension    acid_peptic_disease    autoimmune_diseases \n",
       "                    17                      0                      0 \n",
       "              id_state               id_place   epidemiological_week \n",
       "                  1126              142094684                    882 \n",
       "                  race        schooling_years                  death \n",
       "                   148                    199                     44 \n",
       "                   age                    sex              pregnancy \n",
       "                  2395                     19                      1 "
      ]
     },
     "metadata": {},
     "output_type": "display_data"
    }
   ],
   "source": [
    "# check symptoms presence in death cases\n",
    "\n",
    "data %>% filter(death == 1) -> death\n",
    "death %>% colSums"
   ]
  },
  {
   "cell_type": "markdown",
   "id": "bbce4f70",
   "metadata": {},
   "source": [
    "### Remove columns: remove symptoms present in less 10% of the hospitalized patients"
   ]
  },
  {
   "cell_type": "code",
   "execution_count": 54,
   "id": "433a4556",
   "metadata": {},
   "outputs": [
    {
     "data": {
      "text/html": [
       "<style>\n",
       ".list-inline {list-style: none; margin:0; padding: 0}\n",
       ".list-inline>li {display: inline-block}\n",
       ".list-inline>li:not(:last-child)::after {content: \"\\00b7\"; padding: 0 .5ex}\n",
       "</style>\n",
       "<ol class=list-inline><li>'fever'</li><li>'myalgia'</li><li>'headache'</li><li>'exanthema'</li><li>'vomiting'</li><li>'nausea'</li><li>'back_pain'</li><li>'arthritis'</li><li>'arthralgia'</li><li>'diabetes'</li><li>'chronic_kidney_disease'</li><li>'arterial_hypertension'</li><li>'id_state'</li><li>'id_place'</li><li>'epidemiological_week'</li><li>'race'</li><li>'schooling_years'</li><li>'death'</li><li>'age'</li><li>'sex'</li></ol>\n"
      ],
      "text/latex": [
       "\\begin{enumerate*}\n",
       "\\item 'fever'\n",
       "\\item 'myalgia'\n",
       "\\item 'headache'\n",
       "\\item 'exanthema'\n",
       "\\item 'vomiting'\n",
       "\\item 'nausea'\n",
       "\\item 'back\\_pain'\n",
       "\\item 'arthritis'\n",
       "\\item 'arthralgia'\n",
       "\\item 'diabetes'\n",
       "\\item 'chronic\\_kidney\\_disease'\n",
       "\\item 'arterial\\_hypertension'\n",
       "\\item 'id\\_state'\n",
       "\\item 'id\\_place'\n",
       "\\item 'epidemiological\\_week'\n",
       "\\item 'race'\n",
       "\\item 'schooling\\_years'\n",
       "\\item 'death'\n",
       "\\item 'age'\n",
       "\\item 'sex'\n",
       "\\end{enumerate*}\n"
      ],
      "text/markdown": [
       "1. 'fever'\n",
       "2. 'myalgia'\n",
       "3. 'headache'\n",
       "4. 'exanthema'\n",
       "5. 'vomiting'\n",
       "6. 'nausea'\n",
       "7. 'back_pain'\n",
       "8. 'arthritis'\n",
       "9. 'arthralgia'\n",
       "10. 'diabetes'\n",
       "11. 'chronic_kidney_disease'\n",
       "12. 'arterial_hypertension'\n",
       "13. 'id_state'\n",
       "14. 'id_place'\n",
       "15. 'epidemiological_week'\n",
       "16. 'race'\n",
       "17. 'schooling_years'\n",
       "18. 'death'\n",
       "19. 'age'\n",
       "20. 'sex'\n",
       "\n",
       "\n"
      ],
      "text/plain": [
       " [1] \"fever\"                  \"myalgia\"                \"headache\"              \n",
       " [4] \"exanthema\"              \"vomiting\"               \"nausea\"                \n",
       " [7] \"back_pain\"              \"arthritis\"              \"arthralgia\"            \n",
       "[10] \"diabetes\"               \"chronic_kidney_disease\" \"arterial_hypertension\" \n",
       "[13] \"id_state\"               \"id_place\"               \"epidemiological_week\"  \n",
       "[16] \"race\"                   \"schooling_years\"        \"death\"                 \n",
       "[19] \"age\"                    \"sex\"                   "
      ]
     },
     "metadata": {},
     "output_type": "display_data"
    },
    {
     "data": {
      "text/html": [
       "<style>\n",
       ".list-inline {list-style: none; margin:0; padding: 0}\n",
       ".list-inline>li {display: inline-block}\n",
       ".list-inline>li:not(:last-child)::after {content: \"\\00b7\"; padding: 0 .5ex}\n",
       "</style>\n",
       "<ol class=list-inline><li>'fever'</li><li>'myalgia'</li><li>'headache'</li><li>'exanthema'</li><li>'vomiting'</li><li>'nausea'</li><li>'back_pain'</li><li>'arthritis'</li><li>'arthralgia'</li><li>'diabetes'</li><li>'chronic_kidney_disease'</li><li>'arterial_hypertension'</li><li>'id_state'</li><li>'id_place'</li><li>'epidemiological_week'</li><li>'race'</li><li>'schooling_years'</li><li>'death'</li><li>'age'</li><li>'sex'</li></ol>\n"
      ],
      "text/latex": [
       "\\begin{enumerate*}\n",
       "\\item 'fever'\n",
       "\\item 'myalgia'\n",
       "\\item 'headache'\n",
       "\\item 'exanthema'\n",
       "\\item 'vomiting'\n",
       "\\item 'nausea'\n",
       "\\item 'back\\_pain'\n",
       "\\item 'arthritis'\n",
       "\\item 'arthralgia'\n",
       "\\item 'diabetes'\n",
       "\\item 'chronic\\_kidney\\_disease'\n",
       "\\item 'arterial\\_hypertension'\n",
       "\\item 'id\\_state'\n",
       "\\item 'id\\_place'\n",
       "\\item 'epidemiological\\_week'\n",
       "\\item 'race'\n",
       "\\item 'schooling\\_years'\n",
       "\\item 'death'\n",
       "\\item 'age'\n",
       "\\item 'sex'\n",
       "\\end{enumerate*}\n"
      ],
      "text/markdown": [
       "1. 'fever'\n",
       "2. 'myalgia'\n",
       "3. 'headache'\n",
       "4. 'exanthema'\n",
       "5. 'vomiting'\n",
       "6. 'nausea'\n",
       "7. 'back_pain'\n",
       "8. 'arthritis'\n",
       "9. 'arthralgia'\n",
       "10. 'diabetes'\n",
       "11. 'chronic_kidney_disease'\n",
       "12. 'arterial_hypertension'\n",
       "13. 'id_state'\n",
       "14. 'id_place'\n",
       "15. 'epidemiological_week'\n",
       "16. 'race'\n",
       "17. 'schooling_years'\n",
       "18. 'death'\n",
       "19. 'age'\n",
       "20. 'sex'\n",
       "\n",
       "\n"
      ],
      "text/plain": [
       " [1] \"fever\"                  \"myalgia\"                \"headache\"              \n",
       " [4] \"exanthema\"              \"vomiting\"               \"nausea\"                \n",
       " [7] \"back_pain\"              \"arthritis\"              \"arthralgia\"            \n",
       "[10] \"diabetes\"               \"chronic_kidney_disease\" \"arterial_hypertension\" \n",
       "[13] \"id_state\"               \"id_place\"               \"epidemiological_week\"  \n",
       "[16] \"race\"                   \"schooling_years\"        \"death\"                 \n",
       "[19] \"age\"                    \"sex\"                   "
      ]
     },
     "metadata": {},
     "output_type": "display_data"
    },
    {
     "data": {
      "text/html": [
       "<style>\n",
       ".list-inline {list-style: none; margin:0; padding: 0}\n",
       ".list-inline>li {display: inline-block}\n",
       ".list-inline>li:not(:last-child)::after {content: \"\\00b7\"; padding: 0 .5ex}\n",
       "</style>\n",
       "<ol class=list-inline><li>1611</li><li>20</li></ol>\n"
      ],
      "text/latex": [
       "\\begin{enumerate*}\n",
       "\\item 1611\n",
       "\\item 20\n",
       "\\end{enumerate*}\n"
      ],
      "text/markdown": [
       "1. 1611\n",
       "2. 20\n",
       "\n",
       "\n"
      ],
      "text/plain": [
       "[1] 1611   20"
      ]
     },
     "metadata": {},
     "output_type": "display_data"
    },
    {
     "data": {
      "text/html": [
       "<table class=\"dataframe\">\n",
       "<caption>A data.frame: 2 × 2</caption>\n",
       "<thead>\n",
       "\t<tr><th scope=col>death</th><th scope=col>n</th></tr>\n",
       "\t<tr><th scope=col>&lt;int&gt;</th><th scope=col>&lt;int&gt;</th></tr>\n",
       "</thead>\n",
       "<tbody>\n",
       "\t<tr><td>0</td><td>1567</td></tr>\n",
       "\t<tr><td>1</td><td>  44</td></tr>\n",
       "</tbody>\n",
       "</table>\n"
      ],
      "text/latex": [
       "A data.frame: 2 × 2\n",
       "\\begin{tabular}{ll}\n",
       " death & n\\\\\n",
       " <int> & <int>\\\\\n",
       "\\hline\n",
       "\t 0 & 1567\\\\\n",
       "\t 1 &   44\\\\\n",
       "\\end{tabular}\n"
      ],
      "text/markdown": [
       "\n",
       "A data.frame: 2 × 2\n",
       "\n",
       "| death &lt;int&gt; | n &lt;int&gt; |\n",
       "|---|---|\n",
       "| 0 | 1567 |\n",
       "| 1 |   44 |\n",
       "\n"
      ],
      "text/plain": [
       "  death n   \n",
       "1 0     1567\n",
       "2 1       44"
      ]
     },
     "metadata": {},
     "output_type": "display_data"
    }
   ],
   "source": [
    "selected_cols <- colnames(death)[colSums(death) > 4]\n",
    "\n",
    "selected_cols\n",
    "\n",
    "data <- data[, selected_cols]\n",
    "\n",
    "data %>% colnames\n",
    "\n",
    "data %>% dim\n",
    "\n",
    "data %>% count(death)"
   ]
  },
  {
   "cell_type": "code",
   "execution_count": 55,
   "id": "3f38d36b",
   "metadata": {},
   "outputs": [],
   "source": [
    "# change data order\n",
    "\n",
    "data %>% select(fever:schooling_years, age, sex, death) -> data\n",
    "\n",
    "# write the dataset\n",
    "\n",
    "data %>% write_csv('chikungunya_death_22.csv')"
   ]
  }
 ],
 "metadata": {
  "kernelspec": {
   "display_name": "R",
   "language": "R",
   "name": "ir"
  },
  "language_info": {
   "codemirror_mode": "r",
   "file_extension": ".r",
   "mimetype": "text/x-r-source",
   "name": "R",
   "pygments_lexer": "r",
   "version": "4.2.2"
  }
 },
 "nbformat": 4,
 "nbformat_minor": 5
}
